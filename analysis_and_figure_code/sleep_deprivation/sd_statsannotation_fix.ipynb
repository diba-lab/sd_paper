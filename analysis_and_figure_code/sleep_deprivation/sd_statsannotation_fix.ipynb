{
 "cells": [
  {
   "cell_type": "code",
   "execution_count": null,
   "metadata": {},
   "outputs": [],
   "source": [
    "import seaborn as sns\n",
    "import sys\n",
    "import pandas as pd\n",
    "\n",
    "sys.path.append(\"/home/bapung/Documents/Codes/statannotations/\")\n",
    "\n",
    "from statannotations.Annotator import Annotator\n",
    "\n",
    "df = sns.load_dataset(\"tips\")\n",
    "x = \"day\"\n",
    "y = \"total_bill\"\n",
    "order = [\"Sun\", \"Thur\", \"Fri\", \"Sat\"]\n",
    "\n",
    "ax = sns.boxplot(data=df, x=x, y=y, order=order)\n",
    "\n",
    "pairs = [(\"Thur\", \"Fri\"), (\"Thur\", \"Sat\"), (\"Fri\", \"Sun\")]\n",
    "\n",
    "annotator = Annotator(ax, pairs, data=df, x=x, y=y, order=order)\n",
    "annotator.configure(test=\"Mann-Whitney\", text_format=\"star\", loc=\"outside\")\n",
    "annotator.apply_and_annotate()"
   ]
  },
  {
   "cell_type": "markdown",
   "metadata": {},
   "source": [
    "### Make simple statannotation"
   ]
  },
  {
   "cell_type": "code",
   "execution_count": 2,
   "metadata": {},
   "outputs": [
    {
     "ename": "NameError",
     "evalue": "name 'plt' is not defined",
     "output_type": "error",
     "traceback": [
      "\u001b[0;31m---------------------------------------------------------------------------\u001b[0m",
      "\u001b[0;31mNameError\u001b[0m                                 Traceback (most recent call last)",
      "Cell \u001b[0;32mIn[2], line 8\u001b[0m\n\u001b[1;32m      5\u001b[0m y \u001b[39m=\u001b[39m \u001b[39m\"\u001b[39m\u001b[39mtotal_bill\u001b[39m\u001b[39m\"\u001b[39m\n\u001b[1;32m      6\u001b[0m order \u001b[39m=\u001b[39m [\u001b[39m\"\u001b[39m\u001b[39mSun\u001b[39m\u001b[39m\"\u001b[39m, \u001b[39m\"\u001b[39m\u001b[39mMon\u001b[39m\u001b[39m\"\u001b[39m, \u001b[39m\"\u001b[39m\u001b[39mThur\u001b[39m\u001b[39m\"\u001b[39m, \u001b[39m\"\u001b[39m\u001b[39mFri\u001b[39m\u001b[39m\"\u001b[39m, \u001b[39m\"\u001b[39m\u001b[39mSat\u001b[39m\u001b[39m\"\u001b[39m]\n\u001b[0;32m----> 8\u001b[0m _, ax \u001b[39m=\u001b[39m plt\u001b[39m.\u001b[39msubplots()\n\u001b[1;32m      9\u001b[0m ax \u001b[39m=\u001b[39m sns\u001b[39m.\u001b[39mboxplot(data\u001b[39m=\u001b[39mdf, x\u001b[39m=\u001b[39mx, y\u001b[39m=\u001b[39my, hue\u001b[39m=\u001b[39m\u001b[39m\"\u001b[39m\u001b[39msex\u001b[39m\u001b[39m\"\u001b[39m, order\u001b[39m=\u001b[39morder)\n\u001b[1;32m     11\u001b[0m pairs \u001b[39m=\u001b[39m [(\u001b[39m\"\u001b[39m\u001b[39mThur\u001b[39m\u001b[39m\"\u001b[39m, \u001b[39m\"\u001b[39m\u001b[39mFri\u001b[39m\u001b[39m\"\u001b[39m), (\u001b[39m\"\u001b[39m\u001b[39mFri\u001b[39m\u001b[39m\"\u001b[39m, \u001b[39m\"\u001b[39m\u001b[39mSat\u001b[39m\u001b[39m\"\u001b[39m)]\n",
      "\u001b[0;31mNameError\u001b[0m: name 'plt' is not defined"
     ]
    }
   ],
   "source": [
    "from statannotations.Annotator import Annotator\n",
    "\n",
    "df = sns.load_dataset(\"tips\")\n",
    "x = \"day\"\n",
    "y = \"total_bill\"\n",
    "order = [\"Sun\", \"Mon\", \"Thur\", \"Fri\", \"Sat\"]\n",
    "\n",
    "_, ax = plt.subplots()\n",
    "ax = sns.boxplot(data=df, x=x, y=y, hue=\"sex\", order=order)\n",
    "\n",
    "pairs = [(\"Thur\", \"Fri\"), (\"Fri\", \"Sat\")]\n",
    "\n",
    "x_ticks = ax.get_xticklabels()\n",
    "for pair in pairs:\n",
    "    x_val = df[df[x] == pair[0]]\n",
    "    y_val = df[df[y] == pair[1]]\n",
    "\n",
    "    # x_val_coord ="
   ]
  }
 ],
 "metadata": {
  "kernelspec": {
   "display_name": "statsannotation_fix",
   "language": "python",
   "name": "python3"
  },
  "language_info": {
   "codemirror_mode": {
    "name": "ipython",
    "version": 3
   },
   "file_extension": ".py",
   "mimetype": "text/x-python",
   "name": "python",
   "nbconvert_exporter": "python",
   "pygments_lexer": "ipython3",
   "version": "3.11.3"
  },
  "orig_nbformat": 4
 },
 "nbformat": 4,
 "nbformat_minor": 2
}
