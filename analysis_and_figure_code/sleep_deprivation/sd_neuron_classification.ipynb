{
 "cells": [
  {
   "cell_type": "markdown",
   "metadata": {},
   "source": [
    "### Imports"
   ]
  },
  {
   "cell_type": "code",
   "execution_count": null,
   "metadata": {},
   "outputs": [],
   "source": [
    "import numpy as np\n",
    "from neuropy.utils.neurons_util import calculate_neurons_acg\n",
    "import matplotlib.pyplot as plt\n",
    "import subjects\n",
    "from neuropy import plotting"
   ]
  },
  {
   "cell_type": "markdown",
   "metadata": {},
   "source": [
    "### Visualize ACGs"
   ]
  },
  {
   "cell_type": "code",
   "execution_count": null,
   "metadata": {},
   "outputs": [],
   "source": [
    "from neuropy.utils.mathutil import min_max_scaler\n",
    "\n",
    "sessions = subjects.sd.ratUday1\n",
    "\n",
    "for s,sess in enumerate(sessions):\n",
    "\n",
    "    neurons = sess.neurons_stable.get_neuron_type(['pyr','mua'])\n",
    "    neurons = neurons[neurons.firing_rate<=10]\n",
    "\n",
    "    frate = neurons.get_binned_spiketrains(bin_size=300).firing_rate\n",
    "    frate = min_max_scaler(frate,axis=-1)\n",
    "    t_frate = np.linspace(0,sess.eegfile.duration,frate.shape[1])/3600\n",
    "    # neurons = sess.neurons\n",
    "    n_spikes = neurons.n_spikes\n",
    "    isi = neurons.get_isi()\n",
    "    ref_spikes = isi[:,:2].sum(axis=1)\n",
    "    max_isi = isi.max(axis=1)\n",
    "    cont = ref_spikes/n_spikes\n",
    "    cont_rel_max = ref_spikes/max_isi\n",
    "\n",
    "\n",
    "    fp = 0.05  # accepted contamination level\n",
    "    T = sess.eegfile.duration\n",
    "    taur = 2e-3\n",
    "    tauc = 1e-3\n",
    "    nbadspikes = lambda N: 2 * (taur - tauc) * (N ** 2) * (1 - fp) * fp / T\n",
    "\n",
    "    expected_violations = [nbadspikes(_) for _ in n_spikes]\n",
    "\n",
    "    acgs = calculate_neurons_acg(neurons,bin_size=0.001,window_size=0.1)\n",
    "    t_ccg = np.linspace(-50,50,acgs.shape[1])\n",
    "\n",
    "    fig = plotting.Fig(grid=(8,8))\n",
    "    # _,axs = plt.subplots(4,5)\n",
    "    # axs = axs.reshape(-1)\n",
    "    for i,acg in enumerate(acgs):\n",
    "        # ax = axs[i]\n",
    "        ax = fig.subplot(fig.gs[i])\n",
    "        ax.plot(t_frate,frate[i])\n",
    "        ax.set_ylim(0,2)\n",
    "        ax.set_yticks([])\n",
    "        fig.toggle_spines(ax,sides=['left'],keep=False)\n",
    "\n",
    "        axin = ax.inset_axes([0.5,0.6,0.47,0.37])\n",
    "        axin.plot(t_ccg,acg)\n",
    "        axin.set_yticks([])\n",
    "        fig.toggle_spines(axin,sides=['left'],keep=False)\n",
    "\n",
    "    "
   ]
  }
 ],
 "metadata": {
  "interpreter": {
   "hash": "cce1618081139d19eb1ee8d40815d94a2de4f62e1efb20d9406ddb60628c36ae"
  },
  "kernelspec": {
   "display_name": "Python 3.10.4 ('data_analysis')",
   "language": "python",
   "name": "python3"
  },
  "language_info": {
   "codemirror_mode": {
    "name": "ipython",
    "version": 3
   },
   "file_extension": ".py",
   "mimetype": "text/x-python",
   "name": "python",
   "nbconvert_exporter": "python",
   "pygments_lexer": "ipython3",
   "version": "3.10.4"
  },
  "orig_nbformat": 4
 },
 "nbformat": 4,
 "nbformat_minor": 2
}
