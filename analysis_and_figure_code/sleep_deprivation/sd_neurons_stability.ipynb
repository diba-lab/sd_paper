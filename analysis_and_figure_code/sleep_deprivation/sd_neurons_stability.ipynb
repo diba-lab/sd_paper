{
 "cells": [
  {
   "attachments": {},
   "cell_type": "markdown",
   "metadata": {},
   "source": [
    "### Imports "
   ]
  },
  {
   "cell_type": "code",
   "execution_count": null,
   "metadata": {},
   "outputs": [],
   "source": [
    "import numpy as np\n",
    "import pandas as pd\n",
    "import seaborn as sns\n",
    "from scipy import stats\n",
    "import scipy.signal as sg\n",
    "import matplotlib.pyplot as plt\n",
    "from neuropy import plotting\n",
    "import subjects"
   ]
  },
  {
   "attachments": {},
   "cell_type": "markdown",
   "metadata": {},
   "source": [
    "### Waveform amplitude stability"
   ]
  },
  {
   "cell_type": "code",
   "execution_count": null,
   "metadata": {},
   "outputs": [],
   "source": [
    "import matplotlib.pyplot as plt\n",
    "import subjects\n",
    "import numpy as np\n",
    "from scipy import stats\n",
    "\n",
    "sessions = subjects.sd.ratSday3"
   ]
  },
  {
   "cell_type": "code",
   "execution_count": null,
   "metadata": {},
   "outputs": [],
   "source": [
    "for sub, sess in enumerate(sessions):\n",
    "    rec_duration = sess.eegfile.duration\n",
    "    t_bin = np.arange(0, rec_duration, 2 * 3600)\n",
    "    spktrns = sess.neurons.spiketrains\n",
    "    wav_amps = sess.neurons.waveforms_amplitude\n",
    "\n",
    "    mean_wav_amp = []\n",
    "    for spk, amp in zip(spktrns, wav_amps):\n",
    "        mean_wav_amp.append(\n",
    "            stats.binned_statistic(spk, amp, bins=t_bin, statistic=\"mean\")[0]\n",
    "        )\n",
    "    mean_wav_amp = np.asarray(mean_wav_amp)"
   ]
  },
  {
   "cell_type": "code",
   "execution_count": null,
   "metadata": {},
   "outputs": [],
   "source": [
    "%matplotlib widget\n",
    "\n",
    "plt.plot(mean_wav_amp.T)"
   ]
  },
  {
   "attachments": {},
   "cell_type": "markdown",
   "metadata": {},
   "source": [
    "### Stability viewer from phyio"
   ]
  },
  {
   "cell_type": "code",
   "execution_count": null,
   "metadata": {},
   "outputs": [],
   "source": [
    "import subjects\n",
    "import numpy as np\n",
    "from scipy import stats\n",
    "\n",
    "sess = subjects.sd.ratSday3[0]"
   ]
  },
  {
   "cell_type": "code",
   "execution_count": null,
   "metadata": {},
   "outputs": [],
   "source": [
    "neurons = sess.neurons_iso\n",
    "metrics = neurons.metadata[\"stability_metrics\"]"
   ]
  },
  {
   "cell_type": "code",
   "execution_count": null,
   "metadata": {},
   "outputs": [],
   "source": [
    "import seaborn as sns\n",
    "\n",
    "metrics = metrics.reset_index(drop=True)\n",
    "sns.relplot(\n",
    "    data=metrics,\n",
    "    x=\"epoch\",\n",
    "    y=\"isolation_distances\",\n",
    "    kind=\"line\",\n",
    "    col=\"cluster_id\",\n",
    "    col_wrap=5,\n",
    ")"
   ]
  },
  {
   "attachments": {},
   "cell_type": "markdown",
   "metadata": {},
   "source": [
    "### Waveform stability using mean waveforms"
   ]
  },
  {
   "cell_type": "code",
   "execution_count": null,
   "metadata": {},
   "outputs": [],
   "source": [
    "from neuropy.core import Signal\n",
    "from neuropy.utils.signal_process import filter_sig\n",
    "from palettable.cartocolors.qualitative import Pastel_6\n",
    "from spikemetrics import calculate_metrics, Epoch, calculate_pc_metrics\n",
    "from pathlib import Path\n",
    "\n",
    "rng = np.random.default_rng()\n",
    "sess = subjects.nsd.ratSday2[0]\n",
    "# neurons = sess.neurons_stable.get_neuron_type(\"pyr\")\n",
    "# neurons = sess.neurons.get_neuron_type(\"pyr\")\n",
    "neurons = sess.neurons\n",
    "clupath = Path(\n",
    "    \"/data/Clustering/sessions/RatS/Day2NSD/spykcirc/RatS-Day2NSD-2020-11-27_10-22-29-1.GUI/\"\n",
    ")\n",
    "pc_feat = np.load(clupath / \"pc_features.npy\", mmap_mode=\"r\")\n",
    "pc_feat_ind = np.load(clupath / \"pc_feature_ind.npy\", mmap_mode=\"r\")\n",
    "spike_clusters = np.load(clupath / \"spike_clusters.npy\", mmap_mode=\"r\")\n",
    "spike_times = np.load(clupath / \"spike_times.npy\", mmap_mode=\"r\")\n",
    "spike_templates = np.load(clupath / \"spike_templates.npy\", mmap_mode=\"r\")\n",
    "spike_amp = np.load(clupath / \"amplitudes.npy\", mmap_mode=\"r\")\n",
    "cluster_info = pd.read_csv(clupath / \"cluster_info.tsv\", sep=\"\\t\")\n",
    "\n",
    "\n",
    "def get_phy_id(indx):\n",
    "    n_spikes = len(neurons.spiketrains[indx])\n",
    "    phy_id = cluster_info[cluster_info.n_spikes == n_spikes][\"id\"].values\n",
    "    assert len(phy_id) == 1\n",
    "    return phy_id[0]"
   ]
  },
  {
   "cell_type": "code",
   "execution_count": null,
   "metadata": {},
   "outputs": [],
   "source": [
    "# ===== Which neurons to choose =========\n",
    "nspikes_stable_pyr = sess.neurons_stable.get_neuron_type(\"pyr\").n_spikes\n",
    "nspikes_all = sess.neurons.n_spikes\n",
    "stable_pyr_indx = np.where(np.isin(nspikes_all, nspikes_stable_pyr))\n",
    "unstable_pyr_indx = np.setdiff1d(\n",
    "    np.where(sess.neurons.neuron_type == \"pyr\")[0], stable_pyr_indx\n",
    ")\n",
    "stable_pyr_indx, unstable_pyr_indx"
   ]
  },
  {
   "cell_type": "code",
   "execution_count": null,
   "metadata": {},
   "outputs": [],
   "source": [
    "fig = plotting.Fig(grid=(15, 8), fontsize=8)\n",
    "cmap = Pastel_6.mpl_colors\n",
    "color_thresh = \"\"\n",
    "nframes = 60\n",
    "\n",
    "# neuron_indxs = [5, 10, 51] #index for stable pyr\n",
    "# neuron_indxs = [5, 13, 63, 7, 65] # index for all pyr\n",
    "# neuron_indxs = [8, 22, 106, 99, 112]  # index for all units\n",
    "neuron_indxs = [115, 22, 82, 16, 99, 112]  # index for all units\n",
    "# neuron_indxs = [57, 75, 83, 88]  # index for all units\n",
    "# neuron_indxs = [115]\n",
    "\n",
    "mean_frate = neurons.firing_rate[neuron_indxs]\n",
    "\n",
    "for i, neuron_indx in enumerate(neuron_indxs):\n",
    "    spktime = neurons.spiketrains[neuron_indx]\n",
    "    shank_id = neurons.shank_ids[neuron_indx]\n",
    "    channels = sess.recinfo.channel_groups[shank_id]\n",
    "    srate = sess.datfile.sampling_rate\n",
    "\n",
    "    rec_duration = sess.eegfile.duration\n",
    "    windows = np.linspace(0, rec_duration, 6)\n",
    "    spk_window_loc = np.digitize(spktime, windows)\n",
    "\n",
    "    subfig = fig.add_subfigure(fig.gs[0:4, i])\n",
    "    axs = subfig.subplots(1, 2, sharey=True, sharex=True)\n",
    "\n",
    "    for w, window_loc in enumerate([1, 5]):\n",
    "        spk_window = spktime[spk_window_loc == window_loc]\n",
    "        spk_window = np.sort(rng.choice(spk_window, 300))\n",
    "\n",
    "        spk_frames = (spk_window * srate).astype(\"int\")\n",
    "        start_frames = spk_frames - nframes // 2\n",
    "        frames_in_windows = np.concatenate([np.arange(f, f + 60) for f in start_frames])\n",
    "\n",
    "        lfp = sess.datfile._raw_traces[np.ix_(list(channels), frames_in_windows)]\n",
    "        lfp = filter_sig.highpass(lfp, cutoff=500, fs=srate)\n",
    "        lfp = lfp.reshape(len(channels), nframes, -1, order=\"F\").mean(axis=-1)\n",
    "\n",
    "        lfp = Signal(lfp, channel_id=channels, sampling_rate=30000)\n",
    "        plotting.plot_signal_traces(lfp, ax=axs[w], pad=0.7, color=cmap[i], lw=2)\n",
    "\n",
    "    window_frate = np.histogram(spktime, windows)[0] / np.diff(windows)\n",
    "\n",
    "    ax = fig.subplot(fig.gs[4, i])\n",
    "    ax.plot(\n",
    "        [1, 2, 3, 4, 5],\n",
    "        (window_frate / mean_frate[i]) * 100,\n",
    "        marker=\"o\",\n",
    "        color=cmap[i],\n",
    "        markersize=5,\n",
    "    )\n",
    "    ax.set_xticks(np.arange(5) + 1)\n",
    "    ax.axhline(25, color=\"gray\", lw=2)\n",
    "    ax.set_ylim(0, 300)\n",
    "\n",
    "# probe_data = sess.probegroup.to_dataframe()\n",
    "# chanmap = probe_data[probe_data.shank_id==0]\n",
    "x_coord = np.concatenate((np.arange(8), np.arange(8) + 15))\n",
    "y_coord = np.concatenate((np.arange(8) * 15, np.arange(8) * 15 + 15))\n",
    "window_epoch = [\n",
    "    Epoch(f\"window{i+1}\", e1, e2)\n",
    "    for i, (e1, e2) in enumerate(zip(windows[:-1], windows[1:]))\n",
    "]\n",
    "\n",
    "for i, neuron_indx in enumerate(neuron_indxs):\n",
    "    # spktime = neurons.spiketrains[neuron_indx]\n",
    "    phy_id = get_phy_id(neuron_indx)\n",
    "    spk_pos = np.where(np.isin(spike_clusters, phy_id))[0]\n",
    "    # spk_pos = rng.choice(spk_pos, 2000)\n",
    "    spk_time = spike_times[spk_pos] / srate\n",
    "    shank_id = neurons.shank_ids[neuron_indx]\n",
    "\n",
    "    other_indxs = np.setdiff1d(np.where(neurons.shank_ids == shank_id)[0], neuron_indx)\n",
    "    other_phy_id = np.array([get_phy_id(_) for _ in other_indxs])\n",
    "    other_spk_pos = np.where(np.isin(spike_clusters, other_phy_id))[0]\n",
    "    # other_spk_pos = rng.choice(other_spk_pos, 2000)\n",
    "    other_spk_id = spike_clusters[other_spk_pos]\n",
    "    other_spk_time = spike_times[other_spk_pos] / srate\n",
    "\n",
    "    pos_combined = np.concatenate((spk_pos, other_spk_pos))\n",
    "    pc_feat_combined = pc_feat[pos_combined, :, :]\n",
    "\n",
    "    iso_dist = []\n",
    "    for w in window_epoch:\n",
    "        try:\n",
    "            metrics = calculate_metrics(\n",
    "                spike_times=np.concatenate([spk_time, other_spk_time]),\n",
    "                spike_clusters=np.concatenate(\n",
    "                    [np.ones(len(spk_time)), 2 * np.ones(len(other_spk_time))]\n",
    "                ),\n",
    "                # total_units=2,\n",
    "                amplitudes=spike_amp[pos_combined],\n",
    "                pc_features=pc_feat_combined,\n",
    "                pc_feature_ind=np.vstack((np.arange(16), np.arange(16))),\n",
    "                # epochs=window_epoch,\n",
    "                epochs=[w],\n",
    "                channel_locations=np.vstack((x_coord, y_coord)).T,\n",
    "                duration=sess.datfile.duration,\n",
    "                verbose=False,\n",
    "                params=dict(\n",
    "                    num_channels_to_compare=7,\n",
    "                    max_spikes_for_unit=1000,\n",
    "                    max_spikes_for_nn=1000,\n",
    "                    n_neighbors=300,\n",
    "                    # channel_locations=np.vstack((x_coord, y_coord)).T,\n",
    "                    # min_num_pcs=5,\n",
    "                    n_silhouette=3,\n",
    "                    isi_threshold=0.002,\n",
    "                    min_isi=2,\n",
    "                ),\n",
    "            )\n",
    "            w_iso_dist = metrics[\"isolation_distance\"].values[0]\n",
    "        except:\n",
    "            w_iso_dist = 0\n",
    "\n",
    "        iso_dist.append(w_iso_dist)\n",
    "\n",
    "    # iso_dist = metrics[\"isolation_distance\"].values[::2]\n",
    "\n",
    "    ax = fig.subplot(fig.gs[5, i])\n",
    "    ax.plot([1, 2, 3, 4, 5], iso_dist, marker=\"o\", color=cmap[i], markersize=5)\n",
    "    ax.axhline(15, color=\"gray\", lw=2)\n",
    "    ax.set_ylim(0, 75)\n",
    "    ax.set_xticks(np.arange(5) + 1)\n",
    "\n",
    "fig.savefig(subjects.figpath_sd / \"neurons_stability\")"
   ]
  }
 ],
 "metadata": {
  "interpreter": {
   "hash": "cce1618081139d19eb1ee8d40815d94a2de4f62e1efb20d9406ddb60628c36ae"
  },
  "kernelspec": {
   "display_name": "Python 3.9.7 64-bit ('data_analysis': conda)",
   "language": "python",
   "name": "python3"
  },
  "language_info": {
   "codemirror_mode": {
    "name": "ipython",
    "version": 3
   },
   "file_extension": ".py",
   "mimetype": "text/x-python",
   "name": "python",
   "nbconvert_exporter": "python",
   "pygments_lexer": "ipython3",
   "version": "3.10.11"
  },
  "orig_nbformat": 4
 },
 "nbformat": 4,
 "nbformat_minor": 2
}
