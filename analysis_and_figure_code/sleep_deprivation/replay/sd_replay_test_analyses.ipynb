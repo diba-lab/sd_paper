{
 "cells": [
  {
   "cell_type": "markdown",
   "metadata": {},
   "source": [
    "### Imports"
   ]
  },
  {
   "cell_type": "code",
   "execution_count": null,
   "metadata": {},
   "outputs": [],
   "source": [
    "import numpy as np\n",
    "import pandas as pd\n",
    "import seaborn as sns\n",
    "from scipy import stats\n",
    "import scipy.signal as sg\n",
    "import matplotlib.pyplot as plt\n",
    "from neuropy.analyses import Pf1D\n",
    "from neuropy import plotting\n",
    "import subjects"
   ]
  },
  {
   "cell_type": "markdown",
   "metadata": {},
   "source": [
    "### Distribution of rank correlations in POST"
   ]
  },
  {
   "cell_type": "code",
   "execution_count": null,
   "metadata": {},
   "outputs": [],
   "source": [
    "import pingouin as pg\n",
    "\n",
    "sessions = subjects.pf_sess()\n",
    "\n",
    "for sub, sess in enumerate(sessions):\n",
    "    print(sess.animal.name)\n",
    "    neurons = sess.neurons_stable.get_neuron_type(neuron_type=\"pyr\")\n",
    "    position = sess.maze\n",
    "\n",
    "    pbe_epochs = sess.pbe\n",
    "    pbe_bins = pbe_epochs.flatten()\n",
    "    # n_spikes = [np.histogram(_,bins=pbe_bins)[0][::2] for _ in neurons.spiketrains]\n",
    "    # good_bool = (np.array(n_spikes)>0).sum(axis=0)>=5\n",
    "\n",
    "    # pbe_epochs = pbe_epochs[good_bool]\n",
    "\n",
    "    print(f\"#Epochs: {len(pbe_epochs)}\")\n",
    "    metadata = {\"score_method\": \"wcorr\"}\n",
    "\n",
    "    score_df = []\n",
    "    for direction in [\"up\",'down']:\n",
    "        pf = Pf1D(\n",
    "            neurons=neurons,\n",
    "            position=position,\n",
    "            sigma=4,\n",
    "            grid_bin=2,\n",
    "            epochs=sess.maze_run[direction],\n",
    "            frate_thresh=0.3,\n",
    "        )\n",
    "        # sorted_neuron_id = pf.get_sort_order(by='neuron_id')\n",
    "        pf_neurons = neurons.get_by_id(pf.neuron_ids)\n",
    "        tc = pf.tuning_curves\n",
    "        peak_locs = np.argmax(tc,axis=1)\n",
    "\n",
    "        mean_spike = np.array(\n",
    "            [\n",
    "                stats.binned_statistic(_, _, bins=pbe_bins, statistic=\"mean\")[0][::2]\n",
    "                for _ in pf_neurons.spiketrains\n",
    "            ]\n",
    "        )\n",
    "        latency_df = pd.DataFrame(np.hstack((peak_locs[:,np.newaxis],mean_spike)))\n",
    "        latency_df.columns = latency_df.columns.astype('str')\n",
    "        corr = pg.pairwise_corr(data=latency_df,columns='0',method='spearman')\n",
    "\n",
    "\n",
    "        df = pd.DataFrame(\n",
    "            dict(\n",
    "                rank_corr=corr.r.values,\n",
    "                pval=corr['p-unc'].values,\n",
    "            )\n",
    "        )\n",
    "\n",
    "        score_df.append(df.add_prefix(direction + \"_\"))\n",
    "\n",
    "    score_df = pd.concat(score_df, axis=1)\n",
    "    new_epochs = pbe_epochs.add_dataframe(score_df)\n",
    "    new_epochs.metadata = metadata\n",
    "    new_epochs.save(sess.filePrefix.with_suffix(\".pbe.replay.spearman\"))\n",
    "\n",
    "\n"
   ]
  },
  {
   "cell_type": "code",
   "execution_count": null,
   "metadata": {},
   "outputs": [],
   "source": [
    "mean_spike"
   ]
  },
  {
   "cell_type": "markdown",
   "metadata": {},
   "source": [
    "### Spearman rank correlation distribution"
   ]
  },
  {
   "cell_type": "code",
   "execution_count": null,
   "metadata": {},
   "outputs": [],
   "source": [
    "# sessions = subjects.pf_sess()\n",
    "sessions = subjects.nsd.ratNday2\n",
    "\n",
    "radon_df = []\n",
    "for sub, sess in enumerate(sessions):\n",
    "\n",
    "    neurons = sess.neurons_stable.get_neuron_type('pyr')\n",
    "    pbe_epochs = sess.pbe.flatten()\n",
    "    pbe = sess.pbe.to_dataframe()\n",
    "    pbe_peak = pbe.peak_time\n",
    "    replay_pbe = sess.replay_spearman.to_dataframe()\n",
    "\n",
    "    n_spikes = [np.histogram(_,bins=pbe_epochs)[0][::2] for _ in neurons.spiketrains]\n",
    "    fire_bool = (np.array(n_spikes)>0).sum(axis=0)>=5\n",
    "\n",
    "    # pbe_spikes = neurons.get_spikes_in_epochs(sess.pbe,bin_size=0.02)[0]\n",
    "    # pbe_spikes = np.array([np.all(arr.sum(axis=0)>0) for arr in pbe_spikes])\n",
    "\n",
    "\n",
    "    # fire_bool = fire_bool & pbe_spikes\n",
    "    # rpl_epochs = sess.ripple.flatten()\n",
    "    # pbe_bool = np.digitize(pbe_peak, rpl_epochs)%2==1\n",
    "    replay_pbe= replay_pbe[fire_bool]\n",
    "\n",
    "    starts = replay_pbe.start.values\n",
    "    up_score = replay_pbe.up_rank_corr.values\n",
    "    up_pval = replay_pbe.up_pval.values\n",
    "    down_score = replay_pbe.down_rank_corr.values\n",
    "    down_pval = replay_pbe.down_pval.values\n",
    "\n",
    "    best_bool = np.abs(up_score) > np.abs(down_score)\n",
    "    score = np.zeros(len(starts))\n",
    "    score[best_bool] = up_score[best_bool]\n",
    "    score[~best_bool] = down_score[~best_bool]\n",
    "\n",
    "    pval = np.zeros(len(starts))\n",
    "    pval[best_bool] = up_pval[best_bool]\n",
    "    pval[~best_bool] = down_pval[~best_bool]\n",
    "\n",
    "\n",
    "    epochs = sess.get_zt_epochs(include_maze=True)\n",
    "\n",
    "    period= epochs['PRE'].flatten()\n",
    "    period_indx = (starts > period[0]) & (starts < period[1])\n",
    "    mean_period = score[period_indx].mean()\n",
    "    \n",
    "    for i, e in enumerate(epochs.itertuples()):\n",
    "        indx = (starts > e.start) & (starts < e.stop)\n",
    "        score_e = score[indx]\n",
    "        pval_e = pval[indx]\n",
    "        radon_df.append(\n",
    "            pd.DataFrame(\n",
    "                {\n",
    "                    'zt':e.label,\n",
    "                    'score':np.abs(score_e)[pval_e<0.05],\n",
    "                    'session':sub,\n",
    "                    \"grp\": sess.tag,\n",
    "                }\n",
    "            )\n",
    "        )\n",
    "\n",
    "radon_df = pd.concat(radon_df, ignore_index=True)\n"
   ]
  },
  {
   "cell_type": "code",
   "execution_count": null,
   "metadata": {},
   "outputs": [],
   "source": [
    "_,ax = plt.subplots()\n",
    "\n",
    "sns.violinplot(data=radon_df,x='zt',y='score',hue='grp')"
   ]
  }
 ],
 "metadata": {
  "kernelspec": {
   "display_name": "Python 3.10.4 ('data_analysis')",
   "language": "python",
   "name": "python3"
  },
  "language_info": {
   "codemirror_mode": {
    "name": "ipython",
    "version": 3
   },
   "file_extension": ".py",
   "mimetype": "text/x-python",
   "name": "python",
   "nbconvert_exporter": "python",
   "pygments_lexer": "ipython3",
   "version": "3.10.8"
  },
  "orig_nbformat": 4,
  "vscode": {
   "interpreter": {
    "hash": "cce1618081139d19eb1ee8d40815d94a2de4f62e1efb20d9406ddb60628c36ae"
   }
  }
 },
 "nbformat": 4,
 "nbformat_minor": 2
}
