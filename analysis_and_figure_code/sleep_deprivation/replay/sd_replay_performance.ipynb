{
 "cells": [
  {
   "cell_type": "markdown",
   "metadata": {},
   "source": [
    "### Imports"
   ]
  },
  {
   "cell_type": "code",
   "execution_count": 1,
   "metadata": {},
   "outputs": [],
   "source": [
    "import matplotlib.pyplot as plt\n",
    "import numpy as np\n",
    "import subjects\n",
    "from neuropy import plotting\n",
    "from neuropy.utils import signal_process\n",
    "from neuropy.analyses import Pf1D\n",
    "from neuropy.analyses import Decode1d\n",
    "from tqdm.notebook import tqdm\n",
    "from neuropy.core import Epoch\n",
    "from neuropy.utils.mathutil import min_max_scaler\n",
    "import pandas as pd\n",
    "from time import time\n",
    "from numba import jit, njit"
   ]
  },
  {
   "cell_type": "markdown",
   "metadata": {},
   "source": [
    "### Using CUPY "
   ]
  },
  {
   "cell_type": "code",
   "execution_count": 10,
   "metadata": {},
   "outputs": [
    {
     "name": "stdout",
     "output_type": "stream",
     "text": [
      "2.7102622985839844\n",
      "2.4298641681671143\n"
     ]
    }
   ],
   "source": [
    "from replay_funcs import radon_transform_gpu\n",
    "from neuropy.analyses.decoders import radon_transform\n",
    "from joblib import Parallel, delayed\n",
    "\n",
    "sess = subjects.nsd.ratNday2[0]\n",
    "posteriors = sess.replay_wcorr_mua.metadata[\"up_posterior\"]\n",
    "n = 100\n",
    "\n",
    "tic = time()\n",
    "# a = [radon_transform(_) for _ in posteriors[:n]]\n",
    "results = Parallel(n_jobs=4)(\n",
    "    delayed(radon_transform)(\n",
    "        epoch,\n",
    "    )\n",
    "    for epoch in posteriors[:n]\n",
    ")\n",
    "print(time() - tic)\n",
    "\n",
    "tic = time()\n",
    "# a = [radon_transform_gpu(_) for _ in posteriors[:n]]\n",
    "results = Parallel(n_jobs=4)(\n",
    "    delayed(radon_transform_gpu)(\n",
    "        epoch,\n",
    "    )\n",
    "    for epoch in posteriors[:n]\n",
    ")\n",
    "\n",
    "\n",
    "print(time() - tic)"
   ]
  },
  {
   "cell_type": "code",
   "execution_count": null,
   "metadata": {},
   "outputs": [],
   "source": [
    "@njit\n",
    "def _decoder(spkcount, ratemaps):\n",
    "    \"\"\"\n",
    "    ===========================\n",
    "    Probability is calculated using this formula\n",
    "    prob = ((frate)^nspike) * exp(-tau * frate)\n",
    "    where,\n",
    "        tau = binsize\n",
    "\n",
    "    ===========================\n",
    "    \"\"\"\n",
    "    tau = 0.02\n",
    "    n_positions, n_time_bins = ratemaps.shape[1], spkcount.shape[1]\n",
    "\n",
    "    prob = np.zeros((n_positions, n_time_bins))\n",
    "    for i in range(n_positions):\n",
    "        frate = (ratemaps[:, i, np.newaxis]) ** spkcount\n",
    "        exp_frate = np.exp(-tau * np.sum(ratemaps[:, i]))\n",
    "        prob[i, :] = np.prod(frate, axis=0) * exp_frate\n",
    "\n",
    "    # old_settings = np.seterr(all=\"ignore\")\n",
    "    prob /= np.sum(prob, axis=0, keepdims=True)\n",
    "    # np.seterr(**old_settings)\n",
    "\n",
    "    return prob"
   ]
  },
  {
   "cell_type": "code",
   "execution_count": null,
   "metadata": {},
   "outputs": [],
   "source": [
    "tic = time()\n",
    "posterior = _decoder(np.hstack(decode.spkcount), pf.tuning_curves)\n",
    "print(time() - tic)"
   ]
  },
  {
   "cell_type": "code",
   "execution_count": null,
   "metadata": {},
   "outputs": [],
   "source": [
    "@jit(parallel=True)\n",
    "def fit_post(arr, nlines, dt=1, dx=1):\n",
    "    for i in range(10):\n",
    "        t = np.arange(arr.shape[1])\n",
    "        nt = len(t)\n",
    "        tmid = (nt + 1) / 2 - 1\n",
    "\n",
    "        pos = np.arange(arr.shape[0])\n",
    "        npos = len(pos)\n",
    "        pmid = (npos + 1) / 2 - 1\n",
    "\n",
    "        phi = np.random.uniform(low=-np.pi / 2, high=np.pi / 2, size=nlines)\n",
    "        diag_len = np.sqrt((nt - 1) ** 2 + (npos - 1) ** 2)\n",
    "        rho = np.random.uniform(low=-diag_len / 2, high=diag_len / 2, size=nlines)\n",
    "        # toc = time()\n",
    "        # print(toc-tic)\n",
    "\n",
    "        # tic = time()\n",
    "        rho_mat = np.tile(rho, (nt, 1)).T\n",
    "        phi_mat = np.tile(phi, (nt, 1)).T\n",
    "        t_mat = np.tile(t, (nlines, 1))\n",
    "        posterior = np.zeros((nlines, nt))\n",
    "        # toc = time()\n",
    "        # print(toc-tic)\n",
    "\n",
    "        # tic=time()\n",
    "        y_line = ((rho_mat - (t_mat - tmid) * np.cos(phi_mat)) / np.sin(phi_mat)) + pmid\n",
    "        y_line = np.rint(y_line).astype(\"int\")\n",
    "        t_out = np.where((y_line < 0) | (y_line > npos - 1))\n",
    "        t_in = np.where((y_line >= 0) & (y_line <= npos - 1))\n",
    "        posterior[t_out] = np.median(arr[:, t_out[1]], axis=0)\n",
    "        posterior[t_in] = arr[y_line[t_in], t_in[1]]\n",
    "\n",
    "        posterior_mean = np.nanmean(posterior, axis=1)\n",
    "\n",
    "        # tic=time()\n",
    "        best_line = np.argmax(posterior_mean)\n",
    "        score = posterior_mean[best_line]\n",
    "        best_phi, best_rho = phi[best_line], rho[best_line]\n",
    "\n",
    "        time_mid, pos_mid = nt * dt / 2, npos * dx / 2\n",
    "\n",
    "        velocity = dx / (dt * np.tan(best_phi))\n",
    "        intercept = (\n",
    "            (dx * time_mid) / (dt * np.tan(best_phi))\n",
    "            + (best_rho / np.sin(best_phi)) * dx\n",
    "            + pos_mid\n",
    "        )\n",
    "        # return score,-velocity,intercept\n",
    "\n",
    "\n",
    "def radon_transform(arr, nlines=10000, dt=1, dx=1, neighbours=1):\n",
    "    # arr = np.apply_along_axis(\n",
    "    #     np.convolve, axis=0, arr=arr, v=np.ones(2 * neighbours + 1), mode=\"same\"\n",
    "    # )\n",
    "    return fit_post(arr, nlines, 1, 1)"
   ]
  },
  {
   "cell_type": "code",
   "execution_count": null,
   "metadata": {},
   "outputs": [],
   "source": [
    "# from\n",
    "tic = time()\n",
    "a = radon_transform(decode.posterior[1])\n",
    "print(time() - tic)"
   ]
  }
 ],
 "metadata": {
  "interpreter": {
   "hash": "cce1618081139d19eb1ee8d40815d94a2de4f62e1efb20d9406ddb60628c36ae"
  },
  "kernelspec": {
   "display_name": "Python 3.10.2 ('data_analysis')",
   "language": "python",
   "name": "python3"
  },
  "language_info": {
   "codemirror_mode": {
    "name": "ipython",
    "version": 3
   },
   "file_extension": ".py",
   "mimetype": "text/x-python",
   "name": "python",
   "nbconvert_exporter": "python",
   "pygments_lexer": "ipython3",
   "version": "3.10.11"
  },
  "orig_nbformat": 4
 },
 "nbformat": 4,
 "nbformat_minor": 2
}
