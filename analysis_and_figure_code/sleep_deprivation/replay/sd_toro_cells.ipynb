{
 "cells": [
  {
   "cell_type": "markdown",
   "metadata": {},
   "source": [
    "### Imports"
   ]
  },
  {
   "cell_type": "code",
   "execution_count": null,
   "metadata": {},
   "outputs": [],
   "source": [
    "import numpy as np\n",
    "import pandas as pd\n",
    "import seaborn as sns\n",
    "from scipy import stats\n",
    "import scipy.signal as sg\n",
    "import matplotlib.pyplot as plt\n",
    "from neuropy import plotting\n",
    "import subjects"
   ]
  },
  {
   "attachments": {},
   "cell_type": "markdown",
   "metadata": {},
   "source": [
    "### Theta-OFF/ripple-ON (Toro) cells\n",
    "- Szabo et al. 2022\n"
   ]
  },
  {
   "cell_type": "code",
   "execution_count": null,
   "metadata": {},
   "outputs": [],
   "source": [
    "from neuropy.core import Neurons\n",
    "from neuropy.utils.signal_process import filter_sig, ThetaParams\n",
    "from neuropy.utils.mathutil import thresh_epochs\n",
    "\n",
    "sessions = subjects.pf_sess()\n",
    "\n",
    "for s, sess in enumerate(sessions[1:2]):\n",
    "    neurons = sess.neurons_stable.get_neuron_type([\"pyr\", \"mua\"])\n",
    "    fs = 1250\n",
    "    maze = sess.paradigm[\"maze\"].flatten()\n",
    "    rpls = sess.ripple.time_slice(*maze)\n",
    "    run = sess.maze_run.duration_slice(min_dur=0.2)\n",
    "    # good_channels = sess.recinfo.good_channels.astype(\"int\")\n",
    "    # maze = sess.paradigm[\"maze\"].flatten()\n",
    "    # maze_lfp = sess.eegfile.get_signal(good_channels, *maze)\n",
    "    # theta_stat = hilbert_ampltiude_stat(\n",
    "    #     maze_lfp.traces, freq_band=(5, 16), fs=fs, statistic=\"mean\"\n",
    "    # )\n",
    "    # best_theta_chan = maze_lfp.channel_id[theta_stat.argmax()]\n",
    "    best_theta_chan = sess.ripple.metadata[\"channels\"][3]\n",
    "    # theta_lfp = sess.eegfile.get_signal(best_theta_chan,*maze)\n",
    "    # theta_amp = np.abs(hilbertfast(filter_sig.bandpass(theta_lfp,lf=5,hf=12).traces[0]))\n",
    "    # high_theta = stats.zscore(theta_amp)\n",
    "\n",
    "    theta, theta_t = sess.eegfile.get_frames_within_epochs(\n",
    "        run, best_theta_chan, ret_time=True\n",
    "    )\n",
    "    theta = theta.squeeze()\n",
    "    theta_params = ThetaParams(theta, 1250)\n",
    "    theta_phase = theta_params.angle\n",
    "\n",
    "    spikes_in_theta = [\n",
    "        _[np.digitize(_, bins=run.flatten()) % 2 == 1] for _ in neurons.spiketrains\n",
    "    ]\n",
    "    spikes_theta_phase = [np.interp(_, theta_t, theta_phase) for _ in spikes_in_theta]\n",
    "    theta_bins = np.linspace(0, 360, 40)\n",
    "    spikes_theta_hist = np.array(\n",
    "        [np.histogram(_, bins=theta_bins)[0] for _ in spikes_theta_phase],\n",
    "        dtype=\"object\",\n",
    "    )\n",
    "    theta_neurons = Neurons(\n",
    "        spikes_in_theta, t_start=maze[0], t_stop=maze[1], sampling_rate=30000\n",
    "    )\n",
    "    sort_indx = np.argsort(spikes_theta_hist.argmax(axis=1))\n",
    "    theta_neurons = theta_neurons[sort_indx]\n",
    "    # theta_frate = neurons.get_modulation_in_epochs(run, 1)"
   ]
  },
  {
   "cell_type": "code",
   "execution_count": null,
   "metadata": {},
   "outputs": [],
   "source": [
    "_, axs = plt.subplots(2, 1, sharex=True, gridspec_kw=dict(height_ratios=[1, 5]))\n",
    "\n",
    "ax = axs[0]\n",
    "ax.plot(theta_t, theta)\n",
    "ax.axis(\"off\")\n",
    "\n",
    "ax = axs[1]\n",
    "\n",
    "plotting.plot_raster(theta_neurons, ax=ax, color=\"k\")"
   ]
  },
  {
   "cell_type": "code",
   "execution_count": null,
   "metadata": {},
   "outputs": [],
   "source": [
    "_, axs = plt.subplots(7, 7)\n",
    "axs = axs.reshape(-1)\n",
    "for i, h in enumerate(spikes_theta_hist):\n",
    "    axs[i].plot(theta_bins[:-1], h)"
   ]
  }
 ],
 "metadata": {
  "kernelspec": {
   "display_name": "Python 3.10.4 ('data_analysis')",
   "language": "python",
   "name": "python3"
  },
  "language_info": {
   "codemirror_mode": {
    "name": "ipython",
    "version": 3
   },
   "file_extension": ".py",
   "mimetype": "text/x-python",
   "name": "python",
   "nbconvert_exporter": "python",
   "pygments_lexer": "ipython3",
   "version": "3.10.11"
  },
  "orig_nbformat": 4,
  "vscode": {
   "interpreter": {
    "hash": "cce1618081139d19eb1ee8d40815d94a2de4f62e1efb20d9406ddb60628c36ae"
   }
  }
 },
 "nbformat": 4,
 "nbformat_minor": 2
}
