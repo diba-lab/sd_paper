{
 "cells": [
  {
   "cell_type": "markdown",
   "metadata": {},
   "source": [
    "### Imports"
   ]
  },
  {
   "cell_type": "code",
   "execution_count": null,
   "metadata": {},
   "outputs": [],
   "source": [
    "import numpy as np\n",
    "import pandas as pd\n",
    "import seaborn as sns\n",
    "from scipy import stats\n",
    "import scipy.signal as sg\n",
    "import matplotlib.pyplot as plt\n",
    "from neuropy import plotting\n",
    "import subjects"
   ]
  },
  {
   "cell_type": "markdown",
   "metadata": {},
   "source": [
    "### Posterior time lag comparison SD vs NSD"
   ]
  },
  {
   "cell_type": "code",
   "execution_count": null,
   "metadata": {},
   "outputs": [],
   "source": [
    "import scipy.signal as sg\n",
    "from scipy.ndimage import gaussian_filter1d\n",
    "\n",
    "sessions = subjects.pf_sess()\n",
    "\n",
    "lag_time_all, grp = [], []\n",
    "for sub, sess in enumerate(sessions):\n",
    "    neurons = sess.neurons_stable.get_neuron_type(\"pyr\")\n",
    "    pre = sess.paradigm[\"pre\"].flatten()\n",
    "    post = sess.paradigm[\"post\"].flatten()\n",
    "    maze = sess.paradigm[\"maze\"].flatten()\n",
    "    period = [post[0] + 2.5 * 3600, post[0] + 5 * 3600]\n",
    "    # period = [pre[0], pre[1]]\n",
    "    # period = maze\n",
    "    starts = sess.replay_radon_mua.starts\n",
    "\n",
    "    replay_pbe = sess.replay_radon_mua.to_dataframe()\n",
    "    pbe_epochs = sess.replay_radon_mua.flatten()\n",
    "    pbe_peak = replay_pbe.peak_time\n",
    "    n_spikes = [np.histogram(_, bins=pbe_epochs)[0][::2] for _ in neurons.spiketrains]\n",
    "    n_neurons_bool = (np.array(n_spikes) > 0).sum(axis=0) >= 5\n",
    "\n",
    "    pbe_spikes, nbins = neurons.get_spikes_in_epochs(sess.pbe, bin_size=0.02)\n",
    "    each_bin_bool = np.array([np.sum(arr.sum(axis=0) > 0) for arr in pbe_spikes])\n",
    "    each_bin_bool = each_bin_bool / nbins > 0.8\n",
    "\n",
    "    rpl_epochs = sess.ripple.flatten()\n",
    "    rpl_bool = np.digitize(pbe_peak, rpl_epochs) % 2 == 1\n",
    "\n",
    "    run_epochs = sess.maze_run.flatten()\n",
    "    run_bool = np.digitize(pbe_peak, run_epochs) % 2 == 1\n",
    "\n",
    "    good_bool = rpl_bool & ~run_bool & n_neurons_bool & each_bin_bool\n",
    "    # good_bool = ~run_bool\n",
    "\n",
    "    ind = (starts >= period[0]) & (starts <= period[1]) & good_bool\n",
    "    # ind = starts<post[0]\n",
    "\n",
    "    posteriors = sess.replay_radon_mua.metadata[\"down_posterior\"]\n",
    "    posteriors = [posteriors[_] for _ in np.argwhere(ind).squeeze()]\n",
    "    posteriors = np.hstack(posteriors)\n",
    "\n",
    "    npos, nt = posteriors.shape\n",
    "    rows, cols = np.tril_indices(npos, -1)\n",
    "    lags = sg.correlation_lags(nt, nt, mode=\"same\") * 0.02\n",
    "    idx = (lags >= -0.5) & (lags <= 0.5)\n",
    "    lags = lags[idx]\n",
    "\n",
    "    lag_time = np.zeros((npos, npos))\n",
    "    for p1 in range(npos):\n",
    "        for p2 in range(npos):\n",
    "            xcorr = sg.correlate(\n",
    "                posteriors[p1], posteriors[p2], mode=\"same\", method=\"fft\"\n",
    "            )[idx]\n",
    "            lag_time[p1, p2] = np.abs(\n",
    "                lags[gaussian_filter1d(xcorr, sigma=0.06 / 0.02).argmax()]\n",
    "            )\n",
    "\n",
    "    lag_time_all.append(lag_time)\n",
    "    grp.append(sess.tag)"
   ]
  },
  {
   "cell_type": "code",
   "execution_count": null,
   "metadata": {},
   "outputs": [],
   "source": [
    "_, axs = plt.subplots(7, 2)\n",
    "\n",
    "for i, (lag_mat, g) in enumerate(zip(lag_time_all, grp)):\n",
    "    if g == \"NSD\":\n",
    "        ax = axs[i, 0]\n",
    "    else:\n",
    "        ax = axs[i - 6, 1]\n",
    "\n",
    "    im = ax.pcolormesh(np.abs(lag_mat), cmap=\"viridis\", vmin=0, vmax=0.4)\n",
    "    cb = plt.colorbar(im, ax=ax)"
   ]
  },
  {
   "cell_type": "code",
   "execution_count": null,
   "metadata": {},
   "outputs": [],
   "source": [
    "_, axs = plt.subplots(7, 2, sharex=True, sharey=True)\n",
    "\n",
    "for i, (lag_mat, g) in enumerate(zip(lag_time_all, grp)):\n",
    "    if g == \"NSD\":\n",
    "        ax = axs[i, 0]\n",
    "    else:\n",
    "        ax = axs[i - 6, 0]\n",
    "\n",
    "    # im = ax.pcolormesh(lag_mat,cmap='viridis',vmin=0,vmax=0.4)\n",
    "    # cb = plt.colorbar(im,ax=ax)\n",
    "    pos_bins = np.arange(lag_mat.shape[0])\n",
    "    pos_dist = np.abs(pos_bins[np.newaxis, :] - pos_bins[:, np.newaxis])\n",
    "\n",
    "    mean_lags = []\n",
    "    for d in np.arange(60):\n",
    "        mean_lags.append(lag_mat[pos_dist == d].mean())\n",
    "\n",
    "    ax.plot(np.arange(60), mean_lags)"
   ]
  }
 ],
 "metadata": {
  "kernelspec": {
   "display_name": "Python 3.10.4 ('data_analysis')",
   "language": "python",
   "name": "python3"
  },
  "language_info": {
   "codemirror_mode": {
    "name": "ipython",
    "version": 3
   },
   "file_extension": ".py",
   "mimetype": "text/x-python",
   "name": "python",
   "nbconvert_exporter": "python",
   "pygments_lexer": "ipython3",
   "version": "3.10.11"
  },
  "orig_nbformat": 4,
  "vscode": {
   "interpreter": {
    "hash": "cce1618081139d19eb1ee8d40815d94a2de4f62e1efb20d9406ddb60628c36ae"
   }
  }
 },
 "nbformat": 4,
 "nbformat_minor": 2
}
