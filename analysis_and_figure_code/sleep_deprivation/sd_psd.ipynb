{
 "cells": [
  {
   "attachments": {},
   "cell_type": "markdown",
   "metadata": {},
   "source": [
    "### Imports"
   ]
  },
  {
   "cell_type": "code",
   "execution_count": null,
   "metadata": {},
   "outputs": [],
   "source": [
    "import numpy as np\n",
    "import pandas as pd\n",
    "import seaborn as sns\n",
    "from scipy import stats\n",
    "import scipy.signal as sg\n",
    "import matplotlib.pyplot as plt\n",
    "from neuropy import plotting\n",
    "import subjects\n",
    "from tqdm.notebook import tqdm\n",
    "from neuropy.utils.signal_process import FourierSg, filter_sig"
   ]
  },
  {
   "attachments": {},
   "cell_type": "markdown",
   "metadata": {},
   "source": [
    "### Is the overall power spectrum changing from early to late sleep deprivation"
   ]
  },
  {
   "cell_type": "code",
   "execution_count": null,
   "metadata": {},
   "outputs": [],
   "source": [
    "sessions = subjects.sd.ripple_sess\n",
    "\n",
    "psd_df = []\n",
    "for s, sess in enumerate(tqdm(sessions)):\n",
    "    fs = sess.eegfile.sampling_rate\n",
    "    # epochs = sess.get_zt_epochs(include_pre=False, include_maze=False)\n",
    "    post = sess.paradigm[\"post\"].flatten()\n",
    "    starts = np.array([post[0], post[0] + 4 * 3600])\n",
    "    zt_epochs = sess.paradigm.from_array(starts, starts + 3600, [\"0-1\", \"4-5\"])\n",
    "    channel = sess.ripple.metadata[\"channels\"][3]\n",
    "\n",
    "    for e in zt_epochs.itertuples():\n",
    "        trace = sess.eegfile.get_signal(channel, e.start, e.stop).traces[0]\n",
    "        f, pxx = sg.welch(trace, fs=fs, nperseg=4 * fs, noverlap=0)\n",
    "        pxx = pxx * (0.95 * 1e-3) ** 2\n",
    "        psd_df.append(pd.DataFrame(dict(zt=e.label, f=f, pxx=pxx, grp=sess.tag)))\n",
    "\n",
    "psd_df = pd.concat(psd_df, ignore_index=True)"
   ]
  },
  {
   "cell_type": "code",
   "execution_count": null,
   "metadata": {},
   "outputs": [],
   "source": [
    "fig = plotting.Fig(6, 5)\n",
    "freq_bands = [(0.5, 350), (4, 20), (110, 300)]\n",
    "\n",
    "axes = [fig.gs[:2, :3], fig.gs[0, 3:5], fig.gs[1, 3:5]]\n",
    "for i, (low, high) in enumerate(freq_bands):\n",
    "    ax = fig.subplot(axes[i])\n",
    "    data = psd_df[(psd_df.f > low) & (psd_df.f < high)]\n",
    "    sns.lineplot(\n",
    "        data=data,\n",
    "        x=\"f\",\n",
    "        y=\"pxx\",\n",
    "        hue=\"zt\",\n",
    "        ci=None,\n",
    "        ax=ax,\n",
    "        palette=[\"#1AD2E5\", \"#E52D1A\"],\n",
    "    )\n",
    "    ax.set_xscale(\"log\")\n",
    "    ax.set_yscale(\"log\")\n",
    "\n",
    "fig.savefig(subjects.figpath_sd / \"pxx_sd_zt1_vs_zt5\")"
   ]
  },
  {
   "attachments": {},
   "cell_type": "markdown",
   "metadata": {},
   "source": [
    "### Shot noise in .dat file lfp"
   ]
  },
  {
   "cell_type": "code",
   "execution_count": null,
   "metadata": {},
   "outputs": [],
   "source": [
    "sessions = subjects.nsd.ratSday2\n",
    "\n",
    "psd_df = []\n",
    "for s, sess in enumerate(tqdm(sessions)):\n",
    "    fs = sess.datfile.sampling_rate\n",
    "    # epochs = sess.get_zt_epochs(include_pre=False, include_maze=False)\n",
    "    maze = sess.paradigm[\"maze\"].flatten()\n",
    "    post = sess.paradigm[\"post\"].flatten()\n",
    "    # starts = np.array([post[0], post[0] + 4 * 3600])\n",
    "    # zt_epochs = sess.paradigm.from_array(starts, starts + 3600, [\"0-1\", \"4-5\"])\n",
    "\n",
    "    channel = sess.ripple.metadata[\"channels\"][3]\n",
    "\n",
    "    t1, t2 = maze[0], maze[1]\n",
    "    trace = sess.datfile.get_signal(channel, t1, t2).traces[0]\n",
    "    f, pxx_maze = sg.welch(trace, fs=fs, nperseg=4 * fs, noverlap=0)\n",
    "    pxx_maze = pxx_maze * (0.95 * 1e-3) ** 2\n",
    "\n",
    "    t1, t2 = post[0] + 3600, post[0] + 3600 + 1800\n",
    "    trace = sess.datfile.get_signal(channel, t1, t2).traces[0]\n",
    "    f, pxx_sleep = sg.welch(trace, fs=fs, nperseg=4 * fs, noverlap=0)\n",
    "    pxx_sleep = pxx_sleep * (0.95 * 1e-3) ** 2\n",
    "\n",
    "    # psd_df.append(pd.DataFrame(dict(zt=e.label, f=f, pxx=pxx, grp=sess.tag)))\n",
    "\n",
    "\n",
    "# psd_df = pd.concat(psd_df, ignore_index=True)"
   ]
  },
  {
   "cell_type": "code",
   "execution_count": null,
   "metadata": {},
   "outputs": [],
   "source": [
    "_, ax = plt.subplots()\n",
    "\n",
    "ax.plot(f, pxx_maze)\n",
    "ax.plot(f, pxx_sleep)\n",
    "ax.set_xscale(\"log\")\n",
    "ax.set_yscale(\"log\")"
   ]
  },
  {
   "attachments": {},
   "cell_type": "markdown",
   "metadata": {},
   "source": [
    "### Compare broadband slow wave using PCA of z-scored spectrogram\n",
    "- Also compare it to standard slow wave power"
   ]
  },
  {
   "cell_type": "code",
   "execution_count": null,
   "metadata": {},
   "outputs": [],
   "source": [
    "from sklearn.decomposition import PCA\n",
    "from numpy.polynomial.polynomial import polyfit\n",
    "\n",
    "# sess = subjects.nsd.ratNday2[0]\n",
    "sess = subjects.sd.ratRday2[0]\n",
    "sw_chan = sess.best_channels.slow_wave\n",
    "channels = [47, 103]\n",
    "\n",
    "freqs = np.geomspace(1, 100, 100)\n",
    "freqs = freqs[(freqs < 57) | (freqs > 63)]\n",
    "\n",
    "broadband_sw, delta = [], []\n",
    "for chan in channels:\n",
    "    signal = sess.eegfile.get_signal(chan)\n",
    "    spect = FourierSg(signal, freqs=freqs, window=2, overlap=1, norm_sig=True)\n",
    "    # delta.append(spect.get_band_power(1, 4))\n",
    "    zsc_spect = stats.zscore(spect.traces, axis=1)\n",
    "    pca = PCA(n_components=3).fit(zsc_spect.T)\n",
    "    pca_transform = pca.transform(zsc_spect.T)\n",
    "    # pca.components_[0][freqs > 25] = 0\n",
    "    # delta = pca.transform(zsc_spect.T)\n",
    "    slope = polyfit(freqs, np.log10(spect.traces), deg=1)[1]\n",
    "    # delta.append(pca_transform[:, 0])\n",
    "    delta.append(spect.get_band_power(1, 4))\n",
    "    broadband_sw.append(pca_transform[:, 0])"
   ]
  },
  {
   "cell_type": "code",
   "execution_count": null,
   "metadata": {},
   "outputs": [],
   "source": [
    "_, ax = plt.subplots(2, len(channels), sharex=True, sharey=\"col\")\n",
    "\n",
    "for i, (x1, x2) in enumerate(zip(delta, broadband_sw)):\n",
    "    x1 = stats.zscore(x1)\n",
    "    x2 = stats.zscore(x2)\n",
    "    y_lim = stats.scoreatpercentile(x1, 99.991)\n",
    "    ax[0, i].plot(x1)\n",
    "    ax[0, i].set_ylim(top=y_lim)\n",
    "    ax[1, i].plot(x2)\n",
    "\n",
    "# ax.plot(delta[2])\n",
    "# ax.plot(spect.get_band_power(1, 4) * 100)\n",
    "# ax.plot(freqs, pca.components_[0])"
   ]
  },
  {
   "cell_type": "code",
   "execution_count": null,
   "metadata": {},
   "outputs": [],
   "source": [
    "_, ax = plt.subplots()\n",
    "\n",
    "ax.plot(freqs, pca.components_[0])\n",
    "ax.plot(freqs, pca.components_[1])\n",
    "ax.plot(freqs, pca.components_[2])\n",
    "# ax.plot(freqs,pca.components_[4])\n",
    "ax.set_xscale(\"log\")"
   ]
  }
 ],
 "metadata": {
  "kernelspec": {
   "display_name": "ephys_analysis",
   "language": "python",
   "name": "python3"
  },
  "language_info": {
   "codemirror_mode": {
    "name": "ipython",
    "version": 3
   },
   "file_extension": ".py",
   "mimetype": "text/x-python",
   "name": "python",
   "nbconvert_exporter": "python",
   "pygments_lexer": "ipython3",
   "version": "3.11.3"
  },
  "orig_nbformat": 4
 },
 "nbformat": 4,
 "nbformat_minor": 2
}
