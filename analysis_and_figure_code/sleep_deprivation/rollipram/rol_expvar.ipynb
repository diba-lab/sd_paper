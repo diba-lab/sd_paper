{
 "cells": [
  {
   "cell_type": "markdown",
   "metadata": {},
   "source": [
    "### Imports "
   ]
  },
  {
   "cell_type": "code",
   "execution_count": null,
   "metadata": {},
   "outputs": [],
   "source": [
    "import matplotlib.pyplot as plt\n",
    "from scipy import stats\n",
    "import seaborn as sns\n",
    "from tqdm.notebook import tqdm\n",
    "import pandas as pd\n",
    "import pingouin as pg\n",
    "from neuropy import plotting\n",
    "import numpy as np\n",
    "import subjects"
   ]
  },
  {
   "attachments": {},
   "cell_type": "markdown",
   "metadata": {},
   "source": [
    "### Single session"
   ]
  },
  {
   "cell_type": "code",
   "execution_count": null,
   "metadata": {},
   "outputs": [],
   "source": [
    "import numpy as np\n",
    "import subjects\n",
    "from neuropy.analyses import ExplainedVariance\n",
    "from neuropy.analyses.neurons_stability import isi_stability, firing_rate_stability\n",
    "\n",
    "sess = subjects.sdrol.ratN_2019_10_19[0]\n",
    "neurons = sess.neurons_stable.get_neuron_type('pyr')\n",
    "\n",
    "\n",
    "# #---- isi stability --------\n",
    "# isi_bool = isi_stability(neurons)\n",
    "# stable_cells_indx = np.where(isi_bool==True)[0]\n",
    "# stable_neurons = neurons[stable_cells_indx]\n",
    "\n",
    "wave_similarity = neurons.get_waveform_similarity()\n",
    "pairs_bool = wave_similarity < 0.8  # only pairs which are least similar\n",
    "# shank_ids = neurons.shank_ids\n",
    "# pairs_bool = shank_ids.reshape(-1, 1) - shank_ids.reshape(1, -1) #cross_shanks only\n",
    "\n",
    "\n",
    "pre, maze, post = (\n",
    "    sess.paradigm[\"pre\"].flatten(),\n",
    "    sess.paradigm[\"maze\"].flatten(),\n",
    "    sess.paradigm[\"post\"].flatten(),\n",
    ")\n",
    "\n",
    "expvar = ExplainedVariance(\n",
    "    neurons=neurons,\n",
    "    template=maze,\n",
    "    matching=[post[0],post[1]-3600],\n",
    "    control=pre,\n",
    "    window=900,\n",
    "    slideby=300,\n",
    "    pairs_bool=pairs_bool,\n",
    "    ignore_epochs=sess.artifact,\n",
    ")\n",
    "print(expvar.n_pairs)"
   ]
  },
  {
   "cell_type": "code",
   "execution_count": null,
   "metadata": {},
   "outputs": [],
   "source": [
    "sess.paradigm.durations/3600"
   ]
  },
  {
   "cell_type": "code",
   "execution_count": null,
   "metadata": {},
   "outputs": [],
   "source": [
    "_,ax = plt.subplots()\n",
    "\n",
    "# plotting.plot_raster(neurons=neurons,ax=ax)\n",
    "binspk = neurons.get_binned_spiketrains(bin_size=300)\n",
    "corrmat = np.corrcoef(binspk.spike_counts.T)\n",
    "np.fill_diagonal(corrmat,0)\n",
    "\n",
    "# ax.plot(binspk.spike_counts.mean(axis=0))\n",
    "ax.imshow(corrmat,cmap='jet')"
   ]
  },
  {
   "cell_type": "code",
   "execution_count": null,
   "metadata": {},
   "outputs": [],
   "source": [
    "from neuropy.plotting import plot_hypnogram,Fig\n",
    "\n",
    "fig=Fig(grid=(5,6))\n",
    "\n",
    "ax = fig.subplot(fig.gs[1:4])\n",
    "expvar.plot(ax=ax,t_start=post[0],show_ignore_epochs=False)\n",
    "ax.set_xlim(left=0)\n",
    "# ax.set_ylim(top=0.14)\n",
    "\n",
    "\n",
    "# ax = fig.subplot(fig.gs[0])\n",
    "# plot_hypnogram(sess.brainstates,ax=ax)\n",
    "# ax.set_xlim(left = post[0])\n"
   ]
  }
 ],
 "metadata": {
  "kernelspec": {
   "display_name": "data_analysis",
   "language": "python",
   "name": "python3"
  },
  "language_info": {
   "codemirror_mode": {
    "name": "ipython",
    "version": 3
   },
   "file_extension": ".py",
   "mimetype": "text/x-python",
   "name": "python",
   "nbconvert_exporter": "python",
   "pygments_lexer": "ipython3",
   "version": "3.10.9"
  },
  "orig_nbformat": 4,
  "vscode": {
   "interpreter": {
    "hash": "cce1618081139d19eb1ee8d40815d94a2de4f62e1efb20d9406ddb60628c36ae"
   }
  }
 },
 "nbformat": 4,
 "nbformat_minor": 2
}
