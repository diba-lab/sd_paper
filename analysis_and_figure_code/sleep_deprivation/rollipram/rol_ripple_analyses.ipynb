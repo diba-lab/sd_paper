{
 "cells": [
  {
   "attachments": {},
   "cell_type": "markdown",
   "metadata": {},
   "source": [
    "### Imports"
   ]
  },
  {
   "cell_type": "code",
   "execution_count": null,
   "metadata": {},
   "outputs": [],
   "source": [
    "import matplotlib.pyplot as plt\n",
    "import numpy as np\n",
    "from neuropy import plotting\n",
    "import seaborn as sns\n",
    "import pandas as pd\n",
    "from scipy import stats\n",
    "import scipy.signal as sg\n",
    "import subjects\n",
    "from statannotations.Annotator import Annotator"
   ]
  },
  {
   "attachments": {},
   "cell_type": "markdown",
   "metadata": {},
   "source": [
    "### Example session"
   ]
  },
  {
   "cell_type": "code",
   "execution_count": null,
   "metadata": {},
   "outputs": [],
   "source": [
    "from neuropy.plotting import plot_epochs\n",
    "from scipy.stats import binned_statistic\n",
    "\n",
    "sessions = subjects.sdrol.ratU_2021_08_09\n",
    "\n",
    "fig = plotting.Fig(grid=(4, 2))\n",
    "for sub, sess in enumerate(sessions):\n",
    "    ax = plt.subplot(fig.gs[sub])\n",
    "    starts = sess.ripple.starts\n",
    "    durations = sess.ripple.durations\n",
    "    bins = np.arange(0, sess.eegfile.duration, 600)\n",
    "    # hist_rpl = np.histogram(starts,bins=bins)[0]\n",
    "    hist_rpl = binned_statistic(starts, durations, bins=bins, statistic=\"sum\")[0]\n",
    "    plot_epochs(sess.paradigm,ax=ax)\n",
    "    ax.plot(bins[:-1] + 300, hist_rpl / 600, \"k\")\n",
    "    ax.set_xlabel(\"Time\")\n",
    "    ax.set_ylabel(\"Ripple rate\")\n",
    "    print(sess.ripple.metadata)\n",
    "\n"
   ]
  },
  {
   "cell_type": "code",
   "execution_count": null,
   "metadata": {},
   "outputs": [],
   "source": [
    "sess.recinfo.write_epochs(sess.ripple,'.rpl')"
   ]
  },
  {
   "cell_type": "code",
   "execution_count": null,
   "metadata": {},
   "outputs": [],
   "source": [
    "13514/60"
   ]
  }
 ],
 "metadata": {
  "kernelspec": {
   "display_name": "data_analysis",
   "language": "python",
   "name": "python3"
  },
  "language_info": {
   "codemirror_mode": {
    "name": "ipython",
    "version": 3
   },
   "file_extension": ".py",
   "mimetype": "text/x-python",
   "name": "python",
   "nbconvert_exporter": "python",
   "pygments_lexer": "ipython3",
   "version": "3.10.8"
  },
  "orig_nbformat": 4,
  "vscode": {
   "interpreter": {
    "hash": "cce1618081139d19eb1ee8d40815d94a2de4f62e1efb20d9406ddb60628c36ae"
   }
  }
 },
 "nbformat": 4,
 "nbformat_minor": 2
}
