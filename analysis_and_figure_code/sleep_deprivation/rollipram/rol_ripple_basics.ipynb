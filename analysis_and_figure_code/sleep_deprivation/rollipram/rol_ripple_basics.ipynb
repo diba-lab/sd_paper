{
 "cells": [
  {
   "cell_type": "markdown",
   "metadata": {},
   "source": [
    "### Imports"
   ]
  },
  {
   "cell_type": "code",
   "execution_count": null,
   "metadata": {},
   "outputs": [],
   "source": [
    "import matplotlib.pyplot as plt\n",
    "import numpy as np\n",
    "from neuropy import plotting\n",
    "import seaborn as sns\n",
    "import pandas as pd\n",
    "from scipy import stats\n",
    "from neuropy.analyses.oscillations import detect_ripple_epochs\n",
    "from tqdm.notebook import tqdm\n",
    "import subjects"
   ]
  },
  {
   "cell_type": "markdown",
   "metadata": {},
   "source": [
    "### Detect ripples for multiple sessions together"
   ]
  },
  {
   "cell_type": "code",
   "execution_count": null,
   "metadata": {},
   "outputs": [],
   "source": [
    "sessions = subjects.sdrol.ratN_2019_10_19\n",
    "\n",
    "for sub, sess in enumerate(tqdm(sessions)):\n",
    "\n",
    "    try:\n",
    "        artifact = sess.artifact\n",
    "    except:\n",
    "        artifact = None\n",
    "\n",
    "    # channels = sess.ripple.metadata['channels']\n",
    "    signal = sess.eegfile.get_signal()\n",
    "    ripples = detect_ripple_epochs(\n",
    "        signal,\n",
    "        probegroup=sess.probegroup,\n",
    "        freq_band=(125, 250),\n",
    "        thresh=(2.5, 30),\n",
    "        edge_cutoff=0.5,\n",
    "        sigma=0.0125,\n",
    "        ignore_epochs=artifact,\n",
    "    )\n",
    "\n",
    "    ripples.save(sess.filePrefix.with_suffix('.ripple.npy'))\n",
    "    # ripples.save(sess.filePrefix.with_suffix(\".ripple.no_merge.npy\"))\n"
   ]
  },
  {
   "attachments": {},
   "cell_type": "markdown",
   "metadata": {},
   "source": [
    "### Ripple (125-250) band comparison with EMG band (>300 Hz)\n",
    "- This is to test a potential chewing artifact rejection algorithm.\n",
    "- Basically based on the 1/f law the power in first harmonic (250-500) of ripple band should be smaller than at fundamental band. If the power is higher in >300 Hz then it is potentially contaminated by chewing/muscle artifact."
   ]
  },
  {
   "cell_type": "code",
   "execution_count": null,
   "metadata": {},
   "outputs": [],
   "source": [
    "from neuropy.utils.signal_process import filter_sig, hilbertfast\n",
    "from scipy.ndimage import gaussian_filter1d\n",
    "\n",
    "dt = 1/1250\n",
    "smooth = lambda x: gaussian_filter1d(x, sigma=0.0125 / dt, axis=-1)\n",
    "\n",
    "sess = subjects.sdrol.ratU_2021_08_09[0]\n",
    "ripple_channels = sess.ripple.metadata[\"channels\"]\n",
    "\n",
    "t1 = 226 * 60 + 20\n",
    "lfp = sess.eegfile.get_signal(58, t_start=t1, t_stop=t1 + 3)\n",
    "\n",
    "f1,f2=125,250\n",
    "\n",
    "rpl_lfp = filter_sig.bandpass(lfp, lf=f1, hf=f2)\n",
    "fharm_lfp = filter_sig.bandpass(lfp, lf=2*f1, hf=2*f2)\n",
    "emg_lfp = filter_sig.bandpass(lfp, lf=300, hf=600)\n",
    "\n",
    "corr_traces = sess.eegfile.get_signal(t_start=t1,t_stop=t1+5).traces\n",
    "\n",
    "ltriang = np.tril_indices(corr_traces.shape[0],k=-1)\n",
    "\n",
    "mov_corr=[]\n",
    "for i in range(0,corr_traces.shape[1],50): \n",
    "    mov_corr.append(np.corrcoef(corr_traces[:,i:i+50])[ltriang].mean())\n",
    "\n"
   ]
  },
  {
   "cell_type": "code",
   "execution_count": null,
   "metadata": {},
   "outputs": [],
   "source": [
    "_,ax = plt.subplots()\n",
    "\n",
    "sigs = [rpl_lfp,fharm_lfp,emg_lfp]\n",
    "colors = ['r','g','k']\n",
    "\n",
    "for i,sig in enumerate(sigs):\n",
    "    trace = smooth(np.abs(hilbertfast(sig.traces[0])))\n",
    "    ax.plot(trace,color=colors[i])\n",
    "\n",
    "ax.plot(mov_corr)"
   ]
  },
  {
   "cell_type": "code",
   "execution_count": null,
   "metadata": {},
   "outputs": [],
   "source": [
    "from numpy.lib.stride_tricks import sliding_window_view\n",
    "\n",
    "a = sliding_window_view(corr_traces,50,axis=-1)"
   ]
  }
 ],
 "metadata": {
  "kernelspec": {
   "display_name": "data_analysis",
   "language": "python",
   "name": "python3"
  },
  "language_info": {
   "codemirror_mode": {
    "name": "ipython",
    "version": 3
   },
   "file_extension": ".py",
   "mimetype": "text/x-python",
   "name": "python",
   "nbconvert_exporter": "python",
   "pygments_lexer": "ipython3",
   "version": "3.10.8"
  },
  "orig_nbformat": 4,
  "vscode": {
   "interpreter": {
    "hash": "cce1618081139d19eb1ee8d40815d94a2de4f62e1efb20d9406ddb60628c36ae"
   }
  }
 },
 "nbformat": 4,
 "nbformat_minor": 2
}
