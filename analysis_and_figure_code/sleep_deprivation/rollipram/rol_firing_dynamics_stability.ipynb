{
 "cells": [
  {
   "attachments": {},
   "cell_type": "markdown",
   "metadata": {},
   "source": [
    "### Imports"
   ]
  },
  {
   "cell_type": "code",
   "execution_count": 1,
   "metadata": {},
   "outputs": [],
   "source": [
    "import matplotlib.pyplot as plt\n",
    "import numpy as np\n",
    "import seaborn as sns\n",
    "from neuropy import plotting\n",
    "from scipy.ndimage import gaussian_filter1d\n",
    "from neuropy import plotting\n",
    "from scipy import stats\n",
    "import subjects\n",
    "import pandas as pd"
   ]
  },
  {
   "cell_type": "markdown",
   "metadata": {},
   "source": [
    "### Firing rate stability and saving in separate file\n",
    "- something like Miyawaki et al. 2016"
   ]
  },
  {
   "cell_type": "code",
   "execution_count": 2,
   "metadata": {},
   "outputs": [
    {
     "name": "stdout",
     "output_type": "stream",
     "text": [
      "/data/Clustering/sessions/rolipram/BGN_2019-10-19_SDROL/BGN_2019-10-19_SDROL.neurons.stable saved\n",
      "/data/Clustering/sessions/rolipram/BGU_2021-08-09_SDROL/BGU_2021-08-09_SDROL.neurons.stable saved\n"
     ]
    }
   ],
   "source": [
    "# sessions = subjects.mua_sess()\n",
    "sessions = subjects.sdrol.allsess\n",
    "frate_all=[]\n",
    "for sub, sess in enumerate(sessions):\n",
    "    pre = sess.paradigm[\"pre\"].flatten()\n",
    "    post = sess.paradigm[\"post\"].flatten()\n",
    "    # neurons = sess.neurons.get_neuron_type([\"pyr\",'inter','mua'])\n",
    "    neurons = sess.neurons\n",
    "    \n",
    "    rec_duration = sess.eegfile.duration\n",
    "    windows = np.linspace(0,rec_duration,6)\n",
    "    n_windows = len(windows)-1\n",
    "    epochs = np.vstack([windows[:-1],windows[1:]]).T\n",
    "\n",
    "    mean_frate = neurons.firing_rate[:,np.newaxis]\n",
    "\n",
    "    frate = []\n",
    "    for i,e in enumerate(epochs):\n",
    "        if sess.artifact is not None: \n",
    "            artifact_duration = sess.artifact.time_slice(*e,strict=False).durations.sum()\n",
    "        else:\n",
    "            artifact_duration = 0\n",
    "        n_spikes = neurons.time_slice(*e).n_spikes\n",
    "        e_duration = e[1]-e[0]\n",
    "        frate.append(n_spikes / (e_duration - artifact_duration))\n",
    "\n",
    "    frate = np.array(frate).T \n",
    "    frate_perc = frate/mean_frate\n",
    "\n",
    "    stable_bool = np.count_nonzero((frate_perc>(1/4)),axis=1)==n_windows\n",
    "    stable_neurons = neurons[stable_bool]\n",
    "    # sess.neurons_stable.save_with_date(sess.filePrefix.with_suffix('.neurons.stable'))\n",
    "    stable_neurons.save(sess.filePrefix.with_suffix('.neurons.stable'))\n",
    "    frate_all.append(frate_perc)\n",
    "\n",
    "# frate_all = np.vstack(frate_all)"
   ]
  }
 ],
 "metadata": {
  "kernelspec": {
   "display_name": "data_analysis",
   "language": "python",
   "name": "python3"
  },
  "language_info": {
   "codemirror_mode": {
    "name": "ipython",
    "version": 3
   },
   "file_extension": ".py",
   "mimetype": "text/x-python",
   "name": "python",
   "nbconvert_exporter": "python",
   "pygments_lexer": "ipython3",
   "version": "3.10.8"
  },
  "orig_nbformat": 4,
  "vscode": {
   "interpreter": {
    "hash": "cce1618081139d19eb1ee8d40815d94a2de4f62e1efb20d9406ddb60628c36ae"
   }
  }
 },
 "nbformat": 4,
 "nbformat_minor": 2
}
