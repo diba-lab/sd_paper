{
 "cells": [
  {
   "attachments": {},
   "cell_type": "markdown",
   "metadata": {},
   "source": [
    "### Imports"
   ]
  },
  {
   "cell_type": "code",
   "execution_count": 2,
   "metadata": {},
   "outputs": [],
   "source": [
    "import matplotlib.pyplot as plt\n",
    "import numpy as np\n",
    "from neuropy import plotting\n",
    "from plotters import Plotter\n",
    "import pandas as pd\n",
    "from tqdm.notebook import tqdm\n",
    "from scipy import stats\n",
    "import seaborn as sns\n",
    "import subjects\n",
    "from stats_utils import get_bootstrap_prob, get_bootstrap_prob_paired\n",
    "from stats_utils import bootstrap_resample"
   ]
  },
  {
   "attachments": {},
   "cell_type": "markdown",
   "metadata": {},
   "source": [
    "### Ripple rate"
   ]
  },
  {
   "cell_type": "code",
   "execution_count": null,
   "metadata": {},
   "outputs": [],
   "source": [
    "# Uncomment if you want to re-run the bootstrapping\n",
    "\n",
    "from stats_utils import bootstrap_resample, resample\n",
    "\n",
    "rpl_rate = subjects.GroupData().ripple_rate.drop([\"name\"], axis=1)\n",
    "func = lambda df: df.groupby([\"grp\", \"zt\"], sort=False).mean().reset_index()\n",
    "rpl_df = bootstrap_resample(\n",
    "    rpl_rate, level=\"session\", n_iter=10000, n_jobs=6, apply=func\n",
    ").drop(columns=\"session\")\n",
    "\n",
    "subjects.GroupData().save(rpl_df, \"ripple_rate_bootstrap_session\")"
   ]
  },
  {
   "cell_type": "code",
   "execution_count": null,
   "metadata": {},
   "outputs": [],
   "source": [
    "rpl_df = subjects.GroupData().ripple_rate_bootstrap_session\n",
    "fig = plotting.Fig(4, 5)\n",
    "ax = fig.subplot(fig.gs[1])\n",
    "plotter = Plotter(data=rpl_df, x=\"zt\", y=\"rate\", hue=\"grp\", hue_order=[\"NSD\", \"SD\"])\n",
    "plotter.violinplot_sd(split=True, palette=subjects.colors_sd(1)).stat_anot_sd(\n",
    "    stat_across=get_bootstrap_prob,\n",
    "    stat_within=get_bootstrap_prob_paired,\n",
    "    alpha_within=0.025,\n",
    "    alpha_across=0.025,\n",
    ")"
   ]
  },
  {
   "attachments": {},
   "cell_type": "markdown",
   "metadata": {},
   "source": [
    "### Ripple properties"
   ]
  },
  {
   "cell_type": "code",
   "execution_count": null,
   "metadata": {},
   "outputs": [],
   "source": [
    "## Uncomment if you want to re-run the bootstrapping\n",
    "from stats_utils import bootstrap_resample\n",
    "\n",
    "rpl_features = subjects.GroupData().ripple_features\n",
    "func = lambda df: df.groupby([\"grp\", \"zt\"], sort=False).mean().reset_index()\n",
    "rpl_df = bootstrap_resample(\n",
    "    rpl_features, level=\"both\", n_iter=10000, n_jobs=8, apply=func\n",
    ")\n",
    "\n",
    "subjects.GroupData().save(rpl_df, \"ripple_bootstrap_session_ripples\")"
   ]
  },
  {
   "cell_type": "code",
   "execution_count": null,
   "metadata": {},
   "outputs": [],
   "source": [
    "rpl_df = subjects.GroupData().ripple_bootstrap_session_ripples\n",
    "y_labels = [\n",
    "    \"Ripple frequency (Hz)\",\n",
    "    \"Sharp wave amplitude \\n(Normalized to PRE)\",\n",
    "    \"Ripple power (zscore) \\n(Normalized to PRE)\",\n",
    "]\n",
    "\n",
    "fig = subjects.SdFig().fig1\n",
    "\n",
    "for i, param in enumerate([\"peak_freq\", \"sw_amp\", \"ripple_power\"]):\n",
    "    ax = fig.subplot(fig.gs[1, i])\n",
    "    plotter = Plotter(data=rpl_df, x=\"zt\", y=param, hue=\"grp\", ax=ax)\n",
    "    plotter.violinplot_sd(split=False, palette=subjects.colors_sd(1)).stat_anot_sd(\n",
    "        stat_within=get_bootstrap_prob_paired,\n",
    "        stat_across=get_bootstrap_prob,\n",
    "        alpha_within=0.025,\n",
    "        alpha_across=0.025,\n",
    "        fontsize=5,\n",
    "    )\n",
    "    ax.legend(\"\", frameon=False)\n",
    "    ax.set_xlabel(\"\")\n",
    "    ax.set_ylabel(y_labels[i])\n",
    "\n",
    "fig.savefig(subjects.figpath_sd / \"ripple_bootstrap_test\")"
   ]
  },
  {
   "cell_type": "markdown",
   "metadata": {},
   "source": [
    "### (1h block) Ripple properties"
   ]
  },
  {
   "cell_type": "code",
   "execution_count": 5,
   "metadata": {},
   "outputs": [
    {
     "name": "stdout",
     "output_type": "stream",
     "text": [
      "ripple_1h_blocks_bootstrap_session_ripples saved\n"
     ]
    }
   ],
   "source": [
    "## Uncomment if you want to re-run the bootstrapping\n",
    "from stats_utils import bootstrap_resample\n",
    "\n",
    "rpl_features = subjects.GroupData().ripple_features_1h_blocks\n",
    "func = lambda df: df.groupby([\"grp\", \"zt\"], sort=False).mean().reset_index()\n",
    "rpl_df = bootstrap_resample(\n",
    "    rpl_features, level=\"both\", n_iter=10000, n_jobs=8, apply=func\n",
    ")\n",
    "\n",
    "subjects.GroupData().save(rpl_df, \"ripple_1h_blocks_bootstrap_session_ripples\")"
   ]
  },
  {
   "cell_type": "code",
   "execution_count": null,
   "metadata": {},
   "outputs": [],
   "source": [
    "rpl_df = subjects.GroupData().ripple_1h_blocks_bootstrap_session_ripples\n",
    "y_labels = [\n",
    "    \"Ripple frequency (Hz)\",\n",
    "    \"Sharp wave amplitude \\n(Normalized to PRE)\",\n",
    "    \"Ripple power (zscore) \\n(Normalized to PRE)\",\n",
    "]\n",
    "\n",
    "fig = subjects.SdFig().fig1\n",
    "\n",
    "for i, param in enumerate([\"peak_freq\", \"sw_amp\", \"ripple_power\"]):\n",
    "    ax = fig.subplot(fig.gs[1, i])\n",
    "    plotter = Plotter(data=rpl_df, x=\"zt\", y=param, hue=\"grp\", ax=ax)\n",
    "    plotter.violinplot_sd(split=False, palette=subjects.colors_sd(1)).stat_anot_sd(\n",
    "        stat_within=get_bootstrap_prob_paired,\n",
    "        stat_across=get_bootstrap_prob,\n",
    "        alpha_within=0.025,\n",
    "        alpha_across=0.025,\n",
    "        fontsize=5,\n",
    "    )\n",
    "    ax.legend(\"\", frameon=False)\n",
    "    ax.set_xlabel(\"\")\n",
    "    ax.set_ylabel(y_labels[i])\n",
    "\n",
    "# fig.savefig(subjects.figpath_sd / \"ripple_bootstrap_test\")"
   ]
  },
  {
   "cell_type": "markdown",
   "metadata": {},
   "source": [
    "### Normalized ripple properties"
   ]
  },
  {
   "cell_type": "code",
   "execution_count": 4,
   "metadata": {},
   "outputs": [
    {
     "name": "stderr",
     "output_type": "stream",
     "text": [
      "100%|██████████| 10000/10000 [06:05<00:00, 27.38it/s]\n",
      "100%|██████████| 10000/10000 [06:26<00:00, 25.87it/s]\n"
     ]
    },
    {
     "name": "stdout",
     "output_type": "stream",
     "text": [
      "ripple_normalized_bootstrap_session_ripples saved\n"
     ]
    }
   ],
   "source": [
    "## Uncomment if you want to re-run the bootstrapping\n",
    "from stats_utils import bootstrap_resample\n",
    "\n",
    "rpl_features = subjects.GroupData().ripple_features_normalized\n",
    "func = lambda df: df.groupby([\"grp\", \"zt\"], sort=False).mean().reset_index()\n",
    "rpl_df = bootstrap_resample(\n",
    "    rpl_features, level=\"both\", n_iter=10000, n_jobs=8, apply=func\n",
    ")\n",
    "\n",
    "subjects.GroupData().save(rpl_df, \"ripple_normalized_bootstrap_session_ripples\")"
   ]
  },
  {
   "attachments": {},
   "cell_type": "markdown",
   "metadata": {},
   "source": [
    "### Get bootstrap means for ripple properties statewise"
   ]
  },
  {
   "cell_type": "code",
   "execution_count": null,
   "metadata": {},
   "outputs": [],
   "source": [
    "# Uncomment if you want to re-run the bootstrapping\n",
    "\n",
    "rpl_features = subjects.GroupData().ripple_features_brainstate\n",
    "# rpl_features = rpl_features[\n",
    "#     ~((rpl_features.zt == \"2.5-5\") & (rpl_features.grp == \"SD\"))\n",
    "# ]\n",
    "\n",
    "func = lambda df: df.groupby([\"zt\"], sort=False).mean(numeric_only=True).reset_index()\n",
    "\n",
    "for state in [\"WK\", \"NREM\"]:\n",
    "    rpl_df = bootstrap_resample(\n",
    "        rpl_features[rpl_features.brainstate == state],\n",
    "        level=\"both\",\n",
    "        n_iter=10000,\n",
    "        n_jobs=8,\n",
    "        apply=func,\n",
    "    )\n",
    "\n",
    "    subjects.GroupData().save(rpl_df, f\"ripple_{state}_bootstrap_session_ripples\")"
   ]
  },
  {
   "cell_type": "code",
   "execution_count": null,
   "metadata": {},
   "outputs": [],
   "source": [
    "df1 = subjects.GroupData().ripple_NREM_bootstrap_session_ripples\n",
    "df1[\"state\"] = \"NREM\"\n",
    "df2 = subjects.GroupData().ripple_WK_bootstrap_session_ripples\n",
    "df2[\"state\"] = \"WK\"\n",
    "\n",
    "df = pd.concat([df1, df2], ignore_index=True)\n",
    "\n",
    "\n",
    "fig = plotting.Fig(5, 5)\n",
    "for g, grp in enumerate([\"NSD\", \"SD\"]):\n",
    "    # for i, df in enumerate([df1, df2]):\n",
    "    ax = fig.subplot(fig.gs[g])\n",
    "    plotter = Plotter(\n",
    "        data=df[df.grp == grp],\n",
    "        x=\"zt\",\n",
    "        y=\"peak_freq\",\n",
    "        hue=\"state\",\n",
    "        hue_order=[\"WK\", \"NREM\"],\n",
    "        ax=ax,\n",
    "    )\n",
    "    plotter.violinplot_sd(palette=None)\n",
    "    ax.set_ylim([140, 190])\n",
    "\n",
    "# fig.savefig(subjects.figpath_sd / \"ripple_brainstate_sd\")"
   ]
  },
  {
   "cell_type": "markdown",
   "metadata": {},
   "source": [
    "### Bootstrap ripple rate trend (5 minutes window)"
   ]
  },
  {
   "cell_type": "code",
   "execution_count": 7,
   "metadata": {},
   "outputs": [
    {
     "name": "stdout",
     "output_type": "stream",
     "text": [
      "ripple_rate_post5h_trend_bootstrap saved\n"
     ]
    }
   ],
   "source": [
    "from ripple_utils import get_ripple_rate_trend\n",
    "\n",
    "rpl_rate = subjects.GroupData().ripple_rate_post5h_trend\n",
    "\n",
    "boot_df = bootstrap_resample(\n",
    "    rpl_rate, level=\"session\", n_iter=10000, n_jobs=6, apply=get_ripple_rate_trend\n",
    ")\n",
    "\n",
    "subjects.GroupData().save(boot_df, \"ripple_rate_post5h_trend_bootstrap\")"
   ]
  }
 ],
 "metadata": {
  "kernelspec": {
   "display_name": "Python 3 (ipykernel)",
   "language": "python",
   "name": "python3"
  },
  "language_info": {
   "codemirror_mode": {
    "name": "ipython",
    "version": 3
   },
   "file_extension": ".py",
   "mimetype": "text/x-python",
   "name": "python",
   "nbconvert_exporter": "python",
   "pygments_lexer": "ipython3",
   "version": "3.11.6"
  }
 },
 "nbformat": 4,
 "nbformat_minor": 4
}
