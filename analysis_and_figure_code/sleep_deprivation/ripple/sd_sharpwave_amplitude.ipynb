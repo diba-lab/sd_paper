{
 "cells": [
  {
   "cell_type": "code",
   "execution_count": null,
   "id": "3b2aae70-6092-4319-b170-58465d5085b9",
   "metadata": {},
   "outputs": [],
   "source": [
    "from joblib import Parallel, delayed\n",
    "from neuropy.utils.signal_process import filter_sig\n",
    "\n",
    "sessions = subjects.ripple_sess()\n",
    "\n",
    "get_extrema = lambda arr: arr[np.argmax(np.abs(arr))]\n",
    "\n",
    "\n",
    "def get_max_val(x, t, bins):\n",
    "    return stats.binned_statistic(t, x, bins=bins, statistic=get_extrema)[0][::2]\n",
    "\n",
    "\n",
    "for sub, sess in enumerate(tqdm(sessions)):\n",
    "\n",
    "    srate= sess.eegfile.sampling_rate\n",
    "    good_channels = np.concatenate(sess.probegroup.get_connected_channels()).astype(\n",
    "        \"int\"\n",
    "    )\n",
    "    rpl_epochs = sess.ripple.flatten()\n",
    "    rpl_starts = rpl_epochs[::2]\n",
    "    rpl_traces, t = sess.eegfile.get_frames_within_epochs(\n",
    "        sess.ripple, good_channels, ret_time=True\n",
    "    )\n",
    "    rpl_traces = filter_sig.bandpass(rpl_traces, lf=2, hf=30, fs=srate)\n",
    "\n",
    "    max_val = Parallel(n_jobs=8)(\n",
    "        delayed(get_max_val)(arr, t, rpl_epochs) for arr in rpl_traces\n",
    "    )\n",
    "    max_val = np.asarray(max_val)\n",
    "\n",
    "    # raw amplitude in mV\n",
    "    amp_raw = np.ptp(max_val, axis=0) * 0.95 * 1e-3\n",
    "\n",
    "    new_epochs = sess.ripple.add_column(\"sharp_wave_amp\", amp_raw)\n",
    "    new_epochs.save(sess.filePrefix.with_suffix(\".ripple\"))\n"
   ]
  }
 ],
 "metadata": {
  "kernelspec": {
   "display_name": "Python 3 (ipykernel)",
   "language": "python",
   "name": "python3"
  },
  "language_info": {
   "codemirror_mode": {
    "name": "ipython",
    "version": 3
   },
   "file_extension": ".py",
   "mimetype": "text/x-python",
   "name": "python",
   "nbconvert_exporter": "python",
   "pygments_lexer": "ipython3",
   "version": "3.11.6"
  }
 },
 "nbformat": 4,
 "nbformat_minor": 5
}
