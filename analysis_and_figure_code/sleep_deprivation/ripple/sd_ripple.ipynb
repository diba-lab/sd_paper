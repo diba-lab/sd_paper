{
 "cells": [
  {
   "cell_type": "markdown",
   "metadata": {},
   "source": [
    "### Hypotheses\n",
    "- [Lower ripple rate during SD compared NSD](#ripple_rate): One possibility of faster decay of replay during sleep deprivation could be reduced ripple rate at the beginning of POST. This may suggest that in order for cells to replay they need sufficient number/amount of elicitation to last for certain duration of time, so a lower ripple rate could interrupt this requirement.\n"
   ]
  },
  {
   "cell_type": "markdown",
   "metadata": {},
   "source": [
    "### File related history\n",
    "- 03/16/22 .ripple.no_merge.npy was saved as .ripple.npy to avoid confusion and fragmentation. So .ripple.npy now has ripples that have not been merged. "
   ]
  },
  {
   "cell_type": "markdown",
   "metadata": {},
   "source": [
    "### Imports"
   ]
  },
  {
   "cell_type": "code",
   "execution_count": 1,
   "metadata": {},
   "outputs": [],
   "source": [
    "import matplotlib.pyplot as plt\n",
    "import numpy as np\n",
    "from neuropy.plotting import Fig\n",
    "import pandas as pd\n",
    "from scipy import stats\n",
    "import subjects"
   ]
  },
  {
   "cell_type": "markdown",
   "metadata": {},
   "source": [
    "### Create ripple file backup"
   ]
  },
  {
   "cell_type": "code",
   "execution_count": null,
   "metadata": {},
   "outputs": [],
   "source": [
    "sessions = subjects.nsd.ripple_sess + subjects.sd.ripple_sess\n",
    "print(f\"#Sessions: {len(sessions)}\")\n",
    "\n",
    "for sub, sess in enumerate(sessions):\n",
    "    # sess.ripple.save(sess.filePrefix.with_suffix('.ripple'))\n",
    "    # sess.ripple.metadata['channels']\n",
    "    pass"
   ]
  },
  {
   "cell_type": "markdown",
   "metadata": {},
   "source": [
    "### Detect ripples for multiple sessions together"
   ]
  },
  {
   "cell_type": "code",
   "execution_count": 2,
   "metadata": {},
   "outputs": [],
   "source": [
    "sessions = (\n",
    "    # subjects.sd.ratJday1\n",
    "    # + subjects.sd.ratKday1\n",
    "    # + subjects.sd.ratNday1\n",
    "    # + subjects.sd.ratSday3\n",
    "    # + subjects.sd.ratRday2\n",
    "    # + subjects.sd.ratUday1\n",
    "    # + subjects.sd.ratUday4\n",
    "    # + subjects.sd.ratVday2\n",
    "    # + subjects.nsd.ratJday2\n",
    "    # + subjects.nsd.ratKday2\n",
    "    # + subjects.nsd.ratNday2\n",
    "    # + subjects.nsd.ratSday2\n",
    "    # + subjects.nsd.ratRday1\n",
    "    subjects.nsd.ratUday2\n",
    "    + subjects.nsd.ratVday1\n",
    "    + subjects.nsd.ratVday3\n",
    ")\n",
    "\n",
    "\n",
    "# sessions = subjects.sd.utkuAG_day1 + subjects.sd.utkuAG_day2"
   ]
  },
  {
   "cell_type": "code",
   "execution_count": null,
   "metadata": {},
   "outputs": [],
   "source": [
    "from tqdm.notebook import tqdm\n",
    "from neuropy.analyses.oscillations import detect_ripple_epochs\n",
    "\n",
    "for sub, sess in enumerate(tqdm(sessions)):\n",
    "    try:\n",
    "        artifact = sess.artifact\n",
    "    except:\n",
    "        artifact = None\n",
    "\n",
    "    channels = sess.ripple.metadata[\"channels\"]\n",
    "    signal = sess.eegfile.get_signal(channels)\n",
    "    ripples = detect_ripple_epochs(\n",
    "        signal,\n",
    "        # probegroup=sess.probegroup,\n",
    "        freq_band=(125, 250),\n",
    "        thresh=(2.5, 30),\n",
    "        edge_cutoff=0.5,\n",
    "        sigma=0.0125,\n",
    "        ignore_epochs=artifact,\n",
    "    )\n",
    "\n",
    "    ripples.save(sess.filePrefix.with_suffix(\".ripple.npy\"))\n",
    "    # ripples.save(sess.filePrefix.with_suffix(\".ripple.no_merge.npy\"))"
   ]
  },
  {
   "cell_type": "markdown",
   "metadata": {},
   "source": [
    "### Export to Neuroscope"
   ]
  },
  {
   "cell_type": "code",
   "execution_count": 3,
   "metadata": {},
   "outputs": [],
   "source": [
    "sess = subjects.sd.ratNday1[0]\n",
    "epochs = sess.ripple.duration_slice(0.1)\n",
    "sess.recinfo.write_epochs(epochs, \".rpa\")"
   ]
  },
  {
   "cell_type": "markdown",
   "metadata": {},
   "source": [
    "### Ripple band SNR across channels and depth visualization"
   ]
  },
  {
   "cell_type": "code",
   "execution_count": null,
   "metadata": {},
   "outputs": [],
   "source": [
    "import numpy as np\n",
    "import subjects\n",
    "\n",
    "sessions = subjects.sd.ratUday4"
   ]
  },
  {
   "cell_type": "code",
   "execution_count": null,
   "metadata": {},
   "outputs": [],
   "source": [
    "from neuropy.utils.signal_process import hilbertfast, filter_sig\n",
    "\n",
    "for sub, sess in enumerate(sessions):\n",
    "    probe_layout = sess.probegroup.to_dataframe()\n",
    "    probe_layout = probe_layout[probe_layout.connected]\n",
    "    good_chans = probe_layout.channel_id.values\n",
    "    post = sess.paradigm[\"post\"].flatten()\n",
    "    t_start, t_stop = [post[0] + 5 * 3600, post[0] + 7 * 3600]\n",
    "\n",
    "    snr = []\n",
    "    for chan in good_chans:\n",
    "        signal = sess.eegfile.get_signal(chan, t_start=t_start, t_stop=t_stop)\n",
    "        rpl_bp = filter_sig.bandpass(signal, lf=0.5, hf=4).traces[0]\n",
    "        hilbert_amp = np.abs(hilbertfast(rpl_bp))\n",
    "        snr.append(np.std(hilbert_amp))"
   ]
  },
  {
   "cell_type": "code",
   "execution_count": null,
   "metadata": {},
   "outputs": [],
   "source": [
    "%matplotlib widget\n",
    "import matplotlib.pyplot as plt\n",
    "from neuropy.plotting import Fig\n",
    "\n",
    "snr = np.asarray(snr)\n",
    "\n",
    "fig = Fig(grid=(4,2), fontsize=10,dpi=100)\n",
    "ax = fig.subplot(fig.gs[0])\n",
    "ax.scatter(probe_layout.x, probe_layout.y, c=snr, cmap=\"jet\")\n",
    "ax.axis(\"off\")\n",
    "\n",
    "ax = fig.subplot(fig.gs[1, 0])\n",
    "ax.scatter(good_chans, snr, color=\"gray\")\n",
    "ax.axhline(np.median(snr), color=\"k\", ls=\"--\")\n",
    "ax.set_ylabel(\"SNR\")\n",
    "ax.set_xlabel(\"Channel id\")\n",
    "\n",
    "ax = fig.subplot(fig.gs[:2, 1])\n",
    "bins = np.arange(snr.min(), snr.max(), 5)\n",
    "hist_snr = np.histogram(snr, bins)[0]\n",
    "ax.plot(bins[:-1] + 2.5, hist_snr, color=\"gray\")\n",
    "ax.axvline(np.median(snr), color=\"k\", ls=\"--\")\n"
   ]
  },
  {
   "cell_type": "markdown",
   "metadata": {},
   "source": [
    "### Detecting noisy ripples using PCA/KMeans\n",
    "- Since faster-oscillation artifacts have power in ripple band, these may get picked up during ripple detection based on hilbert transform. These ripple-like artifacts can possibly be eliminated using clustering algorithms.  "
   ]
  },
  {
   "cell_type": "code",
   "execution_count": null,
   "metadata": {},
   "outputs": [],
   "source": [
    "import matplotlib.pyplot as plt\n",
    "import numpy as np\n",
    "from neuropy.plotting import Fig\n",
    "import pandas as pd\n",
    "from scipy import stats\n",
    "import subjects\n",
    "\n",
    "sessions = subjects.sd.ratNday1"
   ]
  },
  {
   "cell_type": "code",
   "execution_count": null,
   "metadata": {},
   "outputs": [],
   "source": [
    "from neuropy.utils.signal_process import hilbertfast, filter_sig\n",
    "from sklearn.decomposition import PCA\n",
    "\n",
    "for sub, sess in enumerate(sessions):\n",
    "    good_chans = np.concatenate(sess.probegroup.get_connected_channels())\n",
    "    pca_ripples = []\n",
    "    for i in range(len(sess.ripple)):\n",
    "        rpls = sess.ripple[i].flatten()\n",
    "        signal = sess.eegfile.get_signal(good_chans.astype(\"int\"), rpls[0], rpls[1])\n",
    "        hilbert_amp = np.abs(\n",
    "            hilbertfast(filter_sig.bandpass(signal.traces, lf=130, hf=250, ax=-1), ax=1)\n",
    "        )\n",
    "\n",
    "        pca = PCA(n_components=1).fit_transform(hilbert_amp)\n",
    "        pca_ripples.append(pca.reshape(-1))\n",
    "pca_ripples = np.asarray(pca_ripples)"
   ]
  },
  {
   "cell_type": "code",
   "execution_count": null,
   "metadata": {},
   "outputs": [],
   "source": [
    "from sklearn.cluster import KMeans, DBSCAN\n",
    "from sklearn.mixture import GaussianMixture\n",
    "from sklearn.preprocessing import MinMaxScaler\n",
    "from neuropy.core import Epoch\n",
    "from sklearn.neighbors import LocalOutlierFactor\n",
    "\n",
    "\n",
    "pca_of_rpl_amp = PCA(n_components=2).fit_transform(pca_ripples)\n",
    "features = MinMaxScaler().fit_transform(pca_of_rpl_amp)\n",
    "labels = GaussianMixture(n_components=2, random_state=0).fit_predict(features)\n",
    "outliers = LocalOutlierFactor(n_neighbors=20).fit_predict(features)\n",
    "\n",
    "# starts,stops = sess.ripple.starts,sess.ripple.stops\n",
    "# weird_ripples = Epoch.from_array(starts[labels==0],stops[labels==0])\n",
    "# sess.recinfo.write_epochs(weird_ripples,ext='wrp')"
   ]
  },
  {
   "cell_type": "code",
   "execution_count": null,
   "metadata": {},
   "outputs": [],
   "source": [
    "%matplotlib widget\n",
    "\n",
    "for l in [0,1]:\n",
    "    plt.plot(features[labels==l,0],features[labels==l,1],'.')\n",
    "\n",
    "plt.plot(features[outliers==-1,0],features[outliers==-1,1],'k.')"
   ]
  },
  {
   "cell_type": "markdown",
   "metadata": {},
   "source": [
    "### Bursty ripples SD vs NSD"
   ]
  },
  {
   "cell_type": "code",
   "execution_count": null,
   "metadata": {},
   "outputs": [],
   "source": [
    "import matplotlib.pyplot as plt\n",
    "from neuropy.utils.signal_process import WaveletSg\n",
    "import numpy as np\n",
    "from neuropy.plotting import Fig\n",
    "import pandas as pd\n",
    "from tqdm.notebook import tqdm\n",
    "from scipy import stats\n",
    "import subjects\n",
    "\n",
    "sessions = (\n",
    "    subjects.sd.ratJday1\n",
    "    + subjects.sd.ratKday1\n",
    "    + subjects.sd.ratNday1\n",
    "    + subjects.sd.ratSday3\n",
    "    + subjects.sd.ratRday2\n",
    "    + subjects.sd.ratUday1\n",
    "    + subjects.sd.ratUday4\n",
    "    + subjects.sd.ratVday2\n",
    "    + subjects.nsd.ratJday2\n",
    "    + subjects.nsd.ratKday2\n",
    "    + subjects.nsd.ratNday2\n",
    "    + subjects.nsd.ratSday2\n",
    "    + subjects.nsd.ratRday1\n",
    "    + subjects.nsd.ratUday2\n",
    "    + subjects.nsd.ratVday1\n",
    "    + subjects.nsd.ratVday3\n",
    ")\n",
    "rpl_channels = [39, 63, 111, 95, 49, 117, 100, 85, 63, 63, 36, 188, 16, 99, 86, 9]\n",
    "\n",
    "assert len(rpl_channels) == len(sessions)"
   ]
  },
  {
   "cell_type": "code",
   "execution_count": null,
   "metadata": {},
   "outputs": [],
   "source": [
    "from neuropy.utils.signal_process import filter_sig, hilbertfast\n",
    "from scipy.ndimage import gaussian_filter1d\n",
    "from scipy.signal import find_peaks\n",
    "from neuropy.analyses.brainstates import hmmfit1d\n",
    "\n",
    "peak_rate = []\n",
    "for sub, sess in enumerate(sessions):\n",
    "    post = sess.paradigm[\"post\"].flatten()\n",
    "    zt = np.array([0, 4])\n",
    "    starts = zt * 3600 + post[0]\n",
    "    peak_rate_sub = []\n",
    "    for i, s in enumerate(starts):\n",
    "        rpls = sess.ripple.time_slice(s, s + 3600)\n",
    "\n",
    "        srate = sess.eegfile.sampling_rate\n",
    "        dt = 1 / srate\n",
    "        smooth_window = 0.008  # 20 ms\n",
    "        sigma = smooth_window / dt\n",
    "\n",
    "        rpl_lfp = sess.eegfile.get_frames_within_epochs(rpls, rpl_channels[sub])\n",
    "        rpl_bp = filter_sig.bandpass(rpl_lfp, fs=1250, lf=125, hf=250)\n",
    "        hilbert_amp = np.abs(hilbertfast(rpl_bp))\n",
    "\n",
    "        hilbert_smth = gaussian_filter1d(hilbert_amp, sigma=sigma)\n",
    "        hilbert_smth_zsc = stats.zscore(hilbert_smth)\n",
    "\n",
    "        peaks = find_peaks(hilbert_smth_zsc, height=1)[0]\n",
    "        peak_rate_sub.append(len(peaks) / len(rpls))\n",
    "\n",
    "    df = pd.DataFrame(dict(zt=zt, peak_rate=peak_rate_sub, grp=sess.tag))\n",
    "    peak_rate.append(df)\n",
    "\n",
    "peak_rate = pd.concat(peak_rate, ignore_index=True)"
   ]
  },
  {
   "cell_type": "code",
   "execution_count": null,
   "metadata": {},
   "outputs": [],
   "source": [
    "%matplotlib widget\n",
    "import seaborn as sns\n",
    "from neuropy.plotting import Fig\n",
    "\n",
    "fig = Fig(grid=(3,3),fontsize=12)\n",
    "ax=fig.subplot(fig.gs[0])\n",
    "sns.boxplot(\n",
    "    data=peak_rate, x=\"zt\", y=\"peak_rate\", hue=\"grp\", hue_order=['NSD','SD'],palette=subjects.colors_sd(1.6)\n",
    ")\n",
    "sns.swarmplot(\n",
    "    data=peak_rate,\n",
    "    x=\"zt\",\n",
    "    y=\"peak_rate\",\n",
    "    hue=\"grp\",\n",
    "    hue_order=['NSD','SD'],\n",
    "    palette=subjects.colors_sd(1),\n",
    "    dodge=True,\n",
    "    size=8,\n",
    "    # edgecolors='w',\n",
    ")\n",
    "ax.set_xticks([0,1],['0-1','4-5'])\n",
    "ax.set_xlabel('Zt time (h)')\n",
    "ax.set_ylabel('# hilbert peaks every ripple')\n",
    "ax.set_title('Amount of ripple merging\\nearly vs late')\n",
    "ax.legend([],frameon=False)\n",
    "fig.legend(ax,['NSD','SD'],subjects.colors_sd(1.4),x=1,dy=0.06,fontsize=10)\n"
   ]
  },
  {
   "cell_type": "code",
   "execution_count": null,
   "metadata": {},
   "outputs": [],
   "source": [
    "%matplotlib widget\n",
    "\n",
    "_,axs= plt.subplots(2,1,sharex=True)\n",
    "axs[0].plot(rpl_bp)\n",
    "axs[0].plot(hilbert_amp)\n",
    "# axs[0].plot(rpl_smth)\n",
    "axs[0].plot(hilbert_smth,'r')\n",
    "# axs[0].plot(hilbert_hilbert_amp,'r')\n",
    "# plt.plot(peaks,hilbert_smth[peaks],'k*')\n",
    "axs[1].plot(hilbert_smth_zsc)\n",
    "axs[1].plot(peaks,hilbert_smth_zsc[peaks],'k*')\n",
    "\n",
    "# axs[1].plot(states)"
   ]
  }
 ],
 "metadata": {
  "interpreter": {
   "hash": "cce1618081139d19eb1ee8d40815d94a2de4f62e1efb20d9406ddb60628c36ae"
  },
  "kernelspec": {
   "display_name": "Python 3.9.7 64-bit ('data_analysis': conda)",
   "name": "python3"
  },
  "language_info": {
   "codemirror_mode": {
    "name": "ipython",
    "version": 3
   },
   "file_extension": ".py",
   "mimetype": "text/x-python",
   "name": "python",
   "nbconvert_exporter": "python",
   "pygments_lexer": "ipython3",
   "version": "3.10.11"
  },
  "orig_nbformat": 4
 },
 "nbformat": 4,
 "nbformat_minor": 2
}
