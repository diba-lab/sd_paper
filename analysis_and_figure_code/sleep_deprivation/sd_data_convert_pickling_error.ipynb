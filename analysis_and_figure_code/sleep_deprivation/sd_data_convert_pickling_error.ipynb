{
 "cells": [
  {
   "attachments": {},
   "cell_type": "markdown",
   "metadata": {},
   "source": [
    "### Imports"
   ]
  },
  {
   "cell_type": "code",
   "execution_count": null,
   "metadata": {},
   "outputs": [],
   "source": [
    "import numpy as np\n",
    "import pandas as pd\n",
    "import seaborn as sns\n",
    "from scipy import stats\n",
    "import scipy.signal as sg\n",
    "import matplotlib.pyplot as plt\n",
    "from neuropy import plotting\n",
    "import subjects"
   ]
  },
  {
   "attachments": {},
   "cell_type": "markdown",
   "metadata": {},
   "source": [
    "### Convert all GroupData files"
   ]
  },
  {
   "cell_type": "code",
   "execution_count": null,
   "metadata": {},
   "outputs": [],
   "source": [
    "grpdata = subjects.GroupData()\n",
    "filenames = grpdata.__slots__[1:]\n",
    "filepaths = [(grpdata.path / name).with_suffix(\".npy\") for name in filenames]\n",
    "\n",
    "for file in filepaths:\n",
    "    file_content = np.load(file, allow_pickle=True).item()\n",
    "    n_keys = len(file_content.keys())\n",
    "    if isinstance(file_content[\"data\"], pd.DataFrame):\n",
    "        grpdata.save(file_content[\"data\"], file.name)"
   ]
  },
  {
   "attachments": {},
   "cell_type": "markdown",
   "metadata": {},
   "source": [
    "### Convert all Epoch data"
   ]
  },
  {
   "cell_type": "code",
   "execution_count": null,
   "metadata": {},
   "outputs": [],
   "source": [
    "from neuropy.core import Epoch\n",
    "\n",
    "sessions = subjects.ripple_sess()\n",
    "\n",
    "for s, sess in enumerate(sessions[1:]):\n",
    "    attrs = sess.__dict__\n",
    "\n",
    "    for attr in attrs:\n",
    "        attr_data = getattr(sess, str(attr))\n",
    "        if isinstance(attr_data, Epoch):\n",
    "            attr_data.save(sess.filePrefix.with_suffix(f\".{attr}\"))"
   ]
  },
  {
   "cell_type": "code",
   "execution_count": null,
   "metadata": {},
   "outputs": [],
   "source": [
    "file = \"/data/Clustering/sessions/RatJ/Day2/RatJ_Day2_2019-06-02_03-59-19.ripple1.npy\"\n",
    "\n",
    "data = np.load(file, allow_pickle=True).item()"
   ]
  }
 ],
 "metadata": {
  "kernelspec": {
   "display_name": "data_analysis",
   "language": "python",
   "name": "python3"
  },
  "language_info": {
   "codemirror_mode": {
    "name": "ipython",
    "version": 3
   },
   "file_extension": ".py",
   "mimetype": "text/x-python",
   "name": "python",
   "nbconvert_exporter": "python",
   "pygments_lexer": "ipython3",
   "version": "3.11.0"
  },
  "orig_nbformat": 4
 },
 "nbformat": 4,
 "nbformat_minor": 2
}
