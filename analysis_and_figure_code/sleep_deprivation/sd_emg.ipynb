{
 "cells": [
  {
   "attachments": {},
   "cell_type": "markdown",
   "metadata": {},
   "source": [
    "### Imports"
   ]
  },
  {
   "cell_type": "code",
   "execution_count": null,
   "metadata": {},
   "outputs": [],
   "source": [
    "import numpy as np\n",
    "import pandas as pd\n",
    "import seaborn as sns\n",
    "from scipy import stats\n",
    "import scipy.signal as sg\n",
    "import matplotlib.pyplot as plt\n",
    "from tqdm.notebook import tqdm\n",
    "from neuropy import plotting\n",
    "from neuropy.analyses.brainstates import correlation_emg\n",
    "import subjects"
   ]
  },
  {
   "attachments": {},
   "cell_type": "markdown",
   "metadata": {},
   "source": [
    "### Test best channels for dual probes "
   ]
  },
  {
   "cell_type": "code",
   "execution_count": null,
   "metadata": {},
   "outputs": [],
   "source": [
    "from neuropy.core import Signal\n",
    "\n",
    "sessions = subjects.sd.ratSday3\n",
    "\n",
    "for s, sess in enumerate(tqdm(sessions)):\n",
    "    signal = sess.eegfile.get_signal(t_start=15000, t_stop=20000)\n",
    "    window = 0.5\n",
    "    overlap = 0\n",
    "    fs = 1 / (window - overlap)\n",
    "    emgs = []\n",
    "    for dist in [0, 30, 100, 400, 800]:\n",
    "        emg = correlation_emg(\n",
    "            signal=signal,\n",
    "            probe=sess.probegroup,\n",
    "            window=0.5,\n",
    "            overlap=0,\n",
    "            n_jobs=6,\n",
    "            min_dist=dist,\n",
    "        )\n",
    "        emgs.append(emg)\n",
    "\n",
    "    # emg_signal = Signal(traces=emg[np.newaxis, :], sampling_rate=fs, t_start=window / 2)"
   ]
  },
  {
   "cell_type": "code",
   "execution_count": null,
   "metadata": {},
   "outputs": [],
   "source": [
    "_, ax = plt.subplots()\n",
    "\n",
    "for i in range(5):\n",
    "    ax.plot(emgs[i])"
   ]
  },
  {
   "attachments": {},
   "cell_type": "markdown",
   "metadata": {},
   "source": [
    "### Generate correlation emg for all sessions\n",
    "- Correlation emg's are calculated using power in high frequency bands (300-600 Hz)."
   ]
  },
  {
   "cell_type": "code",
   "execution_count": null,
   "metadata": {},
   "outputs": [],
   "source": [
    "from neuropy.core import ProbeGroup\n",
    "from neuropy.core import Signal\n",
    "\n",
    "# sessions = subjects.ripple_sess()\n",
    "sessions = subjects.sd.ratKday1\n",
    "# sessions = subjects.nsd.ratKday2\n",
    "\n",
    "for s, sess in enumerate(tqdm(sessions)):\n",
    "    signal = sess.eegfile.get_signal()\n",
    "    window = 1\n",
    "    overlap = 0\n",
    "    fs = 1 / (window - overlap)\n",
    "    # emg = correlation_emg(\n",
    "    #     signal=signal, probe=sess.probegroup, window=window, overlap=overlap, n_jobs=8\n",
    "    # )\n",
    "    emg_signal = Signal(traces=emg[np.newaxis, :], sampling_rate=fs, t_start=window / 2)\n",
    "    emg_signal.save(sess.filePrefix.with_suffix(\".emg\"))"
   ]
  },
  {
   "attachments": {},
   "cell_type": "markdown",
   "metadata": {},
   "source": [
    "### Interpolate or exclude extreme values in EMG"
   ]
  },
  {
   "cell_type": "code",
   "execution_count": null,
   "metadata": {},
   "outputs": [],
   "source": [
    "from scipy.ndimage import gaussian_filter1d\n",
    "from neuropy.utils.signal_process import FourierSg\n",
    "\n",
    "sessions = subjects.nsd.ratSday2\n",
    "\n",
    "for s, sess in enumerate(sessions):\n",
    "    post = sess.paradigm[\"post\"].flatten()\n",
    "    # emg_signal = sess.emg\n",
    "    # emg = gaussian_filter1d(emg_signal.traces[0], 20)\n",
    "    # indices = (emg_signal.time > post[0]) & (emg_signal.time < post[0] + 5 * 3600)\n",
    "    # emg[indices] = gaussian_filter1d(emg[indices], 30)\n",
    "    # emg[emg > 0.5] = 0.3\n",
    "    corr_emg = gaussian_filter1d(sess.emg.traces[0], 20)\n",
    "    # channels = [50, 61, 55, 29, 13, 2, 14]\n",
    "    # # channels =\n",
    "    # emg_power = []\n",
    "    # for chan in channels:\n",
    "    #     signal = sess.eegfile.get_signal(chan)\n",
    "    #     spect = FourierSg(signal, window=2, overlap=1, norm_sig=True)\n",
    "    #     emg_power.append(spect.freq_slice(300).traces.sum(axis=0))\n",
    "    # emg_power = gaussian_filter1d(np.array(emg_power), 20, axis=-1).sum(axis=0)"
   ]
  },
  {
   "cell_type": "code",
   "execution_count": null,
   "metadata": {},
   "outputs": [],
   "source": []
  },
  {
   "cell_type": "code",
   "execution_count": null,
   "metadata": {},
   "outputs": [],
   "source": [
    "_, ax = plt.subplots(2, 1)\n",
    "\n",
    "ax[0].plot(sess.emg.time, stats.zscore(sess.emg.traces[0]))\n",
    "# ax[1].plot(sess.eegfile.get, sess.eegfile.get_signal(33).traces[0])"
   ]
  },
  {
   "cell_type": "code",
   "execution_count": null,
   "metadata": {},
   "outputs": [],
   "source": [
    "indices = emg_power > 0.026\n",
    "# emg_power_new = np.interp(spect.time, spect.time[~indices], emg_power[~indices])\n",
    "emg_power_new = emg_power.copy()\n",
    "emg_power_new[indices] = np.nan\n",
    "emg_power_new = pd.DataFrame(emg_power_new).interpolate(method=\"linear\")[0].to_numpy()"
   ]
  },
  {
   "cell_type": "code",
   "execution_count": null,
   "metadata": {},
   "outputs": [],
   "source": [
    "emg_power2 = emg_power_new * np.interp(spect.time, sess.emg.time, corr_emg)"
   ]
  },
  {
   "cell_type": "code",
   "execution_count": null,
   "metadata": {},
   "outputs": [],
   "source": [
    "from neuropy.core import Signal\n",
    "\n",
    "emg_signal = Signal(traces=emg_power_new[np.newaxis, :], sampling_rate=1, t_start=2 / 2)\n",
    "emg_signal.save(sess.filePrefix.with_suffix(\".emg\"))"
   ]
  },
  {
   "cell_type": "code",
   "execution_count": null,
   "metadata": {},
   "outputs": [],
   "source": [
    "_, ax = plt.subplots()\n",
    "# emg_power = spect.freq_slice(300).traces.sum(axis=0)\n",
    "# ax.plot(emg)\n",
    "bins = np.linspace(0.014, 0.03, 100)\n",
    "hist_emg = np.histogram(emg_power, bins)[0]\n",
    "# ax.plot(bins[:-1], hist_emg)\n",
    "ax.plot(emg_power2)\n",
    "# ax.set_ylim(0, top=0.03)\n",
    "# ax.set_yscale(\"log\")"
   ]
  },
  {
   "attachments": {},
   "cell_type": "markdown",
   "metadata": {},
   "source": [
    "### Compare distributions of EMG values"
   ]
  },
  {
   "cell_type": "code",
   "execution_count": null,
   "metadata": {},
   "outputs": [],
   "source": [
    "from scipy.ndimage import gaussian_filter1d\n",
    "from neuropy.analyses.brainstates import hmmfit1d\n",
    "\n",
    "sessions = subjects.ripple_sess()\n",
    "# sessions = subjects.sd.ratSday3\n",
    "bins = np.linspace(-1, 5, 500)\n",
    "\n",
    "emg_info = {}\n",
    "for s, sess in enumerate(sessions):\n",
    "    emg = sess.emg\n",
    "    smth_emg = gaussian_filter1d(emg.traces[0], sigma=10 / 0.5)\n",
    "    zsc_emg = stats.zscore(smth_emg, nan_policy=\"omit\")\n",
    "    means_prior = np.array([-0.1, 0.2])[:, np.newaxis]\n",
    "    transmat = np.array([[0.8, 0.2], [0.2, 0.8]])\n",
    "    startprob = np.array([0.1, 0.9])\n",
    "    # labels, mus = hmmfit1d(\n",
    "    #     zsc_emg,\n",
    "    #     ret_means=True,\n",
    "    #     means_prior=means_prior,\n",
    "    #     transmat_prior=transmat,\n",
    "    #     startprob_prior=startprob,\n",
    "    # )\n",
    "    hist_emg = np.histogram(zsc_emg, bins)[0]\n",
    "    emg_info[sess.animal.name + sess.animal.day] = dict(\n",
    "        emg=zsc_emg,\n",
    "        # means=mus,\n",
    "        # labels=labels,\n",
    "        dist=hist_emg,\n",
    "    )\n",
    "\n",
    "# zsc_emg = np.concatenate(zsc_emg)"
   ]
  },
  {
   "cell_type": "code",
   "execution_count": null,
   "metadata": {},
   "outputs": [],
   "source": [
    "_, axs = plt.subplots(len(emg_info) + 1, 2, width_ratios=[4, 1])\n",
    "# axs = axs.reshape(-1)\n",
    "\n",
    "for i, name in enumerate(emg_info):\n",
    "    emg_dict = emg_info[name]\n",
    "    ax_emg = axs[i, 0]\n",
    "    ax_emg.plot(emg_dict[\"emg\"], zorder=1)\n",
    "    ax_emg.set_ylabel(name)\n",
    "    ax_label = ax_emg.twinx()\n",
    "    # ax_label.plot(emg_dict[\"labels\"], \"r\", zorder=0)\n",
    "\n",
    "    ax_hist = axs[i, 1]\n",
    "    ax_hist.plot(bins[:-1], emg_dict[\"dist\"])\n",
    "    # ax_hist.axvline(emg_dict[\"means\"][0])\n",
    "    # ax_hist.axvline(emg_dict[\"means\"][1])\n",
    "\n",
    "    # ax_hist.set_yscale(\"log\")"
   ]
  },
  {
   "attachments": {},
   "cell_type": "markdown",
   "metadata": {},
   "source": [
    "### Best separation for high and low EMG"
   ]
  },
  {
   "cell_type": "code",
   "execution_count": null,
   "metadata": {},
   "outputs": [],
   "source": [
    "from sklearn.cluster import KMeans\n",
    "from scipy.ndimage import gaussian_filter1d\n",
    "from neuropy.analyses.brainstates import hmmfit1d\n",
    "from neuropy.utils.signal_process import FourierSg\n",
    "\n",
    "# sessions = subjects.ripple_sess()\n",
    "sess = subjects.nsd.ratNday2[0]\n",
    "\n",
    "emg = sess.emg\n",
    "time = emg.time\n",
    "emg = gaussian_filter1d(emg.traces[0], sigma=10 / 0.5)\n",
    "noisy_epochs = sess.brainstates[\"NOISE\"]\n",
    "\n",
    "noisy_bool = np.zeros_like(time).astype(\"bool\")\n",
    "if noisy_epochs is not None:\n",
    "    noisy_arr = noisy_epochs.as_array()\n",
    "    for noisy_ind in range(noisy_arr.shape[0]):\n",
    "        st = noisy_arr[noisy_ind, 0]\n",
    "        en = noisy_arr[noisy_ind, 1]\n",
    "        noisy_bool[np.where((time >= st) & (time <= en))[0]] = True\n",
    "\n",
    "emg = emg[~noisy_bool]\n",
    "time = time[~noisy_bool]\n",
    "emg_log = np.log10(emg)"
   ]
  },
  {
   "cell_type": "code",
   "execution_count": null,
   "metadata": {},
   "outputs": [],
   "source": [
    "from neuropy.analyses.brainstates import gaussian_classify\n",
    "from math_utils import schmidt_trigger_threshold\n",
    "\n",
    "emg_labels, emg_fit_params = gaussian_classify(emg_log, ret_params=True)\n",
    "emg_hist, emg_bins = np.histogram(emg_log, 200, density=True)\n",
    "emg_means = emg_fit_params[\"means\"].squeeze()\n",
    "emg_covs = emg_fit_params[\"covariances\"].squeeze()\n",
    "emg_weights = emg_fit_params[\"weights\"]\n",
    "lowfit = (\n",
    "    stats.norm.pdf(emg_bins, float(emg_means[0]), np.sqrt(float(emg_covs[0])))\n",
    "    * emg_weights[0],\n",
    ")\n",
    "\n",
    "highfit = (\n",
    "    stats.norm.pdf(emg_bins, float(emg_means[1]), np.sqrt(float(emg_covs[1])))\n",
    "    * emg_weights[1],\n",
    ")\n",
    "full_fit = lowfit[0] + highfit[0]"
   ]
  },
  {
   "cell_type": "code",
   "execution_count": null,
   "metadata": {},
   "outputs": [],
   "source": [
    "from math_utils import schmidt_trigger_threshold\n",
    "\n",
    "bins_between_peaks = (emg_bins > emg_means[0]) & (emg_bins < emg_means[1])\n",
    "thresh_ind = np.argmin(full_fit[bins_between_peaks])\n",
    "thresh_val = emg_bins[bins_between_peaks][thresh_ind]\n",
    "low_thresh = (emg_means[0] + thresh_val) / 2\n",
    "high_thresh = (emg_means[1] + thresh_val) / 2\n",
    "\n",
    "over_high = emg_log >= high_thresh\n",
    "below_low = emg_log <= low_thresh\n",
    "\n",
    "emg_labels2 = schmidt_trigger_threshold(emg_log, low_thresh, high_thresh)"
   ]
  },
  {
   "cell_type": "code",
   "execution_count": null,
   "metadata": {},
   "outputs": [],
   "source": [
    "_, ax = plt.subplots()\n",
    "\n",
    "ax.plot(emg_bins[:-1], emg_hist)\n",
    "# ax.plot(emg_bins[:-1],lowfit[0])\n",
    "# ax.plot(emg_bins[:-1],highfit[0])\n",
    "# ax.plot(emg_bins[:-1], lowfit[0] + highfit[0])\n",
    "ax.axvline(thresh_val)\n",
    "ax.axvline(low_thresh)\n",
    "ax.axvline(high_thresh)"
   ]
  },
  {
   "cell_type": "code",
   "execution_count": null,
   "metadata": {},
   "outputs": [],
   "source": [
    "_, ax = plt.subplots(3, 1, sharex=True)\n",
    "\n",
    "ax[0].plot(emg_log)\n",
    "ax[0].axhline(high_thresh)\n",
    "ax[0].axhline(thresh_val)\n",
    "ax[0].axhline(low_thresh)\n",
    "ax[1].plot(emg_labels)\n",
    "ax[2].plot(emg_labels2)"
   ]
  },
  {
   "cell_type": "code",
   "execution_count": null,
   "metadata": {},
   "outputs": [],
   "source": [
    "theta_log = np.log10(theta_spect)[emg_labels.astype(\"bool\")]\n",
    "theta_labels, theta_means = gaussian_fit1d(theta_log, ret_means=True)\n",
    "theta_bins, theta_hist = get_hist(theta_spect)\n",
    "\n",
    "\n",
    "_, axs = plt.subplots(2, 2, width_ratios=[4, 1], sharex=\"col\")\n",
    "axs[0, 0].plot(theta_log)\n",
    "# axs[1, 0].plot(labels)\n",
    "axs[1, 0].plot(theta_labels)\n",
    "# axs[1, 0].plot(labels_new)\n",
    "# axs[1, 0].plot(clus.score_samples(feat))\n",
    "\n",
    "# axs[0, 1].plot(bins[:-1], hist_emg)\n",
    "axs[1, 1].plot(theta_bins[:-1], theta_hist)\n",
    "# axs[1, 1].axvline(theta_means[0])\n",
    "# axs[1, 1].axvline(theta_means[1])"
   ]
  },
  {
   "cell_type": "code",
   "execution_count": null,
   "metadata": {},
   "outputs": [],
   "source": [
    "from sklearn.mixture import GaussianMixture\n",
    "\n",
    "emg_log = np.log10(smth_emg)\n",
    "max_bound = emg_log.mean() + 1 * emg_log.std()\n",
    "min_bound = emg_log.mean() - 1 * emg_log.std()\n",
    "\n",
    "good_indx = (emg_log > min_bound) & (emg_log < max_bound)\n",
    "feat = emg_log[:, None]\n",
    "feat_bins = np.linspace(feat[:, 0].min(), feat[:, 0].max(), 500)\n",
    "feat_hist = np.histogram(feat[:, 0], feat_bins)[0]\n",
    "init = np.array([-0.8, -0.6])[:, None]\n",
    "# kmeans = KMeans(n_clusters=2, n_init=1, init=init).fit(zsc_emg[:, None])\n",
    "clus = GaussianMixture(n_components=2).fit(feat[good_indx, :])\n",
    "# labels = kmeans.labels_\n",
    "clus_means = clus.means_\n",
    "\n",
    "_, axs = plt.subplots(2, 2, width_ratios=[4, 1], sharex=\"col\")\n",
    "axs[0, 0].plot(feat[:, 0])\n",
    "# axs[1, 0].plot(labels)\n",
    "axs[1, 0].plot(clus.predict(feat))\n",
    "# axs[1, 0].plot(clus.score_samples(feat))\n",
    "\n",
    "# axs[0, 1].plot(bins[:-1], hist_emg)\n",
    "axs[1, 1].plot(feat_bins[:-1], feat_hist)\n",
    "axs[1, 1].axvline(clus_means[0])\n",
    "axs[1, 1].axvline(clus_means[1])"
   ]
  }
 ],
 "metadata": {
  "kernelspec": {
   "display_name": "ephys_analysis",
   "language": "python",
   "name": "python3"
  },
  "language_info": {
   "codemirror_mode": {
    "name": "ipython",
    "version": 3
   },
   "file_extension": ".py",
   "mimetype": "text/x-python",
   "name": "python",
   "nbconvert_exporter": "python",
   "pygments_lexer": "ipython3",
   "version": "3.11.3"
  },
  "orig_nbformat": 4
 },
 "nbformat": 4,
 "nbformat_minor": 2
}
