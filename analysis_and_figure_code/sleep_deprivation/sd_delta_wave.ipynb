version https://git-lfs.github.com/spec/v1
oid sha256:ad0ac6d92632c563d3e4d974585fb2eb53d6f56c748b5d16f0f7ec1e8867db90
size 243992
