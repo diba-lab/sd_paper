{
 "cells": [
  {
   "cell_type": "code",
   "execution_count": 1,
   "metadata": {},
   "outputs": [
    {
     "ename": "ModuleNotFoundError",
     "evalue": "No module named 'subjects'",
     "output_type": "error",
     "traceback": [
      "\u001b[0;31m---------------------------------------------------------------------------\u001b[0m",
      "\u001b[0;31mModuleNotFoundError\u001b[0m                       Traceback (most recent call last)",
      "Cell \u001b[0;32mIn[1], line 6\u001b[0m\n\u001b[1;32m      4\u001b[0m \u001b[38;5;28;01mfrom\u001b[39;00m \u001b[38;5;21;01mscipy\u001b[39;00m \u001b[38;5;28;01mimport\u001b[39;00m stats\n\u001b[1;32m      5\u001b[0m \u001b[38;5;28;01mimport\u001b[39;00m \u001b[38;5;21;01mpandas\u001b[39;00m \u001b[38;5;28;01mas\u001b[39;00m \u001b[38;5;21;01mpd\u001b[39;00m\n\u001b[0;32m----> 6\u001b[0m \u001b[38;5;28;01mimport\u001b[39;00m \u001b[38;5;21;01msubjects\u001b[39;00m\n\u001b[1;32m      7\u001b[0m \u001b[38;5;28;01mfrom\u001b[39;00m \u001b[38;5;21;01mplotters\u001b[39;00m \u001b[38;5;28;01mimport\u001b[39;00m violinplot\n\u001b[1;32m      8\u001b[0m \u001b[38;5;28;01mfrom\u001b[39;00m \u001b[38;5;21;01msubjects\u001b[39;00m \u001b[38;5;28;01mimport\u001b[39;00m sns_boxplot_kw, stat_kw\n",
      "\u001b[0;31mModuleNotFoundError\u001b[0m: No module named 'subjects'"
     ]
    }
   ],
   "source": [
    "import numpy as np\n",
    "import seaborn as sns\n",
    "import matplotlib.pyplot as plt\n",
    "from scipy import stats\n",
    "import pandas as pd\n",
    "import subjects\n",
    "from plotters import violinplot\n",
    "from subjects import sns_boxplot_kw, stat_kw\n",
    "from neuropy import plotting\n",
    "from statannotations.Annotator import Annotator\n",
    "\n",
    "grpdata = subjects.GroupData()\n",
    "group = [\"NSD\", \"SD\"]\n",
    "\n",
    "ev_states = grpdata.ev_brainstates\n",
    "ev_df = grpdata.ev_pooled\n",
    "ev_bool = ev_df.name.isin(\n",
    "    [\n",
    "        \"RatKDay1\",\n",
    "        \"RatKDay2\",\n",
    "        \"RatNDay2\",\n",
    "        \"RatSDay2\",\n",
    "        \"RatUDay2\",\n",
    "        \"RatVDay3\",\n",
    "        \"RatNDay1\",\n",
    "        \"RatSDay3\",\n",
    "        \"RatUDay1\",\n",
    "        \"RatVDay2\",\n",
    "        # \"RatRDay1\",\n",
    "        \"RatRDay2\"\n",
    "    ]\n",
    ")\n",
    "ev_df = ev_df[ev_bool]\n",
    "# ev_df[\"ev_diff\"] = ev_df[\"ev\"] - ev_df[\"rev\"]\n",
    "ev_pooled = grpdata.ev_in_chunks\n",
    "\n",
    "fig = plotting.Fig(grid=(16, 8), fontsize=5,constrained_layout=False,axis_lw=0.8,tick_size=2)\n",
    "filename = subjects.figpath_sd / \"figure_supp_expvar\"\n",
    "caption = \"Figure 3: MAZE reactivation during POST. \\n(A) Explained variance (EV) in POST for each session of SD (orange) and NSD (purple) group with chance levels (gray). Error bars indicate +/- stdev. \\n(B) Mean explained variance pooled across SD and NSD sessions. Error bars indicate +/- SEM.\"\n",
    "\n"
   ]
  },
  {
   "cell_type": "code",
   "execution_count": 41,
   "metadata": {},
   "outputs": [],
   "source": [
    "from neuropy.plotting import plot_epochs\n",
    "from neuropy.core import Epoch\n",
    "from hfuncs import merge_quiet_wake\n",
    "\n",
    "errorbar_kw = dict(alpha=0.5, linewidth=0, ec=None)\n",
    "session_names = ev_df.name.unique()\n",
    "# animal_names = [_[:4] for _ in session_names]\n",
    "animal_names = [\"RatK\",\"RatN\", \"RatS\", \"RatU\", \"RatV\",'RatR']\n",
    "ev_colors = subjects.colors_sd(1)\n",
    "\n",
    "subfig = fig.fig.add_subfigure(fig.gs[:7, :4])\n",
    "axs = subfig.subplots(\n",
    "    12,\n",
    "    2,\n",
    "    sharey=\"row\",\n",
    "    sharex=True,\n",
    "    gridspec_kw=dict(height_ratios=[1, 4, 1, 4, 1, 4, 1,4,1,4,1,4]),\n",
    ")\n",
    "# axs = axs.T.reshape(-1)\n",
    "\n",
    "\n",
    "for row, anim in enumerate(animal_names):\n",
    "\n",
    "    anim_sessions = session_names[[anim in _ for _ in session_names]]\n",
    "    df_name = ev_df[ev_df.name.isin(anim_sessions)]\n",
    "    states_name = ev_states[ev_states.name.isin(anim_sessions)]\n",
    "    sex = df_name.sex.iloc[0]\n",
    "    grps_name = df_name.grp.unique()[::-1]\n",
    "\n",
    "    # subfig = fig.fig.add_subfigure(fig.gs[row, :2])\n",
    "    # axs = subfig.subplots(2, 2, sharey=\"row\", gridspec_kw=dict(height_ratios=[1, 4]))\n",
    "    # axs = axs.T.reshape(-1)\n",
    "\n",
    "    for i, sess in enumerate(anim_sessions):\n",
    "        states = states_name[states_name[\"name\"] == sess]\n",
    "        df = df_name[df_name[\"name\"] == sess]\n",
    "        grp = df.grp.unique()[0]\n",
    "\n",
    "        n_neurons = df[\"n_neurons\"].unique()\n",
    "        n_pairs = df[\"n_pairs\"].unique()\n",
    "        t, ev, ev_err, rev, rev_err = (\n",
    "            df[\"zt\"],\n",
    "            df[\"ev\"],\n",
    "            df[\"ev_std\"],\n",
    "            df[\"rev\"],\n",
    "            df[\"rev_std\"],\n",
    "        )\n",
    "\n",
    "        ax_hypno = axs[2 * row,i]\n",
    "        ax = axs[2 * row + 1,i]\n",
    "\n",
    "        # epoch = Epoch(states).duration_slice(min_dur=120/3600)\n",
    "        epoch = merge_quiet_wake(Epoch(states))\n",
    "        plot_epochs(\n",
    "            epoch,\n",
    "            ax=ax_hypno,\n",
    "            labels_order=[\"NREM\", \"REM\", \"WK\"],\n",
    "            colors='k',\n",
    "            collapsed=False,\n",
    "        )\n",
    "        ax_hypno.set_xlim([0, 8])\n",
    "        ax_hypno.set_axis_off()\n",
    "\n",
    "        ax.fill_between(t, rev - rev_err, rev + rev_err, color=\"#63c56e\", **errorbar_kw)\n",
    "        ax.plot(t, rev, color=\"#63c56e\")\n",
    "\n",
    "        if grp == \"NSD\":\n",
    "            color = ev_colors[0]\n",
    "            ax.fill_between(t, ev - ev_err, ev + ev_err, color=color, **errorbar_kw)\n",
    "            ax.plot(t, ev, color=color, lw=0.8)\n",
    "\n",
    "        if grp == \"SD\":\n",
    "            sd_color = ev_colors[1]\n",
    "            sd_indx = t <= 5\n",
    "            ax.fill_between(\n",
    "                t[sd_indx],\n",
    "                ev[sd_indx] - ev_err[sd_indx],\n",
    "                ev[sd_indx] + ev_err[sd_indx],\n",
    "                color=sd_color,\n",
    "                **errorbar_kw,\n",
    "            )\n",
    "            ax.plot(t[sd_indx], ev[sd_indx], color=sd_color, lw=0.8)\n",
    "\n",
    "            rs_color = \"#5599FF\"\n",
    "            ax.fill_between(\n",
    "                t[~sd_indx],\n",
    "                ev[~sd_indx] - ev_err[~sd_indx],\n",
    "                ev[~sd_indx] + ev_err[~sd_indx],\n",
    "                color=rs_color,\n",
    "                **errorbar_kw,\n",
    "            )\n",
    "            ax.plot(t[~sd_indx], ev[~sd_indx], color=rs_color, lw=0.8)\n",
    "            if anim == 'RatR':\n",
    "                ax.set_ylim([0,0.24])\n",
    "\n",
    "        ax.text(\n",
    "            0.4,\n",
    "            0.8,\n",
    "            f\"{n_neurons[0]} PN,{n_pairs[0]} pairs\",\n",
    "            fontdict=dict(fontsize=5),\n",
    "            transform=ax.transAxes,\n",
    "        )\n",
    "        ax.set_xlim([0, 8])\n",
    "\n",
    "        if anim == \"RatR\":\n",
    "            ax.set_ylim(0, 0.25)\n",
    "\n",
    "        sex_symbol = \"$\\u2640$\" if sex == \"female\" else \"$\\u2642$\"\n",
    "        # sex_color = \"#F50057\" if sex == \"female\" else \"#2962FF\"\n",
    "        if i == 0:\n",
    "            ax.set_ylabel(f\"EV\\n({anim} {sex_symbol})\")\n",
    "            # fig.legend(ax, [name + sex_symbol], color='k', x=-0.4, y=1)\n",
    "\n",
    "        # ax.set_xticks([1, 3, 5, 7, 9])\n",
    "\n"
   ]
  },
  {
   "cell_type": "code",
   "execution_count": 42,
   "metadata": {},
   "outputs": [
    {
     "name": "stdout",
     "output_type": "stream",
     "text": [
      "#Sessions = 13\n"
     ]
    }
   ],
   "source": [
    "sessions = subjects.pf_sess()\n",
    "\n",
    "subfig = fig.fig.add_subfigure(fig.gs[:6, 4:6])\n",
    "axs = subfig.subplots(8,2)\n",
    "axs = axs.reshape(-1)\n",
    "# axs = axs.T.reshape(-1)\n",
    "\n",
    "\n",
    "\n",
    "for s, sess in enumerate(sessions):\n",
    "\n",
    "    maze= sess.paradigm['maze'].flatten()\n",
    "    pos = sess.position.time_slice(*maze)\n",
    "    x= pos.x\n",
    "    y= pos.y\n",
    "\n",
    "    ax=axs[s]\n",
    "    ax.plot(x,y,'gray',lw=0.5)\n",
    "    ax.set_title(sess.name)\n",
    "    ax.axis('off')\n",
    "\n",
    "    "
   ]
  },
  {
   "cell_type": "code",
   "execution_count": 43,
   "metadata": {},
   "outputs": [
    {
     "data": {
      "text/plain": [
       "[ProcessData(RatK_Day2_2019-08-08_04-00-00.xml),\n",
       " ProcessData(RatN_Day2_2019-10-11_03-58-54.xml),\n",
       " ProcessData(RatS-Day2NSD-2020-11-27_10-22-29.xml),\n",
       " ProcessData(RatU_Day2NSD_2021-07-24_08-16-38.xml),\n",
       " ProcessData(RatV_Day1NSD_2021-10-02_08-10-23.xml),\n",
       " ProcessData(RatV_Day3NSD_2021-10-07_08-10-12.xml),\n",
       " ProcessData(RatK_Day1_2019-08-06_03-44-01.xml),\n",
       " ProcessData(RatN_Day1_2019-10-09_03-52-32.xml),\n",
       " ProcessData(RatS_Day3SD_2020-11-29_07-53-30.xml),\n",
       " ProcessData(RatU_Day1SD_2021-07-22_07-55-46.xml),\n",
       " ProcessData(RatU_Day4SD_2021-07-29_08-23-06.xml),\n",
       " ProcessData(RatV_Day2SD_2021-10-04_08-02-10.xml),\n",
       " ProcessData(RatR_Day2SD_2021-05-23_09-07-18.xml)]"
      ]
     },
     "execution_count": 43,
     "metadata": {},
     "output_type": "execute_result"
    }
   ],
   "source": [
    "sessions"
   ]
  },
  {
   "cell_type": "code",
   "execution_count": 44,
   "metadata": {},
   "outputs": [
    {
     "name": "stderr",
     "output_type": "stream",
     "text": [
      "meta NOT subset; don't know how to subset; dropped\n"
     ]
    }
   ],
   "source": [
    "fig.savefig(filename)"
   ]
  }
 ],
 "metadata": {
  "kernelspec": {
   "display_name": "Python 3 (ipykernel)",
   "language": "python",
   "name": "python3"
  },
  "language_info": {
   "codemirror_mode": {
    "name": "ipython",
    "version": 3
   },
   "file_extension": ".py",
   "mimetype": "text/x-python",
   "name": "python",
   "nbconvert_exporter": "python",
   "pygments_lexer": "ipython3",
   "version": "3.11.6"
  },
  "vscode": {
   "interpreter": {
    "hash": "cce1618081139d19eb1ee8d40815d94a2de4f62e1efb20d9406ddb60628c36ae"
   }
  }
 },
 "nbformat": 4,
 "nbformat_minor": 4
}
