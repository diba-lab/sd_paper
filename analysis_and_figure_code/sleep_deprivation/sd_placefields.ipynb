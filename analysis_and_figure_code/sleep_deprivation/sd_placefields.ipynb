{
 "cells": [
  {
   "cell_type": "markdown",
   "metadata": {},
   "source": [
    "### Imports"
   ]
  },
  {
   "cell_type": "code",
   "execution_count": 1,
   "metadata": {},
   "outputs": [],
   "source": [
    "import numpy as np\n",
    "import matplotlib.pyplot as plt\n",
    "from neuropy.analyses import Pf1D\n",
    "import subjects"
   ]
  },
  {
   "cell_type": "markdown",
   "metadata": {},
   "source": [
    "### Example plots"
   ]
  },
  {
   "cell_type": "code",
   "execution_count": null,
   "metadata": {},
   "outputs": [],
   "source": [
    "import matplotlib.pyplot as plt\n",
    "import numpy as np\n",
    "from neuropy import plotting\n",
    "from neuropy.analyses import Pf1D\n",
    "from neuropy.analyses import Decode1d\n",
    "import subjects\n",
    "\n",
    "sessions = subjects.sd.ratUday4"
   ]
  },
  {
   "cell_type": "code",
   "execution_count": null,
   "metadata": {},
   "outputs": [],
   "source": [
    "for sub, sess in enumerate(sessions):\n",
    "    maze = sess.paradigm[\"maze\"].flatten()\n",
    "    post = sess.paradigm[\"post\"].flatten()\n",
    "    neurons = sess.neurons.get_neuron_type(neuron_type=\"pyr\")\n",
    "    pos = sess.lin_maze\n",
    "    # pos.t_start = pos.t_start +0.5\n",
    "    # run = sess.run['backward']\n",
    "    pf1d = Pf1D(\n",
    "        neurons=neurons,\n",
    "        position=pos,\n",
    "        speed_thresh=4,\n",
    "        sigma=4,\n",
    "        grid_bin=2,\n",
    "        # epochs=run,\n",
    "        frate_thresh=3,\n",
    "    )\n",
    "\n",
    "    pf_neurons = neurons.get_by_id(pf1d.neuron_ids)"
   ]
  },
  {
   "cell_type": "code",
   "execution_count": null,
   "metadata": {},
   "outputs": [],
   "source": [
    "from neuropy.plotting import plot_ratemap\n",
    "\n",
    "plot_ratemap(pf1d,normalize_tuning_curve=True)"
   ]
  },
  {
   "cell_type": "markdown",
   "metadata": {},
   "source": [
    "### Test placefields"
   ]
  },
  {
   "cell_type": "code",
   "execution_count": null,
   "metadata": {},
   "outputs": [],
   "source": [
    "%matplotlib widget\n",
    "import matplotlib.pyplot as plt\n",
    "import numpy as np\n",
    "from neuropy.core import Position,Neurons\n",
    "from neuropy.analyses import Pf1D\n",
    "from neuropy import plotting\n",
    "\n",
    "t= np.linspace(0,1,240000)\n",
    "y = np.sin(2*np.pi*12*t)*100\n",
    "\n",
    "pos = Position(traces=y.reshape(1,-1),t_start=0,sampling_rate=120)\n",
    "\n",
    "spktrns = []\n",
    "for i in range(-100,100,30):\n",
    "    indices = np.where((pos.x>=i)&(pos.x<=i+20))[0]\n",
    "    indices = np.random.choice(indices,4000)\n",
    "    spktrns.append(indices/120)\n",
    "spktrns = np.array(spktrns)\n",
    "\n",
    "neurons = Neurons(spiketrains=spktrns,t_start=0,t_stop=2000)\n",
    "pf1d = Pf1D(neurons=neurons,position=pos,speed_thresh=0.1,grid_bin=5,sigma=7)\n",
    "# _,ax = plt.subplots()\n",
    "\n",
    "# ax.plot(pos.time,pos.x)\n",
    "# plotting.plot_raster(neurons,ax=ax)\n"
   ]
  },
  {
   "cell_type": "code",
   "execution_count": null,
   "metadata": {},
   "outputs": [],
   "source": [
    "%matplotlib widget\n",
    "\n",
    "# plotting.plot_ratemap(pf1d.ratemap,normalize_tuning_curve=False)\n",
    "plt.plot(pf1d.occupancy)"
   ]
  },
  {
   "cell_type": "markdown",
   "metadata": {},
   "source": [
    "### Pool placefields into one file"
   ]
  },
  {
   "cell_type": "code",
   "execution_count": null,
   "metadata": {},
   "outputs": [],
   "source": [
    "%matplotlib widget\n",
    "import numpy as np\n",
    "import pandas as pd\n",
    "from neuropy.analyses import Pf1D\n",
    "from neuropy import plotting\n",
    "import subjects\n",
    "\n",
    "sessions = subjects.sd.pf_sess + subjects.nsd.pf_sess "
   ]
  },
  {
   "cell_type": "code",
   "execution_count": null,
   "metadata": {},
   "outputs": [],
   "source": [
    "from neuropy.utils import mathutil\n",
    "\n",
    "norm_tuning_all = pd.DataFrame()\n",
    "for sub, sess in enumerate(sessions):\n",
    "\n",
    "    maze = sess.paradigm[\"maze\"].flatten()\n",
    "    neurons = sess.neurons.get_neuron_type(neuron_type=\"pyr\")\n",
    "    pos = sess.maze\n",
    "    # pos.t_start = pos.t_start +0.5\n",
    "    # run = sess.run['backward']\n",
    "    pf1d = Pf1D(\n",
    "        neurons=neurons,\n",
    "        position=pos,\n",
    "        speed_thresh=3,\n",
    "        sigma=4,\n",
    "        grid_bin=4,\n",
    "        # epochs=run,\n",
    "        frate_thresh=1,\n",
    "    )\n",
    "\n",
    "    norm_tuning = mathutil.min_max_scaler(pf1d.tuning_curves, axis=-1)\n",
    "    x_norm = mathutil.min_max_scaler(pf1d.xbin_centers)\n",
    "    x_req = np.linspace(0, 1, 21).round(decimals=2)\n",
    "    interp = lambda y: np.interp(x_req, x_norm, y)\n",
    "\n",
    "    tuning_x_req = np.apply_along_axis(interp, axis=1, arr=norm_tuning)\n",
    "\n",
    "    df = pd.DataFrame(tuning_x_req,columns=x_req)\n",
    "    df['grp']= sess.tag\n",
    "\n",
    "    norm_tuning_all = norm_tuning_all.append(df,ignore_index=True)\n",
    "\n",
    "\n",
    "subjects.GroupData().save(norm_tuning_all,'pf_norm_tuning')\n"
   ]
  },
  {
   "cell_type": "code",
   "execution_count": null,
   "metadata": {},
   "outputs": [],
   "source": [
    "plotting.plot_ratemap(pf1d,normalize_tuning_curve=True)"
   ]
  },
  {
   "cell_type": "markdown",
   "metadata": {},
   "source": [
    "### Place field similarity between maze and remaze"
   ]
  },
  {
   "cell_type": "code",
   "execution_count": null,
   "metadata": {},
   "outputs": [],
   "source": [
    "sessions = subjects.nsd.ratUday2"
   ]
  },
  {
   "cell_type": "code",
   "execution_count": null,
   "metadata": {},
   "outputs": [],
   "source": [
    "for sub, sess in enumerate(sessions):\n",
    "    maze = sess.paradigm[\"maze\"].flatten()\n",
    "    remaze = sess.paradigm[\"re-maze\"].flatten()\n",
    "    neurons = sess.neurons.get_neuron_type(['pyr'])\n",
    "    good_cells = neurons.firing_rate<10\n",
    "    neurons = neurons[good_cells]\n",
    "    \n",
    "    maze_pos = sess.maze\n",
    "    maze_run = sess.maze_run\n",
    "    pf1 = Pf1D(\n",
    "        neurons=neurons,\n",
    "        position=maze_pos,\n",
    "        sigma=4,\n",
    "        grid_bin=2,\n",
    "        epochs=maze_run[\"up\"],\n",
    "        frate_thresh=0,\n",
    "    )\n",
    "\n",
    "    remaze_pos = sess.remaze\n",
    "    remaze_run = sess.remaze_run\n",
    "    pf2 = Pf1D(\n",
    "        neurons=neurons,\n",
    "        position=remaze_pos,\n",
    "        sigma=4,\n",
    "        grid_bin=2,\n",
    "        epochs=remaze_run[\"up\"],\n",
    "        frate_thresh=0,\n",
    "    )\n",
    "\n",
    "\n"
   ]
  },
  {
   "cell_type": "code",
   "execution_count": null,
   "metadata": {},
   "outputs": [],
   "source": [
    "np.corrcoef(pf1.tuning_curves[:,:114].flatten(),pf2.tuning_curves[:,:114].flatten())"
   ]
  },
  {
   "cell_type": "code",
   "execution_count": null,
   "metadata": {},
   "outputs": [],
   "source": [
    "from neuropy.plotting import plot_ratemap\n",
    "_,axs = plt.subplots(1,2)\n",
    "\n",
    "plot_ratemap(pf1,normalize_tuning_curve=True,ax=axs[0])\n",
    "plot_ratemap(pf2,normalize_tuning_curve=True,ax=axs[1])"
   ]
  }
 ],
 "metadata": {
  "interpreter": {
   "hash": "cce1618081139d19eb1ee8d40815d94a2de4f62e1efb20d9406ddb60628c36ae"
  },
  "kernelspec": {
   "display_name": "Python 3.9.7 64-bit ('data_analysis': conda)",
   "name": "python3"
  },
  "language_info": {
   "codemirror_mode": {
    "name": "ipython",
    "version": 3
   },
   "file_extension": ".py",
   "mimetype": "text/x-python",
   "name": "python",
   "nbconvert_exporter": "python",
   "pygments_lexer": "ipython3",
   "version": "3.10.9"
  },
  "orig_nbformat": 4
 },
 "nbformat": 4,
 "nbformat_minor": 2
}
