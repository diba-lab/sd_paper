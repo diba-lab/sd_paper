{
 "cells": [
  {
   "attachments": {},
   "cell_type": "markdown",
   "metadata": {},
   "source": [
    "### Imports"
   ]
  },
  {
   "cell_type": "code",
   "execution_count": null,
   "metadata": {},
   "outputs": [],
   "source": [
    "import matplotlib.pyplot as plt\n",
    "import numpy as np\n",
    "from neuropy import plotting\n",
    "from plotters import Plotter\n",
    "import pandas as pd\n",
    "from tqdm.notebook import tqdm\n",
    "from scipy import stats\n",
    "import seaborn as sns\n",
    "import subjects\n",
    "from stats_utils import get_bootstrap_prob, get_bootstrap_prob_paired\n",
    "from stats_utils import bootstrap_resample"
   ]
  },
  {
   "attachments": {},
   "cell_type": "markdown",
   "metadata": {},
   "source": [
    "### delta rate"
   ]
  },
  {
   "cell_type": "code",
   "execution_count": null,
   "metadata": {},
   "outputs": [],
   "source": [
    "# Uncomment if you want to re-run the bootstrapping\n",
    "\n",
    "from stats_utils import bootstrap_resample\n",
    "\n",
    "delta_rate = subjects.GroupData().delta_wave_rate\n",
    "func = lambda df: df.groupby([\"grp\", \"zt\"], sort=False).mean().reset_index()\n",
    "delta_df = bootstrap_resample(\n",
    "    delta_rate, level=\"session\", n_iter=10000, n_jobs=6, apply=func\n",
    ").drop(columns=\"session\")\n",
    "\n",
    "subjects.GroupData().save(delta_df, \"delta_wave_rate_bootstrap\")"
   ]
  },
  {
   "cell_type": "code",
   "execution_count": null,
   "metadata": {},
   "outputs": [],
   "source": [
    "delta_df = subjects.GroupData().delta_wave_rate_bootstrap\n",
    "fig = subjects.SdFig().fig1(8, 8)\n",
    "ax = fig.subplot(fig.gs[1])\n",
    "plotter = Plotter(\n",
    "    data=delta_df, x=\"zt\", y=\"delta_rate\", hue=\"grp\", hue_order=[\"NSD\", \"SD\"]\n",
    ")\n",
    "plotter.violinplot_sd(split=True, palette=subjects.colors_sd(1)).stat_anot_sd(\n",
    "    stat_across=get_bootstrap_prob,\n",
    "    stat_within=get_bootstrap_prob_paired,\n",
    "    alpha_within=0.025,\n",
    "    alpha_across=0.025,\n",
    "    fontsize=5,\n",
    ")\n",
    "fig.savefig(subjects.figpath_sd / \"delta_wave_rate\", format=\"svg\")"
   ]
  }
 ],
 "metadata": {
  "kernelspec": {
   "display_name": "ephys_analysis",
   "language": "python",
   "name": "python3"
  },
  "language_info": {
   "codemirror_mode": {
    "name": "ipython",
    "version": 3
   },
   "file_extension": ".py",
   "mimetype": "text/x-python",
   "name": "python",
   "nbconvert_exporter": "python",
   "pygments_lexer": "ipython3",
   "version": "3.11.3"
  },
  "orig_nbformat": 4
 },
 "nbformat": 4,
 "nbformat_minor": 2
}
