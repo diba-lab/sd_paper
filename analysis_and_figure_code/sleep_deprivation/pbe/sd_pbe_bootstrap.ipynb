{
 "cells": [
  {
   "attachments": {},
   "cell_type": "markdown",
   "metadata": {},
   "source": [
    "### Imports"
   ]
  },
  {
   "cell_type": "code",
   "execution_count": 3,
   "metadata": {},
   "outputs": [],
   "source": [
    "import numpy as np\n",
    "import pandas as pd\n",
    "import seaborn as sns\n",
    "from scipy import stats\n",
    "import scipy.signal as sg\n",
    "import matplotlib.pyplot as plt\n",
    "from neuropy import plotting\n",
    "import stats_utils\n",
    "import subjects"
   ]
  },
  {
   "attachments": {},
   "cell_type": "markdown",
   "metadata": {},
   "source": [
    "### Bootstrap candidate PBE duration"
   ]
  },
  {
   "cell_type": "code",
   "execution_count": 4,
   "metadata": {},
   "outputs": [
    {
     "name": "stdout",
     "output_type": "stream",
     "text": [
      "candidate_PBE_duration_bootstrap saved\n"
     ]
    }
   ],
   "source": [
    "pbe_duration = subjects.GroupData().candidate_PBE_duration\n",
    "\n",
    "# ---- bootstraping absolute numbers--------\n",
    "func = lambda df: df.groupby([\"grp\", \"zt\"], sort=False).mean().reset_index()\n",
    "\n",
    "boot_df = stats_utils.bootstrap_resample(\n",
    "    pbe_duration, level=\"both\", n_iter=10000, n_jobs=8, apply=func\n",
    ").drop(columns=\"session\")\n",
    "\n",
    "subjects.GroupData().save(boot_df, \"candidate_PBE_duration_bootstrap\")"
   ]
  }
 ],
 "metadata": {
  "kernelspec": {
   "display_name": "ephys_analysis",
   "language": "python",
   "name": "python3"
  },
  "language_info": {
   "codemirror_mode": {
    "name": "ipython",
    "version": 3
   },
   "file_extension": ".py",
   "mimetype": "text/x-python",
   "name": "python",
   "nbconvert_exporter": "python",
   "pygments_lexer": "ipython3",
   "version": "3.11.3"
  },
  "orig_nbformat": 4
 },
 "nbformat": 4,
 "nbformat_minor": 2
}
