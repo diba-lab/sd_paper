{
 "cells": [
  {
   "cell_type": "markdown",
   "metadata": {},
   "source": [
    "### Imports"
   ]
  },
  {
   "cell_type": "code",
   "execution_count": 3,
   "metadata": {},
   "outputs": [],
   "source": [
    "import numpy as np\n",
    "import matplotlib.pyplot as plt\n",
    "import numpy as np\n",
    "import seaborn as sns\n",
    "from neuropy import plotting\n",
    "from neuropy.analyses import detect_pbe_epochs\n",
    "import pandas as pd\n",
    "from scipy import stats\n",
    "import seaborn as sns\n",
    "from neuropy.plotting import Fig\n",
    "\n",
    "import subjects"
   ]
  },
  {
   "cell_type": "markdown",
   "metadata": {},
   "source": [
    "### Noisy pbes by peak count"
   ]
  },
  {
   "cell_type": "code",
   "execution_count": null,
   "metadata": {},
   "outputs": [],
   "source": [
    "from neuropy.core import Epoch\n",
    "from scipy.ndimage import gaussian_filter1d\n",
    "\n",
    "# sessions = subjects.nsd.mua_sess+ subjects.sd.mua_sess\n",
    "sessions = subjects.sd.ratKday1\n",
    "\n",
    "for sub, sess in enumerate(sessions):\n",
    "    pbe = sess.pbe\n",
    "    pbe_df = pbe.to_dataframe()\n",
    "\n",
    "    artifact_thresh = stats.zscore(pbe_df.peak_counts)\n",
    "    bad_idx = artifact_thresh > 7\n",
    "    pbe_df = pbe_df[~bad_idx]\n",
    "    new_pbe = Epoch(pbe_df, metadata=pbe.metadata)\n",
    "\n",
    "    # pbe.save(sess.filePrefix.with_suffix('.pbe'))"
   ]
  },
  {
   "cell_type": "code",
   "execution_count": null,
   "metadata": {},
   "outputs": [],
   "source": [
    "_, ax = plt.subplots()\n",
    "\n",
    "ax.plot(artifact_thresh)"
   ]
  },
  {
   "cell_type": "markdown",
   "metadata": {},
   "source": [
    "### Pooled Pbe detection"
   ]
  },
  {
   "cell_type": "code",
   "execution_count": null,
   "metadata": {},
   "outputs": [],
   "source": [
    "from neuropy.core import Epoch\n",
    "from scipy.ndimage import gaussian_filter1d\n",
    "\n",
    "# sessions = subjects.nsd.mua_sess+ subjects.sd.mua_sess\n",
    "sessions = subjects.mua_sess()\n",
    "\n",
    "for sub, sess in enumerate(sessions):\n",
    "    # mua =sess.neurons.get_mua()\n",
    "    # mua.save(sess.filePrefix.with_suffix(\".mua.npy\"))\n",
    "\n",
    "    smth_mua = sess.mua.get_smoothed(sigma=0.02)\n",
    "    pbe = detect_pbe_epochs(smth_mua, duration=(0.08, 0.5))\n",
    "    pbe_df = pbe.to_dataframe()\n",
    "\n",
    "    artifact_thresh = stats.zscore(pbe_df.peak_counts)\n",
    "    bad_idx = artifact_thresh > 7\n",
    "    pbe_df = pbe_df[~bad_idx]\n",
    "    pbe = Epoch(pbe_df, metadata=pbe.metadata)\n",
    "\n",
    "    pbe.save(sess.filePrefix.with_suffix(\".pbe\"))"
   ]
  },
  {
   "cell_type": "code",
   "execution_count": null,
   "metadata": {},
   "outputs": [],
   "source": [
    "_, ax = plt.subplots()\n",
    "\n",
    "ax.plot(stats.zscore(pbe.to_dataframe().peak_counts))"
   ]
  },
  {
   "cell_type": "markdown",
   "metadata": {},
   "source": [
    "### Filter PBE based on the following criterias\n",
    "- Ripple band power >=1 SD\n",
    "- Number of cells firing (Using only stable pyramidal cells)\n",
    "- Theta/delta ratio should not be high\n",
    "- Number of bins having at least one spike"
   ]
  },
  {
   "cell_type": "code",
   "execution_count": 4,
   "metadata": {},
   "outputs": [
    {
     "name": "stdout",
     "output_type": "stream",
     "text": [
      "#Sessions = 13\n",
      "/data/Clustering/sessions/RatK/Day2/RatK_Day2_2019-08-08_04-00-00.pbe.filters saved\n",
      "/data/Clustering/sessions/RatN/Day2/RatN_Day2_2019-10-11_03-58-54.pbe.filters saved\n",
      "/data/Clustering/sessions/RatS/Day2NSD/RatS-Day2NSD-2020-11-27_10-22-29.pbe.filters saved\n",
      "/data/Clustering/sessions/RatU/RatUDay2NSD/RatU_Day2NSD_2021-07-24_08-16-38.pbe.filters saved\n",
      "/data/Clustering/sessions/RatV/RatVDay1NSD/RatV_Day1NSD_2021-10-02_08-10-23.pbe.filters saved\n",
      "/data/Clustering/sessions/RatV/RatVDay3NSD/RatV_Day3NSD_2021-10-07_08-10-12.pbe.filters saved\n",
      "/data/Clustering/sessions/RatK/Day1/RatK_Day1_2019-08-06_03-44-01.pbe.filters saved\n",
      "/data/Clustering/sessions/RatN/Day1/RatN_Day1_2019-10-09_03-52-32.pbe.filters saved\n",
      "/data/Clustering/sessions/RatS/Day3SD/RatS_Day3SD_2020-11-29_07-53-30.pbe.filters saved\n",
      "/data/Clustering/sessions/RatU/RatUDay1SD/RatU_Day1SD_2021-07-22_07-55-46.pbe.filters saved\n",
      "/data/Clustering/sessions/RatU/RatUDay4SD/RatU_Day4SD_2021-07-29_08-23-06.pbe.filters saved\n",
      "/data/Clustering/sessions/RatV/RatVDay2SD/RatV_Day2SD_2021-10-04_08-02-10.pbe.filters saved\n",
      "/data/Clustering/sessions/RatR/Day2SD/RatR_Day2SD_2021-05-23_09-07-18.pbe.filters saved\n"
     ]
    }
   ],
   "source": [
    "from neuropy.utils.signal_process import (\n",
    "    filter_sig,\n",
    "    hilbertfast,\n",
    "    hilbert_ampltiude_stat,\n",
    "    FourierSg,\n",
    ")\n",
    "from scipy.ndimage import gaussian_filter1d\n",
    "from neuropy.core import Epoch\n",
    "\n",
    "sessions = subjects.pf_sess()\n",
    "\n",
    "sigma = 0.0125\n",
    "dt = 1 / 1250\n",
    "smooth = lambda x: gaussian_filter1d(x, sigma=sigma / dt, axis=-1)\n",
    "smooth_spect = lambda x: gaussian_filter1d(x, sigma=1 / 0.2, axis=-1)\n",
    "\n",
    "for s, sess in enumerate(sessions):\n",
    "    neurons = sess.neurons_stable.get_neuron_type([\"pyr\", \"mua\"])\n",
    "    fs = sess.eegfile.sampling_rate\n",
    "    pbe_epochs = sess.pbe.flatten()\n",
    "    starts = sess.pbe.starts\n",
    "    stops = sess.pbe.stops\n",
    "\n",
    "    # --------- Ripple power --------\n",
    "    ripple_channels = sess.ripple.metadata[\"channels\"]\n",
    "    lfp = sess.eegfile.get_signal(ripple_channels)\n",
    "    lfp_t = lfp.time\n",
    "\n",
    "    signals = lfp.traces\n",
    "    power = np.zeros(signals.shape[1])\n",
    "    for sig in signals:\n",
    "        yf = filter_sig.bandpass(sig, lf=125, hf=250, fs=fs)\n",
    "        power += np.abs(hilbertfast(yf))\n",
    "\n",
    "    power = smooth(power / signals.shape[0])\n",
    "\n",
    "    if sess.artifact is not None:\n",
    "        ignore_times = sess.artifact.as_array()\n",
    "    else:\n",
    "        ignore_times = None\n",
    "    if ignore_times is not None:\n",
    "        assert ignore_times.ndim == 2, \"ignore_times should be 2 dimensional array\"\n",
    "        noisy_frames = np.concatenate(\n",
    "            [\n",
    "                (np.arange(start * fs, stop * fs)).astype(int)\n",
    "                for (start, stop) in ignore_times\n",
    "            ]\n",
    "        )\n",
    "\n",
    "        power[noisy_frames] = 0\n",
    "    power = stats.zscore(power)\n",
    "\n",
    "    pbe_rpl_power = stats.binned_statistic(\n",
    "        lfp_t, power, statistic=\"max\", bins=pbe_epochs\n",
    "    )[0][::2]\n",
    "    pbe_rpl_bool = pbe_rpl_power >= 1\n",
    "\n",
    "    # --- Number of neurons should exceed atleast 5 neurons --------\n",
    "    n_spikes = [np.histogram(_, bins=pbe_epochs)[0][::2] for _ in neurons.spiketrains]\n",
    "    n_neurons_bool = (np.array(n_spikes) > 0).sum(axis=0) >= 5\n",
    "\n",
    "    # ----- Percentage of bins that should have atleast one spike ----\n",
    "    pbe_spikes, nbins = neurons.get_spikes_in_epochs(sess.pbe, bin_size=0.02)\n",
    "    each_bin_bool = np.array([np.sum(arr.sum(axis=0) > 0) for arr in pbe_spikes])\n",
    "    each_bin_bool = each_bin_bool / nbins > 0.8\n",
    "\n",
    "    # ------ PBE should not happen during running -----\n",
    "    pbe_peak = sess.pbe.to_dataframe().peak_time\n",
    "    run_epochs = sess.maze_run.flatten()\n",
    "    run_bool = np.digitize(pbe_peak, run_epochs) % 2 == 1\n",
    "\n",
    "    # --- PBE should not have high theta (may be important as sleep deprivation has high theta )---------\n",
    "\n",
    "    # good_channels = sess.recinfo.good_channels.astype(\"int\")\n",
    "    # maze = sess.paradigm[\"maze\"].flatten()\n",
    "    # maze_lfp = sess.eegfile.get_signal(good_channels, *maze)\n",
    "    # theta_stat = hilbert_ampltiude_stat(\n",
    "    #     maze_lfp.traces, freq_band=(5, 16), fs=fs, statistic=\"mean\"\n",
    "    # )\n",
    "    # best_theta_chan = maze_lfp.channel_id[theta_stat.argmax()]\n",
    "\n",
    "    # theta_signal = sess.eegfile.get_signal(best_theta_chan)\n",
    "    # theta_spect = FourierSg(theta_signal, window=1, overlap=0.8)\n",
    "    # theta_delta_ratio = stats.zscore(smooth_spect(theta_spect.theta_delta_ratio))\n",
    "    # theta_delta_ratio = np.interp(lfp_t, theta_spect.time, theta_delta_ratio)\n",
    "\n",
    "    # pbe_theta_power = stats.binned_statistic(\n",
    "    #     lfp_t, theta_delta_ratio, statistic=\"max\", bins=pbe_epochs\n",
    "    # )[0][::2]\n",
    "    # pbe_theta_bool = pbe_theta_power < 1\n",
    "\n",
    "    df = pd.DataFrame(\n",
    "        dict(\n",
    "            start=starts,\n",
    "            stop=stops,\n",
    "            label=\"pbe\",\n",
    "            is_rpl=pbe_rpl_bool,\n",
    "            is_5units=pbe_rpl_bool,\n",
    "            is_80percentbins=each_bin_bool,\n",
    "            is_rest=~run_bool,\n",
    "            # is_lowtheta=pbe_theta_bool,\n",
    "        )\n",
    "    )\n",
    "    Epoch(epochs=df).save(sess.filePrefix.with_suffix(\".pbe.filters\"))"
   ]
  },
  {
   "cell_type": "markdown",
   "metadata": {},
   "source": [
    "### Test PBE filters using neuroscope"
   ]
  },
  {
   "cell_type": "code",
   "execution_count": null,
   "metadata": {},
   "outputs": [],
   "source": [
    "from neuropy.analyses.spkepochs import detect_pbe_epochs\n",
    "\n",
    "sess = subjects.sd.ratUday1[0]\n",
    "neurons = sess.neurons\n",
    "sort_ind = neurons.firing_rate.argsort()\n",
    "pbe_epochs = sess.pbe.flatten()\n",
    "pbe_filter = sess.pbe_filters.to_dataframe()\n",
    "good_bool = (\n",
    "    pbe_filter.is_rpl\n",
    "    # & pbe_filter.is_5neurons\n",
    "    # & pbe_filter.is_lowtheta\n",
    "    & pbe_filter.is_rest\n",
    ")\n",
    "# sess.recinfo.write_epochs(sess.pbe[good_bool.values],'.pbe')\n",
    "sess.recinfo.write_epochs(sess.pbe, \".apb\")\n",
    "sess.recinfo.write_neurons(neurons[sort_ind])\n",
    "\n",
    "# smth_mua = sess.mua.get_smoothed(sigma=0.02)\n",
    "# new_pbe = detect_pbe_epochs(smth_mua,duration=(0.03,0.6))\n",
    "# sess.recinfo.write_epochs(new_pbe,'.npb')"
   ]
  },
  {
   "cell_type": "code",
   "execution_count": null,
   "metadata": {},
   "outputs": [],
   "source": [
    "len(sess.pbe)"
   ]
  },
  {
   "cell_type": "code",
   "execution_count": null,
   "metadata": {},
   "outputs": [],
   "source": [
    "sess"
   ]
  }
 ],
 "metadata": {
  "interpreter": {
   "hash": "cce1618081139d19eb1ee8d40815d94a2de4f62e1efb20d9406ddb60628c36ae"
  },
  "kernelspec": {
   "display_name": "Python 3 (ipykernel)",
   "language": "python",
   "name": "python3"
  },
  "language_info": {
   "codemirror_mode": {
    "name": "ipython",
    "version": 3
   },
   "file_extension": ".py",
   "mimetype": "text/x-python",
   "name": "python",
   "nbconvert_exporter": "python",
   "pygments_lexer": "ipython3",
   "version": "3.11.6"
  }
 },
 "nbformat": 4,
 "nbformat_minor": 4
}
