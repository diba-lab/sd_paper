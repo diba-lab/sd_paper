{
 "cells": [
  {
   "attachments": {},
   "cell_type": "markdown",
   "metadata": {},
   "source": [
    "### Imports"
   ]
  },
  {
   "cell_type": "code",
   "execution_count": null,
   "metadata": {},
   "outputs": [],
   "source": [
    "import numpy as np\n",
    "import pandas as pd\n",
    "import seaborn as sns\n",
    "from scipy import stats\n",
    "import scipy.signal as sg\n",
    "import matplotlib.pyplot as plt\n",
    "from neuropy import plotting\n",
    "import subjects"
   ]
  },
  {
   "attachments": {},
   "cell_type": "markdown",
   "metadata": {},
   "source": [
    "### Detect micro-arousals"
   ]
  },
  {
   "cell_type": "code",
   "execution_count": null,
   "metadata": {},
   "outputs": [],
   "source": [
    "from neuropy.core import Epoch\n",
    "\n",
    "sessions = subjects.ripple_sess()\n",
    "# sessions = subjects.sd.ratVday2\n",
    "\n",
    "for s, sess in enumerate(sessions):\n",
    "    states_df = sess.brainstates_fine.to_dataframe()\n",
    "    states_df.loc[\n",
    "        (states_df.label == \"AW\") | (states_df.label == \"QW\"), [\"label\"]\n",
    "    ] = \"WK\"\n",
    "    # states_df.loc[\n",
    "    #     (states_df.label == \"REM\") | (states_df.label == \"NREM\"), [\"label\"]\n",
    "    # ] = \"SLP\"\n",
    "\n",
    "    states = Epoch(states_df).merge_neighbors()\n",
    "    labels = states.labels\n",
    "    durations = states.durations\n",
    "    starts, stops = states.starts, states.stops\n",
    "\n",
    "    ma_epochs = []\n",
    "    for i in range(1, len(states) - 1):\n",
    "        cond0 = (labels[i] == \"WK\") & (durations[i] <= 100)\n",
    "        cond1 = (labels[i - 1] == \"NREM\") & (labels[i + 1] == \"NREM\")\n",
    "        cond2 = (labels[i - 1] == \"NREM\") & (labels[i + 1] == \"REM\")\n",
    "        cond3 = (labels[i - 1] == \"REM\") & (labels[i + 1] == \"NREM\")\n",
    "        cond4 = (labels[i - 1] == \"REM\") & (labels[i + 1] == \"REM\")\n",
    "\n",
    "        if cond0 & cond1:\n",
    "            ma_epochs.append([starts[i], stops[i], \"MA_NREM\"])\n",
    "\n",
    "        if cond0 & (cond2 | cond3 | cond4):\n",
    "            ma_epochs.append([starts[i], stops[i], \"MA_REM\"])\n",
    "    ma_epochs = np.array(ma_epochs)\n",
    "    micro_wake = Epoch.from_array(\n",
    "        ma_epochs[:, 0].astype(\"float\"),\n",
    "        ma_epochs[:, 1].astype(\"float\"),\n",
    "        ma_epochs[:, 2].astype(\"str\"),\n",
    "    )\n",
    "    micro_wake.save(sess.filePrefix.with_suffix(\".micro_arousals.npy\"))"
   ]
  },
  {
   "attachments": {},
   "cell_type": "markdown",
   "metadata": {},
   "source": [
    "### Rate of micro_arousals SD vs NSD"
   ]
  },
  {
   "cell_type": "code",
   "execution_count": null,
   "metadata": {},
   "outputs": [],
   "source": [
    "sessions = subjects.ripple_sess()\n",
    "\n",
    "ma_df = []\n",
    "for sub, sess in enumerate(sessions):\n",
    "    epochs = sess.get_zt_epochs()[2:]\n",
    "    ma = sess.micro_arousals.starts\n",
    "\n",
    "    hist_ma = np.histogram(ma, bins=epochs.flatten())[0][::2]\n",
    "\n",
    "    ma_df.append(\n",
    "        pd.DataFrame(\n",
    "            {\n",
    "                \"number\": hist_ma,\n",
    "                \"zt\": epochs.labels,\n",
    "                \"session\": sub,\n",
    "                \"name\": sess.name[:4],\n",
    "                \"grp\": sess.tag,\n",
    "            }\n",
    "        ),\n",
    "    )\n",
    "\n",
    "ma_df = pd.concat(ma_df, ignore_index=True)\n",
    "\n",
    "# subjects.GroupData().save(ma_df, \"micro_arousal_number\")"
   ]
  },
  {
   "cell_type": "code",
   "execution_count": null,
   "metadata": {},
   "outputs": [],
   "source": [
    "# _, ax = plt.subplots()\n",
    "fig = plotting.Fig(6, 4)\n",
    "ax = fig.subplot(fig.gs[0])\n",
    "\n",
    "sns.stripplot(\n",
    "    data=ma_df,\n",
    "    x=\"zt\",\n",
    "    y=\"number\",\n",
    "    hue=\"grp\",\n",
    "    dodge=True,\n",
    "    palette=subjects.colors_sd(1),\n",
    "    ax=ax,\n",
    ")\n",
    "ax.legend(\"\", frameon=False)\n",
    "fig.savefig(subjects.figpath_sd / \"micro_arousal_rate\")"
   ]
  },
  {
   "attachments": {},
   "cell_type": "markdown",
   "metadata": {},
   "source": [
    "### Duration comparison"
   ]
  },
  {
   "cell_type": "code",
   "execution_count": null,
   "metadata": {},
   "outputs": [],
   "source": [
    "sessions = subjects.ripple_sess()\n",
    "\n",
    "ma_df = []\n",
    "for sub, sess in enumerate(sessions):\n",
    "    epochs = sess.get_zt_epochs()[2:]\n",
    "    ma = sess.micro_arousals[\"MA_REM\"]\n",
    "\n",
    "    for e in epochs.itertuples():\n",
    "        e_ma = ma.time_slice(e.start, e.stop, strict=False)\n",
    "        df = pd.DataFrame(\n",
    "            {\n",
    "                \"duration\": e_ma.durations,\n",
    "                \"zt\": e.label,\n",
    "                \"session\": sub,\n",
    "                \"name\": sess.name[:4],\n",
    "                \"grp\": sess.tag,\n",
    "            }\n",
    "        )\n",
    "\n",
    "        ma_df.append(df)\n",
    "\n",
    "ma_df = pd.concat(ma_df, ignore_index=True)"
   ]
  },
  {
   "cell_type": "code",
   "execution_count": null,
   "metadata": {},
   "outputs": [],
   "source": [
    "fig = plotting.Fig(6, 4)\n",
    "ax = fig.subplot(fig.gs[0])\n",
    "sns.violinplot(\n",
    "    data=ma_df, x=\"zt\", y=\"duration\", hue=\"grp\", palette=subjects.colors_sd(1), ax=ax\n",
    ")\n",
    "\n",
    "fig.savefig(subjects.figpath_sd / \"micro_arousal_duration\")"
   ]
  }
 ],
 "metadata": {
  "kernelspec": {
   "display_name": "ephys_analysis",
   "language": "python",
   "name": "python3"
  },
  "language_info": {
   "codemirror_mode": {
    "name": "ipython",
    "version": 3
   },
   "file_extension": ".py",
   "mimetype": "text/x-python",
   "name": "python",
   "nbconvert_exporter": "python",
   "pygments_lexer": "ipython3",
   "version": "3.11.3"
  },
  "orig_nbformat": 4
 },
 "nbformat": 4,
 "nbformat_minor": 2
}
