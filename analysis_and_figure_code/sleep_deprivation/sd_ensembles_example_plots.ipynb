{
 "cells": [
  {
   "cell_type": "code",
   "execution_count": null,
   "metadata": {},
   "outputs": [],
   "source": [
    "import numpy as np\n",
    "import pandas as pd\n",
    "import seaborn as sns\n",
    "from scipy import stats\n",
    "import scipy.signal as sg\n",
    "import matplotlib.pyplot as plt\n",
    "from neuropy import plotting\n",
    "import subjects"
   ]
  },
  {
   "cell_type": "markdown",
   "metadata": {},
   "source": [
    "### Show good examples of ensembles extracted using PCA-ICA method"
   ]
  },
  {
   "cell_type": "code",
   "execution_count": null,
   "metadata": {},
   "outputs": [],
   "source": [
    "from neuropy.analyses.reactivation import NeuronEnsembles\n",
    "\n",
    "sess = subjects.nsd.ratNday2[0]\n",
    "maze = sess.paradigm['maze'].flatten()\n",
    "neurons = sess.neurons.get_neuron_type('pyr')[:60]\n",
    "ensembles = NeuronEnsembles(neurons,t_start=maze[0],t_stop=maze[1],bin_size=0.025)\n",
    "weights = ensembles.weights\n",
    "mat = np.where(stats.zscore(weights,axis=0)>1,weights,0)\n",
    "ind = np.lexsort(mat.T)[::-1]\n",
    "n_ensembles = ensembles.n_ensembles\n",
    "# ensemble_neuron_ids = ensembles.neurons.neuron_ids[ind]\n",
    "activation,act_t = ensembles.get_activation(*maze)\n",
    "sorted_weights = weights[ind,:]"
   ]
  },
  {
   "cell_type": "code",
   "execution_count": null,
   "metadata": {},
   "outputs": [],
   "source": [
    "from neuropy.utils.mathutil import min_max_scaler\n",
    "from scipy.ndimage import gaussian_filter1d\n",
    "\n",
    "smooth = lambda arr: gaussian_filter1d(arr, sigma=1.5)\n",
    "_, axs = plt.subplots(\n",
    "    2,\n",
    "    4,\n",
    "    gridspec_kw={\"height_ratios\": [2, 1], \"width_ratios\": [5, 1, 1, 1]},\n",
    "    sharex=\"col\",\n",
    ")\n",
    "\n",
    "ax = axs[0, 0]\n",
    "plotting.plot_raster(\n",
    "    ensembles.neurons[ind[::-1]].time_slice(*maze),\n",
    "    ax=ax,\n",
    "    markersize=3,\n",
    "    markeredgewidth=2,\n",
    "    marker=\".\",\n",
    "    color=\"#a6a6a6\",\n",
    ")\n",
    "\n",
    "# spiketrains = ensembles.neurons.time_slice(*maze).spiketrains\n",
    "# colors = [\"r\", \"b\"]\n",
    "# for i, inds in enumerate([ind[:4], ind[4:7]]):\n",
    "#     for val in inds:\n",
    "#         train = spiketrains[val]\n",
    "#         ax.plot(\n",
    "#             train,\n",
    "#             (val + 1) * np.ones(len(train)),\n",
    "#             \".\",\n",
    "#             markersize=5,\n",
    "#             markeredgewidth=2,\n",
    "#             color=colors[i],\n",
    "#         )\n",
    "\n",
    "\n",
    "ax = axs[1, 0]\n",
    "# ax = ax.twinx()\n",
    "d = 0\n",
    "for i in range(n_ensembles):\n",
    "    # trace = min_max_scaler(activation[i])\n",
    "    trace = activation[i]\n",
    "    ax.plot(act_t + 0.0125, trace + d, lw=0.8)\n",
    "    d += 0\n",
    "\n",
    "for i,e in enumerate([14, 15]):\n",
    "    ax= axs[0,i+1]\n",
    "    # trace = min_max_scaler(activation[i])\n",
    "    ax.stem(sorted_weights[:,e][::-1],orientation='horizontal',color='red')\n",
    "    ax.set_axis_off()\n",
    "\n",
    "\n",
    "\n"
   ]
  },
  {
   "cell_type": "code",
   "execution_count": null,
   "metadata": {},
   "outputs": [],
   "source": [
    "_,ax = plt.subplots()\n",
    "# ax.imshow(mat[ind,:],aspect='auto',interpolation='none',cmap='binary')\n",
    "ax.imshow(sorted_weights,aspect='auto',interpolation='none',cmap='bwr')"
   ]
  },
  {
   "cell_type": "code",
   "execution_count": null,
   "metadata": {},
   "outputs": [],
   "source": [
    "n_ensembles"
   ]
  },
  {
   "cell_type": "code",
   "execution_count": null,
   "metadata": {},
   "outputs": [],
   "source": [
    "id_mat = np.tile(ensemble_ids[:,np.newaxis],(1,28))\n",
    "id_mat_sort = id_mat[ind,:]"
   ]
  },
  {
   "cell_type": "code",
   "execution_count": null,
   "metadata": {},
   "outputs": [],
   "source": [
    "np.arange(25).reshape(5,5)[:,::-1]"
   ]
  }
 ],
 "metadata": {
  "kernelspec": {
   "display_name": "Python 3.10.5 ('data_analysis')",
   "language": "python",
   "name": "python3"
  },
  "language_info": {
   "codemirror_mode": {
    "name": "ipython",
    "version": 3
   },
   "file_extension": ".py",
   "mimetype": "text/x-python",
   "name": "python",
   "nbconvert_exporter": "python",
   "pygments_lexer": "ipython3",
   "version": "3.10.5"
  },
  "orig_nbformat": 4,
  "vscode": {
   "interpreter": {
    "hash": "cce1618081139d19eb1ee8d40815d94a2de4f62e1efb20d9406ddb60628c36ae"
   }
  }
 },
 "nbformat": 4,
 "nbformat_minor": 2
}
