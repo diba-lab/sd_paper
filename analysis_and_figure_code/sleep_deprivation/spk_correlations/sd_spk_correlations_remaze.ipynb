{
 "cells": [
  {
   "cell_type": "markdown",
   "metadata": {},
   "source": [
    "### Imports\n",
    "- Everthing which has remaze as focus"
   ]
  },
  {
   "cell_type": "code",
   "execution_count": null,
   "metadata": {},
   "outputs": [],
   "source": [
    "import pandas as pd\n",
    "import numpy as np\n",
    "from tqdm import tqdm\n",
    "import seaborn as sns\n",
    "import matplotlib.pyplot as plt\n",
    "from scipy import stats\n",
    "from sklearn.model_selection import KFold, train_test_split\n",
    "from neuropy import plotting\n",
    "import subjects"
   ]
  },
  {
   "cell_type": "markdown",
   "metadata": {},
   "source": [
    "### Scatter plot maze vs remaze"
   ]
  },
  {
   "cell_type": "code",
   "execution_count": null,
   "metadata": {},
   "outputs": [],
   "source": [
    "pair_corr_df = []\n",
    "for sub, sess in enumerate(sessions):\n",
    "    maze = sess.paradigm[\"maze\"].flatten()\n",
    "    remaze = sess.paradigm[\"re-maze\"].flatten()\n",
    "\n",
    "    neurons = sess.neurons.get_neuron_type(\"pyr\")\n",
    "    maze_frate = neurons.time_slice(*maze).firing_rate\n",
    "    remaze_frate = neurons.time_slice(*remaze).firing_rate\n",
    "\n",
    "    good_indices = np.logical_and(maze_frate > 0, remaze_frate > 0)\n",
    "    neurons = neurons[good_indices]\n",
    "\n",
    "    pair_corr = []\n",
    "    for e in [maze, remaze]:\n",
    "        pair_corr.append(\n",
    "            neurons.time_slice(*e).get_binned_spiketrains(0.25).get_pairwise_corr()\n",
    "        )\n",
    "\n",
    "    df = pd.DataFrame(dict(maze=pair_corr[0], remaze=pair_corr[1], grp=sess.tag))\n",
    "    pair_corr_df.append(df)\n",
    "\n",
    "pair_corr_df = pd.concat(pair_corr_df, ignore_index=True)\n",
    "\n",
    "subjects.GroupData().save(pair_corr_df, \"remaze_maze_paircorr\")"
   ]
  },
  {
   "cell_type": "code",
   "execution_count": null,
   "metadata": {},
   "outputs": [],
   "source": [
    "import matplotlib.pyplot as plt\n",
    "import seaborn as sns\n",
    "\n",
    "sns.scatterplot(data=pair_corr_df, x=\"maze\", y=\"remaze\", hue=\"grp\")"
   ]
  },
  {
   "cell_type": "markdown",
   "metadata": {},
   "source": [
    "### Pairwise correlations between Zt0-5/Zt5-end vs remaze\n",
    "- Scatter plots \n",
    "- I saw that pairwise correlations during NSD are more correlated to remaze compared to SD.\n",
    "- To carry out some statistical comparison between these two correlations, we can shuffle the pairs in each group and calculate R<sup>2</sup> difference and those distributions of R<sup>2</sup> difference between NSD and SD. "
   ]
  },
  {
   "cell_type": "code",
   "execution_count": null,
   "metadata": {},
   "outputs": [],
   "source": [
    "sessions = subjects.nsd.remaze + subjects.sd.remaze"
   ]
  },
  {
   "cell_type": "code",
   "execution_count": null,
   "metadata": {},
   "outputs": [],
   "source": [
    "print(f\"#Sessions: {len(sessions)}\")\n",
    "pair_corr_df = []\n",
    "for sub, sess in enumerate(sessions):\n",
    "    maze = sess.paradigm[\"maze\"].flatten()\n",
    "    post = sess.paradigm[\"post\"].flatten()\n",
    "    remaze = sess.paradigm[\"re-maze\"].flatten()\n",
    "\n",
    "    e1 = [post[0], post[0] + 5 * 3600]  # Zt0-5\n",
    "    # e1 = [post[0] + 5 * 3600, post[1]]  # Zt5-end\n",
    "    e2 = remaze\n",
    "\n",
    "    neurons = sess.neurons.get_neuron_type(\"pyr\")\n",
    "    e1_frate = neurons.time_slice(*e1).firing_rate\n",
    "    e2_frate = neurons.time_slice(*e2).firing_rate\n",
    "\n",
    "    good_indices = np.logical_and(e1_frate > 0, e2_frate > 0)\n",
    "    neurons = neurons[good_indices]\n",
    "\n",
    "    pair_corr = []\n",
    "    for e in [e1, e2]:\n",
    "        pair_corr.append(\n",
    "            neurons.time_slice(*e).get_binned_spiketrains(0.25).get_pairwise_corr()\n",
    "        )\n",
    "\n",
    "    df = pd.DataFrame(dict(zt5h=pair_corr[0], remaze=pair_corr[1], grp=sess.tag))\n",
    "    pair_corr_df.append(df)\n",
    "\n",
    "pair_corr_df = pd.concat(pair_corr_df, ignore_index=True)\n",
    "\n",
    "subjects.GroupData().save(pair_corr_df, \"remaze_first5_paircorr\")\n",
    "# subjects.GroupData().save(pair_corr_df, \"remaze_last5_paircorr\")"
   ]
  },
  {
   "cell_type": "markdown",
   "metadata": {},
   "source": [
    "#### Shuffle/Bootstrapping methods\n",
    "- Method 1: Randomize x axis correlations\n",
    "- Method 2: Subsample x and y and get a distribution of R^2 values and then compare\n",
    "- Method 3 (**Using this here**): Combined bootstrap, combine both SD and NSD pairwise correlations and then subsample the same number of pairs (for each group) with or without replacement and calclate the R^2 difference and compare their distributions between original group vs this new sampled groups. "
   ]
  },
  {
   "cell_type": "code",
   "execution_count": null,
   "metadata": {},
   "outputs": [],
   "source": [
    "rng = np.random.default_rng()\n",
    "subsample_df = []\n",
    "\n",
    "r2, n_pairs = [], []\n",
    "for i, grp in enumerate([\"NSD\", \"SD\"]):\n",
    "    df = pair_corr_df[pair_corr_df[\"grp\"] == grp]\n",
    "    x, y = df.zt5h.values, df.remaze.values\n",
    "    linreg = stats.linregress(x, y)\n",
    "    r2.append(linreg.rvalue**2)\n",
    "    n_pairs.append(len(x))\n",
    "\n",
    "r2_diff = r2[0] - r2[1]\n",
    "combined_paircorr = pair_corr_df.zt5h.values\n",
    "\n",
    "r2_boot = []\n",
    "for i, grp in enumerate([\"NSD\", \"SD\"]):\n",
    "    y = pair_corr_df[pair_corr_df[\"grp\"] == grp].remaze.values\n",
    "\n",
    "    r2_grp = []\n",
    "    for p in range(1000):\n",
    "        x_boot = rng.choice(combined_paircorr, n_pairs[i], replace=False)\n",
    "        linreg_boot = stats.linregress(x_boot, y)\n",
    "        r2_grp.append(linreg_boot.rvalue**2)\n",
    "\n",
    "    r2_boot.append(r2_grp)\n",
    "\n",
    "r2_boot = np.asarray(r2_boot)\n",
    "r2_boot_diff = r2_boot[0] - r2_boot[1]\n",
    "\n",
    "# subsample_df = pd.concat(subsample_df, ignore_index=True)\n",
    "\n",
    "# subjects.GroupData().save(r2_boot_diff_df,'remaze_first5_bootstrap')\n",
    "subjects.GroupData().save(\n",
    "    {\"boot_diff\": r2_boot_diff, \"r2_diff\": r2_diff}, \"remaze_first5_bootstrap\"\n",
    ")"
   ]
  },
  {
   "cell_type": "code",
   "execution_count": null,
   "metadata": {},
   "outputs": [],
   "source": [
    "_, axs = plt.subplots(1, 3)\n",
    "axs = axs.reshape(-1)\n",
    "for i, grp in enumerate([\"NSD\", \"SD\"]):\n",
    "    df = pair_corr_df[pair_corr_df[\"grp\"] == grp]\n",
    "    linreg = stats.linregress(df[\"zt5h\"], df[\"remaze\"])\n",
    "    sns.scatterplot(data=df, x=\"zt5h\", y=\"remaze\", hue=\"grp\", ax=axs[i])\n",
    "    # axs[i].set_title(f'r={linreg.rvalue.round(2)}, pvalue={linreg.pvalue}')\n",
    "\n",
    "sns.histplot(data=r2_boot_diff, ax=axs[2], fill=True, element=\"step\")\n",
    "axs[2].axvline(r2_diff)\n",
    "axs[2].set_xscale(\"log\")\n",
    "# axs[2].axvline(0.08,ls='--')\n",
    "# axs[2].set_xscale('log')"
   ]
  },
  {
   "cell_type": "markdown",
   "metadata": {},
   "source": [
    "### Correlation of pairwise correlations across time for remaze sessions"
   ]
  },
  {
   "cell_type": "code",
   "execution_count": null,
   "metadata": {},
   "outputs": [],
   "source": [
    "import pingouin as pg\n",
    "\n",
    "corr = []\n",
    "for sub, sess in enumerate(sessions):\n",
    "    rec_duration = sess.eegfile.duration\n",
    "    neurons = sess.neurons.get_neuron_type(\"pyr\")\n",
    "\n",
    "    windows = np.arange(0, rec_duration, 300)\n",
    "    pair_corr = []\n",
    "    for w in windows[:-1]:\n",
    "        pair_corr.append(\n",
    "            neurons.time_slice(w, w + 300).get_binned_spiketrains().get_pairwise_corr()\n",
    "        )\n",
    "    pair_corr = np.array(pair_corr).T\n",
    "    df = pd.DataFrame(pair_corr, columns=np.arange(len(windows) - 1))\n",
    "    corr.append(df.corr().values)\n",
    "subjects.GroupData().save(corr, \"remaze_corr_across_session\")"
   ]
  },
  {
   "cell_type": "code",
   "execution_count": null,
   "metadata": {},
   "outputs": [],
   "source": [
    "import matplotlib.pyplot as plt\n",
    "\n",
    "_, axs = plt.subplots(1, 2)\n",
    "axs = axs.reshape(-1)\n",
    "\n",
    "for i in range(2):\n",
    "    axs[i].imshow(corr[i])"
   ]
  },
  {
   "cell_type": "markdown",
   "metadata": {},
   "source": [
    "### Paircorr Zt0-5/Zt5-end vs remaze while controlling for MAZE\n",
    "- Scatter plots of residuals of pariwise correlations after controlling for PRE  "
   ]
  },
  {
   "cell_type": "code",
   "execution_count": null,
   "metadata": {},
   "outputs": [],
   "source": [
    "sessions = subjects.remaze_sess()"
   ]
  },
  {
   "cell_type": "code",
   "execution_count": null,
   "metadata": {},
   "outputs": [],
   "source": [
    "print(f\"#Sessions: {len(sessions)}\")\n",
    "\n",
    "\n",
    "def get_residuals(x, y):\n",
    "    mask = ~np.isnan(x) & ~np.isnan(y)\n",
    "    linreg = stats.linregress(x[mask], y[mask])\n",
    "    slope, intercept = linreg.slope, linreg.intercept\n",
    "    return y - (slope * x + intercept)\n",
    "\n",
    "\n",
    "pair_corr_df = []\n",
    "for sub, sess in enumerate(sessions):\n",
    "    pre = sess.paradigm[\"pre\"].flatten()\n",
    "    maze = sess.paradigm[\"maze\"].flatten()\n",
    "    post = sess.paradigm[\"post\"].flatten()\n",
    "    remaze = sess.paradigm[\"re-maze\"].flatten()\n",
    "\n",
    "    e1 = [pre[0], maze[1]]  # maze and pre\n",
    "    # e1 = maze # maze only\n",
    "    e2 = [post[0], post[0] + 5 * 3600]  # Zt0-5\n",
    "    e3 = [post[0] + 5 * 3600, post[1]]  # Zt5-end\n",
    "    e4 = remaze\n",
    "\n",
    "    neurons = sess.neurons_stable.get_neuron_type(\"pyr\")\n",
    "    e1_frate = neurons.time_slice(*e1).firing_rate\n",
    "    e2_frate = neurons.time_slice(*e2).firing_rate\n",
    "\n",
    "    good_indices = np.logical_and(e1_frate > 0, e2_frate > 0)\n",
    "    neurons = neurons[good_indices]\n",
    "\n",
    "    pair_corr = []\n",
    "    for e in [e1, e2, e3, e4]:\n",
    "        pair_corr.append(\n",
    "            neurons.time_slice(*e).get_binned_spiketrains(0.25).get_pairwise_corr()\n",
    "        )\n",
    "\n",
    "    zt05_residuals = get_residuals(pair_corr[0], pair_corr[1])\n",
    "    zt5e_residuals = get_residuals(pair_corr[0], pair_corr[2])\n",
    "    remaze_residuals = get_residuals(pair_corr[0], pair_corr[3])\n",
    "\n",
    "    df = pd.DataFrame(\n",
    "        dict(\n",
    "            zt05=zt05_residuals,\n",
    "            zt5e=zt5e_residuals,\n",
    "            remaze=remaze_residuals,\n",
    "            grp=sess.tag,\n",
    "        )\n",
    "    )\n",
    "    pair_corr_df.append(df)\n",
    "\n",
    "pair_corr_df = pd.concat(pair_corr_df, ignore_index=True)\n",
    "\n",
    "# subjects.GroupData().save(pair_corr_df, \"remaze_residual_corr\")\n",
    "# subjects.GroupData().save(pair_corr_df, \"remaze_last5_paircorr\")"
   ]
  },
  {
   "cell_type": "code",
   "execution_count": null,
   "metadata": {},
   "outputs": [],
   "source": [
    "import seaborn as sns\n",
    "from neuropy.plotting import Fig\n",
    "\n",
    "fig = Fig(grid=(8, 6))\n",
    "\n",
    "pair_corr_df = pair_corr_df.dropna(axis=0).reset_index(drop=True)\n",
    "# _, axs = plt.subplots(1,2,sharex=True,sharey=True)\n",
    "\n",
    "for i, e in enumerate([\"zt05\", \"zt5e\"]):\n",
    "    ax = fig.subplot(fig.gs[i])\n",
    "    sns.scatterplot(\n",
    "        data=pair_corr_df,\n",
    "        x=e,\n",
    "        y=\"remaze\",\n",
    "        hue=\"grp\",\n",
    "        s=5,\n",
    "        palette=subjects.colors_sd(0.9),\n",
    "        ax=ax,\n",
    "        rasterized=True,\n",
    "        alpha=0.6,\n",
    "    )\n",
    "    ax.legend(\"\", frameon=False)\n",
    "    ax.set_xlim(-0.3, 0.7)\n",
    "    ax.set_ylim(-0.3, 0.7)\n",
    "\n",
    "    for g, grp in enumerate([\"NSD\", \"SD\"]):\n",
    "        df = pair_corr_df[pair_corr_df[\"grp\"] == grp]\n",
    "        x = df[e].values\n",
    "        y = df.remaze.values\n",
    "        mask = ~np.isnan(x) & ~np.isnan(y)\n",
    "        linreg = stats.linregress(x[mask], y[mask])\n",
    "        slope, intercept, r = linreg.slope, linreg.intercept, linreg.rvalue\n",
    "        print(linreg.rvalue, linreg.pvalue)\n",
    "        ax.axline(\n",
    "            (0, intercept), slope=slope, color=subjects.colors_sd(0.8)[g], ls=\"--\"\n",
    "        )\n",
    "\n",
    "# fig.savefig(subjects.figpath_sd/'remaze_paircorr_residuals')"
   ]
  },
  {
   "attachments": {},
   "cell_type": "markdown",
   "metadata": {},
   "source": [
    "### Population vector correlation between maze and remaze"
   ]
  },
  {
   "cell_type": "code",
   "execution_count": null,
   "metadata": {},
   "outputs": [],
   "source": [
    "sessions = subjects.remaze_sess()\n",
    "\n",
    "\n",
    "def remove_empty_bins(arr):\n",
    "    return arr[:, arr.sum(axis=0) > 0]\n",
    "\n",
    "\n",
    "pcorrs = []\n",
    "for s, sess in enumerate(sessions):\n",
    "    maze = sess.paradigm[\"maze\"].flatten()\n",
    "    remaze = sess.paradigm[\"re-maze\"].flatten()\n",
    "    neurons = sess.neurons_stable.get_neuron_type(\"pyr\")\n",
    "\n",
    "    maze_sc = neurons.time_slice(*maze).get_binned_spiketrains(1).spike_counts\n",
    "    remaze_sc = neurons.time_slice(*remaze).get_binned_spiketrains(1).spike_counts\n",
    "\n",
    "    comb_binspk = np.hstack([remove_empty_bins(maze_sc), remove_empty_bins(remaze_sc)])\n",
    "    pcorrs.append(np.corrcoef(comb_binspk.T))"
   ]
  },
  {
   "cell_type": "code",
   "execution_count": null,
   "metadata": {},
   "outputs": [],
   "source": [
    "fig = plotting.Fig(3, 3)\n",
    "\n",
    "for i, pcorr in enumerate(pcorrs):\n",
    "    np.fill_diagonal(pcorr, 0)\n",
    "    ax = fig.subplot(fig.gs[i])\n",
    "    ax.imshow(pcorr)"
   ]
  }
 ],
 "metadata": {
  "interpreter": {
   "hash": "cce1618081139d19eb1ee8d40815d94a2de4f62e1efb20d9406ddb60628c36ae"
  },
  "kernelspec": {
   "display_name": "Python 3.10.2 ('data_analysis')",
   "language": "python",
   "name": "python3"
  },
  "language_info": {
   "codemirror_mode": {
    "name": "ipython",
    "version": 3
   },
   "file_extension": ".py",
   "mimetype": "text/x-python",
   "name": "python",
   "nbconvert_exporter": "python",
   "pygments_lexer": "ipython3",
   "version": "3.11.0"
  },
  "orig_nbformat": 4
 },
 "nbformat": 4,
 "nbformat_minor": 2
}
