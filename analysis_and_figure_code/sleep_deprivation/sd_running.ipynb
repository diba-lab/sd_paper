{
 "cells": [
  {
   "attachments": {},
   "cell_type": "markdown",
   "metadata": {},
   "source": [
    "### Imports"
   ]
  },
  {
   "cell_type": "code",
   "execution_count": null,
   "metadata": {},
   "outputs": [],
   "source": [
    "import matplotlib.pyplot as plt\n",
    "import numpy as np\n",
    "from neuropy import plotting\n",
    "from tqdm.notebook import tqdm\n",
    "from neuropy.core import Epoch\n",
    "import seaborn as sns\n",
    "from neuropy.utils.mathutil import min_max_scaler\n",
    "import pandas as pd\n",
    "from neuropy.utils.position_util import run_direction\n",
    "from neuropy.plotting import plot_epochs\n",
    "from scipy.ndimage import gaussian_filter1d\n",
    "from scipy.signal import find_peaks\n",
    "import subjects\n",
    "from scipy import stats"
   ]
  },
  {
   "cell_type": "markdown",
   "metadata": {},
   "source": [
    "### Comparing experience on the track between NSD and SD"
   ]
  },
  {
   "cell_type": "code",
   "execution_count": null,
   "metadata": {},
   "outputs": [],
   "source": [
    "sessions = subjects.ripple_sess()\n",
    "\n",
    "maze_df = []\n",
    "for s, sess in enumerate(sessions):\n",
    "    maze = sess.paradigm[\"maze\"]\n",
    "    maze_duration = maze.durations[0] / 3600\n",
    "    # print(sess)\n",
    "    # print(sess.maze_run.n_epochs)\n",
    "\n",
    "    df = pd.DataFrame(\n",
    "        dict(maze_duration=maze_duration, session=s, grp=sess.tag, index=[0])\n",
    "    )\n",
    "    maze_df.append(df)\n",
    "\n",
    "maze_df = pd.concat(maze_df, ignore_index=True)"
   ]
  },
  {
   "cell_type": "code",
   "execution_count": null,
   "metadata": {},
   "outputs": [],
   "source": [
    "x = maze_df[maze_df.grp == \"NSD\"].maze_duration.values\n",
    "y = maze_df[maze_df.grp == \"SD\"].maze_duration.values\n",
    "\n",
    "stats.ttest_ind(x, y, equal_var=False)"
   ]
  },
  {
   "cell_type": "code",
   "execution_count": null,
   "metadata": {},
   "outputs": [],
   "source": [
    "from plotters import Plotter\n",
    "\n",
    "\n",
    "fig = subjects.SdFig().fig_supp(ncols=10)\n",
    "ax = fig.subplot(fig.gs[0])\n",
    "\n",
    "sns.stripplot(\n",
    "    data=maze_df,\n",
    "    x=\"grp\",\n",
    "    y=\"maze_duration\",\n",
    "    ax=ax,\n",
    "    size=3,\n",
    "    edgecolor=\"w\",\n",
    "    linewidth=0.3,\n",
    ")\n",
    "sns.barplot(\n",
    "    data=maze_df,\n",
    "    x=\"grp\",\n",
    "    y=\"maze_duration\",\n",
    "    ax=ax,\n",
    "    ci=None,\n",
    "    facecolor=\"w\",\n",
    "    edgecolor=\"0.2\",\n",
    ")\n",
    "\n",
    "ax.set_ylim(0.5, 1.3)\n",
    "ax.set_ylabel(\"MAZE duration (h)\")\n",
    "\n",
    "fig.savefig(subjects.figpath_sd / \"maze_duration_sd_vs_nsd\", format=\"svg\")"
   ]
  },
  {
   "attachments": {},
   "cell_type": "markdown",
   "metadata": {},
   "source": [
    "### Scratch/Test for running epochs"
   ]
  },
  {
   "cell_type": "code",
   "execution_count": null,
   "metadata": {},
   "outputs": [],
   "source": [
    "sess = subjects.nsd.ratKday2[0]\n",
    "\n",
    "maze = sess.paradigm[\"maze\"].flatten()\n",
    "t = sess.maze.time\n",
    "dt = 1 / sess.maze.sampling_rate\n",
    "x = gaussian_filter1d(sess.maze.x, sigma=0.1 / dt)\n",
    "speed = np.abs(np.concatenate([[0], np.diff(x) / dt]))\n",
    "\n",
    "speed_thresh = np.where(speed >= 10, speed, 0)\n",
    "peaks, props = find_peaks(speed_thresh, height=30, prominence=0)\n",
    "\n",
    "starts, stops = props[\"left_bases\"], props[\"right_bases\"]\n",
    "peaks_power = speed_thresh[peaks]\n",
    "\n",
    "# ----- merge overlapping epochs ------\n",
    "n_epochs = len(starts)\n",
    "ind_delete = []\n",
    "for i in range(n_epochs - 1):\n",
    "    if (starts[i + 1] - stops[i]) < (1 * (1 / dt) + 1e-6):\n",
    "        # stretch the second epoch to cover the range of both epochs\n",
    "        starts[i + 1] = min(starts[i], starts[i + 1])\n",
    "        stops[i + 1] = max(stops[i], stops[i + 1])\n",
    "\n",
    "        peaks_power[i + 1] = max(peaks_power[i], peaks_power[i + 1])\n",
    "        peaks[i + 1] = [peaks[i], peaks[i + 1]][\n",
    "            np.argmax([peaks_power[i], peaks_power[i + 1]])\n",
    "        ]\n",
    "\n",
    "        ind_delete.append(i)\n",
    "\n",
    "epochs_arr = np.vstack((starts, stops, peaks, peaks_power)).T\n",
    "starts, stops, peaks, peaks_power = np.delete(epochs_arr, ind_delete, axis=0).T\n",
    "starts = starts.astype(\"int\")\n",
    "stops = stops.astype(\"int\")\n",
    "\n",
    "run = run_direction(sess.maze, min_distance=10, sigma=0.1)\n",
    "peak_time = run.to_dataframe().peak_time.values\n",
    "_, axs = plt.subplots(2, 1, sharex=True)\n",
    "\n",
    "axs[0].plot(t, x)\n",
    "# ax.plot(sess.lin_maze.time,gaussian_filter1d(sess.lin_maze.x,sigma=50))\n",
    "plot_epochs(\n",
    "    ax=axs[0],\n",
    "    epochs=run,\n",
    "    colors={\"up\": \"r\", \"down\": \"k\"},\n",
    "    alpha=0.2,\n",
    "    collapsed=True,\n",
    ")\n",
    "\n",
    "axs[1].plot(t, speed)\n",
    "axs[1].plot(t[starts], speed[starts], \"r*\")\n",
    "axs[1].plot(t[stops], speed[stops], \"k*\")\n",
    "axs[1].plot(peak_time, 60 * np.ones_like(peak_time), \"g*\")\n",
    "\n",
    "# axs[2].plot(t[1:],np.abs(np.diff(x)/dt))"
   ]
  },
  {
   "attachments": {},
   "cell_type": "markdown",
   "metadata": {},
   "source": [
    "### Match linearized maps for maze and remaze\n",
    "- The origin of isomap-linearized maps are arbitary, so it is possible the origins are at different ends on maze and remaze."
   ]
  },
  {
   "cell_type": "code",
   "execution_count": null,
   "metadata": {},
   "outputs": [],
   "source": [
    "from neuropy.core import Position\n",
    "\n",
    "sessions = subjects.remaze_sess()[1:]\n",
    "\n",
    "fig = plotting.Fig(4, 4)\n",
    "for s, sess in enumerate(sessions):\n",
    "    maze = sess.paradigm[\"maze\"].flatten()\n",
    "    remaze = sess.paradigm[\"re-maze\"].flatten()\n",
    "\n",
    "    position = sess.position\n",
    "    t = position.time\n",
    "    x = position.x\n",
    "    y = position.y\n",
    "\n",
    "    maze_run = sess.maze_run\n",
    "    remaze_run = sess.remaze_run\n",
    "\n",
    "    linmaze = sess.maze\n",
    "    t_linmaze = linmaze.time[linmaze.x < 100]\n",
    "\n",
    "    if s in [0, 1, 4]:\n",
    "        linremaze = sess.remaze\n",
    "        linremaze.x = -1 * linremaze.x + np.max(linremaze.x)\n",
    "        linremaze.save(sess.filePrefix.with_suffix(\".remaze.linear\"))\n",
    "    else:\n",
    "        linremaze = sess.remaze\n",
    "\n",
    "    t_linremaze = linremaze.time[linremaze.x < 100]\n",
    "\n",
    "    origin_x_maze = np.interp(t_linmaze, t, x)\n",
    "    origin_y_maze = np.interp(t_linmaze, t, y)\n",
    "\n",
    "    origin_x_remaze = np.interp(t_linremaze, t, x)\n",
    "    origin_y_remaze = np.interp(t_linremaze, t, y)\n",
    "\n",
    "    ax = fig.subplot(fig.gs[s])\n",
    "    ax.plot(origin_x_maze, origin_y_maze, \"k.\")\n",
    "    ax.plot(origin_x_remaze, origin_y_remaze, \"r.\")"
   ]
  },
  {
   "cell_type": "code",
   "execution_count": null,
   "metadata": {},
   "outputs": [],
   "source": [
    "sess.maze_run.to_dataframe()"
   ]
  },
  {
   "attachments": {},
   "cell_type": "markdown",
   "metadata": {},
   "source": [
    "### Pooled running epochs detection"
   ]
  },
  {
   "cell_type": "code",
   "execution_count": null,
   "metadata": {},
   "outputs": [],
   "source": [
    "# sessions = subjects.pf_sess()\n",
    "# sessions = subjects.nsd.ratVday3 + subjects.sd.ratUday1\n",
    "# sessions = subjects.nsd.ratVday1 + subjects.nsd.ratVday3\n",
    "sessions = subjects.remaze_sess()[1:]\n",
    "# sessions = subjects.sd.ratVday2\n",
    "epoch_names = [\"maze\", \"remaze\"]\n",
    "\n",
    "fig = plotting.Fig(8, 2)\n",
    "for s, sess in enumerate(sessions):\n",
    "    # maze = sess.paradigm[\"re-maze\"].flatten()\n",
    "\n",
    "    for e, name in enumerate(epoch_names):\n",
    "        if name == \"maze\":\n",
    "            pos = sess.maze\n",
    "        if name == \"remaze\":\n",
    "            pos = sess.remaze\n",
    "\n",
    "        run_epochs = run_direction(pos, min_distance=10, sigma=0.1)\n",
    "        run_epochs.save(sess.filePrefix.with_suffix(f\".{name}.running\"))\n",
    "        ax = fig.subplot(fig.gs[s, e])\n",
    "        ax.plot(pos.time, pos.x)\n",
    "        plotting.plot_epochs(run_epochs, ax=ax, collapsed=True)\n",
    "\n",
    "# if hasattr(sess, \"maze_run\"):\n",
    "#     print(sess.maze_run.to_dataframe())\n",
    "# if not hasattr(sess, \"remaze_run\"):\n",
    "#     print(sess.remaze_run.to_dataframe())"
   ]
  },
  {
   "attachments": {},
   "cell_type": "markdown",
   "metadata": {},
   "source": [
    "### Visualize 1d linearize position"
   ]
  },
  {
   "cell_type": "code",
   "execution_count": null,
   "metadata": {},
   "outputs": [],
   "source": [
    "sessions = subjects.pf_sess()\n",
    "# sessions = subjects.nsd.ratKday2\n",
    "\n",
    "_, axs = plt.subplots(8, 2)\n",
    "axs = axs.reshape(-1)\n",
    "\n",
    "for s, sess in enumerate(sessions):\n",
    "    maze = sess.paradigm[\"maze\"].flatten()\n",
    "    try:\n",
    "        mazepos = sess.maze\n",
    "    except:\n",
    "        mazepos = sess.position.time_slice(maze)\n",
    "\n",
    "    axs[s].plot(mazepos.time, mazepos.x)\n",
    "    axs[s].set_title(sess.animal.name)"
   ]
  },
  {
   "cell_type": "code",
   "execution_count": null,
   "metadata": {},
   "outputs": [],
   "source": [
    "from datetime import date\n",
    "\n",
    "\".\" + date.today().strftime(\"%d-%m-%y\")"
   ]
  },
  {
   "attachments": {},
   "cell_type": "markdown",
   "metadata": {},
   "source": [
    "### Visualize 2D position"
   ]
  },
  {
   "cell_type": "code",
   "execution_count": null,
   "metadata": {},
   "outputs": [],
   "source": [
    "# sessions = subjects.pf_sess()\n",
    "sessions = subjects.sd.ratUday1\n",
    "\n",
    "\n",
    "_, axs = plt.subplots(2, 1)\n",
    "axs = axs.reshape(-1)\n",
    "\n",
    "for s, sess in enumerate(sessions):\n",
    "    maze = sess.paradigm[\"maze\"].flatten()\n",
    "    # maze[0] = maze[0] + 1\n",
    "    # maze[1] = maze[1] + 20\n",
    "    # mazepos = sess.position.time_slice(*maze)\n",
    "    mazepos = sess.maze.time_slice(*maze)\n",
    "    all_run_epochs = sess.maze_run\n",
    "    thresh_run_epochs = run_direction(\n",
    "        mazepos, min_distance=50, sigma=0.2, speed_thresh=(30, None)\n",
    "    )\n",
    "    # thresh_run_epochs = sess.maze_run.duration_slice(min_dur=1.2)\n",
    "\n",
    "    axs[s].plot(mazepos.time, mazepos.x)\n",
    "    plotting.plot_epochs(\n",
    "        all_run_epochs, ax=axs[s], collapsed=True, colors=\"r\", alpha=0.5\n",
    "    )\n",
    "    plotting.plot_epochs(\n",
    "        thresh_run_epochs, ax=axs[s], collapsed=True, colors=\"g\", alpha=0.5\n",
    "    )\n",
    "    axs[s].set_title(sess.animal.name)"
   ]
  }
 ],
 "metadata": {
  "interpreter": {
   "hash": "cce1618081139d19eb1ee8d40815d94a2de4f62e1efb20d9406ddb60628c36ae"
  },
  "kernelspec": {
   "display_name": "Python 3.10.2 ('data_analysis')",
   "language": "python",
   "name": "python3"
  },
  "language_info": {
   "codemirror_mode": {
    "name": "ipython",
    "version": 3
   },
   "file_extension": ".py",
   "mimetype": "text/x-python",
   "name": "python",
   "nbconvert_exporter": "python",
   "pygments_lexer": "ipython3",
   "version": "3.11.3"
  },
  "orig_nbformat": 4
 },
 "nbformat": 4,
 "nbformat_minor": 2
}
