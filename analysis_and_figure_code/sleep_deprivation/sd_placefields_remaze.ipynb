{
 "cells": [
  {
   "attachments": {},
   "cell_type": "markdown",
   "metadata": {},
   "source": [
    "### Imports"
   ]
  },
  {
   "cell_type": "code",
   "execution_count": null,
   "metadata": {},
   "outputs": [],
   "source": [
    "import numpy as np\n",
    "import pandas as pd\n",
    "import seaborn as sns\n",
    "from scipy import stats\n",
    "import scipy.signal as sg\n",
    "import matplotlib.pyplot as plt\n",
    "from neuropy import plotting\n",
    "from neuropy.analyses.placefields import Pf1D\n",
    "import subjects"
   ]
  },
  {
   "attachments": {},
   "cell_type": "markdown",
   "metadata": {},
   "source": [
    "### Placefields and population vector correlation MAZE vs REMAZE"
   ]
  },
  {
   "cell_type": "code",
   "execution_count": null,
   "metadata": {},
   "outputs": [],
   "source": [
    "sessions = subjects.remaze_sess()[1:]  # RatSDay2NSD does not have remaze position info\n",
    "kw = dict(frate_thresh=0, grid_bin=5)\n",
    "\n",
    "tc_all = []\n",
    "for s, sess in enumerate(sessions):\n",
    "    maze = sess.paradigm[\"maze\"].flatten()\n",
    "    remaze = sess.paradigm[\"re-maze\"].flatten()\n",
    "    neurons = sess.neurons_stable.get_neuron_type(\"pyr\")\n",
    "\n",
    "    # ---- Run direction sepearted-------\n",
    "    tc_maze, tc_remaze = [], []\n",
    "    for direction in [\"up\", \"down\"]:\n",
    "        maze_run = sess.maze_run[direction]\n",
    "        pfmaze = Pf1D(neurons, position=sess.maze, epochs=maze_run, **kw)\n",
    "        tc_maze.append(pfmaze.resample(50).tuning_curves)\n",
    "\n",
    "        remaze_run = sess.remaze_run[direction]\n",
    "        pfremaze = Pf1D(neurons, position=sess.remaze, epochs=remaze_run, **kw)\n",
    "        tc_remaze.append(pfremaze.resample(50).tuning_curves)\n",
    "\n",
    "    tc_comb = np.hstack((np.vstack(tc_maze), np.vstack(tc_remaze)))\n",
    "\n",
    "    # ---- Overall----\n",
    "    # pfmaze = Pf1D(neurons, position=sess.maze, **kw)\n",
    "    # tc_maze = pfmaze.resample(50).tuning_curves\n",
    "\n",
    "    # pfremaze = Pf1D(neurons, position=sess.remaze, **kw)\n",
    "    # tc_remaze = pfremaze.resample(50).tuning_curves\n",
    "\n",
    "    # tc_comb = np.hstack((tc_maze, tc_remaze))\n",
    "\n",
    "    tc_comb_df = pd.DataFrame(tc_comb)\n",
    "    tc_comb_df[\"session\"] = s\n",
    "    tc_comb_df[\"grp\"] = sess.tag\n",
    "    tc_all.append(tc_comb_df)\n",
    "\n",
    "tc_all = pd.concat(tc_all, ignore_index=True)"
   ]
  },
  {
   "cell_type": "code",
   "execution_count": null,
   "metadata": {},
   "outputs": [],
   "source": [
    "from neuropy.utils.mathutil import min_max_scaler\n",
    "from scipy.ndimage import gaussian_filter1d, gaussian_filter\n",
    "\n",
    "fig = plotting.Fig(11, 8)\n",
    "\n",
    "for g, grp in enumerate([\"NSD\", \"SD\"]):\n",
    "    tc_grp = tc_all[tc_all.grp == grp].iloc[:, :100].to_numpy()\n",
    "    # tc_grp = gaussian_filter1d(tc_grp, sigma=1.5, axis=1)\n",
    "    tc_new = np.zeros_like(tc_grp)\n",
    "    tc_new[:, :50] = min_max_scaler(tc_grp[:, :50], axis=1)\n",
    "    tc_new[:, 50:] = min_max_scaler(tc_grp[:, 50:], axis=1)\n",
    "    # tc_new =  min_max_scaler(tc_grp,axis=-1)\n",
    "    sort_ind = np.argsort(np.argmax(tc_new[:, :50], axis=1))\n",
    "    tc_new = gaussian_filter1d(tc_new, sigma=1.5, axis=1)\n",
    "    print(tc_new.shape)\n",
    "\n",
    "    ax = fig.subplot(fig.gs[:2, g + 1])\n",
    "    pf_im = ax.pcolormesh(tc_new[sort_ind, :], cmap=\"binary\", rasterized=True)\n",
    "    ax.axvline(50, color=\"k\")\n",
    "    ax.set_xticks([0, 50, 51, 100], [0, 1, 0, 1])\n",
    "    ax.set_ylabel(\"Neurons\")\n",
    "    ax.set_xlabel(\"Position\")\n",
    "    pf_cb = plt.colorbar(pf_im, anchor=(1, 1), shrink=0.3, ticks=[0, 0.9])\n",
    "\n",
    "    ax = fig.subplot(fig.gs[2, g + 1])\n",
    "    corr = gaussian_filter(np.corrcoef(tc_grp.T), 1)\n",
    "    np.fill_diagonal(corr, 0)\n",
    "    corr_im = ax.pcolormesh(corr, cmap=\"bwr\", vmin=0.1, vmax=0.8, rasterized=True)\n",
    "    ax.axvline(50, color=\"k\")\n",
    "    ax.axhline(50, color=\"k\")\n",
    "    ax.axis(\"off\")\n",
    "    corr_cb = plt.colorbar(corr_im, shrink=0.5, anchor=(1, 1), ticks=[0.1, 0.5, 0.8])\n",
    "\n",
    "\n",
    "# fig.savefig(subjects.figpath_sd / \"maze_remaze_pf_run_direction\")"
   ]
  }
 ],
 "metadata": {
  "kernelspec": {
   "display_name": "ephys_analysis",
   "language": "python",
   "name": "python3"
  },
  "language_info": {
   "codemirror_mode": {
    "name": "ipython",
    "version": 3
   },
   "file_extension": ".py",
   "mimetype": "text/x-python",
   "name": "python",
   "nbconvert_exporter": "python",
   "pygments_lexer": "ipython3",
   "version": "3.11.0"
  },
  "orig_nbformat": 4
 },
 "nbformat": 4,
 "nbformat_minor": 2
}
