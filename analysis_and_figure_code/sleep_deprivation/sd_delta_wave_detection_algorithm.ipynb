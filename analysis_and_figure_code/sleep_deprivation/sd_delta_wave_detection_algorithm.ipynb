{
 "cells": [
  {
   "attachments": {},
   "cell_type": "markdown",
   "metadata": {},
   "source": [
    "### Imports\n"
   ]
  },
  {
   "cell_type": "code",
   "execution_count": null,
   "metadata": {},
   "outputs": [],
   "source": [
    "import numpy as np\n",
    "import pandas as pd\n",
    "import seaborn as sns\n",
    "from scipy import stats\n",
    "import scipy.signal as sg\n",
    "import matplotlib.pyplot as plt\n",
    "from neuropy import plotting\n",
    "import subjects"
   ]
  },
  {
   "cell_type": "code",
   "execution_count": null,
   "metadata": {},
   "outputs": [],
   "source": [
    "from neuropy.utils.signal_process import filter_sig\n",
    "\n",
    "sess = subjects.sd.ratSday3[0]\n",
    "post = sess.paradigm[\"post\"].flatten()\n",
    "period = [post[0], post[0] + 1 * 3600]\n",
    "channel = sess.best_channels.slow_wave\n",
    "signal = sess.eegfile.get_signal(channel, *period)\n",
    "delta_signal = filter_sig.bandpass(signal, lf=0.5, hf=4)\n",
    "delta_zsc = -1 * stats.zscore(delta_signal.traces[0])\n",
    "delta_zsc_diff = np.diff(delta_zsc).squeeze()\n",
    "zero_crossings = np.diff(np.sign(delta_zsc_diff))\n",
    "troughs = np.where(zero_crossings > 0)[0]\n",
    "peaks = np.where(zero_crossings < 0)[0]\n",
    "\n",
    "if peaks[0] < troughs[0]:\n",
    "    peaks = peaks[1:]\n",
    "\n",
    "if peaks[-1] > troughs[-1]:\n",
    "    peaks = peaks[:-1]\n",
    "\n",
    "\n",
    "# if found multiple peaks within troughs --> delete those peaks\n",
    "n_peaks_in_troughs = np.histogram(peaks, troughs)[0]\n",
    "\n",
    "if n_peaks_in_troughs.max() > 1:\n",
    "    bad_peaks_indx = np.where(n_peaks_in_troughs > 1)[0]\n",
    "    peaks = np.delete(peaks)"
   ]
  },
  {
   "cell_type": "code",
   "execution_count": 64,
   "metadata": {},
   "outputs": [
    {
     "ename": "TypeError",
     "evalue": "ufunc 'bitwise_and' not supported for the input types, and the inputs could not be safely coerced to any supported types according to the casting rule ''safe''",
     "output_type": "error",
     "traceback": [
      "\u001b[0;31m---------------------------------------------------------------------------\u001b[0m",
      "\u001b[0;31mTypeError\u001b[0m                                 Traceback (most recent call last)",
      "Cell \u001b[0;32mIn[64], line 1\u001b[0m\n\u001b[0;32m----> 1\u001b[0m delta_zsc[peaks] \u001b[39m>\u001b[39m \u001b[39m2\u001b[39m \u001b[39m&\u001b[39m delta_zsc[peaks] \u001b[39m>\u001b[39m \u001b[39m1.5\u001b[39m\n",
      "\u001b[0;31mTypeError\u001b[0m: ufunc 'bitwise_and' not supported for the input types, and the inputs could not be safely coerced to any supported types according to the casting rule ''safe''"
     ]
    }
   ],
   "source": [
    "delta_zsc[peaks] > 2 & delta_zsc[peaks] > 1.5"
   ]
  },
  {
   "cell_type": "code",
   "execution_count": null,
   "metadata": {},
   "outputs": [],
   "source": [
    "np.diff(np.digitize(peaks, troughs))"
   ]
  },
  {
   "cell_type": "code",
   "execution_count": null,
   "metadata": {},
   "outputs": [],
   "source": [
    "a = np.arange(10).reshape(5, 2)"
   ]
  },
  {
   "cell_type": "code",
   "execution_count": null,
   "metadata": {},
   "outputs": [],
   "source": [
    "np.insert(a, 1, np.ones(5), axis=1)"
   ]
  },
  {
   "cell_type": "code",
   "execution_count": null,
   "metadata": {},
   "outputs": [],
   "source": [
    "_, axs = plt.subplots(2, 1, sharex=True)\n",
    "\n",
    "axs[0].plot(delta_zsc_diff)\n",
    "# axs[0].plot(delta_zsc[:-1])\n",
    "# axs[0].plot(zero_crossings, np.zeros_like(zero_crossings), \"r.\")\n",
    "axs[1].plot(delta_zsc[:-1])\n",
    "axs[1].plot(peaks, delta_zsc[peaks], \"r.\")\n",
    "axs[1].plot(peaks, delta_zsc[peaks], \"r.\")\n",
    "axs[1].plot(troughs, delta_zsc[troughs], \"g.\")"
   ]
  },
  {
   "cell_type": "code",
   "execution_count": null,
   "metadata": {},
   "outputs": [],
   "source": [
    "len(peaks), len(troughs)"
   ]
  },
  {
   "cell_type": "code",
   "execution_count": null,
   "metadata": {},
   "outputs": [],
   "source": [
    "_, axs = plt.subplots(2, 1, sharex=True)\n",
    "\n",
    "axs[0].plot(np.sign(delta_zsc_diff))\n",
    "axs[1].plot(np.diff(np.sign(delta_zsc_diff)))"
   ]
  }
 ],
 "metadata": {
  "kernelspec": {
   "display_name": "ephys_analysis",
   "language": "python",
   "name": "python3"
  },
  "language_info": {
   "codemirror_mode": {
    "name": "ipython",
    "version": 3
   },
   "file_extension": ".py",
   "mimetype": "text/x-python",
   "name": "python",
   "nbconvert_exporter": "python",
   "pygments_lexer": "ipython3",
   "version": "3.11.3"
  },
  "orig_nbformat": 4
 },
 "nbformat": 4,
 "nbformat_minor": 2
}
