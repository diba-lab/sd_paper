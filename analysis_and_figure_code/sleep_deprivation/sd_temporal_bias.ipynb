{
 "cells": [
  {
   "cell_type": "markdown",
   "metadata": {},
   "source": [
    "### Imports"
   ]
  },
  {
   "cell_type": "code",
   "execution_count": null,
   "metadata": {},
   "outputs": [],
   "source": [
    "import matplotlib.pyplot as plt\n",
    "import pandas as pd\n",
    "from scipy import stats\n",
    "import numpy as np\n",
    "from neuropy.utils.neurons_util import calculate_neurons_ccg,ccg_temporal_bias\n",
    "import pingouin as pg\n",
    "from tqdm import tqdm\n",
    "import subjects"
   ]
  },
  {
   "cell_type": "markdown",
   "metadata": {},
   "source": [
    "### Temporal bias maze vs remaze"
   ]
  },
  {
   "cell_type": "code",
   "execution_count": null,
   "metadata": {},
   "outputs": [],
   "source": [
    "sessions = subjects.remaze_sess()"
   ]
  },
  {
   "cell_type": "code",
   "execution_count": null,
   "metadata": {},
   "outputs": [],
   "source": [
    "bias_df = []\n",
    "for sub, sess in enumerate(tqdm(sessions)):\n",
    "    pre = sess.paradigm[\"pre\"].flatten()\n",
    "    maze = sess.paradigm[\"maze\"].flatten()\n",
    "    remaze = sess.paradigm[\"re-maze\"].flatten()\n",
    "\n",
    "    neurons = sess.neurons_stable.get_neuron_type(\"pyr\")\n",
    "\n",
    "    get_bias = lambda epoch: ccg_temporal_bias(\n",
    "        neurons.time_slice(epoch[0], epoch[1])\n",
    "    )\n",
    "\n",
    "    pre_bias = get_bias(pre)\n",
    "    maze_bias = get_bias(maze)\n",
    "    remaze_bias = get_bias(remaze)\n",
    "\n",
    "    bias_df.append(\n",
    "        pd.DataFrame(\n",
    "            dict(pre=pre_bias, maze=maze_bias, remaze=remaze_bias, grp=sess.tag)\n",
    "        )\n",
    "    )\n",
    "\n",
    "bias_df = pd.concat(bias_df, ignore_index=True)\n",
    "subjects.GroupData().save(bias_df, \"remaze_temporal_bias\")"
   ]
  },
  {
   "cell_type": "code",
   "execution_count": null,
   "metadata": {},
   "outputs": [],
   "source": [
    "import seaborn as sns\n",
    "from neuropy.plotting import Fig\n",
    "\n",
    "fig = Fig(grid=(5,5))\n",
    "\n",
    "for g,grp in enumerate(['NSD','SD']):\n",
    "    df = bias_df[(bias_df['grp']==grp)]\n",
    "    x = df['maze'].values\n",
    "    for e, epoch in enumerate(['pre','remaze']):\n",
    "        ax = fig.subplot(fig.gs[0,e])\n",
    "        y = df[epoch].values\n",
    "\n",
    "        mask = ~np.isnan(x) & ~np.isnan(y)\n",
    "        linfit = stats.linregress(x[mask],y[mask])\n",
    "        print(linfit.rvalue)\n",
    "        ax.scatter(x,y,s=5,alpha=0.6)\n"
   ]
  },
  {
   "cell_type": "markdown",
   "metadata": {},
   "source": [
    "### Temporal bias center of mass maze vs remaze\n",
    "- using CCG temporal bias but uses center of mass instead of difference in number of spikes (Gerrard2008)"
   ]
  },
  {
   "cell_type": "code",
   "execution_count": null,
   "metadata": {},
   "outputs": [],
   "source": [
    "import pandas as pd\n",
    "import numpy as np\n",
    "from tqdm.notebook import tqdm\n",
    "import subjects\n",
    "\n",
    "sessions = subjects.nsd.remaze + subjects.sd.remaze"
   ]
  },
  {
   "cell_type": "code",
   "execution_count": null,
   "metadata": {},
   "outputs": [],
   "source": [
    "from neuropy.analyses import ExplainedVariance\n",
    "import pingouin as pg\n",
    "from neuropy.utils.neurons_util import ccg_temporal_bias\n",
    "\n",
    "\n",
    "bias_df = []\n",
    "for sub, sess in enumerate(tqdm(sessions)):\n",
    "    pre = sess.paradigm[\"pre\"].flatten()\n",
    "    maze = sess.paradigm[\"maze\"].flatten()\n",
    "    remaze = sess.paradigm[\"re-maze\"].flatten()\n",
    "\n",
    "    neurons = sess.neurons.get_neuron_type(\"pyr\")\n",
    "    # wave_similarity = neurons.get_waveform_similarity()\n",
    "    # pairs_bool = wave_similarity < 0.8  # only pairs which are least similar\n",
    "    tb = lambda e: ccg_temporal_bias(neurons.time_slice(*e),com=True,window_size=0.5)\n",
    "\n",
    "    pre_bias = tb(pre)\n",
    "    maze_bias =tb(maze)\n",
    "    remaze_bias =tb(remaze)\n",
    "\n",
    "    bias_df.append(\n",
    "        pd.DataFrame(\n",
    "            dict(pre=pre_bias, maze=maze_bias, remaze=remaze_bias, grp=sess.tag)\n",
    "        )\n",
    "    )\n",
    "\n",
    "bias_df = pd.concat(bias_df, ignore_index=True)\n",
    "# subjects.GroupData().save(bias_df, \"remaze_temporal_bias_com\")\n"
   ]
  },
  {
   "cell_type": "code",
   "execution_count": null,
   "metadata": {},
   "outputs": [],
   "source": [
    "%matplotlib widget\n",
    "import seaborn as sns\n",
    "\n",
    "sns.lmplot(\n",
    "    data=bias_df,\n",
    "    x=\"maze\",\n",
    "    y=\"remaze\",\n",
    "    hue=\"grp\",\n",
    "    palette=[\"#9C27B0\", \"#F06292\"],\n",
    "    # x_partial=\"pre\",\n",
    "    # y_partial=\"pre\",\n",
    "    scatter_kws={'s':8},\n",
    "    # col='grp',\n",
    ")\n"
   ]
  },
  {
   "cell_type": "markdown",
   "metadata": {},
   "source": [
    "### COM evolution as a function of time in POST (SD vs NSD)"
   ]
  },
  {
   "cell_type": "code",
   "execution_count": null,
   "metadata": {},
   "outputs": [],
   "source": [
    "import pandas as pd\n",
    "import numpy as np\n",
    "from tqdm.notebook import tqdm\n",
    "import subjects\n",
    "\n",
    "sessions = subjects.nsd.pf_sess + subjects.sd.pf_sess"
   ]
  },
  {
   "cell_type": "code",
   "execution_count": null,
   "metadata": {},
   "outputs": [],
   "source": [
    "from neuropy.analyses import ExplainedVariance\n",
    "import pingouin as pg\n",
    "from neuropy.utils.neurons_util import ccg_temporal_bias\n",
    "\n",
    "\n",
    "zts = np.array([0, 2, 4, 6, 8])\n",
    "bias_df = []\n",
    "for sub, sess in enumerate(tqdm(sessions)):\n",
    "    post = sess.paradigm[\"post\"].flatten()\n",
    "\n",
    "    neurons = sess.neurons.get_neuron_type(\"pyr\")\n",
    "    # wave_similarity = neurons.get_waveform_similarity()\n",
    "    # pairs_bool = wave_similarity < 0.8  # only pairs which are least similar\n",
    "    tb = lambda e: ccg_temporal_bias(neurons.time_slice(*e), com=True, window_size=1.0)\n",
    "\n",
    "    t_starts = zts * 3600 + post[0]\n",
    "\n",
    "    bias = []\n",
    "    for i, t in enumerate(t_starts):\n",
    "        bias.append(tb([t, t + 3600]))\n",
    "    bias = np.asarray(bias).T\n",
    "    \n",
    "    df = pd.DataFrame(bias, columns=zts)\n",
    "    df[\"grp\"] = sess.tag\n",
    "    df[\"name\"] = sess.animal.name\n",
    "\n",
    "    bias_df.append(df)\n",
    "\n",
    "bias_df = pd.concat(bias_df, ignore_index=True)\n",
    "bias_df = pd.melt(\n",
    "    bias_df,\n",
    "    id_vars=[\"grp\", \"name\"],\n",
    "    value_vars=zts,\n",
    "    var_name=\"zt\",\n",
    "    value_name=\"bias\",\n",
    "    ignore_index=True,\n",
    ")\n",
    "# subjects.GroupData().save(bias_df, \"remaze_temporal_bias_com\")\n"
   ]
  },
  {
   "cell_type": "code",
   "execution_count": null,
   "metadata": {},
   "outputs": [],
   "source": [
    "%matplotlib widget\n",
    "import seaborn as sns\n",
    "\n",
    "sns.boxplot(\n",
    "    data=bias_df,\n",
    "    x=\"zt\",\n",
    "    y=\"bias\",\n",
    "    hue=\"grp\",\n",
    "    palette=[\"#9C27B0\", \"#F06292\"],\n",
    "    # split=True,\n",
    "    showfliers=False,\n",
    ")\n"
   ]
  },
  {
   "cell_type": "markdown",
   "metadata": {},
   "source": [
    "### COM correlation between time windows as a function of time in POST (SD vs NSD)\n",
    "- To visualize relative timing of firing between cell-paris using CCG and how that changes between SD and NSD and observe how the relative firing changes across time.\n",
    "- The results showed similar stuff to sliding template, time-window correlation i.e, sleep deprivation period is very self similar and very different from maze"
   ]
  },
  {
   "cell_type": "code",
   "execution_count": null,
   "metadata": {},
   "outputs": [],
   "source": [
    "import pandas as pd\n",
    "import numpy as np\n",
    "from tqdm.notebook import tqdm\n",
    "import subjects\n",
    "\n",
    "sessions = subjects.nsd.pf_sess + subjects.sd.pf_sess"
   ]
  },
  {
   "cell_type": "code",
   "execution_count": null,
   "metadata": {},
   "outputs": [],
   "source": [
    "from neuropy.analyses import ExplainedVariance\n",
    "import pingouin as pg\n",
    "from neuropy.utils.neurons_util import ccg_temporal_bias\n",
    "\n",
    "\n",
    "zts = np.arange(9)\n",
    "corr_nsd,corr_sd = [],[]\n",
    "for sub, sess in enumerate(tqdm(sessions)):\n",
    "    pre=sess.paradigm['pre'].flatten()\n",
    "    maze = sess.paradigm[\"maze\"].flatten()\n",
    "    post = sess.paradigm[\"post\"].flatten()\n",
    "    neurons = sess.neurons.get_neuron_type(\"pyr\")\n",
    "\n",
    "    tb = lambda e: ccg_temporal_bias(neurons.time_slice(*e), com=True, window_size=2.0)\n",
    "\n",
    "    zt_starts = zts * 3600 + post[0]\n",
    "    zt_epochs = np.vstack((zt_starts,zt_starts+3600)).T\n",
    "    epochs = np.insert(zt_epochs,0,maze,axis=0)\n",
    "\n",
    "    bias = []\n",
    "    for e in epochs:\n",
    "        bias.append(tb(e))\n",
    "    bias = np.asarray(bias)\n",
    "    corr = np.ma.corrcoef(np.ma.masked_invalid(bias))\n",
    "    corr = np.ma.getdata(corr)\n",
    "    np.fill_diagonal(corr,0)\n",
    "\n",
    "    if sess.tag =='nsd':\n",
    "        corr_nsd.append(corr)\n",
    "    if sess.tag =='sd':\n",
    "        corr_sd.append(corr)\n",
    "\n"
   ]
  },
  {
   "cell_type": "code",
   "execution_count": null,
   "metadata": {},
   "outputs": [],
   "source": [
    "%matplotlib widget\n",
    "import seaborn as sns\n",
    "from neuropy.plotting import Fig\n",
    "\n",
    "fig = Fig(grid=(1, 2))\n",
    "\n",
    "epoch_names = [\"maze\"]\n",
    "epoch_names.extend([f\"Zt{_}-{_+1}\" for _ in zts])\n",
    "\n",
    "for i, corrs in enumerate([corr_nsd, corr_sd]):\n",
    "    ax = fig.subplot(fig.gs[i])\n",
    "    ax.imshow(\n",
    "        np.nanmean(np.dstack(corrs), axis=-1),\n",
    "        cmap=\"bwr\",\n",
    "        vmin=-0.1,\n",
    "        vmax=0.1,\n",
    "        origin=\"lower\",\n",
    "    )\n",
    "    ax.set_xlabel(\"Epochs\")\n",
    "    ax.set_ylabel(\"Epochs\")\n",
    "    ax.set_xticks(np.arange(8), epoch_names)\n",
    "    ax.set_yticks(np.arange(8), epoch_names)\n"
   ]
  },
  {
   "cell_type": "markdown",
   "metadata": {},
   "source": [
    "### COM (with remaze) correlation between time windows as a function of time in POST (SD vs NSD)\n",
    "- To visualize relative timing of firing between cell-paris using CCG and how that changes between SD and NSD and observe how the relative firing changes across time.\n",
    "- The results showed similar stuff to sliding template, time-window correlation i.e, sleep deprivation period is very self similar and very different from maze"
   ]
  },
  {
   "cell_type": "code",
   "execution_count": null,
   "metadata": {},
   "outputs": [],
   "source": [
    "import pandas as pd\n",
    "import numpy as np\n",
    "from tqdm.notebook import tqdm\n",
    "import subjects\n",
    "\n",
    "sessions = subjects.nsd.remaze + subjects.sd.remaze"
   ]
  },
  {
   "cell_type": "code",
   "execution_count": null,
   "metadata": {},
   "outputs": [],
   "source": [
    "from neuropy.analyses import ExplainedVariance\n",
    "import pingouin as pg\n",
    "from neuropy.utils.neurons_util import ccg_temporal_bias\n",
    "\n",
    "\n",
    "zts = np.arange(8)\n",
    "corr_nsd, corr_sd = [], []\n",
    "for sub, sess in enumerate(tqdm(sessions)):\n",
    "    pre = sess.paradigm[\"pre\"].flatten()\n",
    "    maze = sess.paradigm[\"maze\"].flatten()\n",
    "    post = sess.paradigm[\"post\"].flatten()\n",
    "    remaze = sess.paradigm[\"re-maze\"].flatten()\n",
    "    neurons = sess.neurons.get_neuron_type(\"pyr\")\n",
    "\n",
    "    tb = lambda e: ccg_temporal_bias(neurons.time_slice(*e), com=True, window_size=0.5)\n",
    "\n",
    "    zt_starts = zts * 3600 + post[0]\n",
    "    zt_epochs = np.vstack((zt_starts, zt_starts + 3600)).T\n",
    "\n",
    "    epochs = np.vstack([pre, maze, zt_epochs, remaze])\n",
    "\n",
    "    bias = []\n",
    "    for e in epochs:\n",
    "        bias.append(tb(e))\n",
    "    bias = np.asarray(bias)\n",
    "    corr = np.ma.corrcoef(np.ma.masked_invalid(bias))\n",
    "    corr = np.ma.getdata(corr)\n",
    "    np.fill_diagonal(corr, np.nan)\n",
    "\n",
    "    if sess.tag == \"NSD\":\n",
    "        corr_nsd.append(corr)\n",
    "    if sess.tag == \"SD\":\n",
    "        corr_sd.append(corr)\n",
    "\n",
    "\n",
    "epoch_names = [\"pre\", \"maze\"]\n",
    "epoch_names.extend([f\"Zt{_}-{_+1}\" for _ in zts])\n",
    "epoch_names.extend([\"remaze\"])\n",
    "\n",
    "corr = dict(\n",
    "    NSD=np.dstack(corr_nsd).mean(axis=-1),\n",
    "    SD=np.dstack(corr_sd).mean(axis=-1),\n",
    "    epoch_names=epoch_names,\n",
    ")\n",
    "subjects.GroupData().save(corr, \"remaze_temporal_bias_com_correlation_across_session\")\n"
   ]
  },
  {
   "cell_type": "code",
   "execution_count": null,
   "metadata": {},
   "outputs": [],
   "source": [
    "%matplotlib widget\n",
    "import seaborn as sns\n",
    "from neuropy.plotting import Fig\n",
    "\n",
    "fig = Fig(grid=(1, 2))\n",
    "\n",
    "for i, corrs in enumerate([corr_nsd, corr_sd]):\n",
    "    ax = fig.subplot(fig.gs[i])\n",
    "    ax.imshow(\n",
    "        np.nanmean(np.dstack(corrs), axis=-1),\n",
    "        cmap=\"jet\",\n",
    "        vmin=-0.1,\n",
    "        vmax=0.1,\n",
    "        origin=\"lower\",\n",
    "    )\n",
    "    ax.set_xlabel(\"Epochs\")\n",
    "    ax.set_ylabel(\"Epochs\")\n",
    "    ax.set_xticks(np.arange(11), epoch_names)\n",
    "    ax.set_yticks(np.arange(11), epoch_names)\n"
   ]
  }
 ],
 "metadata": {
  "interpreter": {
   "hash": "cce1618081139d19eb1ee8d40815d94a2de4f62e1efb20d9406ddb60628c36ae"
  },
  "kernelspec": {
   "display_name": "Python 3.9.10 ('data_analysis')",
   "language": "python",
   "name": "python3"
  },
  "language_info": {
   "codemirror_mode": {
    "name": "ipython",
    "version": 3
   },
   "file_extension": ".py",
   "mimetype": "text/x-python",
   "name": "python",
   "nbconvert_exporter": "python",
   "pygments_lexer": "ipython3",
   "version": "3.10.2"
  },
  "orig_nbformat": 4
 },
 "nbformat": 4,
 "nbformat_minor": 2
}
