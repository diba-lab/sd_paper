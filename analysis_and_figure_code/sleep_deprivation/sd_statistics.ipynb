{
 "cells": [
  {
   "cell_type": "markdown",
   "metadata": {},
   "source": [
    "### Imports"
   ]
  },
  {
   "cell_type": "code",
   "execution_count": null,
   "metadata": {},
   "outputs": [],
   "source": [
    "import numpy as np\n",
    "from scipy import stats\n",
    "import matplotlib.pyplot as plt\n",
    "import subjects\n",
    "from subjects import sns_boxplot_kw, stat_kw\n",
    "from statannotations.Annotator import Annotator\n",
    "import seaborn as sns\n",
    "import pandas as pd\n",
    "\n",
    "grpdata = subjects.GroupData()\n",
    "group = [\"NSD\", \"SD\"]\n",
    "ev_pooled = grpdata.ev_in_chunks"
   ]
  },
  {
   "cell_type": "markdown",
   "metadata": {},
   "source": [
    "### bootstrap testing "
   ]
  },
  {
   "cell_type": "code",
   "execution_count": null,
   "metadata": {},
   "outputs": [],
   "source": [
    "rng = np.random.default_rng()\n",
    "subsample_mean = lambda arr: np.mean(rng.choice(arr, size=len(arr), replace=True))\n",
    "\n",
    "mean_dist_df = []\n",
    "for g, grp in enumerate([\"NSD\", \"SD\"]):\n",
    "    for t in ev_pooled.zt.unique():\n",
    "        data = ev_pooled[(ev_pooled.grp == grp) & (ev_pooled.zt == t)].ev_diff.values\n",
    "        bootstrap_mean = np.array([subsample_mean(data) for _ in range(10000)])\n",
    "        mean_dist_df.append(pd.DataFrame(dict(zt=t, ev_diff=bootstrap_mean, grp=grp)))\n",
    "\n",
    "mean_dist_df = pd.concat(mean_dist_df, ignore_index=True)"
   ]
  },
  {
   "cell_type": "markdown",
   "metadata": {},
   "source": [
    "### Plotting original vs bootstrap"
   ]
  },
  {
   "cell_type": "code",
   "execution_count": null,
   "metadata": {},
   "outputs": [],
   "source": [
    "_,ax = plt.subplots()\n",
    "plot_kw = dict(\n",
    "    data=ev_pooled, x=\"zt\", y=\"ev_diff\", hue=\"grp\", hue_order=group, width=0.5, ax=ax\n",
    ")\n",
    "sns.violinplot(**plot_kw)\n",
    "# sns.stripplot(**plot_kw, dodge=True)\n",
    "ax.tick_params(\"x\", rotation=30)\n",
    "ax.set_ylabel(\"Explained variance diff\")\n",
    "ax.set_xlabel(\"\")\n",
    "ax.legend(\"\", frameon=False)\n",
    "# stats\n",
    "orders = ev_pooled.zt.unique()\n",
    "pairs = [((_, \"NSD\"), (_, \"SD\")) for _ in orders]\n",
    "annotator = Annotator(pairs=pairs, **plot_kw, order=orders)\n",
    "annotator.configure(test=\"Mann-Whitney-gt\", **stat_kw)\n",
    "\n",
    "annotator.apply_and_annotate()\n",
    "annotator.reset_configuration()"
   ]
  }
 ],
 "metadata": {
  "interpreter": {
   "hash": "cce1618081139d19eb1ee8d40815d94a2de4f62e1efb20d9406ddb60628c36ae"
  },
  "kernelspec": {
   "display_name": "Python 3.10.4 ('data_analysis')",
   "language": "python",
   "name": "python3"
  },
  "language_info": {
   "codemirror_mode": {
    "name": "ipython",
    "version": 3
   },
   "file_extension": ".py",
   "mimetype": "text/x-python",
   "name": "python",
   "nbconvert_exporter": "python",
   "pygments_lexer": "ipython3",
   "version": "3.10.9"
  },
  "orig_nbformat": 4
 },
 "nbformat": 4,
 "nbformat_minor": 2
}
