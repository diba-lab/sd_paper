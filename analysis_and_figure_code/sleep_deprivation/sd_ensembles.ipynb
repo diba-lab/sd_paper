{
 "cells": [
  {
   "cell_type": "markdown",
   "metadata": {},
   "source": [
    "### Imports"
   ]
  },
  {
   "cell_type": "code",
   "execution_count": null,
   "metadata": {},
   "outputs": [],
   "source": [
    "import matplotlib.pyplot as plt\n",
    "import numpy as np\n",
    "import pandas as pd\n",
    "import seaborn as sns\n",
    "from tqdm.notebook import tqdm\n",
    "from neuropy.analyses import NeuronEnsembles\n",
    "import subjects"
   ]
  },
  {
   "cell_type": "markdown",
   "metadata": {},
   "source": [
    "### Plotting activation of ensembles in an example session"
   ]
  },
  {
   "cell_type": "code",
   "execution_count": null,
   "metadata": {},
   "outputs": [],
   "source": [
    "sess = subjects.sd.ratUday4[0]"
   ]
  },
  {
   "cell_type": "code",
   "execution_count": null,
   "metadata": {},
   "outputs": [],
   "source": [
    "neurons = sess.neurons.get_neuron_type('pyr')\n",
    "pre = sess.paradigm['pre']\n",
    "maze = sess.paradigm['maze']\n",
    "re_maze= sess.paradigm['re-maze']\n",
    "post = sess.paradigm['post']\n",
    "\n",
    "maze_ensembles =  NeuronEnsembles(neurons,maze[0],maze[1],bin_size=0.25)\n",
    "maze_ensembles.calculate_activation(pre[0],pre[1])\n",
    "mean_pre_activation = np.mean(maze_ensembles.activation,axis=1,keepdims=True)\n",
    "maze_ensembles.calculate_activation(post[0],re_maze[1])"
   ]
  },
  {
   "cell_type": "code",
   "execution_count": null,
   "metadata": {},
   "outputs": [],
   "source": [
    "%matplotlib widget\n",
    "\n",
    "maze_ensembles.plot_activation()\n",
    "# plt.plot(np.mean(maze_ensembles.activation-mean_pre_activation,axis=0))"
   ]
  },
  {
   "cell_type": "code",
   "execution_count": null,
   "metadata": {},
   "outputs": [],
   "source": [
    "%matplotlib widget\n",
    "from scipy import stats\n",
    "a = maze_ensembles.weights \n",
    "a_zsc = stats.zscore(a,axis=0) \n",
    "a_sig_logical = np.where(a_zsc>1.5,1,0)\n",
    "b = np.sort(a_sig_logical,axis=0)\n",
    "# maze_ensembles.plot_ensembles()\n",
    "c = np.lexsort(a_sig_logical.T)\n",
    "a_new = a[c,:]\n",
    "plt.pcolormesh(a_new)"
   ]
  },
  {
   "cell_type": "markdown",
   "metadata": {},
   "source": [
    "### Average activation during SD vs NSD"
   ]
  },
  {
   "cell_type": "code",
   "execution_count": null,
   "metadata": {},
   "outputs": [],
   "source": [
    "sessions = subjects.pf_sess()"
   ]
  },
  {
   "cell_type": "code",
   "execution_count": null,
   "metadata": {},
   "outputs": [],
   "source": [
    "maze_react = []\n",
    "for s, sess in enumerate(sessions):\n",
    "    neurons = sess.neurons.get_neuron_type(\"pyr\")\n",
    "    pre = sess.paradigm[\"pre\"].flatten()\n",
    "    maze = sess.paradigm[\"maze\"].flatten()\n",
    "    post = sess.paradigm[\"post\"].flatten()\n",
    "    neurons = sess.neurons_stable.get_neuron_type(\"pyr\")\n",
    "\n",
    "    zts = np.array([0, 2.5, 5])\n",
    "    zt_starts = zts * 3600 + post[0]\n",
    "    zt_stops = zt_starts + 2.5 * 3600\n",
    "    zt_epochs = np.vstack((zt_starts, zt_stops)).T\n",
    "\n",
    "    maze_ensembles = NeuronEnsembles(neurons, maze[0], maze[1])\n",
    "    n_ensembles = maze_ensembles.n_ensembles\n",
    "    pre_act = maze_ensembles.get_activation(*pre)[0].mean(axis=1)[:,np.newaxis]\n",
    "\n",
    "    zt_acts = np.zeros(3)\n",
    "    for i, e in enumerate(zt_epochs):\n",
    "        act = maze_ensembles.get_activation(*e)[0]-pre_act\n",
    "        # act = np.where(act>0,act,0)\n",
    "        zt_acts[i] = act.mean()\n",
    "\n",
    "    # zt_react = zt_acts - pre_act[:, np.newaxis]\n",
    "    df = pd.DataFrame(\n",
    "        dict(\n",
    "            zt=[\"0.0-2.5\", \"2.5-5.0\", \"5.0-7.5\"],\n",
    "            react=zt_acts,\n",
    "            s=s,\n",
    "            grp=sess.tag,\n",
    "        )\n",
    "    )\n",
    "    maze_react.append(df)\n",
    "\n",
    "maze_react = pd.concat(maze_react,ignore_index=True)"
   ]
  },
  {
   "cell_type": "code",
   "execution_count": null,
   "metadata": {},
   "outputs": [],
   "source": [
    "act = maze_ensembles.get_activation(*zt_epochs[0])[0]"
   ]
  },
  {
   "cell_type": "code",
   "execution_count": null,
   "metadata": {},
   "outputs": [],
   "source": [
    "_,ax = plt.subplots()\n",
    "\n",
    "ax.plot(act[3])"
   ]
  },
  {
   "cell_type": "code",
   "execution_count": null,
   "metadata": {},
   "outputs": [],
   "source": [
    "_,ax= plt.subplots()\n",
    "\n",
    "sns.barplot(data=maze_react,x='zt',y='react',hue='grp')"
   ]
  },
  {
   "cell_type": "markdown",
   "metadata": {},
   "source": [
    "### Distribution of activation strength comparision between SD vs NSD"
   ]
  },
  {
   "cell_type": "code",
   "execution_count": null,
   "metadata": {},
   "outputs": [],
   "source": [
    "sessions = subjects.pf_sess()\n",
    "maze_react = []\n",
    "for s, sess in enumerate(sessions):\n",
    "    neurons = sess.neurons.get_neuron_type(\"pyr\")\n",
    "    pre = sess.paradigm[\"pre\"].flatten()\n",
    "    maze = sess.paradigm[\"maze\"].flatten()\n",
    "    post = sess.paradigm[\"post\"].flatten()\n",
    "    neurons = sess.neurons_stable.get_neuron_type(\"pyr\")\n",
    "\n",
    "    epochs = sess.get_zt_epochs(include_maze=False)\n",
    "\n",
    "    maze_ensembles = NeuronEnsembles(neurons, maze[0], maze[1])\n",
    "    n_ensembles = maze_ensembles.n_ensembles\n",
    "    pre_act = maze_ensembles.get_activation(*pre)[0].mean(axis=1)[:, np.newaxis]\n",
    "\n",
    "    for e in epochs.itertuples():\n",
    "        act = maze_ensembles.get_activation(e.start,e.stop)[0] - pre_act\n",
    "\n",
    "        df = pd.DataFrame(\n",
    "            dict(\n",
    "                zt=e.label,\n",
    "                react=act.mean(axis=0),\n",
    "                session=s,\n",
    "                grp=sess.tag,\n",
    "            )\n",
    "        )\n",
    "\n",
    "        maze_react.append(df)\n",
    "\n",
    "maze_react = pd.concat(maze_react, ignore_index=True)\n"
   ]
  },
  {
   "cell_type": "code",
   "execution_count": null,
   "metadata": {},
   "outputs": [],
   "source": [
    "_,ax = plt.subplots()\n",
    "\n",
    "sns.violinplot(data=maze_react,x='zt',y='react',hue='grp',split=True)"
   ]
  },
  {
   "cell_type": "markdown",
   "metadata": {},
   "source": [
    "### Comparing MAZE ensembles and last 2 hours of SD\n",
    "- Found no difference between SD and NSD. Probably it makes sense because ICA ensembles will across different periods involves the same set of neurons and because it forces each ensemble to be independent of each other, naturally the correlations will have similar distributions. Nothing interesting here. "
   ]
  },
  {
   "cell_type": "code",
   "execution_count": null,
   "metadata": {},
   "outputs": [],
   "source": [
    "import matplotlib.pyplot as plt\n",
    "import numpy as np\n",
    "from neuropy.analyses import NeuronEnsembles\n",
    "import subjects\n",
    "\n",
    "sd_sessions = subjects.sd.ratNday1+subjects.sd.ratSday3 + subjects.sd.ratUday4\n",
    "nsd_sessions = subjects.nsd.ratNday2+subjects.nsd.ratSday2 + subjects.nsd.ratUday2"
   ]
  },
  {
   "cell_type": "code",
   "execution_count": null,
   "metadata": {},
   "outputs": [],
   "source": [
    "sd_ensembles_corr = []\n",
    "for sess in sd_sessions:\n",
    "    neurons = sess.neurons.get_neuron_type('pyr')\n",
    "    pre = sess.paradigm['pre']\n",
    "    maze = sess.paradigm['maze']\n",
    "    re_maze= sess.paradigm['re-maze']\n",
    "    post = sess.paradigm['post']\n",
    "    # sd= sess.paradigm['sd']\n",
    "    sd = [post[0],post[0]+5*3600]\n",
    "\n",
    "\n",
    "    maze_ensembles =  NeuronEnsembles(neurons,maze[0],maze[1],bin_size=0.25)\n",
    "    sd_ensembles =  NeuronEnsembles(neurons,sd[0]+3*3600,sd[1],bin_size=0.25)\n",
    "\n",
    "    maze_weights =np.zeros((neurons.n_neurons,maze_ensembles.n_ensembles)) \n",
    "    sd_weights =np.zeros((neurons.n_neurons,sd_ensembles.n_ensembles)) \n",
    "\n",
    "    maze_indx= np.isin(neurons.neuron_ids,maze_ensembles.neurons.neuron_ids)\n",
    "    sd_indx= np.isin(neurons.neuron_ids,sd_ensembles.neurons.neuron_ids)\n",
    "\n",
    "    maze_weights[maze_indx] = maze_ensembles.weights\n",
    "    sd_weights[sd_indx] = sd_ensembles.weights\n",
    "\n",
    "    combined_weights = np.hstack((maze_weights,sd_weights))\n",
    "    l = combined_weights.shape[1]//2\n",
    "    # corr = np.corrcoef(combined_weights.T)[l:,:l]\n",
    "    corr = np.corrcoef(combined_weights.T)[maze_ensembles.n_ensembles:,:maze_ensembles.n_ensembles]\n",
    "\n",
    "\n",
    "    sd_ensembles_corr.append(corr.reshape(-1))\n",
    "\n",
    "nsd_ensembles_corr = []\n",
    "for sess in nsd_sessions:\n",
    "    neurons = sess.neurons.get_neuron_type('pyr')\n",
    "    pre = sess.paradigm['pre']\n",
    "    maze = sess.paradigm['maze']\n",
    "    re_maze= sess.paradigm['re-maze']\n",
    "    post = sess.paradigm['post']\n",
    "    # sd= sess.paradigm['sd']\n",
    "    sd = [post[0],post[0]+5*3600]\n",
    "\n",
    "\n",
    "    maze_ensembles =  NeuronEnsembles(neurons,maze[0],maze[1],bin_size=0.25)\n",
    "    sd_ensembles =  NeuronEnsembles(neurons,sd[0]+3*3600,sd[1],bin_size=0.25)\n",
    "\n",
    "    maze_weights =np.zeros((neurons.n_neurons,maze_ensembles.n_ensembles)) \n",
    "    sd_weights =np.zeros((neurons.n_neurons,sd_ensembles.n_ensembles)) \n",
    "\n",
    "    maze_indx= np.isin(neurons.neuron_ids,maze_ensembles.neurons.neuron_ids)\n",
    "    sd_indx= np.isin(neurons.neuron_ids,sd_ensembles.neurons.neuron_ids)\n",
    "\n",
    "    maze_weights[maze_indx] = maze_ensembles.weights\n",
    "    sd_weights[sd_indx] = sd_ensembles.weights\n",
    "\n",
    "    combined_weights = np.hstack((maze_weights,sd_weights))\n",
    "    l = combined_weights.shape[1]//2\n",
    "    corr = np.corrcoef(combined_weights.T)[maze_ensembles.n_ensembles:,:maze_ensembles.n_ensembles]\n",
    "    \n",
    "    nsd_ensembles_corr.append(corr.reshape(-1))\n",
    "\n",
    "sd_ensembles_corr = np.concatenate(sd_ensembles_corr)\n",
    "nsd_ensembles_corr = np.concatenate(nsd_ensembles_corr)\n"
   ]
  },
  {
   "cell_type": "code",
   "execution_count": null,
   "metadata": {},
   "outputs": [],
   "source": [
    "%matplotlib inline\n",
    "from neuropy.plotting import Fig\n",
    "from neuropy.utils import mathutil\n",
    "\n",
    "_,axes = plt.subplots(1,1)\n",
    "# axes = axes.reshape(-1)\n",
    "# for i,corr in enumerate():\n",
    "#     np.fill_diagonal(corr,0)\n",
    "#     axes[i].pcolormesh(corr,vmax=0.3,vmin=-0.3,cmap='jet')\n",
    "colors = ['r','k']\n",
    "bins = np.arange(-0.3,0.3,0.001)\n",
    "for i,corr_vals in enumerate([sd_ensembles_corr,nsd_ensembles_corr]):\n",
    "\n",
    "    cdf = mathutil.cdf(corr_vals,bins)\n",
    "    axes.plot(bins[:-1],cdf,color = colors[i])\n",
    "    Fig.remove_spines(axes)\n",
    "    Fig.set_spines_width(axes) \n",
    "\n",
    "axes.set_xlabel('Correlation')\n",
    "axes.set_ylabel('CDF')\n",
    "axes.legend(['SD','NSD'])\n",
    "axes.set_title('Correlation of ensembles: MAZE vs ZT(3 to 5)')"
   ]
  },
  {
   "cell_type": "markdown",
   "metadata": {},
   "source": [
    "### Neurons participating in MAZE-enembles, how does their firing rate change during SD"
   ]
  },
  {
   "cell_type": "code",
   "execution_count": null,
   "metadata": {},
   "outputs": [],
   "source": [
    "import matplotlib.pyplot as plt\n",
    "import numpy as np\n",
    "from neuropy import plotting\n",
    "import pandas as pd\n",
    "from scipy import stats\n",
    "from neuropy.analyses import NeuronEnsembles\n",
    "import subjects\n",
    "\n",
    "sessions = (\n",
    "    subjects.sd.ratNday1\n",
    "    + subjects.sd.ratSday3\n",
    "    + subjects.sd.ratUday4\n",
    "\n",
    "    + subjects.nsd.ratNday2\n",
    "    + subjects.nsd.ratSday2\n",
    "    + subjects.nsd.ratUday2\n",
    ")"
   ]
  },
  {
   "cell_type": "code",
   "execution_count": null,
   "metadata": {},
   "outputs": [],
   "source": [
    "for sub,sess in enumerate(sessions):\n",
    "    maze = sess.paradigm['maze'].flatten()\n",
    "    post = sess.paradigm['post'].flatten()\n",
    "    neurons = sess.neurons.get_neuron_type('pyr')\n",
    "    ensembles = NeuronEnsembles(neurons,maze[0],maze[1],bin_size=0.25,frate_thresh=0)\n",
    "    zsc_weights = stats.zscore(ensembles.weights,axis=0)\n",
    "    zsc_thresh= np.where(zsc_weights>2)\n",
    "    "
   ]
  },
  {
   "cell_type": "markdown",
   "metadata": {},
   "source": [
    "### Maze ensembles activity on remaze"
   ]
  },
  {
   "cell_type": "code",
   "execution_count": null,
   "metadata": {},
   "outputs": [],
   "source": [
    "import pandas as pd\n",
    "import numpy as np\n",
    "from tqdm.notebook import tqdm\n",
    "import subjects\n",
    "\n",
    "sessions = subjects.nsd.remaze + subjects.sd.remaze"
   ]
  },
  {
   "cell_type": "code",
   "execution_count": null,
   "metadata": {},
   "outputs": [],
   "source": [
    "from neuropy.analyses import NeuronEnsembles\n",
    "import pingouin as pg\n",
    "from neuropy.utils.neurons_util import calculate_neurons_ccg\n",
    "\n",
    "reactivation_df = []\n",
    "for sub, sess in enumerate(tqdm(sessions)):\n",
    "    pre = sess.paradigm[\"pre\"].flatten()\n",
    "    maze = sess.paradigm[\"maze\"].flatten()\n",
    "    remaze = sess.paradigm[\"re-maze\"].flatten()\n",
    "\n",
    "    neurons = sess.neurons.get_neuron_type(\"pyr\")\n",
    "    wave_similarity = neurons.get_waveform_similarity()\n",
    "    pairs_bool = wave_similarity < 0.8  # only pairs which are least similar\n",
    "\n",
    "    maze_ensembles = NeuronEnsembles(neurons,t_start=maze[0],t_stop=maze[1])\n",
    "    maze_ensembles.calculate_activation(*remaze)\n",
    "    \n",
    "    remaze_activation = np.mean(maze_ensembles.activation)\n",
    "\n",
    "    reactivation_df.append(\n",
    "        pd.DataFrame(\n",
    "            dict(t='remaze',activation=[remaze_activation], grp=sess.tag)\n",
    "        )\n",
    "    )\n",
    "\n",
    "\n",
    "reactivation_df = pd.concat(reactivation_df, ignore_index=True)\n",
    "subjects.GroupData().save(reactivation_df, \"remaze_activation_of_maze\")"
   ]
  },
  {
   "cell_type": "code",
   "execution_count": null,
   "metadata": {},
   "outputs": [],
   "source": [
    "%matplotlib widget\n",
    "import seaborn as sns\n",
    "\n",
    "sns.barplot(data=reactivation_df,x='t',y='activation',hue='grp')"
   ]
  },
  {
   "cell_type": "markdown",
   "metadata": {},
   "source": [
    "### Ensemble similarity between different epochs for remaze sessions\n",
    "- epochs will be pre, maze, Zt0-5, Zt5-9, remaze"
   ]
  },
  {
   "cell_type": "code",
   "execution_count": null,
   "metadata": {},
   "outputs": [],
   "source": [
    "import pandas as pd\n",
    "import numpy as np\n",
    "from tqdm.notebook import tqdm\n",
    "import subjects\n",
    "\n",
    "sessions = subjects.nsd.remaze + subjects.sd.remaze"
   ]
  },
  {
   "cell_type": "code",
   "execution_count": null,
   "metadata": {},
   "outputs": [],
   "source": [
    "from neuropy.analyses import NeuronEnsembles\n",
    "import pingouin as pg\n",
    "from neuropy.utils.neurons_util import calculate_neurons_ccg\n",
    "\n",
    "ensemble_corr_sd, ensemble_corr_nsd = [], []\n",
    "for sub, sess in enumerate(tqdm(sessions)):\n",
    "    pre = sess.paradigm[\"pre\"].flatten()\n",
    "    maze = sess.paradigm[\"maze\"].flatten()\n",
    "    post = sess.paradigm[\"post\"].flatten()\n",
    "    remaze = sess.paradigm[\"re-maze\"].flatten()\n",
    "    zt0to5 = [post[0], post[0] + 5 * 3600]\n",
    "    zt5to8 = [post[0] + 5 * 3600, post[0] + 8 * 3600]\n",
    "\n",
    "    neurons = sess.neurons.get_neuron_type(\"pyr\")\n",
    "    epochs = [pre, maze, zt0to5, zt5to8, remaze]\n",
    "\n",
    "    def _get_stable_neurons():\n",
    "        frate = []\n",
    "        for e in epochs:\n",
    "            frate.append(neurons.time_slice(*e).firing_rate)\n",
    "\n",
    "        frate = (np.asarray(frate).T > 0).sum(axis=1)\n",
    "        return neurons[frate == 5]\n",
    "\n",
    "    stbl_neurons = _get_stable_neurons()\n",
    "    get_ensembles = lambda e: NeuronEnsembles(\n",
    "        stbl_neurons, t_start=e[0], t_stop=e[1]\n",
    "    ).weights\n",
    "\n",
    "    weights = [get_ensembles(_) for _ in epochs]\n",
    "\n",
    "    ensemble_sim = np.zeros((len(epochs), len(epochs)))\n",
    "    for i1, w1 in enumerate(weights):\n",
    "        for i2, w2 in enumerate(weights):\n",
    "            corr = np.corrcoef(np.hstack((w1, w2)).T)\n",
    "            ensemble_sim[i1, i2] = corr[w1.shape[1] :, : w1.shape[1]].mean()\n",
    "    \n",
    "    np.fill_diagonal(ensemble_sim,np.nan)\n",
    "\n",
    "    if sess.tag == \"SD\":\n",
    "        ensemble_corr_sd.append(ensemble_sim)\n",
    "\n",
    "    if sess.tag == \"NSD\":\n",
    "        ensemble_corr_nsd.append(ensemble_sim)\n",
    "\n",
    "epoch_names = ['pre','maze','Zt0-5','Zt5-8','remaze']\n",
    "ensemble_corr = dict(\n",
    "    NSD=np.dstack(ensemble_corr_nsd).mean(axis=-1),\n",
    "    SD=np.dstack(ensemble_corr_sd).mean(axis=-1),\n",
    "    epoch_names = epoch_names,\n",
    ")\n",
    "subjects.GroupData().save(ensemble_corr, \"remaze_ensemble_corr_across_sess\")\n"
   ]
  },
  {
   "cell_type": "code",
   "execution_count": null,
   "metadata": {},
   "outputs": [],
   "source": [
    "%matplotlib widget\n",
    "import matplotlib.pyplot as plt\n",
    "\n",
    "np.fill_diagonal(ensemble_sim,np.nan)\n",
    "plt.imshow(ensemble_sim,cmap='jet')"
   ]
  },
  {
   "cell_type": "markdown",
   "metadata": {},
   "source": [
    "### Ensemble activation between different epochs for remaze sessions\n",
    "- Ensembles are detected in each of the epochs: pre, maze, Zt0-5, Zt5-9, remaze and their mean activation in remaining epochs"
   ]
  },
  {
   "cell_type": "code",
   "execution_count": null,
   "metadata": {},
   "outputs": [],
   "source": [
    "import pandas as pd\n",
    "import numpy as np\n",
    "from tqdm.notebook import tqdm\n",
    "import subjects\n",
    "\n",
    "sessions = subjects.nsd.remaze + subjects.sd.remaze"
   ]
  },
  {
   "cell_type": "code",
   "execution_count": null,
   "metadata": {},
   "outputs": [],
   "source": [
    "from neuropy.analyses import NeuronEnsembles\n",
    "from scipy import stats\n",
    "\n",
    "ensemble_act_sd, ensemble_act_nsd = [], []\n",
    "for sub, sess in enumerate(tqdm(sessions)):\n",
    "    pre = sess.paradigm[\"pre\"].flatten()\n",
    "    maze = sess.paradigm[\"maze\"].flatten()\n",
    "    post = sess.paradigm[\"post\"].flatten()\n",
    "    remaze = sess.paradigm[\"re-maze\"].flatten()\n",
    "    zt0to5 = [post[0], post[0] + 5 * 3600]\n",
    "    zt5to8 = [post[0] + 5 * 3600, post[0] + 8 * 3600]\n",
    "\n",
    "    neurons = sess.neurons.get_neuron_type(\"pyr\")\n",
    "    epochs = [pre, maze, zt0to5, zt5to8, remaze]\n",
    "    \n",
    "    def _get_stable_neurons():\n",
    "        frate = []\n",
    "        for e in epochs:\n",
    "            frate.append(neurons.time_slice(*e).firing_rate)\n",
    "\n",
    "        frate = (np.asarray(frate).T > 0).sum(axis=1)\n",
    "        return neurons[frate == 5]\n",
    "\n",
    "    stbl_neurons = _get_stable_neurons()\n",
    "    get_ensembles = lambda e: NeuronEnsembles(stbl_neurons, t_start=e[0], t_stop=e[1])\n",
    "\n",
    "    ensembles = [get_ensembles(_) for _ in epochs]\n",
    "\n",
    "    ensemble_act = np.zeros((len(epochs), len(epochs)))\n",
    "    for i1,ensemble in enumerate(ensembles):\n",
    "        for i2,epoch in enumerate(epochs):\n",
    "            ensemble.calculate_activation(t_start=epoch[0],t_stop=epoch[1])\n",
    "            zsc_activation = stats.zscore(ensemble.activation,axis=1) \n",
    "            zsc_thresh = np.where(zsc_activation>0,zsc_activation,0)\n",
    "            ensemble_act[i1,i2] = np.mean(zsc_thresh)\n",
    "\n",
    "    np.fill_diagonal(ensemble_act, np.nan)\n",
    "\n",
    "    if sess.tag == \"SD\":\n",
    "        ensemble_act_sd.append(ensemble_act)\n",
    "\n",
    "    if sess.tag == \"NSD\":\n",
    "        ensemble_act_nsd.append(ensemble_act)\n",
    "\n",
    "epoch_names = [\"pre\", \"maze\", \"Zt0-5\", \"Zt5-8\", \"remaze\"]\n",
    "ensemble_act_all = dict(\n",
    "    NSD=np.dstack(ensemble_act_nsd).mean(axis=-1),\n",
    "    SD=np.dstack(ensemble_act_sd).mean(axis=-1),\n",
    "    epoch_names=epoch_names,\n",
    ")\n",
    "subjects.GroupData().save(ensemble_act_all, \"remaze_ensemble_activation_across_sess\")\n"
   ]
  },
  {
   "cell_type": "code",
   "execution_count": null,
   "metadata": {},
   "outputs": [],
   "source": [
    "%matplotlib widget\n",
    "import matplotlib.pyplot as plt\n",
    "\n",
    "plt.plot(a)"
   ]
  },
  {
   "cell_type": "markdown",
   "metadata": {},
   "source": [
    "### Ensemble transition matrix comparison between MAZE and POST-Sleep"
   ]
  },
  {
   "cell_type": "code",
   "execution_count": null,
   "metadata": {},
   "outputs": [],
   "source": [
    "import pandas as pd\n",
    "import numpy as np\n",
    "from tqdm.notebook import tqdm\n",
    "import subjects\n",
    "\n",
    "sessions = subjects.nsd.pf_sess+ subjects.sd.pf_sess"
   ]
  },
  {
   "cell_type": "code",
   "execution_count": null,
   "metadata": {},
   "outputs": [],
   "source": [
    "from neuropy.analyses import NeuronEnsembles\n",
    "from scipy import stats\n",
    "from hmmlearn.hmm import GaussianHMM\n",
    "\n",
    "transmat_sd_maze,transmat_sd_post,transmat_nsd_maze,transmat_nsd_post = [], [],[],[]\n",
    "for sub, sess in enumerate(tqdm(sessions)):\n",
    "    pre = sess.paradigm[\"pre\"].flatten()\n",
    "    maze = sess.paradigm[\"maze\"].flatten()\n",
    "    post = sess.paradigm[\"post\"].flatten()\n",
    "    remaze = sess.paradigm[\"re-maze\"].flatten()\n",
    "    zt0to5 = [post[0], post[0] + 5 * 3600]\n",
    "    zt5to8 = [post[0] + 5 * 3600, post[0] + 8 * 3600]\n",
    "\n",
    "    neurons = sess.neurons.get_neuron_type(\"pyr\")\n",
    "    epochs = [maze, zt0to5]\n",
    "\n",
    "    # def _get_stable_neurons():\n",
    "    #     frate = []\n",
    "    #     for e in epochs:\n",
    "    #         frate.append(neurons.time_slice(*e).firing_rate)\n",
    "\n",
    "    #     frate = (np.asarray(frate).T > 0).sum(axis=1)\n",
    "    #     return neurons[frate == 5]\n",
    "\n",
    "    # stbl_neurons = _get_stable_neurons()\n",
    "    get_ensembles = lambda e: NeuronEnsembles(neurons, t_start=e[0], t_stop=e[1])\n",
    "\n",
    "    maze_ensembles = get_ensembles(maze)\n",
    "    n_ensembles= maze_ensembles.n_ensembles\n",
    "    maze_activation = maze_ensembles.calculate_activation(\n",
    "        t_start=maze[0], t_stop=maze[1]\n",
    "    )[0]\n",
    "    zt0to5_activation = maze_ensembles.calculate_activation(\n",
    "        t_start=zt0to5[0], t_stop=zt0to5[1]\n",
    "    )[0]\n",
    "\n",
    "    en_mat = np.arange(1,n_ensembles+1)[:,np.newaxis]\n",
    "    maze_zsc_activation = stats.zscore(maze_activation,axis=1)\n",
    "    maze_activation_thresh = np.where(maze_zsc_activation>0,1,0)\n",
    "    maze_activation_thresh = maze_activation_thresh*en_mat\n",
    "\n",
    "    zt0to5_zsc_activation = stats.zscore(zt0to5_activation,axis=1)\n",
    "    zt0to5_activation_thresh = np.where(zt0to5_zsc_activation>0,1,0)\n",
    "    zt0to5_activation_thresh =zt0to5_activation_thresh *en_mat \n",
    "\n",
    "    maze_model = GaussianHMM(n_components=n_ensembles,n_iter=100)\n",
    "    maze_fit = maze_model.fit(maze_activation_thresh.T)\n",
    "    sort_ind1 = np.argsort(np.sum(maze_model.means_,axis=1))\n",
    "    maze_transmat = maze_model.transmat_[sort_ind1,:][:,sort_ind1]\n",
    "\n",
    "    zt0to5_model = GaussianHMM(n_components=n_ensembles,n_iter=100)\n",
    "    zt0to5_fit = zt0to5_model.fit(zt0to5_activation_thresh.T)\n",
    "    sort_ind2 = np.argsort(np.sum(zt0to5_model.means_,axis=1))\n",
    "    zt0to5_transmat = zt0to5_model.transmat_[sort_ind2,:][:,sort_ind2]\n",
    "\n",
    "    if sess.tag =='NSD':\n",
    "        transmat_nsd_maze.append(maze_transmat) \n",
    "        transmat_nsd_post.append(zt0to5_transmat) \n",
    "\n",
    "    if sess.tag =='SD':\n",
    "        transmat_sd_maze.append(maze_transmat) \n",
    "        transmat_sd_post.append(zt0to5_transmat) "
   ]
  },
  {
   "cell_type": "code",
   "execution_count": null,
   "metadata": {},
   "outputs": [],
   "source": [
    "%matplotlib widget\n",
    "import matplotlib.pyplot as plt\n",
    "\n",
    "_,axs = plt.subplots(5,2)\n",
    "\n",
    "for i,(m,p) in enumerate(zip(transmat_nsd_maze,transmat_nsd_post)):\n",
    "    axs[i,0].pcolormesh(m,cmap='binary')\n",
    "    axs[i,1].pcolormesh(p,cmap='binary')"
   ]
  },
  {
   "cell_type": "markdown",
   "metadata": {},
   "source": [
    "### Ensemble CCG order compare between MAZE and POST-Sleep\n",
    "- To assess if the ensembles themselves happen in a specific order and that order is preserved in the subsequent offline period.\n",
    "- **Results**: did not find evidence of a strong temporal order at finer timescales (~10 ms), however there may be something at larger timescales(~250 ms binsize)."
   ]
  },
  {
   "cell_type": "code",
   "execution_count": null,
   "metadata": {},
   "outputs": [],
   "source": [
    "import pandas as pd\n",
    "import numpy as np\n",
    "from tqdm.notebook import tqdm\n",
    "import subjects\n",
    "\n",
    "sessions = subjects.nsd.pf_sess+ subjects.sd.pf_sess"
   ]
  },
  {
   "cell_type": "code",
   "execution_count": null,
   "metadata": {},
   "outputs": [],
   "source": [
    "from neuropy.analyses import NeuronEnsembles\n",
    "from scipy import stats\n",
    "from neuropy.utils.ccg import correlograms\n",
    "\n",
    "ccg_sd_maze,ccg_sd_post,ccg_nsd_maze,ccg_nsd_post = [], [],[],[]\n",
    "for sub, sess in enumerate(tqdm(sessions)):\n",
    "    pre = sess.paradigm[\"pre\"].flatten()\n",
    "    maze = sess.paradigm[\"maze\"].flatten()\n",
    "    post = sess.paradigm[\"post\"].flatten()\n",
    "    remaze = sess.paradigm[\"re-maze\"].flatten()\n",
    "    zt0to5 = [post[0], post[0] + 5 * 3600]\n",
    "    zt5to8 = [post[0] + 5 * 3600, post[0] + 8 * 3600]\n",
    "\n",
    "    neurons = sess.neurons.get_neuron_type(\"pyr\")\n",
    "    epochs = [maze, zt0to5]\n",
    "\n",
    "    get_ensembles = lambda e: NeuronEnsembles(neurons, t_start=e[0], t_stop=e[1])\n",
    "\n",
    "    maze_ensembles = get_ensembles(maze)\n",
    "    n_ensembles= maze_ensembles.n_ensembles\n",
    "    maze_activation,maze_t = maze_ensembles.calculate_activation(\n",
    "        t_start=maze[0], t_stop=maze[1],bin_size=0.01\n",
    "    )\n",
    "    zt0to5_activation,zt0to5_t = maze_ensembles.calculate_activation(\n",
    "        t_start=zt0to5[0], t_stop=zt0to5[1],bin_size=0.01\n",
    "    )\n",
    "\n",
    "    def get_ccg(time,act_mat):\n",
    "        act_mat = stats.zscore(act_mat,axis=1)\n",
    "        t,ids=[],[]\n",
    "        for i,act in enumerate(act_mat):\n",
    "            indices = np.where(act>1)[0]\n",
    "            t.append(time[indices])\n",
    "            ids.append(i*np.ones_like(indices))\n",
    "\n",
    "        sort_ind = np.argsort(np.concatenate(t))\n",
    "        t = np.concatenate(t)[sort_ind]\n",
    "        ids = (np.concatenate(ids)[sort_ind]).astype('int')\n",
    "\n",
    "        ccgs = correlograms(t,ids,sample_rate=100,bin_size=0.01,window_size=1)\n",
    "        req_indx = np.tril_indices(act_mat.shape[0],k=-1)\n",
    "        return stats.zscore(ccgs[req_indx[0],req_indx[1],:],axis=1)\n",
    "\n",
    "    maze_ccg = get_ccg(maze_t,maze_activation)\n",
    "    zt0to5_ccg = get_ccg(zt0to5_t,zt0to5_activation)\n",
    "\n",
    "    sort_ind = np.argsort(np.argmax(maze_ccg,axis=1))\n",
    "    maze_ccg = maze_ccg[sort_ind,:]\n",
    "    zt0to5_ccg = zt0to5_ccg[sort_ind,:]\n",
    "\n",
    "\n",
    "    if sess.tag =='NSD':\n",
    "        ccg_nsd_maze.append(maze_ccg) \n",
    "        ccg_nsd_post.append(zt0to5_ccg) \n",
    "\n",
    "    if sess.tag =='SD':\n",
    "        ccg_sd_maze.append(maze_ccg) \n",
    "        ccg_sd_post.append(zt0to5_ccg) \n"
   ]
  },
  {
   "cell_type": "code",
   "execution_count": null,
   "metadata": {},
   "outputs": [],
   "source": [
    "\n",
    "_,axs = plt.subplots(5,2)\n",
    "\n",
    "for i,(m,p) in enumerate(zip(ccg_nsd_maze,ccg_nsd_post)):\n",
    "    axs[i,0].pcolormesh(m,cmap='binary')\n",
    "    axs[i,1].pcolormesh(p,cmap='binary')"
   ]
  },
  {
   "cell_type": "markdown",
   "metadata": {},
   "source": [
    "### MAZE ensemble reactivation around SWR, NSD vs SD"
   ]
  },
  {
   "cell_type": "code",
   "execution_count": null,
   "metadata": {},
   "outputs": [],
   "source": [
    "sessions = subjects.pf_sess()\n",
    "\n",
    "maze_react = []\n",
    "for s, sess in enumerate(sessions):\n",
    "    neurons = sess.neurons_stable.get_neuron_type(\"pyr\")\n",
    "    maze = sess.paradigm[\"maze\"].flatten()\n",
    "\n",
    "    maze_ensembles = NeuronEnsembles(neurons, maze[0], maze[1])\n",
    "    n_ensembles = maze_ensembles.n_ensembles\n",
    "\n",
    "    for i, e in enumerate(zt_epochs.itertuples()):\n",
    "        act,act_t = maze_ensembles.get_activation(e.start,e.stop)\n",
    "        # act = np.where(act>0,act,0)\n",
    "        \n",
    "        df = pd.DataFrame(\n",
    "            dict(\n",
    "                zt=[\"0.0-2.5\", \"2.5-5.0\", \"5.0-7.5\"],\n",
    "                react=zt_acts,\n",
    "                s=s,\n",
    "                grp=sess.tag,\n",
    "            )\n",
    "        )\n",
    "        maze_react.append(df)\n",
    "\n",
    "maze_react = pd.concat(maze_react,ignore_index=True)"
   ]
  }
 ],
 "metadata": {
  "interpreter": {
   "hash": "cce1618081139d19eb1ee8d40815d94a2de4f62e1efb20d9406ddb60628c36ae"
  },
  "kernelspec": {
   "display_name": "Python 3.9.7 64-bit ('data_analysis': conda)",
   "name": "python3"
  },
  "language_info": {
   "codemirror_mode": {
    "name": "ipython",
    "version": 3
   },
   "file_extension": ".py",
   "mimetype": "text/x-python",
   "name": "python",
   "nbconvert_exporter": "python",
   "pygments_lexer": "ipython3",
   "version": "3.10.5"
  },
  "orig_nbformat": 4
 },
 "nbformat": 4,
 "nbformat_minor": 2
}
