{
 "cells": [
  {
   "attachments": {},
   "cell_type": "markdown",
   "metadata": {},
   "source": [
    "### Imports"
   ]
  },
  {
   "cell_type": "code",
   "execution_count": 2,
   "metadata": {},
   "outputs": [],
   "source": [
    "%load_ext autoreload\n",
    "%autoreload 2\n",
    "import sys\n",
    "sys.path.extend(['/home/nkinsky/Documents/GitHub/NeuroPy'])\n",
    "sys.path.extend(['/home/nkinsky/Documents/GitHubPrivate/pythonprogs/DataPaths/'])\n",
    "\n",
    "import numpy as np\n",
    "import pandas as pd\n",
    "import seaborn as sns\n",
    "from scipy import stats\n",
    "import scipy.signal as sg\n",
    "import matplotlib.pyplot as plt\n",
    "from neuropy import plotting\n",
    "import subjects\n",
    "from stats_utils import (\n",
    "    bootstrap_resample,\n",
    "    get_bootstrap_prob,\n",
    "    get_bootstrap_prob_paired,\n",
    ")"
   ]
  },
  {
   "attachments": {},
   "cell_type": "markdown",
   "metadata": {
    "jp-MarkdownHeadingCollapsed": true
   },
   "source": [
    "### Firing rate bootstrap means"
   ]
  },
  {
   "cell_type": "code",
   "execution_count": null,
   "metadata": {},
   "outputs": [],
   "source": [
    "frate_df = subjects.GroupData().frate_post_chunks\n",
    "drop_RatJ = True  # RatJDay2 has < 15 neurons which meets our exclusion criteria\n",
    "if drop_RatJ:\n",
    "    frate_df = frate_df[frate_df.name != \"RatJDay1\"]\n",
    "frate_df = (\n",
    "    frate_df.pivot_table(\n",
    "        columns=[\"zt\"],\n",
    "        values=[\"frate\"],\n",
    "        index=[\"grp\", \"session\", \"neuron_id\", \"neuron_type\"],\n",
    "        sort=False,\n",
    "    )\n",
    "    .reset_index(col_level=1)\n",
    "    .droplevel(0, axis=1)\n",
    "    .drop([\"neuron_id\"], axis=1)\n",
    ")\n",
    "\n",
    "func = lambda df: df.drop(\"session\", axis=1).groupby([\"grp\"]).mean().reset_index()\n",
    "\n",
    "\n",
    "frate_bs_df = []\n",
    "for n, ntype in enumerate([\"pyr\", \"inter\"]):\n",
    "    ntype_df = frate_df[frate_df.neuron_type == ntype].drop(\"neuron_type\", axis=1)\n",
    "    df = bootstrap_resample(ntype_df, level=\"both\", n_iter=10000, n_jobs=6, apply=func)\n",
    "    if \"0-2.5\" in df.keys():\n",
    "        value_vars = [\"PRE\", \"MAZE\", \"0-2.5\", \"2.5-5\", \"5-7.5\"]\n",
    "    else: \n",
    "        value_vars = [\"PRE\", \"MAZE\", \"ZT 0-2.5\", \"ZT 2.5-5\", \"ZT 5-7.5\"]\n",
    "    df = pd.melt(\n",
    "        df,\n",
    "        id_vars=[\"grp\"],\n",
    "        value_vars=value_vars,\n",
    "        var_name=\"zt\",\n",
    "        value_name=\"frate\",\n",
    "    )\n",
    "    df[\"neuron_type\"] = ntype\n",
    "    frate_bs_df.append(df)\n",
    "\n",
    "frate_bs_df = pd.concat(frate_bs_df, ignore_index=True)\n",
    "\n",
    "drop_append = \"_dropRatJ\" if drop_RatJ else \"\"\n",
    "subjects.GroupData().save(frate_bs_df, f\"frate_blocks_bootstrap_session_neurons{drop_append}\")"
   ]
  },
  {
   "cell_type": "code",
   "execution_count": null,
   "metadata": {},
   "outputs": [],
   "source": [
    "frate_dfz = subjects.GroupData().frate_post_chunks_zscore_pre\n",
    "drop_RatJ = True  # RatJDay2 has < 15 neurons which meets our exclusion criteria\n",
    "if drop_RatJ:\n",
    "    frate_dfz = frate_dfz[frate_dfz.name != \"RatJDay1\"]\n",
    "frate_dfz = (\n",
    "    frate_dfz.pivot_table(\n",
    "        columns=[\"zt\"],\n",
    "        values=[\"frate_zscore_pre\"],\n",
    "        index=[\"grp\", \"session\", \"neuron_type\"],\n",
    "        sort=False,\n",
    "    )\n",
    "    .reset_index(col_level=1)\n",
    "    .droplevel(0, axis=1)\n",
    ")\n",
    "\n",
    "func = lambda df: df.drop(\"session\", axis=1).groupby([\"grp\"]).mean().reset_index()\n",
    "\n",
    "\n",
    "frate_bs_df = []\n",
    "for n, ntype in enumerate([\"pyr\", \"inter\"]):\n",
    "    ntype_df = frate_dfz[frate_dfz.neuron_type == ntype].drop(\"neuron_type\", axis=1)\n",
    "    df = bootstrap_resample(ntype_df, level=\"both\", n_iter=10000, n_jobs=6, apply=func)\n",
    "\n",
    "    if \"0-2.5\" in df.keys():\n",
    "        value_vars = [\"PRE\", \"MAZE\", \"0-2.5\", \"2.5-5\", \"5-7.5\"]\n",
    "    else: \n",
    "        value_vars = [\"PRE\", \"MAZE\", \"ZT 0-2.5\", \"ZT 2.5-5\", \"ZT 5-7.5\"]\n",
    "    df = pd.melt(\n",
    "        df,\n",
    "        id_vars=[\"grp\"],\n",
    "        value_vars=value_vars,\n",
    "        var_name=\"zt\",\n",
    "        value_name=\"frate_zscore_pre\",\n",
    "    )\n",
    "    df[\"neuron_type\"] = ntype\n",
    "    frate_bs_df.append(df)\n",
    "\n",
    "frate_bs_df = pd.concat(frate_bs_df, ignore_index=True)\n",
    "\n",
    "drop_append = \"_dropRatJ\" if drop_RatJ else \"\"\n",
    "subjects.GroupData().save(frate_bs_df, f\"frate_blocks_bootstrap_session_neurons_zscore_pre{drop_append}\")"
   ]
  },
  {
   "cell_type": "code",
   "execution_count": null,
   "metadata": {},
   "outputs": [],
   "source": [
    "from plotters import Plotter\n",
    "\n",
    "frate_df = subjects.GroupData().frate_blocks_bootstrap_session_neurons\n",
    "\n",
    "fig = plotting.Fig(5, 5)\n",
    "ax = fig.subplot(fig.gs[0])\n",
    "plotter = Plotter(\n",
    "    data=frate_df[frate_df.neuron_type == \"inter\"],\n",
    "    x=\"zt\",\n",
    "    y=\"frate\",\n",
    "    hue=\"grp\",\n",
    "    hue_order=[\"NSD\", \"SD\"],\n",
    "    ax=ax,\n",
    ")\n",
    "plotter.violinplot_sd(palette=subjects.colors_sd(1)).stat_anot_sd(\n",
    "    stat_within=get_bootstrap_prob_paired,\n",
    "    stat_across=get_bootstrap_prob,\n",
    "    alpha_within=0.025,\n",
    "    alpha_across=0.025,\n",
    ")"
   ]
  },
  {
   "cell_type": "markdown",
   "metadata": {
    "jp-MarkdownHeadingCollapsed": true
   },
   "source": [
    "### Firing rate pre + maze normalized"
   ]
  },
  {
   "cell_type": "code",
   "execution_count": null,
   "metadata": {},
   "outputs": [],
   "source": [
    "frate_dfz2 = subjects.GroupData().frate_post_chunks_zscore_pre_maze\n",
    "frate_dfz2 = (\n",
    "    frate_dfz2.pivot_table(\n",
    "        columns=[\"zt\"],\n",
    "        values=[\"frate_zscore_pre_maze\"],\n",
    "        index=[\"grp\", \"session\", \"neuron_type\"],\n",
    "        sort=False,\n",
    "    )\n",
    "    .reset_index(col_level=1)\n",
    "    .droplevel(0, axis=1)\n",
    ")\n",
    "\n",
    "func = lambda df: df.drop(\"session\", axis=1).groupby([\"grp\"]).mean().reset_index()\n",
    "\n",
    "\n",
    "frate_bs_df = []\n",
    "for n, ntype in enumerate([\"pyr\", \"inter\"]):\n",
    "    ntype_df = frate_dfz2[frate_dfz2.neuron_type == ntype].drop(\"neuron_type\", axis=1)\n",
    "    df = bootstrap_resample(ntype_df, level=\"both\", n_iter=10000, n_jobs=6, apply=func)\n",
    "\n",
    "    df = pd.melt(\n",
    "        df,\n",
    "        id_vars=[\"grp\"],\n",
    "        value_vars=[\"PRE\", \"MAZE\", \"0-2.5\", \"2.5-5\", \"5-7.5\"],\n",
    "        var_name=\"zt\",\n",
    "        value_name=\"frate_zscore_pre_maze\",\n",
    "    )\n",
    "    df[\"neuron_type\"] = ntype\n",
    "    frate_bs_df.append(df)\n",
    "\n",
    "frate_bs_df = pd.concat(frate_bs_df, ignore_index=True)\n",
    "\n",
    "subjects.GroupData().save(frate_bs_df, \"frate_blocks_bootstrap_session_neurons_zscore_pre_maze\")"
   ]
  },
  {
   "cell_type": "markdown",
   "metadata": {
    "jp-MarkdownHeadingCollapsed": true
   },
   "source": [
    "### Firing rates normalize to MAZE"
   ]
  },
  {
   "cell_type": "code",
   "execution_count": null,
   "metadata": {},
   "outputs": [],
   "source": [
    "frate_dfz3 = subjects.GroupData().frate_post_chunks_zscore_maze\n",
    "frate_dfz3 = (\n",
    "    frate_dfz3.pivot_table(\n",
    "        columns=[\"zt\"],\n",
    "        values=[\"frate_zscore_maze\"],\n",
    "        index=[\"grp\", \"session\", \"neuron_type\"],\n",
    "        sort=False,\n",
    "    )\n",
    "    .reset_index(col_level=1)\n",
    "    .droplevel(0, axis=1)\n",
    ")\n",
    "\n",
    "func = lambda df: df.drop(\"session\", axis=1).groupby([\"grp\"]).mean().reset_index()\n",
    "\n",
    "\n",
    "frate_bs_df = []\n",
    "for n, ntype in enumerate([\"pyr\", \"inter\"]):\n",
    "    ntype_df = frate_dfz2[frate_dfz2.neuron_type == ntype].drop(\"neuron_type\", axis=1)\n",
    "    df = bootstrap_resample(ntype_df, level=\"both\", n_iter=10000, n_jobs=6, apply=func)\n",
    "\n",
    "    if \"0-2.5\" in df.keys():\n",
    "        value_vars = [\"PRE\", \"MAZE\", \"0-2.5\", \"2.5-5\", \"5-7.5\"]\n",
    "    else: \n",
    "        value_vars = [\"PRE\", \"MAZE\", \"ZT 0-2.5\", \"ZT 2.5-5\", \"ZT 5-7.5\"]\n",
    "    df = pd.melt(\n",
    "        df,\n",
    "        id_vars=[\"grp\"],\n",
    "        value_vars=value_vars,\n",
    "        var_name=\"zt\",\n",
    "        value_name=\"frate_zscore_maze\",\n",
    "    )\n",
    "    df[\"neuron_type\"] = ntype\n",
    "    frate_bs_df.append(df)\n",
    "\n",
    "frate_bs_df = pd.concat(frate_bs_df, ignore_index=True)\n",
    "\n",
    "subjects.GroupData().save(frate_bs_df, \"frate_blocks_bootstrap_session_neurons_zscore_maze\")"
   ]
  },
  {
   "cell_type": "markdown",
   "metadata": {
    "jp-MarkdownHeadingCollapsed": true
   },
   "source": [
    "### Firing rates divided by baseline (pre) - Vyazovskiy method"
   ]
  },
  {
   "cell_type": "code",
   "execution_count": null,
   "metadata": {},
   "outputs": [],
   "source": [
    "frate_change_df = subjects.GroupData().frate_change_pre_to_post\n",
    "drop_RatJ = True  # RatJDay2 has < 15 neurons which meets our exclusion criteria\n",
    "if drop_RatJ:\n",
    "    frate_change_df = frate_change_df[frate_change_df.name != \"RatJDay1\"]\n",
    "frate_change_df = (\n",
    "    frate_change_df.pivot_table(\n",
    "        columns=[\"zt\"],\n",
    "        values=[\"frate/mean_frate(PRE)\"],\n",
    "        index=[\"grp\", \"session\", \"neuron_type\"],\n",
    "        sort=False,\n",
    "    )\n",
    "    .reset_index(col_level=1)\n",
    "    .droplevel(0, axis=1)\n",
    ")\n",
    "\n",
    "func = lambda df: df.drop(\"session\", axis=1).groupby([\"grp\"]).mean().reset_index()\n",
    "\n",
    "\n",
    "frate_bs_df = []\n",
    "for n, ntype in enumerate([\"pyr\", \"inter\"]):\n",
    "    ntype_df = frate_change_df[frate_change_df.neuron_type == ntype].drop(\"neuron_type\", axis=1)\n",
    "    df = bootstrap_resample(ntype_df, level=\"both\", n_iter=10000, n_jobs=6, apply=func)\n",
    "\n",
    "    if \"0-2.5\" in df.keys():\n",
    "        value_vars = [\"PRE\", \"MAZE\", \"0-2.5\", \"2.5-5\", \"5-7.5\"]\n",
    "    else: \n",
    "        value_vars = [\"PRE\", \"MAZE\", \"ZT 0-2.5\", \"ZT 2.5-5\", \"ZT 5-7.5\"]\n",
    "    df = pd.melt(\n",
    "        df,\n",
    "        id_vars=[\"grp\"],\n",
    "        value_vars=value_vars,\n",
    "        var_name=\"zt\",\n",
    "        value_name=\"frate/mean_frate(PRE)\",\n",
    "    )\n",
    "    df[\"neuron_type\"] = ntype\n",
    "    frate_bs_df.append(df)\n",
    "\n",
    "frate_bs_df = pd.concat(frate_bs_df, ignore_index=True)\n",
    "\n",
    "drop_append = \"_dropRatJ\" if drop_RatJ else \"\"\n",
    "subjects.GroupData().save(frate_bs_df, f\"frate_blocks_bootstrap_session_neurons_change_pre_to_post{drop_append}\")"
   ]
  },
  {
   "cell_type": "markdown",
   "metadata": {
    "jp-MarkdownHeadingCollapsed": true
   },
   "source": [
    "### Log Firing rates"
   ]
  },
  {
   "cell_type": "code",
   "execution_count": null,
   "metadata": {},
   "outputs": [],
   "source": [
    "frate_dflog = subjects.GroupData().frate_log_post_chunks\n",
    "frate_dflog = (\n",
    "    frate_dflog.pivot_table(\n",
    "        columns=[\"zt\"],\n",
    "        values=[\"log(frate)\"],\n",
    "        index=[\"grp\", \"session\", \"neuron_type\"],\n",
    "        sort=False,\n",
    "    )\n",
    "    .reset_index(col_level=1)\n",
    "    .droplevel(0, axis=1)\n",
    ")\n",
    "\n",
    "func = lambda df: df.drop(\"session\", axis=1).groupby([\"grp\"]).mean().reset_index()\n",
    "\n",
    "\n",
    "frate_bs_df = []\n",
    "for n, ntype in enumerate([\"pyr\", \"inter\"]):\n",
    "    ntype_df = frate_dflog[frate_dflog.neuron_type == ntype].drop(\"neuron_type\", axis=1)\n",
    "    df = bootstrap_resample(ntype_df, level=\"both\", n_iter=10000, n_jobs=6, apply=func)\n",
    "\n",
    "    df = pd.melt(\n",
    "        df,\n",
    "        id_vars=[\"grp\"],\n",
    "        value_vars=[\"PRE\", \"MAZE\", \"0-2.5\", \"2.5-5\", \"5-7.5\"],\n",
    "        var_name=\"zt\",\n",
    "        value_name=\"log(frate)\",\n",
    "    )\n",
    "    df[\"neuron_type\"] = ntype\n",
    "    frate_bs_df.append(df)\n",
    "\n",
    "frate_bs_df = pd.concat(frate_bs_df, ignore_index=True)\n",
    "\n",
    "subjects.GroupData().save(frate_bs_df, \"frate_blocks_bootstrap_session_neurons_log\")"
   ]
  },
  {
   "cell_type": "markdown",
   "metadata": {
    "jp-MarkdownHeadingCollapsed": true
   },
   "source": [
    "### (1h block) Firing rate bootstrap means"
   ]
  },
  {
   "cell_type": "code",
   "execution_count": null,
   "metadata": {},
   "outputs": [],
   "source": [
    "frate_df = subjects.GroupData().frate_1h_blocks\n",
    "frate_df = (\n",
    "    frate_df.pivot_table(\n",
    "        columns=[\"zt\"],\n",
    "        values=[\"frate\"],\n",
    "        index=[\"grp\", \"session\", \"neuron_id\", \"neuron_type\"],\n",
    "        sort=False,\n",
    "    )\n",
    "    .reset_index(col_level=1)\n",
    "    .droplevel(0, axis=1)\n",
    "    .drop([\"neuron_id\"], axis=1)\n",
    ")\n",
    "\n",
    "func = lambda df: df.drop(\"session\", axis=1).groupby([\"grp\"]).mean().reset_index()\n",
    "\n",
    "\n",
    "frate_bs_df = []\n",
    "for n, ntype in enumerate([\"pyr\", \"inter\"]):\n",
    "    ntype_df = frate_df[frate_df.neuron_type == ntype].drop(\"neuron_type\", axis=1)\n",
    "    df = bootstrap_resample(ntype_df, level=\"both\", n_iter=10000, n_jobs=6, apply=func)\n",
    "\n",
    "    df = pd.melt(\n",
    "        df,\n",
    "        id_vars=[\"grp\"],\n",
    "        value_vars=[\"PRE\", \"MAZE\", \"0-1\", \"4-5\", \"5-6\"],\n",
    "        var_name=\"zt\",\n",
    "        value_name=\"frate\",\n",
    "    )\n",
    "    df[\"neuron_type\"] = ntype\n",
    "    frate_bs_df.append(df)\n",
    "\n",
    "frate_bs_df = pd.concat(frate_bs_df, ignore_index=True)\n",
    "\n",
    "# subjects.GroupData().save(frate_bs_df, \"frate_1h_blocks_bootstrap\")"
   ]
  },
  {
   "attachments": {},
   "cell_type": "markdown",
   "metadata": {
    "jp-MarkdownHeadingCollapsed": true
   },
   "source": [
    "### Firing rate within ripples"
   ]
  },
  {
   "cell_type": "code",
   "execution_count": null,
   "metadata": {},
   "outputs": [],
   "source": [
    "frate_df = subjects.GroupData().frate_in_ripple\n",
    "frate_df = frate_df[frate_df[\"where\"] == \"inside\"].drop(columns=\"where\")\n",
    "frate_df = (\n",
    "    frate_df.pivot_table(\n",
    "        columns=[\"zt\"],\n",
    "        values=[\"frate\"],\n",
    "        index=[\"grp\", \"session\", \"neuron_id\", \"neuron_type\"],\n",
    "        sort=False,\n",
    "    )\n",
    "    .reset_index(col_level=1)\n",
    "    .droplevel(0, axis=1)\n",
    "    .drop([\"neuron_id\"], axis=1)\n",
    ")\n",
    "\n",
    "func = lambda df: df.drop(\"session\", axis=1).groupby([\"grp\"]).mean().reset_index()\n",
    "\n",
    "\n",
    "frate_bs_df = []\n",
    "for n, ntype in enumerate([\"pyr\", \"inter\"]):\n",
    "    ntype_df = frate_df[frate_df.neuron_type == ntype].drop(\"neuron_type\", axis=1)\n",
    "    df = bootstrap_resample(ntype_df, level=\"both\", n_iter=10000, n_jobs=6, apply=func)\n",
    "\n",
    "    df = pd.melt(\n",
    "        df,\n",
    "        id_vars=[\"grp\"],\n",
    "        value_vars=[\"PRE\", \"MAZE\", \"0-2.5\", \"2.5-5\", \"5-7.5\"],\n",
    "        var_name=\"zt\",\n",
    "        value_name=\"frate\",\n",
    "    )\n",
    "    df[\"neuron_type\"] = ntype\n",
    "    frate_bs_df.append(df)\n",
    "\n",
    "frate_bs_df = pd.concat(frate_bs_df, ignore_index=True)\n",
    "\n",
    "subjects.GroupData().save(frate_bs_df, \"frate_in_ripple_blocks_bootstrap_session_neurons\")"
   ]
  },
  {
   "cell_type": "code",
   "execution_count": null,
   "metadata": {},
   "outputs": [],
   "source": [
    "from plotters import Plotter\n",
    "\n",
    "frate_df = subjects.GroupData().frate_blocks_bootstrap_session_neurons\n",
    "\n",
    "fig = plotting.Fig(5, 5)\n",
    "ax = fig.subplot(fig.gs[0])\n",
    "plotter = Plotter(\n",
    "    data=frate_df[frate_df.neuron_type == \"inter\"],\n",
    "    x=\"zt\",\n",
    "    y=\"frate\",\n",
    "    hue=\"grp\",\n",
    "    hue_order=[\"NSD\", \"SD\"],\n",
    "    ax=ax,\n",
    ")\n",
    "plotter.violinplot_sd(palette=subjects.colors_sd(1)).stat_anot_sd(\n",
    "    stat_within=get_bootstrap_prob_paired,\n",
    "    stat_across=get_bootstrap_prob,\n",
    "    alpha_within=0.025,\n",
    "    alpha_across=0.025,\n",
    ")"
   ]
  },
  {
   "attachments": {},
   "cell_type": "markdown",
   "metadata": {},
   "source": [
    "### Firing rate IQR bootstrap values\n",
    "- To compare distribution of firing rates using bootstrap"
   ]
  },
  {
   "cell_type": "code",
   "execution_count": null,
   "metadata": {},
   "outputs": [],
   "source": [
    "frate_df = subjects.GroupData().frate_post_chunks\n",
    "frate_df = (\n",
    "    frate_df.pivot_table(\n",
    "        columns=[\"zt\"],\n",
    "        values=[\"frate\"],\n",
    "        index=[\"grp\", \"session\", \"neuron_id\", \"neuron_type\"],\n",
    "        sort=False,\n",
    "    )\n",
    "    .reset_index(col_level=1)\n",
    "    .droplevel(0, axis=1)\n",
    "    .drop([\"neuron_id\"], axis=1)\n",
    ")\n",
    "\n",
    "func = (\n",
    "    lambda df: df.drop(\"session\", axis=1)\n",
    "    .groupby([\"grp\"])\n",
    "    .quantile([0.25, 0.75])\n",
    "    .diff()\n",
    "    .iloc[[1]]\n",
    "    .reset_index()\n",
    ")\n",
    "\n",
    "\n",
    "frate_bs_df = []\n",
    "for n, ntype in enumerate([\"pyr\", \"inter\"]):\n",
    "    ntype_df = frate_df[frate_df.neuron_type == ntype].drop(\"neuron_type\", axis=1)\n",
    "    df = bootstrap_resample(ntype_df, level=\"both\", n_iter=10000, n_jobs=6, apply=func)\n",
    "\n",
    "    df = pd.melt(\n",
    "        df,\n",
    "        id_vars=[\"grp\"],\n",
    "        value_vars=[\"PRE\", \"MAZE\", \"0-2.5\", \"2.5-5\", \"5-7.5\"],\n",
    "        var_name=\"zt\",\n",
    "        value_name=\"frate\",\n",
    "    )\n",
    "    df[\"neuron_type\"] = ntype\n",
    "    frate_bs_df.append(df)\n",
    "\n",
    "frate_bs_df = pd.concat(frate_bs_df, ignore_index=True)\n",
    "\n",
    "# subjects.GroupData().save(frate_bs_df, \"frate_IQR_blocks_bootstrap_session_neurons\")"
   ]
  },
  {
   "cell_type": "code",
   "execution_count": null,
   "metadata": {},
   "outputs": [],
   "source": [
    "from plotters import Plotter\n",
    "\n",
    "frate_df = subjects.GroupData().frate_IQR_blocks_bootstrap_session_neurons\n",
    "\n",
    "fig = plotting.Fig(5, 5)\n",
    "ax = fig.subplot(fig.gs[0])\n",
    "plotter = Plotter(\n",
    "    data=frate_df[frate_df.neuron_type == \"pyr\"],\n",
    "    x=\"zt\",\n",
    "    y=\"frate\",\n",
    "    hue=\"grp\",\n",
    "    hue_order=[\"NSD\", \"SD\"],\n",
    "    ax=ax,\n",
    ")\n",
    "plotter.violinplot_sd(palette=subjects.colors_sd(1)).stat_anot_sd(\n",
    "    stat_within=get_bootstrap_prob_paired,\n",
    "    stat_across=get_bootstrap_prob,\n",
    "    alpha_within=0.025,\n",
    "    alpha_across=0.025,\n",
    ")"
   ]
  },
  {
   "attachments": {},
   "cell_type": "markdown",
   "metadata": {
    "jp-MarkdownHeadingCollapsed": true
   },
   "source": [
    "### Firing rate standard deviation bootstrap values\n",
    "- To compare distribution of firing rates using bootstrap"
   ]
  },
  {
   "cell_type": "code",
   "execution_count": null,
   "metadata": {},
   "outputs": [],
   "source": [
    "frate_df = subjects.GroupData().frate_post_chunks\n",
    "frate_df = (\n",
    "    frate_df.pivot_table(\n",
    "        columns=[\"zt\"],\n",
    "        values=[\"frate\"],\n",
    "        index=[\"grp\", \"session\", \"neuron_id\", \"neuron_type\"],\n",
    "        sort=False,\n",
    "    )\n",
    "    .reset_index(col_level=1)\n",
    "    .droplevel(0, axis=1)\n",
    "    .drop([\"neuron_id\"], axis=1)\n",
    ")\n",
    "\n",
    "func = lambda df: df.drop(\"session\", axis=1).kurtosis().reset_index()\n",
    "\n",
    "\n",
    "frate_bs_df = []\n",
    "for n, ntype in enumerate([\"pyr\", \"inter\"]):\n",
    "    ntype_df = frate_df[frate_df.neuron_type == ntype].drop(\"neuron_type\", axis=1)\n",
    "    df = bootstrap_resample(ntype_df, level=\"both\", n_iter=10000, n_jobs=6, apply=func)\n",
    "\n",
    "    df = pd.melt(\n",
    "        df,\n",
    "        id_vars=[\"grp\"],\n",
    "        value_vars=[\"PRE\", \"MAZE\", \"0-2.5\", \"2.5-5\", \"5-7.5\"],\n",
    "        var_name=\"zt\",\n",
    "        value_name=\"frate\",\n",
    "    )\n",
    "    df[\"neuron_type\"] = ntype\n",
    "    frate_bs_df.append(df)\n",
    "\n",
    "frate_bs_df = pd.concat(frate_bs_df, ignore_index=True)\n",
    "\n",
    "subjects.GroupData().save(frate_bs_df, \"frate_Kurtosis_blocks_bootstrap_session_neurons\")"
   ]
  },
  {
   "cell_type": "code",
   "execution_count": null,
   "metadata": {},
   "outputs": [],
   "source": [
    "from plotters import Plotter\n",
    "\n",
    "frate_df = subjects.GroupData().frate_STD_blocks_bootstrap_session_neurons\n",
    "\n",
    "fig = plotting.Fig(5, 5)\n",
    "ax = fig.subplot(fig.gs[0])\n",
    "plotter = Plotter(\n",
    "    data=frate_df[frate_df.neuron_type == \"pyr\"],\n",
    "    x=\"zt\",\n",
    "    y=\"frate\",\n",
    "    hue=\"grp\",\n",
    "    hue_order=[\"NSD\", \"SD\"],\n",
    "    ax=ax,\n",
    ")\n",
    "plotter.violinplot_sd(palette=subjects.colors_sd(1)).stat_anot_sd(\n",
    "    stat_within=get_bootstrap_prob_paired,\n",
    "    stat_across=get_bootstrap_prob,\n",
    "    alpha_within=0.025,\n",
    "    alpha_across=0.025,\n",
    ")"
   ]
  },
  {
   "attachments": {},
   "cell_type": "markdown",
   "metadata": {},
   "source": [
    "### Firing rate bootstrap means statewise"
   ]
  },
  {
   "cell_type": "code",
   "execution_count": null,
   "metadata": {},
   "outputs": [],
   "source": [
    "frate_df = subjects.GroupData().frate_post_chunks_statewise\n",
    "\n",
    "drop_session13pre = False  # See sd_fig2_supp - session 13 shouldn't be included for NREM PRE (RatUDay4SD)\n",
    "if drop_session13pre:  # Set session 13 firing rates to nan\n",
    "    frate_df.loc[(frate_df.session == 13) & (frate_df.brainstate == \"NREM\") & (frate_df.zt == \"PRE\"), \"frate\"] = np.nan\n",
    "    save_append = \"_dropsession13\"\n",
    "else:\n",
    "    save_append = \"\"\n",
    "    \n",
    "frate_df = (\n",
    "    frate_df.pivot_table(\n",
    "        columns=[\"zt\"],\n",
    "        values=[\"frate\"],\n",
    "        index=[\"grp\", \"session\", \"neuron_id\", \"neuron_type\", \"brainstate\"],\n",
    "        sort=False,\n",
    "    )\n",
    "    .reset_index(col_level=1)\n",
    "    .droplevel(0, axis=1)\n",
    "    .drop([\"neuron_id\"], axis=1)\n",
    ")\n",
    "\n",
    "func = (\n",
    "    lambda df: df.drop(\"session\", axis=1)\n",
    "    .groupby([\"grp\"])\n",
    "    .mean(numeric_only=True)\n",
    "    .reset_index()\n",
    ")\n",
    "\n",
    "for state_name in [\"WK\", \"NREM\"]:\n",
    "    state_df = frate_df[frate_df.brainstate == state_name]\n",
    "    frate_bs_df = []\n",
    "    n_iter = 10000 if state_name == \"WK\" else 12000  # grab extra bootstraps to account for missing a few due to some sessions have no neurons in NREM\n",
    "    for n, ntype in enumerate([\"pyr\", \"inter\"]):\n",
    "        ntype_df = state_df[state_df.neuron_type == ntype].drop(\"neuron_type\", axis=1)\n",
    "        df = bootstrap_resample(\n",
    "            ntype_df, level=\"both\", n_iter=n_iter, n_jobs=6, apply=func,\n",
    "        )\n",
    "\n",
    "        epoch_names = [\"PRE\", \"MAZE\", \"0-2.5\", \"2.5-5\", \"5-7.5\"]\n",
    "        if \"ZT 0-2.5\" in df.keys():\n",
    "            epoch_names = [\"PRE\", \"MAZE\", \"ZT 0-2.5\", \"ZT 2.5-5\", \"ZT 5-7.5\"]\n",
    "            \n",
    "        df = pd.melt(\n",
    "            df,\n",
    "            id_vars=[\"grp\"],\n",
    "            value_vars=epoch_names,\n",
    "            var_name=\"zt\",\n",
    "            value_name=\"frate\",\n",
    "        )\n",
    "        df[\"neuron_type\"] = ntype\n",
    "\n",
    "        # drop any rows from SD NREM with nans and then resample\n",
    "        df_sub = df[((df.grp == \"SD\") & ((df.zt == \"PRE\") | (df.zt == \"ZT 2.5-5\"))) | ((df.grp == \"NSD\") & (df.zt == \"PRE\"))]  # these are the sessions which can have 0 neurons\n",
    "        nan_bool = np.isnan(df_sub.frate)\n",
    "        ind_drop = df_sub.index[nan_bool]  # Indices in df to drop\n",
    "        df = df.drop(labels=df_sub.index[nan_bool], axis=0)  # drop nan indices\n",
    "        # now resample 10000 bootstraps!\n",
    "        df[\"zt\"] = pd.Categorical(df[\"zt\"], [\"PRE\", \"MAZE\", \"ZT 0-2.5\", \"ZT 2.5-5\", \"ZT 5-7.5\"])  # Make zt categorical to preserve epoch order\n",
    "        df = df.groupby([\"grp\", \"zt\", \"neuron_type\"], sort=\"zt\").sample(10000).reset_index()\n",
    "        \n",
    "        frate_bs_df.append(df)\n",
    "\n",
    "    frate_bs_df = pd.concat(frate_bs_df, ignore_index=True)\n",
    "    subjects.GroupData().save(\n",
    "        frate_bs_df, f\"frate_blocks_{state_name}_bootstrap_session_neurons{save_append}\"\n",
    "    )"
   ]
  },
  {
   "cell_type": "code",
   "execution_count": null,
   "metadata": {},
   "outputs": [],
   "source": [
    "from plotters import Plotter\n",
    "\n",
    "frate_df = subjects.GroupData().frate_blocks_wk_bootstrap_session_neurons\n",
    "\n",
    "fig = plotting.Fig(5, 5)\n",
    "ax = fig.subplot(fig.gs[0])\n",
    "plotter = Plotter(\n",
    "    data=frate_df[frate_df.neuron_type == \"inter\"],\n",
    "    x=\"zt\",\n",
    "    y=\"frate\",\n",
    "    hue=\"grp\",\n",
    "    hue_order=[\"NSD\", \"SD\"],\n",
    "    ax=ax,\n",
    ")\n",
    "plotter.violinplot_sd(palette=subjects.colors_sd(1)).stat_anot_sd(\n",
    "    stat_within=get_bootstrap_prob_paired,\n",
    "    stat_across=get_bootstrap_prob,\n",
    "    alpha_within=[0.025, 0.005, 0.0005],\n",
    "    alpha_across=[0.05, 0.01, 0.001],\n",
    "    verbose=True,\n",
    ")\n",
    "\n",
    "fig.savefig(subjects.figpath_sd / \"frate_inter_wk\")"
   ]
  },
  {
   "cell_type": "markdown",
   "metadata": {},
   "source": [
    "### Firing rates QW vs AW"
   ]
  },
  {
   "cell_type": "code",
   "execution_count": 2,
   "metadata": {},
   "outputs": [
    {
     "name": "stdout",
     "output_type": "stream",
     "text": [
      "Running bootstraps for NSD group\n"
     ]
    },
    {
     "name": "stderr",
     "output_type": "stream",
     "text": [
      "100%|█████████████████████████████████████████████████████████████████████████████████████████████████████| 10000/10000 [00:10<00:00, 931.05it/s]\n"
     ]
    },
    {
     "name": "stdout",
     "output_type": "stream",
     "text": [
      "Running bootstraps for SD group\n"
     ]
    },
    {
     "name": "stderr",
     "output_type": "stream",
     "text": [
      "100%|█████████████████████████████████████████████████████████████████████████████████████████████████████| 10000/10000 [00:11<00:00, 905.10it/s]\n"
     ]
    },
    {
     "name": "stdout",
     "output_type": "stream",
     "text": [
      "Running bootstraps for NSD group\n"
     ]
    },
    {
     "name": "stderr",
     "output_type": "stream",
     "text": [
      "100%|████████████████████████████████████████████████████████████████████████████████████████████████████| 10000/10000 [00:09<00:00, 1017.33it/s]\n"
     ]
    },
    {
     "name": "stdout",
     "output_type": "stream",
     "text": [
      "Running bootstraps for SD group\n"
     ]
    },
    {
     "name": "stderr",
     "output_type": "stream",
     "text": [
      "100%|█████████████████████████████████████████████████████████████████████████████████████████████████████| 10000/10000 [00:10<00:00, 917.76it/s]\n"
     ]
    },
    {
     "name": "stdout",
     "output_type": "stream",
     "text": [
      "frate_blocks_QW_bootstrap_session_neurons saved\n",
      "Running bootstraps for NSD group\n"
     ]
    },
    {
     "name": "stderr",
     "output_type": "stream",
     "text": [
      "100%|█████████████████████████████████████████████████████████████████████████████████████████████████████| 10000/10000 [00:10<00:00, 985.13it/s]\n"
     ]
    },
    {
     "name": "stdout",
     "output_type": "stream",
     "text": [
      "Running bootstraps for SD group\n"
     ]
    },
    {
     "name": "stderr",
     "output_type": "stream",
     "text": [
      "100%|█████████████████████████████████████████████████████████████████████████████████████████████████████| 10000/10000 [00:10<00:00, 911.82it/s]\n"
     ]
    },
    {
     "name": "stdout",
     "output_type": "stream",
     "text": [
      "Running bootstraps for NSD group\n"
     ]
    },
    {
     "name": "stderr",
     "output_type": "stream",
     "text": [
      "100%|████████████████████████████████████████████████████████████████████████████████████████████████████| 10000/10000 [00:09<00:00, 1013.67it/s]\n"
     ]
    },
    {
     "name": "stdout",
     "output_type": "stream",
     "text": [
      "Running bootstraps for SD group\n"
     ]
    },
    {
     "name": "stderr",
     "output_type": "stream",
     "text": [
      "100%|█████████████████████████████████████████████████████████████████████████████████████████████████████| 10000/10000 [00:11<00:00, 905.47it/s]\n"
     ]
    },
    {
     "name": "stdout",
     "output_type": "stream",
     "text": [
      "frate_blocks_AW_bootstrap_session_neurons saved\n"
     ]
    }
   ],
   "source": [
    "frate_df = subjects.GroupData().frate_post_chunks_qw_aw\n",
    "\n",
    "# drop_session13pre = False  # See sd_fig2_supp - session 13 shouldn't be included for NREM PRE (RatUDay4SD)\n",
    "# if drop_session13pre:  # Set session 13 firing rates to nan\n",
    "#     frate_df.loc[(frate_df.session == 13) & (frate_df.brainstate == \"NREM\") & (frate_df.zt == \"PRE\"), \"frate\"] = np.nan\n",
    "#     save_append = \"_dropsession13\"\n",
    "# else:\n",
    "#     save_append = \"\"\n",
    "    \n",
    "frate_df = (\n",
    "    frate_df.pivot_table(\n",
    "        columns=[\"zt\"],\n",
    "        values=[\"frate\"],\n",
    "        index=[\"grp\", \"session\", \"neuron_id\", \"neuron_type\", \"brainstate\"],\n",
    "        sort=False,\n",
    "    )\n",
    "    .reset_index(col_level=1)\n",
    "    .droplevel(0, axis=1)\n",
    "    .drop([\"neuron_id\"], axis=1)\n",
    ")\n",
    "\n",
    "func = (\n",
    "    lambda df: df.drop(\"session\", axis=1)\n",
    "    .groupby([\"grp\"])\n",
    "    .mean(numeric_only=True)\n",
    "    .reset_index()\n",
    ")\n",
    "\n",
    "for state_name in [\"QW\", \"AW\"]:\n",
    "    state_df = frate_df[frate_df.brainstate == state_name]\n",
    "    frate_bs_df = []\n",
    "    n_iter = 10000\n",
    "    # n_iter = 10000 if state_name == \"WK\" else 12000  # grab extra bootstraps to account for missing a few due to some sessions have no neurons in NREM\n",
    "    for n, ntype in enumerate([\"pyr\", \"inter\"]):\n",
    "        ntype_df = state_df[state_df.neuron_type == ntype].drop(\"neuron_type\", axis=1)\n",
    "        df = bootstrap_resample(\n",
    "            ntype_df, level=\"both\", n_iter=n_iter, n_jobs=6, apply=func,\n",
    "        )\n",
    "\n",
    "        epoch_names = [\"PRE\", \"MAZE\", \"0-2.5\", \"2.5-5\", \"5-7.5\"]\n",
    "        if \"ZT 0-2.5\" in df.keys():\n",
    "            epoch_names = [\"PRE\", \"MAZE\", \"ZT 0-2.5\", \"ZT 2.5-5\", \"ZT 5-7.5\"]\n",
    "            \n",
    "        df = pd.melt(\n",
    "            df,\n",
    "            id_vars=[\"grp\"],\n",
    "            value_vars=epoch_names,\n",
    "            var_name=\"zt\",\n",
    "            value_name=\"frate\",\n",
    "        )\n",
    "        df[\"neuron_type\"] = ntype\n",
    "\n",
    "        # drop any rows from SD NREM with nans and then resample\n",
    "        df_sub = df[((df.grp == \"SD\") & ((df.zt == \"PRE\") | (df.zt == \"ZT 2.5-5\"))) | ((df.grp == \"NSD\") & (df.zt == \"PRE\"))]  # these are the sessions which can have 0 neurons\n",
    "        nan_bool = np.isnan(df_sub.frate)\n",
    "        ind_drop = df_sub.index[nan_bool]  # Indices in df to drop\n",
    "        df = df.drop(labels=df_sub.index[nan_bool], axis=0)  # drop nan indices\n",
    "        # now resample 10000 bootstraps!\n",
    "        df[\"zt\"] = pd.Categorical(df[\"zt\"], [\"PRE\", \"MAZE\", \"ZT 0-2.5\", \"ZT 2.5-5\", \"ZT 5-7.5\"])  # Make zt categorical to preserve epoch order\n",
    "        df = df.groupby([\"grp\", \"zt\", \"neuron_type\"], sort=\"zt\").sample(10000).reset_index()\n",
    "        \n",
    "        frate_bs_df.append(df)\n",
    "\n",
    "    frate_bs_df = pd.concat(frate_bs_df, ignore_index=True)\n",
    "    subjects.GroupData().save(\n",
    "        frate_bs_df, f\"frate_blocks_{state_name}_bootstrap_session_neurons\"\n",
    "    )"
   ]
  },
  {
   "cell_type": "markdown",
   "metadata": {
    "jp-MarkdownHeadingCollapsed": true
   },
   "source": [
    "### Firing Rates AW vs QW (low-delta) vs QW (high-delta)"
   ]
  },
  {
   "cell_type": "code",
   "execution_count": 9,
   "metadata": {},
   "outputs": [
    {
     "data": {
      "text/html": [
       "<div>\n",
       "<style scoped>\n",
       "    .dataframe tbody tr th:only-of-type {\n",
       "        vertical-align: middle;\n",
       "    }\n",
       "\n",
       "    .dataframe tbody tr th {\n",
       "        vertical-align: top;\n",
       "    }\n",
       "\n",
       "    .dataframe thead th {\n",
       "        text-align: right;\n",
       "    }\n",
       "</style>\n",
       "<table border=\"1\" class=\"dataframe\">\n",
       "  <thead>\n",
       "    <tr style=\"text-align: right;\">\n",
       "      <th></th>\n",
       "      <th></th>\n",
       "      <th></th>\n",
       "      <th>session</th>\n",
       "      <th>neuron_id</th>\n",
       "      <th>frate</th>\n",
       "    </tr>\n",
       "    <tr>\n",
       "      <th>grp</th>\n",
       "      <th>neuron_type</th>\n",
       "      <th>zt</th>\n",
       "      <th></th>\n",
       "      <th></th>\n",
       "      <th></th>\n",
       "    </tr>\n",
       "  </thead>\n",
       "  <tbody>\n",
       "    <tr>\n",
       "      <th rowspan=\"10\" valign=\"top\">NSD</th>\n",
       "      <th rowspan=\"5\" valign=\"top\">inter</th>\n",
       "      <th>MAZE</th>\n",
       "      <td>0.0</td>\n",
       "      <td>0.0</td>\n",
       "      <td>0.0</td>\n",
       "    </tr>\n",
       "    <tr>\n",
       "      <th>PRE</th>\n",
       "      <td>0.0</td>\n",
       "      <td>0.0</td>\n",
       "      <td>0.0</td>\n",
       "    </tr>\n",
       "    <tr>\n",
       "      <th>ZT 0-2.5</th>\n",
       "      <td>0.0</td>\n",
       "      <td>0.0</td>\n",
       "      <td>0.0</td>\n",
       "    </tr>\n",
       "    <tr>\n",
       "      <th>ZT 2.5-5</th>\n",
       "      <td>0.0</td>\n",
       "      <td>0.0</td>\n",
       "      <td>0.0</td>\n",
       "    </tr>\n",
       "    <tr>\n",
       "      <th>ZT 5-7.5</th>\n",
       "      <td>0.0</td>\n",
       "      <td>0.0</td>\n",
       "      <td>0.0</td>\n",
       "    </tr>\n",
       "    <tr>\n",
       "      <th rowspan=\"5\" valign=\"top\">pyr</th>\n",
       "      <th>MAZE</th>\n",
       "      <td>0.0</td>\n",
       "      <td>0.0</td>\n",
       "      <td>0.0</td>\n",
       "    </tr>\n",
       "    <tr>\n",
       "      <th>PRE</th>\n",
       "      <td>0.0</td>\n",
       "      <td>0.0</td>\n",
       "      <td>0.0</td>\n",
       "    </tr>\n",
       "    <tr>\n",
       "      <th>ZT 0-2.5</th>\n",
       "      <td>0.0</td>\n",
       "      <td>0.0</td>\n",
       "      <td>0.0</td>\n",
       "    </tr>\n",
       "    <tr>\n",
       "      <th>ZT 2.5-5</th>\n",
       "      <td>0.0</td>\n",
       "      <td>0.0</td>\n",
       "      <td>0.0</td>\n",
       "    </tr>\n",
       "    <tr>\n",
       "      <th>ZT 5-7.5</th>\n",
       "      <td>0.0</td>\n",
       "      <td>0.0</td>\n",
       "      <td>0.0</td>\n",
       "    </tr>\n",
       "    <tr>\n",
       "      <th rowspan=\"10\" valign=\"top\">SD</th>\n",
       "      <th rowspan=\"5\" valign=\"top\">inter</th>\n",
       "      <th>MAZE</th>\n",
       "      <td>0.0</td>\n",
       "      <td>0.0</td>\n",
       "      <td>0.0</td>\n",
       "    </tr>\n",
       "    <tr>\n",
       "      <th>PRE</th>\n",
       "      <td>0.0</td>\n",
       "      <td>0.0</td>\n",
       "      <td>0.0</td>\n",
       "    </tr>\n",
       "    <tr>\n",
       "      <th>ZT 0-2.5</th>\n",
       "      <td>0.0</td>\n",
       "      <td>0.0</td>\n",
       "      <td>0.0</td>\n",
       "    </tr>\n",
       "    <tr>\n",
       "      <th>ZT 2.5-5</th>\n",
       "      <td>0.0</td>\n",
       "      <td>0.0</td>\n",
       "      <td>0.0</td>\n",
       "    </tr>\n",
       "    <tr>\n",
       "      <th>ZT 5-7.5</th>\n",
       "      <td>0.0</td>\n",
       "      <td>0.0</td>\n",
       "      <td>0.0</td>\n",
       "    </tr>\n",
       "    <tr>\n",
       "      <th rowspan=\"5\" valign=\"top\">pyr</th>\n",
       "      <th>MAZE</th>\n",
       "      <td>0.0</td>\n",
       "      <td>0.0</td>\n",
       "      <td>0.0</td>\n",
       "    </tr>\n",
       "    <tr>\n",
       "      <th>PRE</th>\n",
       "      <td>0.0</td>\n",
       "      <td>0.0</td>\n",
       "      <td>0.0</td>\n",
       "    </tr>\n",
       "    <tr>\n",
       "      <th>ZT 0-2.5</th>\n",
       "      <td>0.0</td>\n",
       "      <td>0.0</td>\n",
       "      <td>0.0</td>\n",
       "    </tr>\n",
       "    <tr>\n",
       "      <th>ZT 2.5-5</th>\n",
       "      <td>0.0</td>\n",
       "      <td>0.0</td>\n",
       "      <td>0.0</td>\n",
       "    </tr>\n",
       "    <tr>\n",
       "      <th>ZT 5-7.5</th>\n",
       "      <td>0.0</td>\n",
       "      <td>0.0</td>\n",
       "      <td>0.0</td>\n",
       "    </tr>\n",
       "  </tbody>\n",
       "</table>\n",
       "</div>"
      ],
      "text/plain": [
       "                          session  neuron_id  frate\n",
       "grp neuron_type zt                                 \n",
       "NSD inter       MAZE          0.0        0.0    0.0\n",
       "                PRE           0.0        0.0    0.0\n",
       "                ZT 0-2.5      0.0        0.0    0.0\n",
       "                ZT 2.5-5      0.0        0.0    0.0\n",
       "                ZT 5-7.5      0.0        0.0    0.0\n",
       "    pyr         MAZE          0.0        0.0    0.0\n",
       "                PRE           0.0        0.0    0.0\n",
       "                ZT 0-2.5      0.0        0.0    0.0\n",
       "                ZT 2.5-5      0.0        0.0    0.0\n",
       "                ZT 5-7.5      0.0        0.0    0.0\n",
       "SD  inter       MAZE          0.0        0.0    0.0\n",
       "                PRE           0.0        0.0    0.0\n",
       "                ZT 0-2.5      0.0        0.0    0.0\n",
       "                ZT 2.5-5      0.0        0.0    0.0\n",
       "                ZT 5-7.5      0.0        0.0    0.0\n",
       "    pyr         MAZE          0.0        0.0    0.0\n",
       "                PRE           0.0        0.0    0.0\n",
       "                ZT 0-2.5      0.0        0.0    0.0\n",
       "                ZT 2.5-5      0.0        0.0    0.0\n",
       "                ZT 5-7.5      0.0        0.0    0.0"
      ]
     },
     "execution_count": 9,
     "metadata": {},
     "output_type": "execute_result"
    }
   ],
   "source": [
    "# Compare AW vs QW split above to AW vs QW with hi/lo delta below. Great! Difference between the two means is exactly 0.0!\n",
    "\n",
    "frate_df_split = subjects.GroupData().frate_post_chunks_qw_delta_split_aw\n",
    "frate_df_split[frate_df_split.brainstate == \"AW\"].groupby([\"grp\", \"neuron_type\", \"zt\"]).mean(numeric_only=True)\n",
    "\n",
    "frate_df = subjects.GroupData().frate_post_chunks_qw_aw\n",
    "frate_df_split[frate_df_split.brainstate == \"AW\"].groupby([\"grp\", \"neuron_type\", \"zt\"]).mean(numeric_only=True) - frate_df[frate_df.brainstate == \"AW\"].groupby([\"grp\", \"neuron_type\", \"zt\"]).mean(numeric_only=True)"
   ]
  },
  {
   "cell_type": "code",
   "execution_count": 10,
   "metadata": {},
   "outputs": [
    {
     "name": "stdout",
     "output_type": "stream",
     "text": [
      "Running bootstraps for NSD group\n"
     ]
    },
    {
     "name": "stderr",
     "output_type": "stream",
     "text": [
      "100%|█████████████████████████████████████████████████████████████████████████████████████████████████████| 10000/10000 [00:12<00:00, 823.21it/s]\n"
     ]
    },
    {
     "name": "stdout",
     "output_type": "stream",
     "text": [
      "Running bootstraps for SD group\n"
     ]
    },
    {
     "name": "stderr",
     "output_type": "stream",
     "text": [
      "100%|█████████████████████████████████████████████████████████████████████████████████████████████████████| 10000/10000 [00:11<00:00, 884.38it/s]\n"
     ]
    },
    {
     "name": "stdout",
     "output_type": "stream",
     "text": [
      "Running bootstraps for NSD group\n"
     ]
    },
    {
     "name": "stderr",
     "output_type": "stream",
     "text": [
      "100%|█████████████████████████████████████████████████████████████████████████████████████████████████████| 10000/10000 [00:10<00:00, 997.90it/s]\n"
     ]
    },
    {
     "name": "stdout",
     "output_type": "stream",
     "text": [
      "Running bootstraps for SD group\n"
     ]
    },
    {
     "name": "stderr",
     "output_type": "stream",
     "text": [
      "100%|█████████████████████████████████████████████████████████████████████████████████████████████████████| 10000/10000 [00:10<00:00, 909.29it/s]\n"
     ]
    },
    {
     "name": "stdout",
     "output_type": "stream",
     "text": [
      "frate_blocks_QW_lowdelta_bootstrap_session_neurons saved\n",
      "Running bootstraps for NSD group\n"
     ]
    },
    {
     "name": "stderr",
     "output_type": "stream",
     "text": [
      "100%|█████████████████████████████████████████████████████████████████████████████████████████████████████| 10000/10000 [00:10<00:00, 957.69it/s]\n"
     ]
    },
    {
     "name": "stdout",
     "output_type": "stream",
     "text": [
      "Running bootstraps for SD group\n"
     ]
    },
    {
     "name": "stderr",
     "output_type": "stream",
     "text": [
      "100%|█████████████████████████████████████████████████████████████████████████████████████████████████████| 10000/10000 [00:11<00:00, 888.39it/s]\n"
     ]
    },
    {
     "name": "stdout",
     "output_type": "stream",
     "text": [
      "Running bootstraps for NSD group\n"
     ]
    },
    {
     "name": "stderr",
     "output_type": "stream",
     "text": [
      "100%|█████████████████████████████████████████████████████████████████████████████████████████████████████| 10000/10000 [00:10<00:00, 988.23it/s]\n"
     ]
    },
    {
     "name": "stdout",
     "output_type": "stream",
     "text": [
      "Running bootstraps for SD group\n"
     ]
    },
    {
     "name": "stderr",
     "output_type": "stream",
     "text": [
      "100%|█████████████████████████████████████████████████████████████████████████████████████████████████████| 10000/10000 [00:11<00:00, 897.88it/s]\n"
     ]
    },
    {
     "name": "stdout",
     "output_type": "stream",
     "text": [
      "frate_blocks_QW_highdelta_bootstrap_session_neurons saved\n"
     ]
    }
   ],
   "source": [
    "frate_df = subjects.GroupData().frate_post_chunks_qw_delta_split_aw\n",
    "\n",
    "# drop_session13pre = False  # See sd_fig2_supp - session 13 shouldn't be included for NREM PRE (RatUDay4SD)\n",
    "# if drop_session13pre:  # Set session 13 firing rates to nan\n",
    "#     frate_df.loc[(frate_df.session == 13) & (frate_df.brainstate == \"NREM\") & (frate_df.zt == \"PRE\"), \"frate\"] = np.nan\n",
    "#     save_append = \"_dropsession13\"\n",
    "# else:\n",
    "#     save_append = \"\"\n",
    "    \n",
    "frate_df = (\n",
    "    frate_df.pivot_table(\n",
    "        columns=[\"zt\"],\n",
    "        values=[\"frate\"],\n",
    "        index=[\"grp\", \"session\", \"neuron_id\", \"neuron_type\", \"brainstate\"],\n",
    "        sort=False,\n",
    "    )\n",
    "    .reset_index(col_level=1)\n",
    "    .droplevel(0, axis=1)\n",
    "    .drop([\"neuron_id\"], axis=1)\n",
    ")\n",
    "\n",
    "func = (\n",
    "    lambda df: df.drop(\"session\", axis=1)\n",
    "    .groupby([\"grp\"])\n",
    "    .mean(numeric_only=True)\n",
    "    .reset_index()\n",
    ")\n",
    "\n",
    "for state_name in ['QW_lowdelta', 'QW_highdelta']:  # No need to re-do AW since it is exactly the same as the above\n",
    "    state_df = frate_df[frate_df.brainstate == state_name]\n",
    "    frate_bs_df = []\n",
    "    n_iter = 10000\n",
    "    # n_iter = 10000 if state_name == \"WK\" else 12000  # grab extra bootstraps to account for missing a few due to some sessions have no neurons in NREM\n",
    "    for n, ntype in enumerate([\"pyr\", \"inter\"]):\n",
    "        ntype_df = state_df[state_df.neuron_type == ntype].drop(\"neuron_type\", axis=1)\n",
    "        df = bootstrap_resample(\n",
    "            ntype_df, level=\"both\", n_iter=n_iter, n_jobs=6, apply=func,\n",
    "        )\n",
    "\n",
    "        epoch_names = [\"PRE\", \"MAZE\", \"0-2.5\", \"2.5-5\", \"5-7.5\"]\n",
    "        if \"ZT 0-2.5\" in df.keys():\n",
    "            epoch_names = [\"PRE\", \"MAZE\", \"ZT 0-2.5\", \"ZT 2.5-5\", \"ZT 5-7.5\"]\n",
    "            \n",
    "        df = pd.melt(\n",
    "            df,\n",
    "            id_vars=[\"grp\"],\n",
    "            value_vars=epoch_names,\n",
    "            var_name=\"zt\",\n",
    "            value_name=\"frate\",\n",
    "        )\n",
    "        df[\"neuron_type\"] = ntype\n",
    "\n",
    "        # drop any rows from SD NREM with nans and then resample\n",
    "        df_sub = df[((df.grp == \"SD\") & ((df.zt == \"PRE\") | (df.zt == \"ZT 2.5-5\"))) | ((df.grp == \"NSD\") & (df.zt == \"PRE\"))]  # these are the sessions which can have 0 neurons\n",
    "        nan_bool = np.isnan(df_sub.frate)\n",
    "        ind_drop = df_sub.index[nan_bool]  # Indices in df to drop\n",
    "        df = df.drop(labels=df_sub.index[nan_bool], axis=0)  # drop nan indices\n",
    "        # now resample 10000 bootstraps!\n",
    "        df[\"zt\"] = pd.Categorical(df[\"zt\"], [\"PRE\", \"MAZE\", \"ZT 0-2.5\", \"ZT 2.5-5\", \"ZT 5-7.5\"])  # Make zt categorical to preserve epoch order\n",
    "        df = df.groupby([\"grp\", \"zt\", \"neuron_type\"], sort=\"zt\").sample(10000).reset_index()\n",
    "        \n",
    "        frate_bs_df.append(df)\n",
    "\n",
    "    frate_bs_df = pd.concat(frate_bs_df, ignore_index=True)\n",
    "    subjects.GroupData().save(\n",
    "        frate_bs_df, f\"frate_blocks_{state_name}_bootstrap_session_neurons\"\n",
    "    )"
   ]
  },
  {
   "cell_type": "markdown",
   "metadata": {},
   "source": [
    "### Bootstrap values of test statistic for normality tests\n",
    "We reported in the main text of Giri2023 et al.\n",
    "> Differences were also evident in the distributions of pyramidal cell firing rate, which\n",
    "were approximately log-normal during natural sleep, but were heavily skewed away from\n",
    "the log-normal during sleep deprivation, with a broader distribution of firing rates compared\n",
    "with natural sleep (NS2 IQR = 0.62 log(Hz), 𝑝𝑝 = 0.35, Shapiro-Wilk test (SWT) on log firing rates (df=442) vs SD2.\n",
    "\n",
    "To do this using bootstrap, we decided to calculate Shapiro-Wilk test statistic for each bootstrap and compare their distributions between NSD and SD."
   ]
  },
  {
   "cell_type": "code",
   "execution_count": null,
   "metadata": {
    "scrolled": true
   },
   "outputs": [],
   "source": [
    "frate_df = subjects.GroupData().frate_post_chunks\n",
    "frate_df = (\n",
    "    frate_df.pivot_table(\n",
    "        columns=[\"zt\"],\n",
    "        values=[\"frate\"],\n",
    "        index=[\"grp\", \"session\", \"neuron_id\", \"neuron_type\"],\n",
    "        sort=False,\n",
    "    )\n",
    "    .reset_index(col_level=1)\n",
    "    .droplevel(0, axis=1)\n",
    "    .drop([\"neuron_id\"], axis=1)\n",
    ")\n",
    "# frate_df = frate_df[frate_df[\"session\"] != 0]\n",
    "\n",
    "\n",
    "def func(df):\n",
    "    columns = [\"PRE\", \"MAZE\", \"0-2.5\", \"2.5-5\", \"5-7.5\"]\n",
    "    statistic = []\n",
    "    for col in columns:\n",
    "        statistic.append(\n",
    "            [\n",
    "                *stats.shapiro(np.log10(df.loc[:, col].values)),\n",
    "                *stats.skewtest(np.log10(df.loc[:, col].values)),\n",
    "                # stats.kurtosistest(np.log10(df.loc[:, col]))[0], # Warning for n<=20\n",
    "                # stats.normaltest(np.log10(df.loc[:, col]))[0], # warning for n<=20\n",
    "                stats.iqr(np.log10(df.loc[:, col].values)),\n",
    "            ]\n",
    "        )\n",
    "    statistic = np.array(statistic)\n",
    "    stat_df = pd.DataFrame(\n",
    "        statistic, columns=[\"shapiro\", \"shapiro_pvalue\", \"skew\", \"skew_pvalue\", \"iqr\"]\n",
    "    )\n",
    "    stat_df[\"zt\"] = columns\n",
    "    return stat_df\n",
    "frate_df_pyr = frate_df[frate_df.neuron_type == \"pyr\"]\n",
    "frate_stat_session_df_pyr = frate_df_pyr.groupby([\"session\", \"grp\"]).apply(func).reset_index()\n",
    "# subjects.GroupData().save(frate_stat_session_df, \"frate_normality_statistic_blocks\")\n",
    "subjects.GroupData().save(frate_stat_session_df_pyr, \"frate_normality_statistic_blocks_pyr_only\")\n",
    "\n",
    "frate_bs_df = []\n",
    "for n, ntype in enumerate([\"pyr\", \"inter\"]):\n",
    "    ntype_df = frate_df[frate_df.neuron_type == ntype].drop(\"neuron_type\", axis=1)\n",
    "    df = bootstrap_resample(ntype_df, level=\"both\", n_iter=10000, n_jobs=6, apply=func)\n",
    "    df[\"neuron_type\"] = ntype\n",
    "    frate_bs_df.append(df)\n",
    "\n",
    "frate_bs_df = pd.concat(frate_bs_df, ignore_index=True)\n",
    "\n",
    "subjects.GroupData().save(frate_bs_df, \"frate_normality_statistic_blocks_bootstrap\")"
   ]
  },
  {
   "cell_type": "code",
   "execution_count": null,
   "metadata": {
    "scrolled": true
   },
   "outputs": [],
   "source": [
    "# Display counts of int vs pyr for each session.\n",
    "frate_df.groupby([\"session\", \"grp\", \"neuron_type\"]).count()"
   ]
  },
  {
   "cell_type": "markdown",
   "metadata": {
    "jp-MarkdownHeadingCollapsed": true
   },
   "source": [
    "#### Same as above but statewise: NREM vs WAKE"
   ]
  },
  {
   "cell_type": "code",
   "execution_count": null,
   "metadata": {},
   "outputs": [],
   "source": [
    "frate_df = subjects.GroupData().frate_post_chunks_statewise\n",
    "frate_df = (\n",
    "    frate_df.pivot_table(\n",
    "        columns=[\"zt\"],\n",
    "        values=[\"frate\"],\n",
    "        index=[\"grp\", \"brainstate\", \"session\", \"neuron_id\", \"neuron_type\"],\n",
    "        sort=False,\n",
    "    )\n",
    "    .reset_index(col_level=1)\n",
    "    .droplevel(0, axis=1)\n",
    "    .drop([\"neuron_id\"], axis=1)\n",
    ")\n",
    "frate_df = frate_df.loc[(frate_df!=0).all(axis=1)] # Drop any cells that have a 0 firing rate at any point\n",
    "# frate_df = frate_df[frate_df[\"session\"] != 0]\n",
    "\n",
    "\n",
    "def func(df):\n",
    "    columns = [\"PRE\", \"MAZE\", \"0-2.5\", \"2.5-5\", \"5-7.5\"]\n",
    "    statistic = []\n",
    "    for col in columns:\n",
    "        statistic.append(\n",
    "            [\n",
    "                *stats.shapiro(np.log10(df.loc[:, col].values)),\n",
    "                *stats.skewtest(np.log10(df.loc[:, col].values)),\n",
    "                # stats.kurtosistest(np.log10(df.loc[:, col]))[0], # Warning for n<=20\n",
    "                # stats.normaltest(np.log10(df.loc[:, col]))[0], # warning for n<=20\n",
    "                stats.iqr(np.log10(df.loc[:, col].values)),\n",
    "            ]\n",
    "        )\n",
    "    statistic = np.array(statistic)\n",
    "    stat_df = pd.DataFrame(\n",
    "        statistic, columns=[\"shapiro\", \"shapiro_pvalue\", \"skew\", \"skew_pvalue\", \"iqr\"]\n",
    "    )\n",
    "    stat_df[\"zt\"] = columns\n",
    "    return stat_df\n",
    "frate_df_pyr = frate_df[frate_df.neuron_type == \"pyr\"]\n",
    "frate_stat_session_df_pyr = frate_df_pyr.groupby([\"grp\", \"brainstate\", \"session\"]).apply(func).reset_index()\n",
    "# subjects.GroupData().save(frate_stat_session_df, \"frate_normality_statistic_blocks_statewise\")\n",
    "subjects.GroupData().save(frate_stat_session_df_pyr, \"frate_normality_statistic_blocks_pyr_only_statewise\")\n",
    "\n",
    "frate_bs_df = []\n",
    "for st in [\"WK\", \"NREM\"]:\n",
    "    for n, ntype in enumerate([\"pyr\", \"inter\"]):\n",
    "        print(f\"{st} {ntype} bootstrapping\")\n",
    "        ntype_df = frate_df[(frate_df.neuron_type == ntype) & (frate_df.brainstate == st)].drop(\"neuron_type\", axis=1)\n",
    "        df = bootstrap_resample(ntype_df, level=\"both\", n_iter=10000, n_jobs=6, apply=func)\n",
    "        df[\"neuron_type\"] = ntype\n",
    "        df[\"brainstate\"] = st\n",
    "        frate_bs_df.append(df)\n",
    "\n",
    "frate_bs_df = pd.concat(frate_bs_df, ignore_index=True)\n",
    "\n",
    "subjects.GroupData().save(frate_bs_df, \"frate_normality_statistic_blocks_bootstrap_statewise\")"
   ]
  },
  {
   "cell_type": "markdown",
   "metadata": {},
   "source": [
    "#### Same as above but for QW vs AW"
   ]
  },
  {
   "cell_type": "code",
   "execution_count": 4,
   "metadata": {},
   "outputs": [
    {
     "name": "stdout",
     "output_type": "stream",
     "text": [
      "frate_normality_statistic_blocks_pyr_only_qw_aw saved\n",
      "QW pyr bootstrapping\n",
      "Running bootstraps for NSD group\n"
     ]
    },
    {
     "name": "stderr",
     "output_type": "stream",
     "text": [
      "100%|█████████████████████████████████████████████████████████████████████████████████████████████████████| 10000/10000 [00:18<00:00, 539.53it/s]\n"
     ]
    },
    {
     "name": "stdout",
     "output_type": "stream",
     "text": [
      "Running bootstraps for SD group\n"
     ]
    },
    {
     "name": "stderr",
     "output_type": "stream",
     "text": [
      "100%|█████████████████████████████████████████████████████████████████████████████████████████████████████| 10000/10000 [00:19<00:00, 510.46it/s]\n"
     ]
    },
    {
     "name": "stdout",
     "output_type": "stream",
     "text": [
      "QW inter bootstrapping\n",
      "Running bootstraps for NSD group\n"
     ]
    },
    {
     "name": "stderr",
     "output_type": "stream",
     "text": [
      "100%|█████████████████████████████████████████████████████████████████████████████████████████████████████| 10000/10000 [00:17<00:00, 588.22it/s]\n"
     ]
    },
    {
     "name": "stdout",
     "output_type": "stream",
     "text": [
      "Running bootstraps for SD group\n"
     ]
    },
    {
     "name": "stderr",
     "output_type": "stream",
     "text": [
      "100%|█████████████████████████████████████████████████████████████████████████████████████████████████████| 10000/10000 [00:18<00:00, 532.19it/s]\n"
     ]
    },
    {
     "name": "stdout",
     "output_type": "stream",
     "text": [
      "AW pyr bootstrapping\n",
      "Running bootstraps for NSD group\n"
     ]
    },
    {
     "name": "stderr",
     "output_type": "stream",
     "text": [
      "100%|█████████████████████████████████████████████████████████████████████████████████████████████████████| 10000/10000 [00:17<00:00, 561.55it/s]\n"
     ]
    },
    {
     "name": "stdout",
     "output_type": "stream",
     "text": [
      "Running bootstraps for SD group\n"
     ]
    },
    {
     "name": "stderr",
     "output_type": "stream",
     "text": [
      "100%|█████████████████████████████████████████████████████████████████████████████████████████████████████| 10000/10000 [00:19<00:00, 509.07it/s]\n"
     ]
    },
    {
     "name": "stdout",
     "output_type": "stream",
     "text": [
      "AW inter bootstrapping\n",
      "Running bootstraps for NSD group\n"
     ]
    },
    {
     "name": "stderr",
     "output_type": "stream",
     "text": [
      "100%|█████████████████████████████████████████████████████████████████████████████████████████████████████| 10000/10000 [00:17<00:00, 580.42it/s]\n"
     ]
    },
    {
     "name": "stdout",
     "output_type": "stream",
     "text": [
      "Running bootstraps for SD group\n"
     ]
    },
    {
     "name": "stderr",
     "output_type": "stream",
     "text": [
      "100%|█████████████████████████████████████████████████████████████████████████████████████████████████████| 10000/10000 [00:19<00:00, 523.37it/s]\n"
     ]
    },
    {
     "name": "stdout",
     "output_type": "stream",
     "text": [
      "frate_normality_statistic_blocks_bootstrap_qw_aw saved\n"
     ]
    }
   ],
   "source": [
    "frate_df = subjects.GroupData().frate_post_chunks_qw_aw\n",
    "frate_df = (\n",
    "    frate_df.pivot_table(\n",
    "        columns=[\"zt\"],\n",
    "        values=[\"frate\"],\n",
    "        index=[\"grp\", \"brainstate\", \"session\", \"neuron_id\", \"neuron_type\"],\n",
    "        sort=False,\n",
    "    )\n",
    "    .reset_index(col_level=1)\n",
    "    .droplevel(0, axis=1)\n",
    "    .drop([\"neuron_id\"], axis=1)\n",
    ")\n",
    "frate_df = frate_df.loc[(frate_df!=0).all(axis=1)] # Drop any cells that have a 0 firing rate at any point\n",
    "# frate_df = frate_df[frate_df[\"session\"] != 0]\n",
    "\n",
    "\n",
    "def func(df):\n",
    "    columns = [\"PRE\", \"MAZE\", \"ZT 0-2.5\", \"ZT 2.5-5\", \"ZT 5-7.5\"]\n",
    "    statistic = []\n",
    "    for col in columns:\n",
    "        statistic.append(\n",
    "            [\n",
    "                *stats.shapiro(np.log10(df.loc[:, col].values)),\n",
    "                *stats.skewtest(np.log10(df.loc[:, col].values)),\n",
    "                # stats.kurtosistest(np.log10(df.loc[:, col]))[0], # Warning for n<=20\n",
    "                # stats.normaltest(np.log10(df.loc[:, col]))[0], # warning for n<=20\n",
    "                stats.iqr(np.log10(df.loc[:, col].values)),\n",
    "            ]\n",
    "        )\n",
    "    statistic = np.array(statistic)\n",
    "    stat_df = pd.DataFrame(\n",
    "        statistic, columns=[\"shapiro\", \"shapiro_pvalue\", \"skew\", \"skew_pvalue\", \"iqr\"]\n",
    "    )\n",
    "    stat_df[\"zt\"] = columns\n",
    "    return stat_df\n",
    "frate_df_pyr = frate_df[frate_df.neuron_type == \"pyr\"]\n",
    "frate_stat_session_df_pyr = frate_df_pyr.groupby([\"grp\", \"brainstate\", \"session\"]).apply(func).reset_index()\n",
    "# subjects.GroupData().save(frate_stat_session_df, \"frate_normality_statistic_blocks_statewise\")\n",
    "subjects.GroupData().save(frate_stat_session_df_pyr, \"frate_normality_statistic_blocks_pyr_only_qw_aw\")\n",
    "\n",
    "frate_bs_df = []\n",
    "for st in [\"QW\", \"AW\"]:\n",
    "    for n, ntype in enumerate([\"pyr\", \"inter\"]):\n",
    "        print(f\"{st} {ntype} bootstrapping\")\n",
    "        ntype_df = frate_df[(frate_df.neuron_type == ntype) & (frate_df.brainstate == st)].drop(\"neuron_type\", axis=1)\n",
    "        df = bootstrap_resample(ntype_df, level=\"both\", n_iter=10000, n_jobs=6, apply=func)\n",
    "        df[\"neuron_type\"] = ntype\n",
    "        df[\"brainstate\"] = st\n",
    "        frate_bs_df.append(df)\n",
    "\n",
    "frate_bs_df = pd.concat(frate_bs_df, ignore_index=True)\n",
    "\n",
    "subjects.GroupData().save(frate_bs_df, \"frate_normality_statistic_blocks_bootstrap_qw_aw\")"
   ]
  },
  {
   "cell_type": "code",
   "execution_count": 6,
   "metadata": {},
   "outputs": [
    {
     "name": "stdout",
     "output_type": "stream",
     "text": [
      "Running bootstraps for NSD group\n"
     ]
    },
    {
     "name": "stderr",
     "output_type": "stream",
     "text": [
      "100%|█████████████████████████████████████████████████████████████████████████████████████████████████████| 10000/10000 [00:13<00:00, 767.58it/s]\n"
     ]
    },
    {
     "name": "stdout",
     "output_type": "stream",
     "text": [
      "Running bootstraps for SD group\n"
     ]
    },
    {
     "name": "stderr",
     "output_type": "stream",
     "text": [
      "100%|█████████████████████████████████████████████████████████████████████████████████████████████████████| 10000/10000 [00:13<00:00, 725.60it/s]\n"
     ]
    },
    {
     "name": "stdout",
     "output_type": "stream",
     "text": [
      "Running bootstraps for NSD group\n"
     ]
    },
    {
     "name": "stderr",
     "output_type": "stream",
     "text": [
      "100%|█████████████████████████████████████████████████████████████████████████████████████████████████████| 10000/10000 [00:12<00:00, 829.16it/s]\n"
     ]
    },
    {
     "name": "stdout",
     "output_type": "stream",
     "text": [
      "Running bootstraps for SD group\n"
     ]
    },
    {
     "name": "stderr",
     "output_type": "stream",
     "text": [
      "100%|█████████████████████████████████████████████████████████████████████████████████████████████████████| 10000/10000 [00:12<00:00, 770.28it/s]\n"
     ]
    },
    {
     "name": "stdout",
     "output_type": "stream",
     "text": [
      "frate_IQR_blocks_bootstrap_session_neurons_qw_aw saved\n"
     ]
    }
   ],
   "source": [
    "frate_df = subjects.GroupData().frate_post_chunks_qw_aw\n",
    "frate_df = (\n",
    "    frate_df.pivot_table(\n",
    "        columns=[\"zt\"],\n",
    "        values=[\"frate\"],\n",
    "        index=[\"grp\", \"brainstate\", \"session\", \"neuron_id\", \"neuron_type\"],\n",
    "        sort=False,\n",
    "    )\n",
    "    .reset_index(col_level=1)\n",
    "    .droplevel(0, axis=1)\n",
    "    .drop([\"neuron_id\"], axis=1)\n",
    ")\n",
    "\n",
    "func = (\n",
    "    lambda df: df.drop(\"session\", axis=1)\n",
    "    .groupby([\"grp\", \"brainstate\"])\n",
    "    .quantile([0.25, 0.75])\n",
    "    .diff()\n",
    "    .iloc[[1]]\n",
    "    .reset_index()\n",
    ")\n",
    "\n",
    "\n",
    "frate_bs_df = []\n",
    "for n, ntype in enumerate([\"pyr\", \"inter\"]):\n",
    "    ntype_df = frate_df[frate_df.neuron_type == ntype].drop(\"neuron_type\", axis=1)\n",
    "    df = bootstrap_resample(ntype_df, level=\"both\", n_iter=10000, n_jobs=6, apply=func)\n",
    "\n",
    "    df = pd.melt(\n",
    "        df,\n",
    "        id_vars=[\"grp\"],\n",
    "        value_vars=[\"PRE\", \"MAZE\", \"ZT 0-2.5\", \"ZT 2.5-5\", \"ZT 5-7.5\"],\n",
    "        var_name=\"zt\",\n",
    "        value_name=\"frate\",\n",
    "    )\n",
    "    df[\"neuron_type\"] = ntype\n",
    "    frate_bs_df.append(df)\n",
    "\n",
    "frate_bs_df = pd.concat(frate_bs_df, ignore_index=True)\n",
    "\n",
    "subjects.GroupData().save(frate_bs_df, \"frate_IQR_blocks_bootstrap_session_neurons_qw_aw\")"
   ]
  },
  {
   "cell_type": "markdown",
   "metadata": {
    "jp-MarkdownHeadingCollapsed": true
   },
   "source": [
    "#### FR distribution tests within ripples"
   ]
  },
  {
   "cell_type": "code",
   "execution_count": null,
   "metadata": {},
   "outputs": [],
   "source": [
    "frate_df = subjects.GroupData().frate_post_chunks\n",
    "frate_df = (\n",
    "    frate_df.pivot_table(\n",
    "        columns=[\"zt\"],\n",
    "        values=[\"frate\"],\n",
    "        index=[\"grp\", \"session\", \"neuron_id\", \"neuron_type\"],\n",
    "        sort=False,\n",
    "    )\n",
    "    .reset_index(col_level=1)\n",
    "    .droplevel(0, axis=1)\n",
    "    .drop([\"neuron_id\"], axis=1)\n",
    ")\n",
    "frate_df\n",
    "# frate_df = frate_df[frate_df[\"session\"] != 0]"
   ]
  },
  {
   "cell_type": "code",
   "execution_count": null,
   "metadata": {},
   "outputs": [],
   "source": [
    "frate_rip_df = subjects.GroupData().frate_in_ripple\n",
    "frate_rip_df = frate_rip_df[frate_rip_df[\"where\"] == \"inside\"]\n",
    "frate_rip_df = (\n",
    "    frate_rip_df.pivot_table(\n",
    "        columns=[\"zt\"],\n",
    "        values=[\"frate\"],\n",
    "        index=[\"grp\", \"session\", \"neuron_id\", \"neuron_type\"],\n",
    "        sort=False,\n",
    "    )\n",
    "    .reset_index(col_level=1)\n",
    "    .droplevel(0, axis=1)\n",
    "    .drop([\"neuron_id\"], axis=1)\n",
    ")\n",
    "frate_rip_df"
   ]
  },
  {
   "cell_type": "code",
   "execution_count": null,
   "metadata": {},
   "outputs": [],
   "source": [
    "frate_rip_df = subjects.GroupData().frate_in_ripple\n",
    "frate_rip_df = frate_rip_df[frate_rip_df[\"where\"] == \"inside\"]\n",
    "frate_rip_df = frate_rip_df.loc[(frate_rip_df!=0).all(axis=1)] # Drop any cells that have a 0 firing rate at any point\n",
    "frate_rip_df = (\n",
    "    frate_rip_df.pivot_table(\n",
    "        columns=[\"zt\"],\n",
    "        values=[\"frate\"],\n",
    "        index=[\"grp\", \"session\", \"neuron_id\", \"neuron_type\"],\n",
    "        sort=False,\n",
    "    )\n",
    "    .reset_index(col_level=1)\n",
    "    .droplevel(0, axis=1)\n",
    "    .drop([\"neuron_id\"], axis=1)\n",
    ")\n",
    "frate_rip_df\n",
    "\n",
    "def func(df):\n",
    "    columns = [\"PRE\", \"MAZE\", \"0-2.5\", \"2.5-5\", \"5-7.5\"]\n",
    "    statistic = []\n",
    "    for col in columns:\n",
    "        statistic.append(\n",
    "            [\n",
    "                *stats.shapiro(np.log10(df.loc[:, col].values)),\n",
    "                *stats.skewtest(np.log10(df.loc[:, col].values)),\n",
    "                # stats.kurtosistest(np.log10(df.loc[:, col]))[0], # Warning for n<=20\n",
    "                # stats.normaltest(np.log10(df.loc[:, col]))[0], # warning for n<=20\n",
    "                stats.iqr(np.log10(df.loc[:, col].values)),\n",
    "            ]\n",
    "        )\n",
    "    statistic = np.array(statistic)\n",
    "    stat_df = pd.DataFrame(\n",
    "        statistic, columns=[\"shapiro\", \"shapiro_pvalue\", \"skew\", \"skew_pvalue\", \"iqr\"]\n",
    "    )\n",
    "    stat_df[\"zt\"] = columns\n",
    "    return stat_df\n",
    "\n",
    "frate_rip_bs_df = []\n",
    "for n, ntype in enumerate([\"pyr\", \"inter\"]):\n",
    "    ntype_df = frate_rip_df[frate_rip_df.neuron_type == ntype].drop(\"neuron_type\", axis=1)\n",
    "    df = bootstrap_resample(ntype_df, level=\"both\", n_iter=10000, n_jobs=6, apply=func)\n",
    "    df[\"neuron_type\"] = ntype\n",
    "    frate_rip_bs_df.append(df)\n",
    "\n",
    "frate_rip_bs_df = pd.concat(frate_rip_bs_df, ignore_index=True)\n",
    "\n",
    "subjects.GroupData().save(frate_rip_bs_df, \"frate_win_ripple_normality_statistic_blocks_bootstrap\")"
   ]
  }
 ],
 "metadata": {
  "kernelspec": {
   "display_name": "Python 3 (ipykernel)",
   "language": "python",
   "name": "python3"
  },
  "language_info": {
   "codemirror_mode": {
    "name": "ipython",
    "version": 3
   },
   "file_extension": ".py",
   "mimetype": "text/x-python",
   "name": "python",
   "nbconvert_exporter": "python",
   "pygments_lexer": "ipython3",
   "version": "3.11.6"
  }
 },
 "nbformat": 4,
 "nbformat_minor": 4
}
