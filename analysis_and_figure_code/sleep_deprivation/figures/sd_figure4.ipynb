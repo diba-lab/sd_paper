{
    "cells": [
        {
            "cell_type": "markdown",
            "metadata": {},
            "source": [
                "### Figure 4 \n",
                "- Sliding template during sleep deprivation\n",
                "- Correlation across time window"
            ]
        },
        {
            "cell_type": "markdown",
            "metadata": {},
            "source": [
                "### load data"
            ]
        },
        {
            "cell_type": "code",
            "execution_count": null,
            "metadata": {},
            "outputs": [],
            "source": [
                "import matplotlib.pyplot as plt\n",
                "import numpy as np\n",
                "import subjects\n",
                "from subjects import stat_kw\n",
                "import plotters\n",
                "import pandas as pd\n",
                "import seaborn as sns\n",
                "from neuropy.plotting import Fig\n",
                "from scipy import stats\n",
                "from statannotations.Annotator import Annotator\n",
                "\n",
                "group = [\"NSD\", \"SD\"]\n",
                "grpdata = subjects.GroupData()\n",
                "pf_norm_tuning = grpdata.pf_norm_tuning\n",
                "\n",
                "\n",
                "# replay examples\n",
                "examples = grpdata.replay_examples\n",
                "\n",
                "# replay rate\n",
                "cont_events = grpdata.replay_continuous_events\n",
                "\n",
                "fig = Fig(\n",
                "    grid=(7, 6),\n",
                "    hspace=0.45,\n",
                "    wspace=0.5,\n",
                "    constrained_layout=False,\n",
                "    fontsize=5,\n",
                "    axis_lw=0.8,\n",
                "    tick_size=2,\n",
                ")\n",
                "filename = subjects.figpath_sd / \"figure4\"\n",
                "caption = \"Place cells: \\n(A) Place fields recorded during NSD and SD sessions.\""
            ]
        },
        {
            "cell_type": "markdown",
            "metadata": {},
            "source": [
                "### replay examples"
            ]
        },
        {
            "cell_type": "code",
            "execution_count": null,
            "metadata": {},
            "outputs": [],
            "source": [
                "subfig = fig.add_subfigure(fig.gs[1, 0:4])\n",
                "axs = subfig.subplots(2, 10)\n",
                "\n",
                "dt = 0.02 * 1000\n",
                "pf_cmaps = [\"Greys\", \"Reds\"]\n",
                "zts = examples.zt.unique()\n",
                "for i, grp in enumerate(group):\n",
                "    for i1, zt in enumerate(zts):\n",
                "        events = examples[(examples.grp == grp) & (examples.zt == zt)]\n",
                "        posteriors = events[\"posterior\"].to_list()\n",
                "        jumps = events[\"jd\"].to_list()\n",
                "\n",
                "        for i2, (p, jd) in enumerate(zip(posteriors, jumps)):\n",
                "            jd = jd / p.shape[0]\n",
                "            p = np.apply_along_axis(\n",
                "                np.convolve, axis=0, arr=p, v=np.ones(2 * 1 + 1), mode=\"same\"\n",
                "            )\n",
                "            nt = p.shape[1]\n",
                "\n",
                "            axs_col = 2 * i1 + i2\n",
                "            ax = axs[i, axs_col]\n",
                "\n",
                "            if grp == \"SD\" and zt == \"5-7.5\":\n",
                "                cmap = \"Blues\"\n",
                "            else:\n",
                "                cmap = pf_cmaps[i]\n",
                "\n",
                "            ax.pcolormesh(p, cmap=cmap, vmin=0, vmax=0.2, rasterized=True)\n",
                "            ax.text(\n",
                "                0.6, 7, f\"{np.round(jd,2)}\", color=\"#039be5\", fontdict=dict(fontsize=6)\n",
                "            )\n",
                "            ax.spines[\"right\"].set_visible(True)\n",
                "            ax.spines[\"top\"].set_visible(True)\n",
                "\n",
                "            if axs_col % 2 == 0 and grp == \"NSD\":\n",
                "                ax.set_title(zt)\n",
                "            if axs_col == 0:\n",
                "                yticks = np.arange(p.shape[0])\n",
                "                ax.set_yticks(yticks[[0, -1]], [0, 1])\n",
                "            else:\n",
                "                ax.set_yticks([])\n",
                "\n",
                "            ax.set_xticks([nt // 2], [int(nt * dt)])\n",
                "            ax.tick_params(length=0)"
            ]
        },
        {
            "cell_type": "markdown",
            "metadata": {},
            "source": [
                "### Proportion of continuos events"
            ]
        },
        {
            "cell_type": "code",
            "execution_count": null,
            "metadata": {},
            "outputs": [],
            "source": [
                "from statannotations.stats.StatTest import StatTest\n",
                "\n",
                "gs = fig.subplot2grid(\n",
                "    fig.gs[3:5, 0:2], grid=(2, 2), width_ratios=[2, 1], height_ratios=[2.5, 1]\n",
                ")\n",
                "ax = fig.subplot(gs[0])\n",
                "\n",
                "plot_kw = dict(\n",
                "    data=cont_events, x=\"zt\", y=\"prop\", hue=\"grp\", hue_order=[\"NSD\", \"SD\"], ax=ax\n",
                ")\n",
                "plotters.stripplot(**plot_kw, size=2.5)\n",
                "sns.barplot(**plot_kw, facecolor=\"w\", linewidth=0.5, edgecolor=\"0.2\", ci=None)\n",
                "\n",
                "# Across groups\n",
                "\n",
                "orders = cont_events.zt.unique()\n",
                "pairs = [((_, \"NSD\"), (_, \"SD\")) for _ in orders[1:]] + [\n",
                "    ((\"0-2.5\", \"NSD\"), (\"5-7.5\", \"SD\"))\n",
                "]\n",
                "# annotator = Annotator(pairs=pairs, **plot_kw, order=orders)\n",
                "# annotator.configure(test=\"Kruskal\", **stat_kw, color=\"#4AB33E\")\n",
                "# annotator.apply_and_annotate()\n",
                "# annotator.reset_configuration()\n",
                "\n",
                "custom_long_name = \"Wilcoxon_ranksum\"\n",
                "custom_short_name = \"Wilcoxon_ranksum\"\n",
                "custom_func = stats.ranksums\n",
                "custom_test = StatTest(custom_func, custom_long_name, custom_short_name)\n",
                "\n",
                "annotator = Annotator(pairs=pairs, **plot_kw, order=orders)\n",
                "annotator.configure(test=\"t-test_welch\", **subjects.stat_kw)\n",
                "# annotator.configure(\n",
                "#     test=custom_test, **subjects.stat_kw, color=\"k\", comparisons_correction=None\n",
                "# )\n",
                "\n",
                "annotator.apply_and_annotate()\n",
                "annotator.reset_configuration()\n",
                "\n",
                "# Within groups\n",
                "for i, g in enumerate([\"NSD\", \"SD\"]):\n",
                "    pairs2 = [((orders[_], g), (orders[_ + 1], g)) for _ in range(4)] + [\n",
                "        ((\"PRE\", g), (\"0-2.5\", g))\n",
                "    ]\n",
                "    annotator = Annotator(pairs=pairs2, **plot_kw, order=orders)\n",
                "    # annotator.configure(test=\"Wilcoxon\", **stat_kw, color=subjects.colors_sd(1)[i])\n",
                "    annotator.configure(test=\"t-test_paired\", **stat_kw, color=subjects.colors_sd(1)[i])\n",
                "    annotator.apply_and_annotate()\n",
                "    annotator.reset_configuration()"
            ]
        },
        {
            "attachments": {},
            "cell_type": "markdown",
            "metadata": {},
            "source": [
                "### ANOVA"
            ]
        },
        {
            "cell_type": "code",
            "execution_count": null,
            "metadata": {},
            "outputs": [],
            "source": [
                "cont_events"
            ]
        },
        {
            "cell_type": "code",
            "execution_count": null,
            "metadata": {},
            "outputs": [],
            "source": [
                "import pingouin as pg\n",
                "\n",
                "st = pg.mixed_anova(\n",
                "    data=cont_events[(cont_events.zt != \"PRE\")],\n",
                "    dv=\"prop\",\n",
                "    within=\"zt\",\n",
                "    between=\"grp\",\n",
                "    subject=\"name\",\n",
                ")\n",
                "pg.print_table(st)\n",
                "posthocs = pg.pairwise_tests(\n",
                "    dv=\"prop\",\n",
                "    within=\"zt\",\n",
                "    between=\"grp\",\n",
                "    subject=\"name\",\n",
                "    data=cont_events[~cont_events.zt.isin([\"PRE\", \"MAZE\"])],\n",
                ")\n",
                "pg.print_table(posthocs)"
            ]
        },
        {
            "cell_type": "markdown",
            "metadata": {},
            "source": [
                "### saving"
            ]
        },
        {
            "cell_type": "code",
            "execution_count": null,
            "metadata": {},
            "outputs": [],
            "source": [
                "# fig.savefig(filename)"
            ]
        }
    ],
    "metadata": {
        "interpreter": {
            "hash": "cce1618081139d19eb1ee8d40815d94a2de4f62e1efb20d9406ddb60628c36ae"
        },
        "kernelspec": {
            "display_name": "Python 3.10.4 ('data_analysis')",
            "language": "python",
            "name": "python3"
        },
        "language_info": {
            "codemirror_mode": {
                "name": "ipython",
                "version": 3
            },
            "file_extension": ".py",
            "mimetype": "text/x-python",
            "name": "python",
            "nbconvert_exporter": "python",
            "pygments_lexer": "ipython3",
            "version": "3.10.11"
        },
        "orig_nbformat": 4
    },
    "nbformat": 4,
    "nbformat_minor": 2
}
