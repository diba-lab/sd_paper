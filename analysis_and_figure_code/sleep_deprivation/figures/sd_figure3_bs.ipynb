{
 "cells": [
  {
   "attachments": {},
   "cell_type": "markdown",
   "metadata": {},
   "source": [
    "### Figure 3 : Explained variance"
   ]
  },
  {
   "cell_type": "code",
   "execution_count": 8,
   "metadata": {},
   "outputs": [
    {
     "name": "stdout",
     "output_type": "stream",
     "text": [
      "The autoreload extension is already loaded. To reload it, use:\n",
      "  %reload_ext autoreload\n"
     ]
    }
   ],
   "source": [
    "%load_ext autoreload\n",
    "%autoreload 2\n",
    "import sys\n",
    "sys.path.extend(['/home/nkinsky/Documents/GitHub/NeuroPy'])\n",
    "sys.path.extend(['/home/nkinsky/Documents/GitHubPrivate/pythonprogs/DataPaths/'])\n",
    "    \n",
    "import matplotlib.pyplot as plt\n",
    "import numpy as np\n",
    "import subjects\n",
    "import pandas as pd\n",
    "import seaborn as sns\n",
    "from neuropy.plotting import Fig\n",
    "from neuropy.utils.misc import flatten\n",
    "from scipy import stats\n",
    "from plotters import Plotter, get_nsd_vs_sd_df, add_zt_str, stats_to_df, filter_stats_df\n",
    "from stats_utils import get_bootstrap_prob, get_bootstrap_prob_paired\n",
    "import ev_utils\n",
    "\n",
    "grpdata = subjects.GroupData()\n",
    "ev_df = grpdata.ev_bootstrap_session_pairs_mean\n",
    "palette = subjects.colors_sd(1)"
   ]
  },
  {
   "cell_type": "markdown",
   "metadata": {},
   "source": [
    "### 3A and EDF3: Individual Session plots of EV with hypnograms\n",
    "See `sd_figure3.ipynb`.\n",
    "n value (# pairs) calculated in sd_expvar_bootstrap.ipynb"
   ]
  },
  {
   "attachments": {},
   "cell_type": "markdown",
   "metadata": {
    "jp-MarkdownHeadingCollapsed": true
   },
   "source": [
    "### 3D: EV blocks"
   ]
  },
  {
   "cell_type": "code",
   "execution_count": 9,
   "metadata": {},
   "outputs": [
    {
     "data": {
      "text/html": [
       "<div>\n",
       "<style scoped>\n",
       "    .dataframe tbody tr th:only-of-type {\n",
       "        vertical-align: middle;\n",
       "    }\n",
       "\n",
       "    .dataframe tbody tr th {\n",
       "        vertical-align: top;\n",
       "    }\n",
       "\n",
       "    .dataframe thead th {\n",
       "        text-align: right;\n",
       "    }\n",
       "</style>\n",
       "<table border=\"1\" class=\"dataframe\">\n",
       "  <thead>\n",
       "    <tr style=\"text-align: right;\">\n",
       "      <th></th>\n",
       "      <th>start</th>\n",
       "      <th>stop</th>\n",
       "      <th>label</th>\n",
       "      <th>sub</th>\n",
       "      <th>name</th>\n",
       "      <th>grp</th>\n",
       "    </tr>\n",
       "  </thead>\n",
       "  <tbody>\n",
       "    <tr>\n",
       "      <th>0</th>\n",
       "      <td>0.053688</td>\n",
       "      <td>0.086744</td>\n",
       "      <td>QW</td>\n",
       "      <td>0</td>\n",
       "      <td>RatKDay2</td>\n",
       "      <td>NSD</td>\n",
       "    </tr>\n",
       "    <tr>\n",
       "      <th>1</th>\n",
       "      <td>0.086744</td>\n",
       "      <td>0.125356</td>\n",
       "      <td>AW</td>\n",
       "      <td>0</td>\n",
       "      <td>RatKDay2</td>\n",
       "      <td>NSD</td>\n",
       "    </tr>\n",
       "    <tr>\n",
       "      <th>2</th>\n",
       "      <td>0.125356</td>\n",
       "      <td>0.127856</td>\n",
       "      <td>QW</td>\n",
       "      <td>0</td>\n",
       "      <td>RatKDay2</td>\n",
       "      <td>NSD</td>\n",
       "    </tr>\n",
       "    <tr>\n",
       "      <th>3</th>\n",
       "      <td>0.127856</td>\n",
       "      <td>0.165357</td>\n",
       "      <td>AW</td>\n",
       "      <td>0</td>\n",
       "      <td>RatKDay2</td>\n",
       "      <td>NSD</td>\n",
       "    </tr>\n",
       "    <tr>\n",
       "      <th>4</th>\n",
       "      <td>0.165357</td>\n",
       "      <td>0.168968</td>\n",
       "      <td>QW</td>\n",
       "      <td>0</td>\n",
       "      <td>RatKDay2</td>\n",
       "      <td>NSD</td>\n",
       "    </tr>\n",
       "    <tr>\n",
       "      <th>...</th>\n",
       "      <td>...</td>\n",
       "      <td>...</td>\n",
       "      <td>...</td>\n",
       "      <td>...</td>\n",
       "      <td>...</td>\n",
       "      <td>...</td>\n",
       "    </tr>\n",
       "    <tr>\n",
       "      <th>5316</th>\n",
       "      <td>8.853585</td>\n",
       "      <td>8.859696</td>\n",
       "      <td>REM</td>\n",
       "      <td>12</td>\n",
       "      <td>RatRDay2</td>\n",
       "      <td>SD</td>\n",
       "    </tr>\n",
       "    <tr>\n",
       "      <th>5317</th>\n",
       "      <td>8.859696</td>\n",
       "      <td>8.868585</td>\n",
       "      <td>AW</td>\n",
       "      <td>12</td>\n",
       "      <td>RatRDay2</td>\n",
       "      <td>SD</td>\n",
       "    </tr>\n",
       "    <tr>\n",
       "      <th>5318</th>\n",
       "      <td>8.868585</td>\n",
       "      <td>8.887196</td>\n",
       "      <td>QW</td>\n",
       "      <td>12</td>\n",
       "      <td>RatRDay2</td>\n",
       "      <td>SD</td>\n",
       "    </tr>\n",
       "    <tr>\n",
       "      <th>5319</th>\n",
       "      <td>8.887196</td>\n",
       "      <td>8.928031</td>\n",
       "      <td>NREM</td>\n",
       "      <td>12</td>\n",
       "      <td>RatRDay2</td>\n",
       "      <td>SD</td>\n",
       "    </tr>\n",
       "    <tr>\n",
       "      <th>5320</th>\n",
       "      <td>8.928031</td>\n",
       "      <td>9.002754</td>\n",
       "      <td>QW</td>\n",
       "      <td>12</td>\n",
       "      <td>RatRDay2</td>\n",
       "      <td>SD</td>\n",
       "    </tr>\n",
       "  </tbody>\n",
       "</table>\n",
       "<p>5321 rows × 6 columns</p>\n",
       "</div>"
      ],
      "text/plain": [
       "         start      stop label  sub      name  grp\n",
       "0     0.053688  0.086744    QW    0  RatKDay2  NSD\n",
       "1     0.086744  0.125356    AW    0  RatKDay2  NSD\n",
       "2     0.125356  0.127856    QW    0  RatKDay2  NSD\n",
       "3     0.127856  0.165357    AW    0  RatKDay2  NSD\n",
       "4     0.165357  0.168968    QW    0  RatKDay2  NSD\n",
       "...        ...       ...   ...  ...       ...  ...\n",
       "5316  8.853585  8.859696   REM   12  RatRDay2   SD\n",
       "5317  8.859696  8.868585    AW   12  RatRDay2   SD\n",
       "5318  8.868585  8.887196    QW   12  RatRDay2   SD\n",
       "5319  8.887196  8.928031  NREM   12  RatRDay2   SD\n",
       "5320  8.928031  9.002754    QW   12  RatRDay2   SD\n",
       "\n",
       "[5321 rows x 6 columns]"
      ]
     },
     "execution_count": 9,
     "metadata": {},
     "output_type": "execute_result"
    }
   ],
   "source": [
    "subjects.GroupData().ev_brain"
   ]
  },
  {
   "cell_type": "code",
   "execution_count": 2,
   "metadata": {},
   "outputs": [
    {
     "data": {
      "text/html": [
       "<div>\n",
       "<style scoped>\n",
       "    .dataframe tbody tr th:only-of-type {\n",
       "        vertical-align: middle;\n",
       "    }\n",
       "\n",
       "    .dataframe tbody tr th {\n",
       "        vertical-align: top;\n",
       "    }\n",
       "\n",
       "    .dataframe thead tr th {\n",
       "        text-align: left;\n",
       "    }\n",
       "</style>\n",
       "<table border=\"1\" class=\"dataframe\">\n",
       "  <thead>\n",
       "    <tr>\n",
       "      <th></th>\n",
       "      <th>grp</th>\n",
       "      <th>zt</th>\n",
       "      <th colspan=\"3\" halign=\"left\">ev</th>\n",
       "    </tr>\n",
       "    <tr>\n",
       "      <th></th>\n",
       "      <th></th>\n",
       "      <th></th>\n",
       "      <th>mean</th>\n",
       "      <th>median</th>\n",
       "      <th>&lt;lambda_0&gt;</th>\n",
       "    </tr>\n",
       "  </thead>\n",
       "  <tbody>\n",
       "    <tr>\n",
       "      <th>0</th>\n",
       "      <td>NSD</td>\n",
       "      <td>ZT 0-2.5</td>\n",
       "      <td>0.153941</td>\n",
       "      <td>0.152406</td>\n",
       "      <td>0.073714</td>\n",
       "    </tr>\n",
       "    <tr>\n",
       "      <th>1</th>\n",
       "      <td>NSD</td>\n",
       "      <td>ZT 2.5-5</td>\n",
       "      <td>0.082181</td>\n",
       "      <td>0.083875</td>\n",
       "      <td>0.048365</td>\n",
       "    </tr>\n",
       "    <tr>\n",
       "      <th>2</th>\n",
       "      <td>NSD</td>\n",
       "      <td>ZT 5-7.5</td>\n",
       "      <td>0.049061</td>\n",
       "      <td>0.039114</td>\n",
       "      <td>0.044435</td>\n",
       "    </tr>\n",
       "    <tr>\n",
       "      <th>3</th>\n",
       "      <td>SD</td>\n",
       "      <td>ZT 0-2.5</td>\n",
       "      <td>0.052267</td>\n",
       "      <td>0.047427</td>\n",
       "      <td>0.029289</td>\n",
       "    </tr>\n",
       "    <tr>\n",
       "      <th>4</th>\n",
       "      <td>SD</td>\n",
       "      <td>ZT 2.5-5</td>\n",
       "      <td>0.015491</td>\n",
       "      <td>0.015046</td>\n",
       "      <td>0.007677</td>\n",
       "    </tr>\n",
       "    <tr>\n",
       "      <th>5</th>\n",
       "      <td>SD</td>\n",
       "      <td>ZT 5-7.5</td>\n",
       "      <td>0.049542</td>\n",
       "      <td>0.051559</td>\n",
       "      <td>0.016294</td>\n",
       "    </tr>\n",
       "  </tbody>\n",
       "</table>\n",
       "</div>"
      ],
      "text/plain": [
       "   grp        zt        ev                     \n",
       "                      mean    median <lambda_0>\n",
       "0  NSD  ZT 0-2.5  0.153941  0.152406   0.073714\n",
       "1  NSD  ZT 2.5-5  0.082181  0.083875   0.048365\n",
       "2  NSD  ZT 5-7.5  0.049061  0.039114   0.044435\n",
       "3   SD  ZT 0-2.5  0.052267  0.047427   0.029289\n",
       "4   SD  ZT 2.5-5  0.015491  0.015046   0.007677\n",
       "5   SD  ZT 5-7.5  0.049542  0.051559   0.016294"
      ]
     },
     "execution_count": 2,
     "metadata": {},
     "output_type": "execute_result"
    }
   ],
   "source": [
    "boot_df = subjects.GroupData().ev_bootstrap_session_pairs\n",
    "boot_df.groupby([\"grp\", \"zt\"], sort=False).aggregate(\n",
    "    [\"mean\", \"median\", lambda x: x.quantile(0.75) - x.quantile(0.25)]\n",
    ").reset_index()"
   ]
  },
  {
   "cell_type": "code",
   "execution_count": 9,
   "metadata": {},
   "outputs": [
    {
     "name": "stdout",
     "output_type": "stream",
     "text": [
      "p-value annotation legend:\n",
      "      ns: 1.00e-01 < p <= 1.00e+00\n",
      "       #: 5.00e-02 < p <= 1.00e-01\n",
      "       *: 1.00e-02 < p <= 5.00e-02\n",
      "      **: 1.00e-03 < p <= 1.00e-02\n",
      "     ***: p <= 1.00e-03\n",
      "\n",
      "ZT 2.5-5_NSD vs. ZT 2.5-5_SD: get_bootstrap_prob, P_val:9.747e-04 Stat=3.169e+00\n",
      "ZT 0-2.5_NSD vs. ZT 0-2.5_SD: get_bootstrap_prob, P_val:2.289e-02 Stat=2.693e+00\n",
      "ZT 5-7.5_NSD vs. ZT 5-7.5_SD: get_bootstrap_prob, P_val:3.921e-01 Stat=1.979e-02\n",
      "ZT 0-2.5_NSD vs. ZT 5-7.5_SD: get_bootstrap_prob, P_val:7.847e-04 Stat=3.004e+00\n",
      "p-value annotation legend:\n",
      "      ns: 5.00e-02 < p <= 1.00e+00\n",
      "       #: 2.50e-02 < p <= 5.00e-02\n",
      "       *: 5.00e-03 < p <= 2.50e-02\n",
      "      **: 5.00e-04 < p <= 5.00e-03\n",
      "     ***: p <= 5.00e-04\n",
      "\n",
      "ZT 0-2.5_NSD vs. ZT 2.5-5_NSD: get_bootstrap_prob_paired, P_val:0.000e+00 Stat=7.176e-02\n",
      "ZT 2.5-5_NSD vs. ZT 5-7.5_NSD: get_bootstrap_prob_paired, P_val:3.430e-02 Stat=3.312e-02\n",
      "ZT 0-2.5_NSD vs. ZT 5-7.5_NSD: get_bootstrap_prob_paired, P_val:4.000e-04 Stat=1.049e-01\n",
      "p-value annotation legend:\n",
      "      ns: 5.00e-02 < p <= 1.00e+00\n",
      "       #: 2.50e-02 < p <= 5.00e-02\n",
      "       *: 5.00e-03 < p <= 2.50e-02\n",
      "      **: 5.00e-04 < p <= 5.00e-03\n",
      "     ***: p <= 5.00e-04\n",
      "\n",
      "ZT 0-2.5_SD vs. ZT 2.5-5_SD: get_bootstrap_prob_paired, P_val:5.000e-04 Stat=3.678e-02\n",
      "ZT 2.5-5_SD vs. ZT 5-7.5_SD: get_bootstrap_prob_paired, P_val:6.200e-03 Stat=-3.405e-02\n",
      "ZT 0-2.5_SD vs. ZT 5-7.5_SD: get_bootstrap_prob_paired, P_val:4.249e-01 Stat=2.725e-03\n"
     ]
    },
    {
     "data": {
      "image/png": "[encoded data removed]",
      "text/plain": [
       "<Figure size 850x1100 with 1 Axes>"
      ]
     },
     "metadata": {},
     "output_type": "display_data"
    }
   ],
   "source": [
    "fig = subjects.SdFig().fig3()\n",
    "ax = fig.subplot(fig.gs[:2, 4])\n",
    "boot_df = add_zt_str(grpdata.ev_bootstrap_session_pairs)\n",
    "ev_df = add_zt_str(grpdata.ev_in_chunks)\n",
    "\n",
    "results_list = []\n",
    "p1 = Plotter(data=boot_df, x=\"zt\", y=\"ev\", hue=\"grp\", hue_order=[\"NSD\", \"SD\"], ax=ax)\n",
    "results_list.append(p1.boxplot_sd2(palette=palette, zorder=3).stat_anot_sd(\n",
    "    stat_within=get_bootstrap_prob_paired,\n",
    "    stat_across=get_bootstrap_prob,\n",
    "    alpha_across=[0.05, 0.01, 0.001],\n",
    "    alpha_within=[0.025, 0.005, 0.0005],\n",
    "    fontsize=5,\n",
    "    verbose=True,\n",
    "))\n",
    "\n",
    "palette_light = subjects.colors_sd_light(1)\n",
    "p2 = Plotter(data=ev_df, x=\"zt\", y=\"ev\", hue=\"grp\", hue_order=[\"NSD\", \"SD\"])\n",
    "p2.striplineplot_sd(palette=palette_light)\n",
    "\n",
    "fig.savefig(subjects.figpath_sd / \"ev_blocks\", format=\"svg\")"
   ]
  },
  {
   "cell_type": "code",
   "execution_count": 7,
   "metadata": {},
   "outputs": [
    {
     "data": {
      "text/html": [
       "<div>\n",
       "<style scoped>\n",
       "    .dataframe tbody tr th:only-of-type {\n",
       "        vertical-align: middle;\n",
       "    }\n",
       "\n",
       "    .dataframe tbody tr th {\n",
       "        vertical-align: top;\n",
       "    }\n",
       "\n",
       "    .dataframe thead th {\n",
       "        text-align: right;\n",
       "    }\n",
       "</style>\n",
       "<table border=\"1\" class=\"dataframe\">\n",
       "  <thead>\n",
       "    <tr style=\"text-align: right;\">\n",
       "      <th></th>\n",
       "      <th>comp1</th>\n",
       "      <th>comp2</th>\n",
       "      <th>test</th>\n",
       "      <th>pval</th>\n",
       "      <th>test_stat</th>\n",
       "    </tr>\n",
       "  </thead>\n",
       "  <tbody>\n",
       "    <tr>\n",
       "      <th>0</th>\n",
       "      <td>ZT 2.5-5_NSD</td>\n",
       "      <td>ZT 2.5-5_SD</td>\n",
       "      <td>get_bootstrap_prob,</td>\n",
       "      <td>9.747e-04</td>\n",
       "      <td>3.169e+00</td>\n",
       "    </tr>\n",
       "    <tr>\n",
       "      <th>1</th>\n",
       "      <td>ZT 0-2.5_NSD</td>\n",
       "      <td>ZT 0-2.5_SD</td>\n",
       "      <td>get_bootstrap_prob,</td>\n",
       "      <td>2.289e-02</td>\n",
       "      <td>2.693e+00</td>\n",
       "    </tr>\n",
       "    <tr>\n",
       "      <th>2</th>\n",
       "      <td>ZT 5-7.5_NSD</td>\n",
       "      <td>ZT 5-7.5_SD</td>\n",
       "      <td>get_bootstrap_prob,</td>\n",
       "      <td>3.921e-01</td>\n",
       "      <td>1.979e-02</td>\n",
       "    </tr>\n",
       "    <tr>\n",
       "      <th>3</th>\n",
       "      <td>ZT 0-2.5_NSD</td>\n",
       "      <td>ZT 5-7.5_SD</td>\n",
       "      <td>get_bootstrap_prob,</td>\n",
       "      <td>7.847e-04</td>\n",
       "      <td>3.004e+00</td>\n",
       "    </tr>\n",
       "    <tr>\n",
       "      <th>4</th>\n",
       "      <td>ZT 0-2.5_NSD</td>\n",
       "      <td>ZT 2.5-5_NSD</td>\n",
       "      <td>get_bootstrap_prob_paired,</td>\n",
       "      <td>0.000e+00</td>\n",
       "      <td>7.176e-02</td>\n",
       "    </tr>\n",
       "    <tr>\n",
       "      <th>5</th>\n",
       "      <td>ZT 2.5-5_NSD</td>\n",
       "      <td>ZT 5-7.5_NSD</td>\n",
       "      <td>get_bootstrap_prob_paired,</td>\n",
       "      <td>3.430e-02</td>\n",
       "      <td>3.312e-02</td>\n",
       "    </tr>\n",
       "    <tr>\n",
       "      <th>6</th>\n",
       "      <td>ZT 0-2.5_NSD</td>\n",
       "      <td>ZT 5-7.5_NSD</td>\n",
       "      <td>get_bootstrap_prob_paired,</td>\n",
       "      <td>4.000e-04</td>\n",
       "      <td>1.049e-01</td>\n",
       "    </tr>\n",
       "    <tr>\n",
       "      <th>7</th>\n",
       "      <td>ZT 0-2.5_SD</td>\n",
       "      <td>ZT 2.5-5_SD</td>\n",
       "      <td>get_bootstrap_prob_paired,</td>\n",
       "      <td>5.000e-04</td>\n",
       "      <td>3.678e-02</td>\n",
       "    </tr>\n",
       "    <tr>\n",
       "      <th>8</th>\n",
       "      <td>ZT 2.5-5_SD</td>\n",
       "      <td>ZT 5-7.5_SD</td>\n",
       "      <td>get_bootstrap_prob_paired,</td>\n",
       "      <td>6.200e-03</td>\n",
       "      <td>-3.405e-02</td>\n",
       "    </tr>\n",
       "    <tr>\n",
       "      <th>9</th>\n",
       "      <td>ZT 0-2.5_SD</td>\n",
       "      <td>ZT 5-7.5_SD</td>\n",
       "      <td>get_bootstrap_prob_paired,</td>\n",
       "      <td>4.249e-01</td>\n",
       "      <td>2.725e-03</td>\n",
       "    </tr>\n",
       "  </tbody>\n",
       "</table>\n",
       "</div>"
      ],
      "text/plain": [
       "          comp1         comp2                        test       pval  \\\n",
       "0  ZT 2.5-5_NSD   ZT 2.5-5_SD         get_bootstrap_prob,  9.747e-04   \n",
       "1  ZT 0-2.5_NSD   ZT 0-2.5_SD         get_bootstrap_prob,  2.289e-02   \n",
       "2  ZT 5-7.5_NSD   ZT 5-7.5_SD         get_bootstrap_prob,  3.921e-01   \n",
       "3  ZT 0-2.5_NSD   ZT 5-7.5_SD         get_bootstrap_prob,  7.847e-04   \n",
       "4  ZT 0-2.5_NSD  ZT 2.5-5_NSD  get_bootstrap_prob_paired,  0.000e+00   \n",
       "5  ZT 2.5-5_NSD  ZT 5-7.5_NSD  get_bootstrap_prob_paired,  3.430e-02   \n",
       "6  ZT 0-2.5_NSD  ZT 5-7.5_NSD  get_bootstrap_prob_paired,  4.000e-04   \n",
       "7   ZT 0-2.5_SD   ZT 2.5-5_SD  get_bootstrap_prob_paired,  5.000e-04   \n",
       "8   ZT 2.5-5_SD   ZT 5-7.5_SD  get_bootstrap_prob_paired,  6.200e-03   \n",
       "9   ZT 0-2.5_SD   ZT 5-7.5_SD  get_bootstrap_prob_paired,  4.249e-01   \n",
       "\n",
       "    test_stat  \n",
       "0   3.169e+00  \n",
       "1   2.693e+00  \n",
       "2   1.979e-02  \n",
       "3   3.004e+00  \n",
       "4   7.176e-02  \n",
       "5   3.312e-02  \n",
       "6   1.049e-01  \n",
       "7   3.678e-02  \n",
       "8  -3.405e-02  \n",
       "9   2.725e-03  "
      ]
     },
     "execution_count": 7,
     "metadata": {},
     "output_type": "execute_result"
    }
   ],
   "source": [
    "results_df = stats_to_df(results_list)\n",
    "results_df"
   ]
  },
  {
   "cell_type": "code",
   "execution_count": 18,
   "metadata": {},
   "outputs": [
    {
     "data": {
      "text/html": [
       "<div>\n",
       "<style scoped>\n",
       "    .dataframe tbody tr th:only-of-type {\n",
       "        vertical-align: middle;\n",
       "    }\n",
       "\n",
       "    .dataframe tbody tr th {\n",
       "        vertical-align: top;\n",
       "    }\n",
       "\n",
       "    .dataframe thead th {\n",
       "        text-align: right;\n",
       "    }\n",
       "</style>\n",
       "<table border=\"1\" class=\"dataframe\">\n",
       "  <thead>\n",
       "    <tr style=\"text-align: right;\">\n",
       "      <th></th>\n",
       "      <th>comp1</th>\n",
       "      <th>comp2</th>\n",
       "      <th>test</th>\n",
       "      <th>pval</th>\n",
       "      <th>test_stat</th>\n",
       "    </tr>\n",
       "  </thead>\n",
       "  <tbody>\n",
       "    <tr>\n",
       "      <th>0</th>\n",
       "      <td>ZT 2.5-5_NSD</td>\n",
       "      <td>ZT 2.5-5_SD</td>\n",
       "      <td>get_bootstrap_prob,</td>\n",
       "      <td>9.747e-04</td>\n",
       "      <td>3.169e+00</td>\n",
       "    </tr>\n",
       "    <tr>\n",
       "      <th>1</th>\n",
       "      <td>ZT 0-2.5_NSD</td>\n",
       "      <td>ZT 0-2.5_SD</td>\n",
       "      <td>get_bootstrap_prob,</td>\n",
       "      <td>2.289e-02</td>\n",
       "      <td>2.693e+00</td>\n",
       "    </tr>\n",
       "    <tr>\n",
       "      <th>2</th>\n",
       "      <td>ZT 5-7.5_NSD</td>\n",
       "      <td>ZT 5-7.5_SD</td>\n",
       "      <td>get_bootstrap_prob,</td>\n",
       "      <td>3.921e-01</td>\n",
       "      <td>1.979e-02</td>\n",
       "    </tr>\n",
       "    <tr>\n",
       "      <th>3</th>\n",
       "      <td>ZT 0-2.5_NSD</td>\n",
       "      <td>ZT 5-7.5_SD</td>\n",
       "      <td>get_bootstrap_prob,</td>\n",
       "      <td>7.847e-04</td>\n",
       "      <td>3.004e+00</td>\n",
       "    </tr>\n",
       "    <tr>\n",
       "      <th>4</th>\n",
       "      <td>ZT 0-2.5_NSD</td>\n",
       "      <td>ZT 2.5-5_NSD</td>\n",
       "      <td>get_bootstrap_prob_paired,</td>\n",
       "      <td>0.000e+00</td>\n",
       "      <td>7.176e-02</td>\n",
       "    </tr>\n",
       "    <tr>\n",
       "      <th>5</th>\n",
       "      <td>ZT 2.5-5_NSD</td>\n",
       "      <td>ZT 5-7.5_NSD</td>\n",
       "      <td>get_bootstrap_prob_paired,</td>\n",
       "      <td>3.430e-02</td>\n",
       "      <td>3.312e-02</td>\n",
       "    </tr>\n",
       "    <tr>\n",
       "      <th>6</th>\n",
       "      <td>ZT 0-2.5_NSD</td>\n",
       "      <td>ZT 5-7.5_NSD</td>\n",
       "      <td>get_bootstrap_prob_paired,</td>\n",
       "      <td>4.000e-04</td>\n",
       "      <td>1.049e-01</td>\n",
       "    </tr>\n",
       "    <tr>\n",
       "      <th>7</th>\n",
       "      <td>ZT 0-2.5_SD</td>\n",
       "      <td>ZT 2.5-5_SD</td>\n",
       "      <td>get_bootstrap_prob_paired,</td>\n",
       "      <td>5.000e-04</td>\n",
       "      <td>3.678e-02</td>\n",
       "    </tr>\n",
       "    <tr>\n",
       "      <th>8</th>\n",
       "      <td>ZT 2.5-5_SD</td>\n",
       "      <td>ZT 5-7.5_SD</td>\n",
       "      <td>get_bootstrap_prob_paired,</td>\n",
       "      <td>6.200e-03</td>\n",
       "      <td>-3.405e-02</td>\n",
       "    </tr>\n",
       "    <tr>\n",
       "      <th>9</th>\n",
       "      <td>ZT 0-2.5_SD</td>\n",
       "      <td>ZT 5-7.5_SD</td>\n",
       "      <td>get_bootstrap_prob_paired,</td>\n",
       "      <td>4.249e-01</td>\n",
       "      <td>2.725e-03</td>\n",
       "    </tr>\n",
       "  </tbody>\n",
       "</table>\n",
       "</div>"
      ],
      "text/plain": [
       "          comp1         comp2                        test       pval  \\\n",
       "0  ZT 2.5-5_NSD   ZT 2.5-5_SD         get_bootstrap_prob,  9.747e-04   \n",
       "1  ZT 0-2.5_NSD   ZT 0-2.5_SD         get_bootstrap_prob,  2.289e-02   \n",
       "2  ZT 5-7.5_NSD   ZT 5-7.5_SD         get_bootstrap_prob,  3.921e-01   \n",
       "3  ZT 0-2.5_NSD   ZT 5-7.5_SD         get_bootstrap_prob,  7.847e-04   \n",
       "4  ZT 0-2.5_NSD  ZT 2.5-5_NSD  get_bootstrap_prob_paired,  0.000e+00   \n",
       "5  ZT 2.5-5_NSD  ZT 5-7.5_NSD  get_bootstrap_prob_paired,  3.430e-02   \n",
       "6  ZT 0-2.5_NSD  ZT 5-7.5_NSD  get_bootstrap_prob_paired,  4.000e-04   \n",
       "7   ZT 0-2.5_SD   ZT 2.5-5_SD  get_bootstrap_prob_paired,  5.000e-04   \n",
       "8   ZT 2.5-5_SD   ZT 5-7.5_SD  get_bootstrap_prob_paired,  6.200e-03   \n",
       "9   ZT 0-2.5_SD   ZT 5-7.5_SD  get_bootstrap_prob_paired,  4.249e-01   \n",
       "\n",
       "    test_stat  \n",
       "0   3.169e+00  \n",
       "1   2.693e+00  \n",
       "2   1.979e-02  \n",
       "3   3.004e+00  \n",
       "4   7.176e-02  \n",
       "5   3.312e-02  \n",
       "6   1.049e-01  \n",
       "7   3.678e-02  \n",
       "8  -3.405e-02  \n",
       "9   2.725e-03  "
      ]
     },
     "execution_count": 18,
     "metadata": {},
     "output_type": "execute_result"
    }
   ],
   "source": [
    "# Display stats for spreadsheet\n",
    "pd.DataFrame(flatten(flatten(results_list)), columns=[\"comp1\", \"comp2\", \"test\", \"pval\", \"test_stat\"])"
   ]
  },
  {
   "cell_type": "markdown",
   "metadata": {
    "jp-MarkdownHeadingCollapsed": true
   },
   "source": [
    "### EV in 1h blocks"
   ]
  },
  {
   "cell_type": "code",
   "execution_count": 12,
   "metadata": {},
   "outputs": [
    {
     "name": "stdout",
     "output_type": "stream",
     "text": [
      "p-value annotation legend:\n",
      "      ns: 1.00e-01 < p <= 1.00e+00\n",
      "       #: 5.00e-02 < p <= 1.00e-01\n",
      "       *: 1.00e-02 < p <= 5.00e-02\n",
      "      **: 1.00e-03 < p <= 1.00e-02\n",
      "     ***: p <= 1.00e-03\n",
      "\n",
      "4-5_NSD vs. 4-5_SD: get_bootstrap_prob, P_val:7.801e-04 Stat=2.851e+00\n",
      "0-1_NSD vs. 0-1_SD: get_bootstrap_prob, P_val:1.557e-01 Stat=1.345e+00\n",
      "5-6_NSD vs. 5-6_SD: get_bootstrap_prob, P_val:4.394e-01 Stat=1.948e-01\n",
      "0-1_NSD vs. 5-6_SD: get_bootstrap_prob, P_val:2.739e-02 Stat=1.987e+00\n",
      "p-value annotation legend:\n",
      "      ns: 5.00e-02 < p <= 1.00e+00\n",
      "       #: 2.50e-02 < p <= 5.00e-02\n",
      "       *: 5.00e-03 < p <= 2.50e-02\n",
      "      **: 5.00e-04 < p <= 5.00e-03\n",
      "     ***: p <= 5.00e-04\n",
      "\n",
      "0-1_NSD vs. 4-5_NSD: get_bootstrap_prob_paired, P_val:1.160e-02 Stat=4.696e-02\n",
      "4-5_NSD vs. 5-6_NSD: get_bootstrap_prob_paired, P_val:2.119e-01 Stat=1.966e-02\n",
      "0-1_NSD vs. 5-6_NSD: get_bootstrap_prob_paired, P_val:1.500e-03 Stat=6.662e-02\n",
      "p-value annotation legend:\n",
      "      ns: 5.00e-02 < p <= 1.00e+00\n",
      "       #: 2.50e-02 < p <= 5.00e-02\n",
      "       *: 5.00e-03 < p <= 2.50e-02\n",
      "      **: 5.00e-04 < p <= 5.00e-03\n",
      "     ***: p <= 5.00e-04\n",
      "\n",
      "0-1_SD vs. 4-5_SD: get_bootstrap_prob_paired, P_val:0.000e+00 Stat=5.032e-02\n",
      "4-5_SD vs. 5-6_SD: get_bootstrap_prob_paired, P_val:0.000e+00 Stat=-3.311e-02\n",
      "0-1_SD vs. 5-6_SD: get_bootstrap_prob_paired, P_val:3.180e-01 Stat=1.720e-02\n"
     ]
    },
    {
     "data": {
      "image/png": "[encoded data removed]",
      "text/plain": [
       "<Figure size 850x1100 with 1 Axes>"
      ]
     },
     "metadata": {},
     "output_type": "display_data"
    }
   ],
   "source": [
    "fig = subjects.SdFig().fig3()\n",
    "ax = fig.subplot(fig.gs[:2, 4])\n",
    "boot_df = add_zt_str(grpdata.ev_1h_blocks_bootstrap)\n",
    "ev_df = add_zt_str(grpdata.ev_in_chunks1h)\n",
    "\n",
    "p1 = Plotter(data=boot_df, x=\"zt\", y=\"ev\", hue=\"grp\", hue_order=[\"NSD\", \"SD\"], ax=ax)\n",
    "p1.boxplot_sd2(palette=palette, zorder=3).stat_anot_sd(\n",
    "    stat_within=get_bootstrap_prob_paired,\n",
    "    stat_across=get_bootstrap_prob,\n",
    "    alpha_across=[0.05, 0.01, 0.001],\n",
    "    alpha_within=[0.025, 0.005, 0.0005],\n",
    "    fontsize=5,\n",
    "    verbose=True,\n",
    ")\n",
    "\n",
    "palette_light = subjects.colors_sd_light(1)\n",
    "p2 = Plotter(data=ev_df, x=\"zt\", y=\"ev\", hue=\"grp\", hue_order=[\"NSD\", \"SD\"])\n",
    "p2.striplineplot_sd(palette=palette_light)\n",
    "\n",
    "fig.savefig(subjects.figpath_sd / \"ev_1h_blocks\", format=\"svg\")"
   ]
  },
  {
   "cell_type": "markdown",
   "metadata": {
    "jp-MarkdownHeadingCollapsed": true
   },
   "source": [
    "### EDF 5A-B: EV vs time on maze / running distance on maze"
   ]
  },
  {
   "cell_type": "code",
   "execution_count": null,
   "metadata": {
    "scrolled": true
   },
   "outputs": [],
   "source": [
    "# Sanity check code to see if I can infer laps from up/down maze running designations\n",
    "# Answer = no, would need to merge_neighbors AND then ensure that the start and ends of each run were in the start/end zones of the track.\n",
    "# Very messy, try just using total distance run on track first\n",
    "sess = subjects.ripple_sess()[-1]\n",
    "_, ax =  plt.subplots(1, 1, figsize=(12,2), sharex=True)\n",
    "ax.plot(sess.maze.time, sess.maze.x)\n",
    "for lap in sess.maze_run.merge_neighbors(5).itertuples():\n",
    "    color = [1, 0, 0, 0.2] if lap.label == \"up\" else [0, 1, 0, 0.2]\n",
    "    ax.axvspan(lap.start, lap.stop, color=color)"
   ]
  },
  {
   "cell_type": "code",
   "execution_count": null,
   "metadata": {},
   "outputs": [],
   "source": [
    "# Assemble maze time/duration dataframe\n",
    "sessions = subjects.ripple_sess()\n",
    "\n",
    "maze_time, maze_dist, sess_name, sess_num, grp_list = [], [], [], [], []\n",
    "for sess in sessions:\n",
    "    if sess.name in ev_df.name.unique():\n",
    "        sess_name.append(sess.name)\n",
    "        maze_dist.append(np.abs(np.diff(sess.maze.x)).sum()/100)\n",
    "        maze_time.append(sess.maze.duration)\n",
    "        sess_num.append(ev_df[ev_df.name == sess.name].session.unique()[0])\n",
    "        grp_list.append(ev_df[ev_df.name == sess.name].grp.unique()[0])\n",
    "maze_df = pd.DataFrame({\"maze_time\": maze_time, \"maze_dist\": maze_dist, \"name\": sess_name,\n",
    "                        \"session\": sess_num, \"grp\": grp_list})\n",
    "maze_df.head(4)"
   ]
  },
  {
   "cell_type": "code",
   "execution_count": null,
   "metadata": {},
   "outputs": [],
   "source": [
    "# Now plot it\n",
    "for fname, feature in zip([\"Distance run (m)\", \"Time on Maze (sec)\"], [\"maze_dist\", \"maze_time\"]):\n",
    "    # fig, ax = plt.subplots(2, 3, figsize=(12, 6))\n",
    "    # fig = subjects.SdFig().fig3()\n",
    "    fig = subjects.SdFig().fig_supp()\n",
    "    # ax = fig.subplot(fig.gs[:2, 4])\n",
    "    # fig.fig.suptitle(feature)\n",
    "    for idg, grp in enumerate([\"NSD\", \"SD\"]):\n",
    "        color_use = subjects.colors_sd(1)[idg]\n",
    "        for idz, zt in enumerate([\"ZT 0-2.5\", \"ZT 2.5-5\", \"ZT 5-7.5\"]):\n",
    "            ax = fig.subplot(fig.gs[(idg*2 + idg):((idg+1)*2+ idg), idz])\n",
    "            df_maze_use = maze_df[maze_df.grp == grp]\n",
    "            df_ev_use = ev_df[(ev_df.grp == grp) & (ev_df.zt == zt)]\n",
    "            df_use = df_maze_use.merge(df_ev_use, on=\"name\", suffixes=(None, \"_y\"))\n",
    "            sns.scatterplot(data=df_use, x=feature, y=\"ev\", ax=ax, color=color_use)\n",
    "\n",
    "            lr = stats.linregress(df_use[feature], df_use.ev)\n",
    "            xlims = np.array(ax.get_xlim())\n",
    "            ax.plot(xlims, xlims*lr.slope + lr.intercept, color=color_use)\n",
    "            ax.set_title(f\"{grp} {zt}\\nr={lr.rvalue:.3g}, p={lr.pvalue:.3g}\")\n",
    "            ax.set_xlabel(f\"{fname}\")\n",
    "            ax.set_ylabel(\"EV\")\n",
    "    fig.savefig(subjects.figpath_sd / f\"ev_vs_{feature}\", format=\"svg\")\n",
    "            "
   ]
  },
  {
   "attachments": {},
   "cell_type": "markdown",
   "metadata": {
    "jp-MarkdownHeadingCollapsed": true
   },
   "source": [
    "### EV within NREM and WAKE\n",
    "Similar to 3B but w/o rigorous alignment to sleep onset"
   ]
  },
  {
   "cell_type": "code",
   "execution_count": 3,
   "metadata": {},
   "outputs": [
    {
     "data": {
      "image/png": "[encoded data removed]",
      "text/plain": [
       "<Figure size 850x1100 with 6 Axes>"
      ]
     },
     "metadata": {},
     "output_type": "display_data"
    }
   ],
   "source": [
    "nrem_duration_df = grpdata.nrem_duration_NREM\n",
    "wake_duration_df = grpdata.wake_duration_aligned_by_WAKE\n",
    "nrem_df = grpdata.ev_NREM_bootstrap\n",
    "nrem_df[\"zt\"] = nrem_df[\"zt\"].astype(\"float\") * (5 / 60)\n",
    "wake_df = grpdata.ev_aligned_by_WAKE\n",
    "wake_df[\"zt\"] = wake_df[\"zt\"].astype(\"float\") * (5 / 60)\n",
    "\n",
    "fig = subjects.SdFig().fig3()\n",
    "subfig = fig.add_subfigure(fig.gs[:2, :2])\n",
    "axs = subfig.subplots(3, 2, sharex=True, sharey=\"row\", height_ratios=[1, 1, 2.5])\n",
    "\n",
    "\n",
    "for i, df in enumerate([nrem_duration_df, wake_duration_df]):\n",
    "    mean_duration = df.groupby([\"grp\", \"zt\"]).mean(numeric_only=True).reset_index()\n",
    "    mean_duration[\"zt\"] = mean_duration[\"zt\"].astype(\"float\") * (5 / 60)\n",
    "    mean_duration[\"duration\"] = mean_duration[\"duration\"] / (900)\n",
    "\n",
    "    ax = axs[1, i]\n",
    "    plotter = Plotter(data=mean_duration, x=\"zt\", y=\"duration\", hue=\"grp\", ax=ax)\n",
    "    plotter.areaplot(palette=subjects.colors_sd())\n",
    "    ax.set_ylim(0, 1)\n",
    "\n",
    "for line in ax.lines:\n",
    "    line.get_xydata()\n",
    "\n",
    "for i, df in enumerate([nrem_df, wake_df]):\n",
    "    ax = axs[2, i]\n",
    "    sns.lineplot(\n",
    "        data=df,\n",
    "        x=\"zt\",\n",
    "        y=\"ev\",\n",
    "        hue=\"grp\",\n",
    "        palette=subjects.colors_sd(),\n",
    "        ci=\"sd\",\n",
    "        ax=ax,\n",
    "        lw=0.8,\n",
    "        err_kws=dict(edgecolor=None),\n",
    "    )\n",
    "    ax.legend(\"\", frameon=False)\n",
    "\n",
    "\n",
    "fig.savefig(subjects.figpath_sd / \"ev_within_nrem_wake\")"
   ]
  },
  {
   "attachments": {},
   "cell_type": "markdown",
   "metadata": {
    "jp-MarkdownHeadingCollapsed": true
   },
   "source": [
    "### 3B: EV aligned by NREM onset and WAKE"
   ]
  },
  {
   "cell_type": "code",
   "execution_count": 4,
   "metadata": {},
   "outputs": [
    {
     "data": {
      "image/png": "[encoded data removed]",
      "text/plain": [
       "<Figure size 850x1100 with 6 Axes>"
      ]
     },
     "metadata": {},
     "output_type": "display_data"
    }
   ],
   "source": [
    "nrem_duration_df = grpdata.nrem_duration_aligned_by_nrem_onset\n",
    "wake_duration_df = grpdata.wake_duration_aligned_by_WAKE\n",
    "nrem_df = grpdata.ev_aligned_by_NREM_onset\n",
    "nrem_df[\"zt\"] = nrem_df[\"zt\"].astype(\"float\") * (5 / 60)\n",
    "wake_df = grpdata.ev_aligned_by_WAKE\n",
    "wake_df[\"zt\"] = wake_df[\"zt\"].astype(\"float\") * (5 / 60)\n",
    "\n",
    "fig = subjects.SdFig().fig3()\n",
    "subfig = fig.add_subfigure(fig.gs[:2, :2])\n",
    "axs = subfig.subplots(3, 2, sharex=True, sharey=\"row\", height_ratios=[1, 1, 2.5])\n",
    "\n",
    "\n",
    "for i, df in enumerate([nrem_duration_df, wake_duration_df]):\n",
    "    mean_duration = df.groupby([\"grp\", \"zt\"]).mean(numeric_only=True).reset_index()\n",
    "    mean_duration[\"zt\"] = mean_duration[\"zt\"].astype(\"float\") * (5 / 60)\n",
    "    mean_duration[\"duration\"] = mean_duration[\"duration\"] / (900)\n",
    "\n",
    "    ax = axs[1, i]\n",
    "    plotter = Plotter(data=mean_duration, x=\"zt\", y=\"duration\", hue=\"grp\", ax=ax)\n",
    "    plotter.areaplot(palette=subjects.colors_sd())\n",
    "    ax.set_ylim(0, 1)\n",
    "\n",
    "for line in ax.lines:\n",
    "    line.get_xydata()\n",
    "\n",
    "for i, df in enumerate([nrem_df, wake_df]):\n",
    "    ax = axs[2, i]\n",
    "    sns.lineplot(\n",
    "        data=df,\n",
    "        x=\"zt\",\n",
    "        y=\"ev\",\n",
    "        hue=\"grp\",\n",
    "        palette=subjects.colors_sd(),\n",
    "        ci=\"sd\",\n",
    "        ax=ax,\n",
    "        lw=0.8,\n",
    "        err_kws=dict(edgecolor=None),\n",
    "    )\n",
    "    ax.legend(\"\", frameon=False)\n",
    "    if i == 0:\n",
    "        ax.set_xlim(0, 2.5)\n",
    "    if i == 1:\n",
    "        ax.set_xlim(0, 5)\n",
    "    # ax.set_ylim(0, 0.15)\n",
    "\n",
    "\n",
    "fig.savefig(subjects.figpath_sd / \"ev_statewise_nrem_wake\")"
   ]
  },
  {
   "cell_type": "code",
   "execution_count": null,
   "metadata": {},
   "outputs": [],
   "source": [
    "# tc_df1 = subjects.GroupData().ev_tc_aligned_by_NREM_onset\n",
    "df1 = subjects.GroupData().ev_slopes_high_NREM_bootstrap\n",
    "df1 = df1[df1.grp == \"NSD\"]\n",
    "df1[\"grp\"] = \"NREM\"\n",
    "df2 = subjects.GroupData().ev_slopes_WAKE_bootstrap\n",
    "\n",
    "df = pd.concat([df1, df2], ignore_index=True)\n",
    "\n",
    "fig = subjects.SdFig().fig3(ncols=10)\n",
    "\n",
    "ax = fig.subplot(fig.gs[:2, 2])\n",
    "\n",
    "plotter = Plotter(data=df, x=\"grp\", y=\"slope\")\n",
    "plotter.boxplot_sd2()\n",
    "ax.set_xlabel(\"\")\n",
    "ax.set_ylabel(\"Exponential decay constant (h)\")\n",
    "fig.savefig(subjects.figpath_sd / \"ev_slopes\", format=\"svg\")"
   ]
  },
  {
   "cell_type": "code",
   "execution_count": 2,
   "metadata": {},
   "outputs": [
    {
     "data": {
      "text/plain": [
       "Text(0, 0.5, 'Exponential decay constant (h)')"
      ]
     },
     "execution_count": 2,
     "metadata": {},
     "output_type": "execute_result"
    },
    {
     "data": {
      "image/png": "[encoded data removed]",
      "text/plain": [
       "<Figure size 850x1100 with 1 Axes>"
      ]
     },
     "metadata": {},
     "output_type": "display_data"
    }
   ],
   "source": [
    "# tc_df1 = subjects.GroupData().ev_tc_aligned_by_NREM_onset\n",
    "tc_df1 = subjects.GroupData().ev_tc_NREM\n",
    "tc_df1[\"grp\"] = \"NREM\"\n",
    "tc_df2 = subjects.GroupData().ev_tc_WAKE\n",
    "\n",
    "tc_df = pd.concat([tc_df1, tc_df2], ignore_index=True)\n",
    "tc_df[\"tc\"] = tc_df[\"tc\"] * (5 / 60) * np.log(2)\n",
    "\n",
    "fig = subjects.SdFig().fig3(ncols=10)\n",
    "\n",
    "ax = fig.subplot(fig.gs[:2, 2])\n",
    "\n",
    "plotter = Plotter(data=tc_df, x=\"grp\", y=\"tc\")\n",
    "plotter.boxplot_sd2()\n",
    "ax.set_xlabel(\"\")\n",
    "ax.set_ylabel(\"Exponential decay constant (h)\")\n",
    "\n",
    "# Plot individual sessions overlaid\n",
    "# wake_df = subjects.GroupData().pairwise_correlations_WAKE\n",
    "# wake_tc = wake_df.groupby([\"grp\", \"session\"]).apply(ev_utils.get_exp_time_constant).reset_index()\n",
    "# wake_tc = wake_tc.drop(columns=[\"level_2\"])\n",
    "# wake_tc[\"tc\"] = wake_tc[\"tc\"] * 5/60 * np.log(2)\n",
    "# wake_tc = wake_tc.drop(index=12)  #\n",
    "# nrem_df = subjects.GroupData().pairwise_correlations_NREM\n",
    "# nrem_df = nrem_df[nrem_df.grp == \"NSD\"]\n",
    "# nrem_tc = nrem_df.groupby([\"grp\", \"session\"]).apply(ev_utils.get_exp_time_constant).reset_index().drop(columns=[\"level_2\"])\n",
    "# nrem_tc[\"tc\"] = nrem_tc[\"tc\"] * 5/60 * np.log(2)\n",
    "# nrem_tc[\"grp\"] = \"NREM\"\n",
    "\n",
    "# sess_mean_tc = pd.concat((wake_tc, nrem_tc)).reset_index()\n",
    "# p2 = Plotter(data=sess_mean_tc, x=\"grp\", y=\"tc\")\n",
    "# p2.striplineplot_sd()\n",
    "\n",
    "# fig.savefig(subjects.figpath_sd / \"half_life_nrem_wake\", format=\"svg\")"
   ]
  },
  {
   "cell_type": "code",
   "execution_count": 3,
   "metadata": {},
   "outputs": [
    {
     "name": "stderr",
     "output_type": "stream",
     "text": [
      "/home/nkinsky/miniforge3/envs/NeuroPy/lib/python3.11/site-packages/scipy/optimize/_minpack_py.py:1010: OptimizeWarning: Covariance of the parameters could not be estimated\n",
      "  warnings.warn('Covariance of the parameters could not be estimated',\n"
     ]
    },
    {
     "data": {
      "text/plain": [
       "<plotters.Plotter at 0x7f92a2b37650>"
      ]
     },
     "execution_count": 3,
     "metadata": {},
     "output_type": "execute_result"
    },
    {
     "data": {
      "image/png": "[encoded data removed]",
      "text/plain": [
       "<Figure size 850x1100 with 1 Axes>"
      ]
     },
     "metadata": {},
     "output_type": "display_data"
    }
   ],
   "source": [
    "# Plot using all WAKE and NREM periods. NOT aligned to start of NREM.\n",
    "tc_df1 = subjects.GroupData().ev_tc_NREM\n",
    "tc_df1[\"grp\"] = \"NREM\"\n",
    "tc_df2 = subjects.GroupData().ev_tc_WAKE\n",
    "\n",
    "tc_df = pd.concat([tc_df1, tc_df2], ignore_index=True)\n",
    "tc_df[\"tc\"] = tc_df[\"tc\"] * (5 / 60) * np.log(2)\n",
    "\n",
    "fig = subjects.SdFig().fig3(ncols=10)\n",
    "\n",
    "ax = fig.subplot(fig.gs[:2, 2])\n",
    "\n",
    "plotter = Plotter(data=tc_df, x=\"grp\", y=\"tc\")\n",
    "plotter.boxplot_sd2()\n",
    "ax.set_xlabel(\"\")\n",
    "ax.set_ylabel(\"Exponential decay constant (h)\")\n",
    "\n",
    "# Plot individual sessions overlaid\n",
    "wake_df = subjects.GroupData().pairwise_correlations_WAKE\n",
    "wake_tc = wake_df.groupby([\"grp\", \"session\"]).apply(ev_utils.get_exp_time_constant).reset_index()\n",
    "wake_tc = wake_tc.drop(columns=[\"level_2\"])\n",
    "wake_tc[\"tc\"] = wake_tc[\"tc\"] * 5/60 * np.log(2)\n",
    "wake_tc = wake_tc.drop(index=12)  #\n",
    "nrem_df = subjects.GroupData().pairwise_correlations_NREM\n",
    "nrem_df = nrem_df[nrem_df.grp == \"NSD\"]\n",
    "nrem_tc = nrem_df.groupby([\"grp\", \"session\"]).apply(ev_utils.get_exp_time_constant).reset_index().drop(columns=[\"level_2\"])\n",
    "nrem_tc[\"tc\"] = nrem_tc[\"tc\"] * 5/60 * np.log(2)\n",
    "nrem_tc[\"grp\"] = \"NREM\"\n",
    "\n",
    "sess_mean_tc = pd.concat((wake_tc, nrem_tc)).reset_index()\n",
    "sess_mean_tc = sess_mean_tc.sort_values(by=[\"grp\"], key=(lambda x: [np.where(xx == np.array([\"NREM\", \"NSD\", \"SD\"]))[0][0] for xx in x]))\n",
    "sess_mean_tc[\"session\"] = np.arange(sess_mean_tc.shape[0])\n",
    "p2 = Plotter(data=sess_mean_tc, x=\"grp\", y=\"tc\")\n",
    "p2.striplineplot_sd()"
   ]
  },
  {
   "cell_type": "code",
   "execution_count": 4,
   "metadata": {},
   "outputs": [
    {
     "data": {
      "text/plain": [
       "<plotters.Plotter at 0x7f92a2b35e50>"
      ]
     },
     "execution_count": 4,
     "metadata": {},
     "output_type": "execute_result"
    },
    {
     "data": {
      "image/png": "[encoded data removed]",
      "text/plain": [
       "<Figure size 850x1100 with 1 Axes>"
      ]
     },
     "metadata": {},
     "output_type": "display_data"
    }
   ],
   "source": [
    "# Plot using with \"NREM\" EV calculated starting at the first NREM rich period.\n",
    "tc_df1 = subjects.GroupData().ev_tc_NREM\n",
    "tc_df1[\"grp\"] = \"NREM\"\n",
    "tc_df2 = subjects.GroupData().ev_tc_WAKE\n",
    "\n",
    "tc_df = pd.concat([tc_df1, tc_df2], ignore_index=True)\n",
    "tc_df[\"tc\"] = tc_df[\"tc\"] * (5 / 60) * np.log(2)\n",
    "\n",
    "fig = subjects.SdFig().fig3(ncols=10)\n",
    "\n",
    "ax = fig.subplot(fig.gs[:2, 2])\n",
    "\n",
    "plotter = Plotter(data=tc_df, x=\"grp\", y=\"tc\")\n",
    "plotter.boxplot_sd2()\n",
    "ax.set_xlabel(\"\")\n",
    "ax.set_ylabel(\"Exponential decay constant (h)\")\n",
    "\n",
    "# Plot individual sessions overlaid\n",
    "wake_df = subjects.GroupData().pairwise_correlations_aligned_by_WAKE\n",
    "wake_tc = wake_df.groupby([\"grp\", \"session\"]).apply(ev_utils.get_exp_time_constant).reset_index()\n",
    "wake_tc = wake_tc.drop(columns=[\"level_2\"])\n",
    "wake_tc[\"tc\"] = wake_tc[\"tc\"] * 5/60 * np.log(2)\n",
    "wake_tc = wake_tc.drop(index=12)  # NRK question - why are these so high?\n",
    "nrem_df = subjects.GroupData().pairwise_correlations_aligned_by_NREM_onset\n",
    "nrem_df = nrem_df[nrem_df.grp == \"NSD\"]\n",
    "nrem_tc = nrem_df.groupby([\"grp\", \"session\"]).apply(ev_utils.get_exp_time_constant).reset_index().drop(columns=[\"level_2\"])\n",
    "nrem_tc = nrem_tc.drop(index=0)  # NRK question - why are these so low\n",
    "nrem_tc[\"tc\"] = nrem_tc[\"tc\"] * 5/60 * np.log(2)\n",
    "nrem_tc[\"grp\"] = \"NREM\"\n",
    "\n",
    "sess_mean_tc = pd.concat((wake_tc, nrem_tc)).reset_index()\n",
    "sess_mean_tc = sess_mean_tc.sort_values(by=[\"grp\"], key=(lambda x: [np.where(xx == np.array([\"NREM\", \"NSD\", \"SD\"]))[0][0] for xx in x]))\n",
    "sess_mean_tc[\"session\"] = np.arange(sess_mean_tc.shape[0])\n",
    "p2 = Plotter(data=sess_mean_tc, x=\"grp\", y=\"tc\")\n",
    "p2.striplineplot_sd()"
   ]
  },
  {
   "cell_type": "markdown",
   "metadata": {
    "jp-MarkdownHeadingCollapsed": true
   },
   "source": [
    "### 3C: Explained variance decay curves\n",
    "Has the most up-to-date alignment data."
   ]
  },
  {
   "cell_type": "code",
   "execution_count": 4,
   "metadata": {},
   "outputs": [
    {
     "data": {
      "text/html": [
       "<div>\n",
       "<style scoped>\n",
       "    .dataframe tbody tr th:only-of-type {\n",
       "        vertical-align: middle;\n",
       "    }\n",
       "\n",
       "    .dataframe tbody tr th {\n",
       "        vertical-align: top;\n",
       "    }\n",
       "\n",
       "    .dataframe thead tr th {\n",
       "        text-align: left;\n",
       "    }\n",
       "</style>\n",
       "<table border=\"1\" class=\"dataframe\">\n",
       "  <thead>\n",
       "    <tr>\n",
       "      <th></th>\n",
       "      <th>grp</th>\n",
       "      <th>zt</th>\n",
       "      <th colspan=\"3\" halign=\"left\">ev</th>\n",
       "    </tr>\n",
       "    <tr>\n",
       "      <th></th>\n",
       "      <th></th>\n",
       "      <th></th>\n",
       "      <th>mean</th>\n",
       "      <th>median</th>\n",
       "      <th>&lt;lambda_0&gt;</th>\n",
       "    </tr>\n",
       "  </thead>\n",
       "  <tbody>\n",
       "    <tr>\n",
       "      <th>0</th>\n",
       "      <td>NSD</td>\n",
       "      <td>ZT 0-2.5</td>\n",
       "      <td>0.153941</td>\n",
       "      <td>0.152406</td>\n",
       "      <td>0.073714</td>\n",
       "    </tr>\n",
       "    <tr>\n",
       "      <th>1</th>\n",
       "      <td>NSD</td>\n",
       "      <td>ZT 2.5-5</td>\n",
       "      <td>0.082181</td>\n",
       "      <td>0.083875</td>\n",
       "      <td>0.048365</td>\n",
       "    </tr>\n",
       "    <tr>\n",
       "      <th>2</th>\n",
       "      <td>NSD</td>\n",
       "      <td>ZT 5-7.5</td>\n",
       "      <td>0.049061</td>\n",
       "      <td>0.039114</td>\n",
       "      <td>0.044435</td>\n",
       "    </tr>\n",
       "    <tr>\n",
       "      <th>3</th>\n",
       "      <td>SD</td>\n",
       "      <td>ZT 0-2.5</td>\n",
       "      <td>0.052267</td>\n",
       "      <td>0.047427</td>\n",
       "      <td>0.029289</td>\n",
       "    </tr>\n",
       "    <tr>\n",
       "      <th>4</th>\n",
       "      <td>SD</td>\n",
       "      <td>ZT 2.5-5</td>\n",
       "      <td>0.015491</td>\n",
       "      <td>0.015046</td>\n",
       "      <td>0.007677</td>\n",
       "    </tr>\n",
       "    <tr>\n",
       "      <th>5</th>\n",
       "      <td>SD</td>\n",
       "      <td>ZT 5-7.5</td>\n",
       "      <td>0.049542</td>\n",
       "      <td>0.051559</td>\n",
       "      <td>0.016294</td>\n",
       "    </tr>\n",
       "  </tbody>\n",
       "</table>\n",
       "</div>"
      ],
      "text/plain": [
       "   grp        zt        ev                     \n",
       "                      mean    median <lambda_0>\n",
       "0  NSD  ZT 0-2.5  0.153941  0.152406   0.073714\n",
       "1  NSD  ZT 2.5-5  0.082181  0.083875   0.048365\n",
       "2  NSD  ZT 5-7.5  0.049061  0.039114   0.044435\n",
       "3   SD  ZT 0-2.5  0.052267  0.047427   0.029289\n",
       "4   SD  ZT 2.5-5  0.015491  0.015046   0.007677\n",
       "5   SD  ZT 5-7.5  0.049542  0.051559   0.016294"
      ]
     },
     "execution_count": 4,
     "metadata": {},
     "output_type": "execute_result"
    }
   ],
   "source": [
    "boot_df = subjects.GroupData().ev_bootstrap_session_pairs\n",
    "boot_df.groupby([\"grp\", \"zt\"], sort=False).aggregate(\n",
    "    [\"mean\", \"median\", lambda x: x.quantile(0.75) - x.quantile(0.25)]\n",
    ").reset_index()"
   ]
  },
  {
   "cell_type": "code",
   "execution_count": 5,
   "metadata": {},
   "outputs": [
    {
     "data": {
      "text/html": [
       "<div>\n",
       "<style scoped>\n",
       "    .dataframe tbody tr th:only-of-type {\n",
       "        vertical-align: middle;\n",
       "    }\n",
       "\n",
       "    .dataframe tbody tr th {\n",
       "        vertical-align: top;\n",
       "    }\n",
       "\n",
       "    .dataframe thead tr th {\n",
       "        text-align: left;\n",
       "    }\n",
       "</style>\n",
       "<table border=\"1\" class=\"dataframe\">\n",
       "  <thead>\n",
       "    <tr>\n",
       "      <th></th>\n",
       "      <th>grp</th>\n",
       "      <th colspan=\"3\" halign=\"left\">tc</th>\n",
       "    </tr>\n",
       "    <tr>\n",
       "      <th></th>\n",
       "      <th></th>\n",
       "      <th>mean</th>\n",
       "      <th>median</th>\n",
       "      <th>&lt;lambda_0&gt;</th>\n",
       "    </tr>\n",
       "  </thead>\n",
       "  <tbody>\n",
       "    <tr>\n",
       "      <th>0</th>\n",
       "      <td>NSD</td>\n",
       "      <td>61.097065</td>\n",
       "      <td>63.378169</td>\n",
       "      <td>36.143888</td>\n",
       "    </tr>\n",
       "  </tbody>\n",
       "</table>\n",
       "</div>"
      ],
      "text/plain": [
       "   grp         tc                      \n",
       "             mean     median <lambda_0>\n",
       "0  NSD  61.097065  63.378169  36.143888"
      ]
     },
     "execution_count": 5,
     "metadata": {},
     "output_type": "execute_result"
    }
   ],
   "source": [
    "subjects.GroupData().ev_tc_aligned_by_NREM_onset_NRK.groupby(\"grp\").aggregate(\n",
    "    [\"mean\", \"median\", lambda x: x.quantile(0.75) - x.quantile(0.25)]\n",
    ").reset_index()"
   ]
  },
  {
   "cell_type": "code",
   "execution_count": 23,
   "metadata": {},
   "outputs": [
    {
     "data": {
      "text/html": [
       "<div>\n",
       "<style scoped>\n",
       "    .dataframe tbody tr th:only-of-type {\n",
       "        vertical-align: middle;\n",
       "    }\n",
       "\n",
       "    .dataframe tbody tr th {\n",
       "        vertical-align: top;\n",
       "    }\n",
       "\n",
       "    .dataframe thead tr th {\n",
       "        text-align: left;\n",
       "    }\n",
       "</style>\n",
       "<table border=\"1\" class=\"dataframe\">\n",
       "  <thead>\n",
       "    <tr>\n",
       "      <th></th>\n",
       "      <th>grp</th>\n",
       "      <th colspan=\"3\" halign=\"left\">tc</th>\n",
       "    </tr>\n",
       "    <tr>\n",
       "      <th></th>\n",
       "      <th></th>\n",
       "      <th>mean</th>\n",
       "      <th>median</th>\n",
       "      <th>&lt;lambda_0&gt;</th>\n",
       "    </tr>\n",
       "  </thead>\n",
       "  <tbody>\n",
       "    <tr>\n",
       "      <th>0</th>\n",
       "      <td>NSD</td>\n",
       "      <td>22.113953</td>\n",
       "      <td>21.584939</td>\n",
       "      <td>4.092649</td>\n",
       "    </tr>\n",
       "    <tr>\n",
       "      <th>1</th>\n",
       "      <td>SD</td>\n",
       "      <td>189484.318660</td>\n",
       "      <td>33.848224</td>\n",
       "      <td>12.487362</td>\n",
       "    </tr>\n",
       "  </tbody>\n",
       "</table>\n",
       "</div>"
      ],
      "text/plain": [
       "   grp             tc                      \n",
       "                 mean     median <lambda_0>\n",
       "0  NSD      22.113953  21.584939   4.092649\n",
       "1   SD  189484.318660  33.848224  12.487362"
      ]
     },
     "execution_count": 23,
     "metadata": {},
     "output_type": "execute_result"
    }
   ],
   "source": [
    "subjects.GroupData().ev_tc_aligned_by_WAKE_NRK.groupby(\"grp\").aggregate(\n",
    "    [\"mean\", \"median\", lambda x: x.quantile(0.75) - x.quantile(0.25)]\n",
    ").reset_index()"
   ]
  },
  {
   "cell_type": "code",
   "execution_count": 6,
   "metadata": {},
   "outputs": [
    {
     "data": {
      "image/png": "[encoded data removed]",
      "text/plain": [
       "<Figure size 850x1100 with 1 Axes>"
      ]
     },
     "metadata": {},
     "output_type": "display_data"
    }
   ],
   "source": [
    "half_life = False  # True = plot half life on y axis, False = plot decay constant. Same results either way, just scales y-axis differently\n",
    "tc_df1 = subjects.GroupData().ev_tc_aligned_by_NREM_onset_NRK\n",
    "tc_df1[\"grp\"] = \"NREM\"\n",
    "tc_df2 = subjects.GroupData().ev_tc_aligned_by_WAKE_NRK\n",
    "\n",
    "tc_df = pd.concat([tc_df1, tc_df2], ignore_index=True)\n",
    "\n",
    "if half_life:\n",
    "    tc_df[\"tc\"] = tc_df[\"tc\"] * (5 / 60) * np.log(2)\n",
    "    save_name = \"half_life\"\n",
    "else:\n",
    "    tc_df[\"tc\"] = tc_df[\"tc\"] * (5 / 60)\n",
    "    save_name = \"decay_constant\"\n",
    "\n",
    "fig = subjects.SdFig().fig3(ncols=10)\n",
    "\n",
    "ax = fig.subplot(fig.gs[:2, 2])\n",
    "\n",
    "# palette = subjects.colors_sd(1)\n",
    "# palette_light = subjects.colors_sd_light(1)\n",
    "\n",
    "palette_use = subjects.colors_sd()\n",
    "palette_use.insert(1, subjects.colors_sd_light(1)[0])\n",
    "palette_use\n",
    "\n",
    "plotter = Plotter(data=tc_df, x=\"grp\", y=\"tc\")\n",
    "plotter.boxplot_sd2(palette=palette_use)\n",
    "\n",
    "\n",
    "# Plot individual sessions overlaid\n",
    "wake_df = subjects.GroupData().pairwise_correlations_aligned_by_WAKE\n",
    "wake_tc = wake_df.groupby([\"grp\", \"session\"]).apply(ev_utils.get_exp_time_constant).reset_index()\n",
    "wake_tc = wake_tc.drop(columns=[\"level_2\"])\n",
    "wake_tc[\"tc\"] = wake_tc[\"tc\"] * 5/60 * np.log(2)\n",
    "wake_tc = wake_tc.drop(index=12)  # NRK question - why are these so high?\n",
    "nrem_df = subjects.GroupData().pairwise_correlations_aligned_by_NREM_onset\n",
    "nrem_df = nrem_df[nrem_df.grp == \"NSD\"]\n",
    "nrem_tc = nrem_df.groupby([\"grp\", \"session\"]).apply(ev_utils.get_exp_time_constant).reset_index().drop(columns=[\"level_2\"])\n",
    "nrem_tc = nrem_tc.drop(index=0)  # NRK question - why are these so high?\n",
    "nrem_tc[\"tc\"] = nrem_tc[\"tc\"] * 5/60 * np.log(2)\n",
    "nrem_tc[\"grp\"] = \"NREM\"\n",
    "\n",
    "sess_mean_tc = pd.concat((wake_tc, nrem_tc)).reset_index()\n",
    "sess_mean_tc = sess_mean_tc.sort_values(by=[\"grp\"], key=(lambda x: [np.where(xx == np.array([\"NREM\", \"NSD\", \"SD\"]))[0][0] for xx in x]))\n",
    "# sess_mean_tc[\"session\"] = np.arange(sess_mean_tc.shape[0])\n",
    "sess_mean_tc.rename(columns={\"index\": \"session\"})\n",
    "p2 = Plotter(data=sess_mean_tc, x=\"grp\", y=\"tc\")\n",
    "p2.striplineplot_sd(palette=palette_use)\n",
    "ax.set_xlabel(\"\")\n",
    "ax.set_ylabel(\"Exponential decay constant (h)\")\n",
    "\n",
    "fig.savefig(subjects.figpath_sd / f\"{save_name}_nrem_wake_NRK\", format=\"svg\")"
   ]
  },
  {
   "cell_type": "code",
   "execution_count": 13,
   "metadata": {},
   "outputs": [
    {
     "name": "stdout",
     "output_type": "stream",
     "text": [
      "NREM vs. NSD Welch t-test pvalue=0, bootstrap p=0.00164\n",
      "NREM vs. SD Welch t-test pvalue=0, bootstrap p=0.052\n",
      "NSD vs. SD Welch t-test pvalue=2.1e-318, bootstrap p=0.042\n"
     ]
    }
   ],
   "source": [
    "# Run stats on bootstrapped distributions\n",
    "from itertools import permutations, combinations\n",
    "from stats_utils import get_bootstrap_prob\n",
    "\n",
    "stat_all = []\n",
    "for grps in combinations(tc_df.grp.unique(), 2):\n",
    "    grp1 = tc_df[tc_df.grp == grps[0]].tc\n",
    "    grp2 = tc_df[tc_df.grp == grps[1]].tc\n",
    "    stats_result = stats.ttest_ind(grp1, grp2, equal_var=False)\n",
    "    boot_prob = get_bootstrap_prob(grp1.values, grp2.values)[1]\n",
    "    stat_all.append(stats_result.pvalue)\n",
    "    print(f\"{grps[0]} vs. {grps[1]} Welch t-test pvalue={stats_result.pvalue:0.3g}, bootstrap p={boot_prob:.3g}\")\n"
   ]
  },
  {
   "cell_type": "code",
   "execution_count": 7,
   "metadata": {},
   "outputs": [
    {
     "name": "stdout",
     "output_type": "stream",
     "text": [
      "WAKE session # 12 dropped due to super high slope / flat curve\n",
      "NREM session # 0 dropped due to super high slope / flat curve\n"
     ]
    },
    {
     "ename": "NameError",
     "evalue": "name 'ev_pooled_df' is not defined",
     "output_type": "error",
     "traceback": [
      "\u001b[0;31m---------------------------------------------------------------------------\u001b[0m",
      "\u001b[0;31mNameError\u001b[0m                                 Traceback (most recent call last)",
      "Cell \u001b[0;32mIn[7], line 15\u001b[0m\n\u001b[1;32m     13\u001b[0m fig, ax \u001b[38;5;241m=\u001b[39m plt\u001b[38;5;241m.\u001b[39msubplots(\u001b[38;5;241m4\u001b[39m, \u001b[38;5;241m4\u001b[39m)\n\u001b[1;32m     14\u001b[0m \u001b[38;5;28;01mfor\u001b[39;00m ida, a \u001b[38;5;129;01min\u001b[39;00m \u001b[38;5;28menumerate\u001b[39m(ax\u001b[38;5;241m.\u001b[39mreshape(\u001b[38;5;241m-\u001b[39m\u001b[38;5;241m1\u001b[39m)):\n\u001b[0;32m---> 15\u001b[0m     df_use \u001b[38;5;241m=\u001b[39m \u001b[43mev_pooled_df\u001b[49m[ev_pooled_df[\u001b[38;5;124m\"\u001b[39m\u001b[38;5;124msub\u001b[39m\u001b[38;5;124m\"\u001b[39m] \u001b[38;5;241m==\u001b[39m ida]\n\u001b[1;32m     16\u001b[0m     grp_use \u001b[38;5;241m=\u001b[39m df_use\u001b[38;5;241m.\u001b[39mgrp\u001b[38;5;241m.\u001b[39munique()[\u001b[38;5;241m0\u001b[39m]\n\u001b[1;32m     17\u001b[0m     \u001b[38;5;28;01mif\u001b[39;00m ida \u001b[38;5;129;01mnot\u001b[39;00m \u001b[38;5;129;01min\u001b[39;00m [\u001b[38;5;241m0\u001b[39m, \u001b[38;5;241m12\u001b[39m]:\n",
      "\u001b[0;31mNameError\u001b[0m: name 'ev_pooled_df' is not defined"
     ]
    },
    {
     "data": {
      "image/png": "[encoded data removed]",
      "text/plain": [
       "<Figure size 640x480 with 16 Axes>"
      ]
     },
     "metadata": {},
     "output_type": "display_data"
    }
   ],
   "source": [
    "# 6 NSD and 7 SD sessions.\n",
    "wake_df = subjects.GroupData().pairwise_correlations_aligned_by_WAKE\n",
    "wake_tc = wake_df.groupby([\"grp\", \"session\"]).apply(ev_utils.get_exp_time_constant).reset_index()\n",
    "wake_sesh_drop = wake_tc.iloc[12, :].session\n",
    "print(f\"WAKE session # {wake_sesh_drop} dropped due to super high slope / flat curve\")\n",
    "nrem_df = subjects.GroupData().pairwise_correlations_aligned_by_NREM_onset\n",
    "nrem_df = nrem_df[nrem_df.grp == \"NSD\"]\n",
    "nrem_tc = nrem_df.groupby([\"grp\", \"session\"]).apply(ev_utils.get_exp_time_constant).reset_index().drop(columns=[\"level_2\"])\n",
    "nrem_sesh_drop = nrem_tc.iloc[0, :].session\n",
    "print(f\"NREM session # {nrem_sesh_drop} dropped due to super high slope / flat curve\")\n",
    "\n",
    "\n",
    "# fig, ax = plt.subplots(4, 4)\n",
    "# for ida, a in enumerate(ax.reshape(-1)):\n",
    "#     df_use = ev_pooled_df[ev_pooled_df[\"sub\"] == ida]\n",
    "#     grp_use = df_use.grp.unique()[0]\n",
    "#     if ida not in [0, 12]:\n",
    "#         a.plot(df_use.zt.values, df_use.ev.values)\n",
    "#     else:\n",
    "#         a.plot(df_use.zt.values, df_use.ev.values, color='r')\n",
    "#     a.set_title(f\"{grp_use} sesh #{ida}\")\n",
    "    "
   ]
  },
  {
   "attachments": {},
   "cell_type": "markdown",
   "metadata": {
    "jp-MarkdownHeadingCollapsed": true
   },
   "source": [
    "### Saving"
   ]
  },
  {
   "cell_type": "code",
   "execution_count": null,
   "metadata": {},
   "outputs": [],
   "source": [
    "fig.savefig(filename)"
   ]
  }
 ],
 "metadata": {
  "kernelspec": {
   "display_name": "Python 3 (ipykernel)",
   "language": "python",
   "name": "python3"
  },
  "language_info": {
   "codemirror_mode": {
    "name": "ipython",
    "version": 3
   },
   "file_extension": ".py",
   "mimetype": "text/x-python",
   "name": "python",
   "nbconvert_exporter": "python",
   "pygments_lexer": "ipython3",
   "version": "3.11.6"
  }
 },
 "nbformat": 4,
 "nbformat_minor": 4
}
