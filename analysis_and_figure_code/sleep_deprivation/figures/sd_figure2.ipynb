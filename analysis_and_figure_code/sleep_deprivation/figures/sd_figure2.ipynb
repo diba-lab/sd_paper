{
 "cells": [
  {
   "attachments": {},
   "cell_type": "markdown",
   "metadata": {},
   "source": [
    "### Figure 2 : Ripple oscillations"
   ]
  },
  {
   "cell_type": "code",
   "execution_count": null,
   "metadata": {},
   "outputs": [],
   "source": [
    "import matplotlib.pyplot as plt\n",
    "import numpy as np\n",
    "import subjects\n",
    "from subjects import sns_boxplot_kw, stat_kw, sns_violin_kw\n",
    "import pandas as pd\n",
    "import seaborn as sns\n",
    "from neuropy.plotting import Fig\n",
    "from scipy import stats\n",
    "\n",
    "from statannotations.Annotator import Annotator\n",
    "from plotters import violinplot, violinplotx\n",
    "\n",
    "\n",
    "grpdata = subjects.GroupData()\n",
    "group = [\"NSD\", \"SD\"]\n",
    "\n",
    "# ripple\n",
    "psd = grpdata.ripple_psd\n",
    "examples = grpdata.ripple_examples\n",
    "\n",
    "rpl_features = grpdata.ripple_features\n",
    "# rpl_features = rpl_features[rpl_features.zt!='PRE'].reset_index(drop=True)\n",
    "ripple_autocorr = grpdata.ripple_autocorr\n",
    "# ripple_autocorr = ripple_autocorr[ripple_autocorr.lag_time>=-1]\n",
    "\n",
    "rate = grpdata.ripple_rate\n",
    "pbe_rate = grpdata.pbe_rate\n",
    "\n",
    "# frate\n",
    "frate_in_rpl = grpdata.frate_in_ripple\n",
    "\n",
    "\n",
    "plt.clf()\n",
    "fig = Fig(9, 12, fontsize=5, axis_lw=0.8, tick_size=2, constrained_layout=False)\n",
    "filename = subjects.figpath_sd / \"figure2\""
   ]
  },
  {
   "cell_type": "code",
   "execution_count": null,
   "metadata": {},
   "outputs": [],
   "source": [
    "df = rpl_features.groupby([\"grp\", \"zt\"], sort=False).describe()[\"ripple_power\"]\n",
    "df[\"iqr\"] = df[\"75%\"] - df[\"25%\"]\n",
    "df"
   ]
  },
  {
   "attachments": {},
   "cell_type": "markdown",
   "metadata": {},
   "source": [
    "### Peak frequency and power"
   ]
  },
  {
   "cell_type": "code",
   "execution_count": null,
   "metadata": {},
   "outputs": [],
   "source": [
    "# power['zscore'] = np.log10(power['zscore'])\n",
    "y_labels = [\n",
    "    \"Ripple frequency (Hz)\",\n",
    "    \"Ripple power (zscore) \\n(Normalized to PRE)\",\n",
    "    \"Sharp wave amplitude \\n(Normalized to PRE)\",\n",
    "]\n",
    "gs_ = fig.subplot2grid(\n",
    "    fig.gs[2:5, :4], grid=(3, 3), width_ratios=[1.5, 1.5, 1.2], hspace=0.4, wspace=0.3\n",
    ")\n",
    "\n",
    "\n",
    "for d, y in enumerate([\"peak_freq\", \"ripple_power\", \"sw_amp\"]):\n",
    "    print(y)\n",
    "    for g, grp in enumerate([\"NSD\", \"SD\"]):\n",
    "        ax = fig.subplot(gs_[d, g])\n",
    "        plot_kw = dict(data=rpl_features[rpl_features.grp == grp], x=\"zt\", y=y, ax=ax)\n",
    "\n",
    "        violinplotx(**plot_kw, color=subjects.colors_sd()[g])\n",
    "        ax.tick_params(\"x\", labelrotation=30)\n",
    "        ax.legend([], frameon=False)\n",
    "        ax.set_ylabel(y_labels[d])\n",
    "        ax.set_xlabel(\"\")\n",
    "\n",
    "        # if d > 0:\n",
    "        #     ax.set_ylim(top=3.2)\n",
    "        #     ax.set_yticks([0, 1, 2, 3])\n",
    "\n",
    "        orders = plot_kw[\"data\"].zt.unique()\n",
    "        pairs = [(orders[_], (orders[_ + 1])) for _ in range(len(orders) - 1)] + [\n",
    "            (\"0-2.5\", \"5-7.5\"),\n",
    "        ]\n",
    "\n",
    "        # ax = ax.inset_axes([0,0.8,1,0.3])\n",
    "        # plot_kw['ax'] = ax\n",
    "        annotator = Annotator(pairs=pairs, **plot_kw, order=orders)\n",
    "        annotator.configure(test=\"t-test_welch\", **stat_kw)\n",
    "        annotator.apply_and_annotate()\n",
    "        annotator.reset_configuration()\n",
    "\n",
    "        if d == 1:\n",
    "            ax.set_ylim(top=15)\n",
    "\n",
    "        if d == 2:\n",
    "            ax.set_ylim(top=15)\n",
    "\n",
    "    ax = fig.subplot(gs_[d, 2])\n",
    "    df = rpl_features[rpl_features.zt.isin([\"0-2.5\", \"2.5-5\", \"5-7.5\"])].copy()\n",
    "    df.drop(df[(df.zt == \"0-2.5\") & (df.grp == \"SD\")].index, inplace=True)\n",
    "    df.drop(df[(df.zt == \"5-7.5\") & (df.grp == \"NSD\")].index, inplace=True)\n",
    "    df.loc[(df.zt == \"0-2.5\") & (df.grp == \"NSD\"), \"zt\"] = \"0-2.5 vs 5-7.5\"\n",
    "    df.loc[(df.zt == \"5-7.5\") & (df.grp == \"SD\"), \"zt\"] = \"0-2.5 vs 5-7.5\"\n",
    "    plot_kw = dict(\n",
    "        data=df,\n",
    "        x=\"zt\",\n",
    "        y=y,\n",
    "        hue=\"grp\",\n",
    "        hue_order=[\"NSD\", \"SD\"],\n",
    "        ax=ax,\n",
    "    )\n",
    "\n",
    "    violinplot(**plot_kw)\n",
    "    ax.set_ylabel(\"\")\n",
    "    ax.set_xlabel(\"\")\n",
    "    ax.legend(\"\", frameon=False)\n",
    "\n",
    "    if d == 1:\n",
    "        ax.set_ylim(top=15)\n",
    "\n",
    "    if d == 2:\n",
    "        ax.set_ylim(top=15)\n",
    "\n",
    "    # if d > 0:\n",
    "    #     ax.set_ylim(top=3.2)\n",
    "    #     ax.set_yticks([0, 1, 2, 3])\n",
    "\n",
    "    orders = plot_kw[\"data\"].zt.unique()\n",
    "    pairs = [\n",
    "        ((\"2.5-5\", \"NSD\"), (\"2.5-5\", \"SD\")),\n",
    "        ((\"0-2.5 vs 5-7.5\", \"NSD\"), (\"2.5-5\", \"SD\")),\n",
    "        ((\"0-2.5 vs 5-7.5\", \"NSD\"), (\"0-2.5 vs 5-7.5\", \"SD\")),\n",
    "    ]\n",
    "    annotator = Annotator(pairs=pairs, **plot_kw, order=orders)\n",
    "    annotator.configure(test=\"t-test_welch\", **stat_kw)\n",
    "    annotator.apply_and_annotate()\n",
    "    annotator.reset_configuration()"
   ]
  },
  {
   "attachments": {},
   "cell_type": "markdown",
   "metadata": {},
   "source": [
    "### Ripple and PBE rate"
   ]
  },
  {
   "cell_type": "code",
   "execution_count": null,
   "metadata": {},
   "outputs": [],
   "source": [
    "y_labels = [\"Ripple rate (Hz)\", \"PBE rate (Hz)\"]\n",
    "for d, (df, y) in enumerate(zip([rate, pbe_rate], [\"rate\", \"rate\"])):\n",
    "    ax = fig.subplot(fig.gs[6, 2 * d : 2 * d + 2])\n",
    "    plot_kw = dict(\n",
    "        data=df,\n",
    "        x=\"zt\",\n",
    "        y=y,\n",
    "        hue=\"grp\",\n",
    "        hue_order=group,\n",
    "        ax=ax,\n",
    "        dodge=True,\n",
    "    )\n",
    "\n",
    "    sns.stripplot(\n",
    "        **plot_kw, palette=subjects.colors_sd(1), edgecolor=\"w\", linewidth=0.3, size=3\n",
    "    )\n",
    "    sns.barplot(\n",
    "        **plot_kw,\n",
    "        palette=subjects.colors_sd(1),\n",
    "        ci=None,\n",
    "        facecolor=\"w\",\n",
    "        linewidth=0.5,\n",
    "        edgecolor=\".2\",\n",
    "    )\n",
    "    # violinplot(**plot_kw)\n",
    "    ax.tick_params(\"x\", labelrotation=30)\n",
    "    ax.legend([], frameon=False)\n",
    "    ax.set_ylabel(y_labels[d])\n",
    "    ax.set_xlabel(\"\")\n",
    "\n",
    "    # stats\n",
    "    # Across groups\n",
    "    orders = df.zt.unique()\n",
    "    pairs = [((_, \"NSD\"), (_, \"SD\")) for _ in orders] + [\n",
    "        ((\"0-2.5\", \"NSD\"), (\"5-7.5\", \"SD\"))\n",
    "    ]\n",
    "    annotator = Annotator(pairs=pairs, **plot_kw, order=orders)\n",
    "    annotator.configure(test=\"t-test_welch\", **stat_kw, color=\"#4AB33E\")\n",
    "    annotator.apply_and_annotate()\n",
    "    annotator.reset_configuration()\n",
    "\n",
    "    # Within groups\n",
    "    for i, g in enumerate(group):\n",
    "        pairs2 = [((orders[_], g), (orders[_ + 1], g)) for _ in range(3)]\n",
    "        annotator = Annotator(pairs=pairs2, **plot_kw, order=orders)\n",
    "        annotator.configure(\n",
    "            test=\"t-test_paired\", **stat_kw, color=subjects.colors_sd(1)[i]\n",
    "        )\n",
    "        annotator.apply_and_annotate()\n",
    "        annotator.reset_configuration()"
   ]
  },
  {
   "attachments": {},
   "cell_type": "markdown",
   "metadata": {},
   "source": [
    "### Firing inside/outside ripples"
   ]
  },
  {
   "cell_type": "raw",
   "metadata": {},
   "source": [
    "k = 0\n",
    "for i, w in enumerate([\"inside\", \"outside\"]):\n",
    "    df_w = frate_in_rpl[frate_in_rpl[\"where\"] == w]\n",
    "\n",
    "    for i1, n in enumerate([\"inter\", \"pyr\"]):\n",
    "        df = df_w[df_w[\"neuron_type\"] == n].reset_index(drop=True)\n",
    "\n",
    "        ax = plt.subplot(fig.gs[i + 2, 2 * i1 : 2 * i1 + 2])\n",
    "        plot_kw = dict(data=df, x=\"zt\", width=0.5, y=\"frate\", hue=\"grp\", ax=ax)\n",
    "\n",
    "        sns.boxplot(**plot_kw, **sns_boxplot_kw)\n",
    "        k = k + 1\n",
    "\n",
    "        ax.set_ylabel(\"\")\n",
    "        ax.set_xlabel(\"\")\n",
    "        ax.legend(\"\", frameon=False)\n",
    "        ax.tick_params(\"x\", labelrotation=30)\n",
    "        ax.set_ylim(-20,600)\n",
    "\n",
    "        if i1 == 0:\n",
    "            ax.set_ylabel(f\"Firing rate (z-scored)\\n{w} ripples\")\n",
    "            fig.panel_label(ax, \"C\")\n",
    "\n",
    "        # stats\n",
    "        orders = df.zt.unique()\n",
    "        pairs = [((_, \"NSD\"), (_, \"SD\")) for _ in orders]\n",
    "        annotator = Annotator(pairs=pairs, **plot_kw, order=orders)\n",
    "        annotator.configure(test=\"t-test_welch\", **stat_kw)\n",
    "        annotator.apply_and_annotate()\n",
    "        annotator.reset_configuration()\n"
   ]
  },
  {
   "attachments": {},
   "cell_type": "markdown",
   "metadata": {},
   "source": [
    "### ANOVA"
   ]
  },
  {
   "cell_type": "code",
   "execution_count": null,
   "metadata": {},
   "outputs": [],
   "source": [
    "import pingouin as pg\n",
    "\n",
    "rate[\"name2\"] = [s[:4] for s in rate[\"name\"]]"
   ]
  },
  {
   "cell_type": "code",
   "execution_count": null,
   "metadata": {},
   "outputs": [],
   "source": [
    "from statsmodels.stats import anova\n",
    "\n",
    "# rate =\n",
    "\n",
    "st = anova.AnovaRM(\n",
    "    data=pbe_rate[(pbe_rate.zt != \"PRE\")],\n",
    "    depvar=\"rate\",\n",
    "    within=[\"zt\", \"grp\"],\n",
    "    subject=\"name2\",\n",
    "    aggregate_func=np.mean,\n",
    ")\n",
    "print(st.fit())"
   ]
  },
  {
   "cell_type": "code",
   "execution_count": null,
   "metadata": {},
   "outputs": [],
   "source": [
    "pg.anova(\n",
    "    data=rate[(rate.zt != \"PRE\")],\n",
    "    dv=\"rate\",\n",
    "    between=[\"zt\", \"grp\"],\n",
    "    ss_type=3,\n",
    "    detailed=True,\n",
    ")"
   ]
  },
  {
   "cell_type": "code",
   "execution_count": null,
   "metadata": {},
   "outputs": [],
   "source": [
    "for i, df in enumerate([rate, pbe_rate]):\n",
    "    kw = dict(\n",
    "        data=df[(df.zt != \"PRE\")],\n",
    "        dv=\"rate\",\n",
    "        within=\"zt\",\n",
    "        between=\"grp\",\n",
    "        subject=\"session\",\n",
    "    )\n",
    "    anv = pg.mixed_anova(**kw)\n",
    "    pg.print_table(anv)\n",
    "    posthocs = pg.pairwise_tests(**kw)\n",
    "    pg.print_table(posthocs)"
   ]
  },
  {
   "cell_type": "code",
   "execution_count": null,
   "metadata": {},
   "outputs": [],
   "source": []
  },
  {
   "cell_type": "code",
   "execution_count": null,
   "metadata": {},
   "outputs": [],
   "source": [
    "# Let's assume that we have a balanced design with 30 students in each group\n",
    "n = 30\n",
    "months = [\"August\", \"January\", \"June\"]\n",
    "\n",
    "# Generate random data\n",
    "np.random.seed(1234)\n",
    "control = np.random.normal(5.5, size=len(months) * n)\n",
    "meditation = np.r_[\n",
    "    np.random.normal(5.4, size=n),\n",
    "    np.random.normal(5.8, size=n),\n",
    "    np.random.normal(6.4, size=n),\n",
    "]\n",
    "\n",
    "# Create a dataframe\n",
    "df = pd.DataFrame(\n",
    "    {\n",
    "        \"Scores\": np.r_[control, meditation],\n",
    "        \"Time\": np.r_[np.repeat(months, n), np.repeat(months, n)],\n",
    "        \"Group\": np.repeat([\"Control\", \"Meditation\"], len(months) * n),\n",
    "        \"Subject\": np.r_[np.tile(np.arange(n), 3), np.tile(np.arange(n, n + n), 3)],\n",
    "    }\n",
    ")\n",
    "# Compute the two-way mixed-design ANOVA\n",
    "aov = pg.mixed_anova(\n",
    "    dv=\"Scores\", within=\"Time\", between=\"Group\", subject=\"Subject\", data=df\n",
    ")\n",
    "# Pretty printing of ANOVA summary\n",
    "pg.print_table(aov)"
   ]
  },
  {
   "cell_type": "code",
   "execution_count": null,
   "metadata": {},
   "outputs": [],
   "source": [
    "df"
   ]
  },
  {
   "cell_type": "code",
   "execution_count": null,
   "metadata": {},
   "outputs": [],
   "source": [
    "import pingouin as pg\n",
    "\n",
    "for i, df in enumerate([rate, pbe_rate]):\n",
    "    for g, grp in enumerate([\"NSD\", \"SD\"]):\n",
    "        stat = pg.rm_anova(\n",
    "            data=df[(df.zt != \"PRE\") & (df.grp == grp)],\n",
    "            dv=\"rate\",\n",
    "            within=[\"zt\", \"grp\"],\n",
    "            subject=\"name2\",\n",
    "            detailed=True,\n",
    "        )\n",
    "        print(stat)\n",
    "\n",
    "# pg.rm_anova(data=pbe_rate[(pbe_rate.zt!='PRE')&(pbe_rate.grp=='NSD')],dv='rate',within='zt',subject='session')\n",
    "# pg.welch_anova(data=pbe_rate[pbe_rate.zt!='PRE'],dv='rate',between='grp')"
   ]
  },
  {
   "attachments": {},
   "cell_type": "markdown",
   "metadata": {},
   "source": [
    "### saving"
   ]
  },
  {
   "cell_type": "code",
   "execution_count": null,
   "metadata": {},
   "outputs": [],
   "source": [
    "# fig.savefig(filename)"
   ]
  }
 ],
 "metadata": {
  "interpreter": {
   "hash": "cce1618081139d19eb1ee8d40815d94a2de4f62e1efb20d9406ddb60628c36ae"
  },
  "kernelspec": {
   "display_name": "Python 3 (ipykernel)",
   "language": "python",
   "name": "python3"
  },
  "language_info": {
   "codemirror_mode": {
    "name": "ipython",
    "version": 3
   },
   "file_extension": ".py",
   "mimetype": "text/x-python",
   "name": "python",
   "nbconvert_exporter": "python",
   "pygments_lexer": "ipython3",
   "version": "3.11.6"
  }
 },
 "nbformat": 4,
 "nbformat_minor": 4
}
