{
 "cells": [
  {
   "cell_type": "markdown",
   "metadata": {},
   "source": [
    "### Figure 5: remaze analyses"
   ]
  },
  {
   "cell_type": "code",
   "execution_count": null,
   "metadata": {},
   "outputs": [],
   "source": [
    "import matplotlib.pyplot as plt\n",
    "import numpy as np\n",
    "import subjects\n",
    "import pandas as pd\n",
    "import seaborn as sns\n",
    "from neuropy.plotting import Fig\n",
    "from scipy import stats\n",
    "from neuropy.plotting import plot_hypnogram\n",
    "from brokenaxes import brokenaxes\n",
    "\n",
    "scatter_kw = dict(\n",
    "    rasterized=True, s=6, edgecolors=\"w\", linewidths=0, alpha=0.7, marker=\"o\"\n",
    ")\n",
    "colors_scatter = subjects.colors_sd(1.2)\n",
    "colors_bias = subjects.colors_sd(1.2)\n",
    "\n",
    "grpdata = subjects.GroupData()\n",
    "group = [\"NSD\", \"SD\"]\n",
    "\n",
    "# ---- remaze_ev ----\n",
    "ev_df, brainstates = grpdata.remaze_ev_example\n",
    "ev_on_zt5h = grpdata.remaze_ev_on_zt0to5\n",
    "colors_ev = subjects.colors_sd(1.2)\n",
    "ev_on_post, remaze_ev_on_post_states = grpdata.remaze_ev_on_POST_pooled\n",
    "\n",
    "corr_first5h_remaze = grpdata.remaze_first5_paircorr\n",
    "corr_first5h_bootstrap,diff_first5h = grpdata.remaze_first5_bootstrap.values()\n",
    "\n",
    "corr_last5h_remaze = grpdata.remaze_last5_paircorr\n",
    "corr_last5h_bootstrap,diff_last5h = grpdata.remaze_last5_bootstrap.values()\n",
    "\n",
    "\n",
    "\n",
    "# ---incubator---------\n",
    "# ev_on_post,_ = grpdata.remaze_ev_on_POST_example\n",
    "# corr_sess = grpdata.remaze_corr_across_session\n",
    "# corr_maze_remaze =grpdata.remaze_maze_paircorr\n",
    "# corr_first5h_remaze_subsample =grpdata.remaze_first5_subsample\n",
    "# corr_last5h_remaze =grpdata.remaze_last5_paircorr\n",
    "# corr_first5_last5 =grpdata.post_first5_last5_paircorr\n",
    "# ev_df = grpdata.remaze_ev\n",
    "\n",
    "# ----- remaze temporal bias\n",
    "\n",
    "# bias_df = grpdata.remaze_temporal_bias\n",
    "# tb_com = grpdata.remaze_temporal_bias_com_correlation_across_session\n",
    "\n",
    "\n",
    "# ---- ensembles\n",
    "# ensemble_corr = grpdata.remaze_ensemble_corr_across_sess\n",
    "# ensemble_activation = grpdata.remaze_ensemble_activation_across_sess\n",
    "# activation_df = grpdata.remaze_activation_of_maze\n",
    "\n",
    "fig = Fig(grid=(8, 6), fontsize=8, constrained_layout=True)\n",
    "# fig.fig.suptitle('Figure 5',x=0)\n",
    "filename = subjects.figpath_sd / \"figure5\"\n",
    "caption = \"cool plot\"\n"
   ]
  },
  {
   "cell_type": "markdown",
   "metadata": {},
   "source": [
    "### Example session EV"
   ]
  },
  {
   "cell_type": "code",
   "execution_count": null,
   "metadata": {},
   "outputs": [],
   "source": [
    "from neuropy.core import Epoch\n",
    "\n",
    "gs1 = fig.subplot2grid(fig.gs[0, :3], grid=(5, 2))\n",
    "kw = dict(alpha=0.5, linewidth=0, ec=None)\n",
    "for g, grp in enumerate([\"NSD\", \"SD\"]):\n",
    "    df = ev_df[ev_df.grp == grp]\n",
    "    states = brainstates[brainstates.grp == grp]\n",
    "    t, ev, ev_err, rev, rev_err = (\n",
    "        df[\"Zt\"],\n",
    "        df[\"ev\"],\n",
    "        df[\"ev_std\"],\n",
    "        df[\"rev\"],\n",
    "        df[\"rev_std\"],\n",
    "    )\n",
    "\n",
    "    ax = fig.subplot(gs1[1:, g])\n",
    "    ax.fill_between(t, rev - rev_err, rev + rev_err, color=\"gray\", **kw)\n",
    "    ax.plot(t, rev, color=\"gray\")\n",
    "    ax.fill_between(t, ev - ev_err, ev + ev_err, color=colors_ev[g], **kw)\n",
    "    ax.plot(t, ev, color=colors_ev[g])\n",
    "    ax.set_ylim([0,0.15])\n",
    "    ax.set_xlabel('Zt time (h)')\n",
    "    if g==0:\n",
    "        ax.set_ylabel('Explained variance')\n",
    "\n",
    "\n",
    "    ax_hypno = fig.subplot(gs1[0,g])\n",
    "    epoch = Epoch(states)\n",
    "    plot_hypnogram(epoch,ax=ax_hypno,collapsed=False)\n"
   ]
  },
  {
   "cell_type": "markdown",
   "metadata": {},
   "source": [
    "### paircorr first5h vs remaze"
   ]
  },
  {
   "cell_type": "code",
   "execution_count": null,
   "metadata": {},
   "outputs": [],
   "source": [
    "from matplotlib.colors import LogNorm\n",
    "\n",
    "for i, grp in enumerate([\"NSD\", \"SD\"]):\n",
    "    ax = fig.subplot(fig.gs[1, i])\n",
    "    df = corr_first5h_remaze[corr_first5h_remaze[\"grp\"] == grp]\n",
    "    x, y = df.zt5h.values, df.remaze.values\n",
    "    linreg = stats.linregress(x, y)\n",
    "    xy = np.vstack([x, y])\n",
    "    z = stats.gaussian_kde(xy, bw_method=0.1)(xy)\n",
    "    idx = z.argsort()\n",
    "    x, y, z = x[idx], y[idx], z[idx]\n",
    "\n",
    "    sc = ax.scatter(x, y, c=z, cmap=\"rainbow\", norm=LogNorm(0.7, 628), **scatter_kw)\n",
    "    if i == 0:\n",
    "        cax = ax.inset_axes([0, -0.4, 0.8, 0.05], transform=ax.transAxes)\n",
    "        cb = plt.colorbar(sc, cax=cax, orientation=\"horizontal\")\n",
    "        cb.set_label(\"#pairs\", fontsize=5)\n",
    "        cb.outline.set_linewidth(0.9)\n",
    "        cb.ax.tick_params(labelsize=5)\n",
    "    ax.plot(x, linreg.intercept + linreg.slope * x, color=colors_ev[i])\n",
    "    ax.text(0.3, 0.45, f\"r={linreg.rvalue.round(2)}\", fontdict=dict(fontsize=8))\n",
    "    ax.set_xlim([-0.17, 0.58])\n",
    "    ax.set_ylim([-0.17, 0.58])\n",
    "    ax.set_xlabel(\"Zt0-5\")\n",
    "    ax.set_ylabel(\"Remaze\")\n",
    "\n",
    "subfig = fig.add_subfigure(fig.gs[1,2:4])\n",
    "axs = subfig.subplots(1,2,gridspec_kw=dict(width_ratios=[7,1]))\n",
    "\n",
    "sns.histplot(\n",
    "    data=corr_first5h_bootstrap,\n",
    "    ax=axs[0],\n",
    "    color='#f7ac20',\n",
    "    fill=True,\n",
    "    element='step',\n",
    ")\n",
    "# axs[0].ticklabel_format('x',style='scientific')\n",
    "axs[0].set_xticks([-0.0005,0.0005])\n",
    "axs[0].set_ylim([0,200])\n",
    "# ax.hist(corr_first5h_bootstrap, histtype=\"bar\")\n",
    "axs[1].axvline(diff_first5h)\n",
    "axs[1].set_yticks([])\n",
    "axs[1].spines['left'].set_visible(False)\n",
    "axs[1].set_xticks([diff_first5h],[diff_first5h.round(2)])\n",
    "# ax.set_xlim()\n",
    "# ax.set_yscale('log')\n",
    "# ax.set_xscale('log')\n",
    "# ax.set_ylabel(\"Counts\")\n",
    "# ax.set_xlabel(\"R2 difference\")\n",
    "\n"
   ]
  },
  {
   "cell_type": "markdown",
   "metadata": {},
   "source": [
    "### paircorr last5h vs remaze"
   ]
  },
  {
   "cell_type": "code",
   "execution_count": null,
   "metadata": {},
   "outputs": [],
   "source": [
    "from matplotlib.colors import LogNorm\n",
    "for i, grp in enumerate([\"NSD\", \"SD\"]):\n",
    "    ax = fig.subplot(fig.gs[2, i])\n",
    "    df = corr_last5h_remaze[corr_last5h_remaze[\"grp\"] == grp]\n",
    "    x, y = df.zt5h.values, df.remaze.values\n",
    "    linreg = stats.linregress(x, y)\n",
    "    xy = np.vstack([x,y])\n",
    "    z = stats.gaussian_kde(xy,bw_method=0.1)(xy)\n",
    "    idx = z.argsort()\n",
    "    x, y, z = x[idx], y[idx], z[idx]\n",
    "\n",
    "    sc = ax.scatter(x, y,c=z, cmap='rainbow',norm=LogNorm(0.7,628),**scatter_kw)\n",
    "    if i==0:\n",
    "        cax = ax.inset_axes([0, -0.4, 0.8, 0.05],transform=ax.transAxes)\n",
    "        cb = plt.colorbar(sc,cax=cax,orientation='horizontal')\n",
    "        cb.set_label('#pairs',fontsize=5)\n",
    "        cb.outline.set_linewidth(0.9)\n",
    "        cb.ax.tick_params(labelsize=5)\n",
    "    ax.plot(x, linreg.intercept + linreg.slope * x, color=colors_ev[i])\n",
    "    ax.text(0.3,0.45,f\"r={linreg.rvalue.round(2)}\",fontdict=dict(fontsize=8))\n",
    "    ax.set_xlim([-0.17, 0.58])\n",
    "    ax.set_ylim([-0.17, 0.58])\n",
    "    ax.set_xlabel(\"Zt0-5\")\n",
    "    ax.set_ylabel(\"Remaze\")\n",
    "\n",
    "# ax = fig.subplot(fig.gs[2, 2])\n",
    "# # ax.grid(True,zorder=-5)\n",
    "# sns.histplot(\n",
    "#     data=corr_last5h_bootstrap,\n",
    "#     ax=ax,\n",
    "#     color='#f7ac20',\n",
    "#     fill=True,\n",
    "#     element='step',\n",
    "# )\n",
    "# ax.axvline(diff_last5h)\n",
    "# ax.set_ylabel('Counts')\n",
    "# ax.set_xlabel('R2 difference')\n",
    "# ax.set_yscale('log')\n",
    "# # ax.set_xscale('log')\n",
    "\n",
    "subfig = fig.add_subfigure(fig.gs[2,2:4])\n",
    "axs = subfig.subplots(1,2,gridspec_kw=dict(width_ratios=[7,1]))\n",
    "\n",
    "sns.histplot(\n",
    "    data=corr_last5h_bootstrap,\n",
    "    ax=axs[0],\n",
    "    color='#f7ac20',\n",
    "    fill=True,\n",
    "    element='step',\n",
    ")\n",
    "# axs[0].ticklabel_format('x',style='scientific')\n",
    "axs[0].set_xticks([-0.0005,0.0005])\n",
    "axs[0].set_ylim([0,200])\n",
    "# ax.hist(corr_first5h_bootstrap, histtype=\"bar\")\n",
    "axs[1].axvline(diff_last5h)\n",
    "axs[1].set_yticks([])\n",
    "axs[1].spines['left'].set_visible(False)\n",
    "axs[1].set_xticks([diff_last5h],[diff_last5h.round(2)])\n",
    "# ax.set_xlim()\n",
    "# ax.set_yscale('log')\n",
    "# ax.set_xscale('log')\n",
    "# ax.set_ylabel(\"Counts\")\n",
    "# ax.set_xlabel(\"R2 difference\")\n",
    "\n"
   ]
  },
  {
   "cell_type": "code",
   "execution_count": null,
   "metadata": {},
   "outputs": [],
   "source": [
    "corr_last5h_bootstrap.max()"
   ]
  },
  {
   "cell_type": "markdown",
   "metadata": {},
   "source": [
    "### saving"
   ]
  },
  {
   "cell_type": "code",
   "execution_count": null,
   "metadata": {},
   "outputs": [],
   "source": [
    "fig.savefig(filename,caption=caption)"
   ]
  },
  {
   "cell_type": "raw",
   "metadata": {},
   "source": [
    "### Remaze sessions remaze EV"
   ]
  },
  {
   "cell_type": "raw",
   "metadata": {},
   "source": [
    "subfig = fig.fig.add_subfigure(fig.gs[2:5, :3])\n",
    "axs = subfig.subplots(6, 2, gridspec_kw=dict(height_ratios=[1, 4, 1, 4, 1, 4]))\n",
    "\n",
    "kw = dict(alpha=0.5, linewidth=0, ec=None)\n",
    "for g, grp in enumerate([\"NSD\", \"SD\"]):\n",
    "    grp_df = ev_on_post[ev_on_post.grp == grp]\n",
    "    subs = np.unique(grp_df[\"sub\"].values)\n",
    "    for i in range(len(subs)):\n",
    "        df = grp_df[grp_df[\"sub\"] == subs[i]]\n",
    "        states = remaze_ev_on_post_states[\n",
    "            remaze_ev_on_post_states[\"sub\"] == subs[i]\n",
    "        ].reset_index(drop=True)\n",
    "        t, ev, ev_err, rev, rev_err = (\n",
    "            df[\"Zt\"],\n",
    "            df[\"ev\"],\n",
    "            df[\"ev_std\"],\n",
    "            df[\"rev\"],\n",
    "            df[\"rev_std\"],\n",
    "        )\n",
    "\n",
    "        ax = axs[2*i+1, g]\n",
    "        ax.fill_between(t, ev - ev_err, ev + ev_err, color=colors_ev[g], **kw)\n",
    "        ax.plot(t, ev, color=colors_ev[g])\n",
    "        ax.set_ylim([0, 0.16])\n",
    "        ax.set_xlabel(\"Zt time (h)\")\n",
    "        if g == 0:\n",
    "            ax.set_ylabel(\"Explained variance\")\n",
    "\n",
    "        ax_hypno = axs[2*i, g]\n",
    "        epoch = Epoch(states.copy())\n",
    "        plot_hypnogram(epochs=epoch, ax=ax_hypno, collapsed=False)\n"
   ]
  },
  {
   "cell_type": "markdown",
   "metadata": {},
   "source": [
    "### correlation across session"
   ]
  },
  {
   "cell_type": "raw",
   "metadata": {},
   "source": [
    "\n",
    "for i,corr in enumerate(corr_sess):\n",
    "    np.fill_diagonal(corr,0) \n",
    "    ax = fig.subplot(fig.gs[0,i])\n",
    "    ax.imshow(corr_sess[i],cmap='jet',origin='lower',aspect='auto')\n",
    "    ax.axis('off')\n",
    "fig.panel_label(ax,'A')"
   ]
  },
  {
   "cell_type": "markdown",
   "metadata": {},
   "source": [
    "### paircorr last5h vs remaze"
   ]
  },
  {
   "cell_type": "raw",
   "metadata": {},
   "source": [
    "\n",
    "for i, grp in enumerate(['NSD','SD']):\n",
    "    ax = fig.subplot(fig.gs[0,i+2])\n",
    "    df = corr_maze_remaze[corr_maze_remaze['grp']==grp]\n",
    "    linreg = stats.linregress(df['maze'],df['remaze'])\n",
    "\n",
    "    ax.scatter(df['maze'],df['remaze'],c=colors_scatter[i],**scatter_kw)\n",
    "    ax.plot(df['maze'],linreg.intercept + linreg.slope*df['maze'],'gray')\n",
    "    ax.set_title(f'r={linreg.rvalue.round(2)}')\n",
    "    ax.set_xlim([-0.2,0.7])\n",
    "    ax.set_ylim([-0.2,0.7])\n",
    "    ax.set_xlabel('Maze')\n",
    "    ax.set_ylabel('Remaze')\n",
    "\n"
   ]
  },
  {
   "cell_type": "markdown",
   "metadata": {},
   "source": [
    "### paircorr maze vs remaze"
   ]
  },
  {
   "cell_type": "raw",
   "metadata": {},
   "source": [
    "\n",
    "for i, grp in enumerate(['NSD','SD']):\n",
    "    ax = fig.subplot(fig.gs[1,i+2])\n",
    "    df = corr_last5h_remaze[corr_last5h_remaze['grp']==grp]\n",
    "    linreg = stats.linregress(df['e1'],df['e2'])\n",
    "\n",
    "    ax.scatter(df['e1'],df['e2'],c=colors_scatter[i],**scatter_kw)\n",
    "    ax.plot(df['e1'],linreg.intercept + linreg.slope*df['e1'],'gray')\n",
    "    # ax.hexbin(df['e1'],df['e2'])\n",
    "    ax.set_title(f'r={linreg.rvalue.round(2)}')\n",
    "    ax.set_xlim([-0.1,0.5])\n",
    "    ax.set_ylim([-0.1,0.5])\n",
    "    ax.set_xlabel('Zt5-end')\n",
    "    ax.set_ylabel('Remaze')\n",
    "\n"
   ]
  },
  {
   "cell_type": "markdown",
   "metadata": {},
   "source": [
    "### paircorr first5 vs last5"
   ]
  },
  {
   "cell_type": "raw",
   "metadata": {},
   "source": [
    "\n",
    "for i, grp in enumerate(['NSD','SD']):\n",
    "    ax = fig.subplot(fig.gs[2,i])\n",
    "    df = corr_first5_last5[corr_first5_last5['grp']==grp]\n",
    "    linreg = stats.linregress(df['e1'],df['e2'])\n",
    "\n",
    "    ax.scatter(df['e1'],df['e2'],c=colors_scatter[i],**scatter_kw)\n",
    "    ax.plot(df['e1'],linreg.intercept + linreg.slope*df['e1'],'gray')\n",
    "    # ax.hexbin(df['e1'],df['e2'])\n",
    "    ax.set_title(f'r={linreg.rvalue.round(2)}')\n",
    "    ax.set_xlim([-0.1,0.5])\n",
    "    ax.set_ylim([-0.1,0.5])\n",
    "    ax.set_xlabel('Zt0-5')\n",
    "    ax.set_ylabel('Zt5-end')\n",
    "\n"
   ]
  },
  {
   "cell_type": "markdown",
   "metadata": {},
   "source": [
    "### ev"
   ]
  },
  {
   "cell_type": "raw",
   "metadata": {},
   "source": [
    "from statannotations.Annotator import Annotator\n",
    "ax = fig.subplot(fig.gs[0])\n",
    "sns.boxplot(\n",
    "    data=ev_df,\n",
    "    x=\"grp\",\n",
    "    y=\"ev\",\n",
    "    hue=\"ev_name\",\n",
    "    palette=[\"#616161\", \"#BDBDBD\"],\n",
    "    medianprops=dict(color='w',lw=1.5),\n",
    "    showcaps=False,\n",
    "    boxprops=dict(edgecolor='none'),\n",
    "    ax=ax,\n",
    ")\n",
    "pairs = [\n",
    "    ((\"nsd\", \"ev\"), (\"nsd\", \"rev\")),\n",
    "    ((\"sd\", \"ev\"), (\"sd\", \"rev\")),\n",
    "    ((\"nsd\", \"ev\"), (\"sd\", \"ev\")),\n",
    "\n",
    "]\n",
    "\n",
    "# annotator = Annotator(\n",
    "#     ax,\n",
    "#     pairs,\n",
    "#     data=ev_df,\n",
    "#     x=\"grp\",\n",
    "#     y=\"ev\",\n",
    "#     order=['nsd','sd'],\n",
    "#     hue=\"ev_name\",\n",
    "#     hue_order=['ev','rev'],\n",
    "# )\n",
    "# annotator.configure(test=\"t-test_welch\", text_format=\"star\", loc=\"outside\")\n",
    "# annotator.apply_and_annotate()\n",
    "\n",
    "\n",
    "ax.legend('',frameon=False)"
   ]
  },
  {
   "cell_type": "markdown",
   "metadata": {},
   "source": [
    "### temporal bias maze vs remaze"
   ]
  },
  {
   "cell_type": "raw",
   "metadata": {},
   "source": [
    "ax = fig.subplot(fig.gs[1])\n",
    "# ax.set_xlim([-5000,6000])\n",
    "# ax.spines['left'].set_position(('data',0))\n",
    "# ax.spines['bottom'].set_position(('data',0))\n",
    "\n",
    "sns.kdeplot(data=bias_df,x='maze',y='remaze',hue='grp',palette=colors_bias)\n",
    "# for i,grp in enumerate(group):\n",
    "#     sns.kdeplot(\n",
    "#         data=bias_df[bias_df['grp']==grp],\n",
    "#         x=\"maze\",\n",
    "#         y=\"remaze\",\n",
    "#         # hue=\"grp\",\n",
    "#         color=colors_bias[i],\n",
    "#         # x_partial=\"pre\",\n",
    "#         # y_partial=\"pre\",\n",
    "#         scatter_kws={\"s\": 2,'alpha':0.3,'rasterized':True},\n",
    "#         # col='grp',\n",
    "#         ax=ax,\n",
    "#     )\n",
    "\n",
    "# ax.set_xticks([])\n",
    "# ax.set_yticks([])\n",
    "\n"
   ]
  },
  {
   "cell_type": "markdown",
   "metadata": {},
   "source": [
    "### maze activation on remaze"
   ]
  },
  {
   "cell_type": "raw",
   "metadata": {},
   "source": [
    "ax = fig.subplot(fig.gs[1])\n",
    "sns.boxplot(\n",
    "    data=activation_df,\n",
    "    x=\"grp\",\n",
    "    y=\"activation\",\n",
    "    ax=ax,\n",
    "    medianprops=dict(color=\"w\", lw=1.5),\n",
    "    showcaps=False,\n",
    "    boxprops=dict(edgecolor=\"none\"),\n",
    "    width=0.4,\n",
    ")\n"
   ]
  },
  {
   "cell_type": "markdown",
   "metadata": {},
   "source": [
    "### temporal bias COM across sesssion"
   ]
  },
  {
   "cell_type": "raw",
   "metadata": {},
   "source": [
    "\n",
    "for i, key in enumerate(group):\n",
    "    ax = fig.subplot(fig.gs[1,i])\n",
    "    ax.imshow(\n",
    "        tb_com[key],\n",
    "        cmap=\"jet\",\n",
    "        vmin=-0.15,\n",
    "        vmax=0.15,\n",
    "        origin=\"lower\",\n",
    "    )\n",
    "    ax.set_xlabel(\"Epochs\")\n",
    "    ax.set_ylabel(\"Epochs\")\n",
    "    ax.set_xticks(np.arange(11), tb_com['epoch_names'])\n",
    "    ax.set_yticks(np.arange(11), tb_com['epoch_names'])\n",
    "    ax.tick_params(\"x\", labelrotation=90)\n",
    "\n"
   ]
  },
  {
   "cell_type": "markdown",
   "metadata": {},
   "source": [
    "### Ensemble correlation across sesssion"
   ]
  },
  {
   "cell_type": "raw",
   "metadata": {},
   "source": [
    "\n",
    "for i, key in enumerate(group):\n",
    "    ax = fig.subplot(fig.gs[2,i])\n",
    "    ax.imshow(\n",
    "        ensemble_corr[key],\n",
    "        cmap=\"jet\",\n",
    "        vmin=-0.01,\n",
    "        vmax=0.02,\n",
    "        origin=\"lower\",\n",
    "    )\n",
    "    ax.set_xlabel(\"Epochs\")\n",
    "    ax.set_ylabel(\"Epochs\")\n",
    "    ax.set_xticks(np.arange(5), ensemble_corr['epoch_names'])\n",
    "    ax.set_yticks(np.arange(5),ensemble_corr['epoch_names'])\n",
    "    ax.tick_params(\"x\", labelrotation=90)"
   ]
  },
  {
   "cell_type": "markdown",
   "metadata": {},
   "source": [
    "### Ensemble activation across sesssion"
   ]
  },
  {
   "cell_type": "raw",
   "metadata": {},
   "source": [
    "\n",
    "for i, key in enumerate(group):\n",
    "    ax = fig.subplot(fig.gs[2,i])\n",
    "    ax.imshow(\n",
    "        ensemble_activation[key],\n",
    "        cmap=\"jet\",\n",
    "        vmin=0,\n",
    "        vmax=0.3,\n",
    "        origin=\"lower\",\n",
    "    )\n",
    "    ax.set_xlabel(\"Epochs\")\n",
    "    ax.set_ylabel(\"Epochs\")\n",
    "    ax.set_xticks(np.arange(5), ensemble_activation['epoch_names'])\n",
    "    ax.set_yticks(np.arange(5),ensemble_activation['epoch_names'])\n",
    "    ax.tick_params(\"x\", labelrotation=90)\n",
    "\n"
   ]
  }
 ],
 "metadata": {
  "interpreter": {
   "hash": "cce1618081139d19eb1ee8d40815d94a2de4f62e1efb20d9406ddb60628c36ae"
  },
  "kernelspec": {
   "display_name": "Python 3.9.6 64-bit ('data_analysis': conda)",
   "name": "python3"
  },
  "language_info": {
   "codemirror_mode": {
    "name": "ipython",
    "version": 3
   },
   "file_extension": ".py",
   "mimetype": "text/x-python",
   "name": "python",
   "nbconvert_exporter": "python",
   "pygments_lexer": "ipython3",
   "version": "3.10.4"
  },
  "orig_nbformat": 4
 },
 "nbformat": 4,
 "nbformat_minor": 2
}
