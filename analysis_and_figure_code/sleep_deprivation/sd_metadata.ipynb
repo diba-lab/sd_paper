{
    "cells": [
        {
            "cell_type": "markdown",
            "metadata": {},
            "source": [
                "### Imports"
            ]
        },
        {
            "cell_type": "code",
            "execution_count": null,
            "metadata": {},
            "outputs": [],
            "source": [
                "import numpy as np\n",
                "import pandas as pd\n",
                "import matplotlib.pyplot as plt\n",
                "import subjects"
            ]
        },
        {
            "cell_type": "markdown",
            "metadata": {},
            "source": [
                "### Check data table across sessions"
            ]
        },
        {
            "cell_type": "code",
            "execution_count": null,
            "metadata": {},
            "outputs": [],
            "source": [
                "import subjects\n",
                "\n",
                "sessions = subjects.nsd.pf_sess + subjects.sd.pf_sess\n",
                "\n",
                "subjects.data_table(sessions)\n"
            ]
        },
        {
            "cell_type": "markdown",
            "metadata": {},
            "source": [
                "### Pooled creation of sessions metadata"
            ]
        },
        {
            "cell_type": "code",
            "execution_count": null,
            "metadata": {},
            "outputs": [],
            "source": [
                "import subjects\n",
                "from neuropy.core import Animal\n",
                "\n",
                "# sessions = subjects.sd.allsess #+ subjects.nsd.allsess\n",
                "# sessions = subjects.sd.ratUday1 + subjects.nsd.ratVday3\n",
                "sessions = subjects.mua_sess()\n",
                "for sess in sessions:\n",
                "    sub_name = sess.sub_name[-1]\n",
                "    # print(sess.animal.name,sess.animal.sex)\n",
                "\n",
                "    if sub_name in [\"J\", \"K\", \"U\", \"V\"]:\n",
                "        sex = \"male\"\n",
                "    else:\n",
                "        sex = \"female\"\n",
                "\n",
                "    if sub_name in [\"J\"]:\n",
                "        probe = \"Buzsaki-64chan-8shanks\"\n",
                "        brain_region = \"CA1\"\n",
                "    elif sub_name in [\"K\", \"N\"]:\n",
                "        probe = \"Diagnostic-biochips-128chan-8shanks\"\n",
                "        brain_region = \"CA1\"\n",
                "    elif sub_name in [\"S\"]:\n",
                "        probe = [\"Cambridge-64chan-6shanks\", \"Diagnostic-biochips-128chan-8shanks\"]\n",
                "        brain_region = \"bilateral CA1\"\n",
                "    elif sub_name in [\"R\", \"U\", \"V\"]:\n",
                "        probe = [\n",
                "            \"Diagnostic-biochips-128chan-8shanks\",\n",
                "            \"Diagnostic-biochips-128chan-8shanks\",\n",
                "        ]\n",
                "        brain_region = \"bilateral CA1\"\n",
                "\n",
                "    name_str = sess.filePrefix.name \n",
                "    day = 'Day'+name_str[name_str.find('Day')+3]\n",
                "\n",
                "    animal = Animal(\n",
                "        name=sess.sub_name, sex=sex, brain_region=brain_region, probe=probe, day=day\n",
                "    )\n",
                "    animal.save(sess.filePrefix.with_suffix(\".animal\"))\n"
            ]
        },
        {
            "cell_type": "markdown",
            "metadata": {},
            "source": [
                "### Number of neurons"
            ]
        },
        {
            "cell_type": "code",
            "execution_count": null,
            "metadata": {},
            "outputs": [],
            "source": [
                "sessions = subjects.mua_sess()\n",
                "\n",
                "neur_df = []\n",
                "for s,sess in enumerate(sessions):\n",
                "    n_type = sess.neurons_stable.neuron_type\n",
                "    n_pyr = np.count_nonzero(n_type=='pyr')\n",
                "    n_inter = np.count_nonzero(n_type=='inter')\n",
                "    neur_df.append(pd.DataFrame(dict(pyr=[n_pyr],inter=[n_inter],grp=sess.tag)))\n",
                "neur_df = pd.concat(neur_df,ignore_index=True)\n",
                "neur_df.sum()"
            ]
        },
        {
            "cell_type": "markdown",
            "metadata": {},
            "source": [
                "### Paradigm durations"
            ]
        },
        {
            "cell_type": "code",
            "execution_count": null,
            "metadata": {},
            "outputs": [],
            "source": [
                "from neuropy.core import Epoch\n",
                "\n",
                "sessions = subjects.ripple_sess()\n",
                "\n",
                "epoch_dur = []\n",
                "for s,sess in enumerate(sessions):\n",
                "    paradigm = sess.paradigm\n",
                "\n",
                "    # if sess.tag=='SD':\n",
                "    #     post = sess.paradigm['post'].flatten()\n",
                "    #     rs = Epoch.from_array([post[0]+5*3600],[post[0]+5*3600],['rs']) \n",
                "    #     paradigm = paradigm + rs \n",
                "\n",
                "    epoch_dur.append(paradigm.to_dataframe())\n",
                "\n",
                "\n",
                "epoch_dur = pd.concat(epoch_dur,ignore_index=True)\n",
                "\n",
                "epoch_dur.groupby('label').mean()/3600"
            ]
        },
        {
            "cell_type": "markdown",
            "metadata": {},
            "source": [
                "### POST duration lengths"
            ]
        },
        {
            "cell_type": "code",
            "execution_count": null,
            "metadata": {},
            "outputs": [],
            "source": [
                "import numpy as np\n",
                "import subjects\n",
                "\n",
                "sessions = subjects.sd.allsess + subjects.nsd.allsess"
            ]
        },
        {
            "cell_type": "code",
            "execution_count": null,
            "metadata": {},
            "outputs": [],
            "source": [
                "for sub,sess in enumerate(sessions):\n",
                "    post= sess.paradigm['post'].flatten()\n",
                "    print(np.diff(post)/3600)"
            ]
        },
        {
            "attachments": {},
            "cell_type": "markdown",
            "metadata": {},
            "source": [
                "### Number of neurons discarded because of stability"
            ]
        },
        {
            "cell_type": "code",
            "execution_count": null,
            "metadata": {},
            "outputs": [],
            "source": [
                "sessions = subjects.mua_sess()\n",
                "\n",
                "n_neurons,n_stable_neurons = 0,0\n",
                "for s, sess in enumerate(sessions):\n",
                "\n",
                "    neurons = sess.neurons.get_neuron_type(['pyr','inter']) \n",
                "    n_neurons += neurons.n_neurons\n",
                "\n",
                "    stable_neurons = sess.neurons_stable.get_neuron_type(['pyr','inter']) \n",
                "    n_stable_neurons += stable_neurons.n_neurons\n"
            ]
        },
        {
            "cell_type": "code",
            "execution_count": null,
            "metadata": {},
            "outputs": [],
            "source": [
                "good_perc = (n_stable_neurons/n_neurons) * 100\n",
                "\n",
                "print(good_perc)"
            ]
        },
        {
            "attachments": {},
            "cell_type": "markdown",
            "metadata": {},
            "source": [
                "### Total artifact duration"
            ]
        },
        {
            "cell_type": "code",
            "execution_count": null,
            "metadata": {},
            "outputs": [],
            "source": [
                "sessions = subjects.mua_sess()\n",
                "\n",
                "total_duration, artifact_duration = 0,0\n",
                "for s, sess in enumerate(sessions):\n",
                "\n",
                "    total_duration += sess.eegfile.duration\n",
                "    if sess.artifact is not None:\n",
                "        artifact_duration += sess.artifact.durations.sum()\n",
                "\n",
                "print((artifact_duration/total_duration)*100)\n",
                "\n"
            ]
        },
        {
            "attachments": {},
            "cell_type": "markdown",
            "metadata": {},
            "source": [
                "### Average number of spikes"
            ]
        },
        {
            "cell_type": "code",
            "execution_count": null,
            "metadata": {},
            "outputs": [],
            "source": [
                "sessions = subjects.mua_sess()\n",
                "\n",
                "n_spikes,n_neurons = 0,0\n",
                "for s, sess in enumerate(sessions):\n",
                "\n",
                "    n_spikes +=  np.concatenate(sess.neurons) \n",
                "    if sess.artifact is not None:\n",
                "        artifact_duration += sess.artifact.durations.sum()\n",
                "\n",
                "print((artifact_duration/total_duration)*100)\n",
                "\n"
            ]
        }
    ],
    "metadata": {
        "interpreter": {
            "hash": "cce1618081139d19eb1ee8d40815d94a2de4f62e1efb20d9406ddb60628c36ae"
        },
        "kernelspec": {
            "display_name": "Python 3.10.4 ('data_analysis')",
            "language": "python",
            "name": "python3"
        },
        "language_info": {
            "codemirror_mode": {
                "name": "ipython",
                "version": 3
            },
            "file_extension": ".py",
            "mimetype": "text/x-python",
            "name": "python",
            "nbconvert_exporter": "python",
            "pygments_lexer": "ipython3",
            "version": "3.11.0"
        },
        "orig_nbformat": 4
    },
    "nbformat": 4,
    "nbformat_minor": 2
}
