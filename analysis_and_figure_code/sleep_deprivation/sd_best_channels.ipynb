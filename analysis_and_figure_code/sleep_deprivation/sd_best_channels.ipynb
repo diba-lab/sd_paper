{
 "cells": [
  {
   "attachments": {},
   "cell_type": "markdown",
   "metadata": {},
   "source": [
    "### Imports"
   ]
  },
  {
   "cell_type": "code",
   "execution_count": 1,
   "metadata": {},
   "outputs": [],
   "source": [
    "import numpy as np\n",
    "import pandas as pd\n",
    "import seaborn as sns\n",
    "from scipy import stats\n",
    "import scipy.signal as sg\n",
    "import matplotlib.pyplot as plt\n",
    "from tqdm.notebook import tqdm\n",
    "from neuropy import plotting\n",
    "from joblib import Parallel, delayed\n",
    "from neuropy.utils.signal_process import (\n",
    "    filter_sig,\n",
    "    hilbert_amplitude_stat,\n",
    "    hilbertfast,\n",
    "    FourierSg,\n",
    ")\n",
    "from dip import diptst\n",
    "from signal_process_utils import get_sw_theta_bimodal_params\n",
    "from neuropy.core import Signal\n",
    "import subjects\n",
    "from numpy.polynomial.polynomial import polyfit"
   ]
  },
  {
   "attachments": {},
   "cell_type": "markdown",
   "metadata": {},
   "source": [
    "### Best theta and delta channels"
   ]
  },
  {
   "cell_type": "code",
   "execution_count": null,
   "metadata": {},
   "outputs": [],
   "source": [
    "# sessions = subjects.sd.ratSday3\n",
    "sessions = subjects.ripple_sess()\n",
    "\n",
    "\n",
    "for s, sess in enumerate(tqdm(sessions)):\n",
    "    maze = sess.paradigm[\"maze\"].flatten()\n",
    "    aw = sess.brainstates_fine[\"AW\"].duration_slice(10, 500)[:15]\n",
    "    qw = sess.brainstates_fine[\"QW\"].duration_slice(10, 500)[:15]\n",
    "    nrem = sess.brainstates_fine[\"NREM\"].duration_slice(250, 500)[:5]\n",
    "    rem = sess.brainstates_fine[\"REM\"].duration_slice(100, 200)[:3]\n",
    "\n",
    "    states = aw + qw + nrem + rem\n",
    "\n",
    "    goodchan_grp = sess.probegroup.get_connected_channels()\n",
    "    good_channels = np.concatenate(goodchan_grp).astype(\"int\")\n",
    "\n",
    "    lfps = sess.eegfile.get_frames_within_epochs(states, good_channels)\n",
    "    bimodal_params = Parallel(n_jobs=8)(\n",
    "        delayed(get_sw_theta_bimodal_params)(_) for _ in lfps\n",
    "    )\n",
    "    bimodal_params = np.array(bimodal_params)\n",
    "\n",
    "    best_channels = {\n",
    "        \"slow_wave\": good_channels[np.argmax(bimodal_params[:, 0])],\n",
    "        \"theta\": good_channels[np.argmax(bimodal_params[:, 2])],\n",
    "    }\n",
    "\n",
    "    # np.save(sess.filePrefix.with_suffix(\".best_channels.npy\"), best_channels)"
   ]
  },
  {
   "cell_type": "code",
   "execution_count": null,
   "metadata": {},
   "outputs": [],
   "source": [
    "from neuropy.utils.signal_process import FourierSg\n",
    "\n",
    "lfp = sess.eegfile.get_frames_within_epochs(states, 189)\n",
    "signal = Signal(traces=lfp, sampling_rate=1250)\n",
    "spect = FourierSg(signal, window=2, overlap=1)\n",
    "\n",
    "delta = spect.get_band_power(1, 30)\n",
    "bins = np.linspace(delta.min(), delta.max(), 200)\n",
    "hist_delta = np.histogram(delta, bins)[0]\n",
    "\n",
    "_, ax = plt.subplots(1, 2)\n",
    "ax[0].imshow(spect.freq_slice(0, 30).traces, aspect=\"auto\", origin=\"lower\", vmax=0.5)\n",
    "ax[1].plot(hist_delta)"
   ]
  },
  {
   "attachments": {},
   "cell_type": "markdown",
   "metadata": {},
   "source": [
    "### Test best channels"
   ]
  },
  {
   "cell_type": "code",
   "execution_count": null,
   "metadata": {},
   "outputs": [],
   "source": [
    "sessions = subjects.nsd.ratUday2\n",
    "\n",
    "for s, sess in enumerate(sessions):\n",
    "    chan1 = sess.best_channels.slow_wave\n",
    "    chan2 = 111\n",
    "    print(chan1, chan2)\n",
    "\n",
    "    delta = []\n",
    "    for chan in [chan1, chan2]:\n",
    "        signal = sess.eegfile.get_signal(chan)\n",
    "        freqs = np.geomspace(1, 100, 100)\n",
    "        # freqs = freqs[(freqs < 57) | (freqs > 63)]\n",
    "        spect = FourierSg(signal, window=2, overlap=1, freqs=freqs, norm_sig=True)\n",
    "        delta.append(spect.get_band_power(1, 4))"
   ]
  },
  {
   "cell_type": "code",
   "execution_count": null,
   "metadata": {},
   "outputs": [],
   "source": [
    "_, ax = plt.subplots(2, 1, sharex=True)\n",
    "\n",
    "for i in range(2):\n",
    "    x = delta[i]\n",
    "    max_val = stats.scoreatpercentile(x, 90)\n",
    "    print(max_val)\n",
    "    bins = np.linspace(x.min(), max_val, 200)\n",
    "    hist_x = np.histogram(x, bins)[0]\n",
    "    # ax[i].plot(bins[:-1], hist_x)\n",
    "    # ax[i].plot(bins[:-1], hist_x)\n",
    "    ax[i].plot(spect.time / 60, delta[i])\n",
    "    # ax[i].set_ylim(-0.1, 3)\n",
    "    # ax[i].set_ylim(-0.01, top=stats.scoreatpercentile(delta[i], 99.8))"
   ]
  },
  {
   "cell_type": "code",
   "execution_count": null,
   "metadata": {},
   "outputs": [],
   "source": [
    "_, ax = plt.subplots()\n",
    "# ax.plot(stats.zscore(spect.traces.sum(axis=0)))\n",
    "ax.plot(spect.get_band_power(1, 4))\n",
    "ax.plot(spect.get_band_power(9, 15))"
   ]
  },
  {
   "cell_type": "code",
   "execution_count": 83,
   "metadata": {},
   "outputs": [],
   "source": [
    "wake = (\n",
    "    (sess.brainstates_fine[\"QW\"] + sess.brainstates_fine[\"AW\"])\n",
    "    .set_labels(\"WK\")\n",
    "    .merge_neighbors()\n",
    ")\n",
    "rem = sess.brainstates_fine[\"REM\"]"
   ]
  },
  {
   "cell_type": "code",
   "execution_count": 6,
   "metadata": {},
   "outputs": [
    {
     "data": {
      "text/plain": [
       "True"
      ]
     },
     "execution_count": 6,
     "metadata": {},
     "output_type": "execute_result"
    }
   ],
   "source": [
    "isinstance(\"sdfd sdf\", str)"
   ]
  }
 ],
 "metadata": {
  "kernelspec": {
   "display_name": "ephys_analysis",
   "language": "python",
   "name": "python3"
  },
  "language_info": {
   "codemirror_mode": {
    "name": "ipython",
    "version": 3
   },
   "file_extension": ".py",
   "mimetype": "text/x-python",
   "name": "python",
   "nbconvert_exporter": "python",
   "pygments_lexer": "ipython3",
   "version": "3.11.3"
  },
  "orig_nbformat": 4
 },
 "nbformat": 4,
 "nbformat_minor": 2
}
