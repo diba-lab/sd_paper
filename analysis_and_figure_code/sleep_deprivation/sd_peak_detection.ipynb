{
 "cells": [
  {
   "cell_type": "code",
   "execution_count": null,
   "metadata": {},
   "outputs": [],
   "source": [
    "import numpy as np\n",
    "import pandas as pd\n",
    "import seaborn as sns\n",
    "from scipy import stats\n",
    "import scipy.signal as sg\n",
    "import matplotlib.pyplot as plt\n",
    "from neuropy import plotting\n",
    "import subjects"
   ]
  },
  {
   "attachments": {},
   "cell_type": "markdown",
   "metadata": {},
   "source": [
    "### Schmitt trigger tests"
   ]
  },
  {
   "cell_type": "code",
   "execution_count": null,
   "metadata": {},
   "outputs": [],
   "source": [
    "from neuropy.utils.mathutil import schmitt_threshold\n",
    "\n",
    "rng = np.random.default_rng()\n",
    "\n",
    "x = np.linspace(0, 50, 1000)\n",
    "y = np.sin(x) + np.sin(x / 4)\n",
    "\n",
    "low_thresh, high_thresh = -0.5, 0.5\n",
    "# labels = schmitt_threshold(y, low_thresh, high_thresh)\n",
    "a1 = y >= low_thresh\n",
    "a2 = y >= high_thresh\n",
    "\n",
    "_, ax = plt.subplots()\n",
    "\n",
    "ax.plot(x, y)\n",
    "ax.axhline(low_thresh, color=\"k\", ls=\"--\")\n",
    "ax.axhline(high_thresh, color=\"k\", ls=\"--\")\n",
    "ax2 = ax.twinx()\n",
    "ax2.plot(x, a1, \"r\")\n",
    "ax2.plot(x, a2, \"g\")"
   ]
  },
  {
   "cell_type": "code",
   "execution_count": 54,
   "metadata": {},
   "outputs": [],
   "source": [
    "import numpy as np\n",
    "\n",
    "overUP = y > high_thresh\n",
    "overDOWN = y > low_thresh\n",
    "\n",
    "crossup = np.where(np.diff(overUP) == 1)[0]\n",
    "crossdown = np.where(np.diff(overDOWN) == -1)[0]\n",
    "\n",
    "allcrossings = np.vstack((crossup, np.ones_like(crossup))).T\n",
    "allcrossings = np.vstack(\n",
    "    (allcrossings, np.vstack((crossdown, np.zeros_like(crossdown))).T)\n",
    ")\n",
    "\n",
    "sortorder = np.argsort(allcrossings[:, 0])\n",
    "allcrossings = allcrossings[sortorder, :]\n",
    "updownswitch = np.diff(allcrossings[:, 1])\n",
    "samestate = np.where(updownswitch == 0)[0] + 1\n",
    "# allcrossings = np.delete(allcrossings, samestate, axis=0)\n",
    "\n",
    "# crossup = allcrossings[allcrossings[:, 1] == 1, 0]\n",
    "# crossdown = allcrossings[allcrossings[:, 1] == 0, 0]"
   ]
  },
  {
   "cell_type": "code",
   "execution_count": 55,
   "metadata": {},
   "outputs": [
    {
     "data": {
      "text/plain": [
       "array([[  8,   1],\n",
       "       [ 67,   1],\n",
       "       [115,   1],\n",
       "       [191,   1],\n",
       "       [266,   1],\n",
       "       [288,   1],\n",
       "       [510,   1],\n",
       "       [569,   1],\n",
       "       [617,   1],\n",
       "       [693,   1],\n",
       "       [768,   1],\n",
       "       [790,   1]])"
      ]
     },
     "execution_count": 55,
     "metadata": {},
     "output_type": "execute_result"
    }
   ],
   "source": [
    "allcrossings"
   ]
  },
  {
   "cell_type": "code",
   "execution_count": 44,
   "metadata": {},
   "outputs": [
    {
     "data": {
      "text/plain": [
       "(1, 2)"
      ]
     },
     "execution_count": 44,
     "metadata": {},
     "output_type": "execute_result"
    }
   ],
   "source": [
    "allcrossings.shape"
   ]
  }
 ],
 "metadata": {
  "kernelspec": {
   "display_name": "ephys_analysis",
   "language": "python",
   "name": "python3"
  },
  "language_info": {
   "codemirror_mode": {
    "name": "ipython",
    "version": 3
   },
   "file_extension": ".py",
   "mimetype": "text/x-python",
   "name": "python",
   "nbconvert_exporter": "python",
   "pygments_lexer": "ipython3",
   "version": "3.11.3"
  },
  "orig_nbformat": 4
 },
 "nbformat": 4,
 "nbformat_minor": 2
}
