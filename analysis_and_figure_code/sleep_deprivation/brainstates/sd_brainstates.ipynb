{
 "cells": [
  {
   "attachments": {},
   "cell_type": "markdown",
   "metadata": {},
   "source": [
    "### Imports"
   ]
  },
  {
   "cell_type": "code",
   "execution_count": 1,
   "metadata": {},
   "outputs": [],
   "source": [
    "%load_ext autoreload\n",
    "%autoreload 2\n",
    "import sys\n",
    "sys.path.extend(['/home/nkinsky/Documents/GitHub/NeuroPy'])\n",
    "sys.path.extend(['/home/nkinsky/Documents/GitHubPrivate/pythonprogs/DataPaths/'])\n",
    "\n",
    "import numpy as np\n",
    "import pandas as pd\n",
    "import seaborn as sns\n",
    "from scipy import stats\n",
    "import scipy.signal as sg\n",
    "import matplotlib.pyplot as plt\n",
    "from neuropy import plotting\n",
    "import subjects"
   ]
  },
  {
   "attachments": {},
   "cell_type": "markdown",
   "metadata": {},
   "source": [
    "### Sleep state detection"
   ]
  },
  {
   "cell_type": "code",
   "execution_count": 3,
   "metadata": {},
   "outputs": [
    {
     "name": "stdout",
     "output_type": "stream",
     "text": [
      "channel for sleep detection: (61, 14)\n",
      "spectral properties calculated\n"
     ]
    }
   ],
   "source": [
    "from neuropy.analyses import detect_brainstates_epochs\n",
    "\n",
    "sessions = subjects.sd.ratKday1\n",
    "# sessions = subjects.nsd.ratUday2\n",
    "# sessions = subjects.sd.ratJday1\n",
    "# sessions = subjects.ripple_sess()\n",
    "# sessions = subjects.nsd.ratSday2\n",
    "# sessions = subjects.nsd.ratJday2\n",
    "# sessions = subjects.sd.ratSday3\n",
    "\n",
    "for sub, sess in enumerate(sessions):\n",
    "    signal = sess.eegfile.get_signal()\n",
    "    brainstates = detect_brainstates_epochs(\n",
    "        signal,\n",
    "        probe=sess.probegroup,\n",
    "        theta_channel=sess.best_channels.theta,\n",
    "        delta_channel=sess.best_channels.slow_wave,\n",
    "        sigma=4,\n",
    "        ignore_epochs=sess.artifact,\n",
    "        window=2,\n",
    "        overlap=1,\n",
    "        emg_signal=sess.emg,\n",
    "        # plot=False,\n",
    "        # fp_bokeh_plot=sess.filePrefix.with_suffix(\".brainstates_scoring.html\"),\n",
    "        threshold_type=\"schmitt\",\n",
    "    )\n",
    "\n",
    "    # brainstates.save(sess.filePrefix.with_suffix(\".brainstates.finer\"))"
   ]
  },
  {
   "attachments": {},
   "cell_type": "markdown",
   "metadata": {},
   "source": [
    "### Curate some misclassification"
   ]
  },
  {
   "cell_type": "code",
   "execution_count": 35,
   "metadata": {},
   "outputs": [
    {
     "name": "stdout",
     "output_type": "stream",
     "text": [
      "[15120, 32400.0]\n"
     ]
    },
    {
     "data": {
      "text/html": [
       "<div>\n",
       "<style scoped>\n",
       "    .dataframe tbody tr th:only-of-type {\n",
       "        vertical-align: middle;\n",
       "    }\n",
       "\n",
       "    .dataframe tbody tr th {\n",
       "        vertical-align: top;\n",
       "    }\n",
       "\n",
       "    .dataframe thead th {\n",
       "        text-align: right;\n",
       "    }\n",
       "</style>\n",
       "<table border=\"1\" class=\"dataframe\">\n",
       "  <thead>\n",
       "    <tr style=\"text-align: right;\">\n",
       "      <th></th>\n",
       "      <th>start</th>\n",
       "      <th>stop</th>\n",
       "      <th>label</th>\n",
       "      <th>duration</th>\n",
       "    </tr>\n",
       "  </thead>\n",
       "  <tbody>\n",
       "    <tr>\n",
       "      <th>515</th>\n",
       "      <td>33429.612134</td>\n",
       "      <td>33762.618231</td>\n",
       "      <td>NREM</td>\n",
       "      <td>333.006098</td>\n",
       "    </tr>\n",
       "    <tr>\n",
       "      <th>714</th>\n",
       "      <td>50145.918237</td>\n",
       "      <td>50174.918768</td>\n",
       "      <td>NREM</td>\n",
       "      <td>29.000531</td>\n",
       "    </tr>\n",
       "    <tr>\n",
       "      <th>542</th>\n",
       "      <td>35420.648593</td>\n",
       "      <td>35519.650406</td>\n",
       "      <td>NREM</td>\n",
       "      <td>99.001813</td>\n",
       "    </tr>\n",
       "    <tr>\n",
       "      <th>588</th>\n",
       "      <td>38360.702430</td>\n",
       "      <td>38544.705799</td>\n",
       "      <td>NREM</td>\n",
       "      <td>184.003369</td>\n",
       "    </tr>\n",
       "    <tr>\n",
       "      <th>746</th>\n",
       "      <td>54421.996539</td>\n",
       "      <td>54556.999011</td>\n",
       "      <td>NREM</td>\n",
       "      <td>135.002472</td>\n",
       "    </tr>\n",
       "  </tbody>\n",
       "</table>\n",
       "</div>"
      ],
      "text/plain": [
       "            start          stop label    duration\n",
       "515  33429.612134  33762.618231  NREM  333.006098\n",
       "714  50145.918237  50174.918768  NREM   29.000531\n",
       "542  35420.648593  35519.650406  NREM   99.001813\n",
       "588  38360.702430  38544.705799  NREM  184.003369\n",
       "746  54421.996539  54556.999011  NREM  135.002472"
      ]
     },
     "execution_count": 35,
     "metadata": {},
     "output_type": "execute_result"
    }
   ],
   "source": [
    "# Get start and end times of SD\n",
    "ratNday1 = subjects.sd.ratNday1\n",
    "bs_df = ratNday1[0].brainstates.to_dataframe()\n",
    "post = ratNday1[0].paradigm[\"post\"].flatten()\n",
    "sd = [post[0], post[0] + 4.8 * 3600]\n",
    "print(sd)\n",
    "bs_df[bs_df.label == 'NREM'].sample(5)"
   ]
  },
  {
   "cell_type": "code",
   "execution_count": 36,
   "metadata": {},
   "outputs": [
    {
     "name": "stdout",
     "output_type": "stream",
     "text": [
      "[15417, 32697.0]\n"
     ]
    },
    {
     "data": {
      "text/html": [
       "<div>\n",
       "<style scoped>\n",
       "    .dataframe tbody tr th:only-of-type {\n",
       "        vertical-align: middle;\n",
       "    }\n",
       "\n",
       "    .dataframe tbody tr th {\n",
       "        vertical-align: top;\n",
       "    }\n",
       "\n",
       "    .dataframe thead th {\n",
       "        text-align: right;\n",
       "    }\n",
       "</style>\n",
       "<table border=\"1\" class=\"dataframe\">\n",
       "  <thead>\n",
       "    <tr style=\"text-align: right;\">\n",
       "      <th></th>\n",
       "      <th>start</th>\n",
       "      <th>stop</th>\n",
       "      <th>label</th>\n",
       "      <th>duration</th>\n",
       "    </tr>\n",
       "  </thead>\n",
       "  <tbody>\n",
       "    <tr>\n",
       "      <th>439</th>\n",
       "      <td>34203.662611</td>\n",
       "      <td>34219.662921</td>\n",
       "      <td>NREM</td>\n",
       "      <td>16.000310</td>\n",
       "    </tr>\n",
       "    <tr>\n",
       "      <th>459</th>\n",
       "      <td>36870.714280</td>\n",
       "      <td>37053.717826</td>\n",
       "      <td>NREM</td>\n",
       "      <td>183.003545</td>\n",
       "    </tr>\n",
       "    <tr>\n",
       "      <th>548</th>\n",
       "      <td>46614.903055</td>\n",
       "      <td>46636.903481</td>\n",
       "      <td>NREM</td>\n",
       "      <td>22.000426</td>\n",
       "    </tr>\n",
       "    <tr>\n",
       "      <th>476</th>\n",
       "      <td>38672.749191</td>\n",
       "      <td>38995.755449</td>\n",
       "      <td>NREM</td>\n",
       "      <td>323.006258</td>\n",
       "    </tr>\n",
       "    <tr>\n",
       "      <th>554</th>\n",
       "      <td>46720.905109</td>\n",
       "      <td>47191.914234</td>\n",
       "      <td>NREM</td>\n",
       "      <td>471.009125</td>\n",
       "    </tr>\n",
       "  </tbody>\n",
       "</table>\n",
       "</div>"
      ],
      "text/plain": [
       "            start          stop label    duration\n",
       "439  34203.662611  34219.662921  NREM   16.000310\n",
       "459  36870.714280  37053.717826  NREM  183.003545\n",
       "548  46614.903055  46636.903481  NREM   22.000426\n",
       "476  38672.749191  38995.755449  NREM  323.006258\n",
       "554  46720.905109  47191.914234  NREM  471.009125"
      ]
     },
     "execution_count": 36,
     "metadata": {},
     "output_type": "execute_result"
    }
   ],
   "source": [
    "bs_df = brainstates.to_dataframe()\n",
    "post = sess.paradigm[\"post\"].flatten()\n",
    "sd = [post[0], post[0] + 4.8 * 3600]\n",
    "print(sd)\n",
    "bs_df[bs_df.label == 'NREM'].sample(5)"
   ]
  },
  {
   "cell_type": "markdown",
   "metadata": {},
   "source": [
    "### Print out sessions for moving bokeh plots over to folders"
   ]
  },
  {
   "cell_type": "code",
   "execution_count": 28,
   "metadata": {},
   "outputs": [
    {
     "name": "stdout",
     "output_type": "stream",
     "text": [
      "NSD sessions:['RatKDay2', 'RatNDay2', 'RatSDay2', 'RatUDay2', 'RatVDay1', 'RatVDay3']\n"
     ]
    }
   ],
   "source": [
    "# NSD sessions\n",
    "print(f\"NSD sessions:{[s.name for s in subjects.nsd.pf_sess]}\")"
   ]
  },
  {
   "cell_type": "code",
   "execution_count": 29,
   "metadata": {},
   "outputs": [
    {
     "name": "stdout",
     "output_type": "stream",
     "text": [
      "SD sessions:['RatKDay1', 'RatNDay1', 'RatSDay3', 'RatUDay1', 'RatUDay4', 'RatVDay2', 'RatRDay2']\n"
     ]
    }
   ],
   "source": [
    "# SD sessions\n",
    "print(f\"SD sessions:{[s.name for s in subjects.sd.pf_sess]}\")"
   ]
  },
  {
   "cell_type": "code",
   "execution_count": null,
   "metadata": {},
   "outputs": [],
   "source": [
    "from neuropy.core import Epoch\n",
    "\n",
    "# sessions = subjects.sd.pf_sess\n",
    "sessions = subjects.sd.ratKday1\n",
    "\n",
    "_, axs = plt.subplots(4, 2)\n",
    "axs = axs.reshape(-1)\n",
    "\n",
    "for s, sess in enumerate(sessions):\n",
    "    post = sess.paradigm[\"post\"].flatten()\n",
    "    sd = [post[0], post[0] + 4.8 * 3600]\n",
    "    states = (\n",
    "        sess.brainstates[\"AW\"]\n",
    "        + sess.brainstates[\"QW\"]\n",
    "        + sess.brainstates[\"REM\"]\n",
    "        + sess.brainstates[\"NREM\"]\n",
    "        + sess.brainstates[\"NOISE\"]\n",
    "    )\n",
    "    states_df = states.to_dataframe()\n",
    "\n",
    "    fp = sess.filePrefix\n",
    "    # sess.brainstates.save(fp.with_suffix(\".backup.brainstates.06-12-2023\"))\n",
    "\n",
    "    starts = states.starts\n",
    "    labels = states.labels\n",
    "\n",
    "    rem_indx = (starts > sd[0]) & (starts < sd[1]) & (labels == \"REM\")\n",
    "    states_df.loc[rem_indx, \"label\"] = \"QW\"\n",
    "    nrem_indx = (starts > sd[0]) & (starts < sd[1]) & (labels == \"NREM\")\n",
    "    states_df.loc[nrem_indx, \"label\"] = \"QW\"\n",
    "\n",
    "    new_states = Epoch(states_df)\n",
    "    new_states.save(fp.with_suffix(\".brainstates.finer\"))\n",
    "\n",
    "    # plotting.plot_epochs(new_states, ax=axs[s])"
   ]
  },
  {
   "cell_type": "code",
   "execution_count": null,
   "metadata": {},
   "outputs": [],
   "source": [
    "new_states[\"NOISE\"].to_dataframe()"
   ]
  },
  {
   "attachments": {},
   "cell_type": "markdown",
   "metadata": {},
   "source": [
    "### Curate nrem during maze misclassification"
   ]
  },
  {
   "cell_type": "code",
   "execution_count": null,
   "metadata": {},
   "outputs": [],
   "source": [
    "from neuropy.core import Epoch\n",
    "\n",
    "sessions = subjects.ripple_sess()\n",
    "\n",
    "_, axs = plt.subplots(8, 2)\n",
    "axs = axs.reshape(-1)\n",
    "\n",
    "for s, sess in enumerate(sessions):\n",
    "    maze = sess.paradigm[\"maze\"].flatten()\n",
    "    states = (\n",
    "        sess.brainstates_fine[\"AW\"]\n",
    "        + sess.brainstates_fine[\"QW\"]\n",
    "        + sess.brainstates_fine[\"REM\"]\n",
    "        + sess.brainstates_fine[\"NREM\"]\n",
    "        + sess.brainstates_fine[\"NOISE\"]\n",
    "    )\n",
    "    states_df = states.to_dataframe()\n",
    "\n",
    "    fp = sess.filePrefix\n",
    "    # sess.brainstates.save(fp.with_suffix(\".backup.brainstates.06-12-2023\"))\n",
    "\n",
    "    starts = states.starts\n",
    "    labels = states.labels\n",
    "\n",
    "    rem_indx = (starts > maze[0]) & (starts < maze[1]) & (labels == \"REM\")\n",
    "    states_df.loc[rem_indx, \"label\"] = \"AW\"\n",
    "    nrem_indx = (starts > maze[0]) & (starts < maze[1]) & (labels == \"NREM\")\n",
    "    states_df.loc[nrem_indx, \"label\"] = \"QW\"\n",
    "\n",
    "    new_states = Epoch(states_df)\n",
    "    new_states.save(fp.with_suffix(\".brainstates.finer\"))\n",
    "\n",
    "    plotting.plot_epochs(new_states, ax=axs[s])"
   ]
  },
  {
   "attachments": {},
   "cell_type": "markdown",
   "metadata": {},
   "source": [
    "### ADD non sleep scored epochs as NOISE"
   ]
  },
  {
   "cell_type": "code",
   "execution_count": null,
   "metadata": {},
   "outputs": [],
   "source": [
    "sessions = subjects.ripple_sess()\n",
    "\n",
    "for s, sess in enumerate(sessions):\n",
    "    maze = sess.paradigm[\"maze\"]\n",
    "\n",
    "    starts = sess.brainstates_fine.starts\n",
    "    stops = sess.brainstates_fine.stops\n",
    "\n",
    "    gap = np.abs(stops[:-1] - starts[1:])\n",
    "    gap_indx = np.where(gap > 0)\n",
    "\n",
    "    noise_starts = stops[:-1][gap_indx]\n",
    "    noise_stops = starts[1:][gap_indx]\n",
    "    noise_states = sess.paradigm.from_array(noise_starts, noise_stops, \"NOISE\")\n",
    "\n",
    "    new_states = sess.brainstates_fine + noise_states\n",
    "    # new_states.save(sess.filePrefix.with_suffix(\".brainstates.finer\"))"
   ]
  },
  {
   "attachments": {},
   "cell_type": "markdown",
   "metadata": {},
   "source": [
    "### Create backup"
   ]
  },
  {
   "cell_type": "code",
   "execution_count": null,
   "metadata": {},
   "outputs": [],
   "source": [
    "sessions = subjects.ripple_sess()\n",
    "\n",
    "for s, sess in enumerate(sessions):\n",
    "    # suffix = \".brainstates.nature_first_submission\" #created for nature submission\n",
    "    suffix = \"put your suffix\"\n",
    "    sess.brainstates.save(sess.filePrefix.with_suffix(suffix))"
   ]
  },
  {
   "attachments": {},
   "cell_type": "markdown",
   "metadata": {},
   "source": [
    "### Convert old to new format"
   ]
  },
  {
   "cell_type": "code",
   "execution_count": null,
   "metadata": {},
   "outputs": [],
   "source": [
    "from neuropy.core import Epoch\n",
    "\n",
    "sessions = subjects.ripple_sess()\n",
    "\n",
    "for s, sess in enumerate(sessions):\n",
    "    brainstates = sess.brainstates\n",
    "\n",
    "    if brainstates is not None:\n",
    "        starts = sess.brainstates.starts\n",
    "        stops = sess.brainstates.stops\n",
    "        labels = sess.brainstates.labels\n",
    "\n",
    "        if \"nrem\" in np.unique(labels):\n",
    "            new_labels = np.array([\"\"] * len(labels), dtype=\"U4\")\n",
    "            new_labels[labels == \"active\"] = \"AW\"\n",
    "            new_labels[labels == \"quiet\"] = \"QW\"\n",
    "            new_labels[labels == \"rem\"] = \"REM\"\n",
    "            new_labels[labels == \"nrem\"] = \"NREM\"\n",
    "\n",
    "            fp = sess.filePrefix\n",
    "            brainstates.save(fp.with_suffix(\".backup.brainstates.05-30-2022\"))\n",
    "\n",
    "            valid_idx = new_labels != \"\"\n",
    "\n",
    "            new_states = Epoch.from_array(\n",
    "                starts[valid_idx], stops[valid_idx], new_labels[valid_idx]\n",
    "            )\n",
    "            new_states.save(fp.with_suffix(\".brainstates\"))"
   ]
  },
  {
   "attachments": {},
   "cell_type": "markdown",
   "metadata": {},
   "source": [
    "### Visualize different hypnogram styles"
   ]
  },
  {
   "cell_type": "code",
   "execution_count": null,
   "metadata": {},
   "outputs": [],
   "source": [
    "sess = subjects.nsd.ratSday2[0]\n",
    "post = sess.paradigm[\"post\"].flatten()\n",
    "period = [0, post[0] + 8 * 3600]\n",
    "states = sess.brainstates.time_slice(*period)\n",
    "starts = states.starts\n",
    "stops = states.stops\n",
    "labels = states.labels\n",
    "mids = (stops - starts) / 2 + starts\n",
    "edges = np.insert(starts, len(starts), stops[-1])\n",
    "\n",
    "num_dict = dict(NREM=1, REM=2, QW=3, AW=4)\n",
    "num_labels = [num_dict[_] for _ in labels]\n",
    "\n",
    "\n",
    "_, ax = plt.subplots()\n",
    "\n",
    "# ax.stairs(num_labels, edges, fill=False)\n",
    "ax.step(mids, num_labels, where=\"mid\", lw=1)\n",
    "ax.set_axis_off()"
   ]
  },
  {
   "attachments": {},
   "cell_type": "markdown",
   "metadata": {},
   "source": [
    "### Plot hypnogram with duration threshold"
   ]
  },
  {
   "cell_type": "code",
   "execution_count": null,
   "metadata": {},
   "outputs": [],
   "source": [
    "sessions = subjects.pf_sess()\n",
    "\n",
    "# _, axs = plt.subplots(5,4)\n",
    "fig = plotting.Fig(grid=(15, 6), hspace=0.5)\n",
    "\n",
    "for s, sess in enumerate(sessions[4:9]):\n",
    "    post = sess.paradigm[\"post\"].flatten()\n",
    "    t1, t2 = [post[0], post[0] + 8 * 3600]\n",
    "\n",
    "    for d, dur in enumerate([40, 60, 80, 120]):\n",
    "        # ax = axs[s,d]\n",
    "        ax = fig.subplot(fig.gs[s, d + 1])\n",
    "        ax.axis(\"off\")\n",
    "        states = sess.brainstates.time_slice(t1, t2, strict=False).duration_slice(\n",
    "            min_dur=dur\n",
    "        )\n",
    "        plotting.plot_epochs(\n",
    "            states,\n",
    "            ax=ax,\n",
    "            labels_order=[\"NREM\", \"REM\", \"QW\", \"AW\"],\n",
    "            colors=subjects.colors_sleep,\n",
    "            collapsed=False,\n",
    "        )\n",
    "        if s == 0:\n",
    "            ax.set_title(f\"min dur = {dur} s\")\n",
    "\n",
    "fig.savefig(subjects.figpath_sd / \"hypno_duration_thresh\")"
   ]
  },
  {
   "attachments": {},
   "cell_type": "markdown",
   "metadata": {},
   "source": [
    "### View brainstates detection in ephyviewer"
   ]
  },
  {
   "cell_type": "code",
   "execution_count": null,
   "metadata": {},
   "outputs": [],
   "source": [
    "import matplotlib.pyplot as plt\n",
    "import numpy as np\n",
    "import pandas as pd\n",
    "from neuropy import plotting\n",
    "from brainstates_editor import editor\n",
    "from ephyviewer import mkQApp\n",
    "import subjects\n",
    "\n",
    "app = mkQApp()\n",
    "sess = subjects.nsd.ratVday1[0]\n",
    "sigs = sess.eegfile.get_signal(20)\n",
    "\n",
    "win = editor(\n",
    "    sess.brainstates,\n",
    "    sigs,\n",
    "    filename=sess.filePrefix.with_suffix(\".test\"),\n",
    "    paradigm=sess.paradigm,\n",
    ")\n",
    "win.show()\n",
    "app.exec_()"
   ]
  },
  {
   "attachments": {},
   "cell_type": "markdown",
   "metadata": {},
   "source": [
    "### Violinplots for state durations across all subjects"
   ]
  },
  {
   "cell_type": "code",
   "execution_count": null,
   "metadata": {},
   "outputs": [],
   "source": [
    "sessions = subjects.mua_sess()\n",
    "\n",
    "dur_df = []\n",
    "for se, sess in enumerate(sessions):\n",
    "    zt_epochs = sess.get_zt_epochs()\n",
    "    for e in zt_epochs.itertuples():\n",
    "        zt_states = sess.brainstates.time_slice(e.start, e.stop, strict=False)\n",
    "        e_durations = (\n",
    "            zt_states.to_dataframe().groupby(\"label\", sort=False).sum().reset_index()\n",
    "        )\n",
    "        e_durations[\"zt\"] = e.label\n",
    "        e_durations[\"grp\"] = sess.tag\n",
    "        # e_durations['name']=e.label\n",
    "\n",
    "        dur_df.append(e_durations)\n",
    "        # df = pd.Dataframe(dict(zt=e.label,states=e_durations['label'],duration=e_durations))\n",
    "\n",
    "\n",
    "dur_df = pd.concat(dur_df, ignore_index=True)\n",
    "dur_df[\"durationh\"] = dur_df[\"duration\"] / 3600"
   ]
  },
  {
   "cell_type": "code",
   "execution_count": null,
   "metadata": {},
   "outputs": [],
   "source": [
    "from plotters import violinplot\n",
    "\n",
    "_, axs = plt.subplots(2, 2)\n",
    "axs = axs.reshape(-1)\n",
    "\n",
    "\n",
    "for i, st in enumerate([\"AW\", \"QW\", \"REM\", \"NREM\"]):\n",
    "    df = dur_df[dur_df.label == st]\n",
    "    ax = axs[i]\n",
    "    violinplot(data=df, x=\"zt\", y=\"duration\", hue=\"grp\", ax=ax)"
   ]
  },
  {
   "attachments": {},
   "cell_type": "markdown",
   "metadata": {},
   "source": [
    "### Sleep fraction during 5 hours following MAZE"
   ]
  },
  {
   "cell_type": "code",
   "execution_count": null,
   "metadata": {},
   "outputs": [],
   "source": [
    "import matplotlib.pyplot as plt\n",
    "import numpy as np\n",
    "import pandas as pd\n",
    "from neuropy import plotting\n",
    "import subjects\n",
    "\n",
    "sessions = subjects.sd.brainstates_sess + subjects.nsd.brainstates_sess"
   ]
  },
  {
   "cell_type": "code",
   "execution_count": null,
   "metadata": {},
   "outputs": [],
   "source": [
    "sleep_df = pd.DataFrame()\n",
    "for sub, sess in enumerate(sessions):\n",
    "    post = sess.paradigm[\"post\"].flatten()\n",
    "    period = [post[0], post[0] + 5 * 3600]\n",
    "    prop = sess.brainstates.get_proportion_by_label(period[0], period[1])\n",
    "    if \"nan\" in prop.keys():\n",
    "        del prop[\"nan\"]\n",
    "\n",
    "    sleep_df = sleep_df.append(\n",
    "        pd.DataFrame(\n",
    "            {\n",
    "                \"prop\": list(prop.values()),\n",
    "                \"state\": list(prop.keys()),\n",
    "                \"grp\": sess.tag,\n",
    "            }\n",
    "        ),\n",
    "        ignore_index=True,\n",
    "    )\n",
    "\n",
    "subjects.GroupData().save(sleep_df, \"brainstates_proportion\")"
   ]
  },
  {
   "attachments": {},
   "cell_type": "markdown",
   "metadata": {},
   "source": [
    "### Combining brainstates into dataframe for plotting in sd_figure3\n",
    "- only POST epoch and in Zt time"
   ]
  },
  {
   "cell_type": "code",
   "execution_count": 32,
   "metadata": {},
   "outputs": [
    {
     "name": "stdout",
     "output_type": "stream",
     "text": [
      "#Sessions = 13\n",
      "ev_brainstates saved\n"
     ]
    }
   ],
   "source": [
    "sessions = subjects.pf_sess()\n",
    "\n",
    "brainstates_all = []\n",
    "for sub, sess in enumerate(sessions):\n",
    "    post = sess.paradigm[\"post\"].flatten()\n",
    "    states = sess.brainstates.time_slice(post[0], post[1])\n",
    "    starts = (states.starts - post[0]) / 3600\n",
    "    stops = (states.stops - post[0]) / 3600\n",
    "    df = pd.DataFrame(\n",
    "        dict(\n",
    "            start=starts,\n",
    "            stop=stops,\n",
    "            label=states.labels,\n",
    "            sub=sub,\n",
    "            name=sess.name,\n",
    "            grp=sess.tag,\n",
    "        )\n",
    "    )\n",
    "    brainstates_all.append(df)\n",
    "\n",
    "brainstates_all = pd.concat(brainstates_all, ignore_index=True)\n",
    "\n",
    "subjects.GroupData().save(brainstates_all, \"ev_brainstates\")"
   ]
  },
  {
   "cell_type": "code",
   "execution_count": 3,
   "metadata": {},
   "outputs": [
    {
     "name": "stdout",
     "output_type": "stream",
     "text": [
      "oscillation_brainstates saved\n"
     ]
    }
   ],
   "source": [
    "# Save all sessions for non-EV hypnogram plotting\n",
    "sessions = subjects.ripple_sess()\n",
    "\n",
    "brainstates_all = []\n",
    "for sub, sess in enumerate(sessions):\n",
    "    post = sess.paradigm[\"post\"].flatten()\n",
    "    states = sess.brainstates.time_slice(post[0], post[1])\n",
    "    starts = (states.starts - post[0]) / 3600\n",
    "    stops = (states.stops - post[0]) / 3600\n",
    "    df = pd.DataFrame(\n",
    "        dict(\n",
    "            start=starts,\n",
    "            stop=stops,\n",
    "            label=states.labels,\n",
    "            sub=sub,\n",
    "            name=sess.name,\n",
    "            grp=sess.tag,\n",
    "        )\n",
    "    )\n",
    "    brainstates_all.append(df)\n",
    "\n",
    "brainstates_all = pd.concat(brainstates_all, ignore_index=True)\n",
    "\n",
    "subjects.GroupData().save(brainstates_all, \"oscillation_brainstates\")"
   ]
  },
  {
   "cell_type": "code",
   "execution_count": 15,
   "metadata": {},
   "outputs": [
    {
     "data": {
      "text/plain": [
       "26.000552709338365"
      ]
     },
     "execution_count": 15,
     "metadata": {},
     "output_type": "execute_result"
    }
   ],
   "source": [
    "from neuropy.core.epoch import Epoch\n",
    "sd2_epochs = Epoch(df)\n",
    "epoch_nrem = Epoch(df[(df.start > 0) & (df.stop < 5) & (df.label == \"NREM\")])\n",
    "epoch_nrem.durations.sum()*3600"
   ]
  },
  {
   "cell_type": "code",
   "execution_count": 28,
   "metadata": {},
   "outputs": [
    {
     "data": {
      "text/plain": [
       "[3968.0762241389302,\n",
       " 4317.080572612419,\n",
       " 4210.104399146931,\n",
       " 4937.1018022104945,\n",
       " 4607.094243515271,\n",
       " 5702.118925457806,\n",
       " 0.0,\n",
       " 58.00106209599143,\n",
       " 0.0,\n",
       " 0.0,\n",
       " 0.0,\n",
       " 0.0,\n",
       " 26.000552709338365]"
      ]
     },
     "execution_count": 28,
     "metadata": {},
     "output_type": "execute_result"
    }
   ],
   "source": [
    "# Figure out why I observe different amounts of NREM overlapping with SD2 for EV vs firing dynamics figures - old ev_brainstates variable is outdated!!!\n",
    "from neuropy.core.epoch import Epoch, get_epoch_overlap_duration\n",
    "brainstates_all = []ev_\n",
    "ev_method_olap, fr_method_olap = [], []\n",
    "for sub, sess in enumerate(sessions):\n",
    "    post = sess.paradigm[\"post\"].flatten()\n",
    "    states = sess.brainstates.time_slice(post[0], post[1])\n",
    "    starts = (states.starts - post[0]) / 3600\n",
    "    stops = (states.stops - post[0]) / 3600\n",
    "    df = pd.DataFrame(\n",
    "        dict(\n",
    "            start=starts,\n",
    "            stop=stops,\n",
    "            label=states.labels,\n",
    "            sub=sub,\n",
    "            name=sess.name,\n",
    "            grp=sess.tag,\n",
    "        )\n",
    "    )\n",
    "    df_sd2_epochs = Epoch(df[(df.start > 0) & (df.stop < 5)])\n",
    "    epoch_nrem = Epoch(df[(df.start > 2.5) & (df.stop < 5) & (df.label == \"NREM\")])\n",
    "    ev_method_olap.append(epoch_nrem.durations.sum()*3600)\n",
    "\n",
    "    # Firing dynamics method\n",
    "    nrem = sess.brainstates[\"NREM\"]\n",
    "    ds2check = sess.get_zt_epochs()[\"2.5-5\"]\n",
    "    fr_method_olap.append(get_epoch_overlap_duration(nrem, ds2check))\n",
    "    brainstates_all.append(df)\n",
    "\n",
    "brainstates_all = pd.concat(brainstates_all, ignore_index=True)\n",
    "    \n",
    "ev_method_olap"
   ]
  },
  {
   "cell_type": "code",
   "execution_count": 24,
   "metadata": {},
   "outputs": [
    {
     "data": {
      "text/plain": [
       "[3968.0762241389275,\n",
       " 4720.920136620709,\n",
       " 4387.885632098385,\n",
       " 5322.560396733756,\n",
       " 4702.551775632117,\n",
       " 5843.467963959454,\n",
       " 0,\n",
       " 171.39667454082155,\n",
       " 0,\n",
       " 0,\n",
       " 0,\n",
       " 0,\n",
       " 26.00055270933808]"
      ]
     },
     "execution_count": 24,
     "metadata": {},
     "output_type": "execute_result"
    }
   ],
   "source": [
    "fr_method_olap"
   ]
  },
  {
   "cell_type": "code",
   "execution_count": null,
   "metadata": {},
   "outputs": [],
   "source": [
    "brain"
   ]
  },
  {
   "cell_type": "code",
   "execution_count": null,
   "metadata": {},
   "outputs": [],
   "source": []
  },
  {
   "cell_type": "code",
   "execution_count": 29,
   "metadata": {},
   "outputs": [
    {
     "name": "stdout",
     "output_type": "stream",
     "text": [
      "RatKDay1: 0\n",
      "RatNDay1: 58.00106209599143\n",
      "RatSDay3: 0\n",
      "RatUDay1: 0\n",
      "RatUDay4: 0\n",
      "RatVDay2: 0\n",
      "RatRDay2: 26.000552709338365\n"
     ]
    }
   ],
   "source": [
    "sd2_df = brainstates_all[(brainstates_all.grp == \"SD\") & (brainstates_all.start > 2.5) & (brainstates_all.stop < 5)]\n",
    "nrem_amt = []\n",
    "for name in sd2_df.name.unique():\n",
    "    rat_df = sd2_df[sd2_df.name == name]\n",
    "    rat_epochs = Epoch(rat_df)\n",
    "    if \"NREM\" in rat_epochs.durations_by_label().keys():\n",
    "        nrem_amt.append(rat_epochs.durations_by_label()[\"NREM\"]*60)\n",
    "    else:\n",
    "        nrem_amt.append(0)\n",
    "    print(f\"{name}: {nrem_amt[-1]*60}\")"
   ]
  },
  {
   "cell_type": "code",
   "execution_count": 31,
   "metadata": {},
   "outputs": [
    {
     "name": "stdout",
     "output_type": "stream",
     "text": [
      "RatKDay1: 151.0029258462673\n",
      "RatNDay1: 71.19999999999962\n",
      "RatSDay3: 0\n",
      "RatUDay1: 46.00092328690373\n",
      "RatUDay4: 0\n",
      "RatVDay2: 95.00193822173557\n",
      "RatRDay2: 0\n"
     ]
    }
   ],
   "source": [
    "brainstates_all_old = subjects.GroupData().ev_brainstates\n",
    "sd2_df = brainstates_all_old[(brainstates_all_old.grp == \"SD\") & (brainstates_all_old.start > 2.5) & (brainstates_all_old.stop < 5)]\n",
    "nrem_amt = []\n",
    "for name in sd2_df.name.unique():\n",
    "    rat_df = sd2_df[sd2_df.name == name]\n",
    "    rat_epochs = Epoch(rat_df)\n",
    "    if \"NREM\" in rat_epochs.durations_by_label().keys():\n",
    "        nrem_amt.append(rat_epochs.durations_by_label()[\"NREM\"]*60)\n",
    "    else:\n",
    "        nrem_amt.append(0)\n",
    "    print(f\"{name}: {nrem_amt[-1]*60}\")\n"
   ]
  },
  {
   "attachments": {},
   "cell_type": "markdown",
   "metadata": {},
   "source": [
    "### Implement IRASA"
   ]
  },
  {
   "cell_type": "code",
   "execution_count": null,
   "metadata": {},
   "outputs": [],
   "source": [
    "import numpy as np\n",
    "import scipy.signal as sg\n",
    "import subjects\n",
    "import fractions\n",
    "from scipy import stats\n",
    "from fooof import FOOOF, FOOOFGroup\n",
    "\n",
    "sess = subjects.nsd.ratUday2[0]\n",
    "maze = sess.paradigm[\"maze\"].flatten()\n",
    "post = sess.paradigm[\"post\"].flatten()\n",
    "# period = [maze[0], maze[1]]\n",
    "period = [post[0] + 3600, post[0] + 2 * 3600]\n",
    "# period = [0,sess.eegfile.duration]\n",
    "data = sess.eegfile.get_signal(150, *period).traces[0]\n",
    "# data = sess.eegfile.get_signal(150).traces[0]\n",
    "\n",
    "welch_kw = dict(nperseg=4 * 1250, noverlap=625)\n",
    "freqs, psd = sg.welch(data, fs=1250, **welch_kw)\n",
    "# f, t, spect = sg.spectrogram(data, fs=1250, nperseg=2*1250, noverlap=625)\n",
    "\n",
    "# Start the IRASA procedure\n",
    "hset = np.arange(1.1, 2.9, 0.05).round(4)\n",
    "hset = np.delete(hset, 18)\n",
    "psds = np.zeros((len(hset), *psd.shape))\n",
    "\n",
    "fm = FOOOF()\n",
    "freq_range = [4, 90]\n",
    "\n",
    "# fm.report(freqs,psd,freq_range)\n",
    "fm.report(freqs, psd, freq_range)\n",
    "# fm.plot()\n",
    "# fm.power_spectrum\n",
    "\n",
    "# for i, h in enumerate(hset):\n",
    "#     # Get the upsampling/downsampling (h, 1/h) factors as integer\n",
    "#     rat = fractions.Fraction(str(h))\n",
    "#     up, down = rat.numerator, rat.denominator\n",
    "#     # Much faster than FFT-based resampling\n",
    "#     spect_up = sg.resample_poly(spect, up, down, axis=0)\n",
    "#     spect_down = sg.resample_poly(spect, down, up, axis=0)\n",
    "#     psds[i, :] =np.dstack([spect_up,spect_down]).mean(axis=-1)\n",
    "\n",
    "# for i, h in enumerate(hset):\n",
    "#     # Get the upsampling/downsampling (h, 1/h) factors as integer\n",
    "#     rat = fractions.Fraction(str(h))\n",
    "#     up, down = rat.numerator, rat.denominator\n",
    "#     # Much faster than FFT-based resampling\n",
    "#     data_up = sg.resample_poly(data, up, down, axis=-1)\n",
    "#     data_down = sg.resample_poly(data, down, up, axis=-1)\n",
    "#     # Calculate the PSD using same params as original\n",
    "#     freqs_up, psd_up = sg.welch(data_up, h * 1250, **welch_kw)\n",
    "#     freqs_dw, psd_dw = sg.welch(data_down, 1250 / h, **welch_kw)\n",
    "#     # Geometric mean of h and 1/h\n",
    "#     # psds[i, :] = np.vstack((psd_up, psd_dw)).mean(axis=0)\n",
    "#     psds[i, :] = np.sqrt(psd_up * psd_dw)\n",
    "\n",
    "\n",
    "# Now we take the median PSD of all the resampling factors, which gives\n",
    "# a good estimate of the aperiodic component of the PSD.\n",
    "# psd_aperiodic = np.median(psds, axis=0)\n",
    "# print(psd_aperiodic.shape,psd_aperiodic[:2])\n",
    "\n",
    "# # We can now calculate the oscillations (= periodic) component.\n",
    "# psd_osc = psd - psd_aperiodic\n",
    "\n",
    "# # Let's crop to the frequencies defined in band\n",
    "# mask_freqs = np.ma.masked_outside(freqs, *band).mask\n",
    "# freqs = freqs[~mask_freqs]\n",
    "# psd_aperiodic = np.compress(~mask_freqs, psd_aperiodic, axis=-1)\n",
    "# psd_osc = np.compress(~mask_freqs, psd_osc, axis=-1)"
   ]
  },
  {
   "cell_type": "code",
   "execution_count": null,
   "metadata": {},
   "outputs": [],
   "source": [
    "import matplotlib.pyplot as plt\n",
    "\n",
    "indices = (freqs >= 4) & (freqs <= 90)\n",
    "p = psd[indices]\n",
    "plt.plot(freqs[indices], np.log10(p))\n",
    "plt.plot(freqs[(freqs >= 4) & (freqs <= 90)], fm._ap_fit)\n",
    "# plt.yscale('log')"
   ]
  },
  {
   "cell_type": "code",
   "execution_count": null,
   "metadata": {},
   "outputs": [],
   "source": [
    "import matplotlib.pyplot as plt\n",
    "from neuropy.utils.mathutil import min_max_scaler\n",
    "\n",
    "f, t, spect = sg.spectrogram(data, fs=1250, **welch_kw)\n",
    "ind = (f >= 4) & (f <= 90)\n",
    "spect = np.log10(spect[ind, :])\n",
    "# spect_osc = spect- fm._ap_fit[:,np.newaxis]\n",
    "# spect_osc[spect_osc<0]=0\n",
    "\n",
    "# req_ind = (f>1)&(f<30)\n",
    "# # delta_ind = (f>0.5)&(f<4)\n",
    "# theta_ind = (f>5)&(f<10)\n",
    "# # delta_sxx = spect_osc[delta_ind,:].mean(axis=0)\n",
    "# theta_sxx = spect_osc[theta_ind,:].mean(axis=0)\n",
    "\n",
    "_, axs = plt.subplots(5, 1, sharex=True)\n",
    "\n",
    "axs[0].imshow(\n",
    "    spect, origin=\"lower\", aspect=\"auto\", cmap=\"jet\", extent=[t[0], t[-1], 4, 90]\n",
    ")\n",
    "# axs[1].imshow(spect[req_ind,:],origin='lower',aspect='auto',vmax=25000,cmap='jet',extent=[t[0],t[-1],1,30])\n",
    "\n",
    "# axs[2].plot(t,theta_sxx)\n",
    "# axs[3].plot(t,delta_sxx)\n",
    "# axs[4].plot(t,theta_sxx/delta_sxx)"
   ]
  },
  {
   "cell_type": "code",
   "execution_count": null,
   "metadata": {},
   "outputs": [],
   "source": [
    "%matplotlib widget\n",
    "import matplotlib.pyplot as plt\n",
    "\n",
    "plt.plot(freqs,psd_aperiodic)\n",
    "plt.plot(freqs,psd)\n",
    "plt.plot(freqs,psd-psd_aperiodic)\n",
    "plt.yscale('log')\n",
    "plt.xscale('log')"
   ]
  },
  {
   "attachments": {},
   "cell_type": "markdown",
   "metadata": {},
   "source": [
    "### Some measure of micro-arousal in sleep vs recovery sleep using emg only"
   ]
  },
  {
   "cell_type": "code",
   "execution_count": null,
   "metadata": {},
   "outputs": [],
   "source": [
    "import numpy as np\n",
    "from neuropy.analyses.brainstates import detect_brainstates_epochs\n",
    "from neuropy.core import Epoch\n",
    "from scipy.ndimage import gaussian_filter1d\n",
    "from neuropy.analyses.brainstates import correlation_emg\n",
    "from scipy import stats\n",
    "from neuropy.analyses.brainstates import hmmfit1d\n",
    "import matplotlib.pyplot as plt\n",
    "from neuropy.plotting import plot_hypnogram\n",
    "import subjects\n",
    "\n",
    "smooth = lambda arr: gaussian_filter1d(arr, sigma=2 / 1)\n",
    "\n",
    "sessions = subjects.nsd.ripple_sess[2:3] + subjects.sd.ripple_sess[2:3]"
   ]
  },
  {
   "cell_type": "code",
   "execution_count": null,
   "metadata": {},
   "outputs": [],
   "source": [
    "emg_all = []\n",
    "for sub, sess in enumerate(sessions):\n",
    "    pre = sess.paradigm[\"pre\"].flatten()\n",
    "    maze = sess.paradigm[\"maze\"].flatten()\n",
    "    post = sess.paradigm[\"post\"].flatten()\n",
    "    if sess.tag == \"NSD\":\n",
    "        period = [post[0], post[0] + 4 * 3600]\n",
    "    if sess.tag == \"SD\":\n",
    "        period = [post[0] + 5 * 3600, post[0] + 9 * 3600]\n",
    "\n",
    "    all_channels = np.concatenate(sess.probegroup.get_connected_channels()).astype(\"int\")\n",
    "    signal = sess.eegfile.get_signal(t_start=period[0], t_stop=period[1])\n",
    "    emg = correlation_emg(signal, sess.probegroup, 10, 9)\n",
    "    emg_all.append(smooth(emg))"
   ]
  },
  {
   "cell_type": "code",
   "execution_count": null,
   "metadata": {},
   "outputs": [],
   "source": [
    "from scipy.signal import find_peaks\n",
    "\n",
    "_, axs = plt.subplots(2, 1)\n",
    "\n",
    "for i, e in enumerate(emg_all):\n",
    "    peaks = find_peaks(e, prominence=0.3)[0]\n",
    "    axs[i].plot(e)\n",
    "    axs[i].plot(peaks, e[peaks], \"*\")"
   ]
  },
  {
   "attachments": {},
   "cell_type": "markdown",
   "metadata": {},
   "source": [
    "### Check transition boundaries\n",
    "- check reliability of sleepscoring by zooming in on transition boundaries"
   ]
  },
  {
   "cell_type": "code",
   "execution_count": null,
   "metadata": {},
   "outputs": [],
   "source": [
    "from neuropy.utils.signal_process import FourierSg, WaveletSg\n",
    "\n",
    "sess = subjects.nsd.ratNday2[0]\n",
    "states = sess.brainstates[\"QW\"]\n",
    "starts = states.starts\n",
    "stops = states.stops\n",
    "n_states = len(states)\n",
    "\n",
    "before, after = 40, 30\n",
    "start = starts[64]\n",
    "t1, t2 = start - before, start + after\n",
    "eeg = sess.eegfile.get_signal(116, t1, t2)\n",
    "eeg_time = np.linspace(-before, after, eeg.n_frames)\n",
    "spect = FourierSg(eeg, window=1, overlap=0.8, norm_sig=True).freq_slice(0, 30)\n",
    "wspect = WaveletSg(eeg, freqs=np.arange(0.25, 30, 0.25), ncycles=10)\n",
    "spect_thratio = spect.theta_delta_ratio\n",
    "wspect_thratio = wspect.theta_deltaplus_ratio"
   ]
  },
  {
   "cell_type": "code",
   "execution_count": null,
   "metadata": {},
   "outputs": [],
   "source": [
    "_, axs = plt.subplots(4, 1, sharex=True)\n",
    "\n",
    "axs[0].plot(eeg.time - start, eeg.traces[0])\n",
    "axs[0].axvline(0, color=\"k\")\n",
    "axs[1].pcolormesh(spect.time - start, spect.freqs, spect.traces, cmap=\"jet\")\n",
    "axs[2].pcolormesh(wspect.time - start, wspect.freqs, wspect.traces, cmap=\"jet\")\n",
    "# axs[3].plot(spect.time-start,spect_thratio)\n",
    "axs[3].plot(spect.time - start, spect.theta / spect.get_band_power(2, 28))"
   ]
  },
  {
   "attachments": {},
   "cell_type": "markdown",
   "metadata": {},
   "source": [
    "### Amount/proportion of different brainstates across zt epochs/blocks"
   ]
  },
  {
   "cell_type": "code",
   "execution_count": 2,
   "metadata": {},
   "outputs": [],
   "source": [
    "sessions = subjects.mua_sess()\n",
    "\n",
    "states_df = []\n",
    "for s, sess in enumerate(sessions):\n",
    "    epochs = sess.get_zt_epochs()\n",
    "\n",
    "    for e in epochs.itertuples():\n",
    "        e_states = sess.brainstates.time_slice(e.start, e.stop, strict=False)\n",
    "        e_durations_label = e_states.durations_by_label()\n",
    "        e_proportion_label = {k: v / e.duration for k, v in e_durations_label.items()}\n",
    "        e_df = pd.DataFrame(e_proportion_label, index=[0])\n",
    "        e_df[\"zt\"] = e.label\n",
    "        e_df[\"session\"] = s\n",
    "        e_df[\"name\"] = sess.animal.name + sess.animal.day\n",
    "        e_df[\"grp\"] = sess.tag\n",
    "        states_df.append(e_df)\n",
    "\n",
    "states_df = pd.concat(states_df, ignore_index=True)\n",
    "states_df.fillna(0, inplace=True)\n",
    "states_df = pd.melt(\n",
    "    states_df,\n",
    "    id_vars=[\"zt\", \"name\", \"session\", \"grp\"],\n",
    "    value_vars=[\"AW\", \"NOISE\", \"QW\", \"NREM\", \"REM\"],\n",
    "    var_name=\"state\",\n",
    "    value_name=\"prop\",\n",
    ")"
   ]
  },
  {
   "cell_type": "markdown",
   "metadata": {},
   "source": [
    "### Determine which NSD animal has almost no NREM during the 0-2.5hr block"
   ]
  },
  {
   "cell_type": "code",
   "execution_count": 7,
   "metadata": {},
   "outputs": [
    {
     "name": "stdout",
     "output_type": "stream",
     "text": [
      "zt            0-2.5\n",
      "name       RatKDay2\n",
      "session           1\n",
      "grp             NSD\n",
      "state          NREM\n",
      "prop       0.018334\n",
      "Name: 247, dtype: object\n"
     ]
    },
    {
     "data": {
      "text/html": [
       "<div>\n",
       "<style scoped>\n",
       "    .dataframe tbody tr th:only-of-type {\n",
       "        vertical-align: middle;\n",
       "    }\n",
       "\n",
       "    .dataframe tbody tr th {\n",
       "        vertical-align: top;\n",
       "    }\n",
       "\n",
       "    .dataframe thead th {\n",
       "        text-align: right;\n",
       "    }\n",
       "</style>\n",
       "<table border=\"1\" class=\"dataframe\">\n",
       "  <thead>\n",
       "    <tr style=\"text-align: right;\">\n",
       "      <th></th>\n",
       "      <th>zt</th>\n",
       "      <th>name</th>\n",
       "      <th>session</th>\n",
       "      <th>grp</th>\n",
       "      <th>state</th>\n",
       "      <th>prop</th>\n",
       "    </tr>\n",
       "  </thead>\n",
       "  <tbody>\n",
       "    <tr>\n",
       "      <th>7</th>\n",
       "      <td>0-2.5</td>\n",
       "      <td>RatKDay2</td>\n",
       "      <td>1</td>\n",
       "      <td>NSD</td>\n",
       "      <td>AW</td>\n",
       "      <td>0.259813</td>\n",
       "    </tr>\n",
       "    <tr>\n",
       "      <th>87</th>\n",
       "      <td>0-2.5</td>\n",
       "      <td>RatKDay2</td>\n",
       "      <td>1</td>\n",
       "      <td>NSD</td>\n",
       "      <td>NOISE</td>\n",
       "      <td>0.006889</td>\n",
       "    </tr>\n",
       "    <tr>\n",
       "      <th>167</th>\n",
       "      <td>0-2.5</td>\n",
       "      <td>RatKDay2</td>\n",
       "      <td>1</td>\n",
       "      <td>NSD</td>\n",
       "      <td>QW</td>\n",
       "      <td>0.689964</td>\n",
       "    </tr>\n",
       "    <tr>\n",
       "      <th>247</th>\n",
       "      <td>0-2.5</td>\n",
       "      <td>RatKDay2</td>\n",
       "      <td>1</td>\n",
       "      <td>NSD</td>\n",
       "      <td>NREM</td>\n",
       "      <td>0.018334</td>\n",
       "    </tr>\n",
       "    <tr>\n",
       "      <th>327</th>\n",
       "      <td>0-2.5</td>\n",
       "      <td>RatKDay2</td>\n",
       "      <td>1</td>\n",
       "      <td>NSD</td>\n",
       "      <td>REM</td>\n",
       "      <td>0.025000</td>\n",
       "    </tr>\n",
       "  </tbody>\n",
       "</table>\n",
       "</div>"
      ],
      "text/plain": [
       "        zt      name  session  grp  state      prop\n",
       "7    0-2.5  RatKDay2        1  NSD     AW  0.259813\n",
       "87   0-2.5  RatKDay2        1  NSD  NOISE  0.006889\n",
       "167  0-2.5  RatKDay2        1  NSD     QW  0.689964\n",
       "247  0-2.5  RatKDay2        1  NSD   NREM  0.018334\n",
       "327  0-2.5  RatKDay2        1  NSD    REM  0.025000"
      ]
     },
     "execution_count": 7,
     "metadata": {},
     "output_type": "execute_result"
    }
   ],
   "source": [
    "# Figure out which rat has almost no NREM during 0-2.5 block: RatKDay2\n",
    "print(states_df[(states_df.zt == \"0-2.5\") & (states_df.state == \"NREM\")].iloc[1, :])\n",
    "# Now print out all data for that rat\n",
    "states_df[(states_df.zt == \"0-2.5\") & (states_df.name == \"RatKDay2\")]"
   ]
  },
  {
   "cell_type": "markdown",
   "metadata": {},
   "source": [
    "### Plot state proportions"
   ]
  },
  {
   "cell_type": "code",
   "execution_count": 15,
   "metadata": {},
   "outputs": [
    {
     "data": {
      "application/vnd.jupyter.widget-view+json": {
       "model_id": "985151b5ad9d4c748690f63b0cb2a335",
       "version_major": 2,
       "version_minor": 0
      },
      "image/png": "[encoded data removed]",
      "text/html": [
       "\n",
       "            <div style=\"display: inline-block;\">\n",
       "                <div class=\"jupyter-widgets widget-label\" style=\"text-align: center;\">\n",
       "                    Figure\n",
       "                </div>\n",
       "                <img src='data:image/png;base64,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' width=850.0/>\n",
       "            </div>\n",
       "        "
      ],
      "text/plain": [
       "Canvas(toolbar=Toolbar(toolitems=[('Home', 'Reset original view', 'home', 'home'), ('Back', 'Back to previous …"
      ]
     },
     "metadata": {},
     "output_type": "display_data"
    }
   ],
   "source": [
    "import plotters\n",
    "\n",
    "fig = subjects.SdFig().fig_supp()\n",
    "\n",
    "for i, state in enumerate([\"NREM\", \"REM\", \"AW\", \"QW\"]):\n",
    "    ax = fig.subplot(fig.gs[i])\n",
    "    df = states_df[(states_df.state == state)]\n",
    "    p1 = plotters.Plotter(data=df, x=\"zt\", y=\"prop\", hue=\"grp\")\n",
    "    p1.stripbarlineplot_sd(palette=subjects.colors_sd())\n",
    "    ax.set_ylim(0, 1)\n",
    "\n",
    "    if i > 0:\n",
    "        ax.set_yticklabels([])\n",
    "        ax.set_ylabel(\"\")\n",
    "\n",
    "fig.savefig(subjects.figpath_sd / \"state_prop\", format=\"svg\")"
   ]
  },
  {
   "cell_type": "code",
   "execution_count": null,
   "metadata": {},
   "outputs": [],
   "source": [
    "fig = plotting.Fig(4, 5)\n",
    "states = [\"AW\", \"QW\", \"NREM\", \"REM\"]\n",
    "colors = [\"#2f2d2d\", \"#8c8c8c\", \"#3368db\", \"#33dbae\"]\n",
    "zts = states_df.zt.unique()\n",
    "for i, zt in enumerate(zts):\n",
    "    df = states_df[states_df.zt == zt]\n",
    "    names = df.name.values\n",
    "    state_prop = df.loc[:, [\"AW\", \"QW\", \"REM\", \"NREM\"]]\n",
    "    ax = fig.subplot(fig.gs[i])\n",
    "    ax.set_xlabel(zt)\n",
    "\n",
    "    left = np.zeros(len(names))\n",
    "    for s, state in enumerate(states):\n",
    "        y = state_prop[state].values\n",
    "        ax.barh(names, y, left=left, color=colors[s])\n",
    "        left = y + left"
   ]
  },
  {
   "attachments": {},
   "cell_type": "markdown",
   "metadata": {},
   "source": [
    "### Visualize conctenated active waking epochs"
   ]
  },
  {
   "cell_type": "code",
   "execution_count": null,
   "metadata": {},
   "outputs": [],
   "source": [
    "from neuropy.utils.signal_process import FourierSg, WaveletSg\n",
    "from neuropy.core import Signal\n",
    "\n",
    "sess = subjects.nsd.ratUday2[0]\n",
    "# states = sess.brainstates[\"QW\"] + sess.brainstates[\"AW\"] + sess.brainstates[\"REM\"]\n",
    "eeg = []\n",
    "for state_name in [\"QW\", \"AW\", \"REM\"]:\n",
    "    states = sess.brainstates[state_name]\n",
    "    eeg.append(sess.eegfile.get_frames_within_epochs(states, 58))\n",
    "\n",
    "eeg = Signal(traces=np.hstack(eeg), sampling_rate=1250)\n",
    "spect = FourierSg(eeg, window=2, overlap=0.8, norm_sig=True).freq_slice(0, 30)\n",
    "# wspect = WaveletSg(eeg, freqs=np.arange(0.25, 30, 0.25), ncycles=10)\n",
    "# spect_thratio = spect.theta_delta_ratio\n",
    "# wspect_thratio = wspect.theta_deltaplus_ratio"
   ]
  },
  {
   "cell_type": "code",
   "execution_count": null,
   "metadata": {},
   "outputs": [],
   "source": [
    "_, ax = plt.subplots()\n",
    "\n",
    "ax.pcolormesh(spect.time, spect.freqs, spect.traces, vmax=0.6, cmap=\"binary\")"
   ]
  },
  {
   "attachments": {},
   "cell_type": "markdown",
   "metadata": {},
   "source": [
    "### Amount/proportion NREM across zt epochs/blocks"
   ]
  },
  {
   "cell_type": "code",
   "execution_count": null,
   "metadata": {
    "tags": [
     "sd_paper"
    ]
   },
   "outputs": [],
   "source": [
    "sessions = subjects.pf_sess()\n",
    "\n",
    "nrem_df = []\n",
    "for s, sess in enumerate(sessions):\n",
    "    post = sess.paradigm[\"post\"].flatten()\n",
    "    nrem = sess.brainstates[\"NREM\"]\n",
    "\n",
    "    zt_starts = np.arange(post[0], post[0] + 7.35 * 3600, 300)\n",
    "    zt_stops = zt_starts + 900\n",
    "    zt_labels = np.arange(len(zt_starts)).astype(\"str\")\n",
    "    zt_epochs = sess.paradigm.from_array(zt_starts, zt_stops, zt_labels)\n",
    "\n",
    "    for e in zt_epochs.itertuples():\n",
    "        e_duration = nrem.time_slice(e.start, e.stop, strict=False).durations.sum()\n",
    "        e_df = pd.DataFrame({\"duration\": e_duration}, index=[0])\n",
    "        e_df[\"zt\"] = e.label\n",
    "        e_df[\"session\"] = s\n",
    "        e_df[\"name\"] = sess.animal.name + sess.animal.day\n",
    "        e_df[\"grp\"] = sess.tag\n",
    "        nrem_df.append(e_df)\n",
    "\n",
    "nrem_df = pd.concat(nrem_df, ignore_index=True)\n",
    "subjects.GroupData().save(nrem_df, \"nrem_duration_NREM\")"
   ]
  },
  {
   "cell_type": "code",
   "execution_count": null,
   "metadata": {},
   "outputs": [],
   "source": [
    "fig = plotting.Fig(8, 5)\n",
    "\n",
    "ax = fig.subplot(fig.gs[0])\n",
    "\n",
    "# for g, grp in enumerate([\"NSD\", \"SD\"]):\n",
    "mean_duration = nrem_df.groupby([\"grp\", \"zt\"]).mean(numeric_only=True).reset_index()\n",
    "mean_duration[\"zt\"] = mean_duration[\"zt\"].astype(\"float\") * (5 / 60)\n",
    "mean_duration[\"duration\"] = mean_duration[\"duration\"] / (900)\n",
    "\n",
    "sns.lineplot(data=mean_duration, x=\"zt\", y=\"duration\", hue=\"grp\")\n",
    "ax.legend(\"\", frameon=False)\n",
    "ax.set_ylim(0, 1)"
   ]
  },
  {
   "attachments": {},
   "cell_type": "markdown",
   "metadata": {},
   "source": [
    "### Amount/proportion NREM across zt epochs/blocks aligned by NREM"
   ]
  },
  {
   "cell_type": "code",
   "execution_count": null,
   "metadata": {},
   "outputs": [],
   "source": [
    "sessions = subjects.pf_sess()\n",
    "\n",
    "nrem_df = []\n",
    "for s, sess in enumerate(sessions):\n",
    "    post = sess.paradigm[\"post\"].flatten()\n",
    "    nrem = sess.brainstates[\"NREM\"]\n",
    "    good_nrem = (\n",
    "        sess.brainstates.label_slice([\"NREM\"])\n",
    "        .time_slice(*post, strict=False)\n",
    "        .duration_slice(min_dur=120)\n",
    "    )\n",
    "    nrem_onset = good_nrem[0].flatten()[0]\n",
    "    # if sess.tag == \"SD\":\n",
    "    # nrem_onset = post[0] + 5 * 3600\n",
    "    print(sess.tag, sess.sub_name, (nrem_onset - post[0]) / 3600)\n",
    "\n",
    "    zt_starts = np.arange(nrem_onset, post[0] + 7.35 * 3600, 300)\n",
    "    zt_stops = zt_starts + 900\n",
    "    zt_labels = np.arange(len(zt_starts)).astype(\"str\")\n",
    "    zt_epochs = sess.paradigm.from_array(zt_starts, zt_stops, zt_labels)\n",
    "\n",
    "    for e in zt_epochs.itertuples():\n",
    "        e_duration = nrem.time_slice(e.start, e.stop, strict=False).durations.sum()\n",
    "        e_df = pd.DataFrame({\"duration\": e_duration}, index=[0])\n",
    "        e_df[\"zt\"] = e.label\n",
    "        e_df[\"session\"] = s\n",
    "        e_df[\"name\"] = sess.animal.name + sess.animal.day\n",
    "        e_df[\"grp\"] = sess.tag\n",
    "        nrem_df.append(e_df)\n",
    "\n",
    "nrem_df = pd.concat(nrem_df, ignore_index=True)\n",
    "subjects.GroupData().save(nrem_df, \"nrem_duration_aligned_by_nrem_onset\")"
   ]
  },
  {
   "cell_type": "code",
   "execution_count": null,
   "metadata": {},
   "outputs": [],
   "source": [
    "fig = plotting.Fig(8, 5)\n",
    "\n",
    "ax = fig.subplot(fig.gs[0])\n",
    "\n",
    "# for g, grp in enumerate([\"NSD\", \"SD\"]):\n",
    "mean_duration = nrem_df.groupby([\"grp\", \"zt\"]).mean(numeric_only=True).reset_index()\n",
    "mean_duration[\"zt\"] = mean_duration[\"zt\"].astype(\"float\") * (5 / 60)\n",
    "mean_duration[\"duration\"] = mean_duration[\"duration\"] / (900)\n",
    "\n",
    "sns.lineplot(data=mean_duration, x=\"zt\", y=\"duration\", hue=\"grp\")\n",
    "ax.legend(\"\", frameon=False)\n",
    "ax.set_ylim(0, 1)"
   ]
  },
  {
   "attachments": {},
   "cell_type": "markdown",
   "metadata": {},
   "source": [
    "### Amount/proportion WAKE across zt epochs/blocks aligned by light cycle"
   ]
  },
  {
   "cell_type": "code",
   "execution_count": null,
   "metadata": {},
   "outputs": [],
   "source": [
    "sessions = subjects.pf_sess()\n",
    "\n",
    "wake_df = []\n",
    "for s, sess in enumerate(sessions):\n",
    "    post = sess.paradigm[\"post\"].flatten()\n",
    "    wake = sess.brainstates.label_slice([\"AW\", \"QW\"]).set_labels(\"WK\").merge_neighbors()\n",
    "\n",
    "    zt_starts = np.arange(post[0], post[0] + 7.35 * 3600, 300)\n",
    "    zt_stops = zt_starts + 900\n",
    "    zt_labels = np.arange(len(zt_starts)).astype(\"str\")\n",
    "    zt_epochs = sess.paradigm.from_array(zt_starts, zt_stops, zt_labels)\n",
    "\n",
    "    for e in zt_epochs.itertuples():\n",
    "        e_duration = wake.time_slice(e.start, e.stop, strict=False).durations.sum()\n",
    "        e_df = pd.DataFrame({\"duration\": e_duration}, index=[0])\n",
    "        e_df[\"zt\"] = e.label\n",
    "        e_df[\"session\"] = s\n",
    "        e_df[\"name\"] = sess.animal.name + sess.animal.day\n",
    "        e_df[\"grp\"] = sess.tag\n",
    "        wake_df.append(e_df)\n",
    "\n",
    "wake_df = pd.concat(wake_df, ignore_index=True)\n",
    "subjects.GroupData().save(wake_df, \"wake_duration_aligned_by_WAKE\")"
   ]
  },
  {
   "cell_type": "code",
   "execution_count": null,
   "metadata": {},
   "outputs": [],
   "source": [
    "mean_duration"
   ]
  },
  {
   "cell_type": "code",
   "execution_count": null,
   "metadata": {},
   "outputs": [],
   "source": [
    "fig = plotting.Fig(8, 5)\n",
    "\n",
    "ax = fig.subplot(fig.gs[0])\n",
    "\n",
    "# for g, grp in enumerate([\"NSD\", \"SD\"]):\n",
    "mean_duration = wake_df.groupby([\"grp\", \"zt\"]).mean(numeric_only=True).reset_index()\n",
    "mean_duration[\"zt\"] = mean_duration[\"zt\"].astype(\"float\") * (5 / 60)\n",
    "mean_duration[\"duration\"] = mean_duration[\"duration\"] / (900)\n",
    "\n",
    "sns.lineplot(data=mean_duration, x=\"zt\", y=\"duration\", hue=\"grp\", drawstyle=\"steps-mid\")\n",
    "ax.legend(\"\", frameon=False)\n",
    "ax.set_ylim(0, 1)"
   ]
  },
  {
   "attachments": {},
   "cell_type": "markdown",
   "metadata": {},
   "source": [
    "### Comparing bout duration of NREM and REM between NSD and SD"
   ]
  },
  {
   "cell_type": "code",
   "execution_count": null,
   "metadata": {},
   "outputs": [],
   "source": [
    "sessions = subjects.ripple_sess()\n",
    "\n",
    "states_duration_df = []\n",
    "for s, sess in enumerate(sessions):\n",
    "    zt_epochs = sess.get_zt_epochs()[2:]\n",
    "    states = sess.brainstates.label_slice([\"NREM\", \"REM\"])\n",
    "\n",
    "    for e in zt_epochs.itertuples():\n",
    "        indx = (states.starts >= e.start) & (states.starts <= e.stop)\n",
    "        e_states = states[indx]\n",
    "\n",
    "        df = pd.DataFrame(\n",
    "            dict(\n",
    "                duration=e_states.durations,\n",
    "                brainstate=e_states.labels,\n",
    "                zt=e.label,\n",
    "                session=s,\n",
    "                grp=sess.tag,\n",
    "            )\n",
    "        )\n",
    "\n",
    "        states_duration_df.append(df)\n",
    "\n",
    "states_duration_df = pd.concat(states_duration_df, ignore_index=True)"
   ]
  },
  {
   "cell_type": "code",
   "execution_count": null,
   "metadata": {},
   "outputs": [],
   "source": [
    "_, axs = plt.subplots(1, 2)\n",
    "\n",
    "for i, state in enumerate([\"NREM\", \"REM\"]):\n",
    "    df = states_duration_df[states_duration_df.brainstate == state]\n",
    "    sns.stripplot(\n",
    "        data=df,\n",
    "        x=\"zt\",\n",
    "        y=\"duration\",\n",
    "        hue=\"grp\",\n",
    "        hue_order=[\"NSD\", \"SD\"],\n",
    "        ax=axs[i],\n",
    "        dodge=True,\n",
    "    )"
   ]
  },
  {
   "attachments": {},
   "cell_type": "markdown",
   "metadata": {},
   "source": [
    "### Comparing total duration of NREM and REM between NSD and SD"
   ]
  },
  {
   "cell_type": "code",
   "execution_count": null,
   "metadata": {},
   "outputs": [],
   "source": [
    "sessions = subjects.ripple_sess()\n",
    "\n",
    "states_duration_df = []\n",
    "for s, sess in enumerate(sessions):\n",
    "    zt_epochs = sess.get_zt_epochs()[2:]\n",
    "    states = sess.brainstates.label_slice([\"NREM\", \"REM\"])\n",
    "\n",
    "    for e in zt_epochs.itertuples():\n",
    "        e_states = states.time_slice(e.start, e.stop, strict=False)\n",
    "        df = pd.DataFrame(\n",
    "            dict(\n",
    "                nrem_duration=[e_states[\"NREM\"].durations.sum()],\n",
    "                rem_duration=[e_states[\"REM\"].durations.sum()],\n",
    "                zt=e.label,\n",
    "                session=s,\n",
    "                grp=sess.tag,\n",
    "            )\n",
    "        )\n",
    "\n",
    "        states_duration_df.append(df)\n",
    "\n",
    "states_duration_df = pd.concat(states_duration_df, ignore_index=True)"
   ]
  },
  {
   "cell_type": "code",
   "execution_count": null,
   "metadata": {},
   "outputs": [],
   "source": [
    "_, axs = plt.subplots()\n",
    "\n",
    "sns.stripplot(\n",
    "    data=states_duration_df,\n",
    "    x=\"zt\",\n",
    "    y=\"rem_duration\",\n",
    "    hue=\"grp\",\n",
    "    hue_order=[\"NSD\", \"SD\"],\n",
    "    ax=axs,\n",
    "    dodge=True,\n",
    ")"
   ]
  },
  {
   "cell_type": "code",
   "execution_count": null,
   "metadata": {},
   "outputs": [],
   "source": [
    "func = lambda df: df.groupby([])"
   ]
  },
  {
   "cell_type": "markdown",
   "metadata": {},
   "source": [
    "### What percentage of SD is sleep ?"
   ]
  },
  {
   "cell_type": "code",
   "execution_count": 9,
   "metadata": {},
   "outputs": [],
   "source": [
    "sessions = subjects.sd.allsess\n",
    "\n",
    "nrem_df = []\n",
    "nrem_dur_all = 0\n",
    "for s, sess in enumerate(sessions):\n",
    "    post = sess.paradigm[\"post\"].flatten()\n",
    "    nrem_dur = (\n",
    "        sess.brainstates[\"NREM\"]\n",
    "        .time_slice(post[0], post[0] + 5 * 3600, strict=False)\n",
    "        .durations.sum()\n",
    "    )\n",
    "\n",
    "    nrem_dur_all += nrem_dur\n",
    "\n",
    "    nrem_perc = nrem_dur / (5 * 3600)\n",
    "\n",
    "    df = pd.DataFrame({\"nrem_perc\": [nrem_perc], \"grp\": sess.tag})\n",
    "    nrem_df.append(df)\n",
    "\n",
    "nrem_df = pd.concat(nrem_df, ignore_index=True)"
   ]
  },
  {
   "cell_type": "code",
   "execution_count": 10,
   "metadata": {},
   "outputs": [
    {
     "data": {
      "text/plain": [
       "0.0013708140781261086"
      ]
     },
     "execution_count": 10,
     "metadata": {},
     "output_type": "execute_result"
    }
   ],
   "source": [
    "nrem_dur_all / (8 * 5 * 3600)"
   ]
  },
  {
   "cell_type": "code",
   "execution_count": 7,
   "metadata": {},
   "outputs": [
    {
     "data": {
      "text/plain": [
       "<Axes: xlabel='grp', ylabel='nrem_perc'>"
      ]
     },
     "execution_count": 7,
     "metadata": {},
     "output_type": "execute_result"
    },
    {
     "data": {
      "application/vnd.jupyter.widget-view+json": {
       "model_id": "b42fd7f17fac4926a41abad433257a6f",
       "version_major": 2,
       "version_minor": 0
      },
      "image/png": "[encoded data removed]",
      "text/html": [
       "\n",
       "            <div style=\"display: inline-block;\">\n",
       "                <div class=\"jupyter-widgets widget-label\" style=\"text-align: center;\">\n",
       "                    Figure\n",
       "                </div>\n",
       "                <img src='data:image/png;base64,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' width=640.0/>\n",
       "            </div>\n",
       "        "
      ],
      "text/plain": [
       "Canvas(toolbar=Toolbar(toolitems=[('Home', 'Reset original view', 'home', 'home'), ('Back', 'Back to previous …"
      ]
     },
     "metadata": {},
     "output_type": "display_data"
    }
   ],
   "source": [
    "_, ax = plt.subplots()\n",
    "\n",
    "sns.stripplot(data=nrem_df, x=\"grp\", y=\"nrem_perc\")"
   ]
  }
 ],
 "metadata": {
  "interpreter": {
   "hash": "cce1618081139d19eb1ee8d40815d94a2de4f62e1efb20d9406ddb60628c36ae"
  },
  "kernelspec": {
   "display_name": "Python 3 (ipykernel)",
   "language": "python",
   "name": "python3"
  },
  "language_info": {
   "codemirror_mode": {
    "name": "ipython",
    "version": 3
   },
   "file_extension": ".py",
   "mimetype": "text/x-python",
   "name": "python",
   "nbconvert_exporter": "python",
   "pygments_lexer": "ipython3",
   "version": "3.11.6"
  }
 },
 "nbformat": 4,
 "nbformat_minor": 4
}
