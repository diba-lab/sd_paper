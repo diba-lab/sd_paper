{
 "cells": [
  {
   "attachments": {},
   "cell_type": "markdown",
   "metadata": {},
   "source": [
    "### Imports"
   ]
  },
  {
   "cell_type": "code",
   "execution_count": 1,
   "metadata": {},
   "outputs": [],
   "source": [
    "%load_ext autoreload\n",
    "%autoreload 2\n",
    "import sys\n",
    "sys.path.extend(['/home/nkinsky/Documents/GitHub/NeuroPy'])\n",
    "sys.path.extend(['/home/nkinsky/Documents/GitHubPrivate/pythonprogs/DataPaths/'])\n",
    "\n",
    "import numpy as np\n",
    "import pandas as pd\n",
    "import seaborn as sns\n",
    "from scipy import stats\n",
    "import scipy.signal as sg\n",
    "import matplotlib.pyplot as plt\n",
    "from neuropy import plotting\n",
    "import subjects"
   ]
  },
  {
   "attachments": {},
   "cell_type": "markdown",
   "metadata": {
    "jp-MarkdownHeadingCollapsed": true
   },
   "source": [
    "### Sleep state detection"
   ]
  },
  {
   "cell_type": "code",
   "execution_count": 3,
   "metadata": {},
   "outputs": [
    {
     "name": "stdout",
     "output_type": "stream",
     "text": [
      "channel for sleep detection: (61, 14)\n",
      "spectral properties calculated\n"
     ]
    }
   ],
   "source": [
    "from neuropy.analyses import detect_brainstates_epochs\n",
    "\n",
    "sessions = subjects.sd.ratKday1\n",
    "# sessions = subjects.nsd.ratUday2\n",
    "# sessions = subjects.sd.ratJday1\n",
    "# sessions = subjects.ripple_sess()\n",
    "# sessions = subjects.nsd.ratSday2\n",
    "# sessions = subjects.nsd.ratJday2\n",
    "# sessions = subjects.sd.ratSday3\n",
    "\n",
    "for sub, sess in enumerate(sessions):\n",
    "    signal = sess.eegfile.get_signal()\n",
    "    brainstates = detect_brainstates_epochs(\n",
    "        signal,\n",
    "        probe=sess.probegroup,\n",
    "        theta_channel=sess.best_channels.theta,\n",
    "        delta_channel=sess.best_channels.slow_wave,\n",
    "        sigma=4,\n",
    "        ignore_epochs=sess.artifact,\n",
    "        window=2,\n",
    "        overlap=1,\n",
    "        emg_signal=sess.emg,\n",
    "        # plot=False,\n",
    "        # fp_bokeh_plot=sess.filePrefix.with_suffix(\".brainstates_scoring.html\"),\n",
    "        threshold_type=\"schmitt\",\n",
    "    )\n",
    "\n",
    "    # brainstates.save(sess.filePrefix.with_suffix(\".brainstates.finer\"))"
   ]
  },
  {
   "attachments": {},
   "cell_type": "markdown",
   "metadata": {
    "jp-MarkdownHeadingCollapsed": true
   },
   "source": [
    "### Curate some misclassification"
   ]
  },
  {
   "cell_type": "code",
   "execution_count": 35,
   "metadata": {},
   "outputs": [
    {
     "name": "stdout",
     "output_type": "stream",
     "text": [
      "[15120, 32400.0]\n"
     ]
    },
    {
     "data": {
      "text/html": [
       "<div>\n",
       "<style scoped>\n",
       "    .dataframe tbody tr th:only-of-type {\n",
       "        vertical-align: middle;\n",
       "    }\n",
       "\n",
       "    .dataframe tbody tr th {\n",
       "        vertical-align: top;\n",
       "    }\n",
       "\n",
       "    .dataframe thead th {\n",
       "        text-align: right;\n",
       "    }\n",
       "</style>\n",
       "<table border=\"1\" class=\"dataframe\">\n",
       "  <thead>\n",
       "    <tr style=\"text-align: right;\">\n",
       "      <th></th>\n",
       "      <th>start</th>\n",
       "      <th>stop</th>\n",
       "      <th>label</th>\n",
       "      <th>duration</th>\n",
       "    </tr>\n",
       "  </thead>\n",
       "  <tbody>\n",
       "    <tr>\n",
       "      <th>515</th>\n",
       "      <td>33429.612134</td>\n",
       "      <td>33762.618231</td>\n",
       "      <td>NREM</td>\n",
       "      <td>333.006098</td>\n",
       "    </tr>\n",
       "    <tr>\n",
       "      <th>714</th>\n",
       "      <td>50145.918237</td>\n",
       "      <td>50174.918768</td>\n",
       "      <td>NREM</td>\n",
       "      <td>29.000531</td>\n",
       "    </tr>\n",
       "    <tr>\n",
       "      <th>542</th>\n",
       "      <td>35420.648593</td>\n",
       "      <td>35519.650406</td>\n",
       "      <td>NREM</td>\n",
       "      <td>99.001813</td>\n",
       "    </tr>\n",
       "    <tr>\n",
       "      <th>588</th>\n",
       "      <td>38360.702430</td>\n",
       "      <td>38544.705799</td>\n",
       "      <td>NREM</td>\n",
       "      <td>184.003369</td>\n",
       "    </tr>\n",
       "    <tr>\n",
       "      <th>746</th>\n",
       "      <td>54421.996539</td>\n",
       "      <td>54556.999011</td>\n",
       "      <td>NREM</td>\n",
       "      <td>135.002472</td>\n",
       "    </tr>\n",
       "  </tbody>\n",
       "</table>\n",
       "</div>"
      ],
      "text/plain": [
       "            start          stop label    duration\n",
       "515  33429.612134  33762.618231  NREM  333.006098\n",
       "714  50145.918237  50174.918768  NREM   29.000531\n",
       "542  35420.648593  35519.650406  NREM   99.001813\n",
       "588  38360.702430  38544.705799  NREM  184.003369\n",
       "746  54421.996539  54556.999011  NREM  135.002472"
      ]
     },
     "execution_count": 35,
     "metadata": {},
     "output_type": "execute_result"
    }
   ],
   "source": [
    "# Get start and end times of SD\n",
    "ratNday1 = subjects.sd.ratNday1\n",
    "bs_df = ratNday1[0].brainstates.to_dataframe()\n",
    "post = ratNday1[0].paradigm[\"post\"].flatten()\n",
    "sd = [post[0], post[0] + 4.8 * 3600]\n",
    "print(sd)\n",
    "bs_df[bs_df.label == 'NREM'].sample(5)"
   ]
  },
  {
   "cell_type": "code",
   "execution_count": 36,
   "metadata": {},
   "outputs": [
    {
     "name": "stdout",
     "output_type": "stream",
     "text": [
      "[15417, 32697.0]\n"
     ]
    },
    {
     "data": {
      "text/html": [
       "<div>\n",
       "<style scoped>\n",
       "    .dataframe tbody tr th:only-of-type {\n",
       "        vertical-align: middle;\n",
       "    }\n",
       "\n",
       "    .dataframe tbody tr th {\n",
       "        vertical-align: top;\n",
       "    }\n",
       "\n",
       "    .dataframe thead th {\n",
       "        text-align: right;\n",
       "    }\n",
       "</style>\n",
       "<table border=\"1\" class=\"dataframe\">\n",
       "  <thead>\n",
       "    <tr style=\"text-align: right;\">\n",
       "      <th></th>\n",
       "      <th>start</th>\n",
       "      <th>stop</th>\n",
       "      <th>label</th>\n",
       "      <th>duration</th>\n",
       "    </tr>\n",
       "  </thead>\n",
       "  <tbody>\n",
       "    <tr>\n",
       "      <th>439</th>\n",
       "      <td>34203.662611</td>\n",
       "      <td>34219.662921</td>\n",
       "      <td>NREM</td>\n",
       "      <td>16.000310</td>\n",
       "    </tr>\n",
       "    <tr>\n",
       "      <th>459</th>\n",
       "      <td>36870.714280</td>\n",
       "      <td>37053.717826</td>\n",
       "      <td>NREM</td>\n",
       "      <td>183.003545</td>\n",
       "    </tr>\n",
       "    <tr>\n",
       "      <th>548</th>\n",
       "      <td>46614.903055</td>\n",
       "      <td>46636.903481</td>\n",
       "      <td>NREM</td>\n",
       "      <td>22.000426</td>\n",
       "    </tr>\n",
       "    <tr>\n",
       "      <th>476</th>\n",
       "      <td>38672.749191</td>\n",
       "      <td>38995.755449</td>\n",
       "      <td>NREM</td>\n",
       "      <td>323.006258</td>\n",
       "    </tr>\n",
       "    <tr>\n",
       "      <th>554</th>\n",
       "      <td>46720.905109</td>\n",
       "      <td>47191.914234</td>\n",
       "      <td>NREM</td>\n",
       "      <td>471.009125</td>\n",
       "    </tr>\n",
       "  </tbody>\n",
       "</table>\n",
       "</div>"
      ],
      "text/plain": [
       "            start          stop label    duration\n",
       "439  34203.662611  34219.662921  NREM   16.000310\n",
       "459  36870.714280  37053.717826  NREM  183.003545\n",
       "548  46614.903055  46636.903481  NREM   22.000426\n",
       "476  38672.749191  38995.755449  NREM  323.006258\n",
       "554  46720.905109  47191.914234  NREM  471.009125"
      ]
     },
     "execution_count": 36,
     "metadata": {},
     "output_type": "execute_result"
    }
   ],
   "source": [
    "bs_df = brainstates.to_dataframe()\n",
    "post = sess.paradigm[\"post\"].flatten()\n",
    "sd = [post[0], post[0] + 4.8 * 3600]\n",
    "print(sd)\n",
    "bs_df[bs_df.label == 'NREM'].sample(5)"
   ]
  },
  {
   "cell_type": "markdown",
   "metadata": {
    "jp-MarkdownHeadingCollapsed": true
   },
   "source": [
    "### Print out sessions for moving bokeh plots over to folders"
   ]
  },
  {
   "cell_type": "code",
   "execution_count": 28,
   "metadata": {},
   "outputs": [
    {
     "name": "stdout",
     "output_type": "stream",
     "text": [
      "NSD sessions:['RatKDay2', 'RatNDay2', 'RatSDay2', 'RatUDay2', 'RatVDay1', 'RatVDay3']\n"
     ]
    }
   ],
   "source": [
    "# NSD sessions\n",
    "print(f\"NSD sessions:{[s.name for s in subjects.nsd.pf_sess]}\")"
   ]
  },
  {
   "cell_type": "code",
   "execution_count": 29,
   "metadata": {},
   "outputs": [
    {
     "name": "stdout",
     "output_type": "stream",
     "text": [
      "SD sessions:['RatKDay1', 'RatNDay1', 'RatSDay3', 'RatUDay1', 'RatUDay4', 'RatVDay2', 'RatRDay2']\n"
     ]
    }
   ],
   "source": [
    "# SD sessions\n",
    "print(f\"SD sessions:{[s.name for s in subjects.sd.pf_sess]}\")"
   ]
  },
  {
   "cell_type": "code",
   "execution_count": null,
   "metadata": {},
   "outputs": [],
   "source": [
    "from neuropy.core import Epoch\n",
    "\n",
    "# sessions = subjects.sd.pf_sess\n",
    "sessions = subjects.sd.ratKday1\n",
    "\n",
    "_, axs = plt.subplots(4, 2)\n",
    "axs = axs.reshape(-1)\n",
    "\n",
    "for s, sess in enumerate(sessions):\n",
    "    post = sess.paradigm[\"post\"].flatten()\n",
    "    sd = [post[0], post[0] + 4.8 * 3600]\n",
    "    states = (\n",
    "        sess.brainstates[\"AW\"]\n",
    "        + sess.brainstates[\"QW\"]\n",
    "        + sess.brainstates[\"REM\"]\n",
    "        + sess.brainstates[\"NREM\"]\n",
    "        + sess.brainstates[\"NOISE\"]\n",
    "    )\n",
    "    states_df = states.to_dataframe()\n",
    "\n",
    "    fp = sess.filePrefix\n",
    "    # sess.brainstates.save(fp.with_suffix(\".backup.brainstates.06-12-2023\"))\n",
    "\n",
    "    starts = states.starts\n",
    "    labels = states.labels\n",
    "\n",
    "    rem_indx = (starts > sd[0]) & (starts < sd[1]) & (labels == \"REM\")\n",
    "    states_df.loc[rem_indx, \"label\"] = \"QW\"\n",
    "    nrem_indx = (starts > sd[0]) & (starts < sd[1]) & (labels == \"NREM\")\n",
    "    states_df.loc[nrem_indx, \"label\"] = \"QW\"\n",
    "\n",
    "    new_states = Epoch(states_df)\n",
    "    new_states.save(fp.with_suffix(\".brainstates.finer\"))\n",
    "\n",
    "    # plotting.plot_epochs(new_states, ax=axs[s])"
   ]
  },
  {
   "cell_type": "code",
   "execution_count": null,
   "metadata": {},
   "outputs": [],
   "source": [
    "new_states[\"NOISE\"].to_dataframe()"
   ]
  },
  {
   "attachments": {},
   "cell_type": "markdown",
   "metadata": {
    "jp-MarkdownHeadingCollapsed": true
   },
   "source": [
    "### Curate nrem during maze misclassification"
   ]
  },
  {
   "cell_type": "code",
   "execution_count": null,
   "metadata": {},
   "outputs": [],
   "source": [
    "from neuropy.core import Epoch\n",
    "\n",
    "sessions = subjects.ripple_sess()\n",
    "\n",
    "_, axs = plt.subplots(8, 2)\n",
    "axs = axs.reshape(-1)\n",
    "\n",
    "for s, sess in enumerate(sessions):\n",
    "    maze = sess.paradigm[\"maze\"].flatten()\n",
    "    states = (\n",
    "        sess.brainstates_fine[\"AW\"]\n",
    "        + sess.brainstates_fine[\"QW\"]\n",
    "        + sess.brainstates_fine[\"REM\"]\n",
    "        + sess.brainstates_fine[\"NREM\"]\n",
    "        + sess.brainstates_fine[\"NOISE\"]\n",
    "    )\n",
    "    states_df = states.to_dataframe()\n",
    "\n",
    "    fp = sess.filePrefix\n",
    "    # sess.brainstates.save(fp.with_suffix(\".backup.brainstates.06-12-2023\"))\n",
    "\n",
    "    starts = states.starts\n",
    "    labels = states.labels\n",
    "\n",
    "    rem_indx = (starts > maze[0]) & (starts < maze[1]) & (labels == \"REM\")\n",
    "    states_df.loc[rem_indx, \"label\"] = \"AW\"\n",
    "    nrem_indx = (starts > maze[0]) & (starts < maze[1]) & (labels == \"NREM\")\n",
    "    states_df.loc[nrem_indx, \"label\"] = \"QW\"\n",
    "\n",
    "    new_states = Epoch(states_df)\n",
    "    new_states.save(fp.with_suffix(\".brainstates.finer\"))\n",
    "\n",
    "    plotting.plot_epochs(new_states, ax=axs[s])"
   ]
  },
  {
   "attachments": {},
   "cell_type": "markdown",
   "metadata": {
    "jp-MarkdownHeadingCollapsed": true
   },
   "source": [
    "### ADD non sleep scored epochs as NOISE"
   ]
  },
  {
   "cell_type": "code",
   "execution_count": null,
   "metadata": {},
   "outputs": [],
   "source": [
    "sessions = subjects.ripple_sess()\n",
    "\n",
    "for s, sess in enumerate(sessions):\n",
    "    maze = sess.paradigm[\"maze\"]\n",
    "\n",
    "    starts = sess.brainstates_fine.starts\n",
    "    stops = sess.brainstates_fine.stops\n",
    "\n",
    "    gap = np.abs(stops[:-1] - starts[1:])\n",
    "    gap_indx = np.where(gap > 0)\n",
    "\n",
    "    noise_starts = stops[:-1][gap_indx]\n",
    "    noise_stops = starts[1:][gap_indx]\n",
    "    noise_states = sess.paradigm.from_array(noise_starts, noise_stops, \"NOISE\")\n",
    "\n",
    "    new_states = sess.brainstates_fine + noise_states\n",
    "    # new_states.save(sess.filePrefix.with_suffix(\".brainstates.finer\"))"
   ]
  },
  {
   "attachments": {},
   "cell_type": "markdown",
   "metadata": {
    "jp-MarkdownHeadingCollapsed": true
   },
   "source": [
    "### Create backup"
   ]
  },
  {
   "cell_type": "code",
   "execution_count": null,
   "metadata": {},
   "outputs": [],
   "source": [
    "sessions = subjects.ripple_sess()\n",
    "\n",
    "for s, sess in enumerate(sessions):\n",
    "    # suffix = \".brainstates.nature_first_submission\" #created for nature submission\n",
    "    suffix = \"put your suffix\"\n",
    "    sess.brainstates.save(sess.filePrefix.with_suffix(suffix))"
   ]
  },
  {
   "attachments": {},
   "cell_type": "markdown",
   "metadata": {
    "jp-MarkdownHeadingCollapsed": true
   },
   "source": [
    "### Convert old to new format"
   ]
  },
  {
   "cell_type": "code",
   "execution_count": null,
   "metadata": {},
   "outputs": [],
   "source": [
    "from neuropy.core import Epoch\n",
    "\n",
    "sessions = subjects.ripple_sess()\n",
    "\n",
    "for s, sess in enumerate(sessions):\n",
    "    brainstates = sess.brainstates\n",
    "\n",
    "    if brainstates is not None:\n",
    "        starts = sess.brainstates.starts\n",
    "        stops = sess.brainstates.stops\n",
    "        labels = sess.brainstates.labels\n",
    "\n",
    "        if \"nrem\" in np.unique(labels):\n",
    "            new_labels = np.array([\"\"] * len(labels), dtype=\"U4\")\n",
    "            new_labels[labels == \"active\"] = \"AW\"\n",
    "            new_labels[labels == \"quiet\"] = \"QW\"\n",
    "            new_labels[labels == \"rem\"] = \"REM\"\n",
    "            new_labels[labels == \"nrem\"] = \"NREM\"\n",
    "\n",
    "            fp = sess.filePrefix\n",
    "            brainstates.save(fp.with_suffix(\".backup.brainstates.05-30-2022\"))\n",
    "\n",
    "            valid_idx = new_labels != \"\"\n",
    "\n",
    "            new_states = Epoch.from_array(\n",
    "                starts[valid_idx], stops[valid_idx], new_labels[valid_idx]\n",
    "            )\n",
    "            new_states.save(fp.with_suffix(\".brainstates\"))"
   ]
  },
  {
   "attachments": {},
   "cell_type": "markdown",
   "metadata": {
    "jp-MarkdownHeadingCollapsed": true
   },
   "source": [
    "### Visualize different hypnogram styles"
   ]
  },
  {
   "cell_type": "code",
   "execution_count": null,
   "metadata": {},
   "outputs": [],
   "source": [
    "sess = subjects.nsd.ratSday2[0]\n",
    "post = sess.paradigm[\"post\"].flatten()\n",
    "period = [0, post[0] + 8 * 3600]\n",
    "states = sess.brainstates.time_slice(*period)\n",
    "starts = states.starts\n",
    "stops = states.stops\n",
    "labels = states.labels\n",
    "mids = (stops - starts) / 2 + starts\n",
    "edges = np.insert(starts, len(starts), stops[-1])\n",
    "\n",
    "num_dict = dict(NREM=1, REM=2, QW=3, AW=4)\n",
    "num_labels = [num_dict[_] for _ in labels]\n",
    "\n",
    "\n",
    "_, ax = plt.subplots()\n",
    "\n",
    "# ax.stairs(num_labels, edges, fill=False)\n",
    "ax.step(mids, num_labels, where=\"mid\", lw=1)\n",
    "ax.set_axis_off()"
   ]
  },
  {
   "attachments": {},
   "cell_type": "markdown",
   "metadata": {
    "jp-MarkdownHeadingCollapsed": true
   },
   "source": [
    "### Plot hypnogram with duration threshold"
   ]
  },
  {
   "cell_type": "code",
   "execution_count": null,
   "metadata": {},
   "outputs": [],
   "source": [
    "sessions = subjects.pf_sess()\n",
    "\n",
    "# _, axs = plt.subplots(5,4)\n",
    "fig = plotting.Fig(grid=(15, 6), hspace=0.5)\n",
    "\n",
    "for s, sess in enumerate(sessions[4:9]):\n",
    "    post = sess.paradigm[\"post\"].flatten()\n",
    "    t1, t2 = [post[0], post[0] + 8 * 3600]\n",
    "\n",
    "    for d, dur in enumerate([40, 60, 80, 120]):\n",
    "        # ax = axs[s,d]\n",
    "        ax = fig.subplot(fig.gs[s, d + 1])\n",
    "        ax.axis(\"off\")\n",
    "        states = sess.brainstates.time_slice(t1, t2, strict=False).duration_slice(\n",
    "            min_dur=dur\n",
    "        )\n",
    "        plotting.plot_epochs(\n",
    "            states,\n",
    "            ax=ax,\n",
    "            labels_order=[\"NREM\", \"REM\", \"QW\", \"AW\"],\n",
    "            colors=subjects.colors_sleep,\n",
    "            collapsed=False,\n",
    "        )\n",
    "        if s == 0:\n",
    "            ax.set_title(f\"min dur = {dur} s\")\n",
    "\n",
    "fig.savefig(subjects.figpath_sd / \"hypno_duration_thresh\")"
   ]
  },
  {
   "attachments": {},
   "cell_type": "markdown",
   "metadata": {
    "jp-MarkdownHeadingCollapsed": true
   },
   "source": [
    "### View brainstates detection in ephyviewer"
   ]
  },
  {
   "cell_type": "code",
   "execution_count": null,
   "metadata": {},
   "outputs": [],
   "source": [
    "import matplotlib.pyplot as plt\n",
    "import numpy as np\n",
    "import pandas as pd\n",
    "from neuropy import plotting\n",
    "from brainstates_editor import editor\n",
    "from ephyviewer import mkQApp\n",
    "import subjects\n",
    "\n",
    "app = mkQApp()\n",
    "sess = subjects.nsd.ratVday1[0]\n",
    "sigs = sess.eegfile.get_signal(20)\n",
    "\n",
    "win = editor(\n",
    "    sess.brainstates,\n",
    "    sigs,\n",
    "    filename=sess.filePrefix.with_suffix(\".test\"),\n",
    "    paradigm=sess.paradigm,\n",
    ")\n",
    "win.show()\n",
    "app.exec_()"
   ]
  },
  {
   "attachments": {},
   "cell_type": "markdown",
   "metadata": {
    "jp-MarkdownHeadingCollapsed": true
   },
   "source": [
    "### Violinplots for state durations across all subjects"
   ]
  },
  {
   "cell_type": "code",
   "execution_count": null,
   "metadata": {},
   "outputs": [],
   "source": [
    "sessions = subjects.mua_sess()\n",
    "\n",
    "dur_df = []\n",
    "for se, sess in enumerate(sessions):\n",
    "    zt_epochs = sess.get_zt_epochs()\n",
    "    for e in zt_epochs.itertuples():\n",
    "        zt_states = sess.brainstates.time_slice(e.start, e.stop, strict=False)\n",
    "        e_durations = (\n",
    "            zt_states.to_dataframe().groupby(\"label\", sort=False).sum().reset_index()\n",
    "        )\n",
    "        e_durations[\"zt\"] = e.label\n",
    "        e_durations[\"grp\"] = sess.tag\n",
    "        # e_durations['name']=e.label\n",
    "\n",
    "        dur_df.append(e_durations)\n",
    "        # df = pd.Dataframe(dict(zt=e.label,states=e_durations['label'],duration=e_durations))\n",
    "\n",
    "\n",
    "dur_df = pd.concat(dur_df, ignore_index=True)\n",
    "dur_df[\"durationh\"] = dur_df[\"duration\"] / 3600"
   ]
  },
  {
   "cell_type": "code",
   "execution_count": null,
   "metadata": {},
   "outputs": [],
   "source": [
    "from plotters import violinplot\n",
    "\n",
    "_, axs = plt.subplots(2, 2)\n",
    "axs = axs.reshape(-1)\n",
    "\n",
    "\n",
    "for i, st in enumerate([\"AW\", \"QW\", \"REM\", \"NREM\"]):\n",
    "    df = dur_df[dur_df.label == st]\n",
    "    ax = axs[i]\n",
    "    violinplot(data=df, x=\"zt\", y=\"duration\", hue=\"grp\", ax=ax)"
   ]
  },
  {
   "attachments": {},
   "cell_type": "markdown",
   "metadata": {
    "jp-MarkdownHeadingCollapsed": true
   },
   "source": [
    "### Sleep fraction during 5 hours following MAZE"
   ]
  },
  {
   "cell_type": "code",
   "execution_count": null,
   "metadata": {},
   "outputs": [],
   "source": [
    "import matplotlib.pyplot as plt\n",
    "import numpy as np\n",
    "import pandas as pd\n",
    "from neuropy import plotting\n",
    "import subjects\n",
    "\n",
    "sessions = subjects.sd.brainstates_sess + subjects.nsd.brainstates_sess"
   ]
  },
  {
   "cell_type": "code",
   "execution_count": null,
   "metadata": {},
   "outputs": [],
   "source": [
    "sleep_df = pd.DataFrame()\n",
    "for sub, sess in enumerate(sessions):\n",
    "    post = sess.paradigm[\"post\"].flatten()\n",
    "    period = [post[0], post[0] + 5 * 3600]\n",
    "    prop = sess.brainstates.get_proportion_by_label(period[0], period[1])\n",
    "    if \"nan\" in prop.keys():\n",
    "        del prop[\"nan\"]\n",
    "\n",
    "    sleep_df = sleep_df.append(\n",
    "        pd.DataFrame(\n",
    "            {\n",
    "                \"prop\": list(prop.values()),\n",
    "                \"state\": list(prop.keys()),\n",
    "                \"grp\": sess.tag,\n",
    "            }\n",
    "        ),\n",
    "        ignore_index=True,\n",
    "    )\n",
    "\n",
    "subjects.GroupData().save(sleep_df, \"brainstates_proportion\")"
   ]
  },
  {
   "attachments": {},
   "cell_type": "markdown",
   "metadata": {
    "jp-MarkdownHeadingCollapsed": true
   },
   "source": [
    "### Combining brainstates into dataframe for plotting in sd_figure3\n",
    "- only POST epoch and in Zt time"
   ]
  },
  {
   "cell_type": "code",
   "execution_count": 32,
   "metadata": {},
   "outputs": [
    {
     "name": "stdout",
     "output_type": "stream",
     "text": [
      "#Sessions = 13\n",
      "ev_brainstates saved\n"
     ]
    }
   ],
   "source": [
    "sessions = subjects.pf_sess()\n",
    "\n",
    "brainstates_all = []\n",
    "for sub, sess in enumerate(sessions):\n",
    "    post = sess.paradigm[\"post\"].flatten()\n",
    "    states = sess.brainstates.time_slice(post[0], post[1])\n",
    "    starts = (states.starts - post[0]) / 3600\n",
    "    stops = (states.stops - post[0]) / 3600\n",
    "    df = pd.DataFrame(\n",
    "        dict(\n",
    "            start=starts,\n",
    "            stop=stops,\n",
    "            label=states.labels,\n",
    "            sub=sub,\n",
    "            name=sess.name,\n",
    "            grp=sess.tag,\n",
    "        )\n",
    "    )\n",
    "    brainstates_all.append(df)\n",
    "\n",
    "brainstates_all = pd.concat(brainstates_all, ignore_index=True)\n",
    "\n",
    "subjects.GroupData().save(brainstates_all, \"ev_brainstates\")"
   ]
  },
  {
   "cell_type": "code",
   "execution_count": 3,
   "metadata": {},
   "outputs": [
    {
     "name": "stdout",
     "output_type": "stream",
     "text": [
      "oscillation_brainstates saved\n"
     ]
    }
   ],
   "source": [
    "# Save all sessions for non-EV hypnogram plotting\n",
    "sessions = subjects.ripple_sess()\n",
    "\n",
    "brainstates_all = []\n",
    "for sub, sess in enumerate(sessions):\n",
    "    post = sess.paradigm[\"post\"].flatten()\n",
    "    states = sess.brainstates.time_slice(post[0], post[1])\n",
    "    starts = (states.starts - post[0]) / 3600\n",
    "    stops = (states.stops - post[0]) / 3600\n",
    "    df = pd.DataFrame(\n",
    "        dict(\n",
    "            start=starts,\n",
    "            stop=stops,\n",
    "            label=states.labels,\n",
    "            sub=sub,\n",
    "            name=sess.name,\n",
    "            grp=sess.tag,\n",
    "        )\n",
    "    )\n",
    "    brainstates_all.append(df)\n",
    "\n",
    "brainstates_all = pd.concat(brainstates_all, ignore_index=True)\n",
    "\n",
    "subjects.GroupData().save(brainstates_all, \"oscillation_brainstates\")"
   ]
  },
  {
   "cell_type": "code",
   "execution_count": 15,
   "metadata": {},
   "outputs": [
    {
     "data": {
      "text/plain": [
       "26.000552709338365"
      ]
     },
     "execution_count": 15,
     "metadata": {},
     "output_type": "execute_result"
    }
   ],
   "source": [
    "from neuropy.core.epoch import Epoch\n",
    "sd2_epochs = Epoch(df)\n",
    "epoch_nrem = Epoch(df[(df.start > 0) & (df.stop < 5) & (df.label == \"NREM\")])\n",
    "epoch_nrem.durations.sum()*3600"
   ]
  },
  {
   "cell_type": "code",
   "execution_count": 28,
   "metadata": {},
   "outputs": [
    {
     "data": {
      "text/plain": [
       "[3968.0762241389302,\n",
       " 4317.080572612419,\n",
       " 4210.104399146931,\n",
       " 4937.1018022104945,\n",
       " 4607.094243515271,\n",
       " 5702.118925457806,\n",
       " 0.0,\n",
       " 58.00106209599143,\n",
       " 0.0,\n",
       " 0.0,\n",
       " 0.0,\n",
       " 0.0,\n",
       " 26.000552709338365]"
      ]
     },
     "execution_count": 28,
     "metadata": {},
     "output_type": "execute_result"
    }
   ],
   "source": [
    "# Figure out why I observe different amounts of NREM overlapping with SD2 for EV vs firing dynamics figures - old ev_brainstates variable is outdated!!!\n",
    "from neuropy.core.epoch import Epoch, get_epoch_overlap_duration\n",
    "brainstates_all = []ev_\n",
    "ev_method_olap, fr_method_olap = [], []\n",
    "for sub, sess in enumerate(sessions):\n",
    "    post = sess.paradigm[\"post\"].flatten()\n",
    "    states = sess.brainstates.time_slice(post[0], post[1])\n",
    "    starts = (states.starts - post[0]) / 3600\n",
    "    stops = (states.stops - post[0]) / 3600\n",
    "    df = pd.DataFrame(\n",
    "        dict(\n",
    "            start=starts,\n",
    "            stop=stops,\n",
    "            label=states.labels,\n",
    "            sub=sub,\n",
    "            name=sess.name,\n",
    "            grp=sess.tag,\n",
    "        )\n",
    "    )\n",
    "    df_sd2_epochs = Epoch(df[(df.start > 0) & (df.stop < 5)])\n",
    "    epoch_nrem = Epoch(df[(df.start > 2.5) & (df.stop < 5) & (df.label == \"NREM\")])\n",
    "    ev_method_olap.append(epoch_nrem.durations.sum()*3600)\n",
    "\n",
    "    # Firing dynamics method\n",
    "    nrem = sess.brainstates[\"NREM\"]\n",
    "    ds2check = sess.get_zt_epochs()[\"2.5-5\"]\n",
    "    fr_method_olap.append(get_epoch_overlap_duration(nrem, ds2check))\n",
    "    brainstates_all.append(df)\n",
    "\n",
    "brainstates_all = pd.concat(brainstates_all, ignore_index=True)\n",
    "    \n",
    "ev_method_olap"
   ]
  },
  {
   "cell_type": "code",
   "execution_count": 24,
   "metadata": {},
   "outputs": [
    {
     "data": {
      "text/plain": [
       "[3968.0762241389275,\n",
       " 4720.920136620709,\n",
       " 4387.885632098385,\n",
       " 5322.560396733756,\n",
       " 4702.551775632117,\n",
       " 5843.467963959454,\n",
       " 0,\n",
       " 171.39667454082155,\n",
       " 0,\n",
       " 0,\n",
       " 0,\n",
       " 0,\n",
       " 26.00055270933808]"
      ]
     },
     "execution_count": 24,
     "metadata": {},
     "output_type": "execute_result"
    }
   ],
   "source": [
    "fr_method_olap"
   ]
  },
  {
   "cell_type": "code",
   "execution_count": null,
   "metadata": {},
   "outputs": [],
   "source": [
    "brain"
   ]
  },
  {
   "cell_type": "code",
   "execution_count": null,
   "metadata": {},
   "outputs": [],
   "source": []
  },
  {
   "cell_type": "code",
   "execution_count": 29,
   "metadata": {},
   "outputs": [
    {
     "name": "stdout",
     "output_type": "stream",
     "text": [
      "RatKDay1: 0\n",
      "RatNDay1: 58.00106209599143\n",
      "RatSDay3: 0\n",
      "RatUDay1: 0\n",
      "RatUDay4: 0\n",
      "RatVDay2: 0\n",
      "RatRDay2: 26.000552709338365\n"
     ]
    }
   ],
   "source": [
    "sd2_df = brainstates_all[(brainstates_all.grp == \"SD\") & (brainstates_all.start > 2.5) & (brainstates_all.stop < 5)]\n",
    "nrem_amt = []\n",
    "for name in sd2_df.name.unique():\n",
    "    rat_df = sd2_df[sd2_df.name == name]\n",
    "    rat_epochs = Epoch(rat_df)\n",
    "    if \"NREM\" in rat_epochs.durations_by_label().keys():\n",
    "        nrem_amt.append(rat_epochs.durations_by_label()[\"NREM\"]*60)\n",
    "    else:\n",
    "        nrem_amt.append(0)\n",
    "    print(f\"{name}: {nrem_amt[-1]*60}\")"
   ]
  },
  {
   "cell_type": "code",
   "execution_count": 31,
   "metadata": {},
   "outputs": [
    {
     "name": "stdout",
     "output_type": "stream",
     "text": [
      "RatKDay1: 151.0029258462673\n",
      "RatNDay1: 71.19999999999962\n",
      "RatSDay3: 0\n",
      "RatUDay1: 46.00092328690373\n",
      "RatUDay4: 0\n",
      "RatVDay2: 95.00193822173557\n",
      "RatRDay2: 0\n"
     ]
    }
   ],
   "source": [
    "brainstates_all_old = subjects.GroupData().ev_brainstates\n",
    "sd2_df = brainstates_all_old[(brainstates_all_old.grp == \"SD\") & (brainstates_all_old.start > 2.5) & (brainstates_all_old.stop < 5)]\n",
    "nrem_amt = []\n",
    "for name in sd2_df.name.unique():\n",
    "    rat_df = sd2_df[sd2_df.name == name]\n",
    "    rat_epochs = Epoch(rat_df)\n",
    "    if \"NREM\" in rat_epochs.durations_by_label().keys():\n",
    "        nrem_amt.append(rat_epochs.durations_by_label()[\"NREM\"]*60)\n",
    "    else:\n",
    "        nrem_amt.append(0)\n",
    "    print(f\"{name}: {nrem_amt[-1]*60}\")\n"
   ]
  },
  {
   "attachments": {},
   "cell_type": "markdown",
   "metadata": {
    "jp-MarkdownHeadingCollapsed": true
   },
   "source": [
    "### Implement IRASA"
   ]
  },
  {
   "cell_type": "code",
   "execution_count": null,
   "metadata": {},
   "outputs": [],
   "source": [
    "import numpy as np\n",
    "import scipy.signal as sg\n",
    "import subjects\n",
    "import fractions\n",
    "from scipy import stats\n",
    "from fooof import FOOOF, FOOOFGroup\n",
    "\n",
    "sess = subjects.nsd.ratUday2[0]\n",
    "maze = sess.paradigm[\"maze\"].flatten()\n",
    "post = sess.paradigm[\"post\"].flatten()\n",
    "# period = [maze[0], maze[1]]\n",
    "period = [post[0] + 3600, post[0] + 2 * 3600]\n",
    "# period = [0,sess.eegfile.duration]\n",
    "data = sess.eegfile.get_signal(150, *period).traces[0]\n",
    "# data = sess.eegfile.get_signal(150).traces[0]\n",
    "\n",
    "welch_kw = dict(nperseg=4 * 1250, noverlap=625)\n",
    "freqs, psd = sg.welch(data, fs=1250, **welch_kw)\n",
    "# f, t, spect = sg.spectrogram(data, fs=1250, nperseg=2*1250, noverlap=625)\n",
    "\n",
    "# Start the IRASA procedure\n",
    "hset = np.arange(1.1, 2.9, 0.05).round(4)\n",
    "hset = np.delete(hset, 18)\n",
    "psds = np.zeros((len(hset), *psd.shape))\n",
    "\n",
    "fm = FOOOF()\n",
    "freq_range = [4, 90]\n",
    "\n",
    "# fm.report(freqs,psd,freq_range)\n",
    "fm.report(freqs, psd, freq_range)\n",
    "# fm.plot()\n",
    "# fm.power_spectrum\n",
    "\n",
    "# for i, h in enumerate(hset):\n",
    "#     # Get the upsampling/downsampling (h, 1/h) factors as integer\n",
    "#     rat = fractions.Fraction(str(h))\n",
    "#     up, down = rat.numerator, rat.denominator\n",
    "#     # Much faster than FFT-based resampling\n",
    "#     spect_up = sg.resample_poly(spect, up, down, axis=0)\n",
    "#     spect_down = sg.resample_poly(spect, down, up, axis=0)\n",
    "#     psds[i, :] =np.dstack([spect_up,spect_down]).mean(axis=-1)\n",
    "\n",
    "# for i, h in enumerate(hset):\n",
    "#     # Get the upsampling/downsampling (h, 1/h) factors as integer\n",
    "#     rat = fractions.Fraction(str(h))\n",
    "#     up, down = rat.numerator, rat.denominator\n",
    "#     # Much faster than FFT-based resampling\n",
    "#     data_up = sg.resample_poly(data, up, down, axis=-1)\n",
    "#     data_down = sg.resample_poly(data, down, up, axis=-1)\n",
    "#     # Calculate the PSD using same params as original\n",
    "#     freqs_up, psd_up = sg.welch(data_up, h * 1250, **welch_kw)\n",
    "#     freqs_dw, psd_dw = sg.welch(data_down, 1250 / h, **welch_kw)\n",
    "#     # Geometric mean of h and 1/h\n",
    "#     # psds[i, :] = np.vstack((psd_up, psd_dw)).mean(axis=0)\n",
    "#     psds[i, :] = np.sqrt(psd_up * psd_dw)\n",
    "\n",
    "\n",
    "# Now we take the median PSD of all the resampling factors, which gives\n",
    "# a good estimate of the aperiodic component of the PSD.\n",
    "# psd_aperiodic = np.median(psds, axis=0)\n",
    "# print(psd_aperiodic.shape,psd_aperiodic[:2])\n",
    "\n",
    "# # We can now calculate the oscillations (= periodic) component.\n",
    "# psd_osc = psd - psd_aperiodic\n",
    "\n",
    "# # Let's crop to the frequencies defined in band\n",
    "# mask_freqs = np.ma.masked_outside(freqs, *band).mask\n",
    "# freqs = freqs[~mask_freqs]\n",
    "# psd_aperiodic = np.compress(~mask_freqs, psd_aperiodic, axis=-1)\n",
    "# psd_osc = np.compress(~mask_freqs, psd_osc, axis=-1)"
   ]
  },
  {
   "cell_type": "code",
   "execution_count": null,
   "metadata": {},
   "outputs": [],
   "source": [
    "import matplotlib.pyplot as plt\n",
    "\n",
    "indices = (freqs >= 4) & (freqs <= 90)\n",
    "p = psd[indices]\n",
    "plt.plot(freqs[indices], np.log10(p))\n",
    "plt.plot(freqs[(freqs >= 4) & (freqs <= 90)], fm._ap_fit)\n",
    "# plt.yscale('log')"
   ]
  },
  {
   "cell_type": "code",
   "execution_count": null,
   "metadata": {},
   "outputs": [],
   "source": [
    "import matplotlib.pyplot as plt\n",
    "from neuropy.utils.mathutil import min_max_scaler\n",
    "\n",
    "f, t, spect = sg.spectrogram(data, fs=1250, **welch_kw)\n",
    "ind = (f >= 4) & (f <= 90)\n",
    "spect = np.log10(spect[ind, :])\n",
    "# spect_osc = spect- fm._ap_fit[:,np.newaxis]\n",
    "# spect_osc[spect_osc<0]=0\n",
    "\n",
    "# req_ind = (f>1)&(f<30)\n",
    "# # delta_ind = (f>0.5)&(f<4)\n",
    "# theta_ind = (f>5)&(f<10)\n",
    "# # delta_sxx = spect_osc[delta_ind,:].mean(axis=0)\n",
    "# theta_sxx = spect_osc[theta_ind,:].mean(axis=0)\n",
    "\n",
    "_, axs = plt.subplots(5, 1, sharex=True)\n",
    "\n",
    "axs[0].imshow(\n",
    "    spect, origin=\"lower\", aspect=\"auto\", cmap=\"jet\", extent=[t[0], t[-1], 4, 90]\n",
    ")\n",
    "# axs[1].imshow(spect[req_ind,:],origin='lower',aspect='auto',vmax=25000,cmap='jet',extent=[t[0],t[-1],1,30])\n",
    "\n",
    "# axs[2].plot(t,theta_sxx)\n",
    "# axs[3].plot(t,delta_sxx)\n",
    "# axs[4].plot(t,theta_sxx/delta_sxx)"
   ]
  },
  {
   "cell_type": "code",
   "execution_count": null,
   "metadata": {},
   "outputs": [],
   "source": [
    "%matplotlib widget\n",
    "import matplotlib.pyplot as plt\n",
    "\n",
    "plt.plot(freqs,psd_aperiodic)\n",
    "plt.plot(freqs,psd)\n",
    "plt.plot(freqs,psd-psd_aperiodic)\n",
    "plt.yscale('log')\n",
    "plt.xscale('log')"
   ]
  },
  {
   "attachments": {},
   "cell_type": "markdown",
   "metadata": {
    "jp-MarkdownHeadingCollapsed": true
   },
   "source": [
    "### Some measure of micro-arousal in sleep vs recovery sleep using emg only"
   ]
  },
  {
   "cell_type": "code",
   "execution_count": null,
   "metadata": {},
   "outputs": [],
   "source": [
    "import numpy as np\n",
    "from neuropy.analyses.brainstates import detect_brainstates_epochs\n",
    "from neuropy.core import Epoch\n",
    "from scipy.ndimage import gaussian_filter1d\n",
    "from neuropy.analyses.brainstates import correlation_emg\n",
    "from scipy import stats\n",
    "from neuropy.analyses.brainstates import hmmfit1d\n",
    "import matplotlib.pyplot as plt\n",
    "from neuropy.plotting import plot_hypnogram\n",
    "import subjects\n",
    "\n",
    "smooth = lambda arr: gaussian_filter1d(arr, sigma=2 / 1)\n",
    "\n",
    "sessions = subjects.nsd.ripple_sess[2:3] + subjects.sd.ripple_sess[2:3]"
   ]
  },
  {
   "cell_type": "code",
   "execution_count": null,
   "metadata": {},
   "outputs": [],
   "source": [
    "emg_all = []\n",
    "for sub, sess in enumerate(sessions):\n",
    "    pre = sess.paradigm[\"pre\"].flatten()\n",
    "    maze = sess.paradigm[\"maze\"].flatten()\n",
    "    post = sess.paradigm[\"post\"].flatten()\n",
    "    if sess.tag == \"NSD\":\n",
    "        period = [post[0], post[0] + 4 * 3600]\n",
    "    if sess.tag == \"SD\":\n",
    "        period = [post[0] + 5 * 3600, post[0] + 9 * 3600]\n",
    "\n",
    "    all_channels = np.concatenate(sess.probegroup.get_connected_channels()).astype(\"int\")\n",
    "    signal = sess.eegfile.get_signal(t_start=period[0], t_stop=period[1])\n",
    "    emg = correlation_emg(signal, sess.probegroup, 10, 9)\n",
    "    emg_all.append(smooth(emg))"
   ]
  },
  {
   "cell_type": "code",
   "execution_count": null,
   "metadata": {},
   "outputs": [],
   "source": [
    "from scipy.signal import find_peaks\n",
    "\n",
    "_, axs = plt.subplots(2, 1)\n",
    "\n",
    "for i, e in enumerate(emg_all):\n",
    "    peaks = find_peaks(e, prominence=0.3)[0]\n",
    "    axs[i].plot(e)\n",
    "    axs[i].plot(peaks, e[peaks], \"*\")"
   ]
  },
  {
   "attachments": {},
   "cell_type": "markdown",
   "metadata": {
    "jp-MarkdownHeadingCollapsed": true
   },
   "source": [
    "### Check transition boundaries\n",
    "- check reliability of sleepscoring by zooming in on transition boundaries"
   ]
  },
  {
   "cell_type": "code",
   "execution_count": null,
   "metadata": {},
   "outputs": [],
   "source": [
    "from neuropy.utils.signal_process import FourierSg, WaveletSg\n",
    "\n",
    "sess = subjects.nsd.ratNday2[0]\n",
    "states = sess.brainstates[\"QW\"]\n",
    "starts = states.starts\n",
    "stops = states.stops\n",
    "n_states = len(states)\n",
    "\n",
    "before, after = 40, 30\n",
    "start = starts[64]\n",
    "t1, t2 = start - before, start + after\n",
    "eeg = sess.eegfile.get_signal(116, t1, t2)\n",
    "eeg_time = np.linspace(-before, after, eeg.n_frames)\n",
    "spect = FourierSg(eeg, window=1, overlap=0.8, norm_sig=True).freq_slice(0, 30)\n",
    "wspect = WaveletSg(eeg, freqs=np.arange(0.25, 30, 0.25), ncycles=10)\n",
    "spect_thratio = spect.theta_delta_ratio\n",
    "wspect_thratio = wspect.theta_deltaplus_ratio"
   ]
  },
  {
   "cell_type": "code",
   "execution_count": null,
   "metadata": {},
   "outputs": [],
   "source": [
    "_, axs = plt.subplots(4, 1, sharex=True)\n",
    "\n",
    "axs[0].plot(eeg.time - start, eeg.traces[0])\n",
    "axs[0].axvline(0, color=\"k\")\n",
    "axs[1].pcolormesh(spect.time - start, spect.freqs, spect.traces, cmap=\"jet\")\n",
    "axs[2].pcolormesh(wspect.time - start, wspect.freqs, wspect.traces, cmap=\"jet\")\n",
    "# axs[3].plot(spect.time-start,spect_thratio)\n",
    "axs[3].plot(spect.time - start, spect.theta / spect.get_band_power(2, 28))"
   ]
  },
  {
   "attachments": {},
   "cell_type": "markdown",
   "metadata": {
    "jp-MarkdownHeadingCollapsed": true
   },
   "source": [
    "### Amount/proportion of different brainstates across zt epochs/blocks"
   ]
  },
  {
   "cell_type": "code",
   "execution_count": 3,
   "metadata": {},
   "outputs": [],
   "source": [
    "sessions = subjects.mua_sess()\n",
    "\n",
    "states_df = []\n",
    "for s, sess in enumerate(sessions):\n",
    "    epochs = sess.get_zt_epochs()\n",
    "\n",
    "    for e in epochs.itertuples():\n",
    "        e_states = sess.brainstates.time_slice(e.start, e.stop, strict=False)\n",
    "        e_durations_label = e_states.durations_by_label()\n",
    "        e_proportion_label = {k: v / e.duration for k, v in e_durations_label.items()}\n",
    "        e_df = pd.DataFrame(e_proportion_label, index=[0])\n",
    "        e_df[\"zt\"] = e.label\n",
    "        e_df[\"session\"] = s\n",
    "        e_df[\"name\"] = sess.animal.name + sess.animal.day\n",
    "        e_df[\"grp\"] = sess.tag\n",
    "        states_df.append(e_df)\n",
    "\n",
    "states_df = pd.concat(states_df, ignore_index=True)\n",
    "states_df.fillna(0, inplace=True)\n",
    "states_df = pd.melt(\n",
    "    states_df,\n",
    "    id_vars=[\"zt\", \"name\", \"session\", \"grp\"],\n",
    "    value_vars=[\"AW\", \"NOISE\", \"QW\", \"NREM\", \"REM\"],\n",
    "    var_name=\"state\",\n",
    "    value_name=\"prop\",\n",
    ")"
   ]
  },
  {
   "cell_type": "markdown",
   "metadata": {
    "jp-MarkdownHeadingCollapsed": true
   },
   "source": [
    "### Determine which NSD animal has almost no NREM during the 0-2.5hr block"
   ]
  },
  {
   "cell_type": "code",
   "execution_count": 7,
   "metadata": {},
   "outputs": [
    {
     "name": "stdout",
     "output_type": "stream",
     "text": [
      "zt            0-2.5\n",
      "name       RatKDay2\n",
      "session           1\n",
      "grp             NSD\n",
      "state          NREM\n",
      "prop       0.018334\n",
      "Name: 247, dtype: object\n"
     ]
    },
    {
     "data": {
      "text/html": [
       "<div>\n",
       "<style scoped>\n",
       "    .dataframe tbody tr th:only-of-type {\n",
       "        vertical-align: middle;\n",
       "    }\n",
       "\n",
       "    .dataframe tbody tr th {\n",
       "        vertical-align: top;\n",
       "    }\n",
       "\n",
       "    .dataframe thead th {\n",
       "        text-align: right;\n",
       "    }\n",
       "</style>\n",
       "<table border=\"1\" class=\"dataframe\">\n",
       "  <thead>\n",
       "    <tr style=\"text-align: right;\">\n",
       "      <th></th>\n",
       "      <th>zt</th>\n",
       "      <th>name</th>\n",
       "      <th>session</th>\n",
       "      <th>grp</th>\n",
       "      <th>state</th>\n",
       "      <th>prop</th>\n",
       "    </tr>\n",
       "  </thead>\n",
       "  <tbody>\n",
       "    <tr>\n",
       "      <th>7</th>\n",
       "      <td>0-2.5</td>\n",
       "      <td>RatKDay2</td>\n",
       "      <td>1</td>\n",
       "      <td>NSD</td>\n",
       "      <td>AW</td>\n",
       "      <td>0.259813</td>\n",
       "    </tr>\n",
       "    <tr>\n",
       "      <th>87</th>\n",
       "      <td>0-2.5</td>\n",
       "      <td>RatKDay2</td>\n",
       "      <td>1</td>\n",
       "      <td>NSD</td>\n",
       "      <td>NOISE</td>\n",
       "      <td>0.006889</td>\n",
       "    </tr>\n",
       "    <tr>\n",
       "      <th>167</th>\n",
       "      <td>0-2.5</td>\n",
       "      <td>RatKDay2</td>\n",
       "      <td>1</td>\n",
       "      <td>NSD</td>\n",
       "      <td>QW</td>\n",
       "      <td>0.689964</td>\n",
       "    </tr>\n",
       "    <tr>\n",
       "      <th>247</th>\n",
       "      <td>0-2.5</td>\n",
       "      <td>RatKDay2</td>\n",
       "      <td>1</td>\n",
       "      <td>NSD</td>\n",
       "      <td>NREM</td>\n",
       "      <td>0.018334</td>\n",
       "    </tr>\n",
       "    <tr>\n",
       "      <th>327</th>\n",
       "      <td>0-2.5</td>\n",
       "      <td>RatKDay2</td>\n",
       "      <td>1</td>\n",
       "      <td>NSD</td>\n",
       "      <td>REM</td>\n",
       "      <td>0.025000</td>\n",
       "    </tr>\n",
       "  </tbody>\n",
       "</table>\n",
       "</div>"
      ],
      "text/plain": [
       "        zt      name  session  grp  state      prop\n",
       "7    0-2.5  RatKDay2        1  NSD     AW  0.259813\n",
       "87   0-2.5  RatKDay2        1  NSD  NOISE  0.006889\n",
       "167  0-2.5  RatKDay2        1  NSD     QW  0.689964\n",
       "247  0-2.5  RatKDay2        1  NSD   NREM  0.018334\n",
       "327  0-2.5  RatKDay2        1  NSD    REM  0.025000"
      ]
     },
     "execution_count": 7,
     "metadata": {},
     "output_type": "execute_result"
    }
   ],
   "source": [
    "# Figure out which rat has almost no NREM during 0-2.5 block: RatKDay2\n",
    "print(states_df[(states_df.zt == \"0-2.5\") & (states_df.state == \"NREM\")].iloc[1, :])\n",
    "# Now print out all data for that rat\n",
    "states_df[(states_df.zt == \"0-2.5\") & (states_df.name == \"RatKDay2\")]"
   ]
  },
  {
   "cell_type": "markdown",
   "metadata": {
    "jp-MarkdownHeadingCollapsed": true
   },
   "source": [
    "### EDF2B: Plot state proportions\n",
    "Run \"Amount/proportion of different brainstates across zt epochs/blocks above\"\n",
    "- need access to raw data, contact authors"
   ]
  },
  {
   "cell_type": "code",
   "execution_count": 4,
   "metadata": {},
   "outputs": [
    {
     "data": {
      "image/png": "[encoded data removed]",
      "text/plain": [
       "<Figure size 850x1100 with 4 Axes>"
      ]
     },
     "metadata": {},
     "output_type": "display_data"
    }
   ],
   "source": [
    "import plotters\n",
    "\n",
    "fig = subjects.SdFig().fig_supp()\n",
    "\n",
    "for i, state in enumerate([\"NREM\", \"REM\", \"AW\", \"QW\"]):\n",
    "    ax = fig.subplot(fig.gs[i])\n",
    "    df = states_df[(states_df.state == state)]\n",
    "    p1 = plotters.Plotter(data=df, x=\"zt\", y=\"prop\", hue=\"grp\")\n",
    "    p1.stripbarlineplot_sd(palette=subjects.colors_sd())\n",
    "    ax.set_ylim(0, 1)\n",
    "\n",
    "    if i > 0:\n",
    "        ax.set_yticklabels([])\n",
    "        ax.set_ylabel(\"\")\n",
    "\n",
    "fig.savefig(subjects.figpath_sd / \"state_prop\", format=\"svg\")"
   ]
  },
  {
   "cell_type": "markdown",
   "metadata": {},
   "source": [
    "Run stats on QW and AW from SD1 to SD2"
   ]
  },
  {
   "cell_type": "code",
   "execution_count": 8,
   "metadata": {},
   "outputs": [
    {
     "data": {
      "text/html": [
       "<div>\n",
       "<style scoped>\n",
       "    .dataframe tbody tr th:only-of-type {\n",
       "        vertical-align: middle;\n",
       "    }\n",
       "\n",
       "    .dataframe tbody tr th {\n",
       "        vertical-align: top;\n",
       "    }\n",
       "\n",
       "    .dataframe thead th {\n",
       "        text-align: right;\n",
       "    }\n",
       "</style>\n",
       "<table border=\"1\" class=\"dataframe\">\n",
       "  <thead>\n",
       "    <tr style=\"text-align: right;\">\n",
       "      <th></th>\n",
       "      <th>zt</th>\n",
       "      <th>name</th>\n",
       "      <th>session</th>\n",
       "      <th>grp</th>\n",
       "      <th>state</th>\n",
       "      <th>prop</th>\n",
       "    </tr>\n",
       "  </thead>\n",
       "  <tbody>\n",
       "    <tr>\n",
       "      <th>0</th>\n",
       "      <td>PRE</td>\n",
       "      <td>RatJDay2</td>\n",
       "      <td>0</td>\n",
       "      <td>NSD</td>\n",
       "      <td>AW</td>\n",
       "      <td>0.431430</td>\n",
       "    </tr>\n",
       "    <tr>\n",
       "      <th>1</th>\n",
       "      <td>MAZE</td>\n",
       "      <td>RatJDay2</td>\n",
       "      <td>0</td>\n",
       "      <td>NSD</td>\n",
       "      <td>AW</td>\n",
       "      <td>0.851820</td>\n",
       "    </tr>\n",
       "    <tr>\n",
       "      <th>2</th>\n",
       "      <td>0-2.5</td>\n",
       "      <td>RatJDay2</td>\n",
       "      <td>0</td>\n",
       "      <td>NSD</td>\n",
       "      <td>AW</td>\n",
       "      <td>0.177225</td>\n",
       "    </tr>\n",
       "    <tr>\n",
       "      <th>3</th>\n",
       "      <td>2.5-5</td>\n",
       "      <td>RatJDay2</td>\n",
       "      <td>0</td>\n",
       "      <td>NSD</td>\n",
       "      <td>AW</td>\n",
       "      <td>0.013778</td>\n",
       "    </tr>\n",
       "    <tr>\n",
       "      <th>4</th>\n",
       "      <td>5-7.5</td>\n",
       "      <td>RatJDay2</td>\n",
       "      <td>0</td>\n",
       "      <td>NSD</td>\n",
       "      <td>AW</td>\n",
       "      <td>0.138225</td>\n",
       "    </tr>\n",
       "    <tr>\n",
       "      <th>...</th>\n",
       "      <td>...</td>\n",
       "      <td>...</td>\n",
       "      <td>...</td>\n",
       "      <td>...</td>\n",
       "      <td>...</td>\n",
       "      <td>...</td>\n",
       "    </tr>\n",
       "    <tr>\n",
       "      <th>395</th>\n",
       "      <td>PRE</td>\n",
       "      <td>RatVDay2</td>\n",
       "      <td>15</td>\n",
       "      <td>SD</td>\n",
       "      <td>REM</td>\n",
       "      <td>0.035445</td>\n",
       "    </tr>\n",
       "    <tr>\n",
       "      <th>396</th>\n",
       "      <td>MAZE</td>\n",
       "      <td>RatVDay2</td>\n",
       "      <td>15</td>\n",
       "      <td>SD</td>\n",
       "      <td>REM</td>\n",
       "      <td>0.000000</td>\n",
       "    </tr>\n",
       "    <tr>\n",
       "      <th>397</th>\n",
       "      <td>0-2.5</td>\n",
       "      <td>RatVDay2</td>\n",
       "      <td>15</td>\n",
       "      <td>SD</td>\n",
       "      <td>REM</td>\n",
       "      <td>0.000000</td>\n",
       "    </tr>\n",
       "    <tr>\n",
       "      <th>398</th>\n",
       "      <td>2.5-5</td>\n",
       "      <td>RatVDay2</td>\n",
       "      <td>15</td>\n",
       "      <td>SD</td>\n",
       "      <td>REM</td>\n",
       "      <td>0.000000</td>\n",
       "    </tr>\n",
       "    <tr>\n",
       "      <th>399</th>\n",
       "      <td>5-7.5</td>\n",
       "      <td>RatVDay2</td>\n",
       "      <td>15</td>\n",
       "      <td>SD</td>\n",
       "      <td>REM</td>\n",
       "      <td>0.199004</td>\n",
       "    </tr>\n",
       "  </tbody>\n",
       "</table>\n",
       "<p>400 rows × 6 columns</p>\n",
       "</div>"
      ],
      "text/plain": [
       "        zt      name  session  grp state      prop\n",
       "0      PRE  RatJDay2        0  NSD    AW  0.431430\n",
       "1     MAZE  RatJDay2        0  NSD    AW  0.851820\n",
       "2    0-2.5  RatJDay2        0  NSD    AW  0.177225\n",
       "3    2.5-5  RatJDay2        0  NSD    AW  0.013778\n",
       "4    5-7.5  RatJDay2        0  NSD    AW  0.138225\n",
       "..     ...       ...      ...  ...   ...       ...\n",
       "395    PRE  RatVDay2       15   SD   REM  0.035445\n",
       "396   MAZE  RatVDay2       15   SD   REM  0.000000\n",
       "397  0-2.5  RatVDay2       15   SD   REM  0.000000\n",
       "398  2.5-5  RatVDay2       15   SD   REM  0.000000\n",
       "399  5-7.5  RatVDay2       15   SD   REM  0.199004\n",
       "\n",
       "[400 rows x 6 columns]"
      ]
     },
     "execution_count": 8,
     "metadata": {},
     "output_type": "execute_result"
    }
   ],
   "source": [
    "states_df"
   ]
  },
  {
   "cell_type": "code",
   "execution_count": 10,
   "metadata": {},
   "outputs": [
    {
     "data": {
      "text/html": [
       "<div>\n",
       "<style scoped>\n",
       "    .dataframe tbody tr th:only-of-type {\n",
       "        vertical-align: middle;\n",
       "    }\n",
       "\n",
       "    .dataframe tbody tr th {\n",
       "        vertical-align: top;\n",
       "    }\n",
       "\n",
       "    .dataframe thead th {\n",
       "        text-align: right;\n",
       "    }\n",
       "</style>\n",
       "<table border=\"1\" class=\"dataframe\">\n",
       "  <thead>\n",
       "    <tr style=\"text-align: right;\">\n",
       "      <th></th>\n",
       "      <th>zt</th>\n",
       "      <th>name</th>\n",
       "      <th>session</th>\n",
       "      <th>grp</th>\n",
       "      <th>state</th>\n",
       "      <th>prop</th>\n",
       "    </tr>\n",
       "  </thead>\n",
       "  <tbody>\n",
       "    <tr>\n",
       "      <th>202</th>\n",
       "      <td>0-2.5</td>\n",
       "      <td>RatJDay1</td>\n",
       "      <td>8</td>\n",
       "      <td>SD</td>\n",
       "      <td>QW</td>\n",
       "      <td>0.419182</td>\n",
       "    </tr>\n",
       "    <tr>\n",
       "      <th>207</th>\n",
       "      <td>0-2.5</td>\n",
       "      <td>RatKDay1</td>\n",
       "      <td>9</td>\n",
       "      <td>SD</td>\n",
       "      <td>QW</td>\n",
       "      <td>0.837408</td>\n",
       "    </tr>\n",
       "    <tr>\n",
       "      <th>212</th>\n",
       "      <td>0-2.5</td>\n",
       "      <td>RatNDay1</td>\n",
       "      <td>10</td>\n",
       "      <td>SD</td>\n",
       "      <td>QW</td>\n",
       "      <td>0.613962</td>\n",
       "    </tr>\n",
       "    <tr>\n",
       "      <th>217</th>\n",
       "      <td>0-2.5</td>\n",
       "      <td>RatSDay3</td>\n",
       "      <td>11</td>\n",
       "      <td>SD</td>\n",
       "      <td>QW</td>\n",
       "      <td>0.925999</td>\n",
       "    </tr>\n",
       "    <tr>\n",
       "      <th>222</th>\n",
       "      <td>0-2.5</td>\n",
       "      <td>RatRDay2</td>\n",
       "      <td>12</td>\n",
       "      <td>SD</td>\n",
       "      <td>QW</td>\n",
       "      <td>0.566901</td>\n",
       "    </tr>\n",
       "    <tr>\n",
       "      <th>227</th>\n",
       "      <td>0-2.5</td>\n",
       "      <td>RatUDay1</td>\n",
       "      <td>13</td>\n",
       "      <td>SD</td>\n",
       "      <td>QW</td>\n",
       "      <td>0.839522</td>\n",
       "    </tr>\n",
       "    <tr>\n",
       "      <th>232</th>\n",
       "      <td>0-2.5</td>\n",
       "      <td>RatUDay4</td>\n",
       "      <td>14</td>\n",
       "      <td>SD</td>\n",
       "      <td>QW</td>\n",
       "      <td>0.781329</td>\n",
       "    </tr>\n",
       "    <tr>\n",
       "      <th>237</th>\n",
       "      <td>0-2.5</td>\n",
       "      <td>RatVDay2</td>\n",
       "      <td>15</td>\n",
       "      <td>SD</td>\n",
       "      <td>QW</td>\n",
       "      <td>0.807107</td>\n",
       "    </tr>\n",
       "  </tbody>\n",
       "</table>\n",
       "</div>"
      ],
      "text/plain": [
       "        zt      name  session grp state      prop\n",
       "202  0-2.5  RatJDay1        8  SD    QW  0.419182\n",
       "207  0-2.5  RatKDay1        9  SD    QW  0.837408\n",
       "212  0-2.5  RatNDay1       10  SD    QW  0.613962\n",
       "217  0-2.5  RatSDay3       11  SD    QW  0.925999\n",
       "222  0-2.5  RatRDay2       12  SD    QW  0.566901\n",
       "227  0-2.5  RatUDay1       13  SD    QW  0.839522\n",
       "232  0-2.5  RatUDay4       14  SD    QW  0.781329\n",
       "237  0-2.5  RatVDay2       15  SD    QW  0.807107"
      ]
     },
     "execution_count": 10,
     "metadata": {},
     "output_type": "execute_result"
    }
   ],
   "source": [
    "from scipy.stats import ttest_rel\n",
    "sd_states = states_df[states_df.grp == \"SD\"]\n",
    "sd_states[(sd_states.state == \"QW\") & (sd_states.zt == \"0-2.5\")]"
   ]
  },
  {
   "cell_type": "code",
   "execution_count": 14,
   "metadata": {},
   "outputs": [
    {
     "name": "stdout",
     "output_type": "stream",
     "text": [
      "AW: p=0.7692616324314748, stat=0.3049635884785373, df=7\n",
      "QW: p=0.9583597860099203, stat=-0.054109558001711286, df=7\n"
     ]
    }
   ],
   "source": [
    "from scipy.stats import ttest_rel\n",
    "sd_states = states_df[states_df.grp == \"SD\"]\n",
    "for state in [\"AW\", \"QW\"]:\n",
    "    res= ttest_rel(sd_states[(sd_states.state == state) & (sd_states.zt == \"0-2.5\")].prop,\n",
    "                       sd_states[(sd_states.state == state) & (sd_states.zt == \"2.5-5\")].prop)\n",
    "    print(f\"{state}: p={res.pvalue}, stat={res.statistic}, df={res.df}\")"
   ]
  },
  {
   "cell_type": "code",
   "execution_count": null,
   "metadata": {},
   "outputs": [],
   "source": [
    "fig = plotting.Fig(4, 5)\n",
    "states = [\"AW\", \"QW\", \"NREM\", \"REM\"]\n",
    "colors = [\"#2f2d2d\", \"#8c8c8c\", \"#3368db\", \"#33dbae\"]\n",
    "zts = states_df.zt.unique()\n",
    "for i, zt in enumerate(zts):\n",
    "    df = states_df[states_df.zt == zt]\n",
    "    names = df.name.values\n",
    "    state_prop = df.loc[:, [\"AW\", \"QW\", \"REM\", \"NREM\"]]\n",
    "    ax = fig.subplot(fig.gs[i])\n",
    "    ax.set_xlabel(zt)\n",
    "\n",
    "    left = np.zeros(len(names))\n",
    "    for s, state in enumerate(states):\n",
    "        y = state_prop[state].values\n",
    "        ax.barh(names, y, left=left, color=colors[s])\n",
    "        left = y + left"
   ]
  },
  {
   "attachments": {},
   "cell_type": "markdown",
   "metadata": {
    "jp-MarkdownHeadingCollapsed": true
   },
   "source": [
    "### Visualize conctenated active waking epochs"
   ]
  },
  {
   "cell_type": "code",
   "execution_count": null,
   "metadata": {},
   "outputs": [],
   "source": [
    "from neuropy.utils.signal_process import FourierSg, WaveletSg\n",
    "from neuropy.core import Signal\n",
    "\n",
    "sess = subjects.nsd.ratUday2[0]\n",
    "# states = sess.brainstates[\"QW\"] + sess.brainstates[\"AW\"] + sess.brainstates[\"REM\"]\n",
    "eeg = []\n",
    "for state_name in [\"QW\", \"AW\", \"REM\"]:\n",
    "    states = sess.brainstates[state_name]\n",
    "    eeg.append(sess.eegfile.get_frames_within_epochs(states, 58))\n",
    "\n",
    "eeg = Signal(traces=np.hstack(eeg), sampling_rate=1250)\n",
    "spect = FourierSg(eeg, window=2, overlap=0.8, norm_sig=True).freq_slice(0, 30)\n",
    "# wspect = WaveletSg(eeg, freqs=np.arange(0.25, 30, 0.25), ncycles=10)\n",
    "# spect_thratio = spect.theta_delta_ratio\n",
    "# wspect_thratio = wspect.theta_deltaplus_ratio"
   ]
  },
  {
   "cell_type": "code",
   "execution_count": null,
   "metadata": {},
   "outputs": [],
   "source": [
    "_, ax = plt.subplots()\n",
    "\n",
    "ax.pcolormesh(spect.time, spect.freqs, spect.traces, vmax=0.6, cmap=\"binary\")"
   ]
  },
  {
   "attachments": {},
   "cell_type": "markdown",
   "metadata": {
    "jp-MarkdownHeadingCollapsed": true
   },
   "source": [
    "### Amount/proportion NREM across zt epochs/blocks"
   ]
  },
  {
   "cell_type": "code",
   "execution_count": null,
   "metadata": {
    "tags": [
     "sd_paper"
    ]
   },
   "outputs": [],
   "source": [
    "sessions = subjects.pf_sess()\n",
    "\n",
    "nrem_df = []\n",
    "for s, sess in enumerate(sessions):\n",
    "    post = sess.paradigm[\"post\"].flatten()\n",
    "    nrem = sess.brainstates[\"NREM\"]\n",
    "\n",
    "    zt_starts = np.arange(post[0], post[0] + 7.35 * 3600, 300)\n",
    "    zt_stops = zt_starts + 900\n",
    "    zt_labels = np.arange(len(zt_starts)).astype(\"str\")\n",
    "    zt_epochs = sess.paradigm.from_array(zt_starts, zt_stops, zt_labels)\n",
    "\n",
    "    for e in zt_epochs.itertuples():\n",
    "        e_duration = nrem.time_slice(e.start, e.stop, strict=False).durations.sum()\n",
    "        e_df = pd.DataFrame({\"duration\": e_duration}, index=[0])\n",
    "        e_df[\"zt\"] = e.label\n",
    "        e_df[\"session\"] = s\n",
    "        e_df[\"name\"] = sess.animal.name + sess.animal.day\n",
    "        e_df[\"grp\"] = sess.tag\n",
    "        nrem_df.append(e_df)\n",
    "\n",
    "nrem_df = pd.concat(nrem_df, ignore_index=True)\n",
    "subjects.GroupData().save(nrem_df, \"nrem_duration_NREM\")"
   ]
  },
  {
   "cell_type": "code",
   "execution_count": null,
   "metadata": {},
   "outputs": [],
   "source": [
    "fig = plotting.Fig(8, 5)\n",
    "\n",
    "ax = fig.subplot(fig.gs[0])\n",
    "\n",
    "# for g, grp in enumerate([\"NSD\", \"SD\"]):\n",
    "mean_duration = nrem_df.groupby([\"grp\", \"zt\"]).mean(numeric_only=True).reset_index()\n",
    "mean_duration[\"zt\"] = mean_duration[\"zt\"].astype(\"float\") * (5 / 60)\n",
    "mean_duration[\"duration\"] = mean_duration[\"duration\"] / (900)\n",
    "\n",
    "sns.lineplot(data=mean_duration, x=\"zt\", y=\"duration\", hue=\"grp\")\n",
    "ax.legend(\"\", frameon=False)\n",
    "ax.set_ylim(0, 1)"
   ]
  },
  {
   "attachments": {},
   "cell_type": "markdown",
   "metadata": {
    "jp-MarkdownHeadingCollapsed": true
   },
   "source": [
    "### Amount/proportion NREM across zt epochs/blocks aligned by NREM"
   ]
  },
  {
   "cell_type": "code",
   "execution_count": null,
   "metadata": {},
   "outputs": [],
   "source": [
    "sessions = subjects.pf_sess()\n",
    "\n",
    "nrem_df = []\n",
    "for s, sess in enumerate(sessions):\n",
    "    post = sess.paradigm[\"post\"].flatten()\n",
    "    nrem = sess.brainstates[\"NREM\"]\n",
    "    good_nrem = (\n",
    "        sess.brainstates.label_slice([\"NREM\"])\n",
    "        .time_slice(*post, strict=False)\n",
    "        .duration_slice(min_dur=120)\n",
    "    )\n",
    "    nrem_onset = good_nrem[0].flatten()[0]\n",
    "    # if sess.tag == \"SD\":\n",
    "    # nrem_onset = post[0] + 5 * 3600\n",
    "    print(sess.tag, sess.sub_name, (nrem_onset - post[0]) / 3600)\n",
    "\n",
    "    zt_starts = np.arange(nrem_onset, post[0] + 7.35 * 3600, 300)\n",
    "    zt_stops = zt_starts + 900\n",
    "    zt_labels = np.arange(len(zt_starts)).astype(\"str\")\n",
    "    zt_epochs = sess.paradigm.from_array(zt_starts, zt_stops, zt_labels)\n",
    "\n",
    "    for e in zt_epochs.itertuples():\n",
    "        e_duration = nrem.time_slice(e.start, e.stop, strict=False).durations.sum()\n",
    "        e_df = pd.DataFrame({\"duration\": e_duration}, index=[0])\n",
    "        e_df[\"zt\"] = e.label\n",
    "        e_df[\"session\"] = s\n",
    "        e_df[\"name\"] = sess.animal.name + sess.animal.day\n",
    "        e_df[\"grp\"] = sess.tag\n",
    "        nrem_df.append(e_df)\n",
    "\n",
    "nrem_df = pd.concat(nrem_df, ignore_index=True)\n",
    "subjects.GroupData().save(nrem_df, \"nrem_duration_aligned_by_nrem_onset\")"
   ]
  },
  {
   "cell_type": "code",
   "execution_count": null,
   "metadata": {},
   "outputs": [],
   "source": [
    "fig = plotting.Fig(8, 5)\n",
    "\n",
    "ax = fig.subplot(fig.gs[0])\n",
    "\n",
    "# for g, grp in enumerate([\"NSD\", \"SD\"]):\n",
    "mean_duration = nrem_df.groupby([\"grp\", \"zt\"]).mean(numeric_only=True).reset_index()\n",
    "mean_duration[\"zt\"] = mean_duration[\"zt\"].astype(\"float\") * (5 / 60)\n",
    "mean_duration[\"duration\"] = mean_duration[\"duration\"] / (900)\n",
    "\n",
    "sns.lineplot(data=mean_duration, x=\"zt\", y=\"duration\", hue=\"grp\")\n",
    "ax.legend(\"\", frameon=False)\n",
    "ax.set_ylim(0, 1)"
   ]
  },
  {
   "attachments": {},
   "cell_type": "markdown",
   "metadata": {
    "jp-MarkdownHeadingCollapsed": true
   },
   "source": [
    "### Amount/proportion WAKE across zt epochs/blocks aligned by light cycle"
   ]
  },
  {
   "cell_type": "code",
   "execution_count": null,
   "metadata": {},
   "outputs": [],
   "source": [
    "sessions = subjects.pf_sess()\n",
    "\n",
    "wake_df = []\n",
    "for s, sess in enumerate(sessions):\n",
    "    post = sess.paradigm[\"post\"].flatten()\n",
    "    wake = sess.brainstates.label_slice([\"AW\", \"QW\"]).set_labels(\"WK\").merge_neighbors()\n",
    "\n",
    "    zt_starts = np.arange(post[0], post[0] + 7.35 * 3600, 300)\n",
    "    zt_stops = zt_starts + 900\n",
    "    zt_labels = np.arange(len(zt_starts)).astype(\"str\")\n",
    "    zt_epochs = sess.paradigm.from_array(zt_starts, zt_stops, zt_labels)\n",
    "\n",
    "    for e in zt_epochs.itertuples():\n",
    "        e_duration = wake.time_slice(e.start, e.stop, strict=False).durations.sum()\n",
    "        e_df = pd.DataFrame({\"duration\": e_duration}, index=[0])\n",
    "        e_df[\"zt\"] = e.label\n",
    "        e_df[\"session\"] = s\n",
    "        e_df[\"name\"] = sess.animal.name + sess.animal.day\n",
    "        e_df[\"grp\"] = sess.tag\n",
    "        wake_df.append(e_df)\n",
    "\n",
    "wake_df = pd.concat(wake_df, ignore_index=True)\n",
    "subjects.GroupData().save(wake_df, \"wake_duration_aligned_by_WAKE\")"
   ]
  },
  {
   "cell_type": "code",
   "execution_count": null,
   "metadata": {},
   "outputs": [],
   "source": [
    "mean_duration"
   ]
  },
  {
   "cell_type": "code",
   "execution_count": null,
   "metadata": {},
   "outputs": [],
   "source": [
    "fig = plotting.Fig(8, 5)\n",
    "\n",
    "ax = fig.subplot(fig.gs[0])\n",
    "\n",
    "# for g, grp in enumerate([\"NSD\", \"SD\"]):\n",
    "mean_duration = wake_df.groupby([\"grp\", \"zt\"]).mean(numeric_only=True).reset_index()\n",
    "mean_duration[\"zt\"] = mean_duration[\"zt\"].astype(\"float\") * (5 / 60)\n",
    "mean_duration[\"duration\"] = mean_duration[\"duration\"] / (900)\n",
    "\n",
    "sns.lineplot(data=mean_duration, x=\"zt\", y=\"duration\", hue=\"grp\", drawstyle=\"steps-mid\")\n",
    "ax.legend(\"\", frameon=False)\n",
    "ax.set_ylim(0, 1)"
   ]
  },
  {
   "attachments": {},
   "cell_type": "markdown",
   "metadata": {
    "jp-MarkdownHeadingCollapsed": true
   },
   "source": [
    "### Comparing bout duration of NREM and REM between NSD and SD"
   ]
  },
  {
   "cell_type": "code",
   "execution_count": null,
   "metadata": {},
   "outputs": [],
   "source": [
    "sessions = subjects.ripple_sess()\n",
    "\n",
    "states_duration_df = []\n",
    "for s, sess in enumerate(sessions):\n",
    "    zt_epochs = sess.get_zt_epochs()[2:]\n",
    "    states = sess.brainstates.label_slice([\"NREM\", \"REM\"])\n",
    "\n",
    "    for e in zt_epochs.itertuples():\n",
    "        indx = (states.starts >= e.start) & (states.starts <= e.stop)\n",
    "        e_states = states[indx]\n",
    "\n",
    "        df = pd.DataFrame(\n",
    "            dict(\n",
    "                duration=e_states.durations,\n",
    "                brainstate=e_states.labels,\n",
    "                zt=e.label,\n",
    "                session=s,\n",
    "                grp=sess.tag,\n",
    "            )\n",
    "        )\n",
    "\n",
    "        states_duration_df.append(df)\n",
    "\n",
    "states_duration_df = pd.concat(states_duration_df, ignore_index=True)"
   ]
  },
  {
   "cell_type": "code",
   "execution_count": null,
   "metadata": {},
   "outputs": [],
   "source": [
    "_, axs = plt.subplots(1, 2)\n",
    "\n",
    "for i, state in enumerate([\"NREM\", \"REM\"]):\n",
    "    df = states_duration_df[states_duration_df.brainstate == state]\n",
    "    sns.stripplot(\n",
    "        data=df,\n",
    "        x=\"zt\",\n",
    "        y=\"duration\",\n",
    "        hue=\"grp\",\n",
    "        hue_order=[\"NSD\", \"SD\"],\n",
    "        ax=axs[i],\n",
    "        dodge=True,\n",
    "    )"
   ]
  },
  {
   "attachments": {},
   "cell_type": "markdown",
   "metadata": {
    "jp-MarkdownHeadingCollapsed": true
   },
   "source": [
    "### Comparing total duration of NREM and REM between NSD and SD"
   ]
  },
  {
   "cell_type": "code",
   "execution_count": null,
   "metadata": {},
   "outputs": [],
   "source": [
    "sessions = subjects.ripple_sess()\n",
    "\n",
    "states_duration_df = []\n",
    "for s, sess in enumerate(sessions):\n",
    "    zt_epochs = sess.get_zt_epochs()[2:]\n",
    "    states = sess.brainstates.label_slice([\"NREM\", \"REM\"])\n",
    "\n",
    "    for e in zt_epochs.itertuples():\n",
    "        e_states = states.time_slice(e.start, e.stop, strict=False)\n",
    "        df = pd.DataFrame(\n",
    "            dict(\n",
    "                nrem_duration=[e_states[\"NREM\"].durations.sum()],\n",
    "                rem_duration=[e_states[\"REM\"].durations.sum()],\n",
    "                zt=e.label,\n",
    "                session=s,\n",
    "                grp=sess.tag,\n",
    "            )\n",
    "        )\n",
    "\n",
    "        states_duration_df.append(df)\n",
    "\n",
    "states_duration_df = pd.concat(states_duration_df, ignore_index=True)"
   ]
  },
  {
   "cell_type": "code",
   "execution_count": null,
   "metadata": {},
   "outputs": [],
   "source": [
    "_, axs = plt.subplots()\n",
    "\n",
    "sns.stripplot(\n",
    "    data=states_duration_df,\n",
    "    x=\"zt\",\n",
    "    y=\"rem_duration\",\n",
    "    hue=\"grp\",\n",
    "    hue_order=[\"NSD\", \"SD\"],\n",
    "    ax=axs,\n",
    "    dodge=True,\n",
    ")"
   ]
  },
  {
   "cell_type": "code",
   "execution_count": null,
   "metadata": {},
   "outputs": [],
   "source": [
    "func = lambda df: df.groupby([])"
   ]
  },
  {
   "cell_type": "markdown",
   "metadata": {
    "jp-MarkdownHeadingCollapsed": true
   },
   "source": [
    "### What percentage of SD is sleep ?"
   ]
  },
  {
   "cell_type": "code",
   "execution_count": 9,
   "metadata": {},
   "outputs": [],
   "source": [
    "sessions = subjects.sd.allsess\n",
    "\n",
    "nrem_df = []\n",
    "nrem_dur_all = 0\n",
    "for s, sess in enumerate(sessions):\n",
    "    post = sess.paradigm[\"post\"].flatten()\n",
    "    nrem_dur = (\n",
    "        sess.brainstates[\"NREM\"]\n",
    "        .time_slice(post[0], post[0] + 5 * 3600, strict=False)\n",
    "        .durations.sum()\n",
    "    )\n",
    "\n",
    "    nrem_dur_all += nrem_dur\n",
    "\n",
    "    nrem_perc = nrem_dur / (5 * 3600)\n",
    "\n",
    "    df = pd.DataFrame({\"nrem_perc\": [nrem_perc], \"grp\": sess.tag})\n",
    "    nrem_df.append(df)\n",
    "\n",
    "nrem_df = pd.concat(nrem_df, ignore_index=True)"
   ]
  },
  {
   "cell_type": "code",
   "execution_count": 10,
   "metadata": {},
   "outputs": [
    {
     "data": {
      "text/plain": [
       "0.0013708140781261086"
      ]
     },
     "execution_count": 10,
     "metadata": {},
     "output_type": "execute_result"
    }
   ],
   "source": [
    "nrem_dur_all / (8 * 5 * 3600)"
   ]
  },
  {
   "cell_type": "code",
   "execution_count": 7,
   "metadata": {},
   "outputs": [
    {
     "data": {
      "text/plain": [
       "<Axes: xlabel='grp', ylabel='nrem_perc'>"
      ]
     },
     "execution_count": 7,
     "metadata": {},
     "output_type": "execute_result"
    },
    {
     "data": {
      "application/vnd.jupyter.widget-view+json": {
       "model_id": "b42fd7f17fac4926a41abad433257a6f",
       "version_major": 2,
       "version_minor": 0
      },
      "image/png": "[encoded data removed]",
      "text/html": [
       "\n",
       "            <div style=\"display: inline-block;\">\n",
       "                <div class=\"jupyter-widgets widget-label\" style=\"text-align: center;\">\n",
       "                    Figure\n",
       "                </div>\n",
       "                <img src='data:image/png;base64,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' width=640.0/>\n",
       "            </div>\n",
       "        "
      ],
      "text/plain": [
       "Canvas(toolbar=Toolbar(toolitems=[('Home', 'Reset original view', 'home', 'home'), ('Back', 'Back to previous …"
      ]
     },
     "metadata": {},
     "output_type": "display_data"
    }
   ],
   "source": [
    "_, ax = plt.subplots()\n",
    "\n",
    "sns.stripplot(data=nrem_df, x=\"grp\", y=\"nrem_perc\")"
   ]
  }
 ],
 "metadata": {
  "interpreter": {
   "hash": "cce1618081139d19eb1ee8d40815d94a2de4f62e1efb20d9406ddb60628c36ae"
  },
  "kernelspec": {
   "display_name": "Python 3 (ipykernel)",
   "language": "python",
   "name": "python3"
  },
  "language_info": {
   "codemirror_mode": {
    "name": "ipython",
    "version": 3
   },
   "file_extension": ".py",
   "mimetype": "text/x-python",
   "name": "python",
   "nbconvert_exporter": "python",
   "pygments_lexer": "ipython3",
   "version": "3.11.6"
  }
 },
 "nbformat": 4,
 "nbformat_minor": 4
}
