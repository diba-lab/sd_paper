{
 "cells": [
  {
   "attachments": {},
   "cell_type": "markdown",
   "metadata": {},
   "source": [
    "### Test sleep scoring\n",
    "- Tried some unsupervised neural network from sklearn, it did not work that well"
   ]
  },
  {
   "cell_type": "code",
   "execution_count": 2,
   "metadata": {},
   "outputs": [],
   "source": [
    "import numpy as np\n",
    "from neuropy.analyses.brainstates import detect_brainstates_epochs\n",
    "from neuropy.plotting import plot_probe\n",
    "from neuropy.core import Epoch\n",
    "from neuropy.utils.signal_process import FourierSg\n",
    "from scipy.ndimage import gaussian_filter1d\n",
    "from neuropy.analyses.brainstates import correlation_emg\n",
    "from hfuncs import whiten_signal\n",
    "from scipy import stats\n",
    "from neuropy.analyses.brainstates import hmmfit1d\n",
    "import matplotlib.pyplot as plt\n",
    "from neuropy.plotting import plot_hypnogram\n",
    "import subjects\n",
    "\n",
    "smooth = lambda arr: gaussian_filter1d(arr, sigma=2 / 0.5)\n",
    "# sess = subjects.SimData().ratSim1[0]\n",
    "# sess = subjects.nsd.ratUday2[0]\n",
    "# sess = subjects.nsd.ratSday2[0]\n",
    "sess = subjects.sd.ratRday2[0]"
   ]
  },
  {
   "attachments": {},
   "cell_type": "markdown",
   "metadata": {},
   "source": [
    "### Spectrogram calculation"
   ]
  },
  {
   "cell_type": "code",
   "execution_count": null,
   "metadata": {},
   "outputs": [],
   "source": [
    "from neuropy.utils.signal_process import FourierSg, hilbertfast, filter_sig\n",
    "\n",
    "lfp = sess.eegfile.get_signal([sess.best_channels.slow_wave])\n",
    "freqs = np.geomspace(1, 100, 100)\n",
    "# freqs = np.(1, 100, 100)\n",
    "spect = FourierSg(lfp, freqs=freqs, window=2, overlap=1, norm_sig=True)\n",
    "log_spect = np.log10(spect.traces)\n",
    "zsc_spect = stats.zscore(log_spect, axis=1)\n",
    "time = spect.time\n",
    "\n",
    "spect_noisy = stats.zscore(np.abs(zsc_spect.sum(axis=0))) >= 5"
   ]
  },
  {
   "attachments": {},
   "cell_type": "markdown",
   "metadata": {},
   "source": [
    "### Noisy indices"
   ]
  },
  {
   "cell_type": "code",
   "execution_count": null,
   "metadata": {},
   "outputs": [],
   "source": [
    "noisy_bool = np.zeros_like(time).astype(\"bool\")\n",
    "if sess.artifact is not None:\n",
    "    noisy_arr = sess.artifact.as_array()\n",
    "    for noisy_ind in range(noisy_arr.shape[0]):\n",
    "        st = noisy_arr[noisy_ind, 0]\n",
    "        en = noisy_arr[noisy_ind, 1]\n",
    "        noisy_bool[np.where((spect.time >= st - 1) & (spect.time <= en + 1))[0]] = True\n",
    "\n",
    "noisy_bool = np.logical_or(spect_noisy, noisy_bool)"
   ]
  },
  {
   "attachments": {},
   "cell_type": "markdown",
   "metadata": {},
   "source": [
    "### Features for clustering"
   ]
  },
  {
   "cell_type": "code",
   "execution_count": null,
   "metadata": {},
   "outputs": [],
   "source": [
    "from sklearn.decomposition import PCA\n",
    "from numpy.polynomial.polynomial import polyfit\n",
    "\n",
    "theta = spect.get_band_power(5, 10)\n",
    "theta[~noisy_bool] = smooth(theta[~noisy_bool])\n",
    "delta = spect.get_band_power(1, 4)\n",
    "delta[~noisy_bool] = smooth(delta[~noisy_bool])\n",
    "\n",
    "broadband_sw = np.zeros_like(time)\n",
    "pca = PCA(n_components=2).fit(zsc_spect[:, ~noisy_bool].T)\n",
    "# broadband_sw[~noisy_bool] = smooth(pca.transform(zsc_spect[:, ~noisy_bool].T).squeeze())\n",
    "# broadband_sw[~noisy_bool] = smooth(pca.transform(zsc_spect[:, ~noisy_bool].T).squeeze())\n",
    "pca_transform = pca.transform(zsc_spect[:, ~noisy_bool].T)\n",
    "\n",
    "bp_2to16 = spect.get_band_power(2.16)\n",
    "bp_2to16[~noisy_bool] = smooth(bp_2to16[~noisy_bool])\n",
    "theta_ratio = theta / bp_2to16\n",
    "theta_delta_ratio = theta / delta\n",
    "\n",
    "emg = gaussian_filter1d(sess.emg.traces[0], sigma=10 * sess.emg.sampling_rate)\n",
    "emg = np.log10(np.interp(spect.time, sess.emg.time, emg))\n",
    "emg[np.isnan(emg)] = np.nanmax(emg)\n",
    "\n",
    "theta_delta_emg_ratio = theta / (delta * 10**emg)\n",
    "\n",
    "slope = polyfit(freqs, log_spect, deg=1)[1]\n",
    "\n",
    "# Gervasoni et al. 2004\n",
    "\n",
    "# bp1 = spect.get_band_ratio([0.5, 20], [0.5, 55])\n",
    "# bp2 = spect.get_band_ratio([0.5, 4.5], [0.5, 9])"
   ]
  },
  {
   "cell_type": "code",
   "execution_count": null,
   "metadata": {},
   "outputs": [],
   "source": [
    "_, ax = plt.subplots()\n",
    "# ax.plot(spect.get_band_power(1, 4))\n",
    "ax.plot(slope)"
   ]
  },
  {
   "cell_type": "code",
   "execution_count": null,
   "metadata": {},
   "outputs": [],
   "source": [
    "_, axs = plt.subplots(3, 2, width_ratios=[4, 1])\n",
    "\n",
    "\n",
    "def get_hist(arr):\n",
    "    bins = np.linspace(arr.min(), arr.max(), 100)\n",
    "    return np.histogram(arr, bins)\n",
    "\n",
    "\n",
    "hist_delta, bins_delta = get_hist(delta)\n",
    "hist_thratio, bins_thratio = get_hist(theta_ratio)\n",
    "hist_emg, bins_emg = get_hist(emg)\n",
    "\n",
    "# ax.plot(lfp_spect.time, theta_spect)\n",
    "# ax.plot(lfp_spect.time, theta_hil)\n",
    "axs[0, 0].plot(spect.time, delta)\n",
    "axs[1, 0].plot(spect.time, theta_ratio)\n",
    "axs[2, 0].plot(spect.time, emg)\n",
    "\n",
    "axs[0, 1].plot(bins_delta[:-1], hist_delta)\n",
    "axs[1, 1].plot(bins_thratio[:-1], hist_thratio)\n",
    "axs[2, 1].plot(bins_emg[:-1], hist_emg)\n",
    "\n",
    "\n",
    "# ax.axvline(sess.paradigm[\"maze\"].flatten()[0])\n",
    "# ax.axvline(sess.paradigm[\"maze\"].flatten()[1])"
   ]
  },
  {
   "attachments": {},
   "cell_type": "markdown",
   "metadata": {},
   "source": [
    "### Clustering"
   ]
  },
  {
   "cell_type": "code",
   "execution_count": null,
   "metadata": {},
   "outputs": [],
   "source": [
    "from neuropy.analyses.brainstates import gaussian_classify\n",
    "\n",
    "_, axs = plt.subplots(1, 3, sharex=True, sharey=True)\n",
    "\n",
    "# thratio_delta_arr = np.vstack((theta_ratio, broadband_sw)).T\n",
    "thratio_delta_arr = np.vstack((theta, delta)).T\n",
    "\n",
    "emg_bool = np.zeros_like(emg).astype(\"bool\")\n",
    "emg_bool[~noisy_bool] = gaussian_classify(emg[~noisy_bool]).astype(\"bool\")\n",
    "\n",
    "nrem_rem_bool = np.zeros_like(emg).astype(\"bool\")\n",
    "nrem_rem_bool[~emg_bool & ~noisy_bool] = gaussian_classify(\n",
    "    theta_delta_ratio[~noisy_bool & ~emg_bool], ax=axs[0]\n",
    ").astype(\"bool\")\n",
    "\n",
    "aw_qw_bool = np.zeros_like(emg).astype(\"bool\")\n",
    "aw_qw_bool[emg_bool & ~noisy_bool] = gaussian_classify(\n",
    "    theta_ratio[~noisy_bool & emg_bool]\n",
    ").astype(\"bool\")"
   ]
  },
  {
   "cell_type": "code",
   "execution_count": null,
   "metadata": {},
   "outputs": [],
   "source": [
    "label2 = gaussian_classify(theta_delta_ratio[~emg_bool & ~noisy_bool])"
   ]
  },
  {
   "cell_type": "code",
   "execution_count": null,
   "metadata": {},
   "outputs": [],
   "source": [
    "np.sum([True, True])"
   ]
  },
  {
   "cell_type": "code",
   "execution_count": null,
   "metadata": {},
   "outputs": [],
   "source": [
    "_, ax = plt.subplots()\n",
    "ax.plot(emg_bool)"
   ]
  },
  {
   "cell_type": "code",
   "execution_count": null,
   "metadata": {},
   "outputs": [],
   "source": [
    "_, ax = plt.subplots(2, sharex=True)\n",
    "\n",
    "ax[0].plot(nrem_rem_bool[~noisy_bool & ~emg_bool])\n",
    "ax[0].plot(label2.astype(\"bool\") + 1.2)\n",
    "ax[1].plot(theta_delta_ratio[~noisy_bool & ~emg_bool])"
   ]
  },
  {
   "cell_type": "code",
   "execution_count": null,
   "metadata": {},
   "outputs": [],
   "source": [
    "_, ax = plt.subplots()\n",
    "\n",
    "ax.plot(\n",
    "    delta[~noisy_bool & ~emg_bool],\n",
    "    theta[~noisy_bool & ~emg_bool],\n",
    "    \".\",\n",
    "    alpha=0.5,\n",
    "    markersize=2,\n",
    ")"
   ]
  },
  {
   "cell_type": "code",
   "execution_count": null,
   "metadata": {},
   "outputs": [],
   "source": [
    "_, ax = plt.subplots()\n",
    "\n",
    "ax.plot(theta_ratio, delta, \".\", markersize=1, alpha=0.5)"
   ]
  },
  {
   "cell_type": "code",
   "execution_count": null,
   "metadata": {},
   "outputs": [],
   "source": [
    "from neuropy.analyses.brainstates import hmmfit1d\n",
    "\n",
    "gmm_labels = gaussian_classify(theta_delta_emg_ratio[~noisy_bool & ~emg_bool])\n",
    "hmm_labels = hmmfit1d(theta_delta_emg_ratio[~noisy_bool & ~emg_bool])"
   ]
  },
  {
   "cell_type": "code",
   "execution_count": null,
   "metadata": {},
   "outputs": [],
   "source": [
    "from hmmlearn.hmm import GaussianHMM\n",
    "\n",
    "feat = theta_delta_ratio[~noisy_bool & ~emg_bool][:, None]\n",
    "g_model = GaussianHMM(n_components=2, n_iter=1).fit(feat)"
   ]
  },
  {
   "cell_type": "code",
   "execution_count": null,
   "metadata": {},
   "outputs": [],
   "source": [
    "g_model.transmat_"
   ]
  },
  {
   "cell_type": "code",
   "execution_count": null,
   "metadata": {},
   "outputs": [],
   "source": [
    "_, ax = plt.subplots(3, 1, sharex=True)\n",
    "\n",
    "ax[0].plot(g_model)\n",
    "ax[1].plot(p_model)\n",
    "\n",
    "\n",
    "clash = np.where(np.logical_xor(hmm_labels, gmm_labels))[0]\n",
    "ax[2].plot(theta_delta_emg_ratio[~noisy_bool & ~emg_bool])\n",
    "ax[2].plot(clash, theta_delta_emg_ratio[~noisy_bool & ~emg_bool][clash], \".\")"
   ]
  },
  {
   "cell_type": "code",
   "execution_count": null,
   "metadata": {},
   "outputs": [],
   "source": [
    "np.corrcoef(hmm_labels, gmm_labels)"
   ]
  },
  {
   "cell_type": "code",
   "execution_count": null,
   "metadata": {},
   "outputs": [],
   "source": [
    "_,ax = plt.subplots()\n",
    "\n",
    "ax.plot(,'.')"
   ]
  },
  {
   "attachments": {},
   "cell_type": "markdown",
   "metadata": {},
   "source": [
    "### State labelling"
   ]
  },
  {
   "cell_type": "code",
   "execution_count": null,
   "metadata": {},
   "outputs": [],
   "source": [
    "states = np.array([\"\"] * len(theta_ratio), dtype=\"U4\")\n",
    "states[~noisy_bool & emg_bool & aw_qw_bool] = \"AW\"\n",
    "states[~noisy_bool & emg_bool & ~aw_qw_bool] = \"QW\"\n",
    "states[~noisy_bool & ~emg_bool & nrem_rem_bool] = \"REM\"\n",
    "states[~noisy_bool & ~emg_bool & ~nrem_rem_bool] = \"NREM\"\n",
    "\n",
    "states_epochs = Epoch.from_string_array(states)"
   ]
  },
  {
   "attachments": {},
   "cell_type": "markdown",
   "metadata": {},
   "source": [
    "### Combined plot"
   ]
  },
  {
   "cell_type": "code",
   "execution_count": null,
   "metadata": {},
   "outputs": [],
   "source": [
    "from neuropy.plotting import plot_epochs\n",
    "\n",
    "_, axs = plt.subplots(4, 1, sharex=True)\n",
    "\n",
    "\n",
    "axs[0].plot(time[~noisy_bool], stats.zscore(delta[~noisy_bool]))\n",
    "axs[0].plot(time[~noisy_bool], stats.zscore(broadband_sw[~noisy_bool]))\n",
    "axs[1].plot(time[~noisy_bool], theta_ratio[~noisy_bool])\n",
    "axs[2].plot(time[~noisy_bool], emg[~noisy_bool])\n",
    "\n",
    "\n",
    "# axs[4].fill_between(states)\n",
    "# plot_epochs(\n",
    "#     ax=axs[3],\n",
    "#     epochs=states_epochs,\n",
    "#     labels_order=[\"NREM\", \"REM\", \"QW\", \"AW\"],\n",
    "#     colors=subjects.colors_sleep,\n",
    "# )\n",
    "axs[3].plot(time[~noisy_bool], (theta / delta)[~noisy_bool])\n",
    "# axs[4].plot(high_emg)\n",
    "# axs[5].plot((1/band30[:l])/delta_sxx[:-1])\n",
    "# axs[5].plot(stats.zscore(delta_full))"
   ]
  }
 ],
 "metadata": {
  "interpreter": {
   "hash": "cce1618081139d19eb1ee8d40815d94a2de4f62e1efb20d9406ddb60628c36ae"
  },
  "kernelspec": {
   "display_name": "Python 3 (ipykernel)",
   "language": "python",
   "name": "python3"
  },
  "language_info": {
   "codemirror_mode": {
    "name": "ipython",
    "version": 3
   },
   "file_extension": ".py",
   "mimetype": "text/x-python",
   "name": "python",
   "nbconvert_exporter": "python",
   "pygments_lexer": "ipython3",
   "version": "3.11.6"
  }
 },
 "nbformat": 4,
 "nbformat_minor": 4
}
