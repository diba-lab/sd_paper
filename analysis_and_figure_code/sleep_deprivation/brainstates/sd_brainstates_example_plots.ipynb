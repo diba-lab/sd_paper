{
 "cells": [
  {
   "attachments": {},
   "cell_type": "markdown",
   "metadata": {},
   "source": [
    "### Imports"
   ]
  },
  {
   "cell_type": "code",
   "execution_count": 1,
   "metadata": {},
   "outputs": [],
   "source": [
    "%load_ext autoreload\n",
    "%autoreload 2\n",
    "import sys\n",
    "sys.path.extend(['/home/nkinsky/Documents/GitHub/NeuroPy'])\n",
    "sys.path.extend(['/home/nkinsky/Documents/GitHubPrivate/pythonprogs/DataPaths/'])\n",
    "    \n",
    "import matplotlib.pyplot as plt\n",
    "import numpy as np\n",
    "import subjects\n",
    "import pandas as pd\n",
    "import seaborn as sns\n",
    "from neuropy.plotting import Fig\n",
    "from scipy import stats\n",
    "from plotters import Plotter, get_nsd_vs_sd_df\n",
    "from stats_utils import get_bootstrap_prob, get_bootstrap_prob_paired\n",
    "\n",
    "grpdata = subjects.GroupData()\n",
    "\n",
    "import numpy as np\n",
    "import pandas as pd\n",
    "import seaborn as sns\n",
    "from scipy import stats\n",
    "import scipy.signal as sg\n",
    "import matplotlib.pyplot as plt\n",
    "from neuropy import plotting\n",
    "import subjects"
   ]
  },
  {
   "attachments": {},
   "cell_type": "markdown",
   "metadata": {},
   "source": [
    "### An example 3d scatter plot showing sleep scoring parameters"
   ]
  },
  {
   "cell_type": "code",
   "execution_count": 2,
   "metadata": {},
   "outputs": [
    {
     "ename": "ImportError",
     "evalue": "cannot import name 'correlation_emg' from 'neuropy.analyses.brainstates' (/home/nkinsky/Documents/GitHub/NeuroPy/neuropy/analyses/brainstates.py)",
     "output_type": "error",
     "traceback": [
      "\u001b[0;31m---------------------------------------------------------------------------\u001b[0m",
      "\u001b[0;31mImportError\u001b[0m                               Traceback (most recent call last)",
      "Cell \u001b[0;32mIn[2], line 1\u001b[0m\n\u001b[0;32m----> 1\u001b[0m \u001b[38;5;28;01mfrom\u001b[39;00m \u001b[38;5;21;01mneuropy\u001b[39;00m\u001b[38;5;21;01m.\u001b[39;00m\u001b[38;5;21;01manalyses\u001b[39;00m\u001b[38;5;21;01m.\u001b[39;00m\u001b[38;5;21;01mbrainstates\u001b[39;00m \u001b[38;5;28;01mimport\u001b[39;00m correlation_emg\n\u001b[1;32m      2\u001b[0m \u001b[38;5;28;01mfrom\u001b[39;00m \u001b[38;5;21;01mneuropy\u001b[39;00m\u001b[38;5;21;01m.\u001b[39;00m\u001b[38;5;21;01mutils\u001b[39;00m\u001b[38;5;21;01m.\u001b[39;00m\u001b[38;5;21;01msignal_process\u001b[39;00m \u001b[38;5;28;01mimport\u001b[39;00m FourierSg\n\u001b[1;32m      3\u001b[0m \u001b[38;5;28;01mfrom\u001b[39;00m \u001b[38;5;21;01mscipy\u001b[39;00m\u001b[38;5;21;01m.\u001b[39;00m\u001b[38;5;21;01mndimage\u001b[39;00m \u001b[38;5;28;01mimport\u001b[39;00m gaussian_filter1d\n",
      "\u001b[0;31mImportError\u001b[0m: cannot import name 'correlation_emg' from 'neuropy.analyses.brainstates' (/home/nkinsky/Documents/GitHub/NeuroPy/neuropy/analyses/brainstates.py)"
     ]
    }
   ],
   "source": [
    "from neuropy.analyses.brainstates import correlation_emg\n",
    "from neuropy.utils.signal_process import FourierSg\n",
    "from scipy.ndimage import gaussian_filter1d\n",
    "\n",
    "smooth = lambda arr: gaussian_filter1d(arr, sigma=2 / 1)\n",
    "\n",
    "sess = subjects.nsd.ratSday2[0]\n",
    "maze = sess.paradigm[\"maze\"].flatten()\n",
    "post = sess.paradigm[\"post\"].flatten()\n",
    "period = [post[0], post[0] + 2 * 3600]\n",
    "\n",
    "all_channels = np.concatenate(sess.probegroup.get_connected_channels()).astype(\"int\")\n",
    "signal = sess.eegfile.get_signal(t_start=period[0], t_stop=period[1])\n",
    "emg = correlation_emg(signal, sess.probegroup, 10, 9)\n",
    "emg = smooth(emg)\n",
    "\n",
    "freqs = np.geomspace(0.5, 100, 100)\n",
    "spect_kw = dict(window=10, overlap=9, freqs=freqs, norm_sig=True)\n",
    "delta_lfp = sess.eegfile.get_signal(9, *period)\n",
    "theta_lfp = sess.eegfile.get_signal(13, *period)\n",
    "sg_deltachan = FourierSg(delta_lfp, **spect_kw)\n",
    "delta = smooth(sg_deltachan.delta)\n",
    "sg_thetachan = FourierSg(theta_lfp, **spect_kw)\n",
    "theta = smooth(sg_thetachan.theta)\n",
    "\n",
    "delta_full = smooth(sg_thetachan.get_band_power(2, 20))\n",
    "theta_ratio = theta / delta_full"
   ]
  },
  {
   "cell_type": "code",
   "execution_count": null,
   "metadata": {},
   "outputs": [],
   "source": [
    "states = sess.brainstates.time_slice(*period)\n",
    "color = np.array([\"b\"] * len(emg), dtype=\"U1\")\n",
    "\n",
    "time = sg_thetachan.time[:-1]\n",
    "\n",
    "for e in states.itertuples():\n",
    "    if e.label == \"AW\":\n",
    "        col = \"k\"\n",
    "    if e.label == \"QW\":\n",
    "        col = \"k\"\n",
    "    if e.label == \"REM\":\n",
    "        col = \"g\"\n",
    "    if e.label == \"NREM\":\n",
    "        col = \"b\"\n",
    "\n",
    "    color[(time > e.start) & (time < e.stop)] = col"
   ]
  },
  {
   "cell_type": "code",
   "execution_count": null,
   "metadata": {},
   "outputs": [],
   "source": [
    "fig = plt.figure()\n",
    "ax = fig.add_subplot(projection=\"3d\")\n",
    "\n",
    "ax.scatter(theta_ratio[: len(emg)], delta_full[: len(emg)], emg, s=2, c=color.tolist())\n",
    "ax.set_ylim(0, 0.2)\n",
    "\n",
    "ax.set_xlabel(\"theta_ratio\")\n",
    "ax.set_ylabel(\"delta\")\n",
    "ax.set_zlabel(\"emg\")"
   ]
  }
 ],
 "metadata": {
  "kernelspec": {
   "display_name": "Python 3 (ipykernel)",
   "language": "python",
   "name": "python3"
  },
  "language_info": {
   "codemirror_mode": {
    "name": "ipython",
    "version": 3
   },
   "file_extension": ".py",
   "mimetype": "text/x-python",
   "name": "python",
   "nbconvert_exporter": "python",
   "pygments_lexer": "ipython3",
   "version": "3.11.6"
  },
  "vscode": {
   "interpreter": {
    "hash": "cce1618081139d19eb1ee8d40815d94a2de4f62e1efb20d9406ddb60628c36ae"
   }
  }
 },
 "nbformat": 4,
 "nbformat_minor": 4
}
