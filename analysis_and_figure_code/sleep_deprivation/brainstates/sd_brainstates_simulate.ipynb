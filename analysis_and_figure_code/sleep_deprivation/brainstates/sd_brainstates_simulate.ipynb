{
 "cells": [
  {
   "attachments": {},
   "cell_type": "markdown",
   "metadata": {},
   "source": [
    "### Imports"
   ]
  },
  {
   "cell_type": "code",
   "execution_count": null,
   "metadata": {},
   "outputs": [],
   "source": [
    "import numpy as np\n",
    "import pandas as pd\n",
    "import seaborn as sns\n",
    "from scipy import stats\n",
    "import scipy.signal as sg\n",
    "import matplotlib.pyplot as plt\n",
    "from neuropy import plotting\n",
    "import subjects"
   ]
  },
  {
   "attachments": {},
   "cell_type": "markdown",
   "metadata": {},
   "source": [
    "### Generate test dataset for sleep scoring"
   ]
  },
  {
   "cell_type": "code",
   "execution_count": null,
   "metadata": {},
   "outputs": [],
   "source": [
    "from pathlib import Path\n",
    "\n",
    "sess = subjects.nsd.ratUday2[0]\n",
    "\n",
    "eeg = []\n",
    "for state_name in [\"AW\", \"QW\", \"REM\", \"NREM\"]:\n",
    "    states = sess.brainstates[state_name].duration_slice(300)[0]\n",
    "    start, stop = states.starts, states.stops\n",
    "    print(stop - start)\n",
    "    eeg.append(sess.eegfile.get_signal(t_start=start, t_stop=stop).traces)\n",
    "eeg = np.hstack(eeg)\n",
    "\n",
    "dest_dir = Path(\"/data/Clustering/sessions/Simulated/RatSim1/\")\n",
    "dest_file = dest_dir / \"RatSim1.eeg\"\n",
    "dtype = sess.eegfile.dtype\n",
    "n_data = eeg.shape[0] * eeg.shape[1]\n",
    "\n",
    "# #Uncomment to write data\n",
    "# data = np.memmap(dest_file, dtype=dtype, mode=\"w+\", shape=n_data)\n",
    "# data[:] = eeg.flatten(\"F\")"
   ]
  },
  {
   "attachments": {},
   "cell_type": "markdown",
   "metadata": {},
   "source": [
    "### Generate PSD estimates for various states"
   ]
  },
  {
   "cell_type": "code",
   "execution_count": null,
   "metadata": {},
   "outputs": [],
   "source": [
    "sess = subjects.sd.ratUday4[0]\n",
    "fs = sess.eegfile.sampling_rate\n",
    "psd = {}\n",
    "for state_name in [\"AW\", \"QW\", \"REM\", \"NREM\"]:\n",
    "    states = sess.brainstates[state_name].duration_slice(200)[0]\n",
    "    start, stop = states.starts[0], states.stops[0]\n",
    "    lfp = sess.eegfile.get_signal(channel_indx=86, t_start=start, t_stop=stop).traces[0]\n",
    "    freq, psd_state = sg.welch(lfp, fs=fs, nperseg=2 * fs, noverlap=fs)\n",
    "    indx = freq <= 40\n",
    "    psd[state_name] = psd_state[indx]\n",
    "psd[\"freq\"] = freq[indx]\n",
    "# np.save(\"/data/Clustering/sessions/psd_states.npy\", psd)"
   ]
  },
  {
   "cell_type": "code",
   "execution_count": null,
   "metadata": {},
   "outputs": [],
   "source": [
    "_, ax = plt.subplots()\n",
    "\n",
    "for i, state_name in enumerate([\"AW\", \"QW\", \"REM\", \"NREM\"]):\n",
    "    ax.plot(psd[\"freq\"], psd[state_name], label=state_name)\n",
    "\n",
    "# ax.set_xscale('log')\n",
    "ax.set_yscale(\"log\")\n",
    "ax.legend()\n",
    "# ax.set_xlim(0, 100)"
   ]
  },
  {
   "cell_type": "code",
   "execution_count": null,
   "metadata": {},
   "outputs": [],
   "source": [
    "from neuropy.utils.signal_process import filter_sig, FourierSg, WaveletSg\n",
    "\n",
    "\n",
    "lfp = sess.eegfile.get_signal(102)\n",
    "# filt_lfp = filter_sig.highpass(lfp, 60)\n",
    "lfp_spect = FourierSg(lfp, norm_sig=True)\n",
    "# lfp_spect = WaveletSg(lfp, freqs=np.arange(0.5, 16, 0.5))\n",
    "# zsc_sig = stats.zscore(lfp.traces[0])"
   ]
  },
  {
   "cell_type": "code",
   "execution_count": null,
   "metadata": {},
   "outputs": [],
   "source": [
    "_, ax = plt.subplots()\n",
    "\n",
    "ax.plot(lfp.time, np.abs(stats.zscore(lfp.traces[0])), \".\", markersize=1)"
   ]
  },
  {
   "cell_type": "code",
   "execution_count": 108,
   "metadata": {},
   "outputs": [],
   "source": [
    "_, ax = plt.subplots()\n",
    "\n",
    "ax.plot(np.abs(np.diff(lfp.traces[0], 10)))"
   ]
  },
  {
   "cell_type": "code",
   "execution_count": null,
   "metadata": {},
   "outputs": [],
   "source": [
    "a = np.arange(10000).astype(float)\n",
    "a[30] = np.nan\n",
    "\n",
    "spect = sg.spectrogram(a)[2]\n",
    "\n",
    "_, ax = plt.subplots()\n",
    "ax.pcolormesh(spect)"
   ]
  },
  {
   "cell_type": "code",
   "execution_count": null,
   "metadata": {},
   "outputs": [],
   "source": [
    "from neuropy.utils.mathutil import min_max_scaler\n",
    "import matplotlib.colors as mpl_colors\n",
    "\n",
    "_, ax = plt.subplots()\n",
    "# ax.plot(lfp.time, zsc_sig)\n",
    "# ax.pcolormesh(lfp_spect.time, lfp_spect.freqs, lfp_spect.traces, vmin=0.1, vmax=0.2)\n",
    "spect_slice = lfp_spect.freq_slice(0, 45)\n",
    "spect_traces = spect_slice.traces\n",
    "spect_trace_mean = (\n",
    "    m := spect_slice.time_slice(13500, 15000).traces.mean(axis=1)\n",
    ") / m.sum()\n",
    "spect_traces_scaled = spect_traces / spect_traces.sum(axis=0, keepdims=True)\n",
    "diff_trace = np.abs(spect_traces_scaled - spect_trace_mean[:, np.newaxis]).max(axis=0)\n",
    "extent = [\n",
    "    spect_slice.time[0],\n",
    "    spect_slice.time[-1],\n",
    "    spect_slice.freqs[0],\n",
    "    spect_slice.freqs[-1],\n",
    "]\n",
    "\n",
    "ax.imshow(\n",
    "    (z := spect_traces_scaled),\n",
    "    aspect=\"auto\",\n",
    "    # norm=mpl_colors.LogNorm(vmin=z.min()*4, vmax=z.max() / 3),\n",
    "    # norm=mpl_colors.PowerNorm(gamma=0.3),\n",
    "    vmax=0.5,\n",
    "    origin=\"lower\",\n",
    "    extent=extent,\n",
    ")\n",
    "\n",
    "# ax.plot(diff_trace)\n",
    "# ax.set_ylim(0, 40)\n",
    "# ax.plot(lfp.time[:-1], stats.zscore(np.diff(lfp.traces[0])))\n",
    "# ax.plot(stats.zscore(np.gradient(lfp.traces[0])))\n",
    "\n",
    "# ax.plot(lfp.time, filt_lfp.traces[0])"
   ]
  },
  {
   "cell_type": "code",
   "execution_count": null,
   "metadata": {},
   "outputs": [],
   "source": [
    "_, ax = plt.subplots()\n",
    "ax.plot(spect_traces_scaled[10:20, :].mean(axis=0))"
   ]
  },
  {
   "cell_type": "code",
   "execution_count": null,
   "metadata": {},
   "outputs": [],
   "source": [
    "from scipy import interpolate\n",
    "from neuropy.analyses.brainstates import get_artifact_indices, interpolate_indices\n",
    "\n",
    "\n",
    "mean_psd = lfp_spect.traces.mean(axis=0)\n",
    "artifact_indices = get_artifact_indices(mean_psd, thresh=0.22)\n",
    "zsc_mean_psd = stats.zscore(mean_psd)\n",
    "zsc_mean_psd_interp = interpolate_indices(zsc_mean_psd, artifact_indices)\n",
    "# delta_interp = interpolate_indices(lfp_spect.delta, artifact_indices)\n",
    "# theta_interp = interpolate_indices(lfp_spect.theta, artifact_indices)\n",
    "# # peaks, peaks_prop = sg.find_peaks(\n",
    "#     np.where(zsc_mean_psd > 0, zsc_mean_psd, 0), height=3, prominence=1, plateau_size=1\n",
    "# )\n",
    "# left_edge = peaks_prop[\"left_edges\"]\n",
    "# right_edge = peaks_prop[\"right_edges\"]\n",
    "# left_base = peaks_prop[\"left_bases\"]\n",
    "# right_base = peaks_prop[\"right_bases\"]\n",
    "# nan_indx = np.unique(\n",
    "#     np.concatenate([np.arange(a, b + 1) for a, b in zip(left_base, right_base)])\n",
    "# )\n",
    "\n",
    "\n",
    "# art_ind = zsc_mean_psd > 3\n",
    "# # nan_mean_psd = np.where(zsc_mean_psd > 3, np.nan, zsc_mean_psd)\n",
    "# nan_mean_psd = zsc_mean_psd.copy()\n",
    "# nan_mean_psd[nan_indx] = np.nan\n",
    "# interp_df = pd.DataFrame(nan_mean_psd).interpolate(method=\"cubic\")[0].to_numpy()\n",
    "# interp_delta = pd.DataFrame(nan_mean_psd).interpolate(method=\"cubic\")[0].to_numpy()\n",
    "# interp_data = interpolate.interp1d(\n",
    "#     lfp_spect.time[~art_ind],\n",
    "#     zsc_mean_psd[~art_ind],\n",
    "#     bounds_error=False,\n",
    "#     fill_value=\"extrapolate\",\n",
    "# )\n",
    "# ax.plot(stats.zscore(lfp_spect.traces[1]))\n",
    "\n",
    "_, ax = plt.subplots(2, 1, sharey=False, sharex=True)\n",
    "ax[0].plot(zsc_mean_psd, \".\", markersize=1)\n",
    "# ax[0].plot(zsc_mean_psd_interp)\n",
    "# ax[1].plot(lfp_spect.theta)\n",
    "# ax[1].plot(theta_interp / delta_interp, \".\", markersize=1)\n",
    "# ax.plot(zsc_mean_psd_interp)\n",
    "# ax.plot(, \"k*\")\n",
    "# ax.plot(left_base, zsc_mean_psd[left_base], \"r*\")\n",
    "# ax.plot(right_base, zsc_mean_psd[right_base] + 0.5, \"g*\")\n",
    "# ax.plot(interp_data(lfp_spect.time))"
   ]
  },
  {
   "cell_type": "code",
   "execution_count": null,
   "metadata": {},
   "outputs": [],
   "source": [
    "from scipy.ndimage import gaussian_filter1d\n",
    "\n",
    "score = stats.scoreatpercentile(zsc_mean_psd, 99.5)\n",
    "_, ax = plt.subplots()\n",
    "ax.plot(gaussian_filter1d(zsc_mean_psd, 5 / 0.5), \".\", markersize=1)\n",
    "ax.axhline(score, color=\"k\")"
   ]
  },
  {
   "cell_type": "code",
   "execution_count": null,
   "metadata": {},
   "outputs": [],
   "source": [
    "from neuropy.utils.signal_process import hilbertfast\n",
    "\n",
    "_, ax = plt.subplots()\n",
    "\n",
    "# ax.scatter(lfp_spect.theta, lfp_spect.delta, s=2)\n",
    "\n",
    "# hil_amp = np.abs(hilbertfast(zsc_mean_psd))\n",
    "# ax.plot(hil_amp)\n",
    "bins = np.linspace(-1.5, 5, 200)\n",
    "# bins = np.linspace(0,0.01,200)\n",
    "hist_zsc_psd = np.histogram(zsc_mean_psd, bins=bins)[0]\n",
    "# ax.plot(zsc_mean_psd)\n",
    "ax.plot(hist_zsc_psd / zsc_mean_psd.size)"
   ]
  },
  {
   "cell_type": "code",
   "execution_count": null,
   "metadata": {},
   "outputs": [],
   "source": [
    "stats.scoreatpercentile(zsc_mean_psd, 99.99)"
   ]
  },
  {
   "cell_type": "code",
   "execution_count": null,
   "metadata": {},
   "outputs": [],
   "source": [
    "_, ax = plt.subplots(2, 1, sharex=True, sharey=True)\n",
    "# ax.plot(zsc_mean_psd)\n",
    "ax[0].plot(np.abs(stats.zscore(np.diff(mean_psd))))\n",
    "ax[1].plot(zsc_mean_psd)"
   ]
  },
  {
   "cell_type": "code",
   "execution_count": null,
   "metadata": {},
   "outputs": [],
   "source": [
    "a = np.zeros(1000)\n",
    "a[np.random.choice(1000, 100)] = 100\n",
    "sig = np.abs(stats.zscore(sess.eegfile.get_signal(102).traces[0]))\n",
    "perc = stats.scoreatpercentile(sig, 99)\n",
    "perc"
   ]
  },
  {
   "cell_type": "code",
   "execution_count": null,
   "metadata": {},
   "outputs": [],
   "source": [
    "stats.scoreatpercentile(sig, 99.5)"
   ]
  },
  {
   "cell_type": "code",
   "execution_count": null,
   "metadata": {},
   "outputs": [],
   "source": [
    "_, ax = plt.subplots()\n",
    "\n",
    "bins = np.linspace(np.min(zsc_mean_psd), np.max(zsc_mean_psd), 100)\n",
    "hist_psd = np.histogram(zsc_mean_psd, bins=bins)[0]\n",
    "ax.plot(hist_psd)\n",
    "# ax.set_yscale('log')\n",
    "# ax.set_xscale('log')"
   ]
  },
  {
   "cell_type": "code",
   "execution_count": null,
   "metadata": {},
   "outputs": [],
   "source": [
    "_, ax = plt.subplots()\n",
    "ax.plot(sig)\n",
    "ax.axhline(4.5)"
   ]
  }
 ],
 "metadata": {
  "kernelspec": {
   "display_name": "ephys_analysis",
   "language": "python",
   "name": "python3"
  },
  "language_info": {
   "codemirror_mode": {
    "name": "ipython",
    "version": 3
   },
   "file_extension": ".py",
   "mimetype": "text/x-python",
   "name": "python",
   "nbconvert_exporter": "python",
   "pygments_lexer": "ipython3",
   "version": "3.11.3"
  },
  "orig_nbformat": 4
 },
 "nbformat": 4,
 "nbformat_minor": 2
}
