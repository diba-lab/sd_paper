{
 "cells": [
  {
   "attachments": {},
   "cell_type": "markdown",
   "metadata": {},
   "source": [
    "### RatB1 recording info\n",
    "- This is Utku's old animal NSD session where he recorded for 24 hours.\n",
    "- There is a 3 hour disconnection/break in the dark cycle"
   ]
  },
  {
   "cell_type": "code",
   "execution_count": null,
   "metadata": {},
   "outputs": [],
   "source": [
    "import numpy as np\n",
    "import subjects\n",
    "import matplotlib.pyplot as plt\n",
    "from neuropy import analyses, plotting\n",
    "\n",
    "sess = subjects.NsdOld().ratB1_2022_06_24[0]\n",
    "print(sess.recinfo)\n"
   ]
  },
  {
   "attachments": {},
   "cell_type": "markdown",
   "metadata": {},
   "source": [
    "### Set probe configuration\n",
    "- Two masmanidis probes of 128 ch each implanted bilaterally.\n",
    "- x spacing = 22 um, y spacing = 13 um\n"
   ]
  },
  {
   "cell_type": "code",
   "execution_count": null,
   "metadata": {},
   "outputs": [],
   "source": [
    "from neuropy.core import Shank, Probe, ProbeGroup\n",
    "from neuropy.plotting import plot_probe\n",
    "\n",
    "shanks = []\n",
    "channel_groups = sess.recinfo.channel_groups\n",
    "badchans = sess.recinfo.skipped_channels\n",
    "\n",
    "# --- Masmanidis 4 shanks -----------\n",
    "for i in range(4):\n",
    "    chans = channel_groups[i]\n",
    "    shank = Shank.auto_generate(\n",
    "        columns=3,\n",
    "        contacts_per_column=[10, 12, 10],\n",
    "        xpitch=22,\n",
    "        ypitch=13,\n",
    "        y_shift_per_column=[0, -13, 0],\n",
    "        channel_id=np.append(\n",
    "            channel_groups[i][::2][::-1], channel_groups[i][1::2][::-1]\n",
    "        ),\n",
    "    )\n",
    "    shank.set_disconnected_channels(sess.recinfo.skipped_channels)\n",
    "    shanks.append(shank)\n",
    "\n",
    "probe1 = Probe(shanks)\n",
    "\n",
    "# --- Masmanidis 4 shanks -----------\n",
    "shanks = []\n",
    "for i in range(4, 8):\n",
    "    chans = channel_groups[i]\n",
    "    shank = Shank.auto_generate(\n",
    "        columns=3,\n",
    "        contacts_per_column=[10, 12, 10],\n",
    "        xpitch=22,\n",
    "        ypitch=13,\n",
    "        y_shift_per_column=[0, -13, 0],\n",
    "        channel_id=np.append(\n",
    "            channel_groups[i][::2][::-1], channel_groups[i][1::2][::-1]\n",
    "        ),\n",
    "    )\n",
    "    shank.set_disconnected_channels(sess.recinfo.skipped_channels)\n",
    "    shanks.append(shank)\n",
    "\n",
    "probe2 = Probe(shanks)\n",
    "probe2.move((probe1.x_max + 500, 0))\n",
    "\n",
    "prbgrp = ProbeGroup()\n",
    "prbgrp.add_probe(probe1)\n",
    "prbgrp.add_probe(probe2)\n",
    "\n",
    "prbgrp.save(sess.filePrefix.with_suffix(\".probegroup.npy\"))\n",
    "plot_probe(prbgrp)\n"
   ]
  },
  {
   "attachments": {},
   "cell_type": "markdown",
   "metadata": {},
   "source": [
    "### Writing probegroup to json format for spyking-circus "
   ]
  },
  {
   "cell_type": "code",
   "execution_count": null,
   "metadata": {},
   "outputs": [],
   "source": [
    "from neuropy.utils import probe_util\n",
    "\n",
    "file = sess.filePrefix.with_suffix(\".prb\")\n",
    "probe_util.write_spyking_circus(file, sess.probegroup, combine_shanks=True)\n"
   ]
  },
  {
   "attachments": {},
   "cell_type": "markdown",
   "metadata": {},
   "source": [
    "### Experimental paradigm\n",
    "- Recording had a disconnection of around 3 hour in the dark cycle.\n",
    "- So total recording duration is around 20 hours."
   ]
  },
  {
   "cell_type": "code",
   "execution_count": null,
   "metadata": {},
   "outputs": [],
   "source": [
    "import pandas as pd\n",
    "from neuropy.core import Epoch\n",
    "\n",
    "datetime_data = pd.read_csv(sess.filePrefix.with_suffix(\".datetime.csv\"))\n",
    "durations = datetime_data.nFrames / sess.recinfo.dat_sampling_rate\n",
    "epochs = pd.DataFrame(\n",
    "    {\n",
    "        \"start\": [0, 28155, 31868, 49323],\n",
    "        \"stop\": [28153, 31866, 74707, 52828],\n",
    "        \"label\": [\"pre\", \"maze\", \"post\", \"remaze\"],\n",
    "    }\n",
    ")\n",
    "\n",
    "paradigm = Epoch(epochs)\n",
    "paradigm.save(sess.filePrefix.with_suffix(\".paradigm.npy\"))\n"
   ]
  },
  {
   "attachments": {},
   "cell_type": "markdown",
   "metadata": {},
   "source": [
    "### Artifacts epochs"
   ]
  },
  {
   "cell_type": "code",
   "execution_count": null,
   "metadata": {},
   "outputs": [],
   "source": [
    "signal = sess.eegfile.get_signal([20, 170])\n",
    "artifact_epochs = analyses.detect_artifact_epochs(signal, thresh=8, edge_cutoff=2)\n",
    "artifact_epochs.save(sess.filePrefix.with_suffix(\".artifact.npy\"))\n"
   ]
  },
  {
   "cell_type": "code",
   "execution_count": null,
   "metadata": {},
   "outputs": [],
   "source": [
    "signal = sess.eegfile.get_signal([20])\n",
    "plotting.plot_artifact_epochs(artifact_epochs, signal)\n"
   ]
  },
  {
   "cell_type": "code",
   "execution_count": null,
   "metadata": {},
   "outputs": [],
   "source": [
    "from neuropy.io import SpykingCircusIO\n",
    "\n",
    "file = sess.filePrefix.with_suffix(\".dead\")\n",
    "SpykingCircusIO.write_epochs(file, sess.artifact)\n"
   ]
  },
  {
   "cell_type": "markdown",
   "metadata": {},
   "source": [
    "### Importing spiketrains from Phy"
   ]
  },
  {
   "attachments": {},
   "cell_type": "markdown",
   "metadata": {},
   "source": [
    "#### Single folder"
   ]
  },
  {
   "cell_type": "code",
   "execution_count": null,
   "metadata": {},
   "outputs": [],
   "source": [
    "from neuropy.io import PhyIO\n",
    "from neuropy.core import Neurons\n",
    "from pathlib import Path\n",
    "import numpy as np\n",
    "\n",
    "cluster_path = Path(\n",
    "    \"/data/Clustering/sessions/UtkuOldAnimals/RatB1/RatB1_2022-06-24_NSD_CA1_24Hrs/2022-06-24_NSD_CA1_24hrscrs-merged_cleaned.GUI\"\n",
    ")\n",
    "chan_grps = sess.recinfo.channel_groups\n",
    "phy_data = PhyIO(cluster_path)\n",
    "spiketrains = phy_data.spiketrains\n",
    "peak_chans = phy_data.peak_channels\n",
    "waveforms = phy_data.waveforms\n",
    "shank_id = sess.probegroup.get_shank_id_for_channels(peak_chans)\n",
    "\n",
    "# neuron_type_id = phy_data.cluster_info.q.values\n",
    "# neuron_type = np.ones(len(neuron_type_id), dtype=\"U5\")\n",
    "# neuron_type[neuron_type_id < 4] = \"pyr\"\n",
    "# neuron_type[neuron_type_id == 6] = \"mua\"\n",
    "# neuron_type[neuron_type_id == 8] = \"inter\"\n",
    "\n",
    "\n",
    "neurons = Neurons(\n",
    "    np.array(spiketrains, dtype=object),\n",
    "    t_stop=sess.eegfile.duration,\n",
    "    sampling_rate=phy_data.sampling_rate,\n",
    "    peak_channels=peak_chans,\n",
    "    waveforms=np.array(waveforms, dtype=\"object\"),\n",
    "    # neuron_type=neurons_type[0],\n",
    "    shank_ids=np.array(shank_id).astype(int),\n",
    "    metadata={\"cluster_path\": str(cluster_path)},\n",
    ")\n",
    "\n",
    "neurons.save(sess.filePrefix.with_suffix(\".neurons\"))\n"
   ]
  },
  {
   "attachments": {},
   "cell_type": "markdown",
   "metadata": {},
   "source": [
    "### Auto label neuron_type"
   ]
  },
  {
   "cell_type": "code",
   "execution_count": null,
   "metadata": {},
   "outputs": [],
   "source": [
    "from neuropy.utils.neurons_util import estimate_neuron_type, calculate_neurons_acg\n",
    "\n",
    "neurons_type = estimate_neuron_type(sess.neurons)\n",
    "# acgs = calculate_neurons_acg(neurons,window_size=0.1,plot=True)\n"
   ]
  },
  {
   "cell_type": "code",
   "execution_count": null,
   "metadata": {},
   "outputs": [],
   "source": [
    "from neuropy.core import Neurons\n",
    "\n",
    "neurons_new = Neurons(\n",
    "    spiketrains=sess.neurons.spiketrains,\n",
    "    sampling_rate=30000,\n",
    "    t_stop=sess.neurons.t_stop,\n",
    "    waveforms=sess.neurons.waveforms,\n",
    "    neuron_type=neurons_type[0],\n",
    "    shank_ids=sess.neurons.shank_ids,\n",
    ")\n",
    "\n",
    "neurons_new.save(sess.filePrefix.with_suffix(\".neurons\"))\n"
   ]
  },
  {
   "cell_type": "code",
   "execution_count": null,
   "metadata": {},
   "outputs": [],
   "source": [
    "neurons_new.shank_ids.shape\n"
   ]
  },
  {
   "cell_type": "code",
   "execution_count": null,
   "metadata": {},
   "outputs": [],
   "source": [
    "from neuropy.utils.neurons_util import acg_fit, acg_no_burst_fit\n",
    "from scipy.optimize import curve_fit\n",
    "from neuropy.utils.neurons_util import calculate_neurons_acg\n",
    "\n",
    "\n",
    "neurons = sess.neurons\n",
    "\n",
    "# Mua selection\n",
    "n_spikes = neurons.n_spikes\n",
    "isi = neurons.get_isi()\n",
    "ref_nspikes = isi[:, :2].sum(axis=1)\n",
    "violations = ref_nspikes * 100 / n_spikes\n",
    "mua_indx = violations > 1\n",
    "\n",
    "# too few spikes\n",
    "low_nspikes_indx = n_spikes < 1000\n",
    "\n",
    "\n",
    "bad_indx = np.logical_or(mua_indx, low_nspikes_indx)\n",
    "\n",
    "good_neurons = neurons[~bad_indx]\n",
    "good_nspikes = n_spikes[~bad_indx]\n",
    "\n",
    "acgs = calculate_neurons_acg(neurons, bin_size=0.0005, window_size=0.1)\n",
    "acgs[:, 100:105] = 0\n",
    "acgs = acgs / neurons.n_spikes.reshape(-1, 1) / 0.005\n",
    "t = np.arange(0.5, 50.5, 0.5)\n",
    "\n",
    "p_initial = [20, 1, 30, 2, 0.5, 5, 1.5, 0]\n",
    "\n",
    "params = []\n",
    "for i, y in enumerate(acgs):\n",
    "    lb = np.array([1, 0.1, -5, 0, -100, 0, 0.1, 0])\n",
    "    ub = np.array([500, 50, 500, 25, 70, 20, 5, 100])\n",
    "\n",
    "    try:\n",
    "        popt, pcov = curve_fit(\n",
    "            acg_no_burst_fit, t, y[101:], p0=p_initial[:-2], bounds=(lb[:-2], ub[:-2])\n",
    "        )\n",
    "    except:\n",
    "        popt, pcov = curve_fit(acg_fit, t, y[101:], p0=p_initial, bounds=(lb, ub))\n",
    "        # popt = np.concatenate([popt, [0, 0]])\n",
    "\n",
    "    params.append(popt)\n",
    "\n",
    "# params = np.array(params)\n",
    "# _, ax = plt.subplots()\n",
    "# ax.plot(t, y)\n",
    "# # ax.plot(t,np.exp(-(t-popt[5])/popt[0]))\n",
    "# ax.plot(t, acg_fit(t, *popt))\n"
   ]
  },
  {
   "cell_type": "code",
   "execution_count": null,
   "metadata": {},
   "outputs": [],
   "source": [
    "from neuropy.utils.neurons_util import calculate_neurons_acg\n",
    "\n",
    "neurons = sess.neurons.get_neuron_type(\"pyr\")\n",
    "acgs = calculate_neurons_acg(neurons)\n",
    "\n",
    "_, axs = plt.subplots(12, 11)\n",
    "axs = axs.reshape(-1)\n",
    "\n",
    "for i in range(neurons.n_neurons):\n",
    "    axs[i].plot(acgs[i])\n"
   ]
  },
  {
   "cell_type": "code",
   "execution_count": null,
   "metadata": {},
   "outputs": [],
   "source": [
    "_, ax = plt.subplots()\n",
    "\n",
    "ax.plot(acgs.max(axis=1), \".\")\n",
    "ax.axhline(1)\n"
   ]
  },
  {
   "cell_type": "code",
   "execution_count": null,
   "metadata": {},
   "outputs": [],
   "source": [
    "_, axs = plt.subplots(4, 4)\n",
    "\n",
    "low_acg = acgs[acgs.max(axis=1) < 8, :]\n",
    "axs = axs.reshape(-1)\n",
    "\n",
    "for i in range(16):\n",
    "    axs[i].plot(low_acg[i])\n",
    "    axs[i].set_title(low_acg[i].max())\n"
   ]
  },
  {
   "cell_type": "code",
   "execution_count": null,
   "metadata": {},
   "outputs": [],
   "source": [
    "np.vstack((np.arange(5), np.arange(5)))\n"
   ]
  },
  {
   "cell_type": "code",
   "execution_count": null,
   "metadata": {},
   "outputs": [],
   "source": [
    "_, ax = plt.subplots()\n",
    "\n",
    "# ax.plot(params[:, 0], params[:, 2], \".\")\n",
    "ax.plot(t, y[101:])\n",
    "# ax.plot(t, acg_fit(t, *popt))\n"
   ]
  },
  {
   "cell_type": "code",
   "execution_count": null,
   "metadata": {},
   "outputs": [],
   "source": [
    "_, axs = plt.subplots(11, 11, sharex=True)\n",
    "axs = axs.reshape(-1)\n",
    "\n",
    "for i, p in enumerate(params):\n",
    "    axs[i].plot(t, acgs[i][101:])\n",
    "    if len(p) < 8:\n",
    "        axs[i].plot(t, acg_no_burst_fit(t, *p))\n",
    "    else:\n",
    "        axs[i].plot(t, acg_fit(t, *p))\n"
   ]
  },
  {
   "cell_type": "code",
   "execution_count": null,
   "metadata": {},
   "outputs": [],
   "source": [
    "_, ax = plt.subplots()\n",
    "\n",
    "a = [_[0] for _ in params]\n",
    "b = [_[1] for _ in params]\n",
    "\n",
    "ax.scatter(a, b)\n",
    "ax.set_xscale(\"log\")\n",
    "# ax.set_yscale('log')\n"
   ]
  },
  {
   "cell_type": "code",
   "execution_count": null,
   "metadata": {},
   "outputs": [],
   "source": [
    "_, axs = plt.subplots(11, 11)\n",
    "axs = axs.reshape(-1)\n",
    "\n",
    "\n",
    "acgs = calculate_neurons_acg()\n",
    "for i in range(len(good_neurons)):\n",
    "    axs[i].plot(t, acgs[i][101:])\n",
    "    axs[i].plot(t, acg_fit(t, *params[i]))\n"
   ]
  },
  {
   "cell_type": "code",
   "execution_count": null,
   "metadata": {},
   "outputs": [],
   "source": [
    "params.shape\n"
   ]
  },
  {
   "attachments": {},
   "cell_type": "markdown",
   "metadata": {},
   "source": [
    "### Create MUA"
   ]
  },
  {
   "cell_type": "code",
   "execution_count": null,
   "metadata": {},
   "outputs": [],
   "source": [
    "mua = sess.neurons.get_mua()\n",
    "mua.save(sess.filePrefix.with_suffix(\".mua\"))\n"
   ]
  },
  {
   "cell_type": "markdown",
   "metadata": {},
   "source": [
    "### Position data"
   ]
  },
  {
   "cell_type": "code",
   "execution_count": null,
   "metadata": {},
   "outputs": [],
   "source": [
    "from neuropy.io import OptitrackIO\n",
    "from neuropy.core import Position\n",
    "from pathlib import Path\n",
    "\n",
    "opti_folder = sess.filePrefix.parent / \"position\"\n",
    "opti_data = OptitrackIO(dirname=opti_folder, scale_factor=0.25)\n"
   ]
  },
  {
   "cell_type": "code",
   "execution_count": null,
   "metadata": {},
   "outputs": [],
   "source": [
    "import pandas as pd\n",
    "from datetime import datetime\n",
    "\n",
    "# ------- maze align corection ---------\n",
    "t_error = [0] * 9\n",
    "\n",
    "# ---- startimes of concatenated .dat files\n",
    "tracking_sRate = opti_data.sampling_rate\n",
    "rec_datetime = pd.read_csv(sess.filePrefix.with_suffix(\".datetime.csv\"))\n",
    "data_time = []\n",
    "for i, file_time in enumerate(rec_datetime[\"StartTime\"]):\n",
    "    # sync_time = rec_datetime[\"sync_nframes\"][i] / rec_datetime[\"sync_rate\"][i]\n",
    "    tbegin = datetime.strptime(file_time, \"%Y-%m-%d_%H-%M-%S\") + pd.Timedelta(\n",
    "        t_error[i], unit=\"sec\"\n",
    "    )\n",
    "    nframes = rec_datetime[\"nFrames\"][i]\n",
    "    duration = pd.Timedelta(nframes / sess.recinfo.dat_sampling_rate, unit=\"sec\")\n",
    "    tend = tbegin + duration\n",
    "    trange = pd.date_range(\n",
    "        start=tbegin,\n",
    "        end=tend,\n",
    "        periods=int(duration.total_seconds() * tracking_sRate),\n",
    "        inclusive=\"left\",\n",
    "    )\n",
    "    data_time.extend(trange)\n",
    "data_time = pd.to_datetime(data_time)\n",
    "\n",
    "\n",
    "x, y, z = opti_data.get_position_at_datetimes(data_time)\n",
    "traces = np.vstack((z, x, y))\n",
    "\n",
    "position = Position(traces=traces, t_start=0, sampling_rate=opti_data.sampling_rate)\n",
    "position.save(sess.filePrefix.with_suffix(\".position.npy\"))\n",
    "\n",
    "\n",
    "_, ax = plt.subplots()\n",
    "ax.plot(position.time, position.x)\n"
   ]
  },
  {
   "cell_type": "code",
   "execution_count": null,
   "metadata": {},
   "outputs": [],
   "source": [
    "ax.plot(position.x, position.y)\n"
   ]
  },
  {
   "attachments": {},
   "cell_type": "markdown",
   "metadata": {},
   "source": [
    "### Linearize position"
   ]
  },
  {
   "cell_type": "code",
   "execution_count": null,
   "metadata": {},
   "outputs": [],
   "source": [
    "from neuropy.utils import position_util\n",
    "\n",
    "for e in [\"maze1\", \"maze2\"]:\n",
    "    maze = sess.paradigm[e].flatten()\n",
    "    maze_pos = sess.position.time_slice(maze[0], maze[1])\n",
    "    linear_pos = position_util.linearize_position(maze_pos)\n",
    "    # e = e.replace('-','')\n",
    "    linear_pos.save(sess.filePrefix.with_suffix(f\".{e}.linear\"))\n"
   ]
  },
  {
   "cell_type": "code",
   "execution_count": null,
   "metadata": {},
   "outputs": [],
   "source": [
    "_, ax = plt.subplots()\n",
    "ax.plot(sess.maze1.time, sess.maze1.x)\n",
    "ax.plot(sess.maze2.time, sess.maze2.x)\n"
   ]
  }
 ],
 "metadata": {
  "kernelspec": {
   "display_name": "data_analysis",
   "language": "python",
   "name": "python3"
  },
  "language_info": {
   "codemirror_mode": {
    "name": "ipython",
    "version": 3
   },
   "file_extension": ".py",
   "mimetype": "text/x-python",
   "name": "python",
   "nbconvert_exporter": "python",
   "pygments_lexer": "ipython3",
   "version": "3.11.0"
  },
  "orig_nbformat": 4,
  "vscode": {
   "interpreter": {
    "hash": "cce1618081139d19eb1ee8d40815d94a2de4f62e1efb20d9406ddb60628c36ae"
   }
  }
 },
 "nbformat": 4,
 "nbformat_minor": 2
}
