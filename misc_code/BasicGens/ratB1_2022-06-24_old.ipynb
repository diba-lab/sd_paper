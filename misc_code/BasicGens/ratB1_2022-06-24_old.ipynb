version https://git-lfs.github.com/spec/v1
oid sha256:938a25a74388afc16588bc926fa5271d2f1c38ddfc25ea60ea4cf718a5ed7b1e
size 17185
