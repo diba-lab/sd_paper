{
 "cells": [
  {
   "cell_type": "code",
   "execution_count": null,
   "metadata": {},
   "outputs": [],
   "source": [
    "from neuropy.io import NeuroscopeIO, BinarysignalIO\n",
    "from neuropy import core\n",
    "from pathlib import Path\n",
    "import numpy as np\n",
    "\n",
    "class ProcessData:\n",
    "    def __init__(self, basepath):\n",
    "        basepath = Path(basepath)\n",
    "        xml_files = sorted(basepath.glob(\"*.xml\"))\n",
    "        assert len(xml_files) == 1, \"Found more than one .xml file\"\n",
    "\n",
    "        fp = xml_files[0].with_suffix(\"\")\n",
    "        self.filePrefix = fp\n",
    "\n",
    "        self.recinfo = NeuroscopeIO(xml_files[0])\n",
    "        self.eegfile = BinarysignalIO(\n",
    "            self.recinfo.eeg_filename,\n",
    "            n_channels=self.recinfo.n_channels,\n",
    "            sampling_rate=self.recinfo.eeg_sampling_rate,\n",
    "        )\n",
    "\n",
    "        if self.recinfo.dat_filename.is_file():\n",
    "            self.datfile = BinarysignalIO(\n",
    "                self.recinfo.dat_filename,\n",
    "                n_channels=self.recinfo.n_channels,\n",
    "                sampling_rate=self.recinfo.dat_sampling_rate,\n",
    "            )\n",
    "            \n",
    "        self.paradigm = core.Epoch.from_file(fp.with_suffix(\".paradigm.npy\"))\n",
    "        self.probegroup = core.ProbeGroup.from_file(fp.with_suffix(\".probegroup.npy\"))\n",
    "        self.ripple = core.Epoch.from_file(fp.with_suffix(\".ripple.npy\"))\n",
    "\n",
    "        if (f := self.filePrefix.with_suffix(\".neurons.npy\")).is_file():\n",
    "            d = np.load(f, allow_pickle=True).item()\n",
    "            self.neurons = core.Neurons.from_dict(d)\n",
    "\n",
    "        if (f := self.filePrefix.with_suffix(\".position.npy\")).is_file():\n",
    "            d = np.load(f, allow_pickle=True).item()\n",
    "            self.position = core.Position.from_dict(d)\n",
    "\n",
    "        if (f := self.filePrefix.with_suffix(\".maze1.linear.npy\")).is_file():\n",
    "            d = np.load(f, allow_pickle=True).item()\n",
    "            self.maze1 = core.Position.from_dict(d)\n",
    "\n",
    "\n",
    "        if (f := self.filePrefix.with_suffix(\".maze2.linear.npy\")).is_file():\n",
    "            d = np.load(f, allow_pickle=True).item()\n",
    "            self.maze2 = core.Position.from_dict(d)\n",
    "\n",
    "    def __repr__(self) -> str:\n",
    "        return f\"{self.__class__.__name__}({self.recinfo.source_file.name})\"\n",
    "\n",
    "\n",
    "def ratSTwoNovel():\n",
    "    basepath='/data/Clustering/sessions/RatS/Day5TwoNovel'\n",
    "    return ProcessData(basepath)"
   ]
  },
  {
   "cell_type": "markdown",
   "metadata": {},
   "source": [
    "# Calculating the placefields"
   ]
  },
  {
   "cell_type": "code",
   "execution_count": null,
   "metadata": {},
   "outputs": [],
   "source": [
    "from neuropy.analyses import Pf1D\n",
    "\n",
    "sess = ratSTwoNovel()\n",
    "pyr_neurons = sess.neurons.get_neuron_type('pyr')\n",
    "linearized_pos = sess.maze1\n",
    "pf = Pf1D(neurons=pyr_neurons,position=linearized_pos,speed_thresh=4,grid_bin=10)"
   ]
  },
  {
   "cell_type": "markdown",
   "metadata": {},
   "source": [
    "# Plotting place fields"
   ]
  },
  {
   "cell_type": "code",
   "execution_count": null,
   "metadata": {},
   "outputs": [],
   "source": [
    "%matplotlib inline\n",
    "\n",
    "from neuropy import plotting\n",
    "plotting.plot_ratemap(pf.ratemap,normalize_tuning_curve=True)"
   ]
  },
  {
   "cell_type": "markdown",
   "metadata": {},
   "source": [
    "# Position decoding"
   ]
  },
  {
   "cell_type": "code",
   "execution_count": null,
   "metadata": {},
   "outputs": [],
   "source": [
    "from neuropy.analyses import Decode1d\n",
    "\n",
    "maze1 = sess.paradigm['maze1']\n",
    "rpls = sess.ripple.time_slice(maze1[0],maze1[1])\n",
    "pf_neurons =pyr_neurons.get_by_id(pf.ratemap.neuron_ids) \n",
    "decode = Decode1d(neurons=pf_neurons,ratemap = pf.ratemap,epochs=rpls,bin_size=0.02)"
   ]
  }
 ],
 "metadata": {
  "interpreter": {
   "hash": "cce1618081139d19eb1ee8d40815d94a2de4f62e1efb20d9406ddb60628c36ae"
  },
  "kernelspec": {
   "display_name": "Python 3.9.7 64-bit ('data_analysis': conda)",
   "language": "python",
   "name": "python3"
  },
  "language_info": {
   "codemirror_mode": {
    "name": "ipython",
    "version": 3
   },
   "file_extension": ".py",
   "mimetype": "text/x-python",
   "name": "python",
   "nbconvert_exporter": "python",
   "pygments_lexer": "ipython3",
   "version": "3.9.7"
  },
  "orig_nbformat": 4
 },
 "nbformat": 4,
 "nbformat_minor": 2
}
