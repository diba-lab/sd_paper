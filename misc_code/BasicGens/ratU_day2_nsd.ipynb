version https://git-lfs.github.com/spec/v1
oid sha256:b7b4a98d4ebbd6eff02eceac05f1c77d4e06f84635a4f80da5d80d9134361f26
size 22847
