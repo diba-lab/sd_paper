{
 "cells": [
  {
   "attachments": {},
   "cell_type": "markdown",
   "metadata": {},
   "source": [
    "### Converting Grosmark's data to neuropy format"
   ]
  },
  {
   "cell_type": "code",
   "execution_count": null,
   "metadata": {},
   "outputs": [],
   "source": [
    "from neuropy.core import Neurons, Epoch\n",
    "import numpy as np\n",
    "import scipy.io as sio\n",
    "from pathlib import Path\n",
    "import pandas as pd\n",
    "\n",
    "basepath = Path(\"/data/Clustering/sessions/GrosmarkReclusteredData/\")\n",
    "\n",
    "sessions = [\n",
    "    \"Achilles_10252013\",\n",
    "    \"Achilles_11012013\",\n",
    "    \"Buddy_06272013\",\n",
    "    \"Cicero_09172014\",\n",
    "    \"Gatsby_08282013\",\n",
    "]\n",
    "spkdata = sio.loadmat(basepath / \"CRCNSReclustered-spikes.mat\")[\"spikes\"]\n",
    "statesdata = sio.loadmat(basepath / \"CRCNSReclustered-behavior.mat\")[\"behavior\"]\n",
    "# prdigmdata = basepath/'wake_new/wake-behavior.mat'\n",
    "\n",
    "for i, name in enumerate(sessions):\n",
    "    sessdata = spkdata[name][0][0]\n",
    "    spiketrains = sessdata[\"time\"].squeeze()\n",
    "    neuron_type_id = sessdata[\"quality\"].astype(float).squeeze()\n",
    "    neuron_type = np.ones(len(neuron_type_id), dtype=\"U5\")\n",
    "    neuron_type[neuron_type_id < 4] = \"pyr\"\n",
    "    # neuron_type[neuron_type_id == 6] = \"mua\"\n",
    "    neuron_type[neuron_type_id == 8] = \"inter\"\n",
    "\n",
    "    shank_ids = np.array([_.astype(int).squeeze() for _ in sessdata[\"id\"].squeeze()])\n",
    "    shank_ids = shank_ids[:, 0]\n",
    "\n",
    "    sessbehav = statesdata[name][0][0]\n",
    "\n",
    "    pre = sessbehav[\"PREEpoch\"][0][0]\n",
    "    maze = sessbehav[\"MazeEpoch\"][0][0]\n",
    "    post = sessbehav[\"POSTEpoch\"][0][0]\n",
    "    paradigm_epoch = np.vstack((pre, maze, post))\n",
    "\n",
    "    wake_epoch = Epoch.from_array(*sessbehav[\"Wake\"][0][0].T, \"AW\")\n",
    "    nrem_epoch = Epoch.from_array(*sessbehav[\"NREM\"][0][0].T, \"NREM\")\n",
    "    qw_epoch = Epoch.from_array(*sessbehav[\"Drowsy\"][0][0].T, \"QW\")\n",
    "    im_epoch = Epoch.from_array(*sessbehav[\"Intermediate\"][0][0].T, \"QW\")\n",
    "    rem_epoch = Epoch.from_array(*sessbehav[\"REM\"][0][0].T, \"REM\")\n",
    "\n",
    "    neurons = Neurons(\n",
    "        spiketrains=spiketrains,\n",
    "        t_start=paradigm_epoch[0, 0],\n",
    "        t_stop=paradigm_epoch[-1, -1],\n",
    "        shank_ids=shank_ids,\n",
    "        neuron_type=neuron_type,\n",
    "    )\n",
    "\n",
    "    paradigm = Epoch.from_array(\n",
    "        paradigm_epoch[:, 0], paradigm_epoch[:, 1], [\"pre\", \"maze\", \"post\"]\n",
    "    )\n",
    "\n",
    "    brainstates = wake_epoch + nrem_epoch + qw_epoch + im_epoch + rem_epoch\n",
    "    brainstates = brainstates.duration_slice(0.5)\n",
    "\n",
    "    sesspath = basepath / name\n",
    "    # sesspath.mkdir()\n",
    "    neurons.save(sesspath / f\"{name}.neurons.npy\")\n",
    "    paradigm.save(sesspath / f\"{name}.paradigm.npy\")\n",
    "    brainstates.save(sesspath / f\"{name}.brainstates.npy\")\n"
   ]
  },
  {
   "cell_type": "code",
   "execution_count": null,
   "metadata": {},
   "outputs": [],
   "source": [
    "brainstates.to_dataframe()\n"
   ]
  }
 ],
 "metadata": {
  "kernelspec": {
   "display_name": "ephys_analysis",
   "language": "python",
   "name": "python3"
  },
  "language_info": {
   "codemirror_mode": {
    "name": "ipython",
    "version": 3
   },
   "file_extension": ".py",
   "mimetype": "text/x-python",
   "name": "python",
   "nbconvert_exporter": "python",
   "pygments_lexer": "ipython3",
   "version": "3.11.0"
  },
  "orig_nbformat": 4
 },
 "nbformat": 4,
 "nbformat_minor": 2
}
