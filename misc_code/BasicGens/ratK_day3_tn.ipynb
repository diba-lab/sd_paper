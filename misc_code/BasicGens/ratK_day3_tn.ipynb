version https://git-lfs.github.com/spec/v1
oid sha256:61e7efd59a49551fb4f5f59da1941bb9ef606007636bb0f9998b56807e5502f1
size 202897
