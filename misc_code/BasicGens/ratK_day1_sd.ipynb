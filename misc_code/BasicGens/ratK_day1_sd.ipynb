version https://git-lfs.github.com/spec/v1
oid sha256:c93d17cb579b2c6fc339b2e0e461ed1b78cbc180e2d2583feb30852c8ca3745c
size 12414
