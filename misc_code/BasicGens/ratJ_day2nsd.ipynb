version https://git-lfs.github.com/spec/v1
oid sha256:80a39dedeed552bfd491f848580283dc2ce39af477fa743a65944ccba66369aa
size 71448
