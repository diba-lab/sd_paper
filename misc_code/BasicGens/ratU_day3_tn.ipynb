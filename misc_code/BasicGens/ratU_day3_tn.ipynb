version https://git-lfs.github.com/spec/v1
oid sha256:99424852309192cdc8e6949965fa767fff0067ee2f267d02bd95ed756c8db6ec
size 11654
