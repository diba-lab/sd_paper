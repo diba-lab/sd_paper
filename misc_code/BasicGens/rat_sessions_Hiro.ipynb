{
 "cells": [
  {
   "attachments": {},
   "cell_type": "markdown",
   "metadata": {},
   "source": [
    "### Converting Hiro's data to neuropy format"
   ]
  },
  {
   "cell_type": "code",
   "execution_count": null,
   "metadata": {},
   "outputs": [],
   "source": [
    "from neuropy.core import Neurons, Epoch\n",
    "import numpy as np\n",
    "import scipy.io as sio\n",
    "from pathlib import Path\n",
    "import pandas as pd\n",
    "\n",
    "basepath = Path(\"/data/Clustering/sessions/Hiro/\")\n",
    "\n",
    "sessions = [\n",
    "    \"RoyMaze1\",\n",
    "    \"RoyMaze2\",\n",
    "    \"RoyMaze3\",\n",
    "    \"TedMaze1\",\n",
    "    \"TedMaze2\",\n",
    "    \"TedMaze3\",\n",
    "    \"KevinMaze1\",\n",
    "]\n",
    "spkdata = sio.loadmat(basepath / \"wake_new/wake-spikes.mat\")[\"spikes\"]\n",
    "statesdata = sio.loadmat(basepath / \"wake_new/wake-behavior1.mat\")[\"behavior\"]\n",
    "# prdigmdata = basepath/'wake_new/wake-behavior.mat'\n",
    "\n",
    "for i, name in enumerate(sessions):\n",
    "    sessdata = spkdata[name][0][0]\n",
    "    spiketrains = sessdata[\"time\"].squeeze() / 1e6  # in seconds\n",
    "    neuron_type_id = sessdata[\"quality\"].astype(float).squeeze()\n",
    "    neuron_type = np.ones(len(neuron_type_id), dtype=\"U5\")\n",
    "    neuron_type[neuron_type_id < 4] = \"pyr\"\n",
    "    # neuron_type[neuron_type_id == 6] = \"mua\"\n",
    "    neuron_type[neuron_type_id == 8] = \"inter\"\n",
    "\n",
    "    shank_ids = np.array([_.astype(int).squeeze() for _ in sessdata[\"id\"].squeeze()])\n",
    "    shank_ids = shank_ids[:, 0]\n",
    "\n",
    "    sessbehav = statesdata[name][0][0]\n",
    "    paradigm_epoch = (sessbehav[\"time\"][0][0]) / 1e6  # in seconds\n",
    "    states_epoch = sessbehav[\"list\"][0][0]\n",
    "    states_epoch[:, :2] = states_epoch[:, :2] / 1e6  # in seconds\n",
    "    states_type = np.ones(states_epoch.shape[0], dtype=\"U4\")\n",
    "    states_type[states_epoch[:, 2] == 1] = \"NREM\"\n",
    "    states_type[states_epoch[:, 2] == 2] = \"REM\"\n",
    "    states_type[states_epoch[:, 2] == 3] = \"QW\"\n",
    "    states_type[states_epoch[:, 2] == 4] = \"AW\"\n",
    "\n",
    "    neurons = Neurons(\n",
    "        spiketrains=spiketrains,\n",
    "        t_start=paradigm_epoch[0, 0],\n",
    "        t_stop=paradigm_epoch[-1, -1],\n",
    "        shank_ids=shank_ids,\n",
    "        neuron_type=neuron_type,\n",
    "    )\n",
    "\n",
    "    if paradigm_epoch.shape[0] > 3:\n",
    "        paradigm_epoch[1, 1] = paradigm_epoch[2, 1]\n",
    "        paradigm_epoch = np.delete(paradigm_epoch, 2, 0)\n",
    "\n",
    "    paradigm = Epoch.from_array(\n",
    "        paradigm_epoch[:, 0], paradigm_epoch[:, 1], [\"pre\", \"maze\", \"post\"]\n",
    "    )\n",
    "\n",
    "    brainstates = Epoch.from_array(states_epoch[:, 0], states_epoch[:, 1], states_type)\n",
    "\n",
    "    sesspath = basepath / name\n",
    "    # sesspath.mkdir()\n",
    "    neurons.save(sesspath / f\"{name}.neurons.npy\")\n",
    "    paradigm.save(sesspath / f\"{name}.paradigm.npy\")\n",
    "    brainstates.save(sesspath / f\"{name}.brainstates.npy\")\n"
   ]
  }
 ],
 "metadata": {
  "interpreter": {
   "hash": "cce1618081139d19eb1ee8d40815d94a2de4f62e1efb20d9406ddb60628c36ae"
  },
  "kernelspec": {
   "display_name": "Python 3.9.7 64-bit ('data_analysis': conda)",
   "name": "python3"
  },
  "language_info": {
   "codemirror_mode": {
    "name": "ipython",
    "version": 3
   },
   "file_extension": ".py",
   "mimetype": "text/x-python",
   "name": "python",
   "nbconvert_exporter": "python",
   "pygments_lexer": "ipython3",
   "version": "3.10.10"
  },
  "orig_nbformat": 4
 },
 "nbformat": 4,
 "nbformat_minor": 2
}
