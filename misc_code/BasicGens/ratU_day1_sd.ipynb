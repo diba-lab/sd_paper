{
 "cells": [
  {
   "attachments": {},
   "cell_type": "markdown",
   "metadata": {},
   "source": [
    "### Channel reordering of .dat and .eeg to be consistent with other ratU sessions\n",
    "Original .dat file (located in google_shared_drive/diba lab data/Bapun/RatUDay1SD/Raw_data/RatU_Day1SD_256chan_64badchan_and_not_channel_odrdered.dat) which has 256 channels out of which 64 channels were bad. So new files below have only 192 channels and channels were re-ordered to reflect depthwise channel mapping:\n",
    "- .eeg file channels were re-ordered using python\n",
    "- .dat file channels were re-ordered using process_extractchannels"
   ]
  },
  {
   "cell_type": "code",
   "execution_count": null,
   "metadata": {},
   "outputs": [],
   "source": [
    "from pathlib import Path\n",
    "import numpy as np\n",
    "import subjects\n",
    "\n",
    "# --- Original channel order of ratU file is similar to ratN, so getting channel order from there -----\n",
    "sess = subjects.sd.ratNday1[0]\n",
    "chan_order = np.concatenate(sess.recinfo.channel_groups)\n",
    "\n",
    "# ---- ratN had only one 8-shank diagbio probe, but ratU had 2 of these, with 64 channels bad in second probe ----\n",
    "chan_order = np.concatenate([chan_order, chan_order[:64] + 128]).astype(\"int\")\n",
    "\n",
    "basefolder = Path(\"/data2/Clustering/RatU/RatUDay1SD/\")\n",
    "file = basefolder / \"RatU_Day1SD_2021-07-22_07-55-46.eeg\"\n",
    "n_channels = 256\n",
    "\n",
    "# ---- reordering (uncomment to run again) --------\n",
    "# data = np.memmap(file, dtype=\"int16\", mode=\"r\").reshape(-1, n_channels)[:,chan_order]\n",
    "# data.tofile(basefolder/'RatU_192chan1.eeg',format='int16')\n",
    "\n",
    "# ---- chan_order was written to text file for using in process_extractchannels\n",
    "# textfile = open(sess.filePrefix.with_suffix('.channels.txt'), \"w\")\n",
    "# for element in list(chan_order):\n",
    "#     textfile.write(str(element) + \" \")\n",
    "# textfile.close()"
   ]
  },
  {
   "attachments": {},
   "cell_type": "markdown",
   "metadata": {},
   "source": [
    "### RatU Day1 SD recording info\n",
    "- No timestamps were deleted after concatenating .dat files from various folders of open-ephys"
   ]
  },
  {
   "cell_type": "code",
   "execution_count": 1,
   "metadata": {},
   "outputs": [
    {
     "name": "stdout",
     "output_type": "stream",
     "text": [
      "filename: /data/Clustering/sessions/RatU/RatUDay1SD/RatU_Day1SD_2021-07-22_07-55-46.xml \n",
      "# channels: 192\n",
      "sampling rate: 30000\n",
      "lfp Srate (downsampled): 1250\n",
      "\n"
     ]
    }
   ],
   "source": [
    "import numpy as np\n",
    "import subjects\n",
    "import matplotlib.pyplot as plt\n",
    "from neuropy.utils import position_util\n",
    "\n",
    "sess = subjects.sd.ratUday1[0]\n",
    "print(sess.recinfo)"
   ]
  },
  {
   "attachments": {},
   "cell_type": "markdown",
   "metadata": {},
   "source": [
    "### Set probe configuration\n",
    "- RatU_Day1SD has two probes: both 128chan-8shanks diagnostic biochips.\n",
    "- 64 channels in one of the probes (implanted in left hemisphere) had no signal from 4 shanks (probably one of the intan chips was faulty). So only 192 channels were recorded, the channels in .dat file are already order according to depth.\n"
   ]
  },
  {
   "cell_type": "code",
   "execution_count": null,
   "metadata": {},
   "outputs": [],
   "source": [
    "%matplotlib widget\n",
    "from neuropy.core import Shank,Probe, ProbeGroup\n",
    "from neuropy.plotting import plot_probe\n",
    "\n",
    "shanks = []\n",
    "channel_groups = sess.recinfo.channel_groups\n",
    "badchans = sess.recinfo.skipped_channels\n",
    "\n",
    "#--- diagnostic-biochip 8 shanks -----------\n",
    "for i in range(8):\n",
    "    chans = channel_groups[i]\n",
    "    shank =Shank.auto_generate(\n",
    "        columns=2,\n",
    "        contacts_per_column=8,\n",
    "        xpitch=15,\n",
    "        ypitch=30,\n",
    "        y_shift_per_column=[0,-15],\n",
    "        channel_id=np.append(\n",
    "            channel_groups[i][::2][::-1], channel_groups[i][1::2][::-1]\n",
    "        ),\n",
    "    )\n",
    "    shank.set_disconnected_channels(sess.recinfo.skipped_channels)\n",
    "    shanks.append(shank)\n",
    "\n",
    "probe1 = Probe(shanks)\n",
    "\n",
    "#--- dignostic biochip 4 shanks (4 shanks were bad) ----------- \n",
    "shanks = []\n",
    "for i in range(8,12):\n",
    "\n",
    "    shank = shank.auto_generate(\n",
    "        columns=2,\n",
    "        contacts_per_column=8,\n",
    "        xpitch=15,\n",
    "        ypitch=30,\n",
    "        y_shift_per_column=[0, -15],\n",
    "        channel_id=np.append(\n",
    "            channel_groups[i][::2][::-1], channel_groups[i][1::2][::-1]\n",
    "        ),\n",
    "    )\n",
    "    shank.set_disconnected_channels(sess.recinfo.skipped_channels)\n",
    "    shanks.append(shank)\n",
    "\n",
    "\n",
    "probe2 = Probe(shanks)\n",
    "probe2.move((probe1.x_max+500,0))\n",
    "\n",
    "prbgrp =ProbeGroup()\n",
    "prbgrp.add_probe(probe1)\n",
    "prbgrp.add_probe(probe2)\n",
    "\n",
    "prbgrp.save(sess.filePrefix.with_suffix('.probegroup.npy'))\n",
    "plot_probe(prbgrp)"
   ]
  },
  {
   "attachments": {},
   "cell_type": "markdown",
   "metadata": {},
   "source": [
    "### Writing to json format for spyking-circus "
   ]
  },
  {
   "cell_type": "code",
   "execution_count": null,
   "metadata": {},
   "outputs": [],
   "source": [
    "from neuropy.utils import probe_util\n",
    "\n",
    "file = sess.filePrefix.with_suffix(\".prb\")\n",
    "probe_util.write_spyking_circus(\n",
    "    file, sess.probegroup, rmv_badchans=True, combine_shanks=True\n",
    ")"
   ]
  },
  {
   "attachments": {},
   "cell_type": "markdown",
   "metadata": {},
   "source": [
    "# Create experimental paradigm\n",
    "- pre sleep is a little shorter\n",
    "- animal was lazy on re-maze"
   ]
  },
  {
   "cell_type": "code",
   "execution_count": null,
   "metadata": {},
   "outputs": [],
   "source": [
    "sess.paradigm.to_dataframe()"
   ]
  },
  {
   "cell_type": "code",
   "execution_count": null,
   "metadata": {},
   "outputs": [],
   "source": [
    "import pandas as pd\n",
    "from neuropy.core import Epoch\n",
    "\n",
    "datetime_data = pd.read_csv(sess.filePrefix.with_suffix(\".datetime.csv\"))\n",
    "durations = datetime_data.nFrames / sess.recinfo.dat_sampling_rate\n",
    "epochs = pd.DataFrame(\n",
    "    {\n",
    "        \"start\": [0, 10371, 13683, 31691, 13683, 46094],\n",
    "        \"stop\": [10370, 13682, 31691, 46093, 46093, 49832],\n",
    "        \"label\": [\"pre\", \"maze\", \"sd\", \"rs\", \"post\", \"re-maze\"],\n",
    "    }\n",
    ")\n",
    "\n",
    "paradigm = Epoch(epochs=epochs)\n",
    "paradigm.save(sess.filePrefix.with_suffix(\".paradigm.npy\"))"
   ]
  },
  {
   "cell_type": "code",
   "execution_count": null,
   "metadata": {},
   "outputs": [],
   "source": [
    "paradigm.to_dataframe()"
   ]
  },
  {
   "cell_type": "code",
   "execution_count": null,
   "metadata": {},
   "outputs": [],
   "source": [
    "paradigm.durations / 3600"
   ]
  },
  {
   "attachments": {},
   "cell_type": "markdown",
   "metadata": {},
   "source": [
    "# Detect epochs\n",
    "Here we will various types of epochs which typical for hippocampal recordings."
   ]
  },
  {
   "attachments": {},
   "cell_type": "markdown",
   "metadata": {},
   "source": [
    "## Artifacts epochs\n",
    "A typical session will have some artifacts that may negatively influence many analyses. Using a simple zscore measure, we can identify epochs where signal is above some threshold."
   ]
  },
  {
   "cell_type": "code",
   "execution_count": 2,
   "metadata": {},
   "outputs": [
    {
     "name": "stdout",
     "output_type": "stream",
     "text": [
      "/data/Clustering/sessions/RatU/RatUDay1SD/RatU_Day1SD_2021-07-22_07-55-46.artifact.npy saved\n"
     ]
    }
   ],
   "source": [
    "from neuropy.analyses import detect_artifact_epochs\n",
    "from neuropy import plotting\n",
    "from neuropy.utils import signal_process\n",
    "from neuropy.core import Signal\n",
    "\n",
    "signal = sess.eegfile.get_signal(102)\n",
    "# filt_trace = signal_process.filter_sig.highpass(signal.traces,cutoff=400)\n",
    "# filtered_signal = Signal(np.median(filt_trace,axis=0).reshape((1,-1)),signal.sampling_rate)\n",
    "artifact_epochs = detect_artifact_epochs(signal, thresh=7)\n",
    "artifact_epochs.ex\n",
    "artifact_epochs.save(sess.filePrefix.with_suffix(\".artifact.npy\"))"
   ]
  },
  {
   "cell_type": "code",
   "execution_count": 3,
   "metadata": {},
   "outputs": [
    {
     "data": {
      "text/plain": [
       "<Axes: xlabel='Time (s)', ylabel='Absolute zscore'>"
      ]
     },
     "execution_count": 3,
     "metadata": {},
     "output_type": "execute_result"
    },
    {
     "data": {
      "application/vnd.jupyter.widget-view+json": {
       "model_id": "be702af7625c4243b32540201e144167",
       "version_major": 2,
       "version_minor": 0
      },
      "image/png": "[encoded data removed]",
      "text/html": [
       "\n",
       "            <div style=\"display: inline-block;\">\n",
       "                <div class=\"jupyter-widgets widget-label\" style=\"text-align: center;\">\n",
       "                    Figure\n",
       "                </div>\n",
       "                <img src='data:image/png;base64,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' width=640.0/>\n",
       "            </div>\n",
       "        "
      ],
      "text/plain": [
       "Canvas(toolbar=Toolbar(toolitems=[('Home', 'Reset original view', 'home', 'home'), ('Back', 'Back to previous …"
      ]
     },
     "metadata": {},
     "output_type": "display_data"
    }
   ],
   "source": [
    "from neuropy import plotting\n",
    "\n",
    "signal = sess.eegfile.get_signal([102])\n",
    "# signal = Signal(filtered_signal.traces[0].reshape(1,-1),sampling_rate=1250)\n",
    "plotting.plot_artifact_epochs(sess.artifact, signal)"
   ]
  },
  {
   "attachments": {},
   "cell_type": "markdown",
   "metadata": {},
   "source": [
    "### write artifact to neuroscope"
   ]
  },
  {
   "cell_type": "code",
   "execution_count": null,
   "metadata": {},
   "outputs": [],
   "source": [
    "sess.recinfo.write_epochs(sess.artifact, ext=\".art\")"
   ]
  },
  {
   "attachments": {},
   "cell_type": "markdown",
   "metadata": {},
   "source": [
    "### write artifact epochs to spyking circus format"
   ]
  },
  {
   "cell_type": "code",
   "execution_count": null,
   "metadata": {},
   "outputs": [],
   "source": [
    "from neuropy.io import SpykingCircusIO\n",
    "\n",
    "file = sess.filePrefix.with_suffix(\".dead\")\n",
    "SpykingCircusIO.write_epochs(file, sess.artifact)"
   ]
  },
  {
   "attachments": {},
   "cell_type": "markdown",
   "metadata": {},
   "source": [
    "## Sleep scoring"
   ]
  },
  {
   "cell_type": "code",
   "execution_count": null,
   "metadata": {},
   "outputs": [],
   "source": [
    "signal.duration"
   ]
  },
  {
   "cell_type": "code",
   "execution_count": null,
   "metadata": {},
   "outputs": [],
   "source": [
    "sig.t_stop"
   ]
  },
  {
   "cell_type": "code",
   "execution_count": null,
   "metadata": {},
   "outputs": [],
   "source": [
    "from neuropy.utils.signal_process import filter_sig\n",
    "\n",
    "sig = signal.time_slice(t_start=30, t_stop=40)\n",
    "\n",
    "yf = filter_sig.bandpass(sig.traces, lf=300, hf=600, fs=1250)"
   ]
  },
  {
   "cell_type": "code",
   "execution_count": null,
   "metadata": {},
   "outputs": [],
   "source": [
    "np.arange(0, signal.duration - 5, 3)[-2:]"
   ]
  },
  {
   "cell_type": "code",
   "execution_count": null,
   "metadata": {},
   "outputs": [],
   "source": [
    "from neuropy.core import Signal\n",
    "from neuropy.analyses import brainstates\n",
    "\n",
    "signal = sess.eegfile.get_signal()\n",
    "brainstates = brainstates.detect_brainstates_epochs(\n",
    "    signal=signal, probe=sess.probegroup, window=5, overlap=2\n",
    ")"
   ]
  },
  {
   "cell_type": "code",
   "execution_count": null,
   "metadata": {},
   "outputs": [],
   "source": [
    "brainstates.filename = sess.filePrefix.with_suffix(\".brainstates\")\n",
    "brainstates.save()"
   ]
  },
  {
   "attachments": {},
   "cell_type": "markdown",
   "metadata": {},
   "source": [
    "## Ripple epochs\n",
    "To detect ripples one also needs probegroup."
   ]
  },
  {
   "cell_type": "code",
   "execution_count": null,
   "metadata": {},
   "outputs": [],
   "source": [
    "from neuropy.analyses import oscillations\n",
    "\n",
    "signal = sess.eegfile.get_signal()\n",
    "ripple_epochs = oscillations.detect_ripple_epochs(\n",
    "    signal=signal,\n",
    "    probegroup=sess.probegroup,\n",
    "    freq_band=(125, 250),\n",
    "    ignore_epochs=sess.artifact,\n",
    ")\n",
    "ripple_epochs.save(sess.filePrefix.with_suffix(\".ripple.npy\"))"
   ]
  },
  {
   "cell_type": "code",
   "execution_count": null,
   "metadata": {},
   "outputs": [],
   "source": [
    "signal = sess.eegfile.get_signal(channel_id=[1, 2, 3, 4], t_start=1, t_stop=1.2)\n",
    "plotting.plot_signal_traces(signal)"
   ]
  },
  {
   "attachments": {},
   "cell_type": "markdown",
   "metadata": {},
   "source": [
    "# Neurons"
   ]
  },
  {
   "attachments": {},
   "cell_type": "markdown",
   "metadata": {},
   "source": [
    "## Importing spiketrains from Phy"
   ]
  },
  {
   "cell_type": "code",
   "execution_count": null,
   "metadata": {},
   "outputs": [],
   "source": [
    "from neuropy.io import PhyIO\n",
    "from neuropy.core import Neurons\n",
    "from pathlib import Path\n",
    "import numpy as np\n",
    "\n",
    "cluster_path = Path(\n",
    "    \"/home/bapung/Documents/ClusteringHub/spykcirc/RatU/RatUDay1SD/RatU_Day1SD_2021-07-22_07-55-46-1.GUI\"\n",
    ")\n",
    "chan_grps = sess.recinfo.channel_groups\n",
    "phy_data = PhyIO(cluster_path)\n",
    "spiketrains = phy_data.spiketrains\n",
    "peak_chans = phy_data.peak_channels\n",
    "waveforms = phy_data.waveforms\n",
    "shank_id = sess.probegroup.get_shank_id_for_channels(peak_chans)\n",
    "\n",
    "neuron_type_id = phy_data.cluster_info.q.values\n",
    "neuron_type = np.ones(len(neuron_type_id), dtype=\"U5\")\n",
    "neuron_type[neuron_type_id < 4] = \"pyr\"\n",
    "neuron_type[neuron_type_id == 6] = \"mua\"\n",
    "neuron_type[neuron_type_id == 8] = \"inter\"\n",
    "\n",
    "\n",
    "neurons = Neurons(\n",
    "    np.array(spiketrains, dtype=object),\n",
    "    t_stop=sess.eegfile.duration,\n",
    "    sampling_rate=phy_data.sampling_rate,\n",
    "    peak_channels=peak_chans,\n",
    "    waveforms=np.array(waveforms, dtype=\"object\"),\n",
    "    shank_ids=np.array(shank_id).astype(int),\n",
    "    neuron_type=neuron_type,\n",
    "    metadata={\"cluster_path\": str(cluster_path)},\n",
    ")\n",
    "\n",
    "neurons.save(sess.filePrefix.with_suffix(\".neurons\"))"
   ]
  },
  {
   "cell_type": "code",
   "execution_count": null,
   "metadata": {},
   "outputs": [],
   "source": [
    "import matplotlib.pyplot as plt\n",
    "from neuropy.plotting import plot_raster\n",
    "\n",
    "\n",
    "plt.plot(phy_data.peak_waveforms[0])\n",
    "plot_raster(neurons, color=\"jet\", add_vert_jitter=True)"
   ]
  },
  {
   "attachments": {},
   "cell_type": "markdown",
   "metadata": {},
   "source": [
    "## BinnedSpiketrain and Mua objects using Neurons"
   ]
  },
  {
   "cell_type": "code",
   "execution_count": null,
   "metadata": {},
   "outputs": [],
   "source": [
    "mua = sess.neurons.get_mua()\n",
    "mua.save(sess.filePrefix.with_suffix(\".mua.npy\"))"
   ]
  },
  {
   "cell_type": "code",
   "execution_count": null,
   "metadata": {},
   "outputs": [],
   "source": [
    "%matplotlib widget\n",
    "from neuropy import plotting\n",
    "smth_mua = sess.mua.get_smoothed(sigma=0.02)\n",
    "plotting.plot_mua(smth_mua)"
   ]
  },
  {
   "cell_type": "code",
   "execution_count": null,
   "metadata": {},
   "outputs": [],
   "source": [
    "from neuropy.analyses import detect_pbe_epochs\n",
    "\n",
    "pbe = detect_pbe_epochs(smth_mua)\n",
    "pbe.filename = sess.filePrefix.with_suffix(\".pbe\")\n",
    "pbe.save()"
   ]
  },
  {
   "attachments": {},
   "cell_type": "markdown",
   "metadata": {},
   "source": [
    "# Position\n",
    "- concatenated .dat file did not have any deleted timepoints"
   ]
  },
  {
   "attachments": {},
   "cell_type": "markdown",
   "metadata": {},
   "source": [
    "## Import position from optitrack"
   ]
  },
  {
   "cell_type": "code",
   "execution_count": null,
   "metadata": {},
   "outputs": [],
   "source": [
    "from neuropy.io import OptitrackIO\n",
    "from neuropy.core import Position\n",
    "from pathlib import Path\n",
    "\n",
    "opti_folder = sess.filePrefix.parent / \"position\"\n",
    "opti_data = OptitrackIO(dirname=opti_folder, scale_factor=0.25)"
   ]
  },
  {
   "cell_type": "code",
   "execution_count": null,
   "metadata": {},
   "outputs": [],
   "source": [
    "opti_data.datetime_starts"
   ]
  },
  {
   "attachments": {},
   "cell_type": "markdown",
   "metadata": {},
   "source": [
    "## Align position with .dat file"
   ]
  },
  {
   "cell_type": "code",
   "execution_count": null,
   "metadata": {},
   "outputs": [],
   "source": [
    "import pandas as pd\n",
    "from datetime import datetime\n",
    "\n",
    "# ------- maze align corection ---------\n",
    "t_error = [0, 0, 0, 0, 0.72, 0, 0, 0.26]  # estimated using theta/speed\n",
    "\n",
    "# ---- startimes of concatenated .dat files\n",
    "tracking_sRate = opti_data.sampling_rate\n",
    "rec_datetime = pd.read_csv(sess.filePrefix.with_suffix(\".datetime.csv\"))\n",
    "data_time = []\n",
    "for i, file_time in enumerate(rec_datetime[\"startTime\"]):\n",
    "    # sync_time = rec_datetime['sync_nframes'][i]/rec_datetime['sync_rate'][i]\n",
    "    tbegin = datetime.strptime(file_time, \"%Y-%m-%d_%H-%M-%S\") + pd.Timedelta(\n",
    "        t_error[i], unit=\"sec\"\n",
    "    )\n",
    "    # + pd.Timedelta(sync_time,unit='sec')\n",
    "    nframes = rec_datetime[\"nFrames\"][i]\n",
    "    duration = pd.Timedelta(nframes / sess.recinfo.dat_sampling_rate, unit=\"sec\")\n",
    "    print(duration.total_seconds() * tracking_sRate)\n",
    "    tend = tbegin + duration\n",
    "    trange = pd.date_range(\n",
    "        start=tbegin,\n",
    "        end=tend,\n",
    "        periods=int(duration.total_seconds() * tracking_sRate),\n",
    "        # freq='16.66ms',\n",
    "        closed=\"left\",\n",
    "    )\n",
    "    data_time.extend(trange)\n",
    "data_time = pd.to_datetime(data_time)\n",
    "\n",
    "x, y, z = opti_data.get_position_at_datetimes(data_time)\n",
    "traces = np.vstack((z, x, y))\n",
    "\n",
    "position = Position(traces=traces, t_start=0, sampling_rate=tracking_sRate)\n",
    "position.save(sess.filePrefix.with_suffix(\".position\"))"
   ]
  },
  {
   "attachments": {},
   "cell_type": "markdown",
   "metadata": {},
   "source": [
    "### Linearize position"
   ]
  },
  {
   "cell_type": "code",
   "execution_count": null,
   "metadata": {},
   "outputs": [],
   "source": [
    "from neuropy.utils import position_util\n",
    "from neuropy import plotting\n",
    "\n",
    "maze = sess.paradigm[\"re-maze\"].flatten()\n",
    "maze_pos = sess.position.time_slice(maze[0], maze[1])\n",
    "linear_pos = position_util.linearize_position(maze_pos)\n",
    "linear_pos.save(sess.filePrefix.with_suffix(\".remaze.linear\"))\n",
    "\n",
    "\n",
    "fig = plotting.Fig(2, 4, size=(8.5, 5))\n",
    "\n",
    "ax = fig.subplot(fig.gs[0])\n",
    "ax.plot(maze_pos.x, maze_pos.y)\n",
    "\n",
    "ax = fig.subplot(fig.gs[0, 1:])\n",
    "ax.plot(maze_pos.time, maze_pos.x, \"r\")\n",
    "ax.plot(maze_pos.time, maze_pos.y, \"g\")\n",
    "ax.plot(linear_pos.time, linear_pos.x, \"k\")"
   ]
  },
  {
   "attachments": {},
   "cell_type": "markdown",
   "metadata": {},
   "source": [
    "## Checking position alignment with .dat file\n",
    "- Comparing theta power, speed and position to check if high theta periods are correlated with the speed of the animal"
   ]
  },
  {
   "cell_type": "code",
   "execution_count": null,
   "metadata": {},
   "outputs": [],
   "source": [
    "%matplotlib widget\n",
    "from neuropy.utils import signal_process\n",
    "maze= sess.paradigm['maze']\n",
    "signal = sess.eegfile.get_signal([111],t_start=maze[0],t_stop=maze[1])\n",
    "# spec = signal_process.SpectrogramBands(signal,window=1,overlap=0.8,norm_sig=True)"
   ]
  },
  {
   "cell_type": "code",
   "execution_count": null,
   "metadata": {},
   "outputs": [],
   "source": [
    "from neuropy_viewer import time_frequency_viewer\n",
    "\n",
    "time_frequency_viewer(signal, freq_params=(3, 120, 0.1))"
   ]
  },
  {
   "cell_type": "code",
   "execution_count": null,
   "metadata": {},
   "outputs": [],
   "source": [
    "from neuropy.utils import signal_process\n",
    "from scipy import stats\n",
    "\n",
    "freqs = np.arange(1, 20, 0.5)\n",
    "wavdec = signal_process.wavelet_decomp(\n",
    "    stats.zscore(signal.traces[0]), sampfreq=1250, freqs=freqs\n",
    ")\n",
    "\n",
    "wvlt_power = wavdec.colgin2009()"
   ]
  },
  {
   "cell_type": "code",
   "execution_count": null,
   "metadata": {},
   "outputs": [],
   "source": [
    "%matplotlib widget\n",
    "import matplotlib.pyplot as plt\n",
    "plt.imshow(wvlt_power,aspect='auto',cmap='jet',vmax=80000,extent=[signal.t_start,signal.t_stop,wavdec.freqs[0],wavdec.freqs[-1]],origin='lower')\n",
    "plt.plot(pos_t,speed/10,'w')"
   ]
  },
  {
   "cell_type": "code",
   "execution_count": null,
   "metadata": {},
   "outputs": [],
   "source": [
    "indx = np.where((wavdec.freqs >= 8) & (wavdec.freqs <= 16))[0]\n",
    "theta_wvlt_power = np.median(wvlt_power[indx, :], axis=0)"
   ]
  },
  {
   "cell_type": "code",
   "execution_count": null,
   "metadata": {},
   "outputs": [],
   "source": [
    "%matplotlib widget\n",
    "from scipy.ndimage import gaussian_filter1d\n",
    "import matplotlib.pyplot as plt\n",
    "import numpy as np\n",
    "\n",
    "position = sess.position.time_slice(maze[0],maze[1])\n",
    "rpls = sess.ripple.time_slice(maze[0],maze[1]).starts\n",
    "x = position.x[:-1]\n",
    "y = position.y[:-1]\n",
    "pos_t = position.time[:-1]\n",
    "speed = gaussian_filter1d( position.speed,sigma =20)\n",
    "theta = np.interp(pos_t,spec.time,spec.theta)\n",
    "theta = gaussian_filter1d(theta,sigma=20)\n",
    "\n",
    "\n",
    "plt.plot(pos_t,theta*100,'r')\n",
    "# plt.plot(sess.position.time,sess.position.y)\n",
    "plt.plot(signal.time,theta_wvlt_power/4000,'r')\n",
    "plt.plot(rpls,100*np.ones_like(rpls),'*')\n",
    "plt.plot(pos_t,speed,'g')\n",
    "plt.plot(pos_t,x,'gray')\n",
    "plt.plot(pos_t,y,'gray')\n",
    "# plt.plot(pos_t,y,'k')\n",
    "# plt.plot(sess.position.time[1:],np.diff(sess.position.x)*100)\n",
    "# plt.xlim([1500,1600])\n",
    "plt.ylim([-400,400])"
   ]
  },
  {
   "cell_type": "code",
   "execution_count": null,
   "metadata": {},
   "outputs": [],
   "source": [
    "position.filename = sess.filePrefix.with_suffix(\".maze.linear\")\n",
    "position.t_start = position.t_start + 6\n",
    "position.save()"
   ]
  },
  {
   "cell_type": "code",
   "execution_count": null,
   "metadata": {},
   "outputs": [],
   "source": [
    "sess.paradigm[\"maze\"] / 60"
   ]
  },
  {
   "cell_type": "code",
   "execution_count": null,
   "metadata": {},
   "outputs": [],
   "source": [
    "%matplotlib widget\n",
    "import scipy.signal as sg\n",
    "\n",
    "xcorr = sg.correlate(theta,speed,mode='same')\n",
    "lags= sg.correlation_lags(len(pos_t),len(pos_t),mode='same')\n",
    "\n",
    "plt.plot(lags/position.sampling_rate,xcorr)\n",
    "# plt.xlim([-20,20])\n",
    "\n",
    "\n"
   ]
  },
  {
   "cell_type": "code",
   "execution_count": null,
   "metadata": {},
   "outputs": [],
   "source": [
    "%matplotlib widget\n",
    "import numpy as np\n",
    "\n",
    "x = np.array([1,2,3,7,8,9,10,15,16,17,18])\n",
    "y = np.array([6,7,8,9,10,11,12])\n",
    "z = np.array([2,3,2,5,6,3,4])\n",
    "plt.plot(x,np.ones_like(x),'.')\n",
    "plt.plot(y,2*np.ones_like(y),'.')"
   ]
  },
  {
   "cell_type": "code",
   "execution_count": null,
   "metadata": {},
   "outputs": [],
   "source": [
    "np.interp(x, y, z)"
   ]
  },
  {
   "attachments": {},
   "cell_type": "markdown",
   "metadata": {},
   "source": [
    "## Run direction"
   ]
  },
  {
   "cell_type": "code",
   "execution_count": null,
   "metadata": {},
   "outputs": [],
   "source": [
    "%matplotlib widget\n",
    "from neuropy.utils import position_util\n",
    "from neuropy.plotting import plot_epochs\n",
    "from scipy.ndimage import gaussian_filter1d\n",
    "\n",
    "run = position_util.run_direction(sess.lin_maze)\n",
    "run.filename = sess.filePrefix.with_suffix('.running')\n",
    "run.save()\n",
    "_,ax = plt.subplots()\n",
    "ax.plot(sess.lin_maze.time,sess.lin_maze.x)\n",
    "# ax.plot(sess.lin_maze.time,gaussian_filter1d(sess.lin_maze.x,sigma=50))\n",
    "plot_epochs(ax=ax,epochs=run,colors={'forward':'r','backward':'k'},alpha=0.2)\n"
   ]
  },
  {
   "attachments": {},
   "cell_type": "markdown",
   "metadata": {},
   "source": [
    "## Licking TTL epochs"
   ]
  },
  {
   "cell_type": "code",
   "execution_count": null,
   "metadata": {},
   "outputs": [],
   "source": [
    "from neuropy.io import openephysio\n",
    "\n",
    "ttl_folder = \"/data/Clustering/sessions/RatU/RatUDay2NSD/TTL_1\"\n",
    "ttl = openephysio.load_ttl_events(ttl_folder, sync_info=False)\n",
    "print(ttl)"
   ]
  },
  {
   "cell_type": "code",
   "execution_count": null,
   "metadata": {},
   "outputs": [],
   "source": [
    "file = \"/data/Clustering/sessions/RatU/RatUDay2NSD/timestamps.npy\"\n",
    "data = np.load(file)\n",
    "data[0] / 30000"
   ]
  },
  {
   "cell_type": "code",
   "execution_count": null,
   "metadata": {},
   "outputs": [],
   "source": [
    "data[0]"
   ]
  },
  {
   "cell_type": "code",
   "execution_count": null,
   "metadata": {},
   "outputs": [],
   "source": [
    "b = (ttl[\"timestamps\"] - 985075968) / 30000"
   ]
  },
  {
   "cell_type": "code",
   "execution_count": null,
   "metadata": {},
   "outputs": [],
   "source": [
    "sess.eegfile.sampling_rate"
   ]
  },
  {
   "cell_type": "code",
   "execution_count": null,
   "metadata": {},
   "outputs": [],
   "source": [
    "print(sess.eegfile)"
   ]
  },
  {
   "cell_type": "code",
   "execution_count": null,
   "metadata": {},
   "outputs": [],
   "source": [
    "%matplotlib widget\n",
    "from neuropy.plotting import plot_epochs\n",
    "\n",
    "_,ax = plt.subplots()\n",
    "ax.plot(sess.position.time,sess.position.x)\n",
    "# plot_epochs(ax=ax,epochs= sess.paradigm)\n",
    "\n",
    "for val in b:\n",
    "    ax.axvline(val+45321,color='k')\n",
    "\n",
    "# ax.set_xlim(sess.paradigm['maze'])\n"
   ]
  }
 ],
 "metadata": {
  "interpreter": {
   "hash": "cce1618081139d19eb1ee8d40815d94a2de4f62e1efb20d9406ddb60628c36ae"
  },
  "kernelspec": {
   "display_name": "Python 3.9.7 64-bit ('data_analysis': conda)",
   "name": "python3"
  },
  "language_info": {
   "codemirror_mode": {
    "name": "ipython",
    "version": 3
   },
   "file_extension": ".py",
   "mimetype": "text/x-python",
   "name": "python",
   "nbconvert_exporter": "python",
   "pygments_lexer": "ipython3",
   "version": "3.11.3"
  },
  "orig_nbformat": 4
 },
 "nbformat": 4,
 "nbformat_minor": 2
}
