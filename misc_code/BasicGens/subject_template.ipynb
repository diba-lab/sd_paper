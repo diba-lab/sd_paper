{
 "cells": [
  {
   "cell_type": "markdown",
   "metadata": {},
   "source": [
    "### Subject name recording info"
   ]
  },
  {
   "cell_type": "code",
   "execution_count": null,
   "metadata": {},
   "outputs": [],
   "source": [
    "import numpy as np\n",
    "import subjects\n",
    "\n",
    "sess = subjects.sd # add your subject session\n",
    "# print(sess.recinfo)"
   ]
  },
  {
   "cell_type": "markdown",
   "metadata": {},
   "source": [
    "### Animal metadata"
   ]
  },
  {
   "cell_type": "code",
   "execution_count": null,
   "metadata": {},
   "outputs": [],
   "source": [
    "from neuropy.core import animal\n",
    "\n",
    "d = {'name':'hello','tag':'ser'}\n",
    "\n",
    "an = animal.Animal(d) \n"
   ]
  },
  {
   "cell_type": "markdown",
   "metadata": {},
   "source": [
    "### Probe configuration\n",
    "- Add text for details about the probes that were used"
   ]
  },
  {
   "cell_type": "markdown",
   "metadata": {},
   "source": [
    "#### A simple 8 shank probe with same layout across all shanks"
   ]
  },
  {
   "cell_type": "code",
   "execution_count": null,
   "metadata": {},
   "outputs": [],
   "source": [
    "from neuropy.core import Shank, Probe, ProbeGroup\n",
    "from neuropy.plotting import plot_probe\n",
    "\n",
    "shanks = []\n",
    "channel_groups = sess.recinfo.channel_groups\n",
    "for i in range(8):\n",
    "\n",
    "    shank = Shank.auto_generate(\n",
    "        columns=2,\n",
    "        contacts_per_column=8,\n",
    "        xpitch=15,\n",
    "        ypitch=20,\n",
    "        y_shift_per_column=[0, -7.5],\n",
    "        channel_id=np.append(\n",
    "            channel_groups[i][::2][::-1], channel_groups[i][1::2][::-1]\n",
    "        ),\n",
    "    )\n",
    "    shanks.append(shank)\n",
    "    shank.set_disconnected_channels(sess.recinfo.skipped_channels)\n",
    "\n",
    "probe1 = Probe(shanks)\n",
    "\n",
    "prbgrp = ProbeGroup()\n",
    "prbgrp.add_probe(probe1)\n",
    "\n",
    "prbgrp.filename = sess.filePrefix.with_suffix(\".probegroup.npy\")\n",
    "# prbgrp.save()\n",
    "plot_probe(prbgrp)\n",
    "\n"
   ]
  },
  {
   "cell_type": "markdown",
   "metadata": {},
   "source": [
    "#### Multiprobe layout"
   ]
  },
  {
   "cell_type": "code",
   "execution_count": null,
   "metadata": {},
   "outputs": [],
   "source": [
    "%matplotlib inline\n",
    "from neuropy.core import Shank, Probe, ProbeGroup\n",
    "from neuropy.plotting import plot_probe\n",
    "\n",
    "shanks = []\n",
    "channel_groups = sess.recinfo.channel_groups\n",
    "badchans = sess.recinfo.skipped_channels\n",
    "\n",
    "#--- cambridge probe -----------\n",
    "for i in range(6):\n",
    "    chans = channel_groups[i]\n",
    "\n",
    "    if len(chans)==10:\n",
    "        n_cont = 5\n",
    "        y_shift = [0,7.5]\n",
    "    if len(chans)==11:\n",
    "        n_cont = [6,5]\n",
    "        y_shift = [0,7.5]\n",
    "    if len(chans)==9:\n",
    "        n_cont = [5,4]\n",
    "        y_shift = [0,7,5]\n",
    "\n",
    "    shank = Shank.auto_generate(\n",
    "        columns=2,\n",
    "        contacts_per_column=n_cont,\n",
    "        xpitch=16.5,\n",
    "        ypitch=15,\n",
    "        y_shift_per_column=y_shift,\n",
    "        channel_id=np.append(\n",
    "            channel_groups[i][1::2][::-1], channel_groups[i][::2][::-1]\n",
    "        ),\n",
    "    )\n",
    "    shank.set_disconnected_channels(sess.recinfo.skipped_channels)\n",
    "    shanks.append(shank)\n",
    "\n",
    "probe1 = Probe(shanks)\n",
    "\n",
    "shanks = []\n",
    "for i in range(6,14):\n",
    "\n",
    "    shank = Shank.auto_generate(\n",
    "        columns=2,\n",
    "        contacts_per_column=8,\n",
    "        xpitch=15,\n",
    "        ypitch=15,\n",
    "        y_shift_per_column=[0, -7.5],\n",
    "        channel_id=np.append(\n",
    "            channel_groups[i][::2][::-1], channel_groups[i][1::2][::-1]\n",
    "        ),\n",
    "    )\n",
    "    shank.set_disconnected_channels(sess.recinfo.skipped_channels)\n",
    "    shanks.append(shank)\n",
    "\n",
    "\n",
    "probe2 = Probe(shanks)\n",
    "probe2.move((probe1.x_max+500,0))\n",
    "\n",
    "prbgrp = ProbeGroup()\n",
    "prbgrp.add_probe(probe1)\n",
    "prbgrp.add_probe(probe2)\n",
    "\n",
    "prbgrp.filename = sess.filePrefix.with_suffix(\".probegroup.npy\")\n",
    "# prbgrp.save()\n",
    "plot_probe(prbgrp)"
   ]
  },
  {
   "cell_type": "markdown",
   "metadata": {},
   "source": [
    "### Experimental paradigm\n",
    "A typical experiment involves multiple epochs such pre sleep, running on track and then another sleep epoch."
   ]
  },
  {
   "cell_type": "code",
   "execution_count": null,
   "metadata": {},
   "outputs": [],
   "source": [
    "import pandas as pd\n",
    "from neuropy.core import Epoch\n",
    "\n",
    "epochs = pd.DataFrame(\n",
    "    {\n",
    "        \"start\": [],\n",
    "        \"stop\": [],\n",
    "        \"label\": [\"pre\", \"maze\", \"post\"],\n",
    "    }\n",
    ")\n",
    "\n",
    "a = Epoch(epochs=epochs)\n",
    "a.filename = sess.filePrefix.with_suffix(\".paradigm.npy\")\n",
    "# a.save()"
   ]
  },
  {
   "cell_type": "markdown",
   "metadata": {},
   "source": [
    "### Neurons\n",
    "- import spiketrains from Phy\n",
    "- estimate neuron types such pyramidal, interneuron etc. "
   ]
  },
  {
   "cell_type": "markdown",
   "metadata": {},
   "source": [
    "### Importing spiketrains from Phy"
   ]
  },
  {
   "cell_type": "markdown",
   "metadata": {},
   "source": [
    "#### Multi-folder clustering"
   ]
  },
  {
   "cell_type": "code",
   "execution_count": null,
   "metadata": {},
   "outputs": [],
   "source": [
    "from neuropy.io import PhyIO\n",
    "from neuropy.core import Neurons\n",
    "from pathlib import Path\n",
    "import numpy as np\n",
    "\n",
    "cluster_path = Path(\"\")\n",
    "chan_grps = sess.recinfo.channel_groups\n",
    "sub_dirs = sorted([x for x in cluster_path.iterdir() if x.is_dir()])\n",
    "\n",
    "spk, peak_chans,waveforms,shank_id = [], [],[],[]\n",
    "for f_ind, folder in enumerate(sub_dirs):\n",
    "    print(folder)\n",
    "    phy_data = PhyIO(folder)\n",
    "    spk.extend(phy_data.spiketrains)\n",
    "    peak_chans.extend(chan_grps[f_ind][phy_data.peak_channels])\n",
    "    waveforms.extend(phy_data.peak_waveforms)\n",
    "    shank_id.extend([f_ind]*len(phy_data.spiketrains))\n",
    "\n",
    "\n",
    "peak_chans = np.array(peak_chans)\n",
    "\n",
    "neurons = Neurons(\n",
    "    np.array(spk, dtype=object),\n",
    "    t_stop=sess.eegfile.duration,\n",
    "    sampling_rate=phy_data.sampling_rate,\n",
    "    peak_channels=peak_chans,\n",
    "    waveforms=np.array(waveforms,dtype='object'),\n",
    "    shank_ids=np.array(shank_id)\n",
    ")\n",
    "neurons.filename = sess.filePrefix.with_suffix('.neurons')\n",
    "# neurons.save()"
   ]
  },
  {
   "cell_type": "markdown",
   "metadata": {},
   "source": [
    "#### Single folder"
   ]
  },
  {
   "cell_type": "code",
   "execution_count": null,
   "metadata": {},
   "outputs": [],
   "source": [
    "from neuropy.io import PhyIO\n",
    "from neuropy.core import Neurons\n",
    "from pathlib import Path\n",
    "import numpy as np\n",
    "\n",
    "cluster_path = Path(\"\")\n",
    "chan_grps = sess.recinfo.channel_groups\n",
    "phy_data = PhyIO(cluster_path)\n",
    "spiketrains =phy_data.spiketrains\n",
    "peak_chans = phy_data.peak_channels\n",
    "waveforms = phy_data.peak_waveforms\n",
    "shank_id = sess.probegroup.get_shank_id_for_channels(peak_chans)\n",
    "\n",
    "neurons = Neurons(\n",
    "    np.array(spiketrains, dtype=object),\n",
    "    t_stop=sess.eegfile.duration,\n",
    "    sampling_rate=phy_data.sampling_rate,\n",
    "    peak_channels=peak_chans,\n",
    "    waveforms=np.array(waveforms,dtype='object'),\n",
    "    shank_ids=np.array(shank_id).astype(int)\n",
    ")\n",
    "\n",
    "neurons.filename = sess.filePrefix.with_suffix('.neurons')\n",
    "# neurons.save()\n",
    "\n"
   ]
  },
  {
   "cell_type": "markdown",
   "metadata": {},
   "source": [
    "#### Plot raster"
   ]
  },
  {
   "cell_type": "code",
   "execution_count": null,
   "metadata": {},
   "outputs": [],
   "source": [
    "%matplotlib widget\n",
    "import matplotlib.pyplot as plt\n",
    "from neuropy.plotting import plot_raster\n",
    "\n",
    "plot_raster(neurons,color='jet',add_vert_jitter=True)"
   ]
  },
  {
   "cell_type": "markdown",
   "metadata": {},
   "source": [
    "### BinnedSpiketrain and Mua objects using Neurons"
   ]
  },
  {
   "cell_type": "code",
   "execution_count": null,
   "metadata": {},
   "outputs": [],
   "source": [
    "mua =sess.neurons.get_mua()\n",
    "mua.filename = sess.filePrefix.with_suffix(\".mua.npy\")\n",
    "mua.save()   \n"
   ]
  },
  {
   "cell_type": "code",
   "execution_count": null,
   "metadata": {},
   "outputs": [],
   "source": [
    "%matplotlib widget\n",
    "from neuropy import plotting\n",
    "smth_mua = sess.mua.get_smoothed(sigma=0.02)\n",
    "plotting.plot_mua(smth_mua)"
   ]
  },
  {
   "cell_type": "markdown",
   "metadata": {},
   "source": [
    "### Detect epochs\n",
    "Here we will various types of epochs which typical for hippocampal recordings."
   ]
  },
  {
   "cell_type": "markdown",
   "metadata": {},
   "source": [
    "#### Artifacts\n",
    "A typical session will have some artifacts that may negatively influence many analyses. Using a simple zscore measure, we can identify epochs where signal is above some threshold."
   ]
  },
  {
   "cell_type": "code",
   "execution_count": null,
   "metadata": {},
   "outputs": [],
   "source": [
    "signal = sess.eegfile.get_signal([1])\n",
    "artifact_epochs = analyses.detect_artifact_epochs(signal, thresh=7)\n",
    "artifact_epochs.filename = sess.filePrefix.with_suffix(\".artifact.npy\")\n",
    "artifact_epochs.save()\n",
    "plotting.plot_artifact_epochs(artifact_epochs, signal)"
   ]
  },
  {
   "cell_type": "markdown",
   "metadata": {},
   "source": [
    "#### Ripple\n",
    "To detect ripples one also needs probegroup."
   ]
  },
  {
   "cell_type": "code",
   "execution_count": null,
   "metadata": {},
   "outputs": [],
   "source": [
    "from neuropy.analyses import oscillations\n",
    "signal = sess.eegfile.get_signal()\n",
    "ripple_epochs =oscillations.detect_ripple_epochs(signal, sess.probegroup)\n",
    "ripple_epochs.filename = sess.filePrefix.with_suffix('.ripple.npy')\n",
    "ripple_epochs.save()"
   ]
  },
  {
   "cell_type": "markdown",
   "metadata": {},
   "source": [
    "#### Pbe"
   ]
  },
  {
   "cell_type": "code",
   "execution_count": null,
   "metadata": {},
   "outputs": [],
   "source": [
    "from neuropy.analyses import detect_pbe_epochs\n",
    "\n",
    "pbe = detect_pbe_epochs(smth_mua)\n",
    "pbe.filename = sess.filePrefix.with_suffix('.pbe')\n",
    "pbe.save()\n"
   ]
  },
  {
   "cell_type": "markdown",
   "metadata": {},
   "source": [
    "### Assign position data"
   ]
  },
  {
   "cell_type": "code",
   "execution_count": null,
   "metadata": {},
   "outputs": [],
   "source": [
    "from neuropy.io import OptitrackIO\n",
    "from neuropy.core import Position\n",
    "from pathlib import Path\n",
    "\n",
    "opti_folder = sess.filePrefix.parent / 'position'\n",
    "opti_data = OptitrackIO(dirname=opti_folder,scale_factor=0.25)"
   ]
  },
  {
   "cell_type": "code",
   "execution_count": null,
   "metadata": {},
   "outputs": [],
   "source": [
    "import pandas as pd\n",
    "from datetime import datetime\n",
    "\n",
    "#---- startimes of concatenated .dat files\n",
    "tracking_sRate = opti_data.sampling_rate\n",
    "rec_datetime = pd.read_csv(sess.filePrefix.with_suffix('.datetime.csv'))\n",
    "data_time = []\n",
    "for i, file_time in enumerate(rec_datetime[\"StartTime\"]):\n",
    "    sync_time = rec_datetime['sync_nframes'][i]/rec_datetime['sync_rate'][i]\n",
    "    tbegin = datetime.strptime(file_time, \"%Y-%m-%d_%H-%M-%S\") + pd.Timedelta(sync_time,unit='sec')\n",
    "    nframes = rec_datetime[\"nFrames\"][i]\n",
    "    duration = pd.Timedelta(nframes / sess.recinfo.dat_sampling_rate, unit=\"sec\")\n",
    "    tend = tbegin + duration\n",
    "    trange = pd.date_range(\n",
    "        start=tbegin,\n",
    "        end=tend,\n",
    "        periods=int(duration.total_seconds() * tracking_sRate),\n",
    "    )\n",
    "    data_time.extend(trange)\n",
    "data_time = pd.to_datetime(data_time)\n",
    "\n",
    "# ------- deleting intervals that were deleted from .dat file after concatenating\n",
    "ndeletedintervals = rec_datetime.count()[\"deletedStart (minutes)\"]\n",
    "for i in range(ndeletedintervals):\n",
    "    tnoisy_begin = data_time[0] + pd.Timedelta(\n",
    "        rec_datetime[\"deletedStart (minutes)\"][i], unit=\"m\"\n",
    "    )\n",
    "    tnoisy_end = data_time[0] + pd.Timedelta(\n",
    "        rec_datetime[\"deletedEnd (minutes)\"][i], unit=\"m\"\n",
    "    )\n",
    "\n",
    "    del_index = np.where((data_time > tnoisy_begin) & (data_time < tnoisy_end))[\n",
    "        0\n",
    "    ]\n",
    "\n",
    "    data_time = np.delete(data_time, del_index)\n",
    "\n",
    "x,y,z = opti_data.get_position_at_datetimes(data_time)\n",
    "traces = np.vstack((z,x,y))\n",
    "\n",
    "position = Position(traces=traces,t_start=0,sampling_rate=opti_data.sampling_rate)\n",
    "position.filename = sess.filePrefix.with_suffix('.position.npy')\n",
    "position.save()"
   ]
  },
  {
   "cell_type": "code",
   "execution_count": null,
   "metadata": {},
   "outputs": [],
   "source": [
    "%matplotlib widget\n",
    "import matplotlib.pyplot as plt\n",
    "\n",
    "# plt.plot(opti_data.datetime_array,opti_data.z)\n",
    "plt.plot(position.x,position.y)"
   ]
  },
  {
   "cell_type": "code",
   "execution_count": null,
   "metadata": {},
   "outputs": [],
   "source": [
    "%matplotlib widget\n",
    "from neuropy.utils import signal_process\n",
    "\n",
    "signal = sess.eegfile.get_signal([40])\n",
    "\n",
    "spec = signal_process.spectrogramBands(signal.traces[0])\n"
   ]
  },
  {
   "cell_type": "code",
   "execution_count": null,
   "metadata": {},
   "outputs": [],
   "source": [
    "%matplotlib widget\n",
    "\n",
    "import matplotlib.pyplot as plt\n",
    "\n",
    "plt.plot(spec.time,spec.theta/500)\n",
    "plt.plot(sess.position.time,sess.position.y)\n",
    "plt.plot(sess.position.time[1:],np.diff(sess.position.y)*100)\n",
    "plt.xlim([12500,12600])\n",
    "plt.ylim([-400,400])"
   ]
  },
  {
   "cell_type": "markdown",
   "metadata": {},
   "source": [
    "### Linearize position"
   ]
  },
  {
   "cell_type": "code",
   "execution_count": null,
   "metadata": {},
   "outputs": [],
   "source": [
    "from neuropy.utils import position_util\n",
    "\n",
    "maze = sess.paradigm['maze']\n",
    "maze_pos = sess.position.time_slice(maze[0],maze[1])\n",
    "linear_pos = position_util.linearize_position(maze_pos)"
   ]
  },
  {
   "cell_type": "code",
   "execution_count": null,
   "metadata": {},
   "outputs": [],
   "source": [
    "%matplotlib widget\n",
    "plt.plot(maze_pos.time,maze_pos.x)\n",
    "plt.plot(linear_pos.time,linear_pos.x)"
   ]
  },
  {
   "cell_type": "markdown",
   "metadata": {},
   "source": [
    "### Run direction"
   ]
  },
  {
   "cell_type": "code",
   "execution_count": null,
   "metadata": {},
   "outputs": [
    {
     "data": {
      "text/plain": [
       "<AxesSubplot:>"
      ]
     },
     "metadata": {},
     "output_type": "display_data"
    },
    {
     "data": {
      "application/vnd.jupyter.widget-view+json": {
       "model_id": "4c05f06bc9494e3cbf01a2d5e9108353",
       "version_major": 2,
       "version_minor": 0
      },
      "text/html": [
       "\n",
       "            <div style=\"display: inline-block;\">\n",
       "                <div class=\"jupyter-widgets widget-label\" style=\"text-align: center;\">\n",
       "                    Figure\n",
       "                </div>\n",
       "                <img src='data:image/png;base64,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' width=640.0/>\n",
       "            </div>\n",
       "        "
      ],
      "text/plain": [
       "Canvas(toolbar=Toolbar(toolitems=[('Home', 'Reset original view', 'home', 'home'), ('Back', 'Back to previous …"
      ]
     },
     "metadata": {},
     "output_type": "display_data"
    }
   ],
   "source": [
    "%matplotlib widget\n",
    "from neuropy.utils import position_util\n",
    "from neuropy.plotting import plot_epochs\n",
    "\n",
    "run = position_util.run_direction(sess.lin_maze)\n",
    "run.filename = sess.filePrefix('.running')\n",
    "# run.save()\n",
    "\n",
    "_,ax = plt.subplots()\n",
    "ax.plot(sess.lin_maze.time,sess.lin_maze.x)\n",
    "plot_epochs(ax=ax,epochs=run,colors={'forward':'r','backward':'k'},alpha=0.2)"
   ]
  }
 ],
 "metadata": {
  "interpreter": {
   "hash": "7b10c821bc4bd3f433a613d47515e6babc6c2152896bd1e143404cc9d6ede4ad"
  },
  "kernelspec": {
   "display_name": "Python 3.9.4 64-bit",
   "name": "python3"
  },
  "language_info": {
   "codemirror_mode": {
    "name": "ipython",
    "version": 3
   },
   "file_extension": ".py",
   "mimetype": "text/x-python",
   "name": "python",
   "nbconvert_exporter": "python",
   "pygments_lexer": "ipython3",
   "version": "3.9.9"
  },
  "orig_nbformat": 4
 },
 "nbformat": 4,
 "nbformat_minor": 2
}
