{
 "cells": [
  {
   "cell_type": "markdown",
   "metadata": {},
   "source": [
    "## Check recording info"
   ]
  },
  {
   "cell_type": "code",
   "execution_count": 1,
   "metadata": {},
   "outputs": [
    {
     "name": "stdout",
     "output_type": "stream",
     "text": [
      "filename: /data/Clustering/sessions/RatN/Day2/RatN_Day2_2019-10-11_03-58-54.xml \n",
      "# channels: 134\n",
      "sampling rate: 30000\n",
      "lfp Srate (downsampled): 1250\n",
      "\n"
     ]
    }
   ],
   "source": [
    "import matplotlib.pyplot as plt\n",
    "import numpy as np\n",
    "import subjects\n",
    "\n",
    "sess = subjects.nsd.ratNday2[0]\n",
    "print(sess.recinfo)\n"
   ]
  },
  {
   "cell_type": "markdown",
   "metadata": {},
   "source": [
    "## Set probe configuration\n",
    "This animal had 8 shank probe from diagnostic biochips"
   ]
  },
  {
   "cell_type": "code",
   "execution_count": null,
   "metadata": {},
   "outputs": [],
   "source": [
    "from neuropy.core import Shank, Probe, ProbeGroup\n",
    "from neuropy.plotting import plot_probe\n",
    "\n",
    "shanks = []\n",
    "channel_groups = sess.recinfo.channel_groups\n",
    "for i in range(8):\n",
    "\n",
    "    shank = Shank.auto_generate(\n",
    "        columns=2,\n",
    "        contacts_per_column=8,\n",
    "        xpitch=15,\n",
    "        ypitch=20,\n",
    "        y_shift_per_column=[0, -7.5],\n",
    "        channel_id=np.append(\n",
    "            channel_groups[i][::2][::-1], channel_groups[i][1::2][::-1]\n",
    "        ),\n",
    "    )\n",
    "    shanks.append(shank)\n",
    "    shank.set_disconnected_channels(sess.recinfo.skipped_channels)\n",
    "\n",
    "probe1 = Probe(shanks)\n",
    "\n",
    "prbgrp = ProbeGroup()\n",
    "prbgrp.add_probe(probe1)\n",
    "\n",
    "prbgrp.filename = sess.filePrefix.with_suffix(\".probegroup.npy\")\n",
    "prbgrp.save()\n",
    "plot_probe(prbgrp)\n",
    "\n"
   ]
  },
  {
   "cell_type": "markdown",
   "metadata": {},
   "source": [
    "## Create epochs for your experimental paradigm\n",
    "A typical experiment involves multiple epochs such pre sleep, running on track and then another sleep epoch."
   ]
  },
  {
   "cell_type": "code",
   "execution_count": 2,
   "metadata": {},
   "outputs": [
    {
     "name": "stdout",
     "output_type": "stream",
     "text": [
      "/data/Clustering/sessions/RatN/Day2/RatN_Day2_2019-10-11_03-58-54.paradigm.npy saved\n"
     ]
    }
   ],
   "source": [
    "import pandas as pd\n",
    "from neuropy.core import Epoch\n",
    "\n",
    "epochs = pd.DataFrame(\n",
    "    {\n",
    "        \"start\": [0, 10282, 13863],\n",
    "        \"stop\": [10270, 13545, 53581],\n",
    "        \"label\": [\"pre\", \"maze\", \"post\"],\n",
    "    }\n",
    ")\n",
    "\n",
    "Epoch(epochs=epochs).save(sess.filePrefix.with_suffix(\".paradigm.npy\"))"
   ]
  },
  {
   "cell_type": "markdown",
   "metadata": {},
   "source": [
    "# Detect epochs\n",
    "Here we will various types of epochs which typical for hippocampal recordings."
   ]
  },
  {
   "cell_type": "markdown",
   "metadata": {},
   "source": [
    "## Artifacts epochs\n",
    "A typical session will have some artifacts that may negatively influence many analyses. Using a simple zscore measure, we can identify epochs where signal is above some threshold."
   ]
  },
  {
   "cell_type": "code",
   "execution_count": null,
   "metadata": {},
   "outputs": [],
   "source": [
    "signal = sess.eegfile.get_signal([1])\n",
    "artifact_epochs = analyses.detect_artifact_epochs(signal, thresh=7)\n",
    "artifact_epochs.filename = sess.filePrefix.with_suffix(\".artifact.npy\")\n",
    "artifact_epochs.save()\n",
    "plotting.plot_artifact_epochs(artifact_epochs, signal)\n"
   ]
  },
  {
   "cell_type": "markdown",
   "metadata": {},
   "source": [
    "## Ripple epochs\n",
    "To detect ripples one also needs probegroup."
   ]
  },
  {
   "cell_type": "code",
   "execution_count": null,
   "metadata": {},
   "outputs": [],
   "source": [
    "from neuropy.analyses import oscillations\n",
    "signal = sess.eegfile.get_signal()\n",
    "ripple_epochs =oscillations.detect_ripple_epochs(signal, sess.probegroup)\n",
    "ripple_epochs.filename = sess.filePrefix.with_suffix('.ripple.npy')\n",
    "ripple_epochs.save()"
   ]
  },
  {
   "cell_type": "code",
   "execution_count": null,
   "metadata": {},
   "outputs": [],
   "source": [
    "signal = sess.eegfile.get_signal(channel_id=[1, 2, 3, 4], t_start=1, t_stop=1.2)\n",
    "plotting.plot_signal_traces(signal)"
   ]
  },
  {
   "cell_type": "markdown",
   "metadata": {},
   "source": [
    "# Neurons\n",
    "- import spiketrains from Phy\n",
    "- estimate neuron types such pyramidal, interneuron etc. "
   ]
  },
  {
   "cell_type": "markdown",
   "metadata": {},
   "source": [
    "## Importing spiketrains from Phy"
   ]
  },
  {
   "cell_type": "code",
   "execution_count": null,
   "metadata": {},
   "outputs": [],
   "source": [
    "from neuropy.io import PhyIO\n",
    "from neuropy.core import Neurons\n",
    "from pathlib import Path\n",
    "import numpy as np\n",
    "\n",
    "cluster_path = Path(\n",
    "    \"/data/Clustering/sessions/RatN/Day2/spykcirc/clus_combined/\"\n",
    ")\n",
    "chan_grps = sess.recinfo.channel_groups\n",
    "sub_dirs = sorted([x for x in cluster_path.iterdir() if x.is_dir()])\n",
    "\n",
    "spk, peak_chans,waveforms,shank_id = [], [],[],[]\n",
    "for f_ind, folder in enumerate(sub_dirs):\n",
    "    print(folder)\n",
    "    phy_data = PhyIO(folder)\n",
    "    spk.extend(phy_data.spiketrains)\n",
    "    peak_chans.extend(chan_grps[f_ind][phy_data.peak_channels])\n",
    "    waveforms.append(phy_data.waveforms)\n",
    "    shank_id.extend([f_ind]*len(phy_data.spiketrains))\n",
    "\n",
    "n_channels_waveforms = np.sum([_.shape[1] for _ in waveforms])\n",
    "n_timepoints_waveforms = phy_data.waveforms.shape[2]\n",
    "n_neurons = len(spk) \n",
    "\n",
    "waveforms_combined = np.zeros((n_neurons,n_channels_waveforms,n_timepoints_waveforms))\n",
    "row,col=0,0\n",
    "for w in waveforms:\n",
    "    waveforms_combined[row:row+w.shape[0],col:col+w.shape[1],:]= w\n",
    "    row+=w.shape[0]\n",
    "    col+=w.shape[1]\n",
    "\n",
    "\n",
    "peak_chans = np.array(peak_chans)\n",
    "\n",
    "neurons = Neurons(\n",
    "    np.array(spk, dtype=object),\n",
    "    t_stop=sess.eegfile.duration,\n",
    "    sampling_rate=phy_data.sampling_rate,\n",
    "    peak_channels=peak_chans,\n",
    "    waveforms=waveforms_combined,\n",
    "    shank_ids=np.array(shank_id),\n",
    "    neuron_type=sess.neurons.neuron_type,\n",
    ")\n",
    "neurons.filename = sess.filePrefix.with_suffix('.neurons')\n",
    "neurons.save()"
   ]
  },
  {
   "cell_type": "markdown",
   "metadata": {},
   "source": [
    "## Estimate neuron type"
   ]
  },
  {
   "cell_type": "code",
   "execution_count": null,
   "metadata": {},
   "outputs": [],
   "source": [
    "%matplotlib widget\n",
    "from neuropy.utils import neurons_util\n",
    "neuron_type = neurons_util.estimate_neuron_type(sess.neurons)\n",
    "sess.neurons.neuron_type = neuron_type"
   ]
  },
  {
   "cell_type": "code",
   "execution_count": null,
   "metadata": {},
   "outputs": [],
   "source": [
    "neurons.filename = sess.filePrefix.with_suffix('.neurons')\n",
    "neurons.save()"
   ]
  },
  {
   "cell_type": "code",
   "execution_count": null,
   "metadata": {},
   "outputs": [],
   "source": [
    "%matplotlib widget\n",
    "import matplotlib.pyplot as plt\n",
    "from neuropy.plotting import plot_raster\n",
    "\n",
    "plot_raster(neurons,color='jet',add_vert_jitter=True)"
   ]
  },
  {
   "cell_type": "markdown",
   "metadata": {},
   "source": [
    "## BinnedSpiketrain and Mua objects using Neurons"
   ]
  },
  {
   "cell_type": "code",
   "execution_count": null,
   "metadata": {},
   "outputs": [],
   "source": [
    "mua =sess.neurons.get_mua()\n",
    "mua.filename = sess.filePrefix.with_suffix(\".mua.npy\")\n",
    "mua.save()   \n"
   ]
  },
  {
   "cell_type": "code",
   "execution_count": null,
   "metadata": {},
   "outputs": [],
   "source": [
    "%matplotlib widget\n",
    "from neuropy import plotting\n",
    "smth_mua = sess.mua.get_smoothed(sigma=0.02)\n",
    "plotting.plot_mua(smth_mua)"
   ]
  },
  {
   "cell_type": "code",
   "execution_count": null,
   "metadata": {},
   "outputs": [],
   "source": [
    "from neuropy.analyses import detect_pbe_epochs\n",
    "\n",
    "pbe = detect_pbe_epochs(smth_mua)\n",
    "pbe.filename = sess.filePrefix.with_suffix('.pbe')\n",
    "pbe.save()\n"
   ]
  },
  {
   "cell_type": "markdown",
   "metadata": {},
   "source": [
    "# Assign position data"
   ]
  },
  {
   "cell_type": "code",
   "execution_count": 3,
   "metadata": {},
   "outputs": [
    {
     "name": "stdout",
     "output_type": "stream",
     "text": [
      "/data/Clustering/sessions/RatN/Day2/position/Take 2019-10-11 03.58.37 AM.csv\n",
      "/data/Clustering/sessions/RatN/Day2/position/Take 2019-10-11 04.08.48 AM.csv\n",
      "/data/Clustering/sessions/RatN/Day2/position/Take 2019-10-11 04.10.41 AM.csv\n",
      "/data/Clustering/sessions/RatN/Day2/position/Take 2019-10-11 07.19.00 AM.csv\n",
      "/data/Clustering/sessions/RatN/Day2/position/Take 2019-10-11 08.15.29 AM.csv\n",
      "/data/Clustering/sessions/RatN/Day2/position/Take 2019-10-11 08.55.22 AM.csv\n"
     ]
    }
   ],
   "source": [
    "from neuropy.io import OptitrackIO\n",
    "from neuropy.core import Position\n",
    "from pathlib import Path\n",
    "\n",
    "opti_folder = sess.filePrefix.parent / 'position'\n",
    "opti_data = OptitrackIO(dirname=opti_folder,scale_factor=0.25)"
   ]
  },
  {
   "cell_type": "code",
   "execution_count": 5,
   "metadata": {},
   "outputs": [
    {
     "name": "stdout",
     "output_type": "stream",
     "text": [
      "/data/Clustering/sessions/RatN/Day2/RatN_Day2_2019-10-11_03-58-54.position.npy saved\n"
     ]
    },
    {
     "data": {
      "text/plain": [
       "[<matplotlib.lines.Line2D at 0x7f5f4a505cc0>]"
      ]
     },
     "execution_count": 5,
     "metadata": {},
     "output_type": "execute_result"
    },
    {
     "data": {
      "application/vnd.jupyter.widget-view+json": {
       "model_id": "0cae56eff2d049ce8ec0d4dee1473d48",
       "version_major": 2,
       "version_minor": 0
      },
      "image/png": "[encoded data removed]",
      "text/html": [
       "\n",
       "            <div style=\"display: inline-block;\">\n",
       "                <div class=\"jupyter-widgets widget-label\" style=\"text-align: center;\">\n",
       "                    Figure\n",
       "                </div>\n",
       "                <img src='data:image/png;base64,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' width=640.0/>\n",
       "            </div>\n",
       "        "
      ],
      "text/plain": [
       "Canvas(toolbar=Toolbar(toolitems=[('Home', 'Reset original view', 'home', 'home'), ('Back', 'Back to previous …"
      ]
     },
     "metadata": {},
     "output_type": "display_data"
    }
   ],
   "source": [
    "import pandas as pd\n",
    "from datetime import datetime\n",
    "\n",
    "# ------- maze align corection ---------\n",
    "t_error = [0, 1]\n",
    "\n",
    "# ---- startimes of concatenated .dat files\n",
    "tracking_sRate = opti_data.sampling_rate\n",
    "rec_datetime = pd.read_csv(sess.filePrefix.with_suffix(\".datetime.csv\"))\n",
    "data_time = []\n",
    "for i, file_time in enumerate(rec_datetime[\"StartTime\"]):\n",
    "    sync_time = rec_datetime[\"sync_nframes\"][i] / rec_datetime[\"sync_rate\"][i]\n",
    "    tbegin = datetime.strptime(file_time, \"%Y-%m-%d_%H-%M-%S\") + pd.Timedelta(\n",
    "        t_error[i], unit=\"sec\"\n",
    "    )\n",
    "    nframes = rec_datetime[\"nFrames\"][i]\n",
    "    duration = pd.Timedelta(nframes / sess.recinfo.dat_sampling_rate, unit=\"sec\")\n",
    "    tend = tbegin + duration\n",
    "    trange = pd.date_range(\n",
    "        start=tbegin,\n",
    "        end=tend,\n",
    "        periods=int(duration.total_seconds() * tracking_sRate),\n",
    "        inclusive=\"left\",\n",
    "    )\n",
    "    data_time.extend(trange)\n",
    "data_time = pd.to_datetime(data_time)\n",
    "\n",
    "# ------- deleting intervals that were deleted from .dat file after concatenating\n",
    "ndeletedintervals = rec_datetime.count()[\"deletedStart (minutes)\"]\n",
    "del_index = []\n",
    "for i in range(ndeletedintervals):\n",
    "    tnoisy_begin = int(rec_datetime[\"deletedStart (minutes)\"][i] * 60 * tracking_sRate)\n",
    "    tnoisy_end = int(rec_datetime[\"deletedEnd (minutes)\"][i] * 60 * tracking_sRate)\n",
    "\n",
    "    del_index.append(np.arange(tnoisy_begin, tnoisy_end))\n",
    "\n",
    "del_index = np.concatenate(del_index)\n",
    "data_time = np.delete(data_time, del_index)\n",
    "\n",
    "x, y, z = opti_data.get_position_at_datetimes(data_time)\n",
    "traces = np.vstack((z, x, y))\n",
    "\n",
    "position = Position(traces=traces, t_start=0, sampling_rate=opti_data.sampling_rate)\n",
    "position.save(sess.filePrefix.with_suffix(\".position.npy\"))\n",
    "\n",
    "\n",
    "_, ax = plt.subplots()\n",
    "ax.plot(position.time, position.x)\n"
   ]
  },
  {
   "cell_type": "markdown",
   "metadata": {},
   "source": [
    "## Linearize position"
   ]
  },
  {
   "cell_type": "code",
   "execution_count": 2,
   "metadata": {},
   "outputs": [
    {
     "name": "stdout",
     "output_type": "stream",
     "text": [
      "/data/Clustering/sessions/RatN/Day2/RatN_Day2_2019-10-11_03-58-54.maze.linear saved\n"
     ]
    }
   ],
   "source": [
    "from neuropy.utils import position_util\n",
    "\n",
    "maze = sess.paradigm['maze'].flatten()\n",
    "maze_pos = sess.position.time_slice(maze[0],maze[1])\n",
    "linear_pos = position_util.linearize_position(maze_pos)\n",
    "linear_pos.save(sess.filePrefix.with_suffix('.maze.linear'))"
   ]
  },
  {
   "cell_type": "code",
   "execution_count": null,
   "metadata": {},
   "outputs": [],
   "source": [
    "%matplotlib widget\n",
    "from neuropy import plotting\n",
    "\n",
    "fig = plotting.Fig(grid=(2,4),size=(8.5,5))\n",
    "\n",
    "ax = fig.subplot(fig.gs[0])\n",
    "ax.plot(maze_pos.x,maze_pos.y)\n",
    "\n",
    "ax = fig.subplot(fig.gs[0,1:])\n",
    "ax.plot(maze_pos.time,maze_pos.x,'r')\n",
    "ax.plot(maze_pos.time,maze_pos.y,'g')\n",
    "ax.plot(linear_pos.time,linear_pos.x,'gray')"
   ]
  }
 ],
 "metadata": {
  "interpreter": {
   "hash": "cce1618081139d19eb1ee8d40815d94a2de4f62e1efb20d9406ddb60628c36ae"
  },
  "kernelspec": {
   "display_name": "Python 3.9.7 64-bit ('data_analysis': conda)",
   "name": "python3"
  },
  "language_info": {
   "codemirror_mode": {
    "name": "ipython",
    "version": 3
   },
   "file_extension": ".py",
   "mimetype": "text/x-python",
   "name": "python",
   "nbconvert_exporter": "python",
   "pygments_lexer": "ipython3",
   "version": "3.10.9"
  },
  "orig_nbformat": 4
 },
 "nbformat": 4,
 "nbformat_minor": 2
}
