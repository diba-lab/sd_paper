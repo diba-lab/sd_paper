{
 "cells": [
  {
   "attachments": {},
   "cell_type": "markdown",
   "metadata": {},
   "source": [
    "### RatA14 rollipram SD recording info"
   ]
  },
  {
   "cell_type": "code",
   "execution_count": 1,
   "metadata": {},
   "outputs": [
    {
     "name": "stdout",
     "output_type": "stream",
     "text": [
      "filename: /data/Clustering/sessions/rolipram/A14_2020-02-26_SDROL/A14_2020-02-26_SDROL.xml \n",
      "# channels: 256\n",
      "sampling rate: 30000\n",
      "lfp Srate (downsampled): 1250\n",
      "\n"
     ]
    }
   ],
   "source": [
    "import matplotlib.pyplot as plt\n",
    "import numpy as np\n",
    "from neuropy import analyses\n",
    "from neuropy import plotting\n",
    "import subjects\n",
    "\n",
    "sess = subjects.sdrol.ratA14_2020_02_26[0]\n",
    "print(sess.recinfo)\n"
   ]
  },
  {
   "cell_type": "code",
   "execution_count": 8,
   "metadata": {},
   "outputs": [
    {
     "ename": "AttributeError",
     "evalue": "'ProbeGroup' object has no attribute 'get_disconnected_channels'",
     "output_type": "error",
     "traceback": [
      "\u001b[0;31m---------------------------------------------------------------------------\u001b[0m",
      "\u001b[0;31mAttributeError\u001b[0m                            Traceback (most recent call last)",
      "Cell \u001b[0;32mIn[8], line 1\u001b[0m\n\u001b[0;32m----> 1\u001b[0m sess\u001b[39m.\u001b[39;49mprobegroup\u001b[39m.\u001b[39;49mget_disconnected_channels(\u001b[39m'\u001b[39m\u001b[39mshank\u001b[39m\u001b[39m'\u001b[39m)\n",
      "\u001b[0;31mAttributeError\u001b[0m: 'ProbeGroup' object has no attribute 'get_disconnected_channels'"
     ]
    }
   ],
   "source": [
    "sess.probegroup.get_disconnected_channels('shank')"
   ]
  },
  {
   "cell_type": "code",
   "execution_count": 5,
   "metadata": {},
   "outputs": [
    {
     "data": {
      "text/plain": [
       "{'data':           x       y  contact_id channel_id  shank_id connected  probe_id\n",
       " 0       0.0     0.0         0.0         14       0.0      True       0.0\n",
       " 1       0.0    20.0         1.0         12       0.0      True       0.0\n",
       " 2       0.0    40.0         2.0         10       0.0      True       0.0\n",
       " 3       0.0    60.0         3.0          8       0.0      True       0.0\n",
       " 4       0.0    80.0         4.0          6       0.0      True       0.0\n",
       " ..      ...     ...         ...        ...       ...       ...       ...\n",
       " 123  1565.0  2460.0       123.0        132       8.0     False       1.0\n",
       " 124  1565.0  2480.0       124.0        131       8.0     False       1.0\n",
       " 125  1565.0  2500.0       125.0        130       8.0     False       1.0\n",
       " 126  1565.0  2520.0       126.0        129       8.0     False       1.0\n",
       " 127  1565.0  2540.0       127.0        128       8.0     False       1.0\n",
       " \n",
       " [256 rows x 7 columns],\n",
       " 'metadata': None}"
      ]
     },
     "execution_count": 5,
     "metadata": {},
     "output_type": "execute_result"
    }
   ],
   "source": [
    "file = \"/data/Clustering/sessions/rolipram/A14_2020-02-26_SDROL/A14_2020-02-26_SDROL.probe.npy\"\n",
    "\n",
    "data = np.load(file,allow_pickle=True).item()\n",
    "data"
   ]
  },
  {
   "cell_type": "markdown",
   "metadata": {},
   "source": [
    "### Set probe configuration\n",
    "Since this is ratN. This animal had 8 shank probe from diagnostic biochips"
   ]
  },
  {
   "cell_type": "code",
   "execution_count": null,
   "metadata": {},
   "outputs": [],
   "source": [
    "from neuropy.core import Shank, Probe, ProbeGroup\n",
    "\n",
    "shanks = []\n",
    "channel_groups = sess.recinfo.channel_groups\n",
    "for i in range(8):\n",
    "\n",
    "    shank = Shank.auto_generate(\n",
    "        columns=2,\n",
    "        contacts_per_column=8,\n",
    "        xpitch=15,\n",
    "        ypitch=20,\n",
    "        y_shift_per_column=[0, -7.5],\n",
    "        channel_id=np.append(\n",
    "            channel_groups[i][::2][::-1], channel_groups[i][1::2][::-1]\n",
    "        ),\n",
    "    )\n",
    "    shanks.append(shank)\n",
    "    shank.set_disconnected_channels(sess.recinfo.skipped_channels)\n",
    "\n",
    "probe1 = Probe(shanks)\n",
    "\n",
    "prbgrp = ProbeGroup()\n",
    "prbgrp.add_probe(probe1)\n",
    "\n",
    "prbgrp.save(sess.filePrefix.with_suffix(\".probegroup.npy\"))\n",
    "plotting.plot_probe(prbgrp)\n"
   ]
  },
  {
   "cell_type": "markdown",
   "metadata": {},
   "source": [
    "### Experimental paradigm epochs\n",
    "The epoch timings were provided by Jahangir (BGN_2019-10-19_SDROL.epoch.npy), so directly copying from that."
   ]
  },
  {
   "cell_type": "code",
   "execution_count": null,
   "metadata": {},
   "outputs": [],
   "source": [
    "import pandas as pd\n",
    "from neuropy.core import Epoch\n",
    "\n",
    "epochs = pd.DataFrame(\n",
    "    {\n",
    "        \"start\": [0, 10924, 14756, 14756, 32923],\n",
    "        \"stop\": [10923, 14755, 53581, 32922, 51081],\n",
    "        \"label\": [\"pre\", \"maze\", \"post\", \"sd\", \"rs\"],\n",
    "    }\n",
    ")\n",
    "\n",
    "Epoch(epochs=epochs).save(sess.filePrefix.with_suffix(\".paradigm.npy\"))\n"
   ]
  },
  {
   "cell_type": "markdown",
   "metadata": {},
   "source": [
    "### Artifacts\n",
    "A typical session will have some artifacts that may negatively influence many analyses. Using a simple zscore measure, we can identify epochs where signal is above some threshold."
   ]
  },
  {
   "cell_type": "code",
   "execution_count": null,
   "metadata": {},
   "outputs": [],
   "source": [
    "signal = sess.eegfile.get_signal([20])\n",
    "artifact_epochs = analyses.detect_artifact_epochs(signal, thresh=10,edge_cutoff=2)\n",
    "artifact_epochs.save(sess.filePrefix.with_suffix(\".artifact.npy\"))"
   ]
  },
  {
   "cell_type": "code",
   "execution_count": null,
   "metadata": {},
   "outputs": [],
   "source": [
    "# sess.recinfo.write_epochs(sess.artifact)\n",
    "signal = sess.eegfile.get_signal([20])\n",
    "plotting.plot_artifact_epochs(sess.artifact, signal)"
   ]
  },
  {
   "cell_type": "markdown",
   "metadata": {},
   "source": [
    "### Neurons\n",
    "- Jahangir had already extracted clusters into .neurons.npy. However, some of the units have neuron_type labelled as '1'. I checked their autocorrelograms and based on their shape and frate all seemed like pyramidal neurons. I am re-labelling these units as 'pyr'. There were 30 such units."
   ]
  },
  {
   "cell_type": "code",
   "execution_count": null,
   "metadata": {},
   "outputs": [],
   "source": [
    "#autocorrelogram generation for unit labelled as '1'\n",
    "\n",
    "from neuropy.utils import neurons_util\n",
    "\n",
    "neurons = sess.neurons.get_neuron_type(['1'])\n",
    "frate = neurons.firing_rate\n",
    "acg = neurons_util.calculate_neurons_acg(neurons=neurons,window_size=0.1)\n",
    "\n",
    "_,axs = plt.subplots(5,6)\n",
    "axs = axs.reshape(-1)\n",
    "for i,ax in enumerate(axs):\n",
    "    ax.plot(acg[i,:])\n",
    "    ax.set_title(frate[i].round(2))"
   ]
  },
  {
   "cell_type": "code",
   "execution_count": null,
   "metadata": {},
   "outputs": [
    {
     "name": "stdout",
     "output_type": "stream",
     "text": [
      "/data/Clustering/sessions/rolipram/BGN_2019-10-19_SDROL/BGN_2019-10-19_SDROL.neurons saved\n"
     ]
    }
   ],
   "source": [
    "from neuropy.core import Neurons\n",
    "from pathlib import Path\n",
    "import numpy as np\n",
    "\n",
    "# file = \"/data/Clustering/sessions/rolipram/BGN_2019-10-19_SDROL/BGN_2019-10-19_SDROL.neurons.npy\"\n",
    "\n",
    "og_neuron_type = sess.neurons.neuron_type\n",
    "\n",
    "new_neuron_type = np.where(og_neuron_type==['1'],'pyr',og_neuron_type)\n",
    "\n",
    "\n",
    "neurons = Neurons(\n",
    "    np.array(sess.neurons.spiketrains, dtype=object),\n",
    "    t_stop=sess.eegfile.duration,\n",
    "    sampling_rate=sess.neurons.sampling_rate,\n",
    "    peak_channels=sess.neurons.peak_channels,\n",
    "    waveforms=sess.neurons.waveforms,\n",
    "    shank_ids=sess.neurons.shank_ids,\n",
    "    neuron_type=og_neuron_type,\n",
    ")\n",
    "neurons.save(sess.filePrefix.with_suffix(\".neurons\"))\n"
   ]
  }
 ],
 "metadata": {
  "kernelspec": {
   "display_name": "data_analysis",
   "language": "python",
   "name": "python3"
  },
  "language_info": {
   "codemirror_mode": {
    "name": "ipython",
    "version": 3
   },
   "file_extension": ".py",
   "mimetype": "text/x-python",
   "name": "python",
   "nbconvert_exporter": "python",
   "pygments_lexer": "ipython3",
   "version": "3.10.8"
  },
  "orig_nbformat": 4,
  "vscode": {
   "interpreter": {
    "hash": "cce1618081139d19eb1ee8d40815d94a2de4f62e1efb20d9406ddb60628c36ae"
   }
  }
 },
 "nbformat": 4,
 "nbformat_minor": 2
}
