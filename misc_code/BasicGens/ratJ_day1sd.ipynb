version https://git-lfs.github.com/spec/v1
oid sha256:0270cc8aeceac8b33881c4cec9b8ea5e6e3764d4bea4cba5f2ffa108bf9655a1
size 13016
