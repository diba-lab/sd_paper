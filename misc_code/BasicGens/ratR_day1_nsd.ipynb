{
 "cells": [
  {
   "cell_type": "markdown",
   "metadata": {},
   "source": [
    "### RatR Day1 recording info"
   ]
  },
  {
   "cell_type": "code",
   "execution_count": 1,
   "metadata": {},
   "outputs": [
    {
     "name": "stdout",
     "output_type": "stream",
     "text": [
      "filename: /data/Clustering/sessions/RatR/Day1NSD/RatR_Day1NSD_2021-05-13_08-41-31.xml \n",
      "# channels: 128\n",
      "sampling rate: 30000\n",
      "lfp Srate (downsampled): 1250\n",
      "\n"
     ]
    }
   ],
   "source": [
    "import numpy as np\n",
    "import subjects\n",
    "\n",
    "sess = subjects.nsd.ratRday1[0]  # add your subject session\n",
    "print(sess.recinfo)"
   ]
  },
  {
   "cell_type": "markdown",
   "metadata": {},
   "source": [
    "# Animal metadata"
   ]
  },
  {
   "cell_type": "code",
   "execution_count": null,
   "metadata": {},
   "outputs": [],
   "source": [
    "from neuropy.core import animal\n",
    "\n",
    "d = {\"name\": \"hello\", \"tag\": \"ser\"}\n",
    "\n",
    "an = animal.Animal(d)"
   ]
  },
  {
   "cell_type": "markdown",
   "metadata": {},
   "source": [
    "# Probe configuration\n",
    "- Add text for details about the probes that were used"
   ]
  },
  {
   "cell_type": "markdown",
   "metadata": {},
   "source": [
    "## A simple 8 shank probe with same layout across all shanks"
   ]
  },
  {
   "cell_type": "code",
   "execution_count": null,
   "metadata": {},
   "outputs": [],
   "source": [
    "from neuropy.core import Shank, Probe, ProbeGroup\n",
    "from neuropy.plotting import plot_probe\n",
    "\n",
    "shanks = []\n",
    "channel_groups = sess.recinfo.channel_groups\n",
    "for i in range(8):\n",
    "    shank = Shank.auto_generate(\n",
    "        columns=2,\n",
    "        contacts_per_column=8,\n",
    "        xpitch=15,\n",
    "        ypitch=20,\n",
    "        y_shift_per_column=[0, -7.5],\n",
    "        channel_id=np.append(\n",
    "            channel_groups[i][::2][::-1], channel_groups[i][1::2][::-1]\n",
    "        ),\n",
    "    )\n",
    "    shanks.append(shank)\n",
    "    shank.set_disconnected_channels(sess.recinfo.skipped_channels)\n",
    "\n",
    "probe1 = Probe(shanks)\n",
    "\n",
    "prbgrp = ProbeGroup()\n",
    "prbgrp.add_probe(probe1)\n",
    "\n",
    "prbgrp.filename = sess.filePrefix.with_suffix(\".probegroup.npy\")\n",
    "# prbgrp.save()\n",
    "plot_probe(prbgrp)"
   ]
  },
  {
   "cell_type": "markdown",
   "metadata": {},
   "source": [
    "## Multiprobe layout"
   ]
  },
  {
   "cell_type": "code",
   "execution_count": null,
   "metadata": {},
   "outputs": [],
   "source": [
    "%matplotlib inline\n",
    "from neuropy.core import Shank, Probe, ProbeGroup\n",
    "from neuropy.plotting import plot_probe\n",
    "\n",
    "shanks = []\n",
    "channel_groups = sess.recinfo.channel_groups\n",
    "badchans = sess.recinfo.skipped_channels\n",
    "\n",
    "#--- cambridge probe -----------\n",
    "for i in range(6):\n",
    "    chans = channel_groups[i]\n",
    "\n",
    "    if len(chans)==10:\n",
    "        n_cont = 5\n",
    "        y_shift = [0,7.5]\n",
    "    if len(chans)==11:\n",
    "        n_cont = [6,5]\n",
    "        y_shift = [0,7.5]\n",
    "    if len(chans)==9:\n",
    "        n_cont = [5,4]\n",
    "        y_shift = [0,7,5]\n",
    "\n",
    "    shank = Shank.auto_generate(\n",
    "        columns=2,\n",
    "        contacts_per_column=n_cont,\n",
    "        xpitch=16.5,\n",
    "        ypitch=15,\n",
    "        y_shift_per_column=y_shift,\n",
    "        channel_id=np.append(\n",
    "            channel_groups[i][1::2][::-1], channel_groups[i][::2][::-1]\n",
    "        ),\n",
    "    )\n",
    "    shank.set_disconnected_channels(sess.recinfo.skipped_channels)\n",
    "    shanks.append(shank)\n",
    "\n",
    "probe1 = Probe(shanks)\n",
    "\n",
    "shanks = []\n",
    "for i in range(6,14):\n",
    "\n",
    "    shank = Shank.auto_generate(\n",
    "        columns=2,\n",
    "        contacts_per_column=8,\n",
    "        xpitch=15,\n",
    "        ypitch=15,\n",
    "        y_shift_per_column=[0, -7.5],\n",
    "        channel_id=np.append(\n",
    "            channel_groups[i][::2][::-1], channel_groups[i][1::2][::-1]\n",
    "        ),\n",
    "    )\n",
    "    shank.set_disconnected_channels(sess.recinfo.skipped_channels)\n",
    "    shanks.append(shank)\n",
    "\n",
    "\n",
    "probe2 = Probe(shanks)\n",
    "probe2.move((probe1.x_max+500,0))\n",
    "\n",
    "prbgrp = ProbeGroup()\n",
    "prbgrp.add_probe(probe1)\n",
    "prbgrp.add_probe(probe2)\n",
    "\n",
    "prbgrp.filename = sess.filePrefix.with_suffix(\".probegroup.npy\")\n",
    "# prbgrp.save()\n",
    "plot_probe(prbgrp)"
   ]
  },
  {
   "cell_type": "markdown",
   "metadata": {},
   "source": [
    "# Experimental paradigm\n",
    "A typical experiment involves multiple epochs such pre sleep, running on track and then another sleep epoch."
   ]
  },
  {
   "cell_type": "code",
   "execution_count": 12,
   "metadata": {},
   "outputs": [
    {
     "name": "stdout",
     "output_type": "stream",
     "text": [
      "RatR_Day1NSD_2021-05-13_08-41-31.paradigm.npy saved\n"
     ]
    }
   ],
   "source": [
    "import pandas as pd\n",
    "from neuropy.core import Epoch\n",
    "\n",
    "epochs = pd.DataFrame(\n",
    "    {\n",
    "        \"start\": [0, 8428, 11870, 42927],\n",
    "        \"stop\": [8427, 11869, 42926, 46598],\n",
    "        \"label\": [\"pre\", \"maze\", \"post\", \"re-maze\"],\n",
    "    }\n",
    ")\n",
    "\n",
    "paradigm = Epoch(epochs=epochs)\n",
    "paradigm.filename = sess.filePrefix.with_suffix(\".paradigm.npy\")\n",
    "paradigm.save()"
   ]
  },
  {
   "cell_type": "code",
   "execution_count": 11,
   "metadata": {},
   "outputs": [
    {
     "data": {
      "text/plain": [
       "46598"
      ]
     },
     "execution_count": 11,
     "metadata": {},
     "output_type": "execute_result"
    }
   ],
   "source": [
    "8428 + 3441 + 12627 + 18430 + 3672"
   ]
  },
  {
   "cell_type": "markdown",
   "metadata": {},
   "source": [
    "# Neurons\n",
    "- import spiketrains from Phy\n",
    "- estimate neuron types such pyramidal, interneuron etc. "
   ]
  },
  {
   "cell_type": "markdown",
   "metadata": {},
   "source": [
    "## Importing spiketrains from Phy"
   ]
  },
  {
   "cell_type": "code",
   "execution_count": 2,
   "metadata": {},
   "outputs": [
    {
     "name": "stdout",
     "output_type": "stream",
     "text": [
      "/data/Clustering/sessions/RatR/Day1NSD/RatR_Day1NSD_2021-05-13_08-41-31.neurons saved\n"
     ]
    }
   ],
   "source": [
    "from neuropy.io import PhyIO\n",
    "from neuropy.core import Neurons\n",
    "from pathlib import Path\n",
    "import numpy as np\n",
    "\n",
    "cluster_path = Path(\n",
    "    \"/data2/Clustering/RatR/Day1NSD/AllSession/RatR_Day1NSD_2021-05-13_08-41-31-1.GUI\"\n",
    ")\n",
    "chan_grps = sess.recinfo.channel_groups\n",
    "phy_data = PhyIO(cluster_path)\n",
    "spiketrains = phy_data.spiketrains\n",
    "peak_chans = phy_data.peak_channels\n",
    "waveforms = phy_data.waveforms\n",
    "shank_id = sess.probegroup.get_shank_id_for_channels(peak_chans)\n",
    "\n",
    "neuron_type_id = phy_data.cluster_info.q.values\n",
    "neuron_type = np.ones(len(neuron_type_id), dtype=\"U5\")\n",
    "neuron_type[neuron_type_id < 4] = \"pyr\"\n",
    "neuron_type[neuron_type_id == 6] = \"mua\"\n",
    "neuron_type[neuron_type_id == 8] = \"inter\"\n",
    "\n",
    "\n",
    "neurons = Neurons(\n",
    "    np.array(spiketrains, dtype=object),\n",
    "    t_stop=sess.eegfile.duration,\n",
    "    sampling_rate=phy_data.sampling_rate,\n",
    "    peak_channels=peak_chans,\n",
    "    waveforms=np.array(waveforms, dtype=\"object\"),\n",
    "    neuron_type=neuron_type,\n",
    "    shank_ids=np.array(shank_id).astype(int),\n",
    "    metadata={\"cluster_path\": str(cluster_path)},\n",
    ")\n",
    "\n",
    "neurons.save(sess.filePrefix.with_suffix(\".neurons\"))"
   ]
  },
  {
   "cell_type": "markdown",
   "metadata": {},
   "source": [
    "### Plot raster"
   ]
  },
  {
   "cell_type": "code",
   "execution_count": null,
   "metadata": {},
   "outputs": [],
   "source": [
    "%matplotlib widget\n",
    "import matplotlib.pyplot as plt\n",
    "from neuropy.plotting import plot_raster\n",
    "\n",
    "plot_raster(neurons,color='jet',add_vert_jitter=True)"
   ]
  },
  {
   "cell_type": "markdown",
   "metadata": {},
   "source": [
    "## BinnedSpiketrain and Mua objects using Neurons"
   ]
  },
  {
   "cell_type": "code",
   "execution_count": null,
   "metadata": {},
   "outputs": [],
   "source": [
    "mua = sess.neurons.get_mua()\n",
    "mua.filename = sess.filePrefix.with_suffix(\".mua.npy\")\n",
    "mua.save()"
   ]
  },
  {
   "cell_type": "code",
   "execution_count": null,
   "metadata": {},
   "outputs": [],
   "source": [
    "%matplotlib widget\n",
    "from neuropy import plotting\n",
    "smth_mua = sess.mua.get_smoothed(sigma=0.02)\n",
    "plotting.plot_mua(smth_mua)"
   ]
  },
  {
   "cell_type": "markdown",
   "metadata": {},
   "source": [
    "# Detect epochs\n",
    "Here we will various types of epochs which typical for hippocampal recordings."
   ]
  },
  {
   "cell_type": "markdown",
   "metadata": {},
   "source": [
    "## Artifacts\n",
    "A typical session will have some artifacts that may negatively influence many analyses. Using a simple zscore measure, we can identify epochs where signal is above some threshold."
   ]
  },
  {
   "cell_type": "code",
   "execution_count": 3,
   "metadata": {},
   "outputs": [
    {
     "name": "stdout",
     "output_type": "stream",
     "text": [
      "/data/Clustering/sessions/RatR/Day1NSD/RatR_Day1NSD_2021-05-13_08-41-31.artifact.npy saved\n"
     ]
    },
    {
     "data": {
      "text/plain": [
       "<AxesSubplot:xlabel='Time (s)', ylabel='Absolute zscore'>"
      ]
     },
     "execution_count": 3,
     "metadata": {},
     "output_type": "execute_result"
    },
    {
     "data": {
      "application/vnd.jupyter.widget-view+json": {
       "model_id": "a74c4f7bd1c04a0396f6a03f9dd6c41b",
       "version_major": 2,
       "version_minor": 0
      },
      "image/png": "[encoded data removed]",
      "text/html": [
       "\n",
       "            <div style=\"display: inline-block;\">\n",
       "                <div class=\"jupyter-widgets widget-label\" style=\"text-align: center;\">\n",
       "                    Figure\n",
       "                </div>\n",
       "                <img src='data:image/png;base64,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' width=640.0/>\n",
       "            </div>\n",
       "        "
      ],
      "text/plain": [
       "Canvas(toolbar=Toolbar(toolitems=[('Home', 'Reset original view', 'home', 'home'), ('Back', 'Back to previous …"
      ]
     },
     "metadata": {},
     "output_type": "display_data"
    }
   ],
   "source": [
    "from neuropy.analyses import detect_artifact_epochs\n",
    "from neuropy import plotting\n",
    "\n",
    "signal = sess.eegfile.get_signal([93])\n",
    "artifact_epochs = detect_artifact_epochs(signal, thresh=8)\n",
    "artifact_epochs.save(sess.filePrefix.with_suffix(\".artifact.npy\"))\n",
    "plotting.plot_artifact_epochs(artifact_epochs, signal, downsample_factor=5)"
   ]
  },
  {
   "cell_type": "code",
   "execution_count": 14,
   "metadata": {},
   "outputs": [
    {
     "data": {
      "text/html": [
       "<div>\n",
       "<style scoped>\n",
       "    .dataframe tbody tr th:only-of-type {\n",
       "        vertical-align: middle;\n",
       "    }\n",
       "\n",
       "    .dataframe tbody tr th {\n",
       "        vertical-align: top;\n",
       "    }\n",
       "\n",
       "    .dataframe thead th {\n",
       "        text-align: right;\n",
       "    }\n",
       "</style>\n",
       "<table border=\"1\" class=\"dataframe\">\n",
       "  <thead>\n",
       "    <tr style=\"text-align: right;\">\n",
       "      <th></th>\n",
       "      <th>start</th>\n",
       "      <th>stop</th>\n",
       "      <th>label</th>\n",
       "      <th>duration</th>\n",
       "    </tr>\n",
       "  </thead>\n",
       "  <tbody>\n",
       "    <tr>\n",
       "      <th>0</th>\n",
       "      <td>9549.3280</td>\n",
       "      <td>9552.1864</td>\n",
       "      <td></td>\n",
       "      <td>2.8584</td>\n",
       "    </tr>\n",
       "    <tr>\n",
       "      <th>1</th>\n",
       "      <td>11914.6328</td>\n",
       "      <td>11916.6712</td>\n",
       "      <td></td>\n",
       "      <td>2.0384</td>\n",
       "    </tr>\n",
       "    <tr>\n",
       "      <th>2</th>\n",
       "      <td>24022.8248</td>\n",
       "      <td>26028.9176</td>\n",
       "      <td></td>\n",
       "      <td>2006.0928</td>\n",
       "    </tr>\n",
       "    <tr>\n",
       "      <th>3</th>\n",
       "      <td>42963.7216</td>\n",
       "      <td>42963.7968</td>\n",
       "      <td></td>\n",
       "      <td>0.0752</td>\n",
       "    </tr>\n",
       "    <tr>\n",
       "      <th>4</th>\n",
       "      <td>43170.2008</td>\n",
       "      <td>43171.2624</td>\n",
       "      <td></td>\n",
       "      <td>1.0616</td>\n",
       "    </tr>\n",
       "    <tr>\n",
       "      <th>5</th>\n",
       "      <td>43910.1128</td>\n",
       "      <td>43910.1232</td>\n",
       "      <td></td>\n",
       "      <td>0.0104</td>\n",
       "    </tr>\n",
       "    <tr>\n",
       "      <th>6</th>\n",
       "      <td>44159.0104</td>\n",
       "      <td>44162.9480</td>\n",
       "      <td></td>\n",
       "      <td>3.9376</td>\n",
       "    </tr>\n",
       "    <tr>\n",
       "      <th>7</th>\n",
       "      <td>44276.1848</td>\n",
       "      <td>44276.2224</td>\n",
       "      <td></td>\n",
       "      <td>0.0376</td>\n",
       "    </tr>\n",
       "    <tr>\n",
       "      <th>8</th>\n",
       "      <td>44287.2848</td>\n",
       "      <td>44298.8256</td>\n",
       "      <td></td>\n",
       "      <td>11.5408</td>\n",
       "    </tr>\n",
       "    <tr>\n",
       "      <th>9</th>\n",
       "      <td>44444.4392</td>\n",
       "      <td>44449.9112</td>\n",
       "      <td></td>\n",
       "      <td>5.4720</td>\n",
       "    </tr>\n",
       "    <tr>\n",
       "      <th>10</th>\n",
       "      <td>44470.9512</td>\n",
       "      <td>44471.0064</td>\n",
       "      <td></td>\n",
       "      <td>0.0552</td>\n",
       "    </tr>\n",
       "    <tr>\n",
       "      <th>11</th>\n",
       "      <td>44588.6672</td>\n",
       "      <td>44593.0048</td>\n",
       "      <td></td>\n",
       "      <td>4.3376</td>\n",
       "    </tr>\n",
       "    <tr>\n",
       "      <th>12</th>\n",
       "      <td>44744.7984</td>\n",
       "      <td>44752.7792</td>\n",
       "      <td></td>\n",
       "      <td>7.9808</td>\n",
       "    </tr>\n",
       "    <tr>\n",
       "      <th>13</th>\n",
       "      <td>45597.1360</td>\n",
       "      <td>45597.3832</td>\n",
       "      <td></td>\n",
       "      <td>0.2472</td>\n",
       "    </tr>\n",
       "    <tr>\n",
       "      <th>14</th>\n",
       "      <td>45703.4528</td>\n",
       "      <td>45703.5208</td>\n",
       "      <td></td>\n",
       "      <td>0.0680</td>\n",
       "    </tr>\n",
       "    <tr>\n",
       "      <th>15</th>\n",
       "      <td>46388.4728</td>\n",
       "      <td>46388.6824</td>\n",
       "      <td></td>\n",
       "      <td>0.2096</td>\n",
       "    </tr>\n",
       "  </tbody>\n",
       "</table>\n",
       "</div>"
      ],
      "text/plain": [
       "         start        stop label   duration\n",
       "0    9549.3280   9552.1864           2.8584\n",
       "1   11914.6328  11916.6712           2.0384\n",
       "2   24022.8248  26028.9176        2006.0928\n",
       "3   42963.7216  42963.7968           0.0752\n",
       "4   43170.2008  43171.2624           1.0616\n",
       "5   43910.1128  43910.1232           0.0104\n",
       "6   44159.0104  44162.9480           3.9376\n",
       "7   44276.1848  44276.2224           0.0376\n",
       "8   44287.2848  44298.8256          11.5408\n",
       "9   44444.4392  44449.9112           5.4720\n",
       "10  44470.9512  44471.0064           0.0552\n",
       "11  44588.6672  44593.0048           4.3376\n",
       "12  44744.7984  44752.7792           7.9808\n",
       "13  45597.1360  45597.3832           0.2472\n",
       "14  45703.4528  45703.5208           0.0680\n",
       "15  46388.4728  46388.6824           0.2096"
      ]
     },
     "execution_count": 14,
     "metadata": {},
     "output_type": "execute_result"
    }
   ],
   "source": [
    "artifact_epochs.to_dataframe()"
   ]
  },
  {
   "cell_type": "code",
   "execution_count": 9,
   "metadata": {},
   "outputs": [
    {
     "data": {
      "text/html": [
       "<div>\n",
       "<style scoped>\n",
       "    .dataframe tbody tr th:only-of-type {\n",
       "        vertical-align: middle;\n",
       "    }\n",
       "\n",
       "    .dataframe tbody tr th {\n",
       "        vertical-align: top;\n",
       "    }\n",
       "\n",
       "    .dataframe thead th {\n",
       "        text-align: right;\n",
       "    }\n",
       "</style>\n",
       "<table border=\"1\" class=\"dataframe\">\n",
       "  <thead>\n",
       "    <tr style=\"text-align: right;\">\n",
       "      <th></th>\n",
       "      <th>start</th>\n",
       "      <th>stop</th>\n",
       "      <th>label</th>\n",
       "      <th>duration</th>\n",
       "    </tr>\n",
       "  </thead>\n",
       "  <tbody>\n",
       "    <tr>\n",
       "      <th>0</th>\n",
       "      <td>8450.2480</td>\n",
       "      <td>8450.2592</td>\n",
       "      <td></td>\n",
       "      <td>0.0112</td>\n",
       "    </tr>\n",
       "    <tr>\n",
       "      <th>1</th>\n",
       "      <td>9549.3200</td>\n",
       "      <td>9549.8528</td>\n",
       "      <td></td>\n",
       "      <td>0.5328</td>\n",
       "    </tr>\n",
       "    <tr>\n",
       "      <th>2</th>\n",
       "      <td>11911.7360</td>\n",
       "      <td>11916.6856</td>\n",
       "      <td></td>\n",
       "      <td>4.9496</td>\n",
       "    </tr>\n",
       "    <tr>\n",
       "      <th>3</th>\n",
       "      <td>24022.8144</td>\n",
       "      <td>24494.7560</td>\n",
       "      <td></td>\n",
       "      <td>471.9416</td>\n",
       "    </tr>\n",
       "    <tr>\n",
       "      <th>4</th>\n",
       "      <td>42963.7136</td>\n",
       "      <td>42963.8872</td>\n",
       "      <td></td>\n",
       "      <td>0.1736</td>\n",
       "    </tr>\n",
       "    <tr>\n",
       "      <th>5</th>\n",
       "      <td>43170.1928</td>\n",
       "      <td>43171.3064</td>\n",
       "      <td></td>\n",
       "      <td>1.1136</td>\n",
       "    </tr>\n",
       "    <tr>\n",
       "      <th>6</th>\n",
       "      <td>43910.1056</td>\n",
       "      <td>43910.1544</td>\n",
       "      <td></td>\n",
       "      <td>0.0488</td>\n",
       "    </tr>\n",
       "    <tr>\n",
       "      <th>7</th>\n",
       "      <td>44159.0040</td>\n",
       "      <td>44163.0328</td>\n",
       "      <td></td>\n",
       "      <td>4.0288</td>\n",
       "    </tr>\n",
       "    <tr>\n",
       "      <th>8</th>\n",
       "      <td>44276.1768</td>\n",
       "      <td>44276.2552</td>\n",
       "      <td></td>\n",
       "      <td>0.0784</td>\n",
       "    </tr>\n",
       "    <tr>\n",
       "      <th>9</th>\n",
       "      <td>44287.2768</td>\n",
       "      <td>44300.6312</td>\n",
       "      <td></td>\n",
       "      <td>13.3544</td>\n",
       "    </tr>\n",
       "    <tr>\n",
       "      <th>10</th>\n",
       "      <td>44318.6664</td>\n",
       "      <td>44318.7728</td>\n",
       "      <td></td>\n",
       "      <td>0.1064</td>\n",
       "    </tr>\n",
       "    <tr>\n",
       "      <th>11</th>\n",
       "      <td>44444.4312</td>\n",
       "      <td>44449.9344</td>\n",
       "      <td></td>\n",
       "      <td>5.5032</td>\n",
       "    </tr>\n",
       "    <tr>\n",
       "      <th>12</th>\n",
       "      <td>44470.9424</td>\n",
       "      <td>44471.1608</td>\n",
       "      <td></td>\n",
       "      <td>0.2184</td>\n",
       "    </tr>\n",
       "    <tr>\n",
       "      <th>13</th>\n",
       "      <td>44588.6592</td>\n",
       "      <td>44593.0296</td>\n",
       "      <td></td>\n",
       "      <td>4.3704</td>\n",
       "    </tr>\n",
       "    <tr>\n",
       "      <th>14</th>\n",
       "      <td>44744.3184</td>\n",
       "      <td>44748.4920</td>\n",
       "      <td></td>\n",
       "      <td>4.1736</td>\n",
       "    </tr>\n",
       "    <tr>\n",
       "      <th>15</th>\n",
       "      <td>45597.1280</td>\n",
       "      <td>45597.4688</td>\n",
       "      <td></td>\n",
       "      <td>0.3408</td>\n",
       "    </tr>\n",
       "    <tr>\n",
       "      <th>16</th>\n",
       "      <td>45703.4448</td>\n",
       "      <td>45703.5560</td>\n",
       "      <td></td>\n",
       "      <td>0.1112</td>\n",
       "    </tr>\n",
       "    <tr>\n",
       "      <th>17</th>\n",
       "      <td>46388.4648</td>\n",
       "      <td>46388.6024</td>\n",
       "      <td></td>\n",
       "      <td>0.1376</td>\n",
       "    </tr>\n",
       "  </tbody>\n",
       "</table>\n",
       "</div>"
      ],
      "text/plain": [
       "         start        stop label  duration\n",
       "0    8450.2480   8450.2592          0.0112\n",
       "1    9549.3200   9549.8528          0.5328\n",
       "2   11911.7360  11916.6856          4.9496\n",
       "3   24022.8144  24494.7560        471.9416\n",
       "4   42963.7136  42963.8872          0.1736\n",
       "5   43170.1928  43171.3064          1.1136\n",
       "6   43910.1056  43910.1544          0.0488\n",
       "7   44159.0040  44163.0328          4.0288\n",
       "8   44276.1768  44276.2552          0.0784\n",
       "9   44287.2768  44300.6312         13.3544\n",
       "10  44318.6664  44318.7728          0.1064\n",
       "11  44444.4312  44449.9344          5.5032\n",
       "12  44470.9424  44471.1608          0.2184\n",
       "13  44588.6592  44593.0296          4.3704\n",
       "14  44744.3184  44748.4920          4.1736\n",
       "15  45597.1280  45597.4688          0.3408\n",
       "16  45703.4448  45703.5560          0.1112\n",
       "17  46388.4648  46388.6024          0.1376"
      ]
     },
     "execution_count": 9,
     "metadata": {},
     "output_type": "execute_result"
    }
   ],
   "source": [
    "sess.artifact.to_dataframe()"
   ]
  },
  {
   "cell_type": "markdown",
   "metadata": {},
   "source": [
    "## Ripple\n",
    "To detect ripples one also needs probegroup."
   ]
  },
  {
   "cell_type": "code",
   "execution_count": 8,
   "metadata": {},
   "outputs": [
    {
     "name": "stdout",
     "output_type": "stream",
     "text": [
      "Selected channels for ripples: [29, 32, 62, 87, 104]\n",
      "497972 epochs detected initially\n",
      "190837 epochs reamining after merging close ones\n",
      "13842 epochs reamining after deleting epochs with weaker power\n",
      "11751 epochs reamining after deleting short epochs\n",
      "11363 epochs reamining after deleting very long epochs\n",
      "RatR_Day1NSD_2021-05-13_08-41-31.ripple.npy saved\n"
     ]
    }
   ],
   "source": [
    "from neuropy.analyses import oscillations\n",
    "\n",
    "signal = sess.eegfile.get_signal()\n",
    "ripple_epochs = oscillations.detect_ripple_epochs(signal, sess.probegroup)\n",
    "ripple_epochs.filename = sess.filePrefix.with_suffix(\".ripple.npy\")\n",
    "ripple_epochs.save()"
   ]
  },
  {
   "cell_type": "markdown",
   "metadata": {},
   "source": [
    "## Pbe"
   ]
  },
  {
   "cell_type": "code",
   "execution_count": null,
   "metadata": {},
   "outputs": [],
   "source": [
    "from neuropy.analyses import detect_pbe_epochs\n",
    "\n",
    "pbe = detect_pbe_epochs(smth_mua)\n",
    "pbe.filename = sess.filePrefix.with_suffix(\".pbe\")\n",
    "pbe.save()"
   ]
  },
  {
   "cell_type": "markdown",
   "metadata": {},
   "source": [
    "# Assign position data"
   ]
  },
  {
   "cell_type": "code",
   "execution_count": null,
   "metadata": {},
   "outputs": [],
   "source": [
    "from neuropy.io import OptitrackIO\n",
    "from neuropy.core import Position\n",
    "from pathlib import Path\n",
    "\n",
    "opti_folder = sess.filePrefix.parent / \"position\"\n",
    "opti_data = OptitrackIO(dirname=opti_folder, scale_factor=0.25)"
   ]
  },
  {
   "cell_type": "code",
   "execution_count": null,
   "metadata": {},
   "outputs": [],
   "source": [
    "import pandas as pd\n",
    "from datetime import datetime\n",
    "\n",
    "# ---- startimes of concatenated .dat files\n",
    "tracking_sRate = opti_data.sampling_rate\n",
    "rec_datetime = pd.read_csv(sess.filePrefix.with_suffix(\".datetime.csv\"))\n",
    "data_time = []\n",
    "for i, file_time in enumerate(rec_datetime[\"StartTime\"]):\n",
    "    sync_time = rec_datetime[\"sync_nframes\"][i] / rec_datetime[\"sync_rate\"][i]\n",
    "    tbegin = datetime.strptime(file_time, \"%Y-%m-%d_%H-%M-%S\") + pd.Timedelta(\n",
    "        sync_time, unit=\"sec\"\n",
    "    )\n",
    "    nframes = rec_datetime[\"nFrames\"][i]\n",
    "    duration = pd.Timedelta(nframes / sess.recinfo.dat_sampling_rate, unit=\"sec\")\n",
    "    tend = tbegin + duration\n",
    "    trange = pd.date_range(\n",
    "        start=tbegin,\n",
    "        end=tend,\n",
    "        periods=int(duration.total_seconds() * tracking_sRate),\n",
    "    )\n",
    "    data_time.extend(trange)\n",
    "data_time = pd.to_datetime(data_time)\n",
    "\n",
    "# ------- deleting intervals that were deleted from .dat file after concatenating\n",
    "ndeletedintervals = rec_datetime.count()[\"deletedStart (minutes)\"]\n",
    "for i in range(ndeletedintervals):\n",
    "    tnoisy_begin = data_time[0] + pd.Timedelta(\n",
    "        rec_datetime[\"deletedStart (minutes)\"][i], unit=\"m\"\n",
    "    )\n",
    "    tnoisy_end = data_time[0] + pd.Timedelta(\n",
    "        rec_datetime[\"deletedEnd (minutes)\"][i], unit=\"m\"\n",
    "    )\n",
    "\n",
    "    del_index = np.where((data_time > tnoisy_begin) & (data_time < tnoisy_end))[0]\n",
    "\n",
    "    data_time = np.delete(data_time, del_index)\n",
    "\n",
    "x, y, z = opti_data.get_position_at_datetimes(data_time)\n",
    "traces = np.vstack((z, x, y))\n",
    "\n",
    "position = Position(traces=traces, t_start=0, sampling_rate=opti_data.sampling_rate)\n",
    "position.filename = sess.filePrefix.with_suffix(\".position.npy\")\n",
    "position.save()"
   ]
  },
  {
   "cell_type": "code",
   "execution_count": null,
   "metadata": {},
   "outputs": [],
   "source": [
    "%matplotlib widget\n",
    "import matplotlib.pyplot as plt\n",
    "\n",
    "# plt.plot(opti_data.datetime_array,opti_data.z)\n",
    "plt.plot(position.x,position.y)"
   ]
  },
  {
   "cell_type": "code",
   "execution_count": null,
   "metadata": {},
   "outputs": [],
   "source": [
    "%matplotlib widget\n",
    "from neuropy.utils import signal_process\n",
    "\n",
    "signal = sess.eegfile.get_signal([40])\n",
    "\n",
    "spec = signal_process.spectrogramBands(signal.traces[0])\n"
   ]
  },
  {
   "cell_type": "code",
   "execution_count": null,
   "metadata": {},
   "outputs": [],
   "source": [
    "%matplotlib widget\n",
    "\n",
    "import matplotlib.pyplot as plt\n",
    "\n",
    "plt.plot(spec.time,spec.theta/500)\n",
    "plt.plot(sess.position.time,sess.position.y)\n",
    "plt.plot(sess.position.time[1:],np.diff(sess.position.y)*100)\n",
    "plt.xlim([12500,12600])\n",
    "plt.ylim([-400,400])"
   ]
  },
  {
   "cell_type": "markdown",
   "metadata": {},
   "source": [
    "## Linearize position"
   ]
  },
  {
   "cell_type": "code",
   "execution_count": null,
   "metadata": {},
   "outputs": [],
   "source": [
    "from neuropy.utils import position_util\n",
    "\n",
    "maze = sess.paradigm[\"maze\"]\n",
    "maze_pos = sess.position.time_slice(maze[0], maze[1])\n",
    "linear_pos = position_util.linearize_position(maze_pos)"
   ]
  },
  {
   "cell_type": "code",
   "execution_count": null,
   "metadata": {},
   "outputs": [],
   "source": [
    "%matplotlib widget\n",
    "plt.plot(maze_pos.time,maze_pos.x)\n",
    "plt.plot(linear_pos.time,linear_pos.x)"
   ]
  }
 ],
 "metadata": {
  "interpreter": {
   "hash": "cce1618081139d19eb1ee8d40815d94a2de4f62e1efb20d9406ddb60628c36ae"
  },
  "kernelspec": {
   "display_name": "Python 3.10.4 ('data_analysis')",
   "language": "python",
   "name": "python3"
  },
  "language_info": {
   "codemirror_mode": {
    "name": "ipython",
    "version": 3
   },
   "file_extension": ".py",
   "mimetype": "text/x-python",
   "name": "python",
   "nbconvert_exporter": "python",
   "pygments_lexer": "ipython3",
   "version": "3.10.10"
  },
  "orig_nbformat": 4
 },
 "nbformat": 4,
 "nbformat_minor": 2
}
