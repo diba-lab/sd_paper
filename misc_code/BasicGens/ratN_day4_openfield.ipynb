{
 "cells": [
  {
   "cell_type": "markdown",
   "metadata": {},
   "source": [
    "### RatNDay4 Openfield recording info"
   ]
  },
  {
   "cell_type": "code",
   "execution_count": 1,
   "metadata": {},
   "outputs": [
    {
     "name": "stdout",
     "output_type": "stream",
     "text": [
      "filename: /data/Clustering/sessions/RatN/Day4/RatN_Day4_2019-10-15_11-30-06.xml \n",
      "# channels: 134\n",
      "sampling rate: 30000\n",
      "lfp Srate (downsampled): 1250\n",
      "\n"
     ]
    }
   ],
   "source": [
    "import numpy as np\n",
    "from subjects import of\n",
    "\n",
    "sess = of.ratNday4[0]\n",
    "print(sess.recinfo)"
   ]
  },
  {
   "cell_type": "markdown",
   "metadata": {},
   "source": [
    "### Set probe configuration\n",
    "This animal had 8 shank probe from diagnostic biochips"
   ]
  },
  {
   "cell_type": "code",
   "execution_count": null,
   "metadata": {},
   "outputs": [],
   "source": [
    "from neuropy.core import Shank, Probe, ProbeGroup\n",
    "from neuropy.plotting import plot_probe\n",
    "\n",
    "shanks = []\n",
    "channel_groups = sess.recinfo.channel_groups\n",
    "for i in range(8):\n",
    "\n",
    "    shank = Shank.auto_generate(\n",
    "        columns=2,\n",
    "        contacts_per_column=8,\n",
    "        xpitch=15,\n",
    "        ypitch=20,\n",
    "        y_shift_per_column=[0, -7.5],\n",
    "        channel_id=np.append(\n",
    "            channel_groups[i][::2][::-1], channel_groups[i][1::2][::-1]\n",
    "        ),\n",
    "    )\n",
    "    shanks.append(shank)\n",
    "    shank.set_disconnected_channels(sess.recinfo.skipped_channels)\n",
    "\n",
    "probe1 = Probe(shanks)\n",
    "\n",
    "prbgrp = ProbeGroup()\n",
    "prbgrp.add_probe(probe1)\n",
    "\n",
    "prbgrp.filename = sess.filePrefix.with_suffix(\".probegroup.npy\")\n",
    "prbgrp.save()\n",
    "plot_probe(prbgrp)\n",
    "\n"
   ]
  },
  {
   "cell_type": "markdown",
   "metadata": {},
   "source": [
    "### Experimental Paradigm "
   ]
  },
  {
   "cell_type": "code",
   "execution_count": null,
   "metadata": {},
   "outputs": [],
   "source": [
    "import pandas as pd\n",
    "from neuropy.core import Epoch\n",
    "\n",
    "epochs = pd.DataFrame(\n",
    "    {\n",
    "        \"start\": [0, 7423, 11497,10186],\n",
    "        \"stop\": [7407, 11483, 25987,11483],\n",
    "        \"label\": [\"pre\", \"maze\", \"post\",'sprinkle'],\n",
    "    }\n",
    ")\n",
    "\n",
    "a = Epoch(epochs=epochs)\n",
    "a.filename = sess.filePrefix.with_suffix(\".paradigm.npy\")\n",
    "a.save()\n"
   ]
  },
  {
   "cell_type": "markdown",
   "metadata": {},
   "source": [
    "### Detect epochs\n",
    "Here we will various types of epochs which typical for hippocampal recordings."
   ]
  },
  {
   "cell_type": "markdown",
   "metadata": {},
   "source": [
    "### Artifacts epochs\n",
    "A typical session will have some artifacts that may negatively influence many analyses. Using a simple zscore measure, we can identify epochs where signal is above some threshold."
   ]
  },
  {
   "cell_type": "code",
   "execution_count": null,
   "metadata": {},
   "outputs": [],
   "source": [
    "signal = sess.eegfile.get_signal([1])\n",
    "artifact_epochs = analyses.detect_artifact_epochs(signal, thresh=7)\n",
    "artifact_epochs.filename = sess.filePrefix.with_suffix(\".artifact.npy\")\n",
    "artifact_epochs.save()\n",
    "plotting.plot_artifact_epochs(artifact_epochs, signal)\n"
   ]
  },
  {
   "cell_type": "markdown",
   "metadata": {},
   "source": [
    "## Ripple epochs\n",
    "To detect ripples one also needs probegroup."
   ]
  },
  {
   "cell_type": "code",
   "execution_count": null,
   "metadata": {},
   "outputs": [],
   "source": [
    "from neuropy.analyses import oscillations\n",
    "signal = sess.eegfile.get_signal()\n",
    "ripple_epochs =oscillations.detect_ripple_epochs(signal, sess.probegroup)\n",
    "ripple_epochs.filename = sess.filePrefix.with_suffix('.ripple.npy')\n",
    "ripple_epochs.save()"
   ]
  },
  {
   "cell_type": "code",
   "execution_count": null,
   "metadata": {},
   "outputs": [],
   "source": [
    "signal = sess.eegfile.get_signal(channel_id=[1, 2, 3, 4], t_start=1, t_stop=1.2)\n",
    "plotting.plot_signal_traces(signal)"
   ]
  },
  {
   "cell_type": "markdown",
   "metadata": {},
   "source": [
    "### Neurons\n",
    "- import spiketrains from Phy\n",
    "- estimate neuron types such pyramidal, interneuron etc. "
   ]
  },
  {
   "cell_type": "markdown",
   "metadata": {},
   "source": [
    "## Importing spiketrains from Phy"
   ]
  },
  {
   "cell_type": "code",
   "execution_count": 2,
   "metadata": {},
   "outputs": [
    {
     "name": "stdout",
     "output_type": "stream",
     "text": [
      "/data/Clustering/sessions/RatN/Day4/RatN_Day4_2019-10-15_11-30-06.neurons saved\n"
     ]
    }
   ],
   "source": [
    "from neuropy.io import PhyIO\n",
    "from neuropy.core import Neurons\n",
    "from pathlib import Path\n",
    "import numpy as np\n",
    "\n",
    "cluster_path = Path(\n",
    "    \"/data/Clustering/sessions/RatN/Day4/spykcirc/RatN_Day4_2019-10-15_11-30-06.GUI\"\n",
    ")\n",
    "\n",
    "# chan_grps = sess.recinfo.channel_groups\n",
    "# phy_data = PhyIO(cluster_path)\n",
    "# spiketrains =phy_data.spiketrains\n",
    "# peak_chans = phy_data.peak_channels\n",
    "# waveforms = phy_data.peak_waveforms\n",
    "# shank_id = sess.probegroup.get_shank_id_for_channels(peak_chans)\n",
    "\n",
    "# neurons = Neurons(\n",
    "#     np.array(spiketrains, dtype=object),\n",
    "#     t_stop=sess.eegfile.duration,\n",
    "#     sampling_rate=phy_data.sampling_rate,\n",
    "#     peak_channels=peak_chans,\n",
    "#     waveforms=np.array(waveforms,dtype='object'),\n",
    "#     shank_ids=np.array(shank_id).astype(int),\n",
    "#     metadata={'cluster_path':cluster_path}\n",
    "# )\n",
    "\n",
    "chan_grps = sess.recinfo.channel_groups\n",
    "phy_data = PhyIO(cluster_path)\n",
    "spiketrains = phy_data.spiketrains\n",
    "peak_chans = phy_data.peak_channels\n",
    "waveforms = phy_data.waveforms\n",
    "shank_id = sess.probegroup.get_shank_id_for_channels(peak_chans)\n",
    "\n",
    "neuron_type_id = phy_data.cluster_info.q.values\n",
    "neuron_type = np.ones(len(neuron_type_id), dtype=\"U5\")\n",
    "neuron_type[neuron_type_id < 4] = \"pyr\"\n",
    "neuron_type[neuron_type_id == 6] = \"mua\"\n",
    "neuron_type[neuron_type_id == 8] = \"inter\"\n",
    "\n",
    "\n",
    "neurons = Neurons(\n",
    "    np.array(spiketrains, dtype=object),\n",
    "    t_stop=sess.eegfile.duration,\n",
    "    sampling_rate=phy_data.sampling_rate,\n",
    "    peak_channels=peak_chans,\n",
    "    waveforms=np.array(waveforms, dtype=\"object\"),\n",
    "    shank_ids=np.array(shank_id).astype(int),\n",
    "    neuron_type=neuron_type,\n",
    ")\n",
    "\n",
    "neurons.save(sess.filePrefix.with_suffix(\".neurons\"))\n"
   ]
  },
  {
   "cell_type": "markdown",
   "metadata": {},
   "source": [
    "## Estimate neuron type"
   ]
  },
  {
   "cell_type": "code",
   "execution_count": null,
   "metadata": {},
   "outputs": [],
   "source": [
    "%matplotlib widget\n",
    "from neuropy.utils import neurons_util\n",
    "neuron_type = neurons_util.estimate_neuron_type(sess.neurons)\n",
    "sess.neurons.neuron_type = neuron_type"
   ]
  },
  {
   "cell_type": "code",
   "execution_count": null,
   "metadata": {},
   "outputs": [],
   "source": [
    "neurons.filename = sess.filePrefix.with_suffix('.neurons')\n",
    "neurons.save()"
   ]
  },
  {
   "cell_type": "code",
   "execution_count": null,
   "metadata": {},
   "outputs": [],
   "source": [
    "%matplotlib widget\n",
    "import matplotlib.pyplot as plt\n",
    "from neuropy.plotting import plot_raster\n",
    "\n",
    "plot_raster(neurons,color='jet',add_vert_jitter=True)"
   ]
  },
  {
   "cell_type": "markdown",
   "metadata": {},
   "source": [
    "## BinnedSpiketrain and Mua objects using Neurons"
   ]
  },
  {
   "cell_type": "code",
   "execution_count": null,
   "metadata": {},
   "outputs": [],
   "source": [
    "mua =sess.neurons.get_mua()\n",
    "mua.filename = sess.filePrefix.with_suffix(\".mua.npy\")\n",
    "mua.save()   \n"
   ]
  },
  {
   "cell_type": "code",
   "execution_count": null,
   "metadata": {},
   "outputs": [],
   "source": [
    "%matplotlib widget\n",
    "from neuropy import plotting\n",
    "smth_mua = sess.mua.get_smoothed(sigma=0.02)\n",
    "plotting.plot_mua(smth_mua)"
   ]
  },
  {
   "cell_type": "code",
   "execution_count": null,
   "metadata": {},
   "outputs": [],
   "source": [
    "from neuropy.analyses import detect_pbe_epochs\n",
    "\n",
    "pbe = detect_pbe_epochs(smth_mua)\n",
    "pbe.filename = sess.filePrefix.with_suffix('.pbe')\n",
    "pbe.save()\n"
   ]
  },
  {
   "cell_type": "markdown",
   "metadata": {},
   "source": [
    "### Assign position data"
   ]
  },
  {
   "cell_type": "code",
   "execution_count": 4,
   "metadata": {},
   "outputs": [
    {
     "name": "stdout",
     "output_type": "stream",
     "text": [
      "/data/Clustering/sessions/RatN/Day4/position/Take 2019-10-15 11.30.03 AM.csv\n",
      "/data/Clustering/sessions/RatN/Day4/position/Take 2019-10-15 01.34.34 PM.csv\n",
      "/data/Clustering/sessions/RatN/Day4/position/Take 2019-10-15 02.46.47 PM.csv\n"
     ]
    }
   ],
   "source": [
    "from neuropy.io import OptitrackIO\n",
    "from neuropy.core import Position\n",
    "from pathlib import Path\n",
    "\n",
    "opti_folder = sess.filePrefix.parent / 'position'\n",
    "opti_data = OptitrackIO(dirname=opti_folder,scale_factor=0.25)"
   ]
  },
  {
   "cell_type": "code",
   "execution_count": 6,
   "metadata": {},
   "outputs": [
    {
     "name": "stdout",
     "output_type": "stream",
     "text": [
      "2019-10-15 11:30:07.200000\n",
      "2019-10-15 14:46:50\n",
      "/data/Clustering/sessions/RatN/Day4/RatN_Day4_2019-10-15_11-30-06.position.npy saved\n"
     ]
    }
   ],
   "source": [
    "import pandas as pd\n",
    "from datetime import datetime\n",
    "\n",
    "# ------- maze align corection ---------\n",
    "t_error = [1.2,0]\n",
    "\n",
    "# ---- startimes of concatenated .dat files\n",
    "tracking_sRate = opti_data.sampling_rate\n",
    "rec_datetime = pd.read_csv(sess.filePrefix.with_suffix(\".datetime.csv\"))\n",
    "data_time = []\n",
    "for i, file_time in enumerate(rec_datetime[\"StartTime\"]):\n",
    "    tbegin = datetime.strptime(file_time, \"%Y-%m-%d_%H-%M-%S\") + pd.Timedelta(\n",
    "        t_error[i], unit=\"sec\"\n",
    "    )\n",
    "    print(tbegin)\n",
    "    nframes = rec_datetime[\"nFrames\"][i]\n",
    "    duration = pd.Timedelta(nframes / sess.recinfo.dat_sampling_rate, unit=\"sec\")\n",
    "    tend = tbegin + duration\n",
    "    trange = pd.date_range(\n",
    "        start=tbegin,\n",
    "        end=tend,\n",
    "        periods=int(duration.total_seconds() * tracking_sRate),\n",
    "    )\n",
    "    data_time.extend(trange)\n",
    "data_time = pd.to_datetime(data_time)\n",
    "\n",
    "x, y, z = opti_data.get_position_at_datetimes(data_time)\n",
    "traces = np.vstack((z, x, y))\n",
    "\n",
    "position = Position(traces=traces, t_start=0, sampling_rate=opti_data.sampling_rate)\n",
    "position.save(sess.filePrefix.with_suffix(\".position.npy\"))\n"
   ]
  },
  {
   "cell_type": "code",
   "execution_count": null,
   "metadata": {},
   "outputs": [],
   "source": [
    "import matplotlib.pyplot as plt\n",
    "\n",
    "# plt.plot(opti_data.datetime_array,opti_data.z)\n",
    "plt.plot(position.x,position.y)"
   ]
  },
  {
   "cell_type": "code",
   "execution_count": null,
   "metadata": {},
   "outputs": [],
   "source": [
    "%matplotlib widget\n",
    "from neuropy.utils import signal_process\n",
    "\n",
    "signal = sess.eegfile.get_signal([40])\n",
    "\n",
    "spec = signal_process.spectrogramBands(signal.traces[0])\n"
   ]
  },
  {
   "cell_type": "code",
   "execution_count": null,
   "metadata": {},
   "outputs": [],
   "source": [
    "%matplotlib widget\n",
    "\n",
    "import matplotlib.pyplot as plt\n",
    "\n",
    "plt.plot(spec.time,spec.theta/500)\n",
    "plt.plot(sess.position.time,sess.position.y)\n",
    "plt.plot(sess.position.time[1:],np.diff(sess.position.y)*100)\n",
    "plt.xlim([12500,12600])\n",
    "plt.ylim([-400,400])"
   ]
  },
  {
   "cell_type": "markdown",
   "metadata": {},
   "source": [
    "## Linearize position"
   ]
  },
  {
   "cell_type": "code",
   "execution_count": null,
   "metadata": {},
   "outputs": [],
   "source": [
    "from neuropy.utils import position_util\n",
    "\n",
    "maze = sess.paradigm['maze']\n",
    "maze_pos = sess.position.time_slice(maze[0],maze[1])\n",
    "linear_pos = position_util.linearize_position(maze_pos)"
   ]
  },
  {
   "cell_type": "code",
   "execution_count": null,
   "metadata": {},
   "outputs": [],
   "source": [
    "linear_pos.y"
   ]
  },
  {
   "cell_type": "code",
   "execution_count": null,
   "metadata": {},
   "outputs": [],
   "source": [
    "%matplotlib widget\n",
    "plt.plot(maze_pos.time,maze_pos.x)\n",
    "plt.plot(linear_pos.time,linear_pos.x)"
   ]
  },
  {
   "cell_type": "code",
   "execution_count": null,
   "metadata": {},
   "outputs": [],
   "source": [
    "import numpy as np\n",
    "\n",
    "a = np.ones(5)\n",
    "np.vstack((a,a,a)).shape"
   ]
  },
  {
   "cell_type": "code",
   "execution_count": null,
   "metadata": {},
   "outputs": [],
   "source": [
    "from neuropy.core import animal\n",
    "\n",
    "d = {'name':'hello','tag':'ser'}\n",
    "\n",
    "an = animal.Animal(d) \n"
   ]
  }
 ],
 "metadata": {
  "kernelspec": {
   "display_name": "Python 3.10.5 ('data_analysis')",
   "language": "python",
   "name": "python3"
  },
  "language_info": {
   "codemirror_mode": {
    "name": "ipython",
    "version": 3
   },
   "file_extension": ".py",
   "mimetype": "text/x-python",
   "name": "python",
   "nbconvert_exporter": "python",
   "pygments_lexer": "ipython3",
   "version": "3.10.5"
  },
  "orig_nbformat": 4,
  "vscode": {
   "interpreter": {
    "hash": "cce1618081139d19eb1ee8d40815d94a2de4f62e1efb20d9406ddb60628c36ae"
   }
  }
 },
 "nbformat": 4,
 "nbformat_minor": 2
}
